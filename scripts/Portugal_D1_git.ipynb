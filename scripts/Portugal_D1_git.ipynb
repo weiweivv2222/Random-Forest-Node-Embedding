{
 "cells": [
  {
   "cell_type": "code",
   "execution_count": 1,
   "metadata": {},
   "outputs": [],
   "source": [
    "from sklearn import datasets\n",
    "import pandas as pd\n",
    "import numpy as np"
   ]
  },
  {
   "cell_type": "markdown",
   "metadata": {},
   "source": [
    "# Default Bank Data."
   ]
  },
  {
   "cell_type": "code",
   "execution_count": 2,
   "metadata": {},
   "outputs": [
    {
     "data": {
      "text/html": [
       "<div>\n",
       "<style scoped>\n",
       "    .dataframe tbody tr th:only-of-type {\n",
       "        vertical-align: middle;\n",
       "    }\n",
       "\n",
       "    .dataframe tbody tr th {\n",
       "        vertical-align: top;\n",
       "    }\n",
       "\n",
       "    .dataframe thead th {\n",
       "        text-align: right;\n",
       "    }\n",
       "</style>\n",
       "<table border=\"1\" class=\"dataframe\">\n",
       "  <thead>\n",
       "    <tr style=\"text-align: right;\">\n",
       "      <th></th>\n",
       "      <th>age</th>\n",
       "      <th>job</th>\n",
       "      <th>marital</th>\n",
       "      <th>education</th>\n",
       "      <th>default</th>\n",
       "      <th>balance</th>\n",
       "      <th>housing</th>\n",
       "      <th>loan</th>\n",
       "      <th>contact</th>\n",
       "      <th>day</th>\n",
       "      <th>month</th>\n",
       "      <th>duration</th>\n",
       "      <th>campaign</th>\n",
       "      <th>pdays</th>\n",
       "      <th>previous</th>\n",
       "      <th>poutcome</th>\n",
       "      <th>y</th>\n",
       "    </tr>\n",
       "  </thead>\n",
       "  <tbody>\n",
       "    <tr>\n",
       "      <th>0</th>\n",
       "      <td>58</td>\n",
       "      <td>management</td>\n",
       "      <td>married</td>\n",
       "      <td>tertiary</td>\n",
       "      <td>no</td>\n",
       "      <td>2143</td>\n",
       "      <td>yes</td>\n",
       "      <td>no</td>\n",
       "      <td>unknown</td>\n",
       "      <td>5</td>\n",
       "      <td>may</td>\n",
       "      <td>261</td>\n",
       "      <td>1</td>\n",
       "      <td>-1</td>\n",
       "      <td>0</td>\n",
       "      <td>unknown</td>\n",
       "      <td>no</td>\n",
       "    </tr>\n",
       "    <tr>\n",
       "      <th>1</th>\n",
       "      <td>44</td>\n",
       "      <td>technician</td>\n",
       "      <td>single</td>\n",
       "      <td>secondary</td>\n",
       "      <td>no</td>\n",
       "      <td>29</td>\n",
       "      <td>yes</td>\n",
       "      <td>no</td>\n",
       "      <td>unknown</td>\n",
       "      <td>5</td>\n",
       "      <td>may</td>\n",
       "      <td>151</td>\n",
       "      <td>1</td>\n",
       "      <td>-1</td>\n",
       "      <td>0</td>\n",
       "      <td>unknown</td>\n",
       "      <td>no</td>\n",
       "    </tr>\n",
       "    <tr>\n",
       "      <th>2</th>\n",
       "      <td>33</td>\n",
       "      <td>entrepreneur</td>\n",
       "      <td>married</td>\n",
       "      <td>secondary</td>\n",
       "      <td>no</td>\n",
       "      <td>2</td>\n",
       "      <td>yes</td>\n",
       "      <td>yes</td>\n",
       "      <td>unknown</td>\n",
       "      <td>5</td>\n",
       "      <td>may</td>\n",
       "      <td>76</td>\n",
       "      <td>1</td>\n",
       "      <td>-1</td>\n",
       "      <td>0</td>\n",
       "      <td>unknown</td>\n",
       "      <td>no</td>\n",
       "    </tr>\n",
       "    <tr>\n",
       "      <th>3</th>\n",
       "      <td>47</td>\n",
       "      <td>blue-collar</td>\n",
       "      <td>married</td>\n",
       "      <td>unknown</td>\n",
       "      <td>no</td>\n",
       "      <td>1506</td>\n",
       "      <td>yes</td>\n",
       "      <td>no</td>\n",
       "      <td>unknown</td>\n",
       "      <td>5</td>\n",
       "      <td>may</td>\n",
       "      <td>92</td>\n",
       "      <td>1</td>\n",
       "      <td>-1</td>\n",
       "      <td>0</td>\n",
       "      <td>unknown</td>\n",
       "      <td>no</td>\n",
       "    </tr>\n",
       "    <tr>\n",
       "      <th>4</th>\n",
       "      <td>33</td>\n",
       "      <td>unknown</td>\n",
       "      <td>single</td>\n",
       "      <td>unknown</td>\n",
       "      <td>no</td>\n",
       "      <td>1</td>\n",
       "      <td>no</td>\n",
       "      <td>no</td>\n",
       "      <td>unknown</td>\n",
       "      <td>5</td>\n",
       "      <td>may</td>\n",
       "      <td>198</td>\n",
       "      <td>1</td>\n",
       "      <td>-1</td>\n",
       "      <td>0</td>\n",
       "      <td>unknown</td>\n",
       "      <td>no</td>\n",
       "    </tr>\n",
       "  </tbody>\n",
       "</table>\n",
       "</div>"
      ],
      "text/plain": [
       "   age           job  marital  education default  balance housing loan  \\\n",
       "0   58    management  married   tertiary      no     2143     yes   no   \n",
       "1   44    technician   single  secondary      no       29     yes   no   \n",
       "2   33  entrepreneur  married  secondary      no        2     yes  yes   \n",
       "3   47   blue-collar  married    unknown      no     1506     yes   no   \n",
       "4   33       unknown   single    unknown      no        1      no   no   \n",
       "\n",
       "   contact  day month  duration  campaign  pdays  previous poutcome   y  \n",
       "0  unknown    5   may       261         1     -1         0  unknown  no  \n",
       "1  unknown    5   may       151         1     -1         0  unknown  no  \n",
       "2  unknown    5   may        76         1     -1         0  unknown  no  \n",
       "3  unknown    5   may        92         1     -1         0  unknown  no  \n",
       "4  unknown    5   may       198         1     -1         0  unknown  no  "
      ]
     },
     "execution_count": 2,
     "metadata": {},
     "output_type": "execute_result"
    }
   ],
   "source": [
    "data_path='C:/Users/xg16060/OneDrive - APG/dev_data/interestProfile/'\n",
    "bank_data = pd.read_csv(data_path+'bank-full.csv', sep=';')\n",
    "\n",
    "#bank_data= bank_data.iloc[:,1:]\n",
    "bank_data.head()\n",
    "\n"
   ]
  },
  {
   "cell_type": "code",
   "execution_count": 3,
   "metadata": {},
   "outputs": [],
   "source": [
    "bank_data = bank_data.dropna()"
   ]
  },
  {
   "cell_type": "code",
   "execution_count": 4,
   "metadata": {},
   "outputs": [
    {
     "data": {
      "text/html": [
       "<div>\n",
       "<style scoped>\n",
       "    .dataframe tbody tr th:only-of-type {\n",
       "        vertical-align: middle;\n",
       "    }\n",
       "\n",
       "    .dataframe tbody tr th {\n",
       "        vertical-align: top;\n",
       "    }\n",
       "\n",
       "    .dataframe thead th {\n",
       "        text-align: right;\n",
       "    }\n",
       "</style>\n",
       "<table border=\"1\" class=\"dataframe\">\n",
       "  <thead>\n",
       "    <tr style=\"text-align: right;\">\n",
       "      <th></th>\n",
       "      <th>age</th>\n",
       "      <th>job</th>\n",
       "      <th>marital</th>\n",
       "      <th>education</th>\n",
       "      <th>default</th>\n",
       "      <th>balance</th>\n",
       "      <th>housing</th>\n",
       "      <th>loan</th>\n",
       "      <th>contact</th>\n",
       "      <th>day</th>\n",
       "      <th>month</th>\n",
       "      <th>duration</th>\n",
       "      <th>campaign</th>\n",
       "      <th>pdays</th>\n",
       "      <th>previous</th>\n",
       "      <th>poutcome</th>\n",
       "      <th>y</th>\n",
       "    </tr>\n",
       "  </thead>\n",
       "  <tbody>\n",
       "    <tr>\n",
       "      <th>0</th>\n",
       "      <td>58</td>\n",
       "      <td>management</td>\n",
       "      <td>married</td>\n",
       "      <td>tertiary</td>\n",
       "      <td>no</td>\n",
       "      <td>2143</td>\n",
       "      <td>yes</td>\n",
       "      <td>no</td>\n",
       "      <td>unknown</td>\n",
       "      <td>5</td>\n",
       "      <td>may</td>\n",
       "      <td>261</td>\n",
       "      <td>1</td>\n",
       "      <td>-1</td>\n",
       "      <td>0</td>\n",
       "      <td>unknown</td>\n",
       "      <td>no</td>\n",
       "    </tr>\n",
       "    <tr>\n",
       "      <th>1</th>\n",
       "      <td>44</td>\n",
       "      <td>technician</td>\n",
       "      <td>single</td>\n",
       "      <td>secondary</td>\n",
       "      <td>no</td>\n",
       "      <td>29</td>\n",
       "      <td>yes</td>\n",
       "      <td>no</td>\n",
       "      <td>unknown</td>\n",
       "      <td>5</td>\n",
       "      <td>may</td>\n",
       "      <td>151</td>\n",
       "      <td>1</td>\n",
       "      <td>-1</td>\n",
       "      <td>0</td>\n",
       "      <td>unknown</td>\n",
       "      <td>no</td>\n",
       "    </tr>\n",
       "    <tr>\n",
       "      <th>2</th>\n",
       "      <td>33</td>\n",
       "      <td>entrepreneur</td>\n",
       "      <td>married</td>\n",
       "      <td>secondary</td>\n",
       "      <td>no</td>\n",
       "      <td>2</td>\n",
       "      <td>yes</td>\n",
       "      <td>yes</td>\n",
       "      <td>unknown</td>\n",
       "      <td>5</td>\n",
       "      <td>may</td>\n",
       "      <td>76</td>\n",
       "      <td>1</td>\n",
       "      <td>-1</td>\n",
       "      <td>0</td>\n",
       "      <td>unknown</td>\n",
       "      <td>no</td>\n",
       "    </tr>\n",
       "    <tr>\n",
       "      <th>3</th>\n",
       "      <td>47</td>\n",
       "      <td>blue-collar</td>\n",
       "      <td>married</td>\n",
       "      <td>unknown</td>\n",
       "      <td>no</td>\n",
       "      <td>1506</td>\n",
       "      <td>yes</td>\n",
       "      <td>no</td>\n",
       "      <td>unknown</td>\n",
       "      <td>5</td>\n",
       "      <td>may</td>\n",
       "      <td>92</td>\n",
       "      <td>1</td>\n",
       "      <td>-1</td>\n",
       "      <td>0</td>\n",
       "      <td>unknown</td>\n",
       "      <td>no</td>\n",
       "    </tr>\n",
       "    <tr>\n",
       "      <th>4</th>\n",
       "      <td>33</td>\n",
       "      <td>unknown</td>\n",
       "      <td>single</td>\n",
       "      <td>unknown</td>\n",
       "      <td>no</td>\n",
       "      <td>1</td>\n",
       "      <td>no</td>\n",
       "      <td>no</td>\n",
       "      <td>unknown</td>\n",
       "      <td>5</td>\n",
       "      <td>may</td>\n",
       "      <td>198</td>\n",
       "      <td>1</td>\n",
       "      <td>-1</td>\n",
       "      <td>0</td>\n",
       "      <td>unknown</td>\n",
       "      <td>no</td>\n",
       "    </tr>\n",
       "    <tr>\n",
       "      <th>...</th>\n",
       "      <td>...</td>\n",
       "      <td>...</td>\n",
       "      <td>...</td>\n",
       "      <td>...</td>\n",
       "      <td>...</td>\n",
       "      <td>...</td>\n",
       "      <td>...</td>\n",
       "      <td>...</td>\n",
       "      <td>...</td>\n",
       "      <td>...</td>\n",
       "      <td>...</td>\n",
       "      <td>...</td>\n",
       "      <td>...</td>\n",
       "      <td>...</td>\n",
       "      <td>...</td>\n",
       "      <td>...</td>\n",
       "      <td>...</td>\n",
       "    </tr>\n",
       "    <tr>\n",
       "      <th>45206</th>\n",
       "      <td>51</td>\n",
       "      <td>technician</td>\n",
       "      <td>married</td>\n",
       "      <td>tertiary</td>\n",
       "      <td>no</td>\n",
       "      <td>825</td>\n",
       "      <td>no</td>\n",
       "      <td>no</td>\n",
       "      <td>cellular</td>\n",
       "      <td>17</td>\n",
       "      <td>nov</td>\n",
       "      <td>977</td>\n",
       "      <td>3</td>\n",
       "      <td>-1</td>\n",
       "      <td>0</td>\n",
       "      <td>unknown</td>\n",
       "      <td>yes</td>\n",
       "    </tr>\n",
       "    <tr>\n",
       "      <th>45207</th>\n",
       "      <td>71</td>\n",
       "      <td>retired</td>\n",
       "      <td>divorced</td>\n",
       "      <td>primary</td>\n",
       "      <td>no</td>\n",
       "      <td>1729</td>\n",
       "      <td>no</td>\n",
       "      <td>no</td>\n",
       "      <td>cellular</td>\n",
       "      <td>17</td>\n",
       "      <td>nov</td>\n",
       "      <td>456</td>\n",
       "      <td>2</td>\n",
       "      <td>-1</td>\n",
       "      <td>0</td>\n",
       "      <td>unknown</td>\n",
       "      <td>yes</td>\n",
       "    </tr>\n",
       "    <tr>\n",
       "      <th>45208</th>\n",
       "      <td>72</td>\n",
       "      <td>retired</td>\n",
       "      <td>married</td>\n",
       "      <td>secondary</td>\n",
       "      <td>no</td>\n",
       "      <td>5715</td>\n",
       "      <td>no</td>\n",
       "      <td>no</td>\n",
       "      <td>cellular</td>\n",
       "      <td>17</td>\n",
       "      <td>nov</td>\n",
       "      <td>1127</td>\n",
       "      <td>5</td>\n",
       "      <td>184</td>\n",
       "      <td>3</td>\n",
       "      <td>success</td>\n",
       "      <td>yes</td>\n",
       "    </tr>\n",
       "    <tr>\n",
       "      <th>45209</th>\n",
       "      <td>57</td>\n",
       "      <td>blue-collar</td>\n",
       "      <td>married</td>\n",
       "      <td>secondary</td>\n",
       "      <td>no</td>\n",
       "      <td>668</td>\n",
       "      <td>no</td>\n",
       "      <td>no</td>\n",
       "      <td>telephone</td>\n",
       "      <td>17</td>\n",
       "      <td>nov</td>\n",
       "      <td>508</td>\n",
       "      <td>4</td>\n",
       "      <td>-1</td>\n",
       "      <td>0</td>\n",
       "      <td>unknown</td>\n",
       "      <td>no</td>\n",
       "    </tr>\n",
       "    <tr>\n",
       "      <th>45210</th>\n",
       "      <td>37</td>\n",
       "      <td>entrepreneur</td>\n",
       "      <td>married</td>\n",
       "      <td>secondary</td>\n",
       "      <td>no</td>\n",
       "      <td>2971</td>\n",
       "      <td>no</td>\n",
       "      <td>no</td>\n",
       "      <td>cellular</td>\n",
       "      <td>17</td>\n",
       "      <td>nov</td>\n",
       "      <td>361</td>\n",
       "      <td>2</td>\n",
       "      <td>188</td>\n",
       "      <td>11</td>\n",
       "      <td>other</td>\n",
       "      <td>no</td>\n",
       "    </tr>\n",
       "  </tbody>\n",
       "</table>\n",
       "<p>45211 rows × 17 columns</p>\n",
       "</div>"
      ],
      "text/plain": [
       "       age           job   marital  education default  balance housing loan  \\\n",
       "0       58    management   married   tertiary      no     2143     yes   no   \n",
       "1       44    technician    single  secondary      no       29     yes   no   \n",
       "2       33  entrepreneur   married  secondary      no        2     yes  yes   \n",
       "3       47   blue-collar   married    unknown      no     1506     yes   no   \n",
       "4       33       unknown    single    unknown      no        1      no   no   \n",
       "...    ...           ...       ...        ...     ...      ...     ...  ...   \n",
       "45206   51    technician   married   tertiary      no      825      no   no   \n",
       "45207   71       retired  divorced    primary      no     1729      no   no   \n",
       "45208   72       retired   married  secondary      no     5715      no   no   \n",
       "45209   57   blue-collar   married  secondary      no      668      no   no   \n",
       "45210   37  entrepreneur   married  secondary      no     2971      no   no   \n",
       "\n",
       "         contact  day month  duration  campaign  pdays  previous poutcome    y  \n",
       "0        unknown    5   may       261         1     -1         0  unknown   no  \n",
       "1        unknown    5   may       151         1     -1         0  unknown   no  \n",
       "2        unknown    5   may        76         1     -1         0  unknown   no  \n",
       "3        unknown    5   may        92         1     -1         0  unknown   no  \n",
       "4        unknown    5   may       198         1     -1         0  unknown   no  \n",
       "...          ...  ...   ...       ...       ...    ...       ...      ...  ...  \n",
       "45206   cellular   17   nov       977         3     -1         0  unknown  yes  \n",
       "45207   cellular   17   nov       456         2     -1         0  unknown  yes  \n",
       "45208   cellular   17   nov      1127         5    184         3  success  yes  \n",
       "45209  telephone   17   nov       508         4     -1         0  unknown   no  \n",
       "45210   cellular   17   nov       361         2    188        11    other   no  \n",
       "\n",
       "[45211 rows x 17 columns]"
      ]
     },
     "execution_count": 4,
     "metadata": {},
     "output_type": "execute_result"
    }
   ],
   "source": [
    "bank_data.fillna('unknown', inplace=True)\n",
    "bank_data\n"
   ]
  },
  {
   "cell_type": "code",
   "execution_count": 5,
   "metadata": {},
   "outputs": [
    {
     "name": "stderr",
     "output_type": "stream",
     "text": [
      "C:\\Users\\xg16060\\Anaconda3\\envs\\cat_embedding\\lib\\site-packages\\pandas\\core\\ops\\__init__.py:1115: FutureWarning: elementwise comparison failed; returning scalar instead, but in the future will perform elementwise comparison\n",
      "  result = method(y)\n"
     ]
    }
   ],
   "source": [
    "import numpy as np\n",
    "\n",
    "#bank_data = pd.read_csv('./adult.data', sep=',' ,header=None) CENSUS DATA\n",
    "\n",
    "y = bank_data.iloc[:,-1]\n",
    "\n",
    "#student_data = student_data.iloc[:,0:-1]\n",
    "bank_data = bank_data.apply(lambda x: x.str.strip() if x.dtype == \"object\" else x)\n",
    "bank_data.replace('?',np.nan,inplace=True)\n",
    "\n",
    "bank_data.dropna(inplace=True)\n",
    "bank_data= bank_data[(bank_data=='?')==False]\n",
    "\n"
   ]
  },
  {
   "cell_type": "code",
   "execution_count": 6,
   "metadata": {},
   "outputs": [
    {
     "data": {
      "text/plain": [
       "no     39922\n",
       "yes     5289\n",
       "Name: y, dtype: int64"
      ]
     },
     "execution_count": 6,
     "metadata": {},
     "output_type": "execute_result"
    }
   ],
   "source": [
    "y.value_counts()"
   ]
  },
  {
   "cell_type": "code",
   "execution_count": 7,
   "metadata": {},
   "outputs": [
    {
     "name": "stdout",
     "output_type": "stream",
     "text": [
      "Index(['job', 'marital', 'education', 'default', 'housing', 'loan', 'contact',\n",
      "       'month', 'poutcome', 'y'],\n",
      "      dtype='object')\n"
     ]
    },
    {
     "data": {
      "text/plain": [
       "age           int64\n",
       "job          object\n",
       "marital      object\n",
       "education    object\n",
       "default      object\n",
       "balance       int64\n",
       "housing      object\n",
       "loan         object\n",
       "contact      object\n",
       "day           int64\n",
       "month        object\n",
       "duration      int64\n",
       "campaign      int64\n",
       "pdays         int64\n",
       "previous      int64\n",
       "poutcome     object\n",
       "y            object\n",
       "dtype: object"
      ]
     },
     "execution_count": 7,
     "metadata": {},
     "output_type": "execute_result"
    }
   ],
   "source": [
    "print(bank_data.columns[bank_data.dtypes=='object'])\n",
    "\n",
    "bank_data.dtypes"
   ]
  },
  {
   "cell_type": "code",
   "execution_count": 8,
   "metadata": {},
   "outputs": [
    {
     "data": {
      "text/plain": [
       "['job',\n",
       " 'marital',\n",
       " 'education',\n",
       " 'default',\n",
       " 'housing',\n",
       " 'loan',\n",
       " 'contact',\n",
       " 'month',\n",
       " 'poutcome',\n",
       " 'y']"
      ]
     },
     "execution_count": 8,
     "metadata": {},
     "output_type": "execute_result"
    }
   ],
   "source": [
    "#del bank_data['Churn']\n",
    "\n",
    "object_columns = list(bank_data.columns[bank_data.dtypes=='object'])\n",
    "\n",
    "object_columns\n",
    "\n"
   ]
  },
  {
   "cell_type": "code",
   "execution_count": 9,
   "metadata": {},
   "outputs": [
    {
     "data": {
      "text/plain": [
       "0        0\n",
       "1        0\n",
       "2        0\n",
       "3        0\n",
       "4        0\n",
       "        ..\n",
       "45206    1\n",
       "45207    1\n",
       "45208    1\n",
       "45209    0\n",
       "45210    0\n",
       "Name: y, Length: 45211, dtype: int64"
      ]
     },
     "execution_count": 9,
     "metadata": {},
     "output_type": "execute_result"
    }
   ],
   "source": [
    "(y=='yes').apply(int)"
   ]
  },
  {
   "cell_type": "code",
   "execution_count": 10,
   "metadata": {},
   "outputs": [],
   "source": [
    "import numpy as np\n",
    "\n",
    "from sklearn.model_selection import train_test_split\n",
    "from sklearn.datasets import *\n",
    "from sklearn.tree import DecisionTreeClassifier\n",
    "# import labelencoder\n",
    "from sklearn.preprocessing import LabelEncoder, StandardScaler# instantiate labelencoder object\n",
    "from sklearn.ensemble import RandomTreesEmbedding, RandomForestClassifier\n",
    "\n",
    "\n",
    "le = LabelEncoder()\n",
    "\n",
    "\n",
    "\n",
    "from sklearn.preprocessing import LabelEncoder\n",
    "le_dict = {col: LabelEncoder() for col in object_columns }\n",
    "\n",
    "for col in object_columns:\n",
    "    bank_data[col] = le_dict[col].fit_transform(bank_data[col])\n",
    "    \n",
    "    \n",
    "\n",
    "\n",
    "#iris = load_breast_cancer()\n",
    "#X = bank_data.iloc[:,1:-1]\n",
    "X = bank_data.iloc[:,0:-1]\n",
    "\n",
    "#y = bank_data.iloc[:,-1]#(student_data['target']=='ad.').apply(int)\n",
    "y = (y=='yes').apply(int) #(student_data['target']=='ad.').apply(int)\n",
    "\n",
    "#y = (bank_data.iloc[:,-1]=='yes').apply(int) #(student_data['target']=='ad.').apply(int)\n",
    "\n",
    "\n",
    "#label encoding.\n",
    "\n",
    "#le_dict[col].transform(df_another[col])\n",
    "\n",
    "\n",
    "#X = pd.get_dummies(X, prefix_sep='_', drop_first=True) #One hot encoding, assuming complet knowledge of vocabulary\n",
    "\n",
    "X_train, X_test, y_train, y_test = train_test_split(X, y, random_state=0 ,test_size=0.4 )\n",
    "\n",
    "X_val, X_test, y_val, y_test = train_test_split(X_test, y_test, random_state=0 ,test_size=0.8 )"
   ]
  },
  {
   "cell_type": "code",
   "execution_count": 11,
   "metadata": {},
   "outputs": [
    {
     "data": {
      "text/html": [
       "<div>\n",
       "<style scoped>\n",
       "    .dataframe tbody tr th:only-of-type {\n",
       "        vertical-align: middle;\n",
       "    }\n",
       "\n",
       "    .dataframe tbody tr th {\n",
       "        vertical-align: top;\n",
       "    }\n",
       "\n",
       "    .dataframe thead th {\n",
       "        text-align: right;\n",
       "    }\n",
       "</style>\n",
       "<table border=\"1\" class=\"dataframe\">\n",
       "  <thead>\n",
       "    <tr style=\"text-align: right;\">\n",
       "      <th></th>\n",
       "      <th>age</th>\n",
       "      <th>job</th>\n",
       "      <th>marital</th>\n",
       "      <th>education</th>\n",
       "      <th>default</th>\n",
       "      <th>balance</th>\n",
       "      <th>housing</th>\n",
       "      <th>loan</th>\n",
       "      <th>contact</th>\n",
       "      <th>day</th>\n",
       "      <th>month</th>\n",
       "      <th>duration</th>\n",
       "      <th>campaign</th>\n",
       "      <th>pdays</th>\n",
       "      <th>previous</th>\n",
       "      <th>poutcome</th>\n",
       "    </tr>\n",
       "  </thead>\n",
       "  <tbody>\n",
       "    <tr>\n",
       "      <th>30937</th>\n",
       "      <td>27</td>\n",
       "      <td>10</td>\n",
       "      <td>2</td>\n",
       "      <td>1</td>\n",
       "      <td>0</td>\n",
       "      <td>154</td>\n",
       "      <td>0</td>\n",
       "      <td>0</td>\n",
       "      <td>1</td>\n",
       "      <td>9</td>\n",
       "      <td>3</td>\n",
       "      <td>24</td>\n",
       "      <td>5</td>\n",
       "      <td>-1</td>\n",
       "      <td>0</td>\n",
       "      <td>3</td>\n",
       "    </tr>\n",
       "    <tr>\n",
       "      <th>27505</th>\n",
       "      <td>53</td>\n",
       "      <td>6</td>\n",
       "      <td>2</td>\n",
       "      <td>1</td>\n",
       "      <td>0</td>\n",
       "      <td>731</td>\n",
       "      <td>0</td>\n",
       "      <td>0</td>\n",
       "      <td>0</td>\n",
       "      <td>21</td>\n",
       "      <td>9</td>\n",
       "      <td>251</td>\n",
       "      <td>2</td>\n",
       "      <td>-1</td>\n",
       "      <td>0</td>\n",
       "      <td>3</td>\n",
       "    </tr>\n",
       "    <tr>\n",
       "      <th>24902</th>\n",
       "      <td>41</td>\n",
       "      <td>7</td>\n",
       "      <td>1</td>\n",
       "      <td>1</td>\n",
       "      <td>0</td>\n",
       "      <td>446</td>\n",
       "      <td>1</td>\n",
       "      <td>0</td>\n",
       "      <td>0</td>\n",
       "      <td>18</td>\n",
       "      <td>9</td>\n",
       "      <td>296</td>\n",
       "      <td>1</td>\n",
       "      <td>186</td>\n",
       "      <td>1</td>\n",
       "      <td>2</td>\n",
       "    </tr>\n",
       "    <tr>\n",
       "      <th>4249</th>\n",
       "      <td>36</td>\n",
       "      <td>0</td>\n",
       "      <td>2</td>\n",
       "      <td>1</td>\n",
       "      <td>0</td>\n",
       "      <td>3457</td>\n",
       "      <td>0</td>\n",
       "      <td>0</td>\n",
       "      <td>2</td>\n",
       "      <td>19</td>\n",
       "      <td>8</td>\n",
       "      <td>103</td>\n",
       "      <td>4</td>\n",
       "      <td>-1</td>\n",
       "      <td>0</td>\n",
       "      <td>3</td>\n",
       "    </tr>\n",
       "    <tr>\n",
       "      <th>31466</th>\n",
       "      <td>59</td>\n",
       "      <td>5</td>\n",
       "      <td>1</td>\n",
       "      <td>1</td>\n",
       "      <td>0</td>\n",
       "      <td>1035</td>\n",
       "      <td>1</td>\n",
       "      <td>1</td>\n",
       "      <td>0</td>\n",
       "      <td>1</td>\n",
       "      <td>0</td>\n",
       "      <td>126</td>\n",
       "      <td>2</td>\n",
       "      <td>239</td>\n",
       "      <td>1</td>\n",
       "      <td>0</td>\n",
       "    </tr>\n",
       "    <tr>\n",
       "      <th>...</th>\n",
       "      <td>...</td>\n",
       "      <td>...</td>\n",
       "      <td>...</td>\n",
       "      <td>...</td>\n",
       "      <td>...</td>\n",
       "      <td>...</td>\n",
       "      <td>...</td>\n",
       "      <td>...</td>\n",
       "      <td>...</td>\n",
       "      <td>...</td>\n",
       "      <td>...</td>\n",
       "      <td>...</td>\n",
       "      <td>...</td>\n",
       "      <td>...</td>\n",
       "      <td>...</td>\n",
       "      <td>...</td>\n",
       "    </tr>\n",
       "    <tr>\n",
       "      <th>23175</th>\n",
       "      <td>55</td>\n",
       "      <td>9</td>\n",
       "      <td>0</td>\n",
       "      <td>2</td>\n",
       "      <td>0</td>\n",
       "      <td>56</td>\n",
       "      <td>0</td>\n",
       "      <td>0</td>\n",
       "      <td>0</td>\n",
       "      <td>27</td>\n",
       "      <td>1</td>\n",
       "      <td>94</td>\n",
       "      <td>6</td>\n",
       "      <td>-1</td>\n",
       "      <td>0</td>\n",
       "      <td>3</td>\n",
       "    </tr>\n",
       "    <tr>\n",
       "      <th>18095</th>\n",
       "      <td>39</td>\n",
       "      <td>7</td>\n",
       "      <td>1</td>\n",
       "      <td>1</td>\n",
       "      <td>0</td>\n",
       "      <td>1116</td>\n",
       "      <td>1</td>\n",
       "      <td>0</td>\n",
       "      <td>0</td>\n",
       "      <td>30</td>\n",
       "      <td>5</td>\n",
       "      <td>486</td>\n",
       "      <td>2</td>\n",
       "      <td>-1</td>\n",
       "      <td>0</td>\n",
       "      <td>3</td>\n",
       "    </tr>\n",
       "    <tr>\n",
       "      <th>19738</th>\n",
       "      <td>32</td>\n",
       "      <td>4</td>\n",
       "      <td>1</td>\n",
       "      <td>2</td>\n",
       "      <td>0</td>\n",
       "      <td>183</td>\n",
       "      <td>1</td>\n",
       "      <td>0</td>\n",
       "      <td>0</td>\n",
       "      <td>7</td>\n",
       "      <td>1</td>\n",
       "      <td>112</td>\n",
       "      <td>3</td>\n",
       "      <td>-1</td>\n",
       "      <td>0</td>\n",
       "      <td>3</td>\n",
       "    </tr>\n",
       "    <tr>\n",
       "      <th>3937</th>\n",
       "      <td>45</td>\n",
       "      <td>1</td>\n",
       "      <td>1</td>\n",
       "      <td>0</td>\n",
       "      <td>0</td>\n",
       "      <td>71</td>\n",
       "      <td>1</td>\n",
       "      <td>0</td>\n",
       "      <td>2</td>\n",
       "      <td>16</td>\n",
       "      <td>8</td>\n",
       "      <td>355</td>\n",
       "      <td>2</td>\n",
       "      <td>-1</td>\n",
       "      <td>0</td>\n",
       "      <td>3</td>\n",
       "    </tr>\n",
       "    <tr>\n",
       "      <th>43469</th>\n",
       "      <td>25</td>\n",
       "      <td>1</td>\n",
       "      <td>2</td>\n",
       "      <td>0</td>\n",
       "      <td>0</td>\n",
       "      <td>4599</td>\n",
       "      <td>0</td>\n",
       "      <td>0</td>\n",
       "      <td>1</td>\n",
       "      <td>13</td>\n",
       "      <td>0</td>\n",
       "      <td>120</td>\n",
       "      <td>6</td>\n",
       "      <td>-1</td>\n",
       "      <td>0</td>\n",
       "      <td>3</td>\n",
       "    </tr>\n",
       "  </tbody>\n",
       "</table>\n",
       "<p>3617 rows × 16 columns</p>\n",
       "</div>"
      ],
      "text/plain": [
       "       age  job  marital  education  default  balance  housing  loan  contact  \\\n",
       "30937   27   10        2          1        0      154        0     0        1   \n",
       "27505   53    6        2          1        0      731        0     0        0   \n",
       "24902   41    7        1          1        0      446        1     0        0   \n",
       "4249    36    0        2          1        0     3457        0     0        2   \n",
       "31466   59    5        1          1        0     1035        1     1        0   \n",
       "...    ...  ...      ...        ...      ...      ...      ...   ...      ...   \n",
       "23175   55    9        0          2        0       56        0     0        0   \n",
       "18095   39    7        1          1        0     1116        1     0        0   \n",
       "19738   32    4        1          2        0      183        1     0        0   \n",
       "3937    45    1        1          0        0       71        1     0        2   \n",
       "43469   25    1        2          0        0     4599        0     0        1   \n",
       "\n",
       "       day  month  duration  campaign  pdays  previous  poutcome  \n",
       "30937    9      3        24         5     -1         0         3  \n",
       "27505   21      9       251         2     -1         0         3  \n",
       "24902   18      9       296         1    186         1         2  \n",
       "4249    19      8       103         4     -1         0         3  \n",
       "31466    1      0       126         2    239         1         0  \n",
       "...    ...    ...       ...       ...    ...       ...       ...  \n",
       "23175   27      1        94         6     -1         0         3  \n",
       "18095   30      5       486         2     -1         0         3  \n",
       "19738    7      1       112         3     -1         0         3  \n",
       "3937    16      8       355         2     -1         0         3  \n",
       "43469   13      0       120         6     -1         0         3  \n",
       "\n",
       "[3617 rows x 16 columns]"
      ]
     },
     "execution_count": 11,
     "metadata": {},
     "output_type": "execute_result"
    }
   ],
   "source": [
    "X_train\n",
    "X_test\n",
    "X_val"
   ]
  },
  {
   "cell_type": "code",
   "execution_count": 12,
   "metadata": {},
   "outputs": [
    {
     "data": {
      "text/plain": [
       "16"
      ]
     },
     "execution_count": 12,
     "metadata": {},
     "output_type": "execute_result"
    }
   ],
   "source": [
    "features = np.shape(X_train)[1]\n",
    "features"
   ]
  },
  {
   "cell_type": "code",
   "execution_count": 28,
   "metadata": {},
   "outputs": [
    {
     "data": {
      "text/plain": [
       "0    39922\n",
       "1     5289\n",
       "Name: y, dtype: int64"
      ]
     },
     "execution_count": 28,
     "metadata": {},
     "output_type": "execute_result"
    }
   ],
   "source": [
    "y.value_counts()"
   ]
  },
  {
   "cell_type": "markdown",
   "metadata": {},
   "source": [
    "# Visualization of Decision Tree"
   ]
  },
  {
   "cell_type": "markdown",
   "metadata": {},
   "source": [
    "# GRID SEARCHES with Node Transformer"
   ]
  },
  {
   "cell_type": "code",
   "execution_count": 15,
   "metadata": {},
   "outputs": [],
   "source": [
    "%load_ext autoreload\n",
    "%autoreload 2"
   ]
  },
  {
   "cell_type": "code",
   "execution_count": 16,
   "metadata": {},
   "outputs": [],
   "source": [
    "seq_number = 50\n",
    "depth = 5\n",
    "dimension = 10"
   ]
  },
  {
   "cell_type": "code",
   "execution_count": 17,
   "metadata": {},
   "outputs": [
    {
     "data": {
      "application/vnd.jupyter.widget-view+json": {
       "model_id": "a77f373a8d5642889545ab8de1236407",
       "version_major": 2,
       "version_minor": 0
      },
      "text/plain": [
       "  0%|          | 0/50 [00:00<?, ?it/s]"
      ]
     },
     "metadata": {},
     "output_type": "display_data"
    },
    {
     "data": {
      "application/vnd.jupyter.widget-view+json": {
       "model_id": "a5199115860f43e68ba70b1973e96ddb",
       "version_major": 2,
       "version_minor": 0
      },
      "text/plain": [
       "  0%|          | 0/50 [00:00<?, ?it/s]"
      ]
     },
     "metadata": {},
     "output_type": "display_data"
    },
    {
     "data": {
      "application/vnd.jupyter.widget-view+json": {
       "model_id": "3286fa1302c244c594fee17a6f297e9c",
       "version_major": 2,
       "version_minor": 0
      },
      "text/plain": [
       "Computing transition probabilities:   0%|          | 0/59 [00:00<?, ?it/s]"
      ]
     },
     "metadata": {},
     "output_type": "display_data"
    },
    {
     "name": "stderr",
     "output_type": "stream",
     "text": [
      "\n",
      "Generating walks (CPU: 1):   0%|                                                                | 0/50 [00:00<?, ?it/s]\u001b[A\n",
      "Generating walks (CPU: 1):  14%|███████▊                                                | 7/50 [00:00<00:00, 67.96it/s]\u001b[A\n",
      "Generating walks (CPU: 1):  28%|███████████████▍                                       | 14/50 [00:00<00:00, 51.05it/s]\u001b[A\n",
      "Generating walks (CPU: 1):  40%|██████████████████████                                 | 20/50 [00:00<00:00, 48.71it/s]\u001b[A\n",
      "Generating walks (CPU: 1):  52%|████████████████████████████▌                          | 26/50 [00:00<00:00, 50.74it/s]\u001b[A\n",
      "Generating walks (CPU: 1):  64%|███████████████████████████████████▏                   | 32/50 [00:00<00:00, 44.48it/s]\u001b[A\n",
      "Generating walks (CPU: 1):  74%|████████████████████████████████████████▋              | 37/50 [00:00<00:00, 43.51it/s]\u001b[A\n",
      "Generating walks (CPU: 1):  84%|██████████████████████████████████████████████▏        | 42/50 [00:00<00:00, 41.48it/s]\u001b[A\n",
      "Generating walks (CPU: 1): 100%|███████████████████████████████████████████████████████| 50/50 [00:01<00:00, 43.59it/s]\u001b[A\n"
     ]
    },
    {
     "data": {
      "application/vnd.jupyter.widget-view+json": {
       "model_id": "31a1140fdd1d417a9773d53a9e2f863d",
       "version_major": 2,
       "version_minor": 0
      },
      "text/plain": [
       "Computing transition probabilities:   0%|          | 0/57 [00:00<?, ?it/s]"
      ]
     },
     "metadata": {},
     "output_type": "display_data"
    },
    {
     "name": "stderr",
     "output_type": "stream",
     "text": [
      "\n",
      "Generating walks (CPU: 1):   0%|                                                                | 0/50 [00:00<?, ?it/s]\u001b[A\n",
      "Generating walks (CPU: 1):  14%|███████▊                                                | 7/50 [00:00<00:00, 60.87it/s]\u001b[A\n",
      "Generating walks (CPU: 1):  28%|███████████████▍                                       | 14/50 [00:00<00:00, 46.21it/s]\u001b[A\n",
      "Generating walks (CPU: 1):  38%|████████████████████▉                                  | 19/50 [00:00<00:00, 42.83it/s]\u001b[A\n",
      "Generating walks (CPU: 1):  50%|███████████████████████████▌                           | 25/50 [00:00<00:00, 46.20it/s]\u001b[A\n",
      "Generating walks (CPU: 1):  60%|█████████████████████████████████                      | 30/50 [00:00<00:00, 45.30it/s]\u001b[A\n",
      "Generating walks (CPU: 1):  70%|██████████████████████████████████████▌                | 35/50 [00:00<00:00, 43.62it/s]\u001b[A\n",
      "Generating walks (CPU: 1):  80%|████████████████████████████████████████████           | 40/50 [00:00<00:00, 45.03it/s]\u001b[A\n",
      "Generating walks (CPU: 1): 100%|███████████████████████████████████████████████████████| 50/50 [00:01<00:00, 45.83it/s]\u001b[A\n"
     ]
    },
    {
     "data": {
      "application/vnd.jupyter.widget-view+json": {
       "model_id": "21e8061a531141968ca93f23c4c987a9",
       "version_major": 2,
       "version_minor": 0
      },
      "text/plain": [
       "Computing transition probabilities:   0%|          | 0/63 [00:00<?, ?it/s]"
      ]
     },
     "metadata": {},
     "output_type": "display_data"
    },
    {
     "name": "stderr",
     "output_type": "stream",
     "text": [
      "\n",
      "Generating walks (CPU: 1):   0%|                                                                | 0/50 [00:00<?, ?it/s]\u001b[A\n",
      "Generating walks (CPU: 1):  10%|█████▌                                                  | 5/50 [00:00<00:00, 49.02it/s]\u001b[A\n",
      "Generating walks (CPU: 1):  20%|███████████                                            | 10/50 [00:00<00:00, 49.30it/s]\u001b[A\n",
      "Generating walks (CPU: 1):  30%|████████████████▌                                      | 15/50 [00:00<00:00, 47.06it/s]\u001b[A\n",
      "Generating walks (CPU: 1):  40%|██████████████████████                                 | 20/50 [00:00<00:00, 46.41it/s]\u001b[A\n",
      "Generating walks (CPU: 1):  50%|███████████████████████████▌                           | 25/50 [00:00<00:00, 47.65it/s]\u001b[A\n",
      "Generating walks (CPU: 1):  60%|█████████████████████████████████                      | 30/50 [00:00<00:00, 45.29it/s]\u001b[A\n",
      "Generating walks (CPU: 1):  70%|██████████████████████████████████████▌                | 35/50 [00:00<00:00, 42.69it/s]\u001b[A\n",
      "Generating walks (CPU: 1):  80%|████████████████████████████████████████████           | 40/50 [00:00<00:00, 41.46it/s]\u001b[A\n",
      "Generating walks (CPU: 1):  90%|█████████████████████████████████████████████████▌     | 45/50 [00:01<00:00, 42.75it/s]\u001b[A\n",
      "Generating walks (CPU: 1): 100%|███████████████████████████████████████████████████████| 50/50 [00:01<00:00, 39.84it/s]\u001b[A\n"
     ]
    },
    {
     "data": {
      "application/vnd.jupyter.widget-view+json": {
       "model_id": "c6a75a71742a4341852d3e17ad5e1bcf",
       "version_major": 2,
       "version_minor": 0
      },
      "text/plain": [
       "Computing transition probabilities:   0%|          | 0/61 [00:00<?, ?it/s]"
      ]
     },
     "metadata": {},
     "output_type": "display_data"
    },
    {
     "name": "stderr",
     "output_type": "stream",
     "text": [
      "\n",
      "Generating walks (CPU: 1):   0%|                                                                | 0/50 [00:00<?, ?it/s]\u001b[A\n",
      "Generating walks (CPU: 1):  12%|██████▋                                                 | 6/50 [00:00<00:00, 53.10it/s]\u001b[A\n",
      "Generating walks (CPU: 1):  24%|█████████████▏                                         | 12/50 [00:00<00:00, 54.23it/s]\u001b[A\n",
      "Generating walks (CPU: 1):  36%|███████████████████▊                                   | 18/50 [00:00<00:00, 53.71it/s]\u001b[A\n",
      "Generating walks (CPU: 1):  48%|██████████████████████████▍                            | 24/50 [00:00<00:00, 48.67it/s]\u001b[A\n",
      "Generating walks (CPU: 1):  58%|███████████████████████████████▉                       | 29/50 [00:00<00:00, 45.65it/s]\u001b[A\n",
      "Generating walks (CPU: 1):  68%|█████████████████████████████████████▍                 | 34/50 [00:00<00:00, 39.59it/s]\u001b[A\n",
      "Generating walks (CPU: 1):  78%|██████████████████████████████████████████▉            | 39/50 [00:00<00:00, 39.52it/s]\u001b[A\n",
      "Generating walks (CPU: 1):  88%|████████████████████████████████████████████████▍      | 44/50 [00:01<00:00, 40.66it/s]\u001b[A\n",
      "Generating walks (CPU: 1): 100%|███████████████████████████████████████████████████████| 50/50 [00:01<00:00, 42.02it/s]\u001b[A\n"
     ]
    },
    {
     "data": {
      "application/vnd.jupyter.widget-view+json": {
       "model_id": "9875826f1bf646cd95118e0b24a81b09",
       "version_major": 2,
       "version_minor": 0
      },
      "text/plain": [
       "Computing transition probabilities:   0%|          | 0/57 [00:00<?, ?it/s]"
      ]
     },
     "metadata": {},
     "output_type": "display_data"
    },
    {
     "name": "stderr",
     "output_type": "stream",
     "text": [
      "\n",
      "Generating walks (CPU: 1):   0%|                                                                | 0/50 [00:00<?, ?it/s]\u001b[A\n",
      "Generating walks (CPU: 1):  12%|██████▋                                                 | 6/50 [00:00<00:00, 52.40it/s]\u001b[A\n",
      "Generating walks (CPU: 1):  24%|█████████████▏                                         | 12/50 [00:00<00:00, 47.85it/s]\u001b[A\n",
      "Generating walks (CPU: 1):  34%|██████████████████▋                                    | 17/50 [00:00<00:00, 42.42it/s]\u001b[A\n",
      "Generating walks (CPU: 1):  44%|████████████████████████▏                              | 22/50 [00:00<00:00, 36.84it/s]\u001b[A\n",
      "Generating walks (CPU: 1):  52%|████████████████████████████▌                          | 26/50 [00:00<00:00, 35.63it/s]\u001b[A\n",
      "Generating walks (CPU: 1):  62%|██████████████████████████████████                     | 31/50 [00:00<00:00, 39.36it/s]\u001b[A\n",
      "Generating walks (CPU: 1):  72%|███████████████████████████████████████▌               | 36/50 [00:00<00:00, 35.39it/s]\u001b[A\n",
      "Generating walks (CPU: 1):  80%|████████████████████████████████████████████           | 40/50 [00:01<00:00, 36.55it/s]\u001b[A\n",
      "Generating walks (CPU: 1):  88%|████████████████████████████████████████████████▍      | 44/50 [00:01<00:00, 35.40it/s]\u001b[A\n",
      "Generating walks (CPU: 1): 100%|███████████████████████████████████████████████████████| 50/50 [00:01<00:00, 36.72it/s]\u001b[A\n"
     ]
    },
    {
     "data": {
      "application/vnd.jupyter.widget-view+json": {
       "model_id": "2c80bf94d04449b2b7f724c1ca645287",
       "version_major": 2,
       "version_minor": 0
      },
      "text/plain": [
       "Computing transition probabilities:   0%|          | 0/63 [00:00<?, ?it/s]"
      ]
     },
     "metadata": {},
     "output_type": "display_data"
    },
    {
     "name": "stderr",
     "output_type": "stream",
     "text": [
      "\n",
      "Generating walks (CPU: 1):   0%|                                                                | 0/50 [00:00<?, ?it/s]\u001b[A\n",
      "Generating walks (CPU: 1):  10%|█████▌                                                  | 5/50 [00:00<00:00, 45.87it/s]\u001b[A\n",
      "Generating walks (CPU: 1):  20%|███████████                                            | 10/50 [00:00<00:00, 45.14it/s]\u001b[A\n",
      "Generating walks (CPU: 1):  30%|████████████████▌                                      | 15/50 [00:00<00:00, 43.65it/s]\u001b[A\n",
      "Generating walks (CPU: 1):  40%|██████████████████████                                 | 20/50 [00:00<00:00, 43.14it/s]\u001b[A\n",
      "Generating walks (CPU: 1):  50%|███████████████████████████▌                           | 25/50 [00:00<00:00, 38.35it/s]\u001b[A\n",
      "Generating walks (CPU: 1):  60%|█████████████████████████████████                      | 30/50 [00:00<00:00, 39.74it/s]\u001b[A\n",
      "Generating walks (CPU: 1):  70%|██████████████████████████████████████▌                | 35/50 [00:00<00:00, 36.76it/s]\u001b[A\n",
      "Generating walks (CPU: 1):  80%|████████████████████████████████████████████           | 40/50 [00:01<00:00, 38.95it/s]\u001b[A\n",
      "Generating walks (CPU: 1):  88%|████████████████████████████████████████████████▍      | 44/50 [00:01<00:00, 38.22it/s]\u001b[A\n",
      "Generating walks (CPU: 1): 100%|███████████████████████████████████████████████████████| 50/50 [00:01<00:00, 38.08it/s]\u001b[A\n"
     ]
    },
    {
     "data": {
      "application/vnd.jupyter.widget-view+json": {
       "model_id": "bdebef4ba41c402f985c28230c65fab8",
       "version_major": 2,
       "version_minor": 0
      },
      "text/plain": [
       "Computing transition probabilities:   0%|          | 0/53 [00:00<?, ?it/s]"
      ]
     },
     "metadata": {},
     "output_type": "display_data"
    },
    {
     "name": "stderr",
     "output_type": "stream",
     "text": [
      "\n",
      "Generating walks (CPU: 1):   0%|                                                                | 0/50 [00:00<?, ?it/s]\u001b[A\n",
      "Generating walks (CPU: 1):  14%|███████▊                                                | 7/50 [00:00<00:00, 61.40it/s]\u001b[A\n",
      "Generating walks (CPU: 1):  28%|███████████████▍                                       | 14/50 [00:00<00:00, 42.84it/s]\u001b[A\n",
      "Generating walks (CPU: 1):  38%|████████████████████▉                                  | 19/50 [00:00<00:00, 44.22it/s]\u001b[A\n",
      "Generating walks (CPU: 1):  48%|██████████████████████████▍                            | 24/50 [00:00<00:00, 44.23it/s]\u001b[A\n",
      "Generating walks (CPU: 1):  62%|██████████████████████████████████                     | 31/50 [00:00<00:00, 49.68it/s]\u001b[A\n",
      "Generating walks (CPU: 1):  74%|████████████████████████████████████████▋              | 37/50 [00:00<00:00, 52.41it/s]\u001b[A\n",
      "Generating walks (CPU: 1):  86%|███████████████████████████████████████████████▎       | 43/50 [00:00<00:00, 48.76it/s]\u001b[A\n",
      "Generating walks (CPU: 1): 100%|███████████████████████████████████████████████████████| 50/50 [00:01<00:00, 41.63it/s]\u001b[A\n"
     ]
    },
    {
     "data": {
      "application/vnd.jupyter.widget-view+json": {
       "model_id": "dfed1ec0a3774a838b28b089b856fee7",
       "version_major": 2,
       "version_minor": 0
      },
      "text/plain": [
       "Computing transition probabilities:   0%|          | 0/55 [00:00<?, ?it/s]"
      ]
     },
     "metadata": {},
     "output_type": "display_data"
    },
    {
     "name": "stderr",
     "output_type": "stream",
     "text": [
      "\n",
      "Generating walks (CPU: 1):   0%|                                                                | 0/50 [00:00<?, ?it/s]\u001b[A\n",
      "Generating walks (CPU: 1):  14%|███████▊                                                | 7/50 [00:00<00:00, 64.22it/s]\u001b[A\n",
      "Generating walks (CPU: 1):  28%|███████████████▍                                       | 14/50 [00:00<00:00, 60.01it/s]\u001b[A\n",
      "Generating walks (CPU: 1):  42%|███████████████████████                                | 21/50 [00:00<00:00, 54.21it/s]\u001b[A\n",
      "Generating walks (CPU: 1):  54%|█████████████████████████████▋                         | 27/50 [00:00<00:00, 45.84it/s]\u001b[A\n",
      "Generating walks (CPU: 1):  66%|████████████████████████████████████▎                  | 33/50 [00:00<00:00, 48.86it/s]\u001b[A\n",
      "Generating walks (CPU: 1):  78%|██████████████████████████████████████████▉            | 39/50 [00:00<00:00, 50.03it/s]\u001b[A\n",
      "Generating walks (CPU: 1): 100%|███████████████████████████████████████████████████████| 50/50 [00:00<00:00, 51.44it/s]\u001b[A\n"
     ]
    },
    {
     "data": {
      "application/vnd.jupyter.widget-view+json": {
       "model_id": "c923551a3b484f29badda1eaf9ca796c",
       "version_major": 2,
       "version_minor": 0
      },
      "text/plain": [
       "Computing transition probabilities:   0%|          | 0/59 [00:00<?, ?it/s]"
      ]
     },
     "metadata": {},
     "output_type": "display_data"
    },
    {
     "name": "stderr",
     "output_type": "stream",
     "text": [
      "\n",
      "Generating walks (CPU: 1):   0%|                                                                | 0/50 [00:00<?, ?it/s]\u001b[A\n",
      "Generating walks (CPU: 1):  12%|██████▋                                                 | 6/50 [00:00<00:00, 55.05it/s]\u001b[A\n",
      "Generating walks (CPU: 1):  24%|█████████████▏                                         | 12/50 [00:00<00:00, 50.42it/s]\u001b[A\n",
      "Generating walks (CPU: 1):  36%|███████████████████▊                                   | 18/50 [00:00<00:00, 50.42it/s]\u001b[A\n",
      "Generating walks (CPU: 1):  48%|██████████████████████████▍                            | 24/50 [00:00<00:00, 48.34it/s]\u001b[A\n",
      "Generating walks (CPU: 1):  60%|█████████████████████████████████                      | 30/50 [00:00<00:00, 49.51it/s]\u001b[A\n",
      "Generating walks (CPU: 1):  70%|██████████████████████████████████████▌                | 35/50 [00:00<00:00, 46.34it/s]\u001b[A\n",
      "Generating walks (CPU: 1):  82%|█████████████████████████████████████████████          | 41/50 [00:00<00:00, 41.59it/s]\u001b[A\n",
      "Generating walks (CPU: 1): 100%|███████████████████████████████████████████████████████| 50/50 [00:01<00:00, 44.41it/s]\u001b[A\n"
     ]
    },
    {
     "data": {
      "application/vnd.jupyter.widget-view+json": {
       "model_id": "4c20b9f0336042079f0f3015bb392677",
       "version_major": 2,
       "version_minor": 0
      },
      "text/plain": [
       "Computing transition probabilities:   0%|          | 0/61 [00:00<?, ?it/s]"
      ]
     },
     "metadata": {},
     "output_type": "display_data"
    },
    {
     "name": "stderr",
     "output_type": "stream",
     "text": [
      "\n",
      "Generating walks (CPU: 1):   0%|                                                                | 0/50 [00:00<?, ?it/s]\u001b[A\n",
      "Generating walks (CPU: 1):  12%|██████▋                                                 | 6/50 [00:00<00:00, 55.05it/s]\u001b[A\n",
      "Generating walks (CPU: 1):  24%|█████████████▏                                         | 12/50 [00:00<00:00, 46.09it/s]\u001b[A\n",
      "Generating walks (CPU: 1):  36%|███████████████████▊                                   | 18/50 [00:00<00:00, 47.80it/s]\u001b[A\n",
      "Generating walks (CPU: 1):  46%|█████████████████████████▎                             | 23/50 [00:00<00:00, 45.44it/s]\u001b[A\n",
      "Generating walks (CPU: 1):  60%|█████████████████████████████████                      | 30/50 [00:00<00:00, 50.46it/s]\u001b[A\n",
      "Generating walks (CPU: 1):  72%|███████████████████████████████████████▌               | 36/50 [00:00<00:00, 52.83it/s]\u001b[A\n",
      "Generating walks (CPU: 1):  84%|██████████████████████████████████████████████▏        | 42/50 [00:00<00:00, 51.45it/s]\u001b[A\n",
      "Generating walks (CPU: 1): 100%|███████████████████████████████████████████████████████| 50/50 [00:01<00:00, 48.08it/s]\u001b[A\n"
     ]
    },
    {
     "data": {
      "application/vnd.jupyter.widget-view+json": {
       "model_id": "c9500080bca641a38ecab6554dc99a64",
       "version_major": 2,
       "version_minor": 0
      },
      "text/plain": [
       "Computing transition probabilities:   0%|          | 0/57 [00:00<?, ?it/s]"
      ]
     },
     "metadata": {},
     "output_type": "display_data"
    },
    {
     "name": "stderr",
     "output_type": "stream",
     "text": [
      "\n",
      "Generating walks (CPU: 1):   0%|                                                                | 0/50 [00:00<?, ?it/s]\u001b[A\n",
      "Generating walks (CPU: 1):  14%|███████▊                                                | 7/50 [00:00<00:00, 54.26it/s]\u001b[A\n",
      "Generating walks (CPU: 1):  26%|██████████████▎                                        | 13/50 [00:00<00:00, 56.10it/s]\u001b[A\n",
      "Generating walks (CPU: 1):  38%|████████████████████▉                                  | 19/50 [00:00<00:00, 56.79it/s]\u001b[A\n",
      "Generating walks (CPU: 1):  50%|███████████████████████████▌                           | 25/50 [00:00<00:00, 52.15it/s]\u001b[A\n",
      "Generating walks (CPU: 1):  62%|██████████████████████████████████                     | 31/50 [00:00<00:00, 53.14it/s]\u001b[A\n",
      "Generating walks (CPU: 1):  74%|████████████████████████████████████████▋              | 37/50 [00:00<00:00, 52.35it/s]\u001b[A\n",
      "Generating walks (CPU: 1):  86%|███████████████████████████████████████████████▎       | 43/50 [00:00<00:00, 52.14it/s]\u001b[A\n",
      "Generating walks (CPU: 1): 100%|███████████████████████████████████████████████████████| 50/50 [00:00<00:00, 51.39it/s]\u001b[A\n"
     ]
    },
    {
     "data": {
      "application/vnd.jupyter.widget-view+json": {
       "model_id": "ad877ad8d9384c8195865e42fd28fb5a",
       "version_major": 2,
       "version_minor": 0
      },
      "text/plain": [
       "Computing transition probabilities:   0%|          | 0/51 [00:00<?, ?it/s]"
      ]
     },
     "metadata": {},
     "output_type": "display_data"
    },
    {
     "name": "stderr",
     "output_type": "stream",
     "text": [
      "\n",
      "Generating walks (CPU: 1):   0%|                                                                | 0/50 [00:00<?, ?it/s]\u001b[A\n",
      "Generating walks (CPU: 1):  14%|███████▊                                                | 7/50 [00:00<00:00, 68.63it/s]\u001b[A\n",
      "Generating walks (CPU: 1):  28%|███████████████▍                                       | 14/50 [00:00<00:00, 63.84it/s]\u001b[A\n",
      "Generating walks (CPU: 1):  42%|███████████████████████                                | 21/50 [00:00<00:00, 57.31it/s]\u001b[A\n",
      "Generating walks (CPU: 1):  56%|██████████████████████████████▊                        | 28/50 [00:00<00:00, 56.61it/s]\u001b[A\n",
      "Generating walks (CPU: 1):  72%|███████████████████████████████████████▌               | 36/50 [00:00<00:00, 60.16it/s]\u001b[A\n",
      "Generating walks (CPU: 1):  86%|███████████████████████████████████████████████▎       | 43/50 [00:00<00:00, 60.39it/s]\u001b[A\n",
      "Generating walks (CPU: 1): 100%|███████████████████████████████████████████████████████| 50/50 [00:00<00:00, 53.82it/s]\u001b[A\n"
     ]
    },
    {
     "data": {
      "application/vnd.jupyter.widget-view+json": {
       "model_id": "a592595d7c484dcd953fe5ca116c7e01",
       "version_major": 2,
       "version_minor": 0
      },
      "text/plain": [
       "Computing transition probabilities:   0%|          | 0/63 [00:00<?, ?it/s]"
      ]
     },
     "metadata": {},
     "output_type": "display_data"
    },
    {
     "name": "stderr",
     "output_type": "stream",
     "text": [
      "\n",
      "Generating walks (CPU: 1):   0%|                                                                | 0/50 [00:00<?, ?it/s]\u001b[A\n",
      "Generating walks (CPU: 1):  14%|███████▊                                                | 7/50 [00:00<00:00, 66.67it/s]\u001b[A\n",
      "Generating walks (CPU: 1):  28%|███████████████▍                                       | 14/50 [00:00<00:00, 56.00it/s]\u001b[A\n",
      "Generating walks (CPU: 1):  40%|██████████████████████                                 | 20/50 [00:00<00:00, 53.52it/s]\u001b[A\n",
      "Generating walks (CPU: 1):  52%|████████████████████████████▌                          | 26/50 [00:00<00:00, 52.32it/s]\u001b[A\n",
      "Generating walks (CPU: 1):  64%|███████████████████████████████████▏                   | 32/50 [00:00<00:00, 51.95it/s]\u001b[A\n",
      "Generating walks (CPU: 1):  76%|█████████████████████████████████████████▊             | 38/50 [00:00<00:00, 51.88it/s]\u001b[A\n",
      "Generating walks (CPU: 1):  88%|████████████████████████████████████████████████▍      | 44/50 [00:00<00:00, 51.40it/s]\u001b[A\n",
      "Generating walks (CPU: 1): 100%|███████████████████████████████████████████████████████| 50/50 [00:00<00:00, 51.55it/s]\u001b[A\n"
     ]
    },
    {
     "data": {
      "application/vnd.jupyter.widget-view+json": {
       "model_id": "624d779a114f4164acf2a2e3c822fd79",
       "version_major": 2,
       "version_minor": 0
      },
      "text/plain": [
       "Computing transition probabilities:   0%|          | 0/47 [00:00<?, ?it/s]"
      ]
     },
     "metadata": {},
     "output_type": "display_data"
    },
    {
     "name": "stderr",
     "output_type": "stream",
     "text": [
      "\n",
      "Generating walks (CPU: 1):   0%|                                                                | 0/50 [00:00<?, ?it/s]\u001b[A\n",
      "Generating walks (CPU: 1):  10%|█████▌                                                  | 5/50 [00:00<00:00, 49.50it/s]\u001b[A\n",
      "Generating walks (CPU: 1):  20%|███████████                                            | 10/50 [00:00<00:00, 47.57it/s]\u001b[A\n",
      "Generating walks (CPU: 1):  34%|██████████████████▋                                    | 17/50 [00:00<00:00, 54.62it/s]\u001b[A\n",
      "Generating walks (CPU: 1):  48%|██████████████████████████▍                            | 24/50 [00:00<00:00, 56.38it/s]\u001b[A\n",
      "Generating walks (CPU: 1):  64%|███████████████████████████████████▏                   | 32/50 [00:00<00:00, 62.19it/s]\u001b[A\n",
      "Generating walks (CPU: 1):  78%|██████████████████████████████████████████▉            | 39/50 [00:00<00:00, 60.28it/s]\u001b[A\n",
      "Generating walks (CPU: 1): 100%|███████████████████████████████████████████████████████| 50/50 [00:00<00:00, 51.18it/s]\u001b[A\n"
     ]
    },
    {
     "data": {
      "application/vnd.jupyter.widget-view+json": {
       "model_id": "75274339d14d4c5283b6ffe73ca4e9f8",
       "version_major": 2,
       "version_minor": 0
      },
      "text/plain": [
       "Computing transition probabilities:   0%|          | 0/63 [00:00<?, ?it/s]"
      ]
     },
     "metadata": {},
     "output_type": "display_data"
    },
    {
     "name": "stderr",
     "output_type": "stream",
     "text": [
      "\n",
      "Generating walks (CPU: 1):   0%|                                                                | 0/50 [00:00<?, ?it/s]\u001b[A\n",
      "Generating walks (CPU: 1):  12%|██████▋                                                 | 6/50 [00:00<00:00, 55.05it/s]\u001b[A\n",
      "Generating walks (CPU: 1):  24%|█████████████▏                                         | 12/50 [00:00<00:00, 48.05it/s]\u001b[A\n",
      "Generating walks (CPU: 1):  34%|██████████████████▋                                    | 17/50 [00:00<00:00, 45.03it/s]\u001b[A\n",
      "Generating walks (CPU: 1):  44%|████████████████████████▏                              | 22/50 [00:00<00:00, 44.88it/s]\u001b[A\n",
      "Generating walks (CPU: 1):  54%|█████████████████████████████▋                         | 27/50 [00:00<00:00, 44.66it/s]\u001b[A\n",
      "Generating walks (CPU: 1):  64%|███████████████████████████████████▏                   | 32/50 [00:00<00:00, 45.33it/s]\u001b[A\n",
      "Generating walks (CPU: 1):  76%|█████████████████████████████████████████▊             | 38/50 [00:00<00:00, 47.72it/s]\u001b[A\n",
      "Generating walks (CPU: 1):  86%|███████████████████████████████████████████████▎       | 43/50 [00:00<00:00, 44.86it/s]\u001b[A\n",
      "Generating walks (CPU: 1): 100%|███████████████████████████████████████████████████████| 50/50 [00:01<00:00, 43.18it/s]\u001b[A\n"
     ]
    },
    {
     "data": {
      "application/vnd.jupyter.widget-view+json": {
       "model_id": "949d0b10c5314dee8cd80219eada54d8",
       "version_major": 2,
       "version_minor": 0
      },
      "text/plain": [
       "Computing transition probabilities:   0%|          | 0/63 [00:00<?, ?it/s]"
      ]
     },
     "metadata": {},
     "output_type": "display_data"
    },
    {
     "name": "stderr",
     "output_type": "stream",
     "text": [
      "\n",
      "Generating walks (CPU: 1):   0%|                                                                | 0/50 [00:00<?, ?it/s]\u001b[A\n",
      "Generating walks (CPU: 1):   6%|███▎                                                    | 3/50 [00:00<00:01, 29.70it/s]\u001b[A\n",
      "Generating walks (CPU: 1):  16%|████████▉                                               | 8/50 [00:00<00:01, 39.51it/s]\u001b[A\n",
      "Generating walks (CPU: 1):  24%|█████████████▏                                         | 12/50 [00:00<00:00, 39.55it/s]\u001b[A\n",
      "Generating walks (CPU: 1):  34%|██████████████████▋                                    | 17/50 [00:00<00:00, 40.75it/s]\u001b[A\n",
      "Generating walks (CPU: 1):  44%|████████████████████████▏                              | 22/50 [00:00<00:00, 42.46it/s]\u001b[A\n",
      "Generating walks (CPU: 1):  56%|██████████████████████████████▊                        | 28/50 [00:00<00:00, 46.87it/s]\u001b[A\n",
      "Generating walks (CPU: 1):  68%|█████████████████████████████████████▍                 | 34/50 [00:00<00:00, 47.55it/s]\u001b[A\n",
      "Generating walks (CPU: 1):  80%|████████████████████████████████████████████           | 40/50 [00:00<00:00, 47.70it/s]\u001b[A\n",
      "Generating walks (CPU: 1):  90%|█████████████████████████████████████████████████▌     | 45/50 [00:01<00:00, 47.29it/s]\u001b[A\n",
      "Generating walks (CPU: 1): 100%|███████████████████████████████████████████████████████| 50/50 [00:01<00:00, 42.96it/s]\u001b[A\n"
     ]
    },
    {
     "data": {
      "application/vnd.jupyter.widget-view+json": {
       "model_id": "a8c19cf828354b1a855ad3a05728ce2e",
       "version_major": 2,
       "version_minor": 0
      },
      "text/plain": [
       "Computing transition probabilities:   0%|          | 0/61 [00:00<?, ?it/s]"
      ]
     },
     "metadata": {},
     "output_type": "display_data"
    },
    {
     "name": "stderr",
     "output_type": "stream",
     "text": [
      "\n",
      "Generating walks (CPU: 1):   0%|                                                                | 0/50 [00:00<?, ?it/s]\u001b[A\n",
      "Generating walks (CPU: 1):  12%|██████▋                                                 | 6/50 [00:00<00:00, 55.56it/s]\u001b[A\n",
      "Generating walks (CPU: 1):  24%|█████████████▏                                         | 12/50 [00:00<00:00, 54.96it/s]\u001b[A\n",
      "Generating walks (CPU: 1):  36%|███████████████████▊                                   | 18/50 [00:00<00:00, 50.95it/s]\u001b[A\n",
      "Generating walks (CPU: 1):  48%|██████████████████████████▍                            | 24/50 [00:00<00:00, 52.85it/s]\u001b[A\n",
      "Generating walks (CPU: 1):  62%|██████████████████████████████████                     | 31/50 [00:00<00:00, 54.39it/s]\u001b[A\n",
      "Generating walks (CPU: 1):  74%|████████████████████████████████████████▋              | 37/50 [00:00<00:00, 52.87it/s]\u001b[A\n",
      "Generating walks (CPU: 1):  86%|███████████████████████████████████████████████▎       | 43/50 [00:00<00:00, 48.70it/s]\u001b[A\n",
      "Generating walks (CPU: 1): 100%|███████████████████████████████████████████████████████| 50/50 [00:01<00:00, 47.71it/s]\u001b[A\n"
     ]
    },
    {
     "data": {
      "application/vnd.jupyter.widget-view+json": {
       "model_id": "707ff088b7374eb09908c85f064a18f0",
       "version_major": 2,
       "version_minor": 0
      },
      "text/plain": [
       "Computing transition probabilities:   0%|          | 0/59 [00:00<?, ?it/s]"
      ]
     },
     "metadata": {},
     "output_type": "display_data"
    },
    {
     "name": "stderr",
     "output_type": "stream",
     "text": [
      "\n",
      "Generating walks (CPU: 1):   0%|                                                                | 0/50 [00:00<?, ?it/s]\u001b[A\n",
      "Generating walks (CPU: 1):  14%|███████▊                                                | 7/50 [00:00<00:00, 69.31it/s]\u001b[A\n",
      "Generating walks (CPU: 1):  28%|███████████████▍                                       | 14/50 [00:00<00:00, 47.66it/s]\u001b[A\n",
      "Generating walks (CPU: 1):  40%|██████████████████████                                 | 20/50 [00:00<00:00, 44.12it/s]\u001b[A\n",
      "Generating walks (CPU: 1):  50%|███████████████████████████▌                           | 25/50 [00:00<00:00, 44.29it/s]\u001b[A\n",
      "Generating walks (CPU: 1):  60%|█████████████████████████████████                      | 30/50 [00:00<00:00, 40.47it/s]\u001b[A\n",
      "Generating walks (CPU: 1):  70%|██████████████████████████████████████▌                | 35/50 [00:00<00:00, 41.70it/s]\u001b[A\n",
      "Generating walks (CPU: 1):  80%|████████████████████████████████████████████           | 40/50 [00:00<00:00, 40.74it/s]\u001b[A\n",
      "Generating walks (CPU: 1): 100%|███████████████████████████████████████████████████████| 50/50 [00:01<00:00, 43.40it/s]\u001b[A\n"
     ]
    },
    {
     "data": {
      "application/vnd.jupyter.widget-view+json": {
       "model_id": "cab9a10d13c74c7399c2bd3f578c70e3",
       "version_major": 2,
       "version_minor": 0
      },
      "text/plain": [
       "Computing transition probabilities:   0%|          | 0/57 [00:00<?, ?it/s]"
      ]
     },
     "metadata": {},
     "output_type": "display_data"
    },
    {
     "name": "stderr",
     "output_type": "stream",
     "text": [
      "\n",
      "Generating walks (CPU: 1):   0%|                                                                | 0/50 [00:00<?, ?it/s]\u001b[A\n",
      "Generating walks (CPU: 1):  12%|██████▋                                                 | 6/50 [00:00<00:00, 47.24it/s]\u001b[A\n",
      "Generating walks (CPU: 1):  22%|████████████                                           | 11/50 [00:00<00:00, 48.19it/s]\u001b[A\n",
      "Generating walks (CPU: 1):  32%|█████████████████▌                                     | 16/50 [00:00<00:00, 46.39it/s]\u001b[A\n",
      "Generating walks (CPU: 1):  44%|████████████████████████▏                              | 22/50 [00:00<00:00, 50.45it/s]\u001b[A\n",
      "Generating walks (CPU: 1):  56%|██████████████████████████████▊                        | 28/50 [00:00<00:00, 41.78it/s]\u001b[A\n",
      "Generating walks (CPU: 1):  66%|████████████████████████████████████▎                  | 33/50 [00:00<00:00, 42.18it/s]\u001b[A\n",
      "Generating walks (CPU: 1):  76%|█████████████████████████████████████████▊             | 38/50 [00:00<00:00, 40.05it/s]\u001b[A\n",
      "Generating walks (CPU: 1):  86%|███████████████████████████████████████████████▎       | 43/50 [00:01<00:00, 39.74it/s]\u001b[A\n",
      "Generating walks (CPU: 1): 100%|███████████████████████████████████████████████████████| 50/50 [00:01<00:00, 41.95it/s]\u001b[A\n"
     ]
    },
    {
     "data": {
      "application/vnd.jupyter.widget-view+json": {
       "model_id": "f9955ecf2d7746ddb4bb924b9552406e",
       "version_major": 2,
       "version_minor": 0
      },
      "text/plain": [
       "Computing transition probabilities:   0%|          | 0/55 [00:00<?, ?it/s]"
      ]
     },
     "metadata": {},
     "output_type": "display_data"
    },
    {
     "name": "stderr",
     "output_type": "stream",
     "text": [
      "\n",
      "Generating walks (CPU: 1):   0%|                                                                | 0/50 [00:00<?, ?it/s]\u001b[A\n",
      "Generating walks (CPU: 1):  12%|██████▋                                                 | 6/50 [00:00<00:00, 56.08it/s]\u001b[A\n",
      "Generating walks (CPU: 1):  24%|█████████████▏                                         | 12/50 [00:00<00:00, 48.60it/s]\u001b[A\n",
      "Generating walks (CPU: 1):  36%|███████████████████▊                                   | 18/50 [00:00<00:00, 50.55it/s]\u001b[A\n",
      "Generating walks (CPU: 1):  48%|██████████████████████████▍                            | 24/50 [00:00<00:00, 53.52it/s]\u001b[A\n",
      "Generating walks (CPU: 1):  60%|█████████████████████████████████                      | 30/50 [00:00<00:00, 53.03it/s]\u001b[A\n",
      "Generating walks (CPU: 1):  72%|███████████████████████████████████████▌               | 36/50 [00:00<00:00, 50.04it/s]\u001b[A\n",
      "Generating walks (CPU: 1):  86%|███████████████████████████████████████████████▎       | 43/50 [00:00<00:00, 50.55it/s]\u001b[A\n",
      "Generating walks (CPU: 1): 100%|███████████████████████████████████████████████████████| 50/50 [00:00<00:00, 50.35it/s]\u001b[A\n"
     ]
    },
    {
     "data": {
      "application/vnd.jupyter.widget-view+json": {
       "model_id": "93f7052e34d94596865198468b6ae607",
       "version_major": 2,
       "version_minor": 0
      },
      "text/plain": [
       "Computing transition probabilities:   0%|          | 0/57 [00:00<?, ?it/s]"
      ]
     },
     "metadata": {},
     "output_type": "display_data"
    },
    {
     "name": "stderr",
     "output_type": "stream",
     "text": [
      "\n",
      "Generating walks (CPU: 1):   0%|                                                                | 0/50 [00:00<?, ?it/s]\u001b[A\n",
      "Generating walks (CPU: 1):  14%|███████▊                                                | 7/50 [00:00<00:00, 51.47it/s]\u001b[A\n",
      "Generating walks (CPU: 1):  26%|██████████████▎                                        | 13/50 [00:00<00:00, 54.18it/s]\u001b[A\n",
      "Generating walks (CPU: 1):  38%|████████████████████▉                                  | 19/50 [00:00<00:00, 51.27it/s]\u001b[A\n",
      "Generating walks (CPU: 1):  50%|███████████████████████████▌                           | 25/50 [00:00<00:00, 53.03it/s]\u001b[A\n",
      "Generating walks (CPU: 1):  62%|██████████████████████████████████                     | 31/50 [00:00<00:00, 52.39it/s]\u001b[A\n",
      "Generating walks (CPU: 1):  74%|████████████████████████████████████████▋              | 37/50 [00:00<00:00, 53.10it/s]\u001b[A\n",
      "Generating walks (CPU: 1):  86%|███████████████████████████████████████████████▎       | 43/50 [00:00<00:00, 48.24it/s]\u001b[A\n",
      "Generating walks (CPU: 1): 100%|███████████████████████████████████████████████████████| 50/50 [00:01<00:00, 49.41it/s]\u001b[A\n"
     ]
    },
    {
     "data": {
      "application/vnd.jupyter.widget-view+json": {
       "model_id": "554498e68fa04dadb0d9a6a6254e359c",
       "version_major": 2,
       "version_minor": 0
      },
      "text/plain": [
       "Computing transition probabilities:   0%|          | 0/63 [00:00<?, ?it/s]"
      ]
     },
     "metadata": {},
     "output_type": "display_data"
    },
    {
     "name": "stderr",
     "output_type": "stream",
     "text": [
      "\n",
      "Generating walks (CPU: 1):   0%|                                                                | 0/50 [00:00<?, ?it/s]\u001b[A\n",
      "Generating walks (CPU: 1):  14%|███████▊                                                | 7/50 [00:00<00:00, 66.04it/s]\u001b[A\n",
      "Generating walks (CPU: 1):  28%|███████████████▍                                       | 14/50 [00:00<00:00, 55.04it/s]\u001b[A\n",
      "Generating walks (CPU: 1):  40%|██████████████████████                                 | 20/50 [00:00<00:00, 47.55it/s]\u001b[A\n",
      "Generating walks (CPU: 1):  50%|███████████████████████████▌                           | 25/50 [00:00<00:00, 47.43it/s]\u001b[A\n",
      "Generating walks (CPU: 1):  60%|█████████████████████████████████                      | 30/50 [00:00<00:00, 41.97it/s]\u001b[A\n",
      "Generating walks (CPU: 1):  70%|██████████████████████████████████████▌                | 35/50 [00:00<00:00, 41.33it/s]\u001b[A\n",
      "Generating walks (CPU: 1):  80%|████████████████████████████████████████████           | 40/50 [00:00<00:00, 41.86it/s]\u001b[A\n",
      "Generating walks (CPU: 1): 100%|███████████████████████████████████████████████████████| 50/50 [00:01<00:00, 45.17it/s]\u001b[A\n"
     ]
    },
    {
     "data": {
      "application/vnd.jupyter.widget-view+json": {
       "model_id": "5b6353f19f8a4c2dbdae7dcc4088b053",
       "version_major": 2,
       "version_minor": 0
      },
      "text/plain": [
       "Computing transition probabilities:   0%|          | 0/61 [00:00<?, ?it/s]"
      ]
     },
     "metadata": {},
     "output_type": "display_data"
    },
    {
     "name": "stderr",
     "output_type": "stream",
     "text": [
      "\n",
      "Generating walks (CPU: 1):   0%|                                                                | 0/50 [00:00<?, ?it/s]\u001b[A\n",
      "Generating walks (CPU: 1):  14%|███████▊                                                | 7/50 [00:00<00:00, 62.50it/s]\u001b[A\n",
      "Generating walks (CPU: 1):  28%|███████████████▍                                       | 14/50 [00:00<00:00, 54.49it/s]\u001b[A\n",
      "Generating walks (CPU: 1):  42%|███████████████████████                                | 21/50 [00:00<00:00, 58.09it/s]\u001b[A\n",
      "Generating walks (CPU: 1):  54%|█████████████████████████████▋                         | 27/50 [00:00<00:00, 47.17it/s]\u001b[A\n",
      "Generating walks (CPU: 1):  64%|███████████████████████████████████▏                   | 32/50 [00:00<00:00, 42.82it/s]\u001b[A\n",
      "Generating walks (CPU: 1):  74%|████████████████████████████████████████▋              | 37/50 [00:00<00:00, 43.01it/s]\u001b[A\n",
      "Generating walks (CPU: 1):  84%|██████████████████████████████████████████████▏        | 42/50 [00:00<00:00, 41.13it/s]\u001b[A\n",
      "Generating walks (CPU: 1): 100%|███████████████████████████████████████████████████████| 50/50 [00:01<00:00, 43.48it/s]\u001b[A\n"
     ]
    },
    {
     "data": {
      "application/vnd.jupyter.widget-view+json": {
       "model_id": "6e623a3c3a2b449cbb719d7e18b0af49",
       "version_major": 2,
       "version_minor": 0
      },
      "text/plain": [
       "Computing transition probabilities:   0%|          | 0/55 [00:00<?, ?it/s]"
      ]
     },
     "metadata": {},
     "output_type": "display_data"
    },
    {
     "name": "stderr",
     "output_type": "stream",
     "text": [
      "\n",
      "Generating walks (CPU: 1):   0%|                                                                | 0/50 [00:00<?, ?it/s]\u001b[A\n",
      "Generating walks (CPU: 1):  12%|██████▋                                                 | 6/50 [00:00<00:00, 55.56it/s]\u001b[A\n",
      "Generating walks (CPU: 1):  24%|█████████████▏                                         | 12/50 [00:00<00:00, 55.56it/s]\u001b[A\n",
      "Generating walks (CPU: 1):  36%|███████████████████▊                                   | 18/50 [00:00<00:00, 53.30it/s]\u001b[A\n",
      "Generating walks (CPU: 1):  48%|██████████████████████████▍                            | 24/50 [00:00<00:00, 53.79it/s]\u001b[A\n",
      "Generating walks (CPU: 1):  60%|█████████████████████████████████                      | 30/50 [00:00<00:00, 53.02it/s]\u001b[A\n",
      "Generating walks (CPU: 1):  72%|███████████████████████████████████████▌               | 36/50 [00:00<00:00, 49.48it/s]\u001b[A\n",
      "Generating walks (CPU: 1):  82%|█████████████████████████████████████████████          | 41/50 [00:00<00:00, 48.65it/s]\u001b[A\n",
      "Generating walks (CPU: 1): 100%|███████████████████████████████████████████████████████| 50/50 [00:00<00:00, 50.40it/s]\u001b[A\n"
     ]
    },
    {
     "data": {
      "application/vnd.jupyter.widget-view+json": {
       "model_id": "2dab2b0d2f8d4948ba31b42c07752837",
       "version_major": 2,
       "version_minor": 0
      },
      "text/plain": [
       "Computing transition probabilities:   0%|          | 0/63 [00:00<?, ?it/s]"
      ]
     },
     "metadata": {},
     "output_type": "display_data"
    },
    {
     "name": "stderr",
     "output_type": "stream",
     "text": [
      "\n",
      "Generating walks (CPU: 1):   0%|                                                                | 0/50 [00:00<?, ?it/s]\u001b[A\n",
      "Generating walks (CPU: 1):  14%|███████▊                                                | 7/50 [00:00<00:00, 66.04it/s]\u001b[A\n",
      "Generating walks (CPU: 1):  28%|███████████████▍                                       | 14/50 [00:00<00:00, 52.61it/s]\u001b[A\n",
      "Generating walks (CPU: 1):  40%|██████████████████████                                 | 20/50 [00:00<00:00, 50.22it/s]\u001b[A\n",
      "Generating walks (CPU: 1):  52%|████████████████████████████▌                          | 26/50 [00:00<00:00, 44.56it/s]\u001b[A\n",
      "Generating walks (CPU: 1):  62%|██████████████████████████████████                     | 31/50 [00:00<00:00, 45.59it/s]\u001b[A\n",
      "Generating walks (CPU: 1):  72%|███████████████████████████████████████▌               | 36/50 [00:00<00:00, 44.31it/s]\u001b[A\n",
      "Generating walks (CPU: 1):  84%|██████████████████████████████████████████████▏        | 42/50 [00:00<00:00, 46.74it/s]\u001b[A\n",
      "Generating walks (CPU: 1): 100%|███████████████████████████████████████████████████████| 50/50 [00:01<00:00, 44.84it/s]\u001b[A\n"
     ]
    },
    {
     "data": {
      "application/vnd.jupyter.widget-view+json": {
       "model_id": "ee3fd752e89846cda6d9c6f8dd5817be",
       "version_major": 2,
       "version_minor": 0
      },
      "text/plain": [
       "Computing transition probabilities:   0%|          | 0/55 [00:00<?, ?it/s]"
      ]
     },
     "metadata": {},
     "output_type": "display_data"
    },
    {
     "name": "stderr",
     "output_type": "stream",
     "text": [
      "\n",
      "Generating walks (CPU: 1):   0%|                                                                | 0/50 [00:00<?, ?it/s]\u001b[A\n",
      "Generating walks (CPU: 1):  12%|██████▋                                                 | 6/50 [00:00<00:00, 54.05it/s]\u001b[A\n",
      "Generating walks (CPU: 1):  24%|█████████████▏                                         | 12/50 [00:00<00:00, 56.60it/s]\u001b[A\n",
      "Generating walks (CPU: 1):  36%|███████████████████▊                                   | 18/50 [00:00<00:00, 51.91it/s]\u001b[A\n",
      "Generating walks (CPU: 1):  50%|███████████████████████████▌                           | 25/50 [00:00<00:00, 57.40it/s]\u001b[A\n",
      "Generating walks (CPU: 1):  62%|██████████████████████████████████                     | 31/50 [00:00<00:00, 49.04it/s]\u001b[A\n",
      "Generating walks (CPU: 1):  74%|████████████████████████████████████████▋              | 37/50 [00:00<00:00, 46.09it/s]\u001b[A\n",
      "Generating walks (CPU: 1):  86%|███████████████████████████████████████████████▎       | 43/50 [00:00<00:00, 49.53it/s]\u001b[A\n",
      "Generating walks (CPU: 1): 100%|███████████████████████████████████████████████████████| 50/50 [00:01<00:00, 49.48it/s]\u001b[A\n"
     ]
    },
    {
     "data": {
      "application/vnd.jupyter.widget-view+json": {
       "model_id": "5abb50f5b8c04cff83b667b28b41652e",
       "version_major": 2,
       "version_minor": 0
      },
      "text/plain": [
       "Computing transition probabilities:   0%|          | 0/61 [00:00<?, ?it/s]"
      ]
     },
     "metadata": {},
     "output_type": "display_data"
    },
    {
     "name": "stderr",
     "output_type": "stream",
     "text": [
      "\n",
      "Generating walks (CPU: 1):   0%|                                                                | 0/50 [00:00<?, ?it/s]\u001b[A\n",
      "Generating walks (CPU: 1):  12%|██████▋                                                 | 6/50 [00:00<00:00, 57.69it/s]\u001b[A\n",
      "Generating walks (CPU: 1):  24%|█████████████▏                                         | 12/50 [00:00<00:01, 27.65it/s]\u001b[A\n",
      "Generating walks (CPU: 1):  32%|█████████████████▌                                     | 16/50 [00:00<00:01, 30.09it/s]\u001b[A\n",
      "Generating walks (CPU: 1):  40%|██████████████████████                                 | 20/50 [00:00<00:01, 29.93it/s]\u001b[A\n",
      "Generating walks (CPU: 1):  52%|████████████████████████████▌                          | 26/50 [00:00<00:00, 37.14it/s]\u001b[A\n",
      "Generating walks (CPU: 1):  64%|███████████████████████████████████▏                   | 32/50 [00:00<00:00, 42.53it/s]\u001b[A\n",
      "Generating walks (CPU: 1):  74%|████████████████████████████████████████▋              | 37/50 [00:00<00:00, 43.16it/s]\u001b[A\n",
      "Generating walks (CPU: 1):  86%|███████████████████████████████████████████████▎       | 43/50 [00:01<00:00, 44.38it/s]\u001b[A\n",
      "Generating walks (CPU: 1): 100%|███████████████████████████████████████████████████████| 50/50 [00:01<00:00, 39.81it/s]\u001b[A\n"
     ]
    },
    {
     "data": {
      "application/vnd.jupyter.widget-view+json": {
       "model_id": "4e534bbedbb24f899ee19da77a73f651",
       "version_major": 2,
       "version_minor": 0
      },
      "text/plain": [
       "Computing transition probabilities:   0%|          | 0/57 [00:00<?, ?it/s]"
      ]
     },
     "metadata": {},
     "output_type": "display_data"
    },
    {
     "name": "stderr",
     "output_type": "stream",
     "text": [
      "\n",
      "Generating walks (CPU: 1):   0%|                                                                | 0/50 [00:00<?, ?it/s]\u001b[A\n",
      "Generating walks (CPU: 1):  14%|███████▊                                                | 7/50 [00:00<00:00, 51.47it/s]\u001b[A\n",
      "Generating walks (CPU: 1):  26%|██████████████▎                                        | 13/50 [00:00<00:01, 30.60it/s]\u001b[A\n",
      "Generating walks (CPU: 1):  34%|██████████████████▋                                    | 17/50 [00:00<00:01, 28.62it/s]\u001b[A\n",
      "Generating walks (CPU: 1):  44%|████████████████████████▏                              | 22/50 [00:00<00:00, 33.74it/s]\u001b[A\n",
      "Generating walks (CPU: 1):  52%|████████████████████████████▌                          | 26/50 [00:00<00:00, 34.77it/s]\u001b[A\n",
      "Generating walks (CPU: 1):  62%|██████████████████████████████████                     | 31/50 [00:00<00:00, 38.00it/s]\u001b[A\n",
      "Generating walks (CPU: 1):  72%|███████████████████████████████████████▌               | 36/50 [00:00<00:00, 41.20it/s]\u001b[A\n",
      "Generating walks (CPU: 1):  82%|█████████████████████████████████████████████          | 41/50 [00:01<00:00, 42.25it/s]\u001b[A\n",
      "Generating walks (CPU: 1): 100%|███████████████████████████████████████████████████████| 50/50 [00:01<00:00, 38.34it/s]\u001b[A\n"
     ]
    },
    {
     "data": {
      "application/vnd.jupyter.widget-view+json": {
       "model_id": "a1fd3fa81f804eb497747609cac35f90",
       "version_major": 2,
       "version_minor": 0
      },
      "text/plain": [
       "Computing transition probabilities:   0%|          | 0/63 [00:00<?, ?it/s]"
      ]
     },
     "metadata": {},
     "output_type": "display_data"
    },
    {
     "name": "stderr",
     "output_type": "stream",
     "text": [
      "\n",
      "Generating walks (CPU: 1):   0%|                                                                | 0/50 [00:00<?, ?it/s]\u001b[A\n",
      "Generating walks (CPU: 1):   8%|████▍                                                   | 4/50 [00:00<00:01, 38.10it/s]\u001b[A\n",
      "Generating walks (CPU: 1):  18%|██████████                                              | 9/50 [00:00<00:01, 39.90it/s]\u001b[A\n",
      "Generating walks (CPU: 1):  26%|██████████████▎                                        | 13/50 [00:00<00:00, 37.56it/s]\u001b[A\n",
      "Generating walks (CPU: 1):  34%|██████████████████▋                                    | 17/50 [00:00<00:00, 38.31it/s]\u001b[A\n",
      "Generating walks (CPU: 1):  42%|███████████████████████                                | 21/50 [00:00<00:00, 38.49it/s]\u001b[A\n",
      "Generating walks (CPU: 1):  50%|███████████████████████████▌                           | 25/50 [00:00<00:00, 36.60it/s]\u001b[A\n",
      "Generating walks (CPU: 1):  58%|███████████████████████████████▉                       | 29/50 [00:00<00:00, 34.59it/s]\u001b[A\n",
      "Generating walks (CPU: 1):  66%|████████████████████████████████████▎                  | 33/50 [00:00<00:00, 35.72it/s]\u001b[A\n",
      "Generating walks (CPU: 1):  76%|█████████████████████████████████████████▊             | 38/50 [00:01<00:00, 38.93it/s]\u001b[A\n",
      "Generating walks (CPU: 1):  84%|██████████████████████████████████████████████▏        | 42/50 [00:01<00:00, 38.79it/s]\u001b[A\n",
      "Generating walks (CPU: 1): 100%|███████████████████████████████████████████████████████| 50/50 [00:01<00:00, 37.23it/s]\u001b[A\n"
     ]
    },
    {
     "data": {
      "application/vnd.jupyter.widget-view+json": {
       "model_id": "1e90312771f047d28199f98a55fe4ac2",
       "version_major": 2,
       "version_minor": 0
      },
      "text/plain": [
       "Computing transition probabilities:   0%|          | 0/61 [00:00<?, ?it/s]"
      ]
     },
     "metadata": {},
     "output_type": "display_data"
    },
    {
     "name": "stderr",
     "output_type": "stream",
     "text": [
      "\n",
      "Generating walks (CPU: 1):   0%|                                                                | 0/50 [00:00<?, ?it/s]\u001b[A\n",
      "Generating walks (CPU: 1):  10%|█████▌                                                  | 5/50 [00:00<00:01, 44.84it/s]\u001b[A\n",
      "Generating walks (CPU: 1):  22%|████████████                                           | 11/50 [00:00<00:00, 52.47it/s]\u001b[A\n",
      "Generating walks (CPU: 1):  34%|██████████████████▋                                    | 17/50 [00:00<00:00, 47.60it/s]\u001b[A\n",
      "Generating walks (CPU: 1):  44%|████████████████████████▏                              | 22/50 [00:00<00:00, 43.16it/s]\u001b[A\n",
      "Generating walks (CPU: 1):  54%|█████████████████████████████▋                         | 27/50 [00:00<00:00, 44.72it/s]\u001b[A\n",
      "Generating walks (CPU: 1):  66%|████████████████████████████████████▎                  | 33/50 [00:00<00:00, 47.75it/s]\u001b[A\n",
      "Generating walks (CPU: 1):  78%|██████████████████████████████████████████▉            | 39/50 [00:00<00:00, 49.75it/s]\u001b[A\n",
      "Generating walks (CPU: 1): 100%|███████████████████████████████████████████████████████| 50/50 [00:01<00:00, 46.75it/s]\u001b[A\n"
     ]
    },
    {
     "data": {
      "application/vnd.jupyter.widget-view+json": {
       "model_id": "a55bb835e16a41ed9420dcab6d2f3fa1",
       "version_major": 2,
       "version_minor": 0
      },
      "text/plain": [
       "Computing transition probabilities:   0%|          | 0/59 [00:00<?, ?it/s]"
      ]
     },
     "metadata": {},
     "output_type": "display_data"
    },
    {
     "name": "stderr",
     "output_type": "stream",
     "text": [
      "\n",
      "Generating walks (CPU: 1):   0%|                                                                | 0/50 [00:00<?, ?it/s]\u001b[A\n",
      "Generating walks (CPU: 1):  10%|█████▌                                                  | 5/50 [00:00<00:00, 49.02it/s]\u001b[A\n",
      "Generating walks (CPU: 1):  20%|███████████                                            | 10/50 [00:00<00:00, 46.60it/s]\u001b[A\n",
      "Generating walks (CPU: 1):  30%|████████████████▌                                      | 15/50 [00:00<00:00, 45.30it/s]\u001b[A\n",
      "Generating walks (CPU: 1):  40%|██████████████████████                                 | 20/50 [00:00<00:00, 41.35it/s]\u001b[A\n",
      "Generating walks (CPU: 1):  50%|███████████████████████████▌                           | 25/50 [00:00<00:00, 41.71it/s]\u001b[A\n",
      "Generating walks (CPU: 1):  60%|█████████████████████████████████                      | 30/50 [00:00<00:00, 39.04it/s]\u001b[A\n",
      "Generating walks (CPU: 1):  68%|█████████████████████████████████████▍                 | 34/50 [00:00<00:00, 32.36it/s]\u001b[A\n",
      "Generating walks (CPU: 1):  78%|██████████████████████████████████████████▉            | 39/50 [00:01<00:00, 34.72it/s]\u001b[A\n",
      "Generating walks (CPU: 1):  86%|███████████████████████████████████████████████▎       | 43/50 [00:01<00:00, 35.33it/s]\u001b[A\n",
      "Generating walks (CPU: 1): 100%|███████████████████████████████████████████████████████| 50/50 [00:01<00:00, 33.62it/s]\u001b[A\n"
     ]
    },
    {
     "data": {
      "application/vnd.jupyter.widget-view+json": {
       "model_id": "5f14ad68690f4ec6bc7e88949d58f7d4",
       "version_major": 2,
       "version_minor": 0
      },
      "text/plain": [
       "Computing transition probabilities:   0%|          | 0/55 [00:00<?, ?it/s]"
      ]
     },
     "metadata": {},
     "output_type": "display_data"
    },
    {
     "name": "stderr",
     "output_type": "stream",
     "text": [
      "\n",
      "Generating walks (CPU: 1):   0%|                                                                | 0/50 [00:00<?, ?it/s]\u001b[A\n",
      "Generating walks (CPU: 1):  12%|██████▋                                                 | 6/50 [00:00<00:00, 49.59it/s]\u001b[A\n",
      "Generating walks (CPU: 1):  24%|█████████████▏                                         | 12/50 [00:00<00:00, 50.57it/s]\u001b[A\n",
      "Generating walks (CPU: 1):  36%|███████████████████▊                                   | 18/50 [00:00<00:00, 43.20it/s]\u001b[A\n",
      "Generating walks (CPU: 1):  50%|███████████████████████████▌                           | 25/50 [00:00<00:00, 51.27it/s]\u001b[A\n",
      "Generating walks (CPU: 1):  64%|███████████████████████████████████▏                   | 32/50 [00:00<00:00, 55.21it/s]\u001b[A\n",
      "Generating walks (CPU: 1):  76%|█████████████████████████████████████████▊             | 38/50 [00:00<00:00, 52.40it/s]\u001b[A\n",
      "Generating walks (CPU: 1):  88%|████████████████████████████████████████████████▍      | 44/50 [00:00<00:00, 51.62it/s]\u001b[A\n",
      "Generating walks (CPU: 1): 100%|███████████████████████████████████████████████████████| 50/50 [00:01<00:00, 49.85it/s]\u001b[A\n"
     ]
    },
    {
     "data": {
      "application/vnd.jupyter.widget-view+json": {
       "model_id": "547ac33e198c4986b6debdcb1b59c9a1",
       "version_major": 2,
       "version_minor": 0
      },
      "text/plain": [
       "Computing transition probabilities:   0%|          | 0/63 [00:00<?, ?it/s]"
      ]
     },
     "metadata": {},
     "output_type": "display_data"
    },
    {
     "name": "stderr",
     "output_type": "stream",
     "text": [
      "\n",
      "Generating walks (CPU: 1):   0%|                                                                | 0/50 [00:00<?, ?it/s]\u001b[A\n",
      "Generating walks (CPU: 1):  10%|█████▌                                                  | 5/50 [00:00<00:01, 42.37it/s]\u001b[A\n",
      "Generating walks (CPU: 1):  20%|███████████                                            | 10/50 [00:00<00:01, 38.01it/s]\u001b[A\n",
      "Generating walks (CPU: 1):  30%|████████████████▌                                      | 15/50 [00:00<00:00, 37.43it/s]\u001b[A\n",
      "Generating walks (CPU: 1):  38%|████████████████████▉                                  | 19/50 [00:00<00:00, 38.15it/s]\u001b[A\n",
      "Generating walks (CPU: 1):  46%|█████████████████████████▎                             | 23/50 [00:00<00:00, 38.37it/s]\u001b[A\n",
      "Generating walks (CPU: 1):  54%|█████████████████████████████▋                         | 27/50 [00:00<00:00, 38.11it/s]\u001b[A\n",
      "Generating walks (CPU: 1):  64%|███████████████████████████████████▏                   | 32/50 [00:00<00:00, 38.99it/s]\u001b[A\n",
      "Generating walks (CPU: 1):  76%|█████████████████████████████████████████▊             | 38/50 [00:00<00:00, 44.16it/s]\u001b[A\n",
      "Generating walks (CPU: 1):  86%|███████████████████████████████████████████████▎       | 43/50 [00:01<00:00, 43.70it/s]\u001b[A\n",
      "Generating walks (CPU: 1): 100%|███████████████████████████████████████████████████████| 50/50 [00:01<00:00, 40.70it/s]\u001b[A\n"
     ]
    },
    {
     "data": {
      "application/vnd.jupyter.widget-view+json": {
       "model_id": "a8eedd74916d4fb58d592d6971511580",
       "version_major": 2,
       "version_minor": 0
      },
      "text/plain": [
       "Computing transition probabilities:   0%|          | 0/59 [00:00<?, ?it/s]"
      ]
     },
     "metadata": {},
     "output_type": "display_data"
    },
    {
     "name": "stderr",
     "output_type": "stream",
     "text": [
      "\n",
      "Generating walks (CPU: 1):   0%|                                                                | 0/50 [00:00<?, ?it/s]\u001b[A\n",
      "Generating walks (CPU: 1):  14%|███████▊                                                | 7/50 [00:00<00:00, 55.12it/s]\u001b[A\n",
      "Generating walks (CPU: 1):  26%|██████████████▎                                        | 13/50 [00:00<00:00, 48.90it/s]\u001b[A\n",
      "Generating walks (CPU: 1):  36%|███████████████████▊                                   | 18/50 [00:00<00:00, 41.96it/s]\u001b[A\n",
      "Generating walks (CPU: 1):  48%|██████████████████████████▍                            | 24/50 [00:00<00:00, 45.29it/s]\u001b[A\n",
      "Generating walks (CPU: 1):  60%|█████████████████████████████████                      | 30/50 [00:00<00:00, 46.51it/s]\u001b[A\n",
      "Generating walks (CPU: 1):  70%|██████████████████████████████████████▌                | 35/50 [00:00<00:00, 45.92it/s]\u001b[A\n",
      "Generating walks (CPU: 1):  80%|████████████████████████████████████████████           | 40/50 [00:00<00:00, 40.31it/s]\u001b[A\n",
      "Generating walks (CPU: 1):  90%|█████████████████████████████████████████████████▌     | 45/50 [00:01<00:00, 39.36it/s]\u001b[A\n",
      "Generating walks (CPU: 1): 100%|███████████████████████████████████████████████████████| 50/50 [00:01<00:00, 41.25it/s]\u001b[A\n"
     ]
    },
    {
     "data": {
      "application/vnd.jupyter.widget-view+json": {
       "model_id": "c387e5d913424b1585e6a06514801391",
       "version_major": 2,
       "version_minor": 0
      },
      "text/plain": [
       "Computing transition probabilities:   0%|          | 0/61 [00:00<?, ?it/s]"
      ]
     },
     "metadata": {},
     "output_type": "display_data"
    },
    {
     "name": "stderr",
     "output_type": "stream",
     "text": [
      "\n",
      "Generating walks (CPU: 1):   0%|                                                                | 0/50 [00:00<?, ?it/s]\u001b[A\n",
      "Generating walks (CPU: 1):  10%|█████▌                                                  | 5/50 [00:00<00:00, 49.02it/s]\u001b[A\n",
      "Generating walks (CPU: 1):  20%|███████████                                            | 10/50 [00:00<00:00, 46.86it/s]\u001b[A\n",
      "Generating walks (CPU: 1):  30%|████████████████▌                                      | 15/50 [00:00<00:00, 46.40it/s]\u001b[A\n",
      "Generating walks (CPU: 1):  40%|██████████████████████                                 | 20/50 [00:00<00:00, 44.68it/s]\u001b[A\n",
      "Generating walks (CPU: 1):  50%|███████████████████████████▌                           | 25/50 [00:00<00:00, 46.29it/s]\u001b[A\n",
      "Generating walks (CPU: 1):  60%|█████████████████████████████████                      | 30/50 [00:00<00:00, 44.07it/s]\u001b[A\n",
      "Generating walks (CPU: 1):  70%|██████████████████████████████████████▌                | 35/50 [00:00<00:00, 43.01it/s]\u001b[A\n",
      "Generating walks (CPU: 1):  80%|████████████████████████████████████████████           | 40/50 [00:00<00:00, 44.63it/s]\u001b[A\n",
      "Generating walks (CPU: 1): 100%|███████████████████████████████████████████████████████| 50/50 [00:01<00:00, 45.36it/s]\u001b[A\n"
     ]
    },
    {
     "data": {
      "application/vnd.jupyter.widget-view+json": {
       "model_id": "a7c733aae43f42e9b4990ab195b9f359",
       "version_major": 2,
       "version_minor": 0
      },
      "text/plain": [
       "Computing transition probabilities:   0%|          | 0/63 [00:00<?, ?it/s]"
      ]
     },
     "metadata": {},
     "output_type": "display_data"
    },
    {
     "name": "stderr",
     "output_type": "stream",
     "text": [
      "\n",
      "Generating walks (CPU: 1):   0%|                                                                | 0/50 [00:00<?, ?it/s]\u001b[A\n",
      "Generating walks (CPU: 1):  10%|█████▌                                                  | 5/50 [00:00<00:01, 40.32it/s]\u001b[A\n",
      "Generating walks (CPU: 1):  22%|████████████                                           | 11/50 [00:00<00:00, 49.02it/s]\u001b[A\n",
      "Generating walks (CPU: 1):  32%|█████████████████▌                                     | 16/50 [00:00<00:00, 49.23it/s]\u001b[A\n",
      "Generating walks (CPU: 1):  42%|███████████████████████                                | 21/50 [00:00<00:00, 43.61it/s]\u001b[A\n",
      "Generating walks (CPU: 1):  54%|█████████████████████████████▋                         | 27/50 [00:00<00:00, 45.92it/s]\u001b[A\n",
      "Generating walks (CPU: 1):  66%|████████████████████████████████████▎                  | 33/50 [00:00<00:00, 47.59it/s]\u001b[A\n",
      "Generating walks (CPU: 1):  76%|█████████████████████████████████████████▊             | 38/50 [00:00<00:00, 45.14it/s]\u001b[A\n",
      "Generating walks (CPU: 1):  88%|████████████████████████████████████████████████▍      | 44/50 [00:00<00:00, 49.01it/s]\u001b[A\n",
      "Generating walks (CPU: 1): 100%|███████████████████████████████████████████████████████| 50/50 [00:01<00:00, 45.33it/s]\u001b[A\n"
     ]
    },
    {
     "data": {
      "application/vnd.jupyter.widget-view+json": {
       "model_id": "ae1f32e7c7ba45ada7a3897c0b6aa64a",
       "version_major": 2,
       "version_minor": 0
      },
      "text/plain": [
       "Computing transition probabilities:   0%|          | 0/63 [00:00<?, ?it/s]"
      ]
     },
     "metadata": {},
     "output_type": "display_data"
    },
    {
     "name": "stderr",
     "output_type": "stream",
     "text": [
      "\n",
      "Generating walks (CPU: 1):   0%|                                                                | 0/50 [00:00<?, ?it/s]\u001b[A\n",
      "Generating walks (CPU: 1):  12%|██████▋                                                 | 6/50 [00:00<00:00, 54.55it/s]\u001b[A\n",
      "Generating walks (CPU: 1):  24%|█████████████▏                                         | 12/50 [00:00<00:00, 52.58it/s]\u001b[A\n",
      "Generating walks (CPU: 1):  36%|███████████████████▊                                   | 18/50 [00:00<00:00, 52.18it/s]\u001b[A\n",
      "Generating walks (CPU: 1):  48%|██████████████████████████▍                            | 24/50 [00:00<00:00, 43.51it/s]\u001b[A\n",
      "Generating walks (CPU: 1):  58%|███████████████████████████████▉                       | 29/50 [00:00<00:00, 42.10it/s]\u001b[A\n",
      "Generating walks (CPU: 1):  70%|██████████████████████████████████████▌                | 35/50 [00:00<00:00, 46.68it/s]\u001b[A\n",
      "Generating walks (CPU: 1):  80%|████████████████████████████████████████████           | 40/50 [00:00<00:00, 46.82it/s]\u001b[A\n",
      "Generating walks (CPU: 1):  90%|█████████████████████████████████████████████████▌     | 45/50 [00:00<00:00, 46.54it/s]\u001b[A\n",
      "Generating walks (CPU: 1): 100%|███████████████████████████████████████████████████████| 50/50 [00:01<00:00, 45.04it/s]\u001b[A\n"
     ]
    },
    {
     "data": {
      "application/vnd.jupyter.widget-view+json": {
       "model_id": "7457608e88be431392ba99dd6918b3b6",
       "version_major": 2,
       "version_minor": 0
      },
      "text/plain": [
       "Computing transition probabilities:   0%|          | 0/63 [00:00<?, ?it/s]"
      ]
     },
     "metadata": {},
     "output_type": "display_data"
    },
    {
     "name": "stderr",
     "output_type": "stream",
     "text": [
      "\n",
      "Generating walks (CPU: 1):   0%|                                                                | 0/50 [00:00<?, ?it/s]\u001b[A\n",
      "Generating walks (CPU: 1):  14%|███████▊                                                | 7/50 [00:00<00:00, 59.83it/s]\u001b[A\n",
      "Generating walks (CPU: 1):  26%|██████████████▎                                        | 13/50 [00:00<00:00, 49.57it/s]\u001b[A\n",
      "Generating walks (CPU: 1):  38%|████████████████████▉                                  | 19/50 [00:00<00:00, 52.24it/s]\u001b[A\n",
      "Generating walks (CPU: 1):  50%|███████████████████████████▌                           | 25/50 [00:00<00:00, 50.68it/s]\u001b[A\n",
      "Generating walks (CPU: 1):  62%|██████████████████████████████████                     | 31/50 [00:00<00:00, 51.51it/s]\u001b[A\n",
      "Generating walks (CPU: 1):  74%|████████████████████████████████████████▋              | 37/50 [00:00<00:00, 47.84it/s]\u001b[A\n",
      "Generating walks (CPU: 1):  86%|███████████████████████████████████████████████▎       | 43/50 [00:00<00:00, 48.52it/s]\u001b[A\n",
      "Generating walks (CPU: 1): 100%|███████████████████████████████████████████████████████| 50/50 [00:01<00:00, 46.60it/s]\u001b[A\n"
     ]
    },
    {
     "data": {
      "application/vnd.jupyter.widget-view+json": {
       "model_id": "5b457987a5294bb2b5efd54774a48da6",
       "version_major": 2,
       "version_minor": 0
      },
      "text/plain": [
       "Computing transition probabilities:   0%|          | 0/59 [00:00<?, ?it/s]"
      ]
     },
     "metadata": {},
     "output_type": "display_data"
    },
    {
     "name": "stderr",
     "output_type": "stream",
     "text": [
      "\n",
      "Generating walks (CPU: 1):   0%|                                                                | 0/50 [00:00<?, ?it/s]\u001b[A\n",
      "Generating walks (CPU: 1):  12%|██████▋                                                 | 6/50 [00:00<00:00, 58.82it/s]\u001b[A\n",
      "Generating walks (CPU: 1):  24%|█████████████▏                                         | 12/50 [00:00<00:00, 55.02it/s]\u001b[A\n",
      "Generating walks (CPU: 1):  36%|███████████████████▊                                   | 18/50 [00:00<00:00, 46.14it/s]\u001b[A\n",
      "Generating walks (CPU: 1):  46%|█████████████████████████▎                             | 23/50 [00:00<00:00, 46.50it/s]\u001b[A\n",
      "Generating walks (CPU: 1):  56%|██████████████████████████████▊                        | 28/50 [00:00<00:00, 45.03it/s]\u001b[A\n",
      "Generating walks (CPU: 1):  68%|█████████████████████████████████████▍                 | 34/50 [00:00<00:00, 48.23it/s]\u001b[A\n",
      "Generating walks (CPU: 1):  78%|██████████████████████████████████████████▉            | 39/50 [00:00<00:00, 43.49it/s]\u001b[A\n",
      "Generating walks (CPU: 1):  88%|████████████████████████████████████████████████▍      | 44/50 [00:00<00:00, 44.30it/s]\u001b[A\n",
      "Generating walks (CPU: 1): 100%|███████████████████████████████████████████████████████| 50/50 [00:01<00:00, 45.87it/s]\u001b[A\n"
     ]
    },
    {
     "data": {
      "application/vnd.jupyter.widget-view+json": {
       "model_id": "21f288cc082148978d45535633ee26c7",
       "version_major": 2,
       "version_minor": 0
      },
      "text/plain": [
       "Computing transition probabilities:   0%|          | 0/63 [00:00<?, ?it/s]"
      ]
     },
     "metadata": {},
     "output_type": "display_data"
    },
    {
     "name": "stderr",
     "output_type": "stream",
     "text": [
      "\n",
      "Generating walks (CPU: 1):   0%|                                                                | 0/50 [00:00<?, ?it/s]\u001b[A\n",
      "Generating walks (CPU: 1):  14%|███████▊                                                | 7/50 [00:00<00:00, 66.04it/s]\u001b[A\n",
      "Generating walks (CPU: 1):  28%|███████████████▍                                       | 14/50 [00:00<00:00, 51.69it/s]\u001b[A\n",
      "Generating walks (CPU: 1):  40%|██████████████████████                                 | 20/50 [00:00<00:00, 46.96it/s]\u001b[A\n",
      "Generating walks (CPU: 1):  52%|████████████████████████████▌                          | 26/50 [00:00<00:00, 48.64it/s]\u001b[A\n",
      "Generating walks (CPU: 1):  64%|███████████████████████████████████▏                   | 32/50 [00:00<00:00, 50.84it/s]\u001b[A\n",
      "Generating walks (CPU: 1):  76%|█████████████████████████████████████████▊             | 38/50 [00:00<00:00, 50.99it/s]\u001b[A\n",
      "Generating walks (CPU: 1):  88%|████████████████████████████████████████████████▍      | 44/50 [00:00<00:00, 50.67it/s]\u001b[A\n",
      "Generating walks (CPU: 1): 100%|███████████████████████████████████████████████████████| 50/50 [00:01<00:00, 47.08it/s]\u001b[A\n"
     ]
    },
    {
     "data": {
      "application/vnd.jupyter.widget-view+json": {
       "model_id": "26157894df82426b82541c7a20d8d03f",
       "version_major": 2,
       "version_minor": 0
      },
      "text/plain": [
       "Computing transition probabilities:   0%|          | 0/61 [00:00<?, ?it/s]"
      ]
     },
     "metadata": {},
     "output_type": "display_data"
    },
    {
     "name": "stderr",
     "output_type": "stream",
     "text": [
      "\n",
      "Generating walks (CPU: 1):   0%|                                                                | 0/50 [00:00<?, ?it/s]\u001b[A\n",
      "Generating walks (CPU: 1):   8%|████▍                                                   | 4/50 [00:00<00:01, 39.60it/s]\u001b[A\n",
      "Generating walks (CPU: 1):  18%|██████████                                              | 9/50 [00:00<00:00, 43.17it/s]\u001b[A\n",
      "Generating walks (CPU: 1):  28%|███████████████▍                                       | 14/50 [00:00<00:00, 42.09it/s]\u001b[A\n",
      "Generating walks (CPU: 1):  38%|████████████████████▉                                  | 19/50 [00:00<00:00, 39.88it/s]\u001b[A\n",
      "Generating walks (CPU: 1):  48%|██████████████████████████▍                            | 24/50 [00:00<00:00, 41.89it/s]\u001b[A\n",
      "Generating walks (CPU: 1):  60%|█████████████████████████████████                      | 30/50 [00:00<00:00, 43.68it/s]\u001b[A\n",
      "Generating walks (CPU: 1):  72%|███████████████████████████████████████▌               | 36/50 [00:00<00:00, 46.49it/s]\u001b[A\n",
      "Generating walks (CPU: 1):  82%|█████████████████████████████████████████████          | 41/50 [00:00<00:00, 43.89it/s]\u001b[A\n",
      "Generating walks (CPU: 1): 100%|███████████████████████████████████████████████████████| 50/50 [00:01<00:00, 41.81it/s]\u001b[A\n"
     ]
    },
    {
     "data": {
      "application/vnd.jupyter.widget-view+json": {
       "model_id": "029f605d078344e48ba368269beb1b00",
       "version_major": 2,
       "version_minor": 0
      },
      "text/plain": [
       "Computing transition probabilities:   0%|          | 0/63 [00:00<?, ?it/s]"
      ]
     },
     "metadata": {},
     "output_type": "display_data"
    },
    {
     "name": "stderr",
     "output_type": "stream",
     "text": [
      "\n",
      "Generating walks (CPU: 1):   0%|                                                                | 0/50 [00:00<?, ?it/s]\u001b[A\n",
      "Generating walks (CPU: 1):  14%|███████▊                                                | 7/50 [00:00<00:00, 64.82it/s]\u001b[A\n",
      "Generating walks (CPU: 1):  28%|███████████████▍                                       | 14/50 [00:00<00:00, 46.74it/s]\u001b[A\n",
      "Generating walks (CPU: 1):  38%|████████████████████▉                                  | 19/50 [00:00<00:00, 46.57it/s]\u001b[A\n",
      "Generating walks (CPU: 1):  48%|██████████████████████████▍                            | 24/50 [00:00<00:00, 46.78it/s]\u001b[A\n",
      "Generating walks (CPU: 1):  58%|███████████████████████████████▉                       | 29/50 [00:00<00:00, 44.68it/s]\u001b[A\n",
      "Generating walks (CPU: 1):  68%|█████████████████████████████████████▍                 | 34/50 [00:00<00:00, 45.58it/s]\u001b[A\n",
      "Generating walks (CPU: 1):  78%|██████████████████████████████████████████▉            | 39/50 [00:00<00:00, 44.15it/s]\u001b[A\n",
      "Generating walks (CPU: 1):  88%|████████████████████████████████████████████████▍      | 44/50 [00:00<00:00, 44.06it/s]\u001b[A\n",
      "Generating walks (CPU: 1): 100%|███████████████████████████████████████████████████████| 50/50 [00:01<00:00, 45.54it/s]\u001b[A\n"
     ]
    },
    {
     "data": {
      "application/vnd.jupyter.widget-view+json": {
       "model_id": "2d21f112155f4fdabb98bea925a37d94",
       "version_major": 2,
       "version_minor": 0
      },
      "text/plain": [
       "Computing transition probabilities:   0%|          | 0/47 [00:00<?, ?it/s]"
      ]
     },
     "metadata": {},
     "output_type": "display_data"
    },
    {
     "name": "stderr",
     "output_type": "stream",
     "text": [
      "\n",
      "Generating walks (CPU: 1):   0%|                                                                | 0/50 [00:00<?, ?it/s]\u001b[A\n",
      "Generating walks (CPU: 1):  18%|██████████                                              | 9/50 [00:00<00:00, 81.82it/s]\u001b[A\n",
      "Generating walks (CPU: 1):  36%|███████████████████▊                                   | 18/50 [00:00<00:00, 65.11it/s]\u001b[A\n",
      "Generating walks (CPU: 1):  52%|████████████████████████████▌                          | 26/50 [00:00<00:00, 70.47it/s]\u001b[A\n",
      "Generating walks (CPU: 1):  68%|█████████████████████████████████████▍                 | 34/50 [00:00<00:00, 63.38it/s]\u001b[A\n",
      "Generating walks (CPU: 1):  82%|█████████████████████████████████████████████          | 41/50 [00:00<00:00, 61.15it/s]\u001b[A\n",
      "Generating walks (CPU: 1): 100%|███████████████████████████████████████████████████████| 50/50 [00:00<00:00, 61.35it/s]\u001b[A\n"
     ]
    },
    {
     "data": {
      "application/vnd.jupyter.widget-view+json": {
       "model_id": "bc6d2f330a4e4472b931a86d3364acf5",
       "version_major": 2,
       "version_minor": 0
      },
      "text/plain": [
       "Computing transition probabilities:   0%|          | 0/59 [00:00<?, ?it/s]"
      ]
     },
     "metadata": {},
     "output_type": "display_data"
    },
    {
     "name": "stderr",
     "output_type": "stream",
     "text": [
      "\n",
      "Generating walks (CPU: 1):   0%|                                                                | 0/50 [00:00<?, ?it/s]\u001b[A\n",
      "Generating walks (CPU: 1):  10%|█████▌                                                  | 5/50 [00:00<00:01, 44.25it/s]\u001b[A\n",
      "Generating walks (CPU: 1):  22%|████████████                                           | 11/50 [00:00<00:00, 52.75it/s]\u001b[A\n",
      "Generating walks (CPU: 1):  34%|██████████████████▋                                    | 17/50 [00:00<00:00, 49.99it/s]\u001b[A\n",
      "Generating walks (CPU: 1):  46%|█████████████████████████▎                             | 23/50 [00:00<00:00, 46.11it/s]\u001b[A\n",
      "Generating walks (CPU: 1):  56%|██████████████████████████████▊                        | 28/50 [00:00<00:00, 45.90it/s]\u001b[A\n",
      "Generating walks (CPU: 1):  68%|█████████████████████████████████████▍                 | 34/50 [00:00<00:00, 47.02it/s]\u001b[A\n",
      "Generating walks (CPU: 1):  80%|████████████████████████████████████████████           | 40/50 [00:00<00:00, 49.60it/s]\u001b[A\n",
      "Generating walks (CPU: 1): 100%|███████████████████████████████████████████████████████| 50/50 [00:01<00:00, 47.76it/s]\u001b[A\n"
     ]
    },
    {
     "data": {
      "application/vnd.jupyter.widget-view+json": {
       "model_id": "78ba76efe08747c3929fc59ea6f7dd63",
       "version_major": 2,
       "version_minor": 0
      },
      "text/plain": [
       "Computing transition probabilities:   0%|          | 0/63 [00:00<?, ?it/s]"
      ]
     },
     "metadata": {},
     "output_type": "display_data"
    },
    {
     "name": "stderr",
     "output_type": "stream",
     "text": [
      "\n",
      "Generating walks (CPU: 1):   0%|                                                                | 0/50 [00:00<?, ?it/s]\u001b[A\n",
      "Generating walks (CPU: 1):  14%|███████▊                                                | 7/50 [00:00<00:00, 62.50it/s]\u001b[A\n",
      "Generating walks (CPU: 1):  28%|███████████████▍                                       | 14/50 [00:00<00:00, 46.41it/s]\u001b[A\n",
      "Generating walks (CPU: 1):  38%|████████████████████▉                                  | 19/50 [00:00<00:00, 45.27it/s]\u001b[A\n",
      "Generating walks (CPU: 1):  48%|██████████████████████████▍                            | 24/50 [00:00<00:00, 42.63it/s]\u001b[A\n",
      "Generating walks (CPU: 1):  58%|███████████████████████████████▉                       | 29/50 [00:00<00:00, 41.95it/s]\u001b[A\n",
      "Generating walks (CPU: 1):  68%|█████████████████████████████████████▍                 | 34/50 [00:00<00:00, 40.55it/s]\u001b[A\n",
      "Generating walks (CPU: 1):  78%|██████████████████████████████████████████▉            | 39/50 [00:00<00:00, 41.11it/s]\u001b[A\n",
      "Generating walks (CPU: 1):  88%|████████████████████████████████████████████████▍      | 44/50 [00:01<00:00, 42.70it/s]\u001b[A\n",
      "Generating walks (CPU: 1): 100%|███████████████████████████████████████████████████████| 50/50 [00:01<00:00, 42.95it/s]\u001b[A\n"
     ]
    },
    {
     "data": {
      "application/vnd.jupyter.widget-view+json": {
       "model_id": "694c62296238441dbcc0761442f54af2",
       "version_major": 2,
       "version_minor": 0
      },
      "text/plain": [
       "Computing transition probabilities:   0%|          | 0/55 [00:00<?, ?it/s]"
      ]
     },
     "metadata": {},
     "output_type": "display_data"
    },
    {
     "name": "stderr",
     "output_type": "stream",
     "text": [
      "\n",
      "Generating walks (CPU: 1):   0%|                                                                | 0/50 [00:00<?, ?it/s]\u001b[A\n",
      "Generating walks (CPU: 1):  10%|█████▌                                                  | 5/50 [00:00<00:00, 49.49it/s]\u001b[A\n",
      "Generating walks (CPU: 1):  20%|███████████                                            | 10/50 [00:00<00:00, 42.76it/s]\u001b[A\n",
      "Generating walks (CPU: 1):  30%|████████████████▌                                      | 15/50 [00:00<00:00, 40.98it/s]\u001b[A\n",
      "Generating walks (CPU: 1):  42%|███████████████████████                                | 21/50 [00:00<00:00, 45.54it/s]\u001b[A\n",
      "Generating walks (CPU: 1):  54%|█████████████████████████████▋                         | 27/50 [00:00<00:00, 49.09it/s]\u001b[A\n",
      "Generating walks (CPU: 1):  64%|███████████████████████████████████▏                   | 32/50 [00:00<00:00, 48.31it/s]\u001b[A\n",
      "Generating walks (CPU: 1):  76%|█████████████████████████████████████████▊             | 38/50 [00:00<00:00, 51.23it/s]\u001b[A\n",
      "Generating walks (CPU: 1):  88%|████████████████████████████████████████████████▍      | 44/50 [00:00<00:00, 51.99it/s]\u001b[A\n",
      "Generating walks (CPU: 1): 100%|███████████████████████████████████████████████████████| 50/50 [00:01<00:00, 47.74it/s]\u001b[A\n"
     ]
    },
    {
     "data": {
      "application/vnd.jupyter.widget-view+json": {
       "model_id": "e937575a5f2045019a72bd7d1054fc8e",
       "version_major": 2,
       "version_minor": 0
      },
      "text/plain": [
       "Computing transition probabilities:   0%|          | 0/61 [00:00<?, ?it/s]"
      ]
     },
     "metadata": {},
     "output_type": "display_data"
    },
    {
     "name": "stderr",
     "output_type": "stream",
     "text": [
      "\n",
      "Generating walks (CPU: 1):   0%|                                                                | 0/50 [00:00<?, ?it/s]\u001b[A\n",
      "Generating walks (CPU: 1):  14%|███████▊                                                | 7/50 [00:00<00:00, 64.22it/s]\u001b[A\n",
      "Generating walks (CPU: 1):  28%|███████████████▍                                       | 14/50 [00:00<00:00, 62.21it/s]\u001b[A\n",
      "Generating walks (CPU: 1):  42%|███████████████████████                                | 21/50 [00:00<00:00, 47.77it/s]\u001b[A\n",
      "Generating walks (CPU: 1):  54%|█████████████████████████████▋                         | 27/50 [00:00<00:00, 42.40it/s]\u001b[A\n",
      "Generating walks (CPU: 1):  64%|███████████████████████████████████▏                   | 32/50 [00:00<00:00, 43.49it/s]\u001b[A\n",
      "Generating walks (CPU: 1):  74%|████████████████████████████████████████▋              | 37/50 [00:00<00:00, 44.18it/s]\u001b[A\n",
      "Generating walks (CPU: 1):  84%|██████████████████████████████████████████████▏        | 42/50 [00:00<00:00, 45.28it/s]\u001b[A\n",
      "Generating walks (CPU: 1): 100%|███████████████████████████████████████████████████████| 50/50 [00:01<00:00, 44.76it/s]\u001b[A\n"
     ]
    },
    {
     "data": {
      "application/vnd.jupyter.widget-view+json": {
       "model_id": "476f68c51dbf4c9fae6aab99346e59f8",
       "version_major": 2,
       "version_minor": 0
      },
      "text/plain": [
       "Computing transition probabilities:   0%|          | 0/61 [00:00<?, ?it/s]"
      ]
     },
     "metadata": {},
     "output_type": "display_data"
    },
    {
     "name": "stderr",
     "output_type": "stream",
     "text": [
      "\n",
      "Generating walks (CPU: 1):   0%|                                                                | 0/50 [00:00<?, ?it/s]\u001b[A\n",
      "Generating walks (CPU: 1):  12%|██████▋                                                 | 6/50 [00:00<00:00, 52.17it/s]\u001b[A\n",
      "Generating walks (CPU: 1):  24%|█████████████▏                                         | 12/50 [00:00<00:00, 48.23it/s]\u001b[A\n",
      "Generating walks (CPU: 1):  34%|██████████████████▋                                    | 17/50 [00:00<00:00, 43.66it/s]\u001b[A\n",
      "Generating walks (CPU: 1):  44%|████████████████████████▏                              | 22/50 [00:00<00:00, 44.02it/s]\u001b[A\n",
      "Generating walks (CPU: 1):  56%|██████████████████████████████▊                        | 28/50 [00:00<00:00, 47.15it/s]\u001b[A\n",
      "Generating walks (CPU: 1):  68%|█████████████████████████████████████▍                 | 34/50 [00:00<00:00, 49.69it/s]\u001b[A\n",
      "Generating walks (CPU: 1):  78%|██████████████████████████████████████████▉            | 39/50 [00:00<00:00, 46.73it/s]\u001b[A\n",
      "Generating walks (CPU: 1):  88%|████████████████████████████████████████████████▍      | 44/50 [00:00<00:00, 46.47it/s]\u001b[A\n",
      "Generating walks (CPU: 1): 100%|███████████████████████████████████████████████████████| 50/50 [00:01<00:00, 45.66it/s]\u001b[A\n"
     ]
    },
    {
     "data": {
      "application/vnd.jupyter.widget-view+json": {
       "model_id": "ded11677e58448fc8d14d46619fe0ff9",
       "version_major": 2,
       "version_minor": 0
      },
      "text/plain": [
       "Computing transition probabilities:   0%|          | 0/63 [00:00<?, ?it/s]"
      ]
     },
     "metadata": {},
     "output_type": "display_data"
    },
    {
     "name": "stderr",
     "output_type": "stream",
     "text": [
      "\n",
      "Generating walks (CPU: 1):   0%|                                                                | 0/50 [00:00<?, ?it/s]\u001b[A\n",
      "Generating walks (CPU: 1):  12%|██████▋                                                 | 6/50 [00:00<00:00, 56.61it/s]\u001b[A\n",
      "Generating walks (CPU: 1):  24%|█████████████▏                                         | 12/50 [00:00<00:00, 42.82it/s]\u001b[A\n",
      "Generating walks (CPU: 1):  34%|██████████████████▋                                    | 17/50 [00:00<00:00, 43.71it/s]\u001b[A\n",
      "Generating walks (CPU: 1):  44%|████████████████████████▏                              | 22/50 [00:00<00:00, 45.23it/s]\u001b[A\n",
      "Generating walks (CPU: 1):  54%|█████████████████████████████▋                         | 27/50 [00:00<00:00, 42.63it/s]\u001b[A\n",
      "Generating walks (CPU: 1):  64%|███████████████████████████████████▏                   | 32/50 [00:00<00:00, 43.28it/s]\u001b[A\n",
      "Generating walks (CPU: 1):  74%|████████████████████████████████████████▋              | 37/50 [00:00<00:00, 43.83it/s]\u001b[A\n",
      "Generating walks (CPU: 1):  84%|██████████████████████████████████████████████▏        | 42/50 [00:00<00:00, 45.47it/s]\u001b[A\n",
      "Generating walks (CPU: 1): 100%|███████████████████████████████████████████████████████| 50/50 [00:01<00:00, 43.48it/s]\u001b[A\n"
     ]
    },
    {
     "data": {
      "application/vnd.jupyter.widget-view+json": {
       "model_id": "00b372eecdd941f8ab0600f304aef9c4",
       "version_major": 2,
       "version_minor": 0
      },
      "text/plain": [
       "Computing transition probabilities:   0%|          | 0/59 [00:00<?, ?it/s]"
      ]
     },
     "metadata": {},
     "output_type": "display_data"
    },
    {
     "name": "stderr",
     "output_type": "stream",
     "text": [
      "\n",
      "Generating walks (CPU: 1):   0%|                                                                | 0/50 [00:00<?, ?it/s]\u001b[A\n",
      "Generating walks (CPU: 1):  10%|█████▌                                                  | 5/50 [00:00<00:01, 39.68it/s]\u001b[A\n",
      "Generating walks (CPU: 1):  20%|███████████                                            | 10/50 [00:00<00:00, 43.32it/s]\u001b[A\n",
      "Generating walks (CPU: 1):  30%|████████████████▌                                      | 15/50 [00:00<00:00, 43.39it/s]\u001b[A\n",
      "Generating walks (CPU: 1):  40%|██████████████████████                                 | 20/50 [00:00<00:00, 44.03it/s]\u001b[A\n",
      "Generating walks (CPU: 1):  50%|███████████████████████████▌                           | 25/50 [00:00<00:00, 45.11it/s]\u001b[A\n",
      "Generating walks (CPU: 1):  60%|█████████████████████████████████                      | 30/50 [00:00<00:00, 39.62it/s]\u001b[A\n",
      "Generating walks (CPU: 1):  72%|███████████████████████████████████████▌               | 36/50 [00:00<00:00, 43.71it/s]\u001b[A\n",
      "Generating walks (CPU: 1):  82%|█████████████████████████████████████████████          | 41/50 [00:00<00:00, 41.54it/s]\u001b[A\n",
      "Generating walks (CPU: 1): 100%|███████████████████████████████████████████████████████| 50/50 [00:01<00:00, 42.27it/s]\u001b[A\n"
     ]
    },
    {
     "data": {
      "text/plain": [
       "NodeTransformer(dimension=10, impurity_reweight=True, max_depth=5,\n",
       "        mode='Extended', n_estimators=50, n_walks=50, random_state=0,\n",
       "        walk_length=5, window=5)"
      ]
     },
     "execution_count": 17,
     "metadata": {},
     "output_type": "execute_result"
    }
   ],
   "source": [
    "# example of usage of NodeTransformer\n",
    "from NodeTransformer import NodeTransformer\n",
    "\n",
    "\n",
    "\n",
    "\n",
    "ndt = NodeTransformer(n_estimators=seq_number,dimension=dimension, max_depth=depth, random_state = 0)\n",
    "\n",
    "\n",
    "ndt.fit(X_train,y_train)"
   ]
  },
  {
   "cell_type": "code",
   "execution_count": 18,
   "metadata": {
    "scrolled": true
   },
   "outputs": [
    {
     "data": {
      "application/vnd.jupyter.widget-view+json": {
       "model_id": "e563ed1a73a84fc18ca612abd565a02a",
       "version_major": 2,
       "version_minor": 0
      },
      "text/plain": [
       "0it [00:00, ?it/s]"
      ]
     },
     "metadata": {},
     "output_type": "display_data"
    },
    {
     "name": "stdout",
     "output_type": "stream",
     "text": [
      "(27126, 10, 50)\n"
     ]
    },
    {
     "data": {
      "application/vnd.jupyter.widget-view+json": {
       "model_id": "6c3de576704a4e99b8fcbe34331ba709",
       "version_major": 2,
       "version_minor": 0
      },
      "text/plain": [
       "0it [00:00, ?it/s]"
      ]
     },
     "metadata": {},
     "output_type": "display_data"
    },
    {
     "data": {
      "application/vnd.jupyter.widget-view+json": {
       "model_id": "4953d898869a45cc9ae4e2858781902e",
       "version_major": 2,
       "version_minor": 0
      },
      "text/plain": [
       "0it [00:00, ?it/s]"
      ]
     },
     "metadata": {},
     "output_type": "display_data"
    }
   ],
   "source": [
    "X_train_transformed = ndt.transform_matrix(X_train)\n",
    "\n",
    "print(np.shape(X_train_transformed))\n",
    "\n",
    "X_test_transformed = ndt.transform_matrix(X_test)\n",
    "X_val_transformed = ndt.transform_matrix(X_val)"
   ]
  },
  {
   "cell_type": "code",
   "execution_count": 19,
   "metadata": {},
   "outputs": [
    {
     "name": "stdout",
     "output_type": "stream",
     "text": [
      "(27126, 50, 10)\n",
      "(14468, 50, 10)\n"
     ]
    }
   ],
   "source": [
    "\n",
    "X_train_transformed = np.transpose(X_train_transformed, (0, 2, 1))\n",
    "X_test_transformed = np.transpose(X_test_transformed, (0, 2, 1))\n",
    "X_val_transformed = np.transpose(X_val_transformed, (0, 2, 1))\n",
    "\n",
    "print(np.shape(X_train_transformed))\n",
    "print(np.shape(X_test_transformed))"
   ]
  },
  {
   "cell_type": "code",
   "execution_count": 20,
   "metadata": {},
   "outputs": [
    {
     "data": {
      "text/plain": [
       "array([[ 5.09527385e-01,  5.37955940e-01,  3.94710302e-01,\n",
       "        -3.24108452e-01, -2.64956266e-01, -6.60456538e-01,\n",
       "        -7.10380301e-02,  7.84604609e-01, -4.24877912e-01,\n",
       "         2.84009427e-01],\n",
       "       [ 5.72587490e-01, -5.07877648e-01,  9.96514976e-01,\n",
       "         1.14024043e-01, -4.23516899e-01, -6.26914948e-02,\n",
       "         1.92067981e-01,  2.44639125e-02,  3.00941199e-01,\n",
       "        -5.67326367e-01],\n",
       "       [ 1.34925529e-01,  7.45502941e-04,  4.68837976e-01,\n",
       "         7.33609438e-01, -2.81058669e-01, -5.44896305e-01,\n",
       "        -1.29778489e-01,  4.06639457e-01, -2.57763714e-01,\n",
       "         1.03629306e-01],\n",
       "       [ 2.44488120e-01, -2.32170671e-01,  8.10336947e-01,\n",
       "        -2.16700941e-01, -9.65442136e-02, -8.15364301e-01,\n",
       "         2.43054762e-01,  9.03576374e-01,  1.30369514e-02,\n",
       "         6.57589436e-02],\n",
       "       [-3.48750614e-02, -3.22757870e-01,  7.50201583e-01,\n",
       "         7.54046857e-01, -2.63132364e-01, -1.54876351e-01,\n",
       "        -6.95149302e-01,  1.92086026e-01, -2.75172368e-02,\n",
       "        -6.39799297e-01]], dtype=float32)"
      ]
     },
     "execution_count": 20,
     "metadata": {},
     "output_type": "execute_result"
    }
   ],
   "source": [
    "X_train_transformed[0,2:7,:]"
   ]
  },
  {
   "cell_type": "code",
   "execution_count": null,
   "metadata": {
    "scrolled": true
   },
   "outputs": [],
   "source": [
    "from sklearn.model_selection import cross_validate\n",
    "from sklearn.pipeline import Pipeline\n",
    "from sklearn.preprocessing import StandardScaler\n",
    "from sklearn.linear_model import LogisticRegression\n",
    "from sklearn.model_selection import GridSearchCV\n",
    "from sklearn.metrics import make_scorer, roc_auc_score\n",
    "from tqdm import tqdm_notebook as tqdm\n",
    "import pickle\n",
    "\n",
    "\n",
    "\n",
    "param_grid = {'rfne__n_estimators':[50, 100, 200],\n",
    "                   'rfne__max_depth':[5],'rfne__dimension' : [10]}\n",
    "\n",
    "grid_results = []\n",
    "\n",
    "\n",
    "for i,ii in tqdm(enumerate(param_grid['rfne__n_estimators'])):\n",
    "    for j,jj in enumerate(param_grid['rfne__max_depth']):\n",
    "        for k,kk in enumerate(param_grid['rfne__dimension']):\n",
    "            \n",
    "            scoring = {'auc': make_scorer(roc_auc_score)}\n",
    "            estimators = [('scale', StandardScaler()), ('rfne', NodeTransformer(n_estimators=ii,max_depth=jj,dimension=kk)), ('logreg',LogisticRegression())]\n",
    "\n",
    "            pipe = Pipeline(estimators)\n",
    "            auc = cross_validate(pipe,X_train,y_train, cv=10, scoring ='roc_auc', n_jobs = -1, verbose=1 )\n",
    "            auc['pars'] = [ii,jj,kk]\n",
    "            print(auc)\n",
    "            grid_results.append(auc)\n",
    "            pickle.dump(grid_results, open('grid_res_default.pkl','wb'))\n"
   ]
  },
  {
   "cell_type": "code",
   "execution_count": 96,
   "metadata": {},
   "outputs": [],
   "source": [
    "import pickle\n",
    "\n",
    "pickle.dump(grid_results, open('grid_res.pkl','wb'))"
   ]
  },
  {
   "cell_type": "code",
   "execution_count": 60,
   "metadata": {},
   "outputs": [
    {
     "data": {
      "text/plain": [
       "[{'fit_time': array([72.89865279, 76.02229881, 75.3750298 , 72.37605309, 64.37732291,\n",
       "         65.12831426, 66.71780515, 66.7747004 , 50.05456042, 48.89764094]),\n",
       "  'score_time': array([2.31381226, 1.7694788 , 1.84033775, 2.29785347, 2.6638763 ,\n",
       "         2.5920682 , 2.42750597, 2.26793551, 1.51893806, 1.63762212]),\n",
       "  'test_score': array([0.77065086, 0.77177886, 0.773256  , 0.77682171, 0.76426914,\n",
       "         0.75854171, 0.76652242, 0.77139032, 0.78405396, 0.79211103]),\n",
       "  'pars': [50, 5, 10]},\n",
       " {'fit_time': array([156.3336463 , 157.69001555, 150.98791718, 152.57766771,\n",
       "         149.73688579, 150.03708315, 149.93636727, 152.5792098 ,\n",
       "         104.39023852, 105.01756215]),\n",
       "  'score_time': array([6.15054727, 5.74463582, 6.00097203, 5.76061583, 4.94877791,\n",
       "         4.98567986, 5.40446043, 4.35734582, 3.98135209, 3.63029027]),\n",
       "  'test_score': array([0.76946   , 0.76995314, 0.77578457, 0.782192  , 0.76137029,\n",
       "         0.75939829, 0.7564876 , 0.77137206, 0.77983655, 0.79469877]),\n",
       "  'pars': [100, 5, 10]},\n",
       " {'fit_time': array([295.86216974, 298.53501868, 298.32358599, 292.66870856,\n",
       "         296.06532931, 297.56148291, 299.94601178, 295.90491319,\n",
       "         228.85911489, 229.72380161]),\n",
       "  'score_time': array([11.93243933, 10.67879462, 10.8573153 , 12.93591309, 12.28423548,\n",
       "         13.27359152, 11.72382855, 11.69082451, 10.87989855,  9.61827397]),\n",
       "  'test_score': array([0.77176286, 0.77417714, 0.77192514, 0.78160114, 0.75342971,\n",
       "         0.75806114, 0.75019201, 0.77550217, 0.77287221, 0.7890183 ]),\n",
       "  'pars': [200, 5, 10]}]"
      ]
     },
     "execution_count": 60,
     "metadata": {},
     "output_type": "execute_result"
    }
   ],
   "source": [
    "grid_results\n"
   ]
  },
  {
   "cell_type": "code",
   "execution_count": 202,
   "metadata": {},
   "outputs": [
    {
     "name": "stdout",
     "output_type": "stream",
     "text": [
      "[50, 5, 10] 0.7115319527143976 +/-0.047778\n"
     ]
    }
   ],
   "source": [
    "# for combination nodetransformer + logistic regression\n",
    "for i in grid_results:\n",
    "    m =np.mean(i['test_score'])\n",
    "    std = np.std(i['test_score'])\n",
    "    print(i['pars'],m, '+/-%f'%(std*1.96))\n",
    "    "
   ]
  },
  {
   "cell_type": "markdown",
   "metadata": {},
   "source": [
    "# GRID Results Standard Algorithms"
   ]
  },
  {
   "cell_type": "code",
   "execution_count": 13,
   "metadata": {},
   "outputs": [],
   "source": [
    "from sklearn.model_selection import cross_validate\n",
    "from sklearn.pipeline import Pipeline\n",
    "from sklearn.preprocessing import StandardScaler\n",
    "from sklearn.linear_model import LogisticRegression\n",
    "from sklearn.model_selection import GridSearchCV\n",
    "from sklearn.metrics import make_scorer, roc_auc_score\n",
    "from tqdm import tqdm_notebook as tqdm\n",
    "import pickle"
   ]
  },
  {
   "cell_type": "code",
   "execution_count": 14,
   "metadata": {},
   "outputs": [
    {
     "name": "stderr",
     "output_type": "stream",
     "text": [
      "[Parallel(n_jobs=4)]: Using backend LokyBackend with 4 concurrent workers.\n",
      "C:\\Users\\xg16060\\Anaconda3\\envs\\cat_embedding\\lib\\site-packages\\sklearn\\externals\\joblib\\numpy_pickle.py:104: DeprecationWarning: tostring() is deprecated. Use tobytes() instead.\n",
      "  pickler.file_handle.write(chunk.tostring('C'))\n",
      "[Parallel(n_jobs=4)]: Done  10 out of  10 | elapsed:   31.0s finished\n",
      "[Parallel(n_jobs=4)]: Using backend LokyBackend with 4 concurrent workers.\n",
      "C:\\Users\\xg16060\\Anaconda3\\envs\\cat_embedding\\lib\\site-packages\\sklearn\\externals\\joblib\\numpy_pickle.py:104: DeprecationWarning: tostring() is deprecated. Use tobytes() instead.\n",
      "  pickler.file_handle.write(chunk.tostring('C'))\n"
     ]
    },
    {
     "name": "stdout",
     "output_type": "stream",
     "text": [
      "{'fit_time': array([ 3.26299763,  3.42298603,  2.53398943,  2.89698815,  0.55799794,\n",
      "        1.34598994, 10.39750051,  0.58299804,  0.51200032,  0.99099159]), 'score_time': array([0.06098843, 3.79001522, 6.54251885, 0.61599851, 0.40099764,\n",
      "       1.63699245, 0.94799733, 0.1000011 , 4.7639792 , 0.06599879]), 'test_score': array([0.87711901, 0.87570434, 0.85319202, 0.85910922, 0.87638689,\n",
      "       0.85662285, 0.89577434, 0.89734341, 0.87607378, 0.88134893]), 'train_score': array([0.87693254, 0.87607068, 0.87845461, 0.87816188, 0.8762236 ,\n",
      "       0.87824062, 0.87418378, 0.87357554, 0.87550823, 0.87499502]), 'pars': 'l1'}\n",
      "{'fit_time': array([0.67799616, 1.30799365, 2.96598291, 2.56298804, 1.76999283,\n",
      "       0.42099929, 3.32901478, 2.51502037, 0.89599609, 1.03599477]), 'score_time': array([3.59098792, 2.06599069, 0.98299313, 0.07399917, 0.38099742,\n",
      "       0.91899633, 0.02600193, 1.23199391, 0.31599927, 0.45899892]), 'test_score': array([0.87712427, 0.87567265, 0.85316825, 0.85908546, 0.87637236,\n",
      "       0.85662153, 0.89580868, 0.89737907, 0.87605661, 0.88136081]), 'train_score': array([0.87691883, 0.87605986, 0.87844346, 0.87815119, 0.87621414,\n",
      "       0.87822519, 0.87417021, 0.87356294, 0.87549824, 0.87498451]), 'pars': 'l2'}\n"
     ]
    },
    {
     "name": "stderr",
     "output_type": "stream",
     "text": [
      "[Parallel(n_jobs=4)]: Done  10 out of  10 | elapsed:   10.8s finished\n"
     ]
    }
   ],
   "source": [
    "# Logistic\n",
    "from sklearn.linear_model import LogisticRegression\n",
    "import pickle\n",
    "\n",
    "\n",
    "grid_resultsl =[]\n",
    "\n",
    "for P in ['l1','l2']:\n",
    "    estimatorsl = [('scale', StandardScaler()), ('rfne', LogisticRegression(penalty=P))]\n",
    "    pipel = Pipeline(estimatorsl)\n",
    "    auc = cross_validate(pipel,X_train,y_train, cv=10, scoring ='roc_auc', n_jobs = 4, verbose=2 )\n",
    "    auc['pars'] = P\n",
    "    grid_resultsl.append(auc) \n",
    "    #dump each iteration\n",
    "    pickle.dump(grid_resultsl, open('grid_res_log_default.pkl','wb'))\n",
    "    print(auc)"
   ]
  },
  {
   "cell_type": "code",
   "execution_count": 15,
   "metadata": {},
   "outputs": [
    {
     "name": "stdout",
     "output_type": "stream",
     "text": [
      "l1 0.8748674779850519 +/-0.028027\n",
      "l2 0.8748649705542302 +/-0.028061\n"
     ]
    }
   ],
   "source": [
    "for i in grid_resultsl:\n",
    "    m =np.mean(i['test_score'])\n",
    "    std = np.std(i['test_score'])\n",
    "    print(i['pars'],m, '+/-%f'%(std*1.96))"
   ]
  },
  {
   "cell_type": "code",
   "execution_count": 18,
   "metadata": {
    "scrolled": true
   },
   "outputs": [
    {
     "name": "stderr",
     "output_type": "stream",
     "text": [
      "[Parallel(n_jobs=4)]: Using backend LokyBackend with 4 concurrent workers.\n",
      "C:\\Users\\xg16060\\Anaconda3\\envs\\cat_embedding\\lib\\site-packages\\sklearn\\externals\\joblib\\numpy_pickle.py:104: DeprecationWarning: tostring() is deprecated. Use tobytes() instead.\n",
      "  pickler.file_handle.write(chunk.tostring('C'))\n",
      "[Parallel(n_jobs=4)]: Done  10 out of  10 | elapsed:   50.5s finished\n",
      "[Parallel(n_jobs=4)]: Using backend LokyBackend with 4 concurrent workers.\n",
      "C:\\Users\\xg16060\\Anaconda3\\envs\\cat_embedding\\lib\\site-packages\\sklearn\\externals\\joblib\\numpy_pickle.py:104: DeprecationWarning: tostring() is deprecated. Use tobytes() instead.\n",
      "  pickler.file_handle.write(chunk.tostring('C'))\n"
     ]
    },
    {
     "name": "stdout",
     "output_type": "stream",
     "text": [
      "{'fit_time': array([3.5090003 , 2.97900152, 3.75000095, 2.40600014, 1.51600003,\n",
      "       2.77299905, 1.75999951, 1.7970407 , 2.13251543, 2.39151406]), 'score_time': array([3.86000156, 4.41900039, 3.85300112, 5.39300251, 3.17901087,\n",
      "       4.16103983, 3.16703963, 3.30106091, 3.19000053, 4.8370285 ]), 'test_score': array([0.64631854, 0.65500256, 0.65437678, 0.65762781, 0.68348357,\n",
      "       0.68277562, 0.70550073, 0.68560998, 0.66949135, 0.66543923]), 'train_score': array([1., 1., 1., 1., 1., 1., 1., 1., 1., 1.]), 'pars': 1}\n"
     ]
    },
    {
     "name": "stderr",
     "output_type": "stream",
     "text": [
      "[Parallel(n_jobs=4)]: Done  10 out of  10 | elapsed:  1.6min finished\n",
      "[Parallel(n_jobs=4)]: Using backend LokyBackend with 4 concurrent workers.\n",
      "C:\\Users\\xg16060\\Anaconda3\\envs\\cat_embedding\\lib\\site-packages\\sklearn\\externals\\joblib\\numpy_pickle.py:104: DeprecationWarning: tostring() is deprecated. Use tobytes() instead.\n",
      "  pickler.file_handle.write(chunk.tostring('C'))\n"
     ]
    },
    {
     "name": "stdout",
     "output_type": "stream",
     "text": [
      "{'fit_time': array([3.70713806, 4.65313959, 1.93413758, 1.66513753, 1.33999944,\n",
      "       0.97900081, 1.62499905, 1.80300021, 1.68949723, 2.32899952]), 'score_time': array([8.06102467, 6.87802434, 4.27502489, 3.55802417, 3.3330009 ,\n",
      "       3.91900134, 3.27000022, 4.21720099, 3.04199958, 2.92103982]), 'test_score': array([0.71849407, 0.71196987, 0.712795  , 0.71959081, 0.74017363,\n",
      "       0.74137671, 0.7563661 , 0.77606929, 0.73741045, 0.747408  ]), 'train_score': array([0.9828774 , 0.98298666, 0.98291224, 0.98278557, 0.98231396,\n",
      "       0.98173884, 0.98195109, 0.98238399, 0.98247997, 0.98225729]), 'pars': 2}\n"
     ]
    },
    {
     "name": "stderr",
     "output_type": "stream",
     "text": [
      "[Parallel(n_jobs=4)]: Done  10 out of  10 | elapsed:  1.7min finished\n",
      "[Parallel(n_jobs=4)]: Using backend LokyBackend with 4 concurrent workers.\n",
      "C:\\Users\\xg16060\\Anaconda3\\envs\\cat_embedding\\lib\\site-packages\\sklearn\\externals\\joblib\\numpy_pickle.py:104: DeprecationWarning: tostring() is deprecated. Use tobytes() instead.\n",
      "  pickler.file_handle.write(chunk.tostring('C'))\n"
     ]
    },
    {
     "name": "stdout",
     "output_type": "stream",
     "text": [
      "{'fit_time': array([1.89500403, 1.61499977, 1.41799998, 1.8509984 , 1.70000434,\n",
      "       1.18399835, 1.60652041, 2.30841446, 1.46201372, 1.38653064]), 'score_time': array([3.96499968, 4.30500126, 4.92100191, 4.21307659, 4.28045845,\n",
      "       4.07545662, 4.10694528, 4.00804663, 3.72356153, 2.73303127]), 'test_score': array([0.77209288, 0.74766058, 0.76222652, 0.74541687, 0.77571648,\n",
      "       0.76613052, 0.79089094, 0.80375785, 0.77421626, 0.79025829]), 'train_score': array([0.97196278, 0.97169167, 0.97195249, 0.97148761, 0.97104766,\n",
      "       0.97034332, 0.97041712, 0.97048372, 0.97104565, 0.97046261]), 'pars': 3}\n"
     ]
    },
    {
     "name": "stderr",
     "output_type": "stream",
     "text": [
      "[Parallel(n_jobs=4)]: Done  10 out of  10 | elapsed:  1.9min finished\n",
      "[Parallel(n_jobs=4)]: Using backend LokyBackend with 4 concurrent workers.\n",
      "C:\\Users\\xg16060\\Anaconda3\\envs\\cat_embedding\\lib\\site-packages\\sklearn\\externals\\joblib\\numpy_pickle.py:104: DeprecationWarning: tostring() is deprecated. Use tobytes() instead.\n",
      "  pickler.file_handle.write(chunk.tostring('C'))\n"
     ]
    },
    {
     "name": "stdout",
     "output_type": "stream",
     "text": [
      "{'fit_time': array([2.5640254 , 2.18502045, 1.87101984, 1.98501945, 1.32101512,\n",
      "       0.99501324, 1.60401917, 2.80884838, 3.0870285 , 1.46301413]), 'score_time': array([5.16805959, 4.51705384, 4.43105006, 4.82705617, 3.98786259,\n",
      "       4.32086778, 4.01905394, 4.1227386 , 3.16603446, 2.80703354]), 'test_score': array([0.79391892, 0.76271698, 0.78443981, 0.77324372, 0.80851724,\n",
      "       0.78912507, 0.80592522, 0.82599691, 0.79883073, 0.81161509]), 'train_score': array([0.96355712, 0.96439754, 0.9638457 , 0.96386746, 0.96259927,\n",
      "       0.96321715, 0.9623552 , 0.96176098, 0.96276512, 0.96259384]), 'pars': 4}\n"
     ]
    },
    {
     "name": "stderr",
     "output_type": "stream",
     "text": [
      "[Parallel(n_jobs=4)]: Done  10 out of  10 | elapsed:  1.9min finished\n",
      "[Parallel(n_jobs=4)]: Using backend LokyBackend with 4 concurrent workers.\n",
      "C:\\Users\\xg16060\\Anaconda3\\envs\\cat_embedding\\lib\\site-packages\\sklearn\\externals\\joblib\\numpy_pickle.py:104: DeprecationWarning: tostring() is deprecated. Use tobytes() instead.\n",
      "  pickler.file_handle.write(chunk.tostring('C'))\n"
     ]
    },
    {
     "name": "stdout",
     "output_type": "stream",
     "text": [
      "{'fit_time': array([2.26367021, 1.99967051, 1.92166972, 2.02967   , 1.23201609,\n",
      "       1.42301512, 1.81301975, 1.52301621, 2.63202858, 1.52001524]), 'score_time': array([4.25456619, 4.06156754, 4.61857581, 3.82155871, 4.31805062,\n",
      "       4.82010341, 4.1560967 , 4.0050478 , 3.47955608, 2.89454961]), 'test_score': array([0.81260224, 0.78390182, 0.79958268, 0.78868364, 0.82400667,\n",
      "       0.79993753, 0.82033677, 0.84882439, 0.8195212 , 0.82835316]), 'train_score': array([0.95656401, 0.95756364, 0.95766773, 0.95719304, 0.95633091,\n",
      "       0.95699022, 0.9561209 , 0.95581189, 0.95646784, 0.95616594]), 'pars': 5}\n"
     ]
    },
    {
     "name": "stderr",
     "output_type": "stream",
     "text": [
      "[Parallel(n_jobs=4)]: Done  10 out of  10 | elapsed:  2.0min finished\n",
      "[Parallel(n_jobs=4)]: Using backend LokyBackend with 4 concurrent workers.\n",
      "C:\\Users\\xg16060\\Anaconda3\\envs\\cat_embedding\\lib\\site-packages\\sklearn\\externals\\joblib\\numpy_pickle.py:104: DeprecationWarning: tostring() is deprecated. Use tobytes() instead.\n",
      "  pickler.file_handle.write(chunk.tostring('C'))\n"
     ]
    },
    {
     "name": "stdout",
     "output_type": "stream",
     "text": [
      "{'fit_time': array([2.48957992, 2.03757477, 2.23957586, 1.77457047, 1.1530056 ,\n",
      "       0.51500082, 1.57301569, 2.27002573, 1.82509661, 1.82209826]), 'score_time': array([3.94304323, 4.3300488 , 4.27904916, 4.2170527 , 3.83103323,\n",
      "       4.22103333, 5.4490416 , 5.79603839, 3.49002886, 3.58102727]), 'test_score': array([0.81720447, 0.80471964, 0.80760827, 0.79906384, 0.83983209,\n",
      "       0.8089194 , 0.83206188, 0.8631547 , 0.82570172, 0.83782702]), 'train_score': array([0.95227718, 0.95255417, 0.9523402 , 0.95268581, 0.95120569,\n",
      "       0.95177121, 0.95115619, 0.95053328, 0.95169697, 0.95136476]), 'pars': 6}\n"
     ]
    },
    {
     "name": "stderr",
     "output_type": "stream",
     "text": [
      "[Parallel(n_jobs=4)]: Done  10 out of  10 | elapsed:  2.5min finished\n"
     ]
    },
    {
     "name": "stdout",
     "output_type": "stream",
     "text": [
      "{'fit_time': array([2.12701416, 2.23701715, 1.92501664, 2.01301599, 2.03822613,\n",
      "       0.78204513, 2.01510382, 1.98253369, 1.86301422, 1.59201622]), 'score_time': array([5.33382416, 5.86686683, 5.04781842, 5.43182182, 5.59306479,\n",
      "       5.91468692, 5.35306954, 5.17155361, 4.5140357 , 4.45903134]), 'test_score': array([0.82563246, 0.81071606, 0.81845714, 0.81065005, 0.85138398,\n",
      "       0.81753542, 0.84177083, 0.86872834, 0.82765316, 0.84309292]), 'train_score': array([0.94832293, 0.94880395, 0.94903072, 0.94869858, 0.94762011,\n",
      "       0.94748034, 0.94737613, 0.94603367, 0.94805037, 0.94747864]), 'pars': 7}\n"
     ]
    },
    {
     "name": "stderr",
     "output_type": "stream",
     "text": [
      "[Parallel(n_jobs=4)]: Using backend LokyBackend with 4 concurrent workers.\n",
      "C:\\Users\\xg16060\\Anaconda3\\envs\\cat_embedding\\lib\\site-packages\\sklearn\\externals\\joblib\\numpy_pickle.py:104: DeprecationWarning: tostring() is deprecated. Use tobytes() instead.\n",
      "  pickler.file_handle.write(chunk.tostring('C'))\n",
      "[Parallel(n_jobs=4)]: Done  10 out of  10 | elapsed:  3.7min finished\n"
     ]
    },
    {
     "name": "stdout",
     "output_type": "stream",
     "text": [
      "{'fit_time': array([3.38702774, 4.01703   , 2.83401775, 3.69402909, 2.84705639,\n",
      "       1.12400484, 2.46153474, 2.70101476, 2.69101405, 2.81001449]), 'score_time': array([8.87613893, 8.73213696, 8.5311377 , 8.98313975, 8.84095645,\n",
      "       8.76195812, 9.59364557, 9.01283526, 5.90904021, 5.56703162]), 'test_score': array([0.82766773, 0.82013448, 0.82081373, 0.82272342, 0.8588498 ,\n",
      "       0.82611182, 0.8494009 , 0.87024062, 0.83963515, 0.85027393]), 'train_score': array([0.94465875, 0.94525145, 0.9461485 , 0.94532214, 0.9439658 ,\n",
      "       0.94453801, 0.94363325, 0.94266027, 0.94451252, 0.94355816]), 'pars': 8}\n"
     ]
    },
    {
     "name": "stderr",
     "output_type": "stream",
     "text": [
      "[Parallel(n_jobs=4)]: Using backend LokyBackend with 4 concurrent workers.\n",
      "C:\\Users\\xg16060\\Anaconda3\\envs\\cat_embedding\\lib\\site-packages\\sklearn\\externals\\joblib\\numpy_pickle.py:104: DeprecationWarning: tostring() is deprecated. Use tobytes() instead.\n",
      "  pickler.file_handle.write(chunk.tostring('C'))\n",
      "[Parallel(n_jobs=4)]: Done  10 out of  10 | elapsed:  2.9min finished\n",
      "[Parallel(n_jobs=4)]: Using backend LokyBackend with 4 concurrent workers.\n",
      "C:\\Users\\xg16060\\Anaconda3\\envs\\cat_embedding\\lib\\site-packages\\sklearn\\externals\\joblib\\numpy_pickle.py:104: DeprecationWarning: tostring() is deprecated. Use tobytes() instead.\n",
      "  pickler.file_handle.write(chunk.tostring('C'))\n"
     ]
    },
    {
     "name": "stdout",
     "output_type": "stream",
     "text": [
      "{'fit_time': array([2.32400537, 2.79101586, 3.27701306, 1.93700314, 1.77658963,\n",
      "       0.70000267, 1.78816009, 1.84709525, 1.3760457 , 1.76542091]), 'score_time': array([8.12758565, 8.40158749, 8.32458425, 8.34658909, 6.79121876,\n",
      "       6.67422056, 6.89807105, 8.35307288, 3.77243018, 3.58405519]), 'test_score': array([0.83241341, 0.82807623, 0.82635599, 0.82565166, 0.86124731,\n",
      "       0.8289693 , 0.84946033, 0.87579972, 0.84619144, 0.85692399]), 'train_score': array([0.94178547, 0.943073  , 0.94303301, 0.94209167, 0.94101014,\n",
      "       0.94209257, 0.94134867, 0.9401667 , 0.94191307, 0.94117255]), 'pars': 9}\n",
      "{'fit_time': array([2.13300872, 1.93600178, 2.15801072, 1.96500158, 1.32710743,\n",
      "       0.60903263, 1.75710797, 1.62901592, 1.57705092, 1.05100513]), 'score_time': array([4.36405206, 4.35005379, 4.31205225, 4.90605402, 4.16001678,\n",
      "       4.7140913 , 4.45953727, 4.46052098, 3.8311069 , 3.781111  ]), 'test_score': array([0.83511395, 0.83080578, 0.82714152, 0.83753162, 0.8603126 ,\n",
      "       0.82984695, 0.85524265, 0.88184884, 0.84508463, 0.86182931]), 'train_score': array([0.93940956, 0.94076916, 0.94077445, 0.9395592 , 0.93822276,\n",
      "       0.93923543, 0.93850882, 0.93757452, 0.93926592, 0.93842169]), 'pars': 10}\n"
     ]
    },
    {
     "name": "stderr",
     "output_type": "stream",
     "text": [
      "[Parallel(n_jobs=4)]: Done  10 out of  10 | elapsed:  2.3min finished\n"
     ]
    }
   ],
   "source": [
    "# Knn\n",
    "from sklearn.neighbors import KNeighborsClassifier\n",
    "import pickle\n",
    "\n",
    "\n",
    "grid_resultsk =[]\n",
    "\n",
    "for k in range(1,11):\n",
    "    estimatorsk = [('scale', StandardScaler()), ('rfne', KNeighborsClassifier(n_neighbors=k))]\n",
    "    pipek = Pipeline(estimatorsk)\n",
    "    auc = cross_validate(pipek,X_train,y_train, cv=10, scoring ='roc_auc', n_jobs = 4, verbose=2 )\n",
    "    auc['pars'] = k\n",
    "    grid_resultsk.append(auc) \n",
    "    #dump each iteration\n",
    "    pickle.dump(grid_resultsk, open('grid_res_nn_default.pkl','wb'))\n",
    "    print(auc)\n",
    "\n"
   ]
  },
  {
   "cell_type": "code",
   "execution_count": 21,
   "metadata": {},
   "outputs": [
    {
     "name": "stdout",
     "output_type": "stream",
     "text": [
      "1 0.6705626179073423 +/-0.034229\n",
      "2 0.7361653935787145 +/-0.038658\n",
      "3 0.7728367175203739 +/-0.034729\n",
      "4 0.7954329684435913 +/-0.035141\n",
      "5 0.8125750088335397 +/-0.036792\n",
      "6 0.8236093036834946 +/-0.037070\n",
      "7 0.8315620361002003 +/-0.035617\n",
      "8 0.8385851578404326 +/-0.033089\n",
      "9 0.8431089397082463 +/-0.032586\n",
      "10 0.8464757858207678 +/-0.033159\n"
     ]
    }
   ],
   "source": [
    "for i in grid_resultsk:\n",
    "    m =np.mean(i['test_score'])\n",
    "    std = np.std(i['test_score'])\n",
    "    print(i['pars'],m, '+/-%f'%(std*1.96))"
   ]
  },
  {
   "cell_type": "code",
   "execution_count": 22,
   "metadata": {},
   "outputs": [
    {
     "name": "stderr",
     "output_type": "stream",
     "text": [
      "C:\\Users\\xg16060\\Anaconda3\\envs\\cat_embedding\\lib\\site-packages\\ipykernel_launcher.py:17: TqdmDeprecationWarning: This function will be removed in tqdm==5.0.0\n",
      "Please use `tqdm.notebook.tqdm` instead of `tqdm.tqdm_notebook`\n"
     ]
    },
    {
     "data": {
      "application/vnd.jupyter.widget-view+json": {
       "model_id": "c7e0f514d5d240c6914337ca9b8855e6",
       "version_major": 2,
       "version_minor": 0
      },
      "text/plain": [
       "0it [00:00, ?it/s]"
      ]
     },
     "metadata": {},
     "output_type": "display_data"
    },
    {
     "name": "stderr",
     "output_type": "stream",
     "text": [
      "[Parallel(n_jobs=4)]: Using backend LokyBackend with 4 concurrent workers.\n",
      "C:\\Users\\xg16060\\Anaconda3\\envs\\cat_embedding\\lib\\site-packages\\sklearn\\externals\\joblib\\numpy_pickle.py:104: DeprecationWarning: tostring() is deprecated. Use tobytes() instead.\n",
      "  pickler.file_handle.write(chunk.tostring('C'))\n",
      "[Parallel(n_jobs=4)]: Done  10 out of  10 | elapsed:   19.6s finished\n",
      "[Parallel(n_jobs=4)]: Using backend LokyBackend with 4 concurrent workers.\n",
      "C:\\Users\\xg16060\\Anaconda3\\envs\\cat_embedding\\lib\\site-packages\\sklearn\\externals\\joblib\\numpy_pickle.py:104: DeprecationWarning: tostring() is deprecated. Use tobytes() instead.\n",
      "  pickler.file_handle.write(chunk.tostring('C'))\n"
     ]
    },
    {
     "name": "stdout",
     "output_type": "stream",
     "text": [
      "{'fit_time': array([4.47132468, 4.3123219 , 4.44832349, 4.64732409, 4.53201032,\n",
      "       4.24901032, 4.43300915, 4.59200859, 3.67700839, 3.69900775]), 'score_time': array([0.1570003 , 0.38100219, 0.17000103, 0.09300017, 0.1429987 ,\n",
      "       0.12399936, 0.19100094, 0.06600046, 0.09499884, 0.09299779]), 'test_score': array([0.92582868, 0.91887275, 0.91655709, 0.92100225, 0.92393445,\n",
      "       0.91959833, 0.92854784, 0.93723849, 0.93057786, 0.92395422]), 'train_score': array([0.96176734, 0.96135593, 0.96156137, 0.96139042, 0.96099411,\n",
      "       0.95976337, 0.96114908, 0.9595894 , 0.96000256, 0.95983303]), 'pars': [100, 10]}\n"
     ]
    },
    {
     "name": "stderr",
     "output_type": "stream",
     "text": [
      "[Parallel(n_jobs=4)]: Done  10 out of  10 | elapsed:   22.3s finished\n",
      "[Parallel(n_jobs=4)]: Using backend LokyBackend with 4 concurrent workers.\n",
      "C:\\Users\\xg16060\\Anaconda3\\envs\\cat_embedding\\lib\\site-packages\\sklearn\\externals\\joblib\\numpy_pickle.py:104: DeprecationWarning: tostring() is deprecated. Use tobytes() instead.\n",
      "  pickler.file_handle.write(chunk.tostring('C'))\n"
     ]
    },
    {
     "name": "stdout",
     "output_type": "stream",
     "text": [
      "{'fit_time': array([6.28952765, 6.4585278 , 6.06852722, 6.04852581, 6.79201579,\n",
      "       6.93601537, 7.31801629, 6.89901376, 5.18256044, 4.66756058]), 'score_time': array([0.21501422, 0.13000107, 0.14900041, 0.64200163, 0.58200121,\n",
      "       0.4849999 , 0.13800049, 0.20500207, 0.2080009 , 0.14799905]), 'test_score': array([0.92666701, 0.91802253, 0.91850177, 0.92255219, 0.92807333,\n",
      "       0.92620612, 0.93192108, 0.93981927, 0.93072183, 0.92946974]), 'train_score': array([0.99567708, 0.99585825, 0.99563351, 0.99551039, 0.99524092,\n",
      "       0.99562356, 0.99573376, 0.99563544, 0.99574169, 0.99549554]), 'pars': [100, 15]}\n"
     ]
    },
    {
     "name": "stderr",
     "output_type": "stream",
     "text": [
      "[Parallel(n_jobs=4)]: Done  10 out of  10 | elapsed:   38.5s finished\n",
      "[Parallel(n_jobs=4)]: Using backend LokyBackend with 4 concurrent workers.\n",
      "C:\\Users\\xg16060\\Anaconda3\\envs\\cat_embedding\\lib\\site-packages\\sklearn\\externals\\joblib\\numpy_pickle.py:104: DeprecationWarning: tostring() is deprecated. Use tobytes() instead.\n",
      "  pickler.file_handle.write(chunk.tostring('C'))\n"
     ]
    },
    {
     "name": "stdout",
     "output_type": "stream",
     "text": [
      "{'fit_time': array([10.50906944, 10.00506878, 10.22906971, 10.45706391, 13.28680706,\n",
      "       10.65517712, 11.42375159, 12.77916813,  9.27099037,  8.78099179]), 'score_time': array([0.15700054, 0.23899889, 1.54100323, 0.24000072, 0.4759984 ,\n",
      "       0.40903234, 0.30205131, 0.37199426, 0.36305237, 0.15199804]), 'test_score': array([0.92514434, 0.91804233, 0.91633001, 0.92106827, 0.92440181,\n",
      "       0.9211674 , 0.92784652, 0.93802567, 0.93041012, 0.92341006]), 'train_score': array([0.96094577, 0.96109321, 0.96164318, 0.96133621, 0.96013858,\n",
      "       0.96154275, 0.96090994, 0.96066046, 0.96140469, 0.95989792]), 'pars': [200, 10]}\n",
      "{'fit_time': array([15.59567618, 15.0956769 , 14.8486805 , 14.89667058, 12.99012589,\n",
      "       12.54312539, 12.40112495, 12.67315698, 10.91240215, 10.72940326]), 'score_time': array([0.36399984, 0.78399777, 0.42199469, 0.32400107, 0.30500197,\n",
      "       0.51503158, 0.29203129, 0.30605626, 0.27200794, 0.24300051]), 'test_score': array([0.92970051, 0.92129006, 0.91963583, 0.92491933, 0.92755581,\n",
      "       0.92716368, 0.93371204, 0.94114796, 0.93257618, 0.92936672]), 'train_score': array([0.99565278, 0.99568175, 0.9958089 , 0.99568965, 0.99547986,\n",
      "       0.99570371, 0.99573613, 0.99566217, 0.99600082, 0.99596226]), 'pars': [200, 15]}\n"
     ]
    },
    {
     "name": "stderr",
     "output_type": "stream",
     "text": [
      "[Parallel(n_jobs=4)]: Done  10 out of  10 | elapsed:   45.0s finished\n"
     ]
    }
   ],
   "source": [
    "from sklearn.model_selection import cross_validate\n",
    "from sklearn.pipeline import Pipeline\n",
    "from sklearn.preprocessing import StandardScaler\n",
    "from sklearn.linear_model import LogisticRegression\n",
    "from sklearn.model_selection import GridSearchCV\n",
    "from sklearn.metrics import make_scorer, roc_auc_score\n",
    "from tqdm import tqdm_notebook as tqdm\n",
    "import pickle\n",
    "\n",
    "param_grid_rf = {'rfne__n_estimators':[ 100, 200],\n",
    "                   'rfne__max_depth':[ 10,15]}\n",
    "\n",
    "grid_results_rf = []\n",
    "\n",
    "\n",
    "\n",
    "for i,ii in tqdm(enumerate(param_grid_rf['rfne__n_estimators'])):\n",
    "    for j,jj in enumerate(param_grid_rf['rfne__max_depth']):\n",
    "            \n",
    "            scoring = {'auc': make_scorer(roc_auc_score)}\n",
    "            estimators_rf = [('scale', StandardScaler()), ('rf',RandomForestClassifier(n_estimators=ii,max_depth = jj))]\n",
    "\n",
    "            pipe_rf = Pipeline(estimators_rf)\n",
    "            auc = cross_validate(pipe_rf,X_train,y_train, cv=10, scoring ='roc_auc', n_jobs = 4, verbose=2 )\n",
    "            auc['pars'] = [ii,jj]\n",
    "            grid_results_rf.append(auc) \n",
    "            pickle.dump(grid_results_rf, open('grid_results_rf_default.pkl','wb'))\n",
    "            print(auc)\n"
   ]
  },
  {
   "cell_type": "code",
   "execution_count": 23,
   "metadata": {},
   "outputs": [
    {
     "name": "stdout",
     "output_type": "stream",
     "text": [
      "[100, 10] 0.9246111967930662 +/-0.011577\n",
      "[100, 15] 0.9271954857600451 +/-0.012124\n",
      "[200, 10] 0.9245846523222893 +/-0.011792\n",
      "[200, 15] 0.9287068119597679 +/-0.011622\n"
     ]
    }
   ],
   "source": [
    "for i in grid_results_rf:\n",
    "    m =np.mean(i['test_score'])\n",
    "    std = np.std(i['test_score'])\n",
    "    print(i['pars'],m, '+/-%f'%(std*1.96))"
   ]
  },
  {
   "cell_type": "markdown",
   "metadata": {},
   "source": [
    "## The grid search for SVM. "
   ]
  },
  {
   "cell_type": "code",
   "execution_count": null,
   "metadata": {},
   "outputs": [
    {
     "name": "stderr",
     "output_type": "stream",
     "text": [
      "C:\\Users\\xg16060\\Anaconda3\\envs\\cat_embedding\\lib\\site-packages\\ipykernel_launcher.py:19: TqdmDeprecationWarning: This function will be removed in tqdm==5.0.0\n",
      "Please use `tqdm.notebook.tqdm` instead of `tqdm.tqdm_notebook`\n"
     ]
    },
    {
     "data": {
      "application/vnd.jupyter.widget-view+json": {
       "model_id": "c94b104d0d914dc2a35f5d3fc7162361",
       "version_major": 2,
       "version_minor": 0
      },
      "text/plain": [
       "0it [00:00, ?it/s]"
      ]
     },
     "metadata": {},
     "output_type": "display_data"
    },
    {
     "name": "stderr",
     "output_type": "stream",
     "text": [
      "[Parallel(n_jobs=4)]: Using backend LokyBackend with 4 concurrent workers.\n",
      "C:\\Users\\xg16060\\Anaconda3\\envs\\cat_embedding\\lib\\site-packages\\sklearn\\externals\\joblib\\numpy_pickle.py:104: DeprecationWarning: tostring() is deprecated. Use tobytes() instead.\n",
      "  pickler.file_handle.write(chunk.tostring('C'))\n",
      "[Parallel(n_jobs=4)]: Done  10 out of  10 | elapsed:  8.0min finished\n",
      "[Parallel(n_jobs=4)]: Using backend LokyBackend with 4 concurrent workers.\n",
      "C:\\Users\\xg16060\\Anaconda3\\envs\\cat_embedding\\lib\\site-packages\\sklearn\\externals\\joblib\\numpy_pickle.py:104: DeprecationWarning: tostring() is deprecated. Use tobytes() instead.\n",
      "  pickler.file_handle.write(chunk.tostring('C'))\n"
     ]
    },
    {
     "name": "stdout",
     "output_type": "stream",
     "text": [
      "{'fit_time': array([184.05107594, 183.32306314, 183.50406551, 183.14805889,\n",
      "       133.18808699, 113.35248971, 114.72450757, 113.22947788,\n",
      "        82.68117833,  84.27636528]), 'score_time': array([3.02374935, 3.30957246, 3.35257339, 2.99356556, 3.33058882,\n",
      "       3.56374216, 3.45574069, 3.76974726, 2.12823462, 2.32154417]), 'test_score': array([0.82709328, 0.81424301, 0.8060656 , 0.82184878, 0.84243094,\n",
      "       0.82842118, 0.83661984, 0.84772749, 0.83425039, 0.85576567]), 'train_score': array([0.9978678 , 0.99770703, 0.99751756, 0.99677492, 0.99855819,\n",
      "       0.99796879, 0.99779856, 0.99819268, 0.99803368, 0.99709247]), 'pars': [0.1, 'rbf', 1]}\n"
     ]
    },
    {
     "name": "stderr",
     "output_type": "stream",
     "text": [
      "[Parallel(n_jobs=4)]: Done  10 out of  10 | elapsed:  1.5min finished\n",
      "[Parallel(n_jobs=4)]: Using backend LokyBackend with 4 concurrent workers.\n",
      "C:\\Users\\xg16060\\Anaconda3\\envs\\cat_embedding\\lib\\site-packages\\sklearn\\externals\\joblib\\numpy_pickle.py:104: DeprecationWarning: tostring() is deprecated. Use tobytes() instead.\n",
      "  pickler.file_handle.write(chunk.tostring('C'))\n"
     ]
    },
    {
     "name": "stdout",
     "output_type": "stream",
     "text": [
      "{'fit_time': array([18.09645534, 18.41642523, 18.32542348, 18.03045487, 20.73241091,\n",
      "       20.93641281, 21.36441827, 21.09641552, 15.97180176, 17.10905194]), 'score_time': array([1.06301427, 1.00901389, 0.9310112 , 0.99901056, 1.00001311,\n",
      "       1.17201495, 2.21802974, 0.88201165, 0.92424631, 0.90004754]), 'test_score': array([0.85135994, 0.83980107, 0.83006844, 0.85387061, 0.86595058,\n",
      "       0.83712041, 0.8654152 , 0.88747596, 0.86321612, 0.86472576]), 'train_score': array([0.8863215 , 0.88449794, 0.88895731, 0.88574455, 0.88429857,\n",
      "       0.88649623, 0.88288575, 0.88090691, 0.8822626 , 0.88367768]), 'pars': [0.1, 'rbf', 0.1]}\n"
     ]
    },
    {
     "name": "stderr",
     "output_type": "stream",
     "text": [
      "[Parallel(n_jobs=4)]: Done  10 out of  10 | elapsed:  1.2min finished\n",
      "[Parallel(n_jobs=4)]: Using backend LokyBackend with 4 concurrent workers.\n",
      "C:\\Users\\xg16060\\Anaconda3\\envs\\cat_embedding\\lib\\site-packages\\sklearn\\externals\\joblib\\numpy_pickle.py:104: DeprecationWarning: tostring() is deprecated. Use tobytes() instead.\n",
      "  pickler.file_handle.write(chunk.tostring('C'))\n"
     ]
    },
    {
     "name": "stdout",
     "output_type": "stream",
     "text": [
      "{'fit_time': array([17.62199235, 18.06399727, 18.00699759, 18.18999863, 16.38115287,\n",
      "       16.0491488 , 16.09114838, 16.19414854, 12.04661155, 12.02661371]), 'score_time': array([1.23301435, 0.8730123 , 0.98201156, 1.1360147 , 0.83801198,\n",
      "       0.89201117, 0.84101105, 1.05501461, 0.71600723, 0.73500776]), 'test_score': array([0.89301559, 0.88992042, 0.87775331, 0.88440324, 0.89678026,\n",
      "       0.88161308, 0.90188421, 0.91218619, 0.89595396, 0.89517999]), 'train_score': array([0.89713684, 0.8971375 , 0.89961578, 0.89955265, 0.89661609,\n",
      "       0.89848125, 0.89443037, 0.8921732 , 0.89520174, 0.89641504]), 'pars': [0.1, 'rbf', 0.01]}\n"
     ]
    },
    {
     "name": "stderr",
     "output_type": "stream",
     "text": [
      "[Parallel(n_jobs=4)]: Done  10 out of  10 | elapsed:   52.4s finished\n",
      "[Parallel(n_jobs=4)]: Using backend LokyBackend with 4 concurrent workers.\n",
      "C:\\Users\\xg16060\\Anaconda3\\envs\\cat_embedding\\lib\\site-packages\\sklearn\\externals\\joblib\\numpy_pickle.py:104: DeprecationWarning: tostring() is deprecated. Use tobytes() instead.\n",
      "  pickler.file_handle.write(chunk.tostring('C'))\n"
     ]
    },
    {
     "name": "stdout",
     "output_type": "stream",
     "text": [
      "{'fit_time': array([15.56823611, 14.46122932, 13.5272212 , 13.85722303, 12.21390986,\n",
      "       13.25600219, 12.2739923 , 13.86006737,  9.45060468,  9.11959887]), 'score_time': array([0.6510067 , 0.66400456, 0.7790091 , 0.7930069 , 1.20309615,\n",
      "       0.54806709, 0.59600759, 0.59400797, 0.38500118, 0.4792223 ]), 'test_score': array([0.86658139, 0.86684305, 0.85920956, 0.85875409, 0.87093308,\n",
      "       0.85745494, 0.86666464, 0.88113628, 0.87618209, 0.87947608]), 'train_score': array([0.87625453, 0.87079627, 0.87781989, 0.87689577, 0.87186279,\n",
      "       0.8748449 , 0.84438889, 0.85817185, 0.87189781, 0.87203673]), 'pars': [0.1, 'linear', 1]}\n"
     ]
    },
    {
     "name": "stderr",
     "output_type": "stream",
     "text": [
      "[Parallel(n_jobs=4)]: Done  10 out of  10 | elapsed:   46.1s finished\n",
      "[Parallel(n_jobs=4)]: Using backend LokyBackend with 4 concurrent workers.\n",
      "C:\\Users\\xg16060\\Anaconda3\\envs\\cat_embedding\\lib\\site-packages\\sklearn\\externals\\joblib\\numpy_pickle.py:104: DeprecationWarning: tostring() is deprecated. Use tobytes() instead.\n",
      "  pickler.file_handle.write(chunk.tostring('C'))\n"
     ]
    },
    {
     "name": "stdout",
     "output_type": "stream",
     "text": [
      "{'fit_time': array([12.43120909, 12.62721062, 12.35920882, 12.82420874, 11.85210967,\n",
      "       11.35410547, 11.24110818, 11.1631031 ,  8.28207636,  8.17606878]), 'score_time': array([0.38200355, 0.52100229, 0.9280076 , 0.54000497, 0.51600385,\n",
      "       0.90100718, 0.59300137, 0.78500724, 0.38299584, 0.37900257]), 'test_score': array([0.86658139, 0.86684305, 0.85920956, 0.85875409, 0.87093308,\n",
      "       0.85745494, 0.86666464, 0.88113628, 0.87618209, 0.87947608]), 'train_score': array([0.87625453, 0.87079627, 0.87781989, 0.87689577, 0.87186279,\n",
      "       0.8748449 , 0.84438889, 0.85817185, 0.87189781, 0.87203673]), 'pars': [0.1, 'linear', 0.1]}\n"
     ]
    },
    {
     "name": "stderr",
     "output_type": "stream",
     "text": [
      "[Parallel(n_jobs=4)]: Done  10 out of  10 | elapsed:   46.1s finished\n",
      "[Parallel(n_jobs=4)]: Using backend LokyBackend with 4 concurrent workers.\n",
      "C:\\Users\\xg16060\\Anaconda3\\envs\\cat_embedding\\lib\\site-packages\\sklearn\\externals\\joblib\\numpy_pickle.py:104: DeprecationWarning: tostring() is deprecated. Use tobytes() instead.\n",
      "  pickler.file_handle.write(chunk.tostring('C'))\n"
     ]
    },
    {
     "name": "stdout",
     "output_type": "stream",
     "text": [
      "{'fit_time': array([12.32810116, 11.82609677, 12.34310174, 12.3040998 , 11.82309914,\n",
      "       12.21309257, 11.84409595, 11.74809504,  8.77307153,  8.35407233]), 'score_time': array([0.48100471, 0.48400378, 0.44900441, 0.44500446, 0.69600606,\n",
      "       1.49401164, 0.61000466, 0.68901443, 0.42300653, 0.33800125]), 'test_score': array([0.86658139, 0.86684305, 0.85920956, 0.85875409, 0.87093308,\n",
      "       0.85745494, 0.86666464, 0.88113628, 0.87618209, 0.87947608]), 'train_score': array([0.87625453, 0.87079627, 0.87781989, 0.87689577, 0.87186279,\n",
      "       0.8748449 , 0.84438889, 0.85817185, 0.87189781, 0.87203673]), 'pars': [0.1, 'linear', 0.01]}\n"
     ]
    },
    {
     "name": "stderr",
     "output_type": "stream",
     "text": [
      "[Parallel(n_jobs=4)]: Done  10 out of  10 | elapsed:  6.4min finished\n",
      "[Parallel(n_jobs=4)]: Using backend LokyBackend with 4 concurrent workers.\n",
      "C:\\Users\\xg16060\\Anaconda3\\envs\\cat_embedding\\lib\\site-packages\\sklearn\\externals\\joblib\\numpy_pickle.py:104: DeprecationWarning: tostring() is deprecated. Use tobytes() instead.\n",
      "  pickler.file_handle.write(chunk.tostring('C'))\n"
     ]
    },
    {
     "name": "stdout",
     "output_type": "stream",
     "text": [
      "{'fit_time': array([117.44917822, 118.02018428, 118.11318254, 117.18817592,\n",
      "       113.01218987, 113.80185556, 113.77785301, 114.68686008,\n",
      "        84.01957273,  75.15729785]), 'score_time': array([2.36801982, 2.81602311, 2.65802479, 4.03303599, 2.28867912,\n",
      "       2.7740159 , 2.35601377, 2.23801398, 1.84177446, 1.87186933]), 'test_score': array([0.82721435, 0.81474338, 0.80617386, 0.82188574, 0.84243226,\n",
      "       0.82880156, 0.83627644, 0.84800881, 0.83419491, 0.85622134]), 'train_score': array([0.99800111, 0.99782582, 0.99762898, 0.99707915, 0.99883903,\n",
      "       0.99802951, 0.99788975, 0.99829075, 0.99812766, 0.9973009 ]), 'pars': [1, 'rbf', 1]}\n"
     ]
    },
    {
     "name": "stderr",
     "output_type": "stream",
     "text": [
      "[Parallel(n_jobs=4)]: Done  10 out of  10 | elapsed:  1.2min finished\n",
      "[Parallel(n_jobs=4)]: Using backend LokyBackend with 4 concurrent workers.\n",
      "C:\\Users\\xg16060\\Anaconda3\\envs\\cat_embedding\\lib\\site-packages\\sklearn\\externals\\joblib\\numpy_pickle.py:104: DeprecationWarning: tostring() is deprecated. Use tobytes() instead.\n",
      "  pickler.file_handle.write(chunk.tostring('C'))\n"
     ]
    },
    {
     "name": "stdout",
     "output_type": "stream",
     "text": [
      "{'fit_time': array([18.43610525, 18.48810887, 17.87210798, 18.22111797, 17.87910986,\n",
      "       17.70510316, 17.94409919, 18.23010755, 13.7045157 , 14.49125457]), 'score_time': array([0.82400441, 0.82501006, 0.99800158, 0.72999477, 1.01500225,\n",
      "       0.80600381, 0.84200478, 0.94800425, 0.79588604, 0.66329312]), 'test_score': array([0.85681366, 0.84494067, 0.84135232, 0.85947756, 0.86771439,\n",
      "       0.83287943, 0.87589944, 0.89503735, 0.86810824, 0.87962004]), 'train_score': array([0.921583  , 0.92045398, 0.92248193, 0.92219581, 0.92213627,\n",
      "       0.92446107, 0.92158364, 0.92040642, 0.92070992, 0.91926122]), 'pars': [1, 'rbf', 0.1]}\n"
     ]
    },
    {
     "name": "stderr",
     "output_type": "stream",
     "text": [
      "[Parallel(n_jobs=4)]: Done  10 out of  10 | elapsed:  1.1min finished\n",
      "[Parallel(n_jobs=4)]: Using backend LokyBackend with 4 concurrent workers.\n",
      "C:\\Users\\xg16060\\Anaconda3\\envs\\cat_embedding\\lib\\site-packages\\sklearn\\externals\\joblib\\numpy_pickle.py:104: DeprecationWarning: tostring() is deprecated. Use tobytes() instead.\n",
      "  pickler.file_handle.write(chunk.tostring('C'))\n"
     ]
    },
    {
     "name": "stdout",
     "output_type": "stream",
     "text": [
      "{'fit_time': array([15.34177303, 16.16471863, 15.39561248, 16.71748948, 16.82119179,\n",
      "       16.48118901, 17.93882036, 16.08375788, 11.78907084, 11.24906063]), 'score_time': array([1.41900539, 0.90500379, 0.92000437, 1.10200143, 1.17000723,\n",
      "       0.76500297, 1.0650084 , 0.99800539, 0.70300794, 0.59600329]), 'test_score': array([0.87757699, 0.84924985, 0.86677572, 0.87797511, 0.88876787,\n",
      "       0.87220922, 0.89694586, 0.89931399, 0.87652152, 0.87883551]), 'train_score': array([0.8878954 , 0.88477335, 0.88987105, 0.8908    , 0.88803334,\n",
      "       0.88551975, 0.88607884, 0.88011265, 0.88430488, 0.88816231]), 'pars': [1, 'rbf', 0.01]}\n"
     ]
    },
    {
     "name": "stderr",
     "output_type": "stream",
     "text": [
      "[Parallel(n_jobs=4)]: Done  10 out of  10 | elapsed:  1.4min finished\n",
      "[Parallel(n_jobs=4)]: Using backend LokyBackend with 4 concurrent workers.\n",
      "C:\\Users\\xg16060\\Anaconda3\\envs\\cat_embedding\\lib\\site-packages\\sklearn\\externals\\joblib\\numpy_pickle.py:104: DeprecationWarning: tostring() is deprecated. Use tobytes() instead.\n",
      "  pickler.file_handle.write(chunk.tostring('C'))\n"
     ]
    },
    {
     "name": "stdout",
     "output_type": "stream",
     "text": [
      "{'fit_time': array([22.59490442, 22.76583195, 23.64083266, 24.56270814, 27.15582204,\n",
      "       26.26092434, 26.60519457, 26.72719359, 19.67142606, 18.8861196 ]), 'score_time': array([0.73342872, 0.43749738, 1.85938168, 0.82812738, 1.22200465,\n",
      "       1.35900331, 0.8980031 , 1.03400588, 0.40011549, 0.35937405]), 'test_score': array([0.86383347, 0.86797051, 0.85764907, 0.85848608, 0.87789061,\n",
      "       0.86009251, 0.88680633, 0.89351451, 0.86855994, 0.86802767]), 'train_score': array([0.87174977, 0.86784022, 0.87513836, 0.87762726, 0.87557414,\n",
      "       0.87667246, 0.86760749, 0.86685446, 0.86974426, 0.85901062]), 'pars': [1, 'linear', 1]}\n"
     ]
    },
    {
     "name": "stderr",
     "output_type": "stream",
     "text": [
      "[Parallel(n_jobs=4)]: Done  10 out of  10 | elapsed:  1.4min finished\n",
      "[Parallel(n_jobs=4)]: Using backend LokyBackend with 4 concurrent workers.\n",
      "C:\\Users\\xg16060\\Anaconda3\\envs\\cat_embedding\\lib\\site-packages\\sklearn\\externals\\joblib\\numpy_pickle.py:104: DeprecationWarning: tostring() is deprecated. Use tobytes() instead.\n",
      "  pickler.file_handle.write(chunk.tostring('C'))\n"
     ]
    },
    {
     "name": "stdout",
     "output_type": "stream",
     "text": [
      "{'fit_time': array([25.60797119, 26.54102373, 28.02455044, 28.21953344, 24.8497901 ,\n",
      "       25.88159132, 24.72532868, 25.05345941, 17.31382608, 16.18364477]), 'score_time': array([0.65179658, 0.45227361, 0.6695509 , 1.15625262, 1.56305432,\n",
      "       0.57812476, 0.53125167, 0.59375334, 0.69474721, 0.49179459]), 'test_score': array([0.86383347, 0.86797051, 0.85764907, 0.85848608, 0.87789061,\n",
      "       0.86009251, 0.88680633, 0.89351451, 0.86855994, 0.86802767]), 'train_score': array([0.87174977, 0.86784022, 0.87513836, 0.87762726, 0.87557414,\n",
      "       0.87667246, 0.86760749, 0.86685446, 0.86974426, 0.85901062]), 'pars': [1, 'linear', 0.1]}\n"
     ]
    },
    {
     "name": "stderr",
     "output_type": "stream",
     "text": [
      "[Parallel(n_jobs=4)]: Done  10 out of  10 | elapsed:  1.4min finished\n",
      "[Parallel(n_jobs=4)]: Using backend LokyBackend with 4 concurrent workers.\n",
      "C:\\Users\\xg16060\\Anaconda3\\envs\\cat_embedding\\lib\\site-packages\\sklearn\\externals\\joblib\\numpy_pickle.py:104: DeprecationWarning: tostring() is deprecated. Use tobytes() instead.\n",
      "  pickler.file_handle.write(chunk.tostring('C'))\n"
     ]
    },
    {
     "name": "stdout",
     "output_type": "stream",
     "text": [
      "{'fit_time': array([23.89126444, 25.57487702, 25.87881136, 26.62858009, 24.0021584 ,\n",
      "       23.95815396, 22.72477531, 22.95014906, 17.24097323, 16.52217007]), 'score_time': array([1.93341541, 1.86900806, 0.78977036, 0.92030096, 0.64420533,\n",
      "       0.46249151, 0.46416903, 0.54460573, 0.37027979, 0.56017351]), 'test_score': array([0.86383347, 0.86797051, 0.85764907, 0.85848608, 0.87789061,\n",
      "       0.86009251, 0.88680633, 0.89351451, 0.86855994, 0.86802767]), 'train_score': array([0.87174977, 0.86784022, 0.87513836, 0.87762726, 0.87557414,\n",
      "       0.87667246, 0.86760749, 0.86685446, 0.86974426, 0.85901062]), 'pars': [1, 'linear', 0.01]}\n"
     ]
    },
    {
     "name": "stderr",
     "output_type": "stream",
     "text": [
      "[Parallel(n_jobs=4)]: Done  10 out of  10 | elapsed:  9.4min finished\n",
      "[Parallel(n_jobs=4)]: Using backend LokyBackend with 4 concurrent workers.\n",
      "C:\\Users\\xg16060\\Anaconda3\\envs\\cat_embedding\\lib\\site-packages\\sklearn\\externals\\joblib\\numpy_pickle.py:104: DeprecationWarning: tostring() is deprecated. Use tobytes() instead.\n",
      "  pickler.file_handle.write(chunk.tostring('C'))\n"
     ]
    },
    {
     "name": "stdout",
     "output_type": "stream",
     "text": [
      "{'fit_time': array([173.71691132, 173.21705508, 171.07541656, 174.85807323,\n",
      "       175.9366591 , 175.72736955, 176.98370957, 175.95345378,\n",
      "       130.97586989, 129.18811274]), 'score_time': array([2.74094939, 2.4594686 , 3.10931325, 2.39281487, 2.68445277,\n",
      "       3.00938058, 3.04163241, 2.74375629, 2.50871444, 2.37500954]), 'test_score': array([0.79780851, 0.79918463, 0.79886514, 0.8056867 , 0.82386871,\n",
      "       0.80759005, 0.81165207, 0.82699938, 0.81759023, 0.83286094]), 'train_score': array([1., 1., 1., 1., 1., 1., 1., 1., 1., 1.]), 'pars': [100, 'rbf', 1]}\n"
     ]
    },
    {
     "name": "stderr",
     "output_type": "stream",
     "text": [
      "[Parallel(n_jobs=4)]: Done  10 out of  10 | elapsed: 11.3min finished\n",
      "[Parallel(n_jobs=4)]: Using backend LokyBackend with 4 concurrent workers.\n",
      "C:\\Users\\xg16060\\Anaconda3\\envs\\cat_embedding\\lib\\site-packages\\sklearn\\externals\\joblib\\numpy_pickle.py:104: DeprecationWarning: tostring() is deprecated. Use tobytes() instead.\n",
      "  pickler.file_handle.write(chunk.tostring('C'))\n"
     ]
    },
    {
     "name": "stdout",
     "output_type": "stream",
     "text": [
      "{'fit_time': array([205.64217496, 203.13133478, 232.03764057, 203.09984326,\n",
      "       249.86518049, 220.13551235, 258.9294064 , 256.03528762,\n",
      "       189.554281  , 179.12416768]), 'score_time': array([1.66799021, 1.84255719, 1.89061666, 1.65449286, 1.84701037,\n",
      "       1.82800674, 1.90352559, 1.49800348, 1.73603606, 1.14362025]), 'test_score': array([0.83115461, 0.83452549, 0.83868549, 0.83476049, 0.85600672,\n",
      "       0.83949647, 0.85366037, 0.87725191, 0.82895543, 0.84086875]), 'train_score': array([0.98464111, 0.98435139, 0.98550774, 0.98446527, 0.98461936,\n",
      "       0.98489023, 0.98437934, 0.98415605, 0.98322808, 0.9839508 ]), 'pars': [100, 'rbf', 0.1]}\n"
     ]
    },
    {
     "name": "stderr",
     "output_type": "stream",
     "text": [
      "[Parallel(n_jobs=4)]: Done  10 out of  10 | elapsed:  3.3min finished\n",
      "[Parallel(n_jobs=4)]: Using backend LokyBackend with 4 concurrent workers.\n",
      "C:\\Users\\xg16060\\Anaconda3\\envs\\cat_embedding\\lib\\site-packages\\sklearn\\externals\\joblib\\numpy_pickle.py:104: DeprecationWarning: tostring() is deprecated. Use tobytes() instead.\n",
      "  pickler.file_handle.write(chunk.tostring('C'))\n"
     ]
    },
    {
     "name": "stdout",
     "output_type": "stream",
     "text": [
      "{'fit_time': array([82.60874581, 82.34974504, 82.2347455 , 82.22074485, 50.58725166,\n",
      "       50.7302494 , 51.7472527 , 51.94825387, 39.28012466, 38.06412339]), 'score_time': array([1.10800171, 0.88000417, 0.96199989, 1.56500411, 1.21500111,\n",
      "       1.17600012, 1.00900102, 1.54900503, 0.59500003, 0.60200095]), 'test_score': array([0.85913912, 0.83191542, 0.85461917, 0.86025913, 0.87199189,\n",
      "       0.85303433, 0.88630708, 0.88879937, 0.87359603, 0.8720296 ]), 'train_score': array([0.90472767, 0.90371409, 0.90903736, 0.90407939, 0.90419635,\n",
      "       0.90737724, 0.90141566, 0.89858227, 0.90343228, 0.90121427]), 'pars': [100, 'rbf', 0.01]}\n"
     ]
    }
   ],
   "source": [
    "from sklearn.svm import SVC\n",
    "from sklearn.metrics import classification_report, confusion_matrix ,make_scorer, roc_auc_score\n",
    "from sklearn.model_selection import GridSearchCV,RepeatedStratifiedKFold\n",
    "from sklearn.model_selection import cross_validate\n",
    "from sklearn.pipeline import Pipeline\n",
    "from sklearn.preprocessing import StandardScaler\n",
    "from tqdm import tqdm_notebook as tqdm\n",
    "import pickle\n",
    "\n",
    "param_grid_svm = { 'C':[0.1,1,10],'kernel':['rbf','linear'],\n",
    "             'gamma': [1, 0.1, 0.01]}\n",
    "\n",
    "# param_grid_svm = { 'C':[0.1,1,100,1000],'kernel':['rbf','sigmoid','linear'],\n",
    "#                   'gamma': [1, 0.1, 0.01, 0.001, 0.0001],}\n",
    "\n",
    "grid_results_svm =[]\n",
    "for i,ii in tqdm(enumerate(param_grid_svm['C'])):\n",
    "    for j,jj in enumerate(param_grid_svm['kernel']):\n",
    "        for w,ww in enumerate(param_grid_svm['gamma']):\n",
    "            scoring = {'auc': make_scorer(roc_auc_score)}\n",
    "            estimators_svm = [('scale', StandardScaler()), \n",
    "                             ('svm',SVC(C=ii, gamma=ww, kernel=jj, random_state=123))]\n",
    "\n",
    "            pipe_svm = Pipeline(estimators_svm)\n",
    "            auc = cross_validate(pipe_svm,X_train,y_train, cv=10, scoring ='roc_auc', n_jobs = 4, verbose=2 )\n",
    "            auc['pars'] = [ii,jj,ww]\n",
    "            grid_results_svm.append(auc) \n",
    "            pickle.dump(grid_results_svm, open('grid_results_svm_default.pkl','wb'))\n",
    "            print(auc)"
   ]
  },
  {
   "cell_type": "code",
   "execution_count": null,
   "metadata": {},
   "outputs": [],
   "source": [
    "for i in grid_results_svm:\n",
    "    m =np.mean(i['test_score'])\n",
    "    std = np.std(i['test_score'])\n",
    "    print(i['pars'],m, '+/-%f'%(std*1.96))"
   ]
  },
  {
   "cell_type": "markdown",
   "metadata": {},
   "source": [
    "## Gird search for 2 layers ANN"
   ]
  },
  {
   "cell_type": "code",
   "execution_count": null,
   "metadata": {},
   "outputs": [
    {
     "name": "stderr",
     "output_type": "stream",
     "text": [
      "C:\\Users\\xg16060\\Anaconda3\\envs\\cat_embedding\\lib\\site-packages\\sklearn\\externals\\joblib\\numpy_pickle.py:104: DeprecationWarning: tostring() is deprecated. Use tobytes() instead.\n",
      "  pickler.file_handle.write(chunk.tostring('C'))\n"
     ]
    }
   ],
   "source": [
    "# 2 layers ANN model\n",
    "\n",
    "from keras.models import Sequential\n",
    "from keras.layers import Dense\n",
    "from sklearn.model_selection import  GridSearchCV,RepeatedStratifiedKFold\n",
    "from keras.wrappers.scikit_learn import KerasClassifier\n",
    "from keras.optimizers import SGD\n",
    "import numpy as np\n",
    "# fix random seed for reproducibility\n",
    "seed = 7\n",
    "np.random.seed(seed)\n",
    "\n",
    "def create_model(learn_rate, momentum):\n",
    "    #create a model\n",
    "    model=Sequential()\n",
    "    model.add(Dense(12,input_dim=8,activation='relu'))\n",
    "    model.add(Dense(12,activation='relu'))\n",
    "    model.add(Dense(1,activation='sigmoid'))\n",
    "    #compile model\n",
    "    optimizer = SGD(lr=learn_rate, momentum=momentum)\n",
    "    model.compile(loss='binary_crossentropy', optimizer=optimizer, metrics=['accuracy'])\n",
    "    return model\n",
    "\n",
    "#creat a model\n",
    "model=KerasClassifier(build_fn=create_model, verbose=0)\n",
    "\n",
    "learn_rate = [0.001, 0.01, 0.1, 0.2]\n",
    "momentum = [0.0, 0.2, 0.4, 0.6, 0.8 ]\n",
    "\n",
    "param_grid_ann=dict(learn_rate=learn_rate, momentum=momentum)\n",
    "\n",
    "cv_sk = RepeatedStratifiedKFold(n_splits = 10, n_repeats = 3)\n",
    "grid=GridSearchCV(estimator=model, param_grid=param_grid_ann, n_jobs=-1,cv=cv_sk)\n",
    "grid_result = grid.fit(X_train, y_train)\n",
    "\n"
   ]
  },
  {
   "cell_type": "code",
   "execution_count": null,
   "metadata": {},
   "outputs": [],
   "source": [
    "print(grid_result.best_params_)\n",
    "# print how our model looks after hyper-parameter tuning \n",
    "print(grid_result.best_estimator_) \n",
    "\n",
    "#grid_result.best_score_\n",
    "# summarize results\n",
    "print(\"Best: %f using %s\" % (grid_result.best_score_, grid_result.best_params_))\n",
    "means = grid_result.cv_results_['mean_test_score']\n",
    "stds = grid_result.cv_results_['std_test_score']\n",
    "params = grid_result.cv_results_['params']\n",
    "for mean, stdev, param in zip(means, stds, params):\n",
    "    print(\"%f (%f) with: %r\" % (mean, stdev, param))"
   ]
  },
  {
   "cell_type": "code",
   "execution_count": null,
   "metadata": {},
   "outputs": [],
   "source": [
    "#This is used to make the GridSearchCV on the ANN model.\n",
    "from keras.models import Sequential\n",
    "from keras.layers import Dense\n",
    "from sklearn.model_selection import  GridSearchCV,RepeatedStratifiedKFold\n",
    "from keras.wrappers.scikit_learn import KerasClassifier\n",
    "import numpy as np\n",
    "from keras.optimizers import SGD\n",
    "from tqdm import tqdm_notebook as tqdm\n",
    "from sklearn.metrics import classification_report, confusion_matrix ,make_scorer, roc_auc_score\n",
    "from sklearn.preprocessing import StandardScaler\n",
    "from sklearn.model_selection import cross_validate\n",
    "from sklearn.pipeline import Pipeline\n",
    "import pickle\n",
    "\n",
    "\n",
    "# fix random seed for reproducibility\n",
    "seed = 7\n",
    "np.random.seed(seed)\n",
    "\n",
    "\n",
    "def create_model(learn_rate, momentum):\n",
    "    #create a model\n",
    "    model=Sequential()\n",
    "    model.add(Dense(12,input_dim=8,activation='relu'))\n",
    "    model.add(Dense(12,activation='relu'))\n",
    "    model.add(Dense(1,activation='sigmoid'))\n",
    "    #compile model\n",
    "    optimizer = SGD(lr=learn_rate, momentum=momentum)\n",
    "    model.compile(loss='binary_crossentropy', optimizer=optimizer, metrics=['accuracy'])\n",
    "    return model\n",
    "\n",
    "#param_grid_ann=dict(batch_size=batch_size, epochs=epochs, learn_rate=learn_rate, momentum=momentum)\n",
    "param_grid_ann= {'learn_rate': [0.001, 0.2],'momentum': [0.0, 0.2]}\n",
    "grid_results_ann =[]\n",
    "\n",
    "for i,ii in tqdm(enumerate(param_grid_ann['learn_rate'])):\n",
    "    for j,jj in enumerate(param_grid_ann['momentum']):\n",
    "    \n",
    "        scoring = {'auc': make_scorer(roc_auc_score)}\n",
    "        estimators_ann = [('scale', StandardScaler()), \n",
    "                             ('ann',KerasClassifier(build_fn=create_model(ii,jj), verbose=0))]\n",
    "\n",
    "        pipe_ann = Pipeline(estimators_ann)\n",
    "        auc = cross_validate(pipe_ann,X_train,y_train, cv=2, scoring ='roc_auc', n_jobs = -1, verbose=2 )\n",
    "        auc['pars'] = [ii,jj]\n",
    "        grid_results_ann.append(auc) \n",
    "        pickle.dump(grid_results_ann, open('grid_results_ann_default.pkl','wb'))\n",
    "        print(auc)"
   ]
  },
  {
   "cell_type": "markdown",
   "metadata": {},
   "source": [
    "##  get  auc of test dataset (SVM and ANN)"
   ]
  },
  {
   "cell_type": "code",
   "execution_count": null,
   "metadata": {},
   "outputs": [],
   "source": [
    "#testing for SVM\n",
    "\n",
    "from sklearn.svm import SVC\n",
    "from sklearn.metrics import classification_report, confusion_matrix \n",
    "\n",
    "model_svm=SVC(C=0.1, cache_size=200, class_weight=None, coef0=0.0,\n",
    "  decision_function_shape='ovr', degree=3, gamma=1, kernel='linear',\n",
    "  max_iter=-1, probability=False, random_state=None, shrinking=True,\n",
    "  tol=0.001, verbose=False)\n",
    "\n",
    "model_svm.fit(X_train,y_train)\n",
    "y_pred = model_svm.predict(X_test)\n",
    "print(confusion_matrix(y_test,y_pred))\n",
    "\n",
    "from sklearn.metrics import roc_curve\n",
    "roc = roc_curve(model_svm.predict_proba(X_test, y_test))\n",
    "print(roc)"
   ]
  },
  {
   "cell_type": "code",
   "execution_count": null,
   "metadata": {},
   "outputs": [],
   "source": [
    "#testing for ann \n",
    "from keras.models import Sequential\n",
    "from keras.layers import Dense\n",
    "from sklearn.model_selection import  GridSearchCV,RepeatedStratifiedKFold\n",
    "from keras.wrappers.scikit_learn import KerasClassifier\n",
    "from keras.optimizers import SGD\n",
    "import numpy as np\n",
    "# fix random seed for reproducibility\n",
    "seed = 7\n",
    "np.random.seed(seed)\n",
    "\n",
    "#here we assume the best parameter is learning rate =0.1 and momentum=0. They have to replaced by the real best\n",
    "#value from the above grid search result\n",
    "def create_model(learn_rate=0.1, momentum=0):\n",
    "    #create a model\n",
    "    model=Sequential()\n",
    "    model.add(Dense(12,input_dim=8,activation='relu'))\n",
    "    model.add(Dense(12,activation='relu'))\n",
    "    model.add(Dense(1,activation='sigmoid'))\n",
    "    #compile model\n",
    "    optimizer = SGD(lr=learn_rate, momentum=momentum)\n",
    "    model.compile(loss='binary_crossentropy', optimizer=optimizer, metrics=['accuracy'])\n",
    "    return model\n",
    "\n",
    "#creat a model\n",
    "model=KerasClassifier(build_fn=create_model, verbose=0)\n",
    "#fit model\n",
    "history = model.fit(X_train, y_train, epochs=150, batch_size=10, verbose=1)\n",
    "# evaluate the keras model\n",
    "_, accuracy = model.evaluate(X_test, y_test)\n",
    "print('Accuracy: %.2f' % (accuracy*100))"
   ]
  },
  {
   "cell_type": "code",
   "execution_count": 14,
   "metadata": {},
   "outputs": [],
   "source": [
    "#testing for ann \n",
    "from keras.models import Sequential\n",
    "from keras.layers import Dense\n",
    "from sklearn.model_selection import  GridSearchCV,RepeatedStratifiedKFold\n",
    "from keras.wrappers.scikit_learn import KerasClassifier\n",
    "from keras.optimizers import SGD\n",
    "import numpy as np\n",
    "from sklearn.neighbors import KNeighborsClassifier\n",
    "import pickle\n",
    "from sklearn.pipeline import Pipeline\n",
    "# fix random seed for reproducibility\n",
    "from keras.models import Sequential\n",
    "from keras.layers import Dense\n",
    "from sklearn.model_selection import  GridSearchCV,RepeatedStratifiedKFold\n",
    "from keras.wrappers.scikit_learn import KerasClassifier\n",
    "import numpy as np\n",
    "from keras.optimizers import SGD\n",
    "from tqdm import tqdm_notebook as tqdm\n",
    "from sklearn.metrics import classification_report, confusion_matrix ,make_scorer, roc_auc_score,accuracy_score\n",
    "from sklearn.preprocessing import StandardScaler\n",
    "from sklearn.model_selection import cross_validate\n",
    "from sklearn.pipeline import Pipeline\n",
    "import pickle\n",
    "\n",
    "seed = 7\n",
    "np.random.seed(seed)"
   ]
  },
  {
   "cell_type": "code",
   "execution_count": 22,
   "metadata": {},
   "outputs": [
    {
     "name": "stdout",
     "output_type": "stream",
     "text": [
      "Epoch 1/150\n",
      "2713/2713 [==============================] - 5s 2ms/step - loss: 50.0845 - accuracy: 0.8798A - E\n",
      "Epoch 2/150\n",
      "2713/2713 [==============================] - 4s 1ms/step - loss: 0.3583 - accuracy: 0.8843: 0s - loss: 0.3580 - \n",
      "Epoch 3/150\n",
      "2713/2713 [==============================] - 4s 1ms/step - loss: 0.3592 - accuracy: 0.8839\n",
      "Epoch 4/150\n",
      "2713/2713 [==============================] - 4s 1ms/step - loss: 0.3614 - accuracy: 0.8828\n",
      "Epoch 5/150\n",
      "2713/2713 [==============================] - 4s 1ms/step - loss: 0.3567 - accuracy: 0.8851\n",
      "Epoch 6/150\n",
      "2713/2713 [==============================] - 4s 1ms/step - loss: 0.3576 - accuracy: 0.8847\n",
      "Epoch 7/150\n",
      "2713/2713 [==============================] - 4s 2ms/step - loss: 0.3599 - accuracy: 0.8835\n",
      "Epoch 8/150\n",
      "2713/2713 [==============================] - 4s 1ms/step - loss: 0.3666 - accuracy: 0.8802: \n",
      "Epoch 9/150\n",
      "2713/2713 [==============================] - 4s 2ms/step - loss: 0.3631 - accuracy: 0.8819\n",
      "Epoch 10/150\n",
      "2713/2713 [==============================] - 4s 1ms/step - loss: 0.3645 - accuracy: 0.8813\n",
      "Epoch 11/150\n",
      "2713/2713 [==============================] - 4s 1ms/step - loss: 0.3578 - accuracy: 0.8846\n",
      "Epoch 12/150\n",
      "2713/2713 [==============================] - 3s 1ms/step - loss: 0.3571 - accuracy: 0.8849\n",
      "Epoch 13/150\n",
      "2713/2713 [==============================] - 4s 1ms/step - loss: 0.3643 - accuracy: 0.8813\n",
      "Epoch 14/150\n",
      "2713/2713 [==============================] - 4s 2ms/step - loss: 0.3600 - accuracy: 0.8835\n",
      "Epoch 15/150\n",
      "2713/2713 [==============================] - 4s 1ms/step - loss: 0.3592 - accuracy: 0.8839\n",
      "Epoch 16/150\n",
      "2713/2713 [==============================] - 4s 1ms/step - loss: 0.3659 - accuracy: 0.8806\n",
      "Epoch 17/150\n",
      "2713/2713 [==============================] - 4s 1ms/step - loss: 0.3594 - accuracy: 0.8838\n",
      "Epoch 18/150\n",
      "2713/2713 [==============================] - 4s 1ms/step - loss: 0.3567 - accuracy: 0.8851\n",
      "Epoch 19/150\n",
      "2713/2713 [==============================] - 4s 1ms/step - loss: 0.3576 - accuracy: 0.8847\n",
      "Epoch 20/150\n",
      "2713/2713 [==============================] - 4s 1ms/step - loss: 0.3591 - accuracy: 0.8840\n",
      "Epoch 21/150\n",
      "2713/2713 [==============================] - 4s 2ms/step - loss: 0.3546 - accuracy: 0.8861: 0s\n",
      "Epoch 22/150\n",
      "2713/2713 [==============================] - 4s 2ms/step - loss: 0.3596 - accuracy: 0.8837\n",
      "Epoch 23/150\n",
      "2713/2713 [==============================] - 4s 1ms/step - loss: 0.3495 - accuracy: 0.8887\n",
      "Epoch 24/150\n",
      "2713/2713 [==============================] - 4s 1ms/step - loss: 0.3681 - accuracy: 0.8794\n",
      "Epoch 25/150\n",
      "2713/2713 [==============================] - 4s 1ms/step - loss: 0.3567 - accuracy: 0.8851 ETA: 1s - - ETA: 0s - loss: 0.3564 - accu\n",
      "Epoch 26/150\n",
      "2713/2713 [==============================] - 4s 1ms/step - loss: 0.3666 - accuracy: 0.8802: 0s - loss: 0.367\n",
      "Epoch 27/150\n",
      "2713/2713 [==============================] - 4s 1ms/step - loss: 0.3638 - accuracy: 0.8816\n",
      "Epoch 28/150\n",
      "2713/2713 [==============================] - 4s 1ms/step - loss: 0.3614 - accuracy: 0.8828\n",
      "Epoch 29/150\n",
      "2713/2713 [==============================] - 4s 2ms/step - loss: 0.3671 - accuracy: 0.8799\n",
      "Epoch 30/150\n",
      "2713/2713 [==============================] - 4s 2ms/step - loss: 0.3633 - accuracy: 0.8819\n",
      "Epoch 31/150\n",
      "2713/2713 [==============================] - 4s 1ms/step - loss: 0.3621 - accuracy: 0.8824\n",
      "Epoch 32/150\n",
      "2713/2713 [==============================] - 4s 1ms/step - loss: 0.3651 - accuracy: 0.8809\n",
      "Epoch 33/150\n",
      "2713/2713 [==============================] - 4s 1ms/step - loss: 0.3583 - accuracy: 0.8843\n",
      "Epoch 34/150\n",
      "2713/2713 [==============================] - 4s 1ms/step - loss: 0.3551 - accuracy: 0.8859\n",
      "Epoch 35/150\n",
      "2713/2713 [==============================] - 4s 1ms/step - loss: 0.3581 - accuracy: 0.8844\n",
      "Epoch 36/150\n",
      "2713/2713 [==============================] - 4s 1ms/step - loss: 0.3584 - accuracy: 0.8843\n",
      "Epoch 37/150\n",
      "2713/2713 [==============================] - 4s 1ms/step - loss: 0.3547 - accuracy: 0.8861\n",
      "Epoch 38/150\n",
      "2713/2713 [==============================] - 4s 1ms/step - loss: 0.3636 - accuracy: 0.8817\n",
      "Epoch 39/150\n",
      "2713/2713 [==============================] - 4s 1ms/step - loss: 0.3608 - accuracy: 0.8831\n",
      "Epoch 40/150\n",
      "2713/2713 [==============================] - 4s 1ms/step - loss: 0.3679 - accuracy: 0.8795\n",
      "Epoch 41/150\n",
      "2713/2713 [==============================] - 5s 2ms/step - loss: 0.3594 - accuracy: 0.8838\n",
      "Epoch 42/150\n",
      "2713/2713 [==============================] - 4s 2ms/step - loss: 0.3598 - accuracy: 0.8836\n",
      "Epoch 43/150\n",
      "2713/2713 [==============================] - 4s 2ms/step - loss: 0.3605 - accuracy: 0.8832\n",
      "Epoch 44/150\n",
      "2713/2713 [==============================] - 4s 1ms/step - loss: 0.3649 - accuracy: 0.8810\n",
      "Epoch 45/150\n",
      "2713/2713 [==============================] - 4s 1ms/step - loss: 0.3648 - accuracy: 0.8811\n",
      "Epoch 46/150\n",
      "2713/2713 [==============================] - 4s 2ms/step - loss: 0.3585 - accuracy: 0.8842\n",
      "Epoch 47/150\n",
      "2713/2713 [==============================] - 4s 2ms/step - loss: 0.3617 - accuracy: 0.8826\n",
      "Epoch 48/150\n",
      "2713/2713 [==============================] - 4s 2ms/step - loss: 0.3702 - accuracy: 0.8784\n",
      "Epoch 49/150\n",
      "2713/2713 [==============================] - 4s 1ms/step - loss: 0.3657 - accuracy: 0.8807\n",
      "Epoch 50/150\n",
      "2713/2713 [==============================] - 4s 1ms/step - loss: 0.3575 - accuracy: 0.8847\n",
      "Epoch 51/150\n",
      "2713/2713 [==============================] - 4s 1ms/step - loss: 0.3588 - accuracy: 0.8841\n",
      "Epoch 52/150\n",
      "2713/2713 [==============================] - 4s 1ms/step - loss: 0.3669 - accuracy: 0.8801\n",
      "Epoch 53/150\n",
      "2713/2713 [==============================] - 4s 1ms/step - loss: 0.3550 - accuracy: 0.8860\n",
      "Epoch 54/150\n",
      "2713/2713 [==============================] - 4s 1ms/step - loss: 0.3612 - accuracy: 0.8829\n",
      "Epoch 55/150\n",
      "2713/2713 [==============================] - 4s 1ms/step - loss: 0.3583 - accuracy: 0.8843\n",
      "Epoch 56/150\n",
      "2713/2713 [==============================] - 4s 1ms/step - loss: 0.3619 - accuracy: 0.8825\n",
      "Epoch 57/150\n",
      "2713/2713 [==============================] - 3s 1ms/step - loss: 0.3644 - accuracy: 0.8813\n",
      "Epoch 58/150\n",
      "2713/2713 [==============================] - 4s 1ms/step - loss: 0.3602 - accuracy: 0.8834\n",
      "Epoch 59/150\n",
      "2713/2713 [==============================] - 5s 2ms/step - loss: 0.3641 - accuracy: 0.8814\n",
      "Epoch 60/150\n",
      "2713/2713 [==============================] - 4s 1ms/step - loss: 0.3609 - accuracy: 0.8830: 0s - loss: 0.3610 - accura\n",
      "Epoch 61/150\n",
      "2713/2713 [==============================] - 4s 1ms/step - loss: 0.3591 - accuracy: 0.8839\n",
      "Epoch 62/150\n",
      "2713/2713 [==============================] - 4s 1ms/step - loss: 0.3648 - accuracy: 0.8811: 0s - loss: 0.3654 - ac - ETA: 0s - loss: 0.3649 - accuracy: 0.\n",
      "Epoch 63/150\n",
      "2713/2713 [==============================] - 4s 2ms/step - loss: 0.3567 - accuracy: 0.8851\n",
      "Epoch 64/150\n",
      "2713/2713 [==============================] - 4s 1ms/step - loss: 0.3643 - accuracy: 0.8814\n",
      "Epoch 65/150\n",
      "2713/2713 [==============================] - 4s 1ms/step - loss: 0.3556 - accuracy: 0.8856\n",
      "Epoch 66/150\n",
      "2713/2713 [==============================] - 4s 1ms/step - loss: 0.3580 - accuracy: 0.8845\n",
      "Epoch 67/150\n",
      "2713/2713 [==============================] - 4s 1ms/step - loss: 0.3577 - accuracy: 0.8846\n",
      "Epoch 68/150\n",
      "2713/2713 [==============================] - 4s 2ms/step - loss: 0.3536 - accuracy: 0.8868\n",
      "Epoch 69/150\n",
      "2713/2713 [==============================] - 4s 1ms/step - loss: 0.3602 - accuracy: 0.8834\n",
      "Epoch 70/150\n",
      "2713/2713 [==============================] - 4s 1ms/step - loss: 0.3575 - accuracy: 0.8847\n",
      "Epoch 71/150\n",
      "2713/2713 [==============================] - 4s 1ms/step - loss: 0.3602 - accuracy: 0.8834\n",
      "Epoch 72/150\n",
      "2713/2713 [==============================] - ETA: 0s - loss: 0.3565 - accuracy: 0.88 - 4s 1ms/step - loss: 0.3566 - accuracy: 0.8852\n",
      "Epoch 73/150\n",
      "2713/2713 [==============================] - 4s 1ms/step - loss: 0.3615 - accuracy: 0.8827: 0s - loss: 0.3623 -  - ETA: 0s - loss: 0.3618 \n",
      "Epoch 74/150\n",
      "2713/2713 [==============================] - 4s 1ms/step - loss: 0.3584 - accuracy: 0.8843\n",
      "Epoch 75/150\n",
      "2713/2713 [==============================] - 4s 1ms/step - loss: 0.3581 - accuracy: 0.8844\n",
      "Epoch 76/150\n"
     ]
    },
    {
     "name": "stdout",
     "output_type": "stream",
     "text": [
      "2713/2713 [==============================] - 4s 1ms/step - loss: 0.3643 - accuracy: 0.8814: 0s - loss: 0.3\n",
      "Epoch 77/150\n",
      "2713/2713 [==============================] - 3s 1ms/step - loss: 0.3649 - accuracy: 0.8811\n",
      "Epoch 78/150\n",
      "2713/2713 [==============================] - ETA: 0s - loss: 0.3626 - accuracy: 0.88 - 3s 1ms/step - loss: 0.3625 - accuracy: 0.8823\n",
      "Epoch 79/150\n",
      "2713/2713 [==============================] - 4s 1ms/step - loss: 0.3609 - accuracy: 0.8831\n",
      "Epoch 80/150\n",
      "2713/2713 [==============================] - 4s 1ms/step - loss: 0.3571 - accuracy: 0.8849\n",
      "Epoch 81/150\n",
      "2713/2713 [==============================] - 4s 1ms/step - loss: 0.3556 - accuracy: 0.8857\n",
      "Epoch 82/150\n",
      "2713/2713 [==============================] - 4s 1ms/step - loss: 0.3675 - accuracy: 0.8798\n",
      "Epoch 83/150\n",
      "2713/2713 [==============================] - 4s 2ms/step - loss: 0.3578 - accuracy: 0.8846\n",
      "Epoch 84/150\n",
      "2713/2713 [==============================] - 4s 1ms/step - loss: 0.3558 - accuracy: 0.8856\n",
      "Epoch 85/150\n",
      "2713/2713 [==============================] - 5s 2ms/step - loss: 0.3588 - accuracy: 0.8841\n",
      "Epoch 86/150\n",
      "2713/2713 [==============================] - 5s 2ms/step - loss: 0.3514 - accuracy: 0.8877\n",
      "Epoch 87/150\n",
      "2713/2713 [==============================] - 5s 2ms/step - loss: 0.3635 - accuracy: 0.8818\n",
      "Epoch 88/150\n",
      "2713/2713 [==============================] - 5s 2ms/step - loss: 0.3597 - accuracy: 0.8837\n",
      "Epoch 89/150\n",
      "2713/2713 [==============================] - 5s 2ms/step - loss: 0.3602 - accuracy: 0.8834\n",
      "Epoch 90/150\n",
      "2713/2713 [==============================] - 4s 2ms/step - loss: 0.3606 - accuracy: 0.8832\n",
      "Epoch 91/150\n",
      "2713/2713 [==============================] - 4s 2ms/step - loss: 0.3614 - accuracy: 0.8828: 0s\n",
      "Epoch 92/150\n",
      "2713/2713 [==============================] - 5s 2ms/step - loss: 0.3650 - accuracy: 0.8810\n",
      "Epoch 93/150\n",
      "2713/2713 [==============================] - 5s 2ms/step - loss: 0.3616 - accuracy: 0.8827\n",
      "Epoch 94/150\n",
      "2713/2713 [==============================] - 6s 2ms/step - loss: 0.3619 - accuracy: 0.8825\n",
      "Epoch 95/150\n",
      "2713/2713 [==============================] - 5s 2ms/step - loss: 0.3663 - accuracy: 0.8804\n",
      "Epoch 96/150\n",
      "2713/2713 [==============================] - 4s 2ms/step - loss: 0.3615 - accuracy: 0.8827\n",
      "Epoch 97/150\n",
      "2713/2713 [==============================] - 4s 1ms/step - loss: 0.3570 - accuracy: 0.8849\n",
      "Epoch 98/150\n",
      "2713/2713 [==============================] - 3s 1ms/step - loss: 0.3551 - accuracy: 0.8859\n",
      "Epoch 99/150\n",
      "2713/2713 [==============================] - 4s 1ms/step - loss: 0.3571 - accuracy: 0.8849\n",
      "Epoch 100/150\n",
      "2713/2713 [==============================] - 4s 1ms/step - loss: 0.3674 - accuracy: 0.8798\n",
      "Epoch 101/150\n",
      "2713/2713 [==============================] - 4s 1ms/step - loss: 0.3663 - accuracy: 0.8804\n",
      "Epoch 102/150\n",
      "2713/2713 [==============================] - 4s 1ms/step - loss: 0.3528 - accuracy: 0.8870\n",
      "Epoch 103/150\n",
      "2713/2713 [==============================] - 4s 1ms/step - loss: 0.3564 - accuracy: 0.8853\n",
      "Epoch 104/150\n",
      "2713/2713 [==============================] - 4s 1ms/step - loss: 0.3529 - accuracy: 0.8870\n",
      "Epoch 105/150\n",
      "2713/2713 [==============================] - 4s 2ms/step - loss: 0.3617 - accuracy: 0.8827\n",
      "Epoch 106/150\n",
      "2713/2713 [==============================] - 4s 2ms/step - loss: 0.3611 - accuracy: 0.8829\n",
      "Epoch 107/150\n",
      "2713/2713 [==============================] - 5s 2ms/step - loss: 0.3640 - accuracy: 0.8815\n",
      "Epoch 108/150\n",
      "2713/2713 [==============================] - 5s 2ms/step - loss: 0.3627 - accuracy: 0.8822\n",
      "Epoch 109/150\n",
      "2713/2713 [==============================] - 4s 2ms/step - loss: 0.3580 - accuracy: 0.8845\n",
      "Epoch 110/150\n",
      "2713/2713 [==============================] - 4s 2ms/step - loss: 0.3605 - accuracy: 0.8833\n",
      "Epoch 111/150\n",
      "2713/2713 [==============================] - 4s 1ms/step - loss: 0.3633 - accuracy: 0.8818\n",
      "Epoch 112/150\n",
      "2713/2713 [==============================] - 3s 1ms/step - loss: 0.3616 - accuracy: 0.8827\n",
      "Epoch 113/150\n",
      "2713/2713 [==============================] - 3s 1ms/step - loss: 0.3569 - accuracy: 0.8850\n",
      "Epoch 114/150\n",
      "2713/2713 [==============================] - 4s 1ms/step - loss: 0.3638 - accuracy: 0.8816\n",
      "Epoch 115/150\n",
      "2713/2713 [==============================] - 4s 1ms/step - loss: 0.3585 - accuracy: 0.8842\n",
      "Epoch 116/150\n",
      "2713/2713 [==============================] - 4s 1ms/step - loss: 0.3559 - accuracy: 0.8855\n",
      "Epoch 117/150\n",
      "2713/2713 [==============================] - 3s 1ms/step - loss: 0.3590 - accuracy: 0.8840\n",
      "Epoch 118/150\n",
      "2713/2713 [==============================] - 4s 1ms/step - loss: 0.3616 - accuracy: 0.8827: 0s - loss: 0\n",
      "Epoch 119/150\n",
      "2713/2713 [==============================] - 3s 1ms/step - loss: 0.3606 - accuracy: 0.8832\n",
      "Epoch 120/150\n",
      "2713/2713 [==============================] - 3s 1ms/step - loss: 0.3552 - accuracy: 0.8858\n",
      "Epoch 121/150\n",
      "2713/2713 [==============================] - 3s 1ms/step - loss: 0.3588 - accuracy: 0.8841\n",
      "Epoch 122/150\n",
      "2713/2713 [==============================] - 3s 1ms/step - loss: 0.3543 - accuracy: 0.8863\n",
      "Epoch 123/150\n",
      "2713/2713 [==============================] - 3s 1ms/step - loss: 0.3553 - accuracy: 0.8858\n",
      "Epoch 124/150\n",
      "2713/2713 [==============================] - 3s 1ms/step - loss: 0.3666 - accuracy: 0.8801\n",
      "Epoch 125/150\n",
      "2713/2713 [==============================] - 3s 1ms/step - loss: 0.3553 - accuracy: 0.8858: 0s - los\n",
      "Epoch 126/150\n",
      "2713/2713 [==============================] - 3s 1ms/step - loss: 0.3622 - accuracy: 0.8824\n",
      "Epoch 127/150\n",
      "2713/2713 [==============================] - 3s 1ms/step - loss: 0.3562 - accuracy: 0.8853\n",
      "Epoch 128/150\n",
      "2713/2713 [==============================] - 3s 1ms/step - loss: 0.3612 - accuracy: 0.8829\n",
      "Epoch 129/150\n",
      "2713/2713 [==============================] - 4s 1ms/step - loss: 0.3585 - accuracy: 0.8842\n",
      "Epoch 130/150\n",
      "2713/2713 [==============================] - 3s 1ms/step - loss: 0.3571 - accuracy: 0.8849\n",
      "Epoch 131/150\n",
      "2713/2713 [==============================] - 3s 1ms/step - loss: 0.3652 - accuracy: 0.8809\n",
      "Epoch 132/150\n",
      "2713/2713 [==============================] - 3s 1ms/step - loss: 0.3604 - accuracy: 0.8833\n",
      "Epoch 133/150\n",
      "2713/2713 [==============================] - 3s 1ms/step - loss: 0.3634 - accuracy: 0.8818\n",
      "Epoch 134/150\n",
      "2713/2713 [==============================] - 3s 1ms/step - loss: 0.3587 - accuracy: 0.8841\n",
      "Epoch 135/150\n",
      "2713/2713 [==============================] - 3s 1ms/step - loss: 0.3676 - accuracy: 0.8797\n",
      "Epoch 136/150\n",
      "2713/2713 [==============================] - 3s 1ms/step - loss: 0.3589 - accuracy: 0.8840\n",
      "Epoch 137/150\n",
      "2713/2713 [==============================] - 3s 1ms/step - loss: 0.3591 - accuracy: 0.8839\n",
      "Epoch 138/150\n",
      "2713/2713 [==============================] - 3s 1ms/step - loss: 0.3638 - accuracy: 0.8817\n",
      "Epoch 139/150\n",
      "2713/2713 [==============================] - 3s 1ms/step - loss: 0.3564 - accuracy: 0.8853\n",
      "Epoch 140/150\n",
      "2713/2713 [==============================] - 3s 1ms/step - loss: 0.3659 - accuracy: 0.8806\n",
      "Epoch 141/150\n",
      "2713/2713 [==============================] - 3s 1ms/step - loss: 0.3577 - accuracy: 0.8846\n",
      "Epoch 142/150\n",
      "2713/2713 [==============================] - 3s 1ms/step - loss: 0.3528 - accuracy: 0.8871\n",
      "Epoch 143/150\n",
      "2713/2713 [==============================] - 3s 1ms/step - loss: 0.3504 - accuracy: 0.8882\n",
      "Epoch 144/150\n",
      "2713/2713 [==============================] - 3s 1ms/step - loss: 0.3617 - accuracy: 0.8827\n",
      "Epoch 145/150\n",
      "2713/2713 [==============================] - 3s 1ms/step - loss: 0.3582 - accuracy: 0.8844\n",
      "Epoch 146/150\n",
      "2713/2713 [==============================] - 3s 1ms/step - loss: 0.3659 - accuracy: 0.8806\n",
      "Epoch 147/150\n",
      "2713/2713 [==============================] - 3s 1ms/step - loss: 0.3605 - accuracy: 0.8833\n",
      "Epoch 148/150\n",
      "2713/2713 [==============================] - 4s 1ms/step - loss: 0.3606 - accuracy: 0.8832\n",
      "Epoch 149/150\n",
      "2713/2713 [==============================] - 4s 1ms/step - loss: 0.3556 - accuracy: 0.8857\n",
      "Epoch 150/150\n",
      "2713/2713 [==============================] - 3s 1ms/step - loss: 0.3615 - accuracy: 0.8827\n",
      "dict_keys(['loss', 'accuracy'])\n"
     ]
    }
   ],
   "source": [
    "\n",
    "from keras.models import Sequential\n",
    "from keras.layers import Dense\n",
    "from sklearn.model_selection import  GridSearchCV,RepeatedStratifiedKFold\n",
    "from keras.wrappers.scikit_learn import KerasClassifier\n",
    "from keras.optimizers import SGD\n",
    "import numpy as np\n",
    "# fix random seed for reproducibility\n",
    "seed = 7\n",
    "np.random.seed(seed)\n",
    "\n",
    "#create a model\n",
    "model=Sequential()\n",
    "model.add(Dense(12,input_dim=16,activation='relu'))\n",
    "model.add(Dense(12,activation='relu'))\n",
    "model.add(Dense(1,activation='sigmoid'))\n",
    "#compile model\n",
    "optimizer = SGD(lr=0.01, momentum=0.6)\n",
    "model.compile(loss='binary_crossentropy', optimizer=optimizer, metrics=['accuracy'])\n",
    "    \n",
    "# Fit the model\n",
    "history = model.fit(X_train, y_train, epochs=150, batch_size=10, verbose=1)\n",
    "\n",
    "#history = model.fit(X_train, y_train, validation_split=0.33, epochs=50, batch_size=10, verbose=1)\n",
    "#history = model.fit(X_train, Y_train, batch_size=32, epochs=100,validation_data=(X_val, Y_val))#specify the validation set\n",
    "# list all data in history\n",
    "\n",
    "print(history.history.keys())"
   ]
  },
  {
   "cell_type": "code",
   "execution_count": 23,
   "metadata": {},
   "outputs": [
    {
     "name": "stderr",
     "output_type": "stream",
     "text": [
      "C:\\Users\\xg16060\\Anaconda3\\envs\\cat_embedding\\lib\\site-packages\\tensorflow\\python\\keras\\engine\\sequential.py:450: UserWarning: `model.predict_classes()` is deprecated and will be removed after 2021-01-01. Please use instead:* `np.argmax(model.predict(x), axis=-1)`,   if your model does multi-class classification   (e.g. if it uses a `softmax` last-layer activation).* `(model.predict(x) > 0.5).astype(\"int32\")`,   if your model does binary classification   (e.g. if it uses a `sigmoid` last-layer activation).\n",
      "  warnings.warn('`model.predict_classes()` is deprecated and '\n",
      "C:\\Users\\xg16060\\Anaconda3\\envs\\cat_embedding\\lib\\site-packages\\sklearn\\metrics\\classification.py:1143: UndefinedMetricWarning: Precision and F-score are ill-defined and being set to 0.0 in labels with no predicted samples.\n",
      "  'precision', 'predicted', average, warn_for)\n"
     ]
    },
    {
     "name": "stdout",
     "output_type": "stream",
     "text": [
      "              precision    recall  f1-score   support\n",
      "\n",
      "           0       0.88      1.00      0.94     12780\n",
      "           1       0.00      0.00      0.00      1688\n",
      "\n",
      "   micro avg       0.88      0.88      0.88     14468\n",
      "   macro avg       0.44      0.50      0.47     14468\n",
      "weighted avg       0.78      0.88      0.83     14468\n",
      "\n",
      "AUC :  0.5\n"
     ]
    },
    {
     "data": {
      "image/png": "[encoded data removed]",
      "text/plain": [
       "<Figure size 432x288 with 1 Axes>"
      ]
     },
     "metadata": {
      "needs_background": "light"
     },
     "output_type": "display_data"
    }
   ],
   "source": [
    "from sklearn.metrics import roc_curve\n",
    "from sklearn.metrics import auc,classification_report, confusion_matrix \n",
    "import matplotlib.pyplot as plt\n",
    "y_pred = model.predict_classes(X_test, verbose=0)\n",
    "print(classification_report(y_test, y_pred))\n",
    "fpr, tpr, thresholds_keras = roc_curve(y_test, y_pred)\n",
    "auc = auc(fpr, tpr)\n",
    "print(\"AUC : \", auc)\n",
    "plt.figure()\n",
    "plt.plot([0, 1], [0, 1], 'k--')\n",
    "plt.plot(fpr, tpr, label='Keras (area = {:.3f})'.format(auc))\n",
    "plt.xlabel('False positive rate')\n",
    "plt.ylabel('True positive rate')\n",
    "plt.title('ROC curve')\n",
    "plt.legend(loc='best')\n",
    "#plt.savefig(\"../images/ROC/ROC_d3.png\")\n",
    "plt.show()"
   ]
  },
  {
   "cell_type": "code",
   "execution_count": 25,
   "metadata": {},
   "outputs": [
    {
     "name": "stdout",
     "output_type": "stream",
     "text": [
      "0.8833287254630909\n"
     ]
    }
   ],
   "source": [
    "print(accuracy_score(y_test, y_pred ))"
   ]
  },
  {
   "cell_type": "code",
   "execution_count": 37,
   "metadata": {},
   "outputs": [
    {
     "name": "stderr",
     "output_type": "stream",
     "text": [
      "C:\\Users\\xg16060\\Anaconda3\\envs\\cat_embedding\\lib\\site-packages\\sklearn\\preprocessing\\data.py:645: DataConversionWarning: Data with input dtype int32, int64 were all converted to float64 by StandardScaler.\n",
      "  return self.partial_fit(X, y)\n",
      "C:\\Users\\xg16060\\Anaconda3\\envs\\cat_embedding\\lib\\site-packages\\sklearn\\base.py:467: DataConversionWarning: Data with input dtype int32, int64 were all converted to float64 by StandardScaler.\n",
      "  return self.fit(X, y, **fit_params).transform(X)\n",
      "C:\\Users\\xg16060\\Anaconda3\\envs\\cat_embedding\\lib\\site-packages\\sklearn\\pipeline.py:381: DataConversionWarning: Data with input dtype int32, int64 were all converted to float64 by StandardScaler.\n",
      "  Xt = transform.transform(Xt)\n"
     ]
    },
    {
     "name": "stdout",
     "output_type": "stream",
     "text": [
      "0.8398873063287572\n"
     ]
    }
   ],
   "source": [
    "# Testing\n",
    "estimatorsk = [('scale', StandardScaler()), ('rfne', KNeighborsClassifier(n_neighbors=10))]\n",
    "pipek = Pipeline(estimatorsk)\n",
    "    \n",
    "\n",
    "\n",
    "pipek.fit(X_train,y_train)\n",
    "                                                                                         \n",
    "print(roc_auc_score(y_test, pipek.predict_proba(X_test)[:,1])) \n",
    "\n",
    "         "
   ]
  },
  {
   "cell_type": "code",
   "execution_count": 32,
   "metadata": {},
   "outputs": [
    {
     "name": "stdout",
     "output_type": "stream",
     "text": [
      "              precision    recall  f1-score   support\n",
      "\n",
      "           0       0.90      0.98      0.94     12780\n",
      "           1       0.61      0.22      0.32      1688\n",
      "\n",
      "   micro avg       0.89      0.89      0.89     14468\n",
      "   macro avg       0.76      0.60      0.63     14468\n",
      "weighted avg       0.87      0.89      0.87     14468\n",
      "\n"
     ]
    }
   ],
   "source": [
    "y_pre=pipek.predict(X_test)\n",
    "print(accuracy_score(y_test, y_pre ))\n",
    "print(classification_report(y_test, y_pre ))      "
   ]
  },
  {
   "cell_type": "code",
   "execution_count": 29,
   "metadata": {},
   "outputs": [
    {
     "name": "stderr",
     "output_type": "stream",
     "text": [
      "C:\\Users\\xg16060\\Anaconda3\\envs\\cat_embedding\\lib\\site-packages\\sklearn\\preprocessing\\data.py:645: DataConversionWarning: Data with input dtype int32, int64 were all converted to float64 by StandardScaler.\n",
      "  return self.partial_fit(X, y)\n",
      "C:\\Users\\xg16060\\Anaconda3\\envs\\cat_embedding\\lib\\site-packages\\sklearn\\base.py:467: DataConversionWarning: Data with input dtype int32, int64 were all converted to float64 by StandardScaler.\n",
      "  return self.fit(X, y, **fit_params).transform(X)\n",
      "C:\\Users\\xg16060\\Anaconda3\\envs\\cat_embedding\\lib\\site-packages\\sklearn\\pipeline.py:381: DataConversionWarning: Data with input dtype int32, int64 were all converted to float64 by StandardScaler.\n",
      "  Xt = transform.transform(Xt)\n"
     ]
    },
    {
     "name": "stdout",
     "output_type": "stream",
     "text": [
      "0.9223702801326124\n"
     ]
    }
   ],
   "source": [
    "from sklearn.model_selection import cross_validate\n",
    "from sklearn.pipeline import Pipeline\n",
    "from sklearn.preprocessing import StandardScaler\n",
    "from sklearn.linear_model import LogisticRegression\n",
    "from sklearn.model_selection import GridSearchCV\n",
    "from sklearn.metrics import make_scorer, roc_auc_score\n",
    "from tqdm import tqdm_notebook as tqdm\n",
    "from sklearn.ensemble import RandomTreesEmbedding, RandomForestClassifier\n",
    "estimators_rf = [('scale', StandardScaler()), ('rf',RandomForestClassifier(n_estimators=200,max_depth = 20))]\n",
    "pipe_rf = Pipeline(estimators_rf)\n",
    "                  \n",
    "pipe_rf.fit(X_train,y_train)\n",
    "                                                                           \n",
    "print(roc_auc_score(y_test, pipe_rf.predict_proba(X_test)[:,1]))"
   ]
  },
  {
   "cell_type": "code",
   "execution_count": 30,
   "metadata": {},
   "outputs": [
    {
     "name": "stderr",
     "output_type": "stream",
     "text": [
      "C:\\Users\\xg16060\\Anaconda3\\envs\\cat_embedding\\lib\\site-packages\\sklearn\\pipeline.py:331: DataConversionWarning: Data with input dtype int32, int64 were all converted to float64 by StandardScaler.\n",
      "  Xt = transform.transform(Xt)\n"
     ]
    },
    {
     "name": "stdout",
     "output_type": "stream",
     "text": [
      "0.9027508985346973\n",
      "              precision    recall  f1-score   support\n",
      "\n",
      "           0       0.93      0.97      0.95     12780\n",
      "           1       0.62      0.42      0.50      1688\n",
      "\n",
      "   micro avg       0.90      0.90      0.90     14468\n",
      "   macro avg       0.78      0.69      0.72     14468\n",
      "weighted avg       0.89      0.90      0.89     14468\n",
      "\n"
     ]
    }
   ],
   "source": [
    "y_pre=pipe_rf.predict(X_test)\n",
    "print(accuracy_score(y_test, y_pre ))\n",
    "print(classification_report(y_test, y_pre ))  "
   ]
  },
  {
   "cell_type": "code",
   "execution_count": 31,
   "metadata": {},
   "outputs": [
    {
     "name": "stderr",
     "output_type": "stream",
     "text": [
      "C:\\Users\\xg16060\\Anaconda3\\envs\\cat_embedding\\lib\\site-packages\\sklearn\\preprocessing\\data.py:645: DataConversionWarning: Data with input dtype int32, int64 were all converted to float64 by StandardScaler.\n",
      "  return self.partial_fit(X, y)\n",
      "C:\\Users\\xg16060\\Anaconda3\\envs\\cat_embedding\\lib\\site-packages\\sklearn\\base.py:467: DataConversionWarning: Data with input dtype int32, int64 were all converted to float64 by StandardScaler.\n",
      "  return self.fit(X, y, **fit_params).transform(X)\n",
      "C:\\Users\\xg16060\\Anaconda3\\envs\\cat_embedding\\lib\\site-packages\\sklearn\\pipeline.py:381: DataConversionWarning: Data with input dtype int32, int64 were all converted to float64 by StandardScaler.\n",
      "  Xt = transform.transform(Xt)\n"
     ]
    },
    {
     "name": "stdout",
     "output_type": "stream",
     "text": [
      "0.919511404260211\n"
     ]
    }
   ],
   "source": [
    "from sklearn.ensemble import ExtraTreesClassifier\n",
    "\n",
    "estimators_erf = [('scale', StandardScaler()), ('rf',ExtraTreesClassifier(n_estimators=200,max_depth = 20))]\n",
    "pipe_erf = Pipeline(estimators_erf)\n",
    "                  \n",
    "pipe_erf.fit(X_train,y_train)\n",
    "                                                                           \n",
    "print(roc_auc_score(y_test, pipe_erf.predict_proba(X_test)[:,1]))"
   ]
  },
  {
   "cell_type": "code",
   "execution_count": 32,
   "metadata": {},
   "outputs": [
    {
     "name": "stderr",
     "output_type": "stream",
     "text": [
      "C:\\Users\\xg16060\\Anaconda3\\envs\\cat_embedding\\lib\\site-packages\\sklearn\\pipeline.py:331: DataConversionWarning: Data with input dtype int32, int64 were all converted to float64 by StandardScaler.\n",
      "  Xt = transform.transform(Xt)\n"
     ]
    },
    {
     "name": "stdout",
     "output_type": "stream",
     "text": [
      "0.8993641139065524\n",
      "              precision    recall  f1-score   support\n",
      "\n",
      "           0       0.91      0.98      0.95     12780\n",
      "           1       0.66      0.29      0.40      1688\n",
      "\n",
      "   micro avg       0.90      0.90      0.90     14468\n",
      "   macro avg       0.78      0.63      0.67     14468\n",
      "weighted avg       0.88      0.90      0.88     14468\n",
      "\n"
     ]
    }
   ],
   "source": [
    "y_pre=pipe_erf.predict(X_test)\n",
    "print(accuracy_score(y_test, y_pre ))\n",
    "print(classification_report(y_test, y_pre ))  "
   ]
  },
  {
   "cell_type": "code",
   "execution_count": 39,
   "metadata": {},
   "outputs": [
    {
     "name": "stderr",
     "output_type": "stream",
     "text": [
      "C:\\Users\\xg16060\\Anaconda3\\envs\\cat_embedding\\lib\\site-packages\\sklearn\\preprocessing\\data.py:645: DataConversionWarning: Data with input dtype int32, int64 were all converted to float64 by StandardScaler.\n",
      "  return self.partial_fit(X, y)\n",
      "C:\\Users\\xg16060\\Anaconda3\\envs\\cat_embedding\\lib\\site-packages\\sklearn\\base.py:467: DataConversionWarning: Data with input dtype int32, int64 were all converted to float64 by StandardScaler.\n",
      "  return self.fit(X, y, **fit_params).transform(X)\n",
      "C:\\Users\\xg16060\\Anaconda3\\envs\\cat_embedding\\lib\\site-packages\\sklearn\\linear_model\\logistic.py:433: FutureWarning: Default solver will be changed to 'lbfgs' in 0.22. Specify a solver to silence this warning.\n",
      "  FutureWarning)\n"
     ]
    },
    {
     "name": "stdout",
     "output_type": "stream",
     "text": [
      "0.8603323005436516\n"
     ]
    },
    {
     "name": "stderr",
     "output_type": "stream",
     "text": [
      "C:\\Users\\xg16060\\Anaconda3\\envs\\cat_embedding\\lib\\site-packages\\sklearn\\pipeline.py:381: DataConversionWarning: Data with input dtype int32, int64 were all converted to float64 by StandardScaler.\n",
      "  Xt = transform.transform(Xt)\n"
     ]
    }
   ],
   "source": [
    "estimatorsl = [('scale', StandardScaler()), ('rfne', LogisticRegression(penalty='l2'))]\n",
    "pipel = Pipeline(estimatorsl)\n",
    "\n",
    "pipel.fit(X_train,y_train)\n",
    "\n",
    "print(roc_auc_score(y_test, pipel.predict_proba(X_test)[:,1]))"
   ]
  },
  {
   "cell_type": "code",
   "execution_count": 41,
   "metadata": {},
   "outputs": [
    {
     "name": "stdout",
     "output_type": "stream",
     "text": [
      "0.8900331766657451\n",
      "              precision    recall  f1-score   support\n",
      "\n",
      "           0       0.90      0.98      0.94     12780\n",
      "           1       0.58      0.22      0.32      1688\n",
      "\n",
      "   micro avg       0.89      0.89      0.89     14468\n",
      "   macro avg       0.74      0.60      0.63     14468\n",
      "weighted avg       0.87      0.89      0.87     14468\n",
      "\n"
     ]
    },
    {
     "name": "stderr",
     "output_type": "stream",
     "text": [
      "C:\\Users\\xg16060\\Anaconda3\\envs\\cat_embedding\\lib\\site-packages\\sklearn\\pipeline.py:331: DataConversionWarning: Data with input dtype int32, int64 were all converted to float64 by StandardScaler.\n",
      "  Xt = transform.transform(Xt)\n"
     ]
    }
   ],
   "source": [
    "y_pre=pipel.predict(X_test)\n",
    "print(accuracy_score(y_test, y_pre ))\n",
    "print(classification_report(y_test, y_pre ))  "
   ]
  },
  {
   "cell_type": "code",
   "execution_count": 12,
   "metadata": {},
   "outputs": [
    {
     "name": "stdout",
     "output_type": "stream",
     "text": [
      "0.7290574542568735\n"
     ]
    }
   ],
   "source": [
    "from sklearn.naive_bayes import ComplementNB\n",
    "from sklearn.preprocessing import MinMaxScaler\n",
    "\n",
    "estimatorsl = [('scale', MinMaxScaler()), ('rfne', ComplementNB())]\n",
    "pipel = Pipeline(estimatorsl)\n",
    "\n",
    "pipel.fit(X_train,y_train)\n",
    "\n",
    "print(roc_auc_score(y_test, pipel.predict_proba(X_test)[:,1]))"
   ]
  },
  {
   "cell_type": "code",
   "execution_count": 46,
   "metadata": {},
   "outputs": [
    {
     "name": "stderr",
     "output_type": "stream",
     "text": [
      "C:\\Users\\xg16060\\Anaconda3\\envs\\cat_embedding\\lib\\site-packages\\sklearn\\preprocessing\\data.py:645: DataConversionWarning: Data with input dtype int32, int64 were all converted to float64 by StandardScaler.\n",
      "  return self.partial_fit(X, y)\n",
      "C:\\Users\\xg16060\\Anaconda3\\envs\\cat_embedding\\lib\\site-packages\\sklearn\\base.py:467: DataConversionWarning: Data with input dtype int32, int64 were all converted to float64 by StandardScaler.\n",
      "  return self.fit(X, y, **fit_params).transform(X)\n"
     ]
    },
    {
     "data": {
      "application/vnd.jupyter.widget-view+json": {
       "model_id": "07ca948976a544eb8070b1f67eb4eff7",
       "version_major": 2,
       "version_minor": 0
      },
      "text/plain": [
       "  0%|          | 0/50 [00:00<?, ?it/s]"
      ]
     },
     "metadata": {},
     "output_type": "display_data"
    },
    {
     "data": {
      "application/vnd.jupyter.widget-view+json": {
       "model_id": "cf0d70698c9e4c54ac5718207e46c92d",
       "version_major": 2,
       "version_minor": 0
      },
      "text/plain": [
       "  0%|          | 0/50 [00:00<?, ?it/s]"
      ]
     },
     "metadata": {},
     "output_type": "display_data"
    },
    {
     "data": {
      "application/vnd.jupyter.widget-view+json": {
       "model_id": "1255d7e1d34e4ac587b4aabbace8178a",
       "version_major": 2,
       "version_minor": 0
      },
      "text/plain": [
       "Computing transition probabilities:   0%|          | 0/59 [00:00<?, ?it/s]"
      ]
     },
     "metadata": {},
     "output_type": "display_data"
    },
    {
     "name": "stderr",
     "output_type": "stream",
     "text": [
      "\n",
      "Generating walks (CPU: 1):   0%|                                                                | 0/50 [00:00<?, ?it/s]\u001b[A\n",
      "Generating walks (CPU: 1):  14%|███████▊                                                | 7/50 [00:00<00:00, 57.85it/s]\u001b[A\n",
      "Generating walks (CPU: 1):  26%|██████████████▎                                        | 13/50 [00:00<00:00, 49.39it/s]\u001b[A\n",
      "Generating walks (CPU: 1):  38%|████████████████████▉                                  | 19/50 [00:00<00:00, 51.15it/s]\u001b[A\n",
      "Generating walks (CPU: 1):  52%|████████████████████████████▌                          | 26/50 [00:00<00:00, 56.74it/s]\u001b[A\n",
      "Generating walks (CPU: 1):  66%|████████████████████████████████████▎                  | 33/50 [00:00<00:00, 59.53it/s]\u001b[A\n",
      "Generating walks (CPU: 1):  82%|█████████████████████████████████████████████          | 41/50 [00:00<00:00, 64.94it/s]\u001b[A\n",
      "Generating walks (CPU: 1): 100%|███████████████████████████████████████████████████████| 50/50 [00:00<00:00, 58.96it/s]\u001b[A\n"
     ]
    },
    {
     "data": {
      "application/vnd.jupyter.widget-view+json": {
       "model_id": "7ed38d881bc44fdbb4a2737d5273fd09",
       "version_major": 2,
       "version_minor": 0
      },
      "text/plain": [
       "Computing transition probabilities:   0%|          | 0/57 [00:00<?, ?it/s]"
      ]
     },
     "metadata": {},
     "output_type": "display_data"
    },
    {
     "name": "stderr",
     "output_type": "stream",
     "text": [
      "\n",
      "Generating walks (CPU: 1):   0%|                                                                | 0/50 [00:00<?, ?it/s]\u001b[A\n",
      "Generating walks (CPU: 1):  16%|████████▉                                               | 8/50 [00:00<00:00, 80.00it/s]\u001b[A\n",
      "Generating walks (CPU: 1):  32%|█████████████████▌                                     | 16/50 [00:00<00:00, 75.55it/s]\u001b[A\n",
      "Generating walks (CPU: 1):  48%|██████████████████████████▍                            | 24/50 [00:00<00:00, 74.55it/s]\u001b[A\n",
      "Generating walks (CPU: 1):  64%|███████████████████████████████████▏                   | 32/50 [00:00<00:00, 73.81it/s]\u001b[A\n",
      "Generating walks (CPU: 1):  80%|████████████████████████████████████████████           | 40/50 [00:00<00:00, 72.23it/s]\u001b[A\n",
      "Generating walks (CPU: 1): 100%|███████████████████████████████████████████████████████| 50/50 [00:00<00:00, 70.62it/s]\u001b[A\n"
     ]
    },
    {
     "data": {
      "application/vnd.jupyter.widget-view+json": {
       "model_id": "7ee1a3bb6f7448caa8e82d4664dbf21a",
       "version_major": 2,
       "version_minor": 0
      },
      "text/plain": [
       "Computing transition probabilities:   0%|          | 0/63 [00:00<?, ?it/s]"
      ]
     },
     "metadata": {},
     "output_type": "display_data"
    },
    {
     "name": "stderr",
     "output_type": "stream",
     "text": [
      "\n",
      "Generating walks (CPU: 1):   0%|                                                                | 0/50 [00:00<?, ?it/s]\u001b[A\n",
      "Generating walks (CPU: 1):  16%|████████▉                                               | 8/50 [00:00<00:00, 74.77it/s]\u001b[A\n",
      "Generating walks (CPU: 1):  32%|█████████████████▌                                     | 16/50 [00:00<00:00, 70.14it/s]\u001b[A\n",
      "Generating walks (CPU: 1):  48%|██████████████████████████▍                            | 24/50 [00:00<00:00, 67.20it/s]\u001b[A\n",
      "Generating walks (CPU: 1):  62%|██████████████████████████████████                     | 31/50 [00:00<00:00, 66.77it/s]\u001b[A\n",
      "Generating walks (CPU: 1):  76%|█████████████████████████████████████████▊             | 38/50 [00:00<00:00, 66.30it/s]\u001b[A\n",
      "Generating walks (CPU: 1): 100%|███████████████████████████████████████████████████████| 50/50 [00:00<00:00, 62.89it/s]\u001b[A\n"
     ]
    },
    {
     "data": {
      "application/vnd.jupyter.widget-view+json": {
       "model_id": "3168ef2cb68948f38a4509cd02639b88",
       "version_major": 2,
       "version_minor": 0
      },
      "text/plain": [
       "Computing transition probabilities:   0%|          | 0/61 [00:00<?, ?it/s]"
      ]
     },
     "metadata": {},
     "output_type": "display_data"
    },
    {
     "name": "stderr",
     "output_type": "stream",
     "text": [
      "\n",
      "Generating walks (CPU: 1):   0%|                                                                | 0/50 [00:00<?, ?it/s]\u001b[A\n",
      "Generating walks (CPU: 1):  14%|███████▊                                                | 7/50 [00:00<00:00, 67.31it/s]\u001b[A\n",
      "Generating walks (CPU: 1):  28%|███████████████▍                                       | 14/50 [00:00<00:00, 60.47it/s]\u001b[A\n",
      "Generating walks (CPU: 1):  42%|███████████████████████                                | 21/50 [00:00<00:00, 64.21it/s]\u001b[A\n",
      "Generating walks (CPU: 1):  56%|██████████████████████████████▊                        | 28/50 [00:00<00:00, 64.92it/s]\u001b[A\n",
      "Generating walks (CPU: 1):  72%|███████████████████████████████████████▌               | 36/50 [00:00<00:00, 68.00it/s]\u001b[A\n",
      "Generating walks (CPU: 1):  86%|███████████████████████████████████████████████▎       | 43/50 [00:00<00:00, 62.59it/s]\u001b[A\n",
      "Generating walks (CPU: 1): 100%|███████████████████████████████████████████████████████| 50/50 [00:00<00:00, 62.19it/s]\u001b[A\n"
     ]
    },
    {
     "data": {
      "application/vnd.jupyter.widget-view+json": {
       "model_id": "a43b38021b5f4e12863048af0179e825",
       "version_major": 2,
       "version_minor": 0
      },
      "text/plain": [
       "Computing transition probabilities:   0%|          | 0/57 [00:00<?, ?it/s]"
      ]
     },
     "metadata": {},
     "output_type": "display_data"
    },
    {
     "name": "stderr",
     "output_type": "stream",
     "text": [
      "\n",
      "Generating walks (CPU: 1):   0%|                                                                | 0/50 [00:00<?, ?it/s]\u001b[A\n",
      "Generating walks (CPU: 1):  18%|██████████                                              | 9/50 [00:00<00:00, 80.36it/s]\u001b[A\n",
      "Generating walks (CPU: 1):  36%|███████████████████▊                                   | 18/50 [00:00<00:00, 75.59it/s]\u001b[A\n",
      "Generating walks (CPU: 1):  52%|████████████████████████████▌                          | 26/50 [00:00<00:00, 73.75it/s]\u001b[A\n",
      "Generating walks (CPU: 1):  68%|█████████████████████████████████████▍                 | 34/50 [00:00<00:00, 72.60it/s]\u001b[A\n",
      "Generating walks (CPU: 1):  84%|██████████████████████████████████████████████▏        | 42/50 [00:00<00:00, 72.87it/s]\u001b[A\n",
      "Generating walks (CPU: 1): 100%|███████████████████████████████████████████████████████| 50/50 [00:00<00:00, 70.62it/s]\u001b[A\n"
     ]
    },
    {
     "data": {
      "application/vnd.jupyter.widget-view+json": {
       "model_id": "c60d7b583e2e45f98cd96bc42a67efcb",
       "version_major": 2,
       "version_minor": 0
      },
      "text/plain": [
       "Computing transition probabilities:   0%|          | 0/63 [00:00<?, ?it/s]"
      ]
     },
     "metadata": {},
     "output_type": "display_data"
    },
    {
     "name": "stderr",
     "output_type": "stream",
     "text": [
      "\n",
      "Generating walks (CPU: 1):   0%|                                                                | 0/50 [00:00<?, ?it/s]\u001b[A\n",
      "Generating walks (CPU: 1):  14%|███████▊                                                | 7/50 [00:00<00:00, 64.82it/s]\u001b[A\n",
      "Generating walks (CPU: 1):  28%|███████████████▍                                       | 14/50 [00:00<00:00, 41.09it/s]\u001b[A\n",
      "Generating walks (CPU: 1):  42%|███████████████████████                                | 21/50 [00:00<00:00, 49.82it/s]\u001b[A\n",
      "Generating walks (CPU: 1):  56%|██████████████████████████████▊                        | 28/50 [00:00<00:00, 55.34it/s]\u001b[A\n",
      "Generating walks (CPU: 1):  70%|██████████████████████████████████████▌                | 35/50 [00:00<00:00, 57.55it/s]\u001b[A\n",
      "Generating walks (CPU: 1):  84%|██████████████████████████████████████████████▏        | 42/50 [00:00<00:00, 60.01it/s]\u001b[A\n",
      "Generating walks (CPU: 1): 100%|███████████████████████████████████████████████████████| 50/50 [00:00<00:00, 55.56it/s]\u001b[A\n"
     ]
    },
    {
     "data": {
      "application/vnd.jupyter.widget-view+json": {
       "model_id": "ed1d882206424ac6b3fe01f96904343d",
       "version_major": 2,
       "version_minor": 0
      },
      "text/plain": [
       "Computing transition probabilities:   0%|          | 0/53 [00:00<?, ?it/s]"
      ]
     },
     "metadata": {},
     "output_type": "display_data"
    },
    {
     "name": "stderr",
     "output_type": "stream",
     "text": [
      "\n",
      "Generating walks (CPU: 1):   0%|                                                                | 0/50 [00:00<?, ?it/s]\u001b[A\n",
      "Generating walks (CPU: 1):  18%|██████████                                              | 9/50 [00:00<00:00, 82.57it/s]\u001b[A\n",
      "Generating walks (CPU: 1):  36%|███████████████████▊                                   | 18/50 [00:00<00:00, 72.75it/s]\u001b[A\n",
      "Generating walks (CPU: 1):  52%|████████████████████████████▌                          | 26/50 [00:00<00:00, 67.99it/s]\u001b[A\n",
      "Generating walks (CPU: 1):  68%|█████████████████████████████████████▍                 | 34/50 [00:00<00:00, 71.35it/s]\u001b[A\n",
      "Generating walks (CPU: 1):  84%|██████████████████████████████████████████████▏        | 42/50 [00:00<00:00, 73.46it/s]\u001b[A\n",
      "Generating walks (CPU: 1): 100%|███████████████████████████████████████████████████████| 50/50 [00:00<00:00, 71.74it/s]\u001b[A\n"
     ]
    },
    {
     "data": {
      "application/vnd.jupyter.widget-view+json": {
       "model_id": "e1cd862054bc4d00b379824d28db66f3",
       "version_major": 2,
       "version_minor": 0
      },
      "text/plain": [
       "Computing transition probabilities:   0%|          | 0/55 [00:00<?, ?it/s]"
      ]
     },
     "metadata": {},
     "output_type": "display_data"
    },
    {
     "name": "stderr",
     "output_type": "stream",
     "text": [
      "\n",
      "Generating walks (CPU: 1):   0%|                                                                | 0/50 [00:00<?, ?it/s]\u001b[A\n",
      "Generating walks (CPU: 1):  18%|██████████                                              | 9/50 [00:00<00:00, 81.82it/s]\u001b[A\n",
      "Generating walks (CPU: 1):  36%|███████████████████▊                                   | 18/50 [00:00<00:00, 70.18it/s]\u001b[A\n",
      "Generating walks (CPU: 1):  52%|████████████████████████████▌                          | 26/50 [00:00<00:00, 68.38it/s]\u001b[A\n",
      "Generating walks (CPU: 1):  68%|█████████████████████████████████████▍                 | 34/50 [00:00<00:00, 70.44it/s]\u001b[A\n",
      "Generating walks (CPU: 1):  84%|██████████████████████████████████████████████▏        | 42/50 [00:00<00:00, 72.36it/s]\u001b[A\n",
      "Generating walks (CPU: 1): 100%|███████████████████████████████████████████████████████| 50/50 [00:00<00:00, 69.83it/s]\u001b[A\n"
     ]
    },
    {
     "data": {
      "application/vnd.jupyter.widget-view+json": {
       "model_id": "773e552477c3416ba70e95ccc0e093b9",
       "version_major": 2,
       "version_minor": 0
      },
      "text/plain": [
       "Computing transition probabilities:   0%|          | 0/59 [00:00<?, ?it/s]"
      ]
     },
     "metadata": {},
     "output_type": "display_data"
    },
    {
     "name": "stderr",
     "output_type": "stream",
     "text": [
      "\n",
      "Generating walks (CPU: 1):   0%|                                                                | 0/50 [00:00<?, ?it/s]\u001b[A\n",
      "Generating walks (CPU: 1):  14%|███████▊                                                | 7/50 [00:00<00:00, 66.67it/s]\u001b[A\n",
      "Generating walks (CPU: 1):  28%|███████████████▍                                       | 14/50 [00:00<00:00, 62.47it/s]\u001b[A\n",
      "Generating walks (CPU: 1):  44%|████████████████████████▏                              | 22/50 [00:00<00:00, 67.94it/s]\u001b[A\n",
      "Generating walks (CPU: 1):  60%|█████████████████████████████████                      | 30/50 [00:00<00:00, 70.08it/s]\u001b[A\n",
      "Generating walks (CPU: 1):  76%|█████████████████████████████████████████▊             | 38/50 [00:00<00:00, 70.81it/s]\u001b[A\n",
      "Generating walks (CPU: 1): 100%|███████████████████████████████████████████████████████| 50/50 [00:00<00:00, 68.59it/s]\u001b[A\n"
     ]
    },
    {
     "data": {
      "application/vnd.jupyter.widget-view+json": {
       "model_id": "41a3033fefb74eecaa0a9c009da5d8b4",
       "version_major": 2,
       "version_minor": 0
      },
      "text/plain": [
       "Computing transition probabilities:   0%|          | 0/61 [00:00<?, ?it/s]"
      ]
     },
     "metadata": {},
     "output_type": "display_data"
    },
    {
     "name": "stderr",
     "output_type": "stream",
     "text": [
      "\n",
      "Generating walks (CPU: 1):   0%|                                                                | 0/50 [00:00<?, ?it/s]\u001b[A\n",
      "Generating walks (CPU: 1):  16%|████████▉                                               | 8/50 [00:00<00:00, 78.43it/s]\u001b[A\n",
      "Generating walks (CPU: 1):  32%|█████████████████▌                                     | 16/50 [00:00<00:00, 75.39it/s]\u001b[A\n",
      "Generating walks (CPU: 1):  48%|██████████████████████████▍                            | 24/50 [00:00<00:00, 72.02it/s]\u001b[A\n",
      "Generating walks (CPU: 1):  64%|███████████████████████████████████▏                   | 32/50 [00:00<00:00, 71.27it/s]\u001b[A\n",
      "Generating walks (CPU: 1):  80%|████████████████████████████████████████████           | 40/50 [00:00<00:00, 72.03it/s]\u001b[A\n",
      "Generating walks (CPU: 1): 100%|███████████████████████████████████████████████████████| 50/50 [00:00<00:00, 69.73it/s]\u001b[A\n"
     ]
    },
    {
     "data": {
      "application/vnd.jupyter.widget-view+json": {
       "model_id": "ff3d1e8f754c455fafa7abadedbc5fde",
       "version_major": 2,
       "version_minor": 0
      },
      "text/plain": [
       "Computing transition probabilities:   0%|          | 0/57 [00:00<?, ?it/s]"
      ]
     },
     "metadata": {},
     "output_type": "display_data"
    },
    {
     "name": "stderr",
     "output_type": "stream",
     "text": [
      "\n",
      "Generating walks (CPU: 1):   0%|                                                                | 0/50 [00:00<?, ?it/s]\u001b[A\n",
      "Generating walks (CPU: 1):  12%|██████▋                                                 | 6/50 [00:00<00:00, 58.25it/s]\u001b[A\n",
      "Generating walks (CPU: 1):  28%|███████████████▍                                       | 14/50 [00:00<00:00, 68.12it/s]\u001b[A\n",
      "Generating walks (CPU: 1):  44%|████████████████████████▏                              | 22/50 [00:00<00:00, 71.18it/s]\u001b[A\n",
      "Generating walks (CPU: 1):  60%|█████████████████████████████████                      | 30/50 [00:00<00:00, 73.13it/s]\u001b[A\n",
      "Generating walks (CPU: 1):  76%|█████████████████████████████████████████▊             | 38/50 [00:00<00:00, 68.18it/s]\u001b[A\n",
      "Generating walks (CPU: 1): 100%|███████████████████████████████████████████████████████| 50/50 [00:00<00:00, 66.40it/s]\u001b[A\n"
     ]
    },
    {
     "data": {
      "application/vnd.jupyter.widget-view+json": {
       "model_id": "e0d4e8f1151f4a49b9db418266fca8f1",
       "version_major": 2,
       "version_minor": 0
      },
      "text/plain": [
       "Computing transition probabilities:   0%|          | 0/51 [00:00<?, ?it/s]"
      ]
     },
     "metadata": {},
     "output_type": "display_data"
    },
    {
     "name": "stderr",
     "output_type": "stream",
     "text": [
      "\n",
      "Generating walks (CPU: 1):   0%|                                                                | 0/50 [00:00<?, ?it/s]\u001b[A\n",
      "Generating walks (CPU: 1):  20%|███████████                                            | 10/50 [00:00<00:00, 95.24it/s]\u001b[A\n",
      "Generating walks (CPU: 1):  40%|██████████████████████                                 | 20/50 [00:00<00:00, 86.08it/s]\u001b[A\n",
      "Generating walks (CPU: 1):  58%|███████████████████████████████▉                       | 29/50 [00:00<00:00, 84.87it/s]\u001b[A\n",
      "Generating walks (CPU: 1):  76%|█████████████████████████████████████████▊             | 38/50 [00:00<00:00, 75.89it/s]\u001b[A\n",
      "Generating walks (CPU: 1): 100%|███████████████████████████████████████████████████████| 50/50 [00:00<00:00, 76.80it/s]\u001b[A\n"
     ]
    },
    {
     "data": {
      "application/vnd.jupyter.widget-view+json": {
       "model_id": "363d69a557a945a2b97d3a1825b17e99",
       "version_major": 2,
       "version_minor": 0
      },
      "text/plain": [
       "Computing transition probabilities:   0%|          | 0/63 [00:00<?, ?it/s]"
      ]
     },
     "metadata": {},
     "output_type": "display_data"
    },
    {
     "name": "stderr",
     "output_type": "stream",
     "text": [
      "\n",
      "Generating walks (CPU: 1):   0%|                                                                | 0/50 [00:00<?, ?it/s]\u001b[A\n",
      "Generating walks (CPU: 1):  12%|██████▋                                                 | 6/50 [00:00<00:00, 60.00it/s]\u001b[A\n",
      "Generating walks (CPU: 1):  24%|█████████████▏                                         | 12/50 [00:00<00:00, 56.04it/s]\u001b[A\n",
      "Generating walks (CPU: 1):  36%|███████████████████▊                                   | 18/50 [00:00<00:00, 57.28it/s]\u001b[A\n",
      "Generating walks (CPU: 1):  48%|██████████████████████████▍                            | 24/50 [00:00<00:00, 55.96it/s]\u001b[A\n",
      "Generating walks (CPU: 1):  60%|█████████████████████████████████                      | 30/50 [00:00<00:00, 55.82it/s]\u001b[A\n",
      "Generating walks (CPU: 1):  74%|████████████████████████████████████████▋              | 37/50 [00:00<00:00, 60.22it/s]\u001b[A\n",
      "Generating walks (CPU: 1): 100%|███████████████████████████████████████████████████████| 50/50 [00:00<00:00, 56.88it/s]\u001b[A\n"
     ]
    },
    {
     "data": {
      "application/vnd.jupyter.widget-view+json": {
       "model_id": "eed191b3a38349109c5fa72003a1066f",
       "version_major": 2,
       "version_minor": 0
      },
      "text/plain": [
       "Computing transition probabilities:   0%|          | 0/47 [00:00<?, ?it/s]"
      ]
     },
     "metadata": {},
     "output_type": "display_data"
    },
    {
     "name": "stderr",
     "output_type": "stream",
     "text": [
      "\n",
      "Generating walks (CPU: 1):   0%|                                                                | 0/50 [00:00<?, ?it/s]\u001b[A\n",
      "Generating walks (CPU: 1):  20%|███████████                                            | 10/50 [00:00<00:00, 95.23it/s]\u001b[A\n",
      "Generating walks (CPU: 1):  40%|██████████████████████                                 | 20/50 [00:00<00:00, 92.14it/s]\u001b[A\n",
      "Generating walks (CPU: 1):  60%|█████████████████████████████████                      | 30/50 [00:00<00:00, 93.13it/s]\u001b[A\n",
      "Generating walks (CPU: 1):  80%|████████████████████████████████████████████           | 40/50 [00:00<00:00, 92.58it/s]\u001b[A\n",
      "Generating walks (CPU: 1): 100%|███████████████████████████████████████████████████████| 50/50 [00:00<00:00, 89.61it/s]\u001b[A\n"
     ]
    },
    {
     "data": {
      "application/vnd.jupyter.widget-view+json": {
       "model_id": "0bc313460a48449196286ed6f5ae252a",
       "version_major": 2,
       "version_minor": 0
      },
      "text/plain": [
       "Computing transition probabilities:   0%|          | 0/63 [00:00<?, ?it/s]"
      ]
     },
     "metadata": {},
     "output_type": "display_data"
    },
    {
     "name": "stderr",
     "output_type": "stream",
     "text": [
      "\n",
      "Generating walks (CPU: 1):   0%|                                                                | 0/50 [00:00<?, ?it/s]\u001b[A\n",
      "Generating walks (CPU: 1):  18%|██████████                                              | 9/50 [00:00<00:00, 83.33it/s]\u001b[A\n",
      "Generating walks (CPU: 1):  36%|███████████████████▊                                   | 18/50 [00:00<00:00, 73.35it/s]\u001b[A\n",
      "Generating walks (CPU: 1):  52%|████████████████████████████▌                          | 26/50 [00:00<00:00, 71.68it/s]\u001b[A\n",
      "Generating walks (CPU: 1):  68%|█████████████████████████████████████▍                 | 34/50 [00:00<00:00, 70.86it/s]\u001b[A\n",
      "Generating walks (CPU: 1):  84%|██████████████████████████████████████████████▏        | 42/50 [00:00<00:00, 70.40it/s]\u001b[A\n",
      "Generating walks (CPU: 1): 100%|███████████████████████████████████████████████████████| 50/50 [00:00<00:00, 68.78it/s]\u001b[A\n"
     ]
    },
    {
     "data": {
      "application/vnd.jupyter.widget-view+json": {
       "model_id": "d79f0b29fc2c463bb5cce2fdfbfd9885",
       "version_major": 2,
       "version_minor": 0
      },
      "text/plain": [
       "Computing transition probabilities:   0%|          | 0/63 [00:00<?, ?it/s]"
      ]
     },
     "metadata": {},
     "output_type": "display_data"
    },
    {
     "name": "stderr",
     "output_type": "stream",
     "text": [
      "\n",
      "Generating walks (CPU: 1):   0%|                                                                | 0/50 [00:00<?, ?it/s]\u001b[A\n",
      "Generating walks (CPU: 1):  16%|████████▉                                               | 8/50 [00:00<00:00, 78.43it/s]\u001b[A\n",
      "Generating walks (CPU: 1):  32%|█████████████████▌                                     | 16/50 [00:00<00:00, 72.19it/s]\u001b[A\n",
      "Generating walks (CPU: 1):  48%|██████████████████████████▍                            | 24/50 [00:00<00:00, 70.11it/s]\u001b[A\n",
      "Generating walks (CPU: 1):  64%|███████████████████████████████████▏                   | 32/50 [00:00<00:00, 68.48it/s]\u001b[A\n",
      "Generating walks (CPU: 1):  78%|██████████████████████████████████████████▉            | 39/50 [00:00<00:00, 66.80it/s]\u001b[A\n",
      "Generating walks (CPU: 1): 100%|███████████████████████████████████████████████████████| 50/50 [00:00<00:00, 64.94it/s]\u001b[A\n"
     ]
    },
    {
     "data": {
      "application/vnd.jupyter.widget-view+json": {
       "model_id": "3ef916c6e21d48c599ed922f2097c39a",
       "version_major": 2,
       "version_minor": 0
      },
      "text/plain": [
       "Computing transition probabilities:   0%|          | 0/61 [00:00<?, ?it/s]"
      ]
     },
     "metadata": {},
     "output_type": "display_data"
    },
    {
     "name": "stderr",
     "output_type": "stream",
     "text": [
      "\n",
      "Generating walks (CPU: 1):   0%|                                                                | 0/50 [00:00<?, ?it/s]\u001b[A\n",
      "Generating walks (CPU: 1):  18%|██████████                                              | 9/50 [00:00<00:00, 78.26it/s]\u001b[A\n",
      "Generating walks (CPU: 1):  34%|██████████████████▋                                    | 17/50 [00:00<00:00, 69.59it/s]\u001b[A\n",
      "Generating walks (CPU: 1):  48%|██████████████████████████▍                            | 24/50 [00:00<00:00, 69.47it/s]\u001b[A\n",
      "Generating walks (CPU: 1):  64%|███████████████████████████████████▏                   | 32/50 [00:00<00:00, 71.00it/s]\u001b[A\n",
      "Generating walks (CPU: 1):  80%|████████████████████████████████████████████           | 40/50 [00:00<00:00, 69.35it/s]\u001b[A\n",
      "Generating walks (CPU: 1): 100%|███████████████████████████████████████████████████████| 50/50 [00:00<00:00, 67.66it/s]\u001b[A\n"
     ]
    },
    {
     "data": {
      "application/vnd.jupyter.widget-view+json": {
       "model_id": "6683dccd437d40778f25ea4476fbf798",
       "version_major": 2,
       "version_minor": 0
      },
      "text/plain": [
       "Computing transition probabilities:   0%|          | 0/59 [00:00<?, ?it/s]"
      ]
     },
     "metadata": {},
     "output_type": "display_data"
    },
    {
     "name": "stderr",
     "output_type": "stream",
     "text": [
      "\n",
      "Generating walks (CPU: 1):   0%|                                                                | 0/50 [00:00<?, ?it/s]\u001b[A\n",
      "Generating walks (CPU: 1):  12%|██████▋                                                 | 6/50 [00:00<00:00, 55.56it/s]\u001b[A\n",
      "Generating walks (CPU: 1):  26%|██████████████▎                                        | 13/50 [00:00<00:00, 62.71it/s]\u001b[A\n",
      "Generating walks (CPU: 1):  42%|███████████████████████                                | 21/50 [00:00<00:00, 67.69it/s]\u001b[A\n",
      "Generating walks (CPU: 1):  56%|██████████████████████████████▊                        | 28/50 [00:00<00:00, 68.30it/s]\u001b[A\n",
      "Generating walks (CPU: 1):  72%|███████████████████████████████████████▌               | 36/50 [00:00<00:00, 70.19it/s]\u001b[A\n",
      "Generating walks (CPU: 1): 100%|███████████████████████████████████████████████████████| 50/50 [00:00<00:00, 65.19it/s]\u001b[A\n"
     ]
    },
    {
     "data": {
      "application/vnd.jupyter.widget-view+json": {
       "model_id": "bb5e6af2a11244668531afd7822e0459",
       "version_major": 2,
       "version_minor": 0
      },
      "text/plain": [
       "Computing transition probabilities:   0%|          | 0/57 [00:00<?, ?it/s]"
      ]
     },
     "metadata": {},
     "output_type": "display_data"
    },
    {
     "name": "stderr",
     "output_type": "stream",
     "text": [
      "\n",
      "Generating walks (CPU: 1):   0%|                                                                | 0/50 [00:00<?, ?it/s]\u001b[A\n",
      "Generating walks (CPU: 1):  18%|██████████                                              | 9/50 [00:00<00:00, 84.91it/s]\u001b[A\n",
      "Generating walks (CPU: 1):  36%|███████████████████▊                                   | 18/50 [00:00<00:00, 72.79it/s]\u001b[A\n",
      "Generating walks (CPU: 1):  52%|████████████████████████████▌                          | 26/50 [00:00<00:00, 74.20it/s]\u001b[A\n",
      "Generating walks (CPU: 1):  68%|█████████████████████████████████████▍                 | 34/50 [00:00<00:00, 74.68it/s]\u001b[A\n",
      "Generating walks (CPU: 1):  84%|██████████████████████████████████████████████▏        | 42/50 [00:00<00:00, 76.21it/s]\u001b[A\n",
      "Generating walks (CPU: 1): 100%|███████████████████████████████████████████████████████| 50/50 [00:00<00:00, 72.67it/s]\u001b[A\n"
     ]
    },
    {
     "data": {
      "application/vnd.jupyter.widget-view+json": {
       "model_id": "e7f7797858a2404e96f23c739da68db3",
       "version_major": 2,
       "version_minor": 0
      },
      "text/plain": [
       "Computing transition probabilities:   0%|          | 0/55 [00:00<?, ?it/s]"
      ]
     },
     "metadata": {},
     "output_type": "display_data"
    },
    {
     "name": "stderr",
     "output_type": "stream",
     "text": [
      "\n",
      "Generating walks (CPU: 1):   0%|                                                                | 0/50 [00:00<?, ?it/s]\u001b[A\n",
      "Generating walks (CPU: 1):  18%|██████████                                              | 9/50 [00:00<00:00, 86.54it/s]\u001b[A\n",
      "Generating walks (CPU: 1):  36%|███████████████████▊                                   | 18/50 [00:00<00:00, 78.54it/s]\u001b[A\n",
      "Generating walks (CPU: 1):  54%|█████████████████████████████▋                         | 27/50 [00:00<00:00, 79.04it/s]\u001b[A\n",
      "Generating walks (CPU: 1):  70%|██████████████████████████████████████▌                | 35/50 [00:00<00:00, 76.33it/s]\u001b[A\n",
      "Generating walks (CPU: 1): 100%|███████████████████████████████████████████████████████| 50/50 [00:00<00:00, 75.18it/s]\u001b[A\n"
     ]
    },
    {
     "data": {
      "application/vnd.jupyter.widget-view+json": {
       "model_id": "d78feff8517b47d5aa57d35212757575",
       "version_major": 2,
       "version_minor": 0
      },
      "text/plain": [
       "Computing transition probabilities:   0%|          | 0/57 [00:00<?, ?it/s]"
      ]
     },
     "metadata": {},
     "output_type": "display_data"
    },
    {
     "name": "stderr",
     "output_type": "stream",
     "text": [
      "\n",
      "Generating walks (CPU: 1):   0%|                                                                | 0/50 [00:00<?, ?it/s]\u001b[A\n",
      "Generating walks (CPU: 1):  18%|██████████                                              | 9/50 [00:00<00:00, 83.30it/s]\u001b[A\n",
      "Generating walks (CPU: 1):  36%|███████████████████▊                                   | 18/50 [00:00<00:00, 76.65it/s]\u001b[A\n",
      "Generating walks (CPU: 1):  52%|████████████████████████████▌                          | 26/50 [00:00<00:00, 73.75it/s]\u001b[A\n",
      "Generating walks (CPU: 1):  68%|█████████████████████████████████████▍                 | 34/50 [00:00<00:00, 73.61it/s]\u001b[A\n",
      "Generating walks (CPU: 1):  84%|██████████████████████████████████████████████▏        | 42/50 [00:00<00:00, 71.01it/s]\u001b[A\n",
      "Generating walks (CPU: 1): 100%|███████████████████████████████████████████████████████| 50/50 [00:00<00:00, 69.74it/s]\u001b[A\n"
     ]
    },
    {
     "data": {
      "application/vnd.jupyter.widget-view+json": {
       "model_id": "5f3e534fe86b40e0a2496b74856b1f08",
       "version_major": 2,
       "version_minor": 0
      },
      "text/plain": [
       "Computing transition probabilities:   0%|          | 0/63 [00:00<?, ?it/s]"
      ]
     },
     "metadata": {},
     "output_type": "display_data"
    },
    {
     "name": "stderr",
     "output_type": "stream",
     "text": [
      "\n",
      "Generating walks (CPU: 1):   0%|                                                                | 0/50 [00:00<?, ?it/s]\u001b[A\n",
      "Generating walks (CPU: 1):  16%|████████▉                                               | 8/50 [00:00<00:00, 72.70it/s]\u001b[A\n",
      "Generating walks (CPU: 1):  32%|█████████████████▌                                     | 16/50 [00:00<00:00, 66.35it/s]\u001b[A\n",
      "Generating walks (CPU: 1):  46%|█████████████████████████▎                             | 23/50 [00:00<00:00, 65.17it/s]\u001b[A\n",
      "Generating walks (CPU: 1):  62%|██████████████████████████████████                     | 31/50 [00:00<00:00, 67.83it/s]\u001b[A\n",
      "Generating walks (CPU: 1):  76%|█████████████████████████████████████████▊             | 38/50 [00:00<00:00, 67.65it/s]\u001b[A\n",
      "Generating walks (CPU: 1): 100%|███████████████████████████████████████████████████████| 50/50 [00:00<00:00, 65.79it/s]\u001b[A\n"
     ]
    },
    {
     "data": {
      "application/vnd.jupyter.widget-view+json": {
       "model_id": "0324d880513f43bcbc6371dee9dc3f71",
       "version_major": 2,
       "version_minor": 0
      },
      "text/plain": [
       "Computing transition probabilities:   0%|          | 0/61 [00:00<?, ?it/s]"
      ]
     },
     "metadata": {},
     "output_type": "display_data"
    },
    {
     "name": "stderr",
     "output_type": "stream",
     "text": [
      "\n",
      "Generating walks (CPU: 1):   0%|                                                                | 0/50 [00:00<?, ?it/s]\u001b[A\n",
      "Generating walks (CPU: 1):  16%|████████▉                                               | 8/50 [00:00<00:00, 79.21it/s]\u001b[A\n",
      "Generating walks (CPU: 1):  32%|█████████████████▌                                     | 16/50 [00:00<00:00, 72.84it/s]\u001b[A\n",
      "Generating walks (CPU: 1):  48%|██████████████████████████▍                            | 24/50 [00:00<00:00, 72.19it/s]\u001b[A\n",
      "Generating walks (CPU: 1):  64%|███████████████████████████████████▏                   | 32/50 [00:00<00:00, 72.14it/s]\u001b[A\n",
      "Generating walks (CPU: 1):  80%|████████████████████████████████████████████           | 40/50 [00:00<00:00, 70.51it/s]\u001b[A\n",
      "Generating walks (CPU: 1): 100%|███████████████████████████████████████████████████████| 50/50 [00:00<00:00, 69.25it/s]\u001b[A\n"
     ]
    },
    {
     "data": {
      "application/vnd.jupyter.widget-view+json": {
       "model_id": "d0a39cd629bf4132b016fbd3c942af5e",
       "version_major": 2,
       "version_minor": 0
      },
      "text/plain": [
       "Computing transition probabilities:   0%|          | 0/55 [00:00<?, ?it/s]"
      ]
     },
     "metadata": {},
     "output_type": "display_data"
    },
    {
     "name": "stderr",
     "output_type": "stream",
     "text": [
      "\n",
      "Generating walks (CPU: 1):   0%|                                                                | 0/50 [00:00<?, ?it/s]\u001b[A\n",
      "Generating walks (CPU: 1):  18%|██████████                                              | 9/50 [00:00<00:00, 84.91it/s]\u001b[A\n",
      "Generating walks (CPU: 1):  36%|███████████████████▊                                   | 18/50 [00:00<00:00, 76.81it/s]\u001b[A\n",
      "Generating walks (CPU: 1):  52%|████████████████████████████▌                          | 26/50 [00:00<00:00, 73.82it/s]\u001b[A\n",
      "Generating walks (CPU: 1):  68%|█████████████████████████████████████▍                 | 34/50 [00:00<00:00, 70.23it/s]\u001b[A\n",
      "Generating walks (CPU: 1):  84%|██████████████████████████████████████████████▏        | 42/50 [00:00<00:00, 70.65it/s]\u001b[A\n",
      "Generating walks (CPU: 1): 100%|███████████████████████████████████████████████████████| 50/50 [00:00<00:00, 71.02it/s]\u001b[A\n"
     ]
    },
    {
     "data": {
      "application/vnd.jupyter.widget-view+json": {
       "model_id": "78b3194f9b2a49458c61f7b929d24ac0",
       "version_major": 2,
       "version_minor": 0
      },
      "text/plain": [
       "Computing transition probabilities:   0%|          | 0/63 [00:00<?, ?it/s]"
      ]
     },
     "metadata": {},
     "output_type": "display_data"
    },
    {
     "name": "stderr",
     "output_type": "stream",
     "text": [
      "\n",
      "Generating walks (CPU: 1):   0%|                                                                | 0/50 [00:00<?, ?it/s]\u001b[A\n",
      "Generating walks (CPU: 1):  16%|████████▉                                               | 8/50 [00:00<00:00, 73.37it/s]\u001b[A\n",
      "Generating walks (CPU: 1):  32%|█████████████████▌                                     | 16/50 [00:00<00:00, 66.90it/s]\u001b[A\n",
      "Generating walks (CPU: 1):  48%|██████████████████████████▍                            | 24/50 [00:00<00:00, 70.28it/s]\u001b[A\n",
      "Generating walks (CPU: 1):  64%|███████████████████████████████████▏                   | 32/50 [00:00<00:00, 69.99it/s]\u001b[A\n",
      "Generating walks (CPU: 1):  80%|████████████████████████████████████████████           | 40/50 [00:00<00:00, 69.19it/s]\u001b[A\n",
      "Generating walks (CPU: 1): 100%|███████████████████████████████████████████████████████| 50/50 [00:00<00:00, 66.84it/s]\u001b[A\n"
     ]
    },
    {
     "data": {
      "application/vnd.jupyter.widget-view+json": {
       "model_id": "4a62a955aeac4b0599a4c3a0e04e8b55",
       "version_major": 2,
       "version_minor": 0
      },
      "text/plain": [
       "Computing transition probabilities:   0%|          | 0/55 [00:00<?, ?it/s]"
      ]
     },
     "metadata": {},
     "output_type": "display_data"
    },
    {
     "name": "stderr",
     "output_type": "stream",
     "text": [
      "\n",
      "Generating walks (CPU: 1):   0%|                                                                | 0/50 [00:00<?, ?it/s]\u001b[A\n",
      "Generating walks (CPU: 1):  16%|████████▉                                               | 8/50 [00:00<00:00, 69.57it/s]\u001b[A\n",
      "Generating walks (CPU: 1):  30%|████████████████▌                                      | 15/50 [00:00<00:00, 63.15it/s]\u001b[A\n",
      "Generating walks (CPU: 1):  44%|████████████████████████▏                              | 22/50 [00:00<00:00, 65.47it/s]\u001b[A\n",
      "Generating walks (CPU: 1):  60%|█████████████████████████████████                      | 30/50 [00:00<00:00, 68.82it/s]\u001b[A\n",
      "Generating walks (CPU: 1):  76%|█████████████████████████████████████████▊             | 38/50 [00:00<00:00, 71.17it/s]\u001b[A\n",
      "Generating walks (CPU: 1): 100%|███████████████████████████████████████████████████████| 50/50 [00:00<00:00, 65.44it/s]\u001b[A\n"
     ]
    },
    {
     "data": {
      "application/vnd.jupyter.widget-view+json": {
       "model_id": "12a1011383e840acade5d334d0cd14b2",
       "version_major": 2,
       "version_minor": 0
      },
      "text/plain": [
       "Computing transition probabilities:   0%|          | 0/61 [00:00<?, ?it/s]"
      ]
     },
     "metadata": {},
     "output_type": "display_data"
    },
    {
     "name": "stderr",
     "output_type": "stream",
     "text": [
      "\n",
      "Generating walks (CPU: 1):   0%|                                                                | 0/50 [00:00<?, ?it/s]\u001b[A\n",
      "Generating walks (CPU: 1):  18%|██████████                                              | 9/50 [00:00<00:00, 79.65it/s]\u001b[A\n",
      "Generating walks (CPU: 1):  34%|██████████████████▋                                    | 17/50 [00:00<00:00, 73.67it/s]\u001b[A\n",
      "Generating walks (CPU: 1):  50%|███████████████████████████▌                           | 25/50 [00:00<00:00, 72.66it/s]\u001b[A\n",
      "Generating walks (CPU: 1):  66%|████████████████████████████████████▎                  | 33/50 [00:00<00:00, 73.99it/s]\u001b[A\n",
      "Generating walks (CPU: 1):  82%|█████████████████████████████████████████████          | 41/50 [00:00<00:00, 72.58it/s]\u001b[A\n",
      "Generating walks (CPU: 1): 100%|███████████████████████████████████████████████████████| 50/50 [00:00<00:00, 70.92it/s]\u001b[A\n"
     ]
    },
    {
     "data": {
      "application/vnd.jupyter.widget-view+json": {
       "model_id": "d13c714d03a74122a163a6148b90e537",
       "version_major": 2,
       "version_minor": 0
      },
      "text/plain": [
       "Computing transition probabilities:   0%|          | 0/57 [00:00<?, ?it/s]"
      ]
     },
     "metadata": {},
     "output_type": "display_data"
    },
    {
     "name": "stderr",
     "output_type": "stream",
     "text": [
      "\n",
      "Generating walks (CPU: 1):   0%|                                                                | 0/50 [00:00<?, ?it/s]\u001b[A\n",
      "Generating walks (CPU: 1):  18%|██████████                                              | 9/50 [00:00<00:00, 81.82it/s]\u001b[A\n",
      "Generating walks (CPU: 1):  36%|███████████████████▊                                   | 18/50 [00:00<00:00, 78.46it/s]\u001b[A\n",
      "Generating walks (CPU: 1):  52%|████████████████████████████▌                          | 26/50 [00:00<00:00, 77.47it/s]\u001b[A\n",
      "Generating walks (CPU: 1):  68%|█████████████████████████████████████▍                 | 34/50 [00:00<00:00, 77.26it/s]\u001b[A\n",
      "Generating walks (CPU: 1):  84%|██████████████████████████████████████████████▏        | 42/50 [00:00<00:00, 75.86it/s]\u001b[A\n",
      "Generating walks (CPU: 1): 100%|███████████████████████████████████████████████████████| 50/50 [00:00<00:00, 74.96it/s]\u001b[A\n"
     ]
    },
    {
     "data": {
      "application/vnd.jupyter.widget-view+json": {
       "model_id": "971f3ba9ef1046d8af710d3453bb3d3b",
       "version_major": 2,
       "version_minor": 0
      },
      "text/plain": [
       "Computing transition probabilities:   0%|          | 0/63 [00:00<?, ?it/s]"
      ]
     },
     "metadata": {},
     "output_type": "display_data"
    },
    {
     "name": "stderr",
     "output_type": "stream",
     "text": [
      "\n",
      "Generating walks (CPU: 1):   0%|                                                                | 0/50 [00:00<?, ?it/s]\u001b[A\n",
      "Generating walks (CPU: 1):  16%|████████▉                                               | 8/50 [00:00<00:00, 76.92it/s]\u001b[A\n",
      "Generating walks (CPU: 1):  32%|█████████████████▌                                     | 16/50 [00:00<00:00, 68.75it/s]\u001b[A\n",
      "Generating walks (CPU: 1):  48%|██████████████████████████▍                            | 24/50 [00:00<00:00, 70.23it/s]\u001b[A\n",
      "Generating walks (CPU: 1):  64%|███████████████████████████████████▏                   | 32/50 [00:00<00:00, 68.78it/s]\u001b[A\n",
      "Generating walks (CPU: 1):  78%|██████████████████████████████████████████▉            | 39/50 [00:00<00:00, 67.20it/s]\u001b[A\n",
      "Generating walks (CPU: 1): 100%|███████████████████████████████████████████████████████| 50/50 [00:00<00:00, 66.58it/s]\u001b[A\n"
     ]
    },
    {
     "data": {
      "application/vnd.jupyter.widget-view+json": {
       "model_id": "82ae6b581628435d95da26860d18ac9d",
       "version_major": 2,
       "version_minor": 0
      },
      "text/plain": [
       "Computing transition probabilities:   0%|          | 0/61 [00:00<?, ?it/s]"
      ]
     },
     "metadata": {},
     "output_type": "display_data"
    },
    {
     "name": "stderr",
     "output_type": "stream",
     "text": [
      "\n",
      "Generating walks (CPU: 1):   0%|                                                                | 0/50 [00:00<?, ?it/s]\u001b[A\n",
      "Generating walks (CPU: 1):  18%|██████████                                              | 9/50 [00:00<00:00, 82.57it/s]\u001b[A\n",
      "Generating walks (CPU: 1):  36%|███████████████████▊                                   | 18/50 [00:00<00:00, 76.01it/s]\u001b[A\n",
      "Generating walks (CPU: 1):  52%|████████████████████████████▌                          | 26/50 [00:00<00:00, 73.40it/s]\u001b[A\n",
      "Generating walks (CPU: 1):  68%|█████████████████████████████████████▍                 | 34/50 [00:00<00:00, 70.93it/s]\u001b[A\n",
      "Generating walks (CPU: 1):  84%|██████████████████████████████████████████████▏        | 42/50 [00:00<00:00, 70.01it/s]\u001b[A\n",
      "Generating walks (CPU: 1): 100%|███████████████████████████████████████████████████████| 50/50 [00:00<00:00, 69.73it/s]\u001b[A\n"
     ]
    },
    {
     "data": {
      "application/vnd.jupyter.widget-view+json": {
       "model_id": "43a14996e6f74de7b5f95645aaeaa1e9",
       "version_major": 2,
       "version_minor": 0
      },
      "text/plain": [
       "Computing transition probabilities:   0%|          | 0/59 [00:00<?, ?it/s]"
      ]
     },
     "metadata": {},
     "output_type": "display_data"
    },
    {
     "name": "stderr",
     "output_type": "stream",
     "text": [
      "\n",
      "Generating walks (CPU: 1):   0%|                                                                | 0/50 [00:00<?, ?it/s]\u001b[A\n",
      "Generating walks (CPU: 1):  18%|██████████                                              | 9/50 [00:00<00:00, 81.08it/s]\u001b[A\n",
      "Generating walks (CPU: 1):  36%|███████████████████▊                                   | 18/50 [00:00<00:00, 77.78it/s]\u001b[A\n",
      "Generating walks (CPU: 1):  52%|████████████████████████████▌                          | 26/50 [00:00<00:00, 75.84it/s]\u001b[A\n",
      "Generating walks (CPU: 1):  68%|█████████████████████████████████████▍                 | 34/50 [00:00<00:00, 73.33it/s]\u001b[A\n",
      "Generating walks (CPU: 1):  84%|██████████████████████████████████████████████▏        | 42/50 [00:00<00:00, 73.12it/s]\u001b[A\n",
      "Generating walks (CPU: 1): 100%|███████████████████████████████████████████████████████| 50/50 [00:00<00:00, 72.25it/s]\u001b[A\n"
     ]
    },
    {
     "data": {
      "application/vnd.jupyter.widget-view+json": {
       "model_id": "4e654fb369754afcb57230bf4ea8f518",
       "version_major": 2,
       "version_minor": 0
      },
      "text/plain": [
       "Computing transition probabilities:   0%|          | 0/55 [00:00<?, ?it/s]"
      ]
     },
     "metadata": {},
     "output_type": "display_data"
    },
    {
     "name": "stderr",
     "output_type": "stream",
     "text": [
      "\n",
      "Generating walks (CPU: 1):   0%|                                                                | 0/50 [00:00<?, ?it/s]\u001b[A\n",
      "Generating walks (CPU: 1):  18%|██████████                                              | 9/50 [00:00<00:00, 88.24it/s]\u001b[A\n",
      "Generating walks (CPU: 1):  36%|███████████████████▊                                   | 18/50 [00:00<00:00, 82.97it/s]\u001b[A\n",
      "Generating walks (CPU: 1):  54%|█████████████████████████████▋                         | 27/50 [00:00<00:00, 74.63it/s]\u001b[A\n",
      "Generating walks (CPU: 1):  70%|██████████████████████████████████████▌                | 35/50 [00:00<00:00, 73.93it/s]\u001b[A\n",
      "Generating walks (CPU: 1): 100%|███████████████████████████████████████████████████████| 50/50 [00:00<00:00, 75.64it/s]\u001b[A\n"
     ]
    },
    {
     "data": {
      "application/vnd.jupyter.widget-view+json": {
       "model_id": "daadbf31ce9d4fa49929fa64258c39b3",
       "version_major": 2,
       "version_minor": 0
      },
      "text/plain": [
       "Computing transition probabilities:   0%|          | 0/63 [00:00<?, ?it/s]"
      ]
     },
     "metadata": {},
     "output_type": "display_data"
    },
    {
     "name": "stderr",
     "output_type": "stream",
     "text": [
      "\n",
      "Generating walks (CPU: 1):   0%|                                                                | 0/50 [00:00<?, ?it/s]\u001b[A\n",
      "Generating walks (CPU: 1):  16%|████████▉                                               | 8/50 [00:00<00:00, 75.47it/s]\u001b[A\n",
      "Generating walks (CPU: 1):  32%|█████████████████▌                                     | 16/50 [00:00<00:00, 74.24it/s]\u001b[A\n",
      "Generating walks (CPU: 1):  48%|██████████████████████████▍                            | 24/50 [00:00<00:00, 52.89it/s]\u001b[A\n",
      "Generating walks (CPU: 1):  62%|██████████████████████████████████                     | 31/50 [00:00<00:00, 57.36it/s]\u001b[A\n",
      "Generating walks (CPU: 1):  76%|█████████████████████████████████████████▊             | 38/50 [00:00<00:00, 60.77it/s]\u001b[A\n",
      "Generating walks (CPU: 1): 100%|███████████████████████████████████████████████████████| 50/50 [00:00<00:00, 60.75it/s]\u001b[A\n"
     ]
    },
    {
     "data": {
      "application/vnd.jupyter.widget-view+json": {
       "model_id": "241d7beeb5a540b1b9b76126d5568a91",
       "version_major": 2,
       "version_minor": 0
      },
      "text/plain": [
       "Computing transition probabilities:   0%|          | 0/59 [00:00<?, ?it/s]"
      ]
     },
     "metadata": {},
     "output_type": "display_data"
    },
    {
     "name": "stderr",
     "output_type": "stream",
     "text": [
      "\n",
      "Generating walks (CPU: 1):   0%|                                                                | 0/50 [00:00<?, ?it/s]\u001b[A\n",
      "Generating walks (CPU: 1):  16%|████████▉                                               | 8/50 [00:00<00:00, 77.66it/s]\u001b[A\n",
      "Generating walks (CPU: 1):  32%|█████████████████▌                                     | 16/50 [00:00<00:00, 74.69it/s]\u001b[A\n",
      "Generating walks (CPU: 1):  48%|██████████████████████████▍                            | 24/50 [00:00<00:00, 75.37it/s]\u001b[A\n",
      "Generating walks (CPU: 1):  64%|███████████████████████████████████▏                   | 32/50 [00:00<00:00, 72.44it/s]\u001b[A\n",
      "Generating walks (CPU: 1):  80%|████████████████████████████████████████████           | 40/50 [00:00<00:00, 71.38it/s]\u001b[A\n",
      "Generating walks (CPU: 1): 100%|███████████████████████████████████████████████████████| 50/50 [00:00<00:00, 71.33it/s]\u001b[A\n"
     ]
    },
    {
     "data": {
      "application/vnd.jupyter.widget-view+json": {
       "model_id": "021923f95e094f7cb4ec26294423b577",
       "version_major": 2,
       "version_minor": 0
      },
      "text/plain": [
       "Computing transition probabilities:   0%|          | 0/61 [00:00<?, ?it/s]"
      ]
     },
     "metadata": {},
     "output_type": "display_data"
    },
    {
     "name": "stderr",
     "output_type": "stream",
     "text": [
      "\n",
      "Generating walks (CPU: 1):   0%|                                                                | 0/50 [00:00<?, ?it/s]\u001b[A\n",
      "Generating walks (CPU: 1):  16%|████████▉                                               | 8/50 [00:00<00:00, 72.07it/s]\u001b[A\n",
      "Generating walks (CPU: 1):  32%|█████████████████▌                                     | 16/50 [00:00<00:00, 72.46it/s]\u001b[A\n",
      "Generating walks (CPU: 1):  48%|██████████████████████████▍                            | 24/50 [00:00<00:00, 73.18it/s]\u001b[A\n",
      "Generating walks (CPU: 1):  64%|███████████████████████████████████▏                   | 32/50 [00:00<00:00, 70.47it/s]\u001b[A\n",
      "Generating walks (CPU: 1):  80%|████████████████████████████████████████████           | 40/50 [00:00<00:00, 70.81it/s]\u001b[A\n",
      "Generating walks (CPU: 1): 100%|███████████████████████████████████████████████████████| 50/50 [00:00<00:00, 69.06it/s]\u001b[A\n"
     ]
    },
    {
     "data": {
      "application/vnd.jupyter.widget-view+json": {
       "model_id": "c298f41b79db45b483f401ffd02f918c",
       "version_major": 2,
       "version_minor": 0
      },
      "text/plain": [
       "Computing transition probabilities:   0%|          | 0/63 [00:00<?, ?it/s]"
      ]
     },
     "metadata": {},
     "output_type": "display_data"
    },
    {
     "name": "stderr",
     "output_type": "stream",
     "text": [
      "\n",
      "Generating walks (CPU: 1):   0%|                                                                | 0/50 [00:00<?, ?it/s]\u001b[A\n",
      "Generating walks (CPU: 1):  16%|████████▉                                               | 8/50 [00:00<00:00, 79.21it/s]\u001b[A\n",
      "Generating walks (CPU: 1):  32%|█████████████████▌                                     | 16/50 [00:00<00:00, 67.43it/s]\u001b[A\n",
      "Generating walks (CPU: 1):  46%|█████████████████████████▎                             | 23/50 [00:00<00:00, 65.76it/s]\u001b[A\n",
      "Generating walks (CPU: 1):  62%|██████████████████████████████████                     | 31/50 [00:00<00:00, 67.74it/s]\u001b[A\n",
      "Generating walks (CPU: 1):  76%|█████████████████████████████████████████▊             | 38/50 [00:00<00:00, 68.26it/s]\u001b[A\n",
      "Generating walks (CPU: 1): 100%|███████████████████████████████████████████████████████| 50/50 [00:00<00:00, 66.31it/s]\u001b[A\n"
     ]
    },
    {
     "data": {
      "application/vnd.jupyter.widget-view+json": {
       "model_id": "0f1841474d0d464ebb72f5b590db192a",
       "version_major": 2,
       "version_minor": 0
      },
      "text/plain": [
       "Computing transition probabilities:   0%|          | 0/63 [00:00<?, ?it/s]"
      ]
     },
     "metadata": {},
     "output_type": "display_data"
    },
    {
     "name": "stderr",
     "output_type": "stream",
     "text": [
      "\n",
      "Generating walks (CPU: 1):   0%|                                                                | 0/50 [00:00<?, ?it/s]\u001b[A\n",
      "Generating walks (CPU: 1):   8%|████▍                                                   | 4/50 [00:00<00:01, 34.78it/s]\u001b[A\n",
      "Generating walks (CPU: 1):  16%|████████▉                                               | 8/50 [00:00<00:01, 29.89it/s]\u001b[A\n",
      "Generating walks (CPU: 1):  28%|███████████████▍                                       | 14/50 [00:00<00:00, 40.72it/s]\u001b[A\n",
      "Generating walks (CPU: 1):  42%|███████████████████████                                | 21/50 [00:00<00:00, 49.60it/s]\u001b[A\n",
      "Generating walks (CPU: 1):  54%|█████████████████████████████▋                         | 27/50 [00:00<00:00, 49.44it/s]\u001b[A\n",
      "Generating walks (CPU: 1):  68%|█████████████████████████████████████▍                 | 34/50 [00:00<00:00, 53.42it/s]\u001b[A\n",
      "Generating walks (CPU: 1):  80%|████████████████████████████████████████████           | 40/50 [00:00<00:00, 51.71it/s]\u001b[A\n",
      "Generating walks (CPU: 1): 100%|███████████████████████████████████████████████████████| 50/50 [00:01<00:00, 48.36it/s]\u001b[A\n"
     ]
    },
    {
     "data": {
      "application/vnd.jupyter.widget-view+json": {
       "model_id": "63316c7f38db449c99fe1c2202a3286a",
       "version_major": 2,
       "version_minor": 0
      },
      "text/plain": [
       "Computing transition probabilities:   0%|          | 0/63 [00:00<?, ?it/s]"
      ]
     },
     "metadata": {},
     "output_type": "display_data"
    },
    {
     "name": "stderr",
     "output_type": "stream",
     "text": [
      "\n",
      "Generating walks (CPU: 1):   0%|                                                                | 0/50 [00:00<?, ?it/s]\u001b[A\n",
      "Generating walks (CPU: 1):  14%|███████▊                                                | 7/50 [00:00<00:00, 66.67it/s]\u001b[A\n",
      "Generating walks (CPU: 1):  28%|███████████████▍                                       | 14/50 [00:00<00:00, 65.93it/s]\u001b[A\n",
      "Generating walks (CPU: 1):  42%|███████████████████████                                | 21/50 [00:00<00:00, 60.51it/s]\u001b[A\n",
      "Generating walks (CPU: 1):  56%|██████████████████████████████▊                        | 28/50 [00:00<00:00, 57.69it/s]\u001b[A\n",
      "Generating walks (CPU: 1):  68%|█████████████████████████████████████▍                 | 34/50 [00:00<00:00, 58.06it/s]\u001b[A\n",
      "Generating walks (CPU: 1):  82%|█████████████████████████████████████████████          | 41/50 [00:00<00:00, 59.54it/s]\u001b[A\n",
      "Generating walks (CPU: 1): 100%|███████████████████████████████████████████████████████| 50/50 [00:00<00:00, 57.94it/s]\u001b[A\n"
     ]
    },
    {
     "data": {
      "application/vnd.jupyter.widget-view+json": {
       "model_id": "49e7f760e5944bc6a500082e578690db",
       "version_major": 2,
       "version_minor": 0
      },
      "text/plain": [
       "Computing transition probabilities:   0%|          | 0/59 [00:00<?, ?it/s]"
      ]
     },
     "metadata": {},
     "output_type": "display_data"
    },
    {
     "name": "stderr",
     "output_type": "stream",
     "text": [
      "\n",
      "Generating walks (CPU: 1):   0%|                                                                | 0/50 [00:00<?, ?it/s]\u001b[A\n",
      "Generating walks (CPU: 1):  18%|██████████                                              | 9/50 [00:00<00:00, 80.36it/s]\u001b[A\n",
      "Generating walks (CPU: 1):  36%|███████████████████▊                                   | 18/50 [00:00<00:00, 65.83it/s]\u001b[A\n",
      "Generating walks (CPU: 1):  52%|████████████████████████████▌                          | 26/50 [00:00<00:00, 68.62it/s]\u001b[A\n",
      "Generating walks (CPU: 1):  66%|████████████████████████████████████▎                  | 33/50 [00:00<00:00, 68.15it/s]\u001b[A\n",
      "Generating walks (CPU: 1):  82%|█████████████████████████████████████████████          | 41/50 [00:00<00:00, 69.97it/s]\u001b[A\n",
      "Generating walks (CPU: 1): 100%|███████████████████████████████████████████████████████| 50/50 [00:00<00:00, 68.96it/s]\u001b[A\n"
     ]
    },
    {
     "data": {
      "application/vnd.jupyter.widget-view+json": {
       "model_id": "9a2365f57c844ca9b641ca581c6eb5a3",
       "version_major": 2,
       "version_minor": 0
      },
      "text/plain": [
       "Computing transition probabilities:   0%|          | 0/63 [00:00<?, ?it/s]"
      ]
     },
     "metadata": {},
     "output_type": "display_data"
    },
    {
     "name": "stderr",
     "output_type": "stream",
     "text": [
      "\n",
      "Generating walks (CPU: 1):   0%|                                                                | 0/50 [00:00<?, ?it/s]\u001b[A\n",
      "Generating walks (CPU: 1):  16%|████████▉                                               | 8/50 [00:00<00:00, 72.07it/s]\u001b[A\n",
      "Generating walks (CPU: 1):  32%|█████████████████▌                                     | 16/50 [00:00<00:00, 66.12it/s]\u001b[A\n",
      "Generating walks (CPU: 1):  46%|█████████████████████████▎                             | 23/50 [00:00<00:00, 64.03it/s]\u001b[A\n",
      "Generating walks (CPU: 1):  60%|█████████████████████████████████                      | 30/50 [00:00<00:00, 65.23it/s]\u001b[A\n",
      "Generating walks (CPU: 1):  76%|█████████████████████████████████████████▊             | 38/50 [00:00<00:00, 67.03it/s]\u001b[A\n",
      "Generating walks (CPU: 1): 100%|███████████████████████████████████████████████████████| 50/50 [00:00<00:00, 65.02it/s]\u001b[A\n"
     ]
    },
    {
     "data": {
      "application/vnd.jupyter.widget-view+json": {
       "model_id": "a109cea06b5c49b9aa69cd8d14c14d95",
       "version_major": 2,
       "version_minor": 0
      },
      "text/plain": [
       "Computing transition probabilities:   0%|          | 0/61 [00:00<?, ?it/s]"
      ]
     },
     "metadata": {},
     "output_type": "display_data"
    },
    {
     "name": "stderr",
     "output_type": "stream",
     "text": [
      "\n",
      "Generating walks (CPU: 1):   0%|                                                                | 0/50 [00:00<?, ?it/s]\u001b[A\n",
      "Generating walks (CPU: 1):  16%|████████▉                                               | 8/50 [00:00<00:00, 78.43it/s]\u001b[A\n",
      "Generating walks (CPU: 1):  32%|█████████████████▌                                     | 16/50 [00:00<00:00, 75.39it/s]\u001b[A\n",
      "Generating walks (CPU: 1):  48%|██████████████████████████▍                            | 24/50 [00:00<00:00, 67.57it/s]\u001b[A\n",
      "Generating walks (CPU: 1):  62%|██████████████████████████████████                     | 31/50 [00:00<00:00, 67.24it/s]\u001b[A\n",
      "Generating walks (CPU: 1):  76%|█████████████████████████████████████████▊             | 38/50 [00:00<00:00, 67.93it/s]\u001b[A\n",
      "Generating walks (CPU: 1): 100%|███████████████████████████████████████████████████████| 50/50 [00:00<00:00, 67.84it/s]\u001b[A\n"
     ]
    },
    {
     "data": {
      "application/vnd.jupyter.widget-view+json": {
       "model_id": "68b9cb885ab24fb4beeef4dd887e9f09",
       "version_major": 2,
       "version_minor": 0
      },
      "text/plain": [
       "Computing transition probabilities:   0%|          | 0/63 [00:00<?, ?it/s]"
      ]
     },
     "metadata": {},
     "output_type": "display_data"
    },
    {
     "name": "stderr",
     "output_type": "stream",
     "text": [
      "\n",
      "Generating walks (CPU: 1):   0%|                                                                | 0/50 [00:00<?, ?it/s]\u001b[A\n",
      "Generating walks (CPU: 1):  16%|████████▉                                               | 8/50 [00:00<00:00, 76.90it/s]\u001b[A\n",
      "Generating walks (CPU: 1):  32%|█████████████████▌                                     | 16/50 [00:00<00:00, 71.66it/s]\u001b[A\n",
      "Generating walks (CPU: 1):  48%|██████████████████████████▍                            | 24/50 [00:00<00:00, 70.39it/s]\u001b[A\n",
      "Generating walks (CPU: 1):  64%|███████████████████████████████████▏                   | 32/50 [00:00<00:00, 67.28it/s]\u001b[A\n",
      "Generating walks (CPU: 1):  78%|██████████████████████████████████████████▉            | 39/50 [00:00<00:00, 67.51it/s]\u001b[A\n",
      "Generating walks (CPU: 1): 100%|███████████████████████████████████████████████████████| 50/50 [00:00<00:00, 65.27it/s]\u001b[A\n"
     ]
    },
    {
     "data": {
      "application/vnd.jupyter.widget-view+json": {
       "model_id": "b94da13c607945dba5eb8595d3a12e3e",
       "version_major": 2,
       "version_minor": 0
      },
      "text/plain": [
       "Computing transition probabilities:   0%|          | 0/47 [00:00<?, ?it/s]"
      ]
     },
     "metadata": {},
     "output_type": "display_data"
    },
    {
     "name": "stderr",
     "output_type": "stream",
     "text": [
      "\n",
      "Generating walks (CPU: 1):   0%|                                                                | 0/50 [00:00<?, ?it/s]\u001b[A\n",
      "Generating walks (CPU: 1):  20%|███████████                                            | 10/50 [00:00<00:00, 89.29it/s]\u001b[A\n",
      "Generating walks (CPU: 1):  38%|████████████████████▉                                  | 19/50 [00:00<00:00, 82.73it/s]\u001b[A\n",
      "Generating walks (CPU: 1):  56%|██████████████████████████████▊                        | 28/50 [00:00<00:00, 84.74it/s]\u001b[A\n",
      "Generating walks (CPU: 1):  76%|█████████████████████████████████████████▊             | 38/50 [00:00<00:00, 88.79it/s]\u001b[A\n",
      "Generating walks (CPU: 1): 100%|███████████████████████████████████████████████████████| 50/50 [00:00<00:00, 86.36it/s]\u001b[A\n"
     ]
    },
    {
     "data": {
      "application/vnd.jupyter.widget-view+json": {
       "model_id": "b61946617a904f2bb32317e6fbe5dd6a",
       "version_major": 2,
       "version_minor": 0
      },
      "text/plain": [
       "Computing transition probabilities:   0%|          | 0/59 [00:00<?, ?it/s]"
      ]
     },
     "metadata": {},
     "output_type": "display_data"
    },
    {
     "name": "stderr",
     "output_type": "stream",
     "text": [
      "\n",
      "Generating walks (CPU: 1):   0%|                                                                | 0/50 [00:00<?, ?it/s]\u001b[A\n",
      "Generating walks (CPU: 1):   8%|████▍                                                   | 4/50 [00:00<00:01, 30.77it/s]\u001b[A\n",
      "Generating walks (CPU: 1):  20%|███████████                                            | 10/50 [00:00<00:00, 45.36it/s]\u001b[A\n",
      "Generating walks (CPU: 1):  34%|██████████████████▋                                    | 17/50 [00:00<00:00, 55.57it/s]\u001b[A\n",
      "Generating walks (CPU: 1):  50%|███████████████████████████▌                           | 25/50 [00:00<00:00, 63.80it/s]\u001b[A\n",
      "Generating walks (CPU: 1):  66%|████████████████████████████████████▎                  | 33/50 [00:00<00:00, 67.09it/s]\u001b[A\n",
      "Generating walks (CPU: 1):  80%|████████████████████████████████████████████           | 40/50 [00:00<00:00, 67.38it/s]\u001b[A\n",
      "Generating walks (CPU: 1): 100%|███████████████████████████████████████████████████████| 50/50 [00:00<00:00, 61.50it/s]\u001b[A\n"
     ]
    },
    {
     "data": {
      "application/vnd.jupyter.widget-view+json": {
       "model_id": "d206e538d4a444d8a637655b31913fd2",
       "version_major": 2,
       "version_minor": 0
      },
      "text/plain": [
       "Computing transition probabilities:   0%|          | 0/63 [00:00<?, ?it/s]"
      ]
     },
     "metadata": {},
     "output_type": "display_data"
    },
    {
     "name": "stderr",
     "output_type": "stream",
     "text": [
      "\n",
      "Generating walks (CPU: 1):   0%|                                                                | 0/50 [00:00<?, ?it/s]\u001b[A\n",
      "Generating walks (CPU: 1):  12%|██████▋                                                 | 6/50 [00:00<00:00, 58.82it/s]\u001b[A\n",
      "Generating walks (CPU: 1):  24%|█████████████▏                                         | 12/50 [00:00<00:00, 59.16it/s]\u001b[A\n",
      "Generating walks (CPU: 1):  38%|████████████████████▉                                  | 19/50 [00:00<00:00, 60.25it/s]\u001b[A\n",
      "Generating walks (CPU: 1):  52%|████████████████████████████▌                          | 26/50 [00:00<00:00, 58.82it/s]\u001b[A\n",
      "Generating walks (CPU: 1):  64%|███████████████████████████████████▏                   | 32/50 [00:00<00:00, 55.01it/s]\u001b[A\n",
      "Generating walks (CPU: 1):  76%|█████████████████████████████████████████▊             | 38/50 [00:00<00:00, 52.37it/s]\u001b[A\n",
      "Generating walks (CPU: 1): 100%|███████████████████████████████████████████████████████| 50/50 [00:00<00:00, 56.31it/s]\u001b[A\n"
     ]
    },
    {
     "data": {
      "application/vnd.jupyter.widget-view+json": {
       "model_id": "4b385038890d417092e71503b3090209",
       "version_major": 2,
       "version_minor": 0
      },
      "text/plain": [
       "Computing transition probabilities:   0%|          | 0/55 [00:00<?, ?it/s]"
      ]
     },
     "metadata": {},
     "output_type": "display_data"
    },
    {
     "name": "stderr",
     "output_type": "stream",
     "text": [
      "\n",
      "Generating walks (CPU: 1):   0%|                                                                | 0/50 [00:00<?, ?it/s]\u001b[A\n",
      "Generating walks (CPU: 1):  18%|██████████                                              | 9/50 [00:00<00:00, 84.11it/s]\u001b[A\n",
      "Generating walks (CPU: 1):  36%|███████████████████▊                                   | 18/50 [00:00<00:00, 81.43it/s]\u001b[A\n",
      "Generating walks (CPU: 1):  54%|█████████████████████████████▋                         | 27/50 [00:00<00:00, 78.36it/s]\u001b[A\n",
      "Generating walks (CPU: 1):  72%|███████████████████████████████████████▌               | 36/50 [00:00<00:00, 80.54it/s]\u001b[A\n",
      "Generating walks (CPU: 1): 100%|███████████████████████████████████████████████████████| 50/50 [00:00<00:00, 78.99it/s]\u001b[A\n"
     ]
    },
    {
     "data": {
      "application/vnd.jupyter.widget-view+json": {
       "model_id": "55b5f5b316b246f8a47d528bca2c1800",
       "version_major": 2,
       "version_minor": 0
      },
      "text/plain": [
       "Computing transition probabilities:   0%|          | 0/61 [00:00<?, ?it/s]"
      ]
     },
     "metadata": {},
     "output_type": "display_data"
    },
    {
     "name": "stderr",
     "output_type": "stream",
     "text": [
      "\n",
      "Generating walks (CPU: 1):   0%|                                                                | 0/50 [00:00<?, ?it/s]\u001b[A\n",
      "Generating walks (CPU: 1):  16%|████████▉                                               | 8/50 [00:00<00:00, 76.92it/s]\u001b[A\n",
      "Generating walks (CPU: 1):  32%|█████████████████▌                                     | 16/50 [00:00<00:00, 73.59it/s]\u001b[A\n",
      "Generating walks (CPU: 1):  48%|██████████████████████████▍                            | 24/50 [00:00<00:00, 66.27it/s]\u001b[A\n",
      "Generating walks (CPU: 1):  62%|██████████████████████████████████                     | 31/50 [00:00<00:00, 60.38it/s]\u001b[A\n",
      "Generating walks (CPU: 1):  76%|█████████████████████████████████████████▊             | 38/50 [00:00<00:00, 59.32it/s]\u001b[A\n",
      "Generating walks (CPU: 1): 100%|███████████████████████████████████████████████████████| 50/50 [00:00<00:00, 63.05it/s]\u001b[A\n"
     ]
    },
    {
     "data": {
      "application/vnd.jupyter.widget-view+json": {
       "model_id": "a825d809ece3434dba20e20665485f7f",
       "version_major": 2,
       "version_minor": 0
      },
      "text/plain": [
       "Computing transition probabilities:   0%|          | 0/61 [00:00<?, ?it/s]"
      ]
     },
     "metadata": {},
     "output_type": "display_data"
    },
    {
     "name": "stderr",
     "output_type": "stream",
     "text": [
      "\n",
      "Generating walks (CPU: 1):   0%|                                                                | 0/50 [00:00<?, ?it/s]\u001b[A\n",
      "Generating walks (CPU: 1):  16%|████████▉                                               | 8/50 [00:00<00:00, 77.68it/s]\u001b[A\n",
      "Generating walks (CPU: 1):  32%|█████████████████▌                                     | 16/50 [00:00<00:00, 72.69it/s]\u001b[A\n",
      "Generating walks (CPU: 1):  48%|██████████████████████████▍                            | 24/50 [00:00<00:00, 71.81it/s]\u001b[A\n",
      "Generating walks (CPU: 1):  64%|███████████████████████████████████▏                   | 32/50 [00:00<00:00, 71.92it/s]\u001b[A\n",
      "Generating walks (CPU: 1):  80%|████████████████████████████████████████████           | 40/50 [00:00<00:00, 72.44it/s]\u001b[A\n",
      "Generating walks (CPU: 1): 100%|███████████████████████████████████████████████████████| 50/50 [00:00<00:00, 69.93it/s]\u001b[A\n"
     ]
    },
    {
     "data": {
      "application/vnd.jupyter.widget-view+json": {
       "model_id": "2043188fa7bc40c7b2b16685813225b9",
       "version_major": 2,
       "version_minor": 0
      },
      "text/plain": [
       "Computing transition probabilities:   0%|          | 0/63 [00:00<?, ?it/s]"
      ]
     },
     "metadata": {},
     "output_type": "display_data"
    },
    {
     "name": "stderr",
     "output_type": "stream",
     "text": [
      "\n",
      "Generating walks (CPU: 1):   0%|                                                                | 0/50 [00:00<?, ?it/s]\u001b[A\n",
      "Generating walks (CPU: 1):  16%|████████▉                                               | 8/50 [00:00<00:00, 72.73it/s]\u001b[A\n",
      "Generating walks (CPU: 1):  32%|█████████████████▌                                     | 16/50 [00:00<00:00, 70.47it/s]\u001b[A\n",
      "Generating walks (CPU: 1):  48%|██████████████████████████▍                            | 24/50 [00:00<00:00, 69.50it/s]\u001b[A\n",
      "Generating walks (CPU: 1):  62%|██████████████████████████████████                     | 31/50 [00:00<00:00, 69.18it/s]\u001b[A\n",
      "Generating walks (CPU: 1):  76%|█████████████████████████████████████████▊             | 38/50 [00:00<00:00, 68.53it/s]\u001b[A\n",
      "Generating walks (CPU: 1): 100%|███████████████████████████████████████████████████████| 50/50 [00:00<00:00, 67.84it/s]\u001b[A\n"
     ]
    },
    {
     "data": {
      "application/vnd.jupyter.widget-view+json": {
       "model_id": "c9d6320db25541458ff567badc1de822",
       "version_major": 2,
       "version_minor": 0
      },
      "text/plain": [
       "Computing transition probabilities:   0%|          | 0/59 [00:00<?, ?it/s]"
      ]
     },
     "metadata": {},
     "output_type": "display_data"
    },
    {
     "name": "stderr",
     "output_type": "stream",
     "text": [
      "\n",
      "Generating walks (CPU: 1):   0%|                                                                | 0/50 [00:00<?, ?it/s]\u001b[A\n",
      "Generating walks (CPU: 1):  18%|██████████                                              | 9/50 [00:00<00:00, 81.82it/s]\u001b[A\n",
      "Generating walks (CPU: 1):  36%|███████████████████▊                                   | 18/50 [00:00<00:00, 77.67it/s]\u001b[A\n",
      "Generating walks (CPU: 1):  52%|████████████████████████████▌                          | 26/50 [00:00<00:00, 75.78it/s]\u001b[A\n",
      "Generating walks (CPU: 1):  68%|█████████████████████████████████████▍                 | 34/50 [00:00<00:00, 73.81it/s]\u001b[A\n",
      "Generating walks (CPU: 1):  84%|██████████████████████████████████████████████▏        | 42/50 [00:00<00:00, 70.47it/s]\u001b[A\n",
      "Generating walks (CPU: 1): 100%|███████████████████████████████████████████████████████| 50/50 [00:00<00:00, 69.44it/s]\u001b[A\n"
     ]
    },
    {
     "data": {
      "application/vnd.jupyter.widget-view+json": {
       "model_id": "2a8ca8ad3aa14c6ab6f70c3df9354bee",
       "version_major": 2,
       "version_minor": 0
      },
      "text/plain": [
       "0it [00:00, ?it/s]"
      ]
     },
     "metadata": {},
     "output_type": "display_data"
    },
    {
     "name": "stderr",
     "output_type": "stream",
     "text": [
      "C:\\Users\\xg16060\\Anaconda3\\envs\\cat_embedding\\lib\\site-packages\\sklearn\\linear_model\\logistic.py:433: FutureWarning: Default solver will be changed to 'lbfgs' in 0.22. Specify a solver to silence this warning.\n",
      "  FutureWarning)\n",
      "C:\\Users\\xg16060\\Anaconda3\\envs\\cat_embedding\\lib\\site-packages\\sklearn\\pipeline.py:381: DataConversionWarning: Data with input dtype int32, int64 were all converted to float64 by StandardScaler.\n",
      "  Xt = transform.transform(Xt)\n"
     ]
    },
    {
     "data": {
      "application/vnd.jupyter.widget-view+json": {
       "model_id": "b1d51032ee514815bb68ac1444999c3c",
       "version_major": 2,
       "version_minor": 0
      },
      "text/plain": [
       "0it [00:00, ?it/s]"
      ]
     },
     "metadata": {},
     "output_type": "display_data"
    },
    {
     "name": "stdout",
     "output_type": "stream",
     "text": [
      "0.9077530149300225\n"
     ]
    }
   ],
   "source": [
    "# example of usage of NodeTransformer\n",
    "from NodeTransformer import NodeTransformer\n",
    "estimators = [('scale', StandardScaler()), ('rfne', NodeTransformer(n_estimators=50,max_depth=5,dimension=50)), ('logreg',LogisticRegression(max_iter=500))]\n",
    "pipe = Pipeline(estimators)\n",
    "\n",
    "pipe.fit(X_train,y_train)   \n",
    "\n",
    "print(roc_auc_score(y_test, pipe.predict_proba(X_test)[:,1]))\n",
    "\n"
   ]
  },
  {
   "cell_type": "code",
   "execution_count": 47,
   "metadata": {},
   "outputs": [
    {
     "name": "stderr",
     "output_type": "stream",
     "text": [
      "C:\\Users\\xg16060\\Anaconda3\\envs\\cat_embedding\\lib\\site-packages\\sklearn\\pipeline.py:331: DataConversionWarning: Data with input dtype int32, int64 were all converted to float64 by StandardScaler.\n",
      "  Xt = transform.transform(Xt)\n"
     ]
    },
    {
     "data": {
      "application/vnd.jupyter.widget-view+json": {
       "model_id": "e502cfe40f64415bbb976901c8c5bc83",
       "version_major": 2,
       "version_minor": 0
      },
      "text/plain": [
       "0it [00:00, ?it/s]"
      ]
     },
     "metadata": {},
     "output_type": "display_data"
    },
    {
     "name": "stdout",
     "output_type": "stream",
     "text": [
      "0.9013685374619851\n",
      "              precision    recall  f1-score   support\n",
      "\n",
      "           0       0.93      0.96      0.95     12780\n",
      "           1       0.61      0.44      0.51      1688\n",
      "\n",
      "   micro avg       0.90      0.90      0.90     14468\n",
      "   macro avg       0.77      0.70      0.73     14468\n",
      "weighted avg       0.89      0.90      0.89     14468\n",
      "\n"
     ]
    }
   ],
   "source": [
    "y_pre=pipe.predict(X_test)\n",
    "print(accuracy_score(y_test, y_pre ))\n",
    "print(classification_report(y_test, y_pre ))  "
   ]
  },
  {
   "cell_type": "markdown",
   "metadata": {},
   "source": [
    "## statistical test for the random forest and extra trees models "
   ]
  },
  {
   "cell_type": "code",
   "execution_count": 21,
   "metadata": {},
   "outputs": [
    {
     "name": "stderr",
     "output_type": "stream",
     "text": [
      "C:\\Users\\xg16060\\Anaconda3\\envs\\cat_embedding\\lib\\site-packages\\sklearn\\preprocessing\\data.py:645: DataConversionWarning: Data with input dtype int32, int64 were all converted to float64 by StandardScaler.\n",
      "  return self.partial_fit(X, y)\n",
      "C:\\Users\\xg16060\\Anaconda3\\envs\\cat_embedding\\lib\\site-packages\\sklearn\\base.py:467: DataConversionWarning: Data with input dtype int32, int64 were all converted to float64 by StandardScaler.\n",
      "  return self.fit(X, y, **fit_params).transform(X)\n",
      "C:\\Users\\xg16060\\Anaconda3\\envs\\cat_embedding\\lib\\site-packages\\sklearn\\preprocessing\\data.py:645: DataConversionWarning: Data with input dtype int32, int64 were all converted to float64 by StandardScaler.\n",
      "  return self.partial_fit(X, y)\n",
      "C:\\Users\\xg16060\\Anaconda3\\envs\\cat_embedding\\lib\\site-packages\\sklearn\\base.py:467: DataConversionWarning: Data with input dtype int32, int64 were all converted to float64 by StandardScaler.\n",
      "  return self.fit(X, y, **fit_params).transform(X)\n",
      "C:\\Users\\xg16060\\Anaconda3\\envs\\cat_embedding\\lib\\site-packages\\sklearn\\pipeline.py:381: DataConversionWarning: Data with input dtype int32, int64 were all converted to float64 by StandardScaler.\n",
      "  Xt = transform.transform(Xt)\n",
      "C:\\Users\\xg16060\\Anaconda3\\envs\\cat_embedding\\lib\\site-packages\\sklearn\\pipeline.py:381: DataConversionWarning: Data with input dtype int32, int64 were all converted to float64 by StandardScaler.\n",
      "  Xt = transform.transform(Xt)\n",
      "C:\\Users\\xg16060\\Anaconda3\\envs\\cat_embedding\\lib\\site-packages\\sklearn\\preprocessing\\data.py:645: DataConversionWarning: Data with input dtype int32, int64 were all converted to float64 by StandardScaler.\n",
      "  return self.partial_fit(X, y)\n",
      "C:\\Users\\xg16060\\Anaconda3\\envs\\cat_embedding\\lib\\site-packages\\sklearn\\base.py:467: DataConversionWarning: Data with input dtype int32, int64 were all converted to float64 by StandardScaler.\n",
      "  return self.fit(X, y, **fit_params).transform(X)\n",
      "C:\\Users\\xg16060\\Anaconda3\\envs\\cat_embedding\\lib\\site-packages\\sklearn\\preprocessing\\data.py:645: DataConversionWarning: Data with input dtype int32, int64 were all converted to float64 by StandardScaler.\n",
      "  return self.partial_fit(X, y)\n",
      "C:\\Users\\xg16060\\Anaconda3\\envs\\cat_embedding\\lib\\site-packages\\sklearn\\base.py:467: DataConversionWarning: Data with input dtype int32, int64 were all converted to float64 by StandardScaler.\n",
      "  return self.fit(X, y, **fit_params).transform(X)\n",
      "C:\\Users\\xg16060\\Anaconda3\\envs\\cat_embedding\\lib\\site-packages\\sklearn\\pipeline.py:381: DataConversionWarning: Data with input dtype int32, int64 were all converted to float64 by StandardScaler.\n",
      "  Xt = transform.transform(Xt)\n",
      "C:\\Users\\xg16060\\Anaconda3\\envs\\cat_embedding\\lib\\site-packages\\sklearn\\pipeline.py:381: DataConversionWarning: Data with input dtype int32, int64 were all converted to float64 by StandardScaler.\n",
      "  Xt = transform.transform(Xt)\n",
      "C:\\Users\\xg16060\\Anaconda3\\envs\\cat_embedding\\lib\\site-packages\\sklearn\\preprocessing\\data.py:645: DataConversionWarning: Data with input dtype int32, int64 were all converted to float64 by StandardScaler.\n",
      "  return self.partial_fit(X, y)\n",
      "C:\\Users\\xg16060\\Anaconda3\\envs\\cat_embedding\\lib\\site-packages\\sklearn\\base.py:467: DataConversionWarning: Data with input dtype int32, int64 were all converted to float64 by StandardScaler.\n",
      "  return self.fit(X, y, **fit_params).transform(X)\n",
      "C:\\Users\\xg16060\\Anaconda3\\envs\\cat_embedding\\lib\\site-packages\\sklearn\\preprocessing\\data.py:645: DataConversionWarning: Data with input dtype int32, int64 were all converted to float64 by StandardScaler.\n",
      "  return self.partial_fit(X, y)\n",
      "C:\\Users\\xg16060\\Anaconda3\\envs\\cat_embedding\\lib\\site-packages\\sklearn\\base.py:467: DataConversionWarning: Data with input dtype int32, int64 were all converted to float64 by StandardScaler.\n",
      "  return self.fit(X, y, **fit_params).transform(X)\n",
      "C:\\Users\\xg16060\\Anaconda3\\envs\\cat_embedding\\lib\\site-packages\\sklearn\\pipeline.py:381: DataConversionWarning: Data with input dtype int32, int64 were all converted to float64 by StandardScaler.\n",
      "  Xt = transform.transform(Xt)\n",
      "C:\\Users\\xg16060\\Anaconda3\\envs\\cat_embedding\\lib\\site-packages\\sklearn\\pipeline.py:381: DataConversionWarning: Data with input dtype int32, int64 were all converted to float64 by StandardScaler.\n",
      "  Xt = transform.transform(Xt)\n",
      "C:\\Users\\xg16060\\Anaconda3\\envs\\cat_embedding\\lib\\site-packages\\sklearn\\preprocessing\\data.py:645: DataConversionWarning: Data with input dtype int32, int64 were all converted to float64 by StandardScaler.\n",
      "  return self.partial_fit(X, y)\n",
      "C:\\Users\\xg16060\\Anaconda3\\envs\\cat_embedding\\lib\\site-packages\\sklearn\\base.py:467: DataConversionWarning: Data with input dtype int32, int64 were all converted to float64 by StandardScaler.\n",
      "  return self.fit(X, y, **fit_params).transform(X)\n",
      "C:\\Users\\xg16060\\Anaconda3\\envs\\cat_embedding\\lib\\site-packages\\sklearn\\preprocessing\\data.py:645: DataConversionWarning: Data with input dtype int32, int64 were all converted to float64 by StandardScaler.\n",
      "  return self.partial_fit(X, y)\n",
      "C:\\Users\\xg16060\\Anaconda3\\envs\\cat_embedding\\lib\\site-packages\\sklearn\\base.py:467: DataConversionWarning: Data with input dtype int32, int64 were all converted to float64 by StandardScaler.\n",
      "  return self.fit(X, y, **fit_params).transform(X)\n",
      "C:\\Users\\xg16060\\Anaconda3\\envs\\cat_embedding\\lib\\site-packages\\sklearn\\pipeline.py:381: DataConversionWarning: Data with input dtype int32, int64 were all converted to float64 by StandardScaler.\n",
      "  Xt = transform.transform(Xt)\n",
      "C:\\Users\\xg16060\\Anaconda3\\envs\\cat_embedding\\lib\\site-packages\\sklearn\\pipeline.py:381: DataConversionWarning: Data with input dtype int32, int64 were all converted to float64 by StandardScaler.\n",
      "  Xt = transform.transform(Xt)\n",
      "C:\\Users\\xg16060\\Anaconda3\\envs\\cat_embedding\\lib\\site-packages\\sklearn\\preprocessing\\data.py:645: DataConversionWarning: Data with input dtype int32, int64 were all converted to float64 by StandardScaler.\n",
      "  return self.partial_fit(X, y)\n",
      "C:\\Users\\xg16060\\Anaconda3\\envs\\cat_embedding\\lib\\site-packages\\sklearn\\base.py:467: DataConversionWarning: Data with input dtype int32, int64 were all converted to float64 by StandardScaler.\n",
      "  return self.fit(X, y, **fit_params).transform(X)\n",
      "C:\\Users\\xg16060\\Anaconda3\\envs\\cat_embedding\\lib\\site-packages\\sklearn\\preprocessing\\data.py:645: DataConversionWarning: Data with input dtype int32, int64 were all converted to float64 by StandardScaler.\n",
      "  return self.partial_fit(X, y)\n",
      "C:\\Users\\xg16060\\Anaconda3\\envs\\cat_embedding\\lib\\site-packages\\sklearn\\base.py:467: DataConversionWarning: Data with input dtype int32, int64 were all converted to float64 by StandardScaler.\n",
      "  return self.fit(X, y, **fit_params).transform(X)\n",
      "C:\\Users\\xg16060\\Anaconda3\\envs\\cat_embedding\\lib\\site-packages\\sklearn\\pipeline.py:381: DataConversionWarning: Data with input dtype int32, int64 were all converted to float64 by StandardScaler.\n",
      "  Xt = transform.transform(Xt)\n",
      "C:\\Users\\xg16060\\Anaconda3\\envs\\cat_embedding\\lib\\site-packages\\sklearn\\pipeline.py:381: DataConversionWarning: Data with input dtype int32, int64 were all converted to float64 by StandardScaler.\n",
      "  Xt = transform.transform(Xt)\n",
      "C:\\Users\\xg16060\\Anaconda3\\envs\\cat_embedding\\lib\\site-packages\\sklearn\\preprocessing\\data.py:645: DataConversionWarning: Data with input dtype int32, int64 were all converted to float64 by StandardScaler.\n",
      "  return self.partial_fit(X, y)\n",
      "C:\\Users\\xg16060\\Anaconda3\\envs\\cat_embedding\\lib\\site-packages\\sklearn\\base.py:467: DataConversionWarning: Data with input dtype int32, int64 were all converted to float64 by StandardScaler.\n",
      "  return self.fit(X, y, **fit_params).transform(X)\n",
      "C:\\Users\\xg16060\\Anaconda3\\envs\\cat_embedding\\lib\\site-packages\\sklearn\\preprocessing\\data.py:645: DataConversionWarning: Data with input dtype int32, int64 were all converted to float64 by StandardScaler.\n",
      "  return self.partial_fit(X, y)\n",
      "C:\\Users\\xg16060\\Anaconda3\\envs\\cat_embedding\\lib\\site-packages\\sklearn\\base.py:467: DataConversionWarning: Data with input dtype int32, int64 were all converted to float64 by StandardScaler.\n",
      "  return self.fit(X, y, **fit_params).transform(X)\n",
      "C:\\Users\\xg16060\\Anaconda3\\envs\\cat_embedding\\lib\\site-packages\\sklearn\\pipeline.py:381: DataConversionWarning: Data with input dtype int32, int64 were all converted to float64 by StandardScaler.\n",
      "  Xt = transform.transform(Xt)\n"
     ]
    },
    {
     "name": "stderr",
     "output_type": "stream",
     "text": [
      "C:\\Users\\xg16060\\Anaconda3\\envs\\cat_embedding\\lib\\site-packages\\sklearn\\pipeline.py:381: DataConversionWarning: Data with input dtype int32, int64 were all converted to float64 by StandardScaler.\n",
      "  Xt = transform.transform(Xt)\n",
      "C:\\Users\\xg16060\\Anaconda3\\envs\\cat_embedding\\lib\\site-packages\\sklearn\\preprocessing\\data.py:645: DataConversionWarning: Data with input dtype int32, int64 were all converted to float64 by StandardScaler.\n",
      "  return self.partial_fit(X, y)\n",
      "C:\\Users\\xg16060\\Anaconda3\\envs\\cat_embedding\\lib\\site-packages\\sklearn\\base.py:467: DataConversionWarning: Data with input dtype int32, int64 were all converted to float64 by StandardScaler.\n",
      "  return self.fit(X, y, **fit_params).transform(X)\n",
      "C:\\Users\\xg16060\\Anaconda3\\envs\\cat_embedding\\lib\\site-packages\\sklearn\\preprocessing\\data.py:645: DataConversionWarning: Data with input dtype int32, int64 were all converted to float64 by StandardScaler.\n",
      "  return self.partial_fit(X, y)\n",
      "C:\\Users\\xg16060\\Anaconda3\\envs\\cat_embedding\\lib\\site-packages\\sklearn\\base.py:467: DataConversionWarning: Data with input dtype int32, int64 were all converted to float64 by StandardScaler.\n",
      "  return self.fit(X, y, **fit_params).transform(X)\n",
      "C:\\Users\\xg16060\\Anaconda3\\envs\\cat_embedding\\lib\\site-packages\\sklearn\\pipeline.py:381: DataConversionWarning: Data with input dtype int32, int64 were all converted to float64 by StandardScaler.\n",
      "  Xt = transform.transform(Xt)\n",
      "C:\\Users\\xg16060\\Anaconda3\\envs\\cat_embedding\\lib\\site-packages\\sklearn\\pipeline.py:381: DataConversionWarning: Data with input dtype int32, int64 were all converted to float64 by StandardScaler.\n",
      "  Xt = transform.transform(Xt)\n",
      "C:\\Users\\xg16060\\Anaconda3\\envs\\cat_embedding\\lib\\site-packages\\sklearn\\preprocessing\\data.py:645: DataConversionWarning: Data with input dtype int32, int64 were all converted to float64 by StandardScaler.\n",
      "  return self.partial_fit(X, y)\n",
      "C:\\Users\\xg16060\\Anaconda3\\envs\\cat_embedding\\lib\\site-packages\\sklearn\\base.py:467: DataConversionWarning: Data with input dtype int32, int64 were all converted to float64 by StandardScaler.\n",
      "  return self.fit(X, y, **fit_params).transform(X)\n",
      "C:\\Users\\xg16060\\Anaconda3\\envs\\cat_embedding\\lib\\site-packages\\sklearn\\preprocessing\\data.py:645: DataConversionWarning: Data with input dtype int32, int64 were all converted to float64 by StandardScaler.\n",
      "  return self.partial_fit(X, y)\n",
      "C:\\Users\\xg16060\\Anaconda3\\envs\\cat_embedding\\lib\\site-packages\\sklearn\\base.py:467: DataConversionWarning: Data with input dtype int32, int64 were all converted to float64 by StandardScaler.\n",
      "  return self.fit(X, y, **fit_params).transform(X)\n",
      "C:\\Users\\xg16060\\Anaconda3\\envs\\cat_embedding\\lib\\site-packages\\sklearn\\pipeline.py:381: DataConversionWarning: Data with input dtype int32, int64 were all converted to float64 by StandardScaler.\n",
      "  Xt = transform.transform(Xt)\n",
      "C:\\Users\\xg16060\\Anaconda3\\envs\\cat_embedding\\lib\\site-packages\\sklearn\\pipeline.py:381: DataConversionWarning: Data with input dtype int32, int64 were all converted to float64 by StandardScaler.\n",
      "  Xt = transform.transform(Xt)\n",
      "C:\\Users\\xg16060\\Anaconda3\\envs\\cat_embedding\\lib\\site-packages\\sklearn\\preprocessing\\data.py:645: DataConversionWarning: Data with input dtype int32, int64 were all converted to float64 by StandardScaler.\n",
      "  return self.partial_fit(X, y)\n",
      "C:\\Users\\xg16060\\Anaconda3\\envs\\cat_embedding\\lib\\site-packages\\sklearn\\base.py:467: DataConversionWarning: Data with input dtype int32, int64 were all converted to float64 by StandardScaler.\n",
      "  return self.fit(X, y, **fit_params).transform(X)\n",
      "C:\\Users\\xg16060\\Anaconda3\\envs\\cat_embedding\\lib\\site-packages\\sklearn\\preprocessing\\data.py:645: DataConversionWarning: Data with input dtype int32, int64 were all converted to float64 by StandardScaler.\n",
      "  return self.partial_fit(X, y)\n",
      "C:\\Users\\xg16060\\Anaconda3\\envs\\cat_embedding\\lib\\site-packages\\sklearn\\base.py:467: DataConversionWarning: Data with input dtype int32, int64 were all converted to float64 by StandardScaler.\n",
      "  return self.fit(X, y, **fit_params).transform(X)\n",
      "C:\\Users\\xg16060\\Anaconda3\\envs\\cat_embedding\\lib\\site-packages\\sklearn\\pipeline.py:381: DataConversionWarning: Data with input dtype int32, int64 were all converted to float64 by StandardScaler.\n",
      "  Xt = transform.transform(Xt)\n",
      "C:\\Users\\xg16060\\Anaconda3\\envs\\cat_embedding\\lib\\site-packages\\sklearn\\pipeline.py:381: DataConversionWarning: Data with input dtype int32, int64 were all converted to float64 by StandardScaler.\n",
      "  Xt = transform.transform(Xt)\n",
      "C:\\Users\\xg16060\\Anaconda3\\envs\\cat_embedding\\lib\\site-packages\\sklearn\\preprocessing\\data.py:645: DataConversionWarning: Data with input dtype int32, int64 were all converted to float64 by StandardScaler.\n",
      "  return self.partial_fit(X, y)\n",
      "C:\\Users\\xg16060\\Anaconda3\\envs\\cat_embedding\\lib\\site-packages\\sklearn\\base.py:467: DataConversionWarning: Data with input dtype int32, int64 were all converted to float64 by StandardScaler.\n",
      "  return self.fit(X, y, **fit_params).transform(X)\n",
      "C:\\Users\\xg16060\\Anaconda3\\envs\\cat_embedding\\lib\\site-packages\\sklearn\\preprocessing\\data.py:645: DataConversionWarning: Data with input dtype int32, int64 were all converted to float64 by StandardScaler.\n",
      "  return self.partial_fit(X, y)\n",
      "C:\\Users\\xg16060\\Anaconda3\\envs\\cat_embedding\\lib\\site-packages\\sklearn\\base.py:467: DataConversionWarning: Data with input dtype int32, int64 were all converted to float64 by StandardScaler.\n",
      "  return self.fit(X, y, **fit_params).transform(X)\n",
      "C:\\Users\\xg16060\\Anaconda3\\envs\\cat_embedding\\lib\\site-packages\\sklearn\\pipeline.py:381: DataConversionWarning: Data with input dtype int32, int64 were all converted to float64 by StandardScaler.\n",
      "  Xt = transform.transform(Xt)\n",
      "C:\\Users\\xg16060\\Anaconda3\\envs\\cat_embedding\\lib\\site-packages\\sklearn\\pipeline.py:381: DataConversionWarning: Data with input dtype int32, int64 were all converted to float64 by StandardScaler.\n",
      "  Xt = transform.transform(Xt)\n"
     ]
    },
    {
     "name": "stdout",
     "output_type": "stream",
     "text": [
      "P-value: 0.018, t-Statistic: 3.441\n"
     ]
    }
   ],
   "source": [
    "from sklearn.model_selection import cross_val_score\n",
    "from numpy import mean, std\n",
    "from mlxtend.evaluate import paired_ttest_5x2cv\n",
    "\n",
    "#cv=RepeatedStratifiedKFold(n_splits=10, n_repeats=3, random_state=1)\n",
    "#scores1 = cross_val_score(pipe_erf, X_train, y_train, scoring = 'accuracy', cv = cv1, n_jobs = -1)\n",
    "\n",
    "# check if difference between algorithms is real\n",
    "t, p = paired_ttest_5x2cv(estimator1=pipe_rf, estimator2=pipe_erf,X=X_test,y=y_test, scoring='roc_auc', random_seed=1)\n",
    "#t, p = paired_ttest_5x2cv(estimator1=pipe_rf, estimator2=pipek,X=X_train,y=y_train, scoring='accuracy', random_seed=1)#0.001 t-statistic 7.651\n",
    "\n",
    "# summarize\n",
    "print('P-value: %.3f, t-Statistic: %.3f' % (p, t))"
   ]
  },
  {
   "cell_type": "code",
   "execution_count": 20,
   "metadata": {},
   "outputs": [
    {
     "name": "stderr",
     "output_type": "stream",
     "text": [
      "C:\\Users\\xg16060\\Anaconda3\\envs\\cat_embedding\\lib\\site-packages\\sklearn\\preprocessing\\data.py:645: DataConversionWarning: Data with input dtype int32, int64 were all converted to float64 by StandardScaler.\n",
      "  return self.partial_fit(X, y)\n",
      "C:\\Users\\xg16060\\Anaconda3\\envs\\cat_embedding\\lib\\site-packages\\sklearn\\base.py:467: DataConversionWarning: Data with input dtype int32, int64 were all converted to float64 by StandardScaler.\n",
      "  return self.fit(X, y, **fit_params).transform(X)\n",
      "C:\\Users\\xg16060\\Anaconda3\\envs\\cat_embedding\\lib\\site-packages\\sklearn\\preprocessing\\data.py:645: DataConversionWarning: Data with input dtype int32, int64 were all converted to float64 by StandardScaler.\n",
      "  return self.partial_fit(X, y)\n",
      "C:\\Users\\xg16060\\Anaconda3\\envs\\cat_embedding\\lib\\site-packages\\sklearn\\base.py:467: DataConversionWarning: Data with input dtype int32, int64 were all converted to float64 by StandardScaler.\n",
      "  return self.fit(X, y, **fit_params).transform(X)\n",
      "C:\\Users\\xg16060\\Anaconda3\\envs\\cat_embedding\\lib\\site-packages\\sklearn\\pipeline.py:381: DataConversionWarning: Data with input dtype int32, int64 were all converted to float64 by StandardScaler.\n",
      "  Xt = transform.transform(Xt)\n",
      "C:\\Users\\xg16060\\Anaconda3\\envs\\cat_embedding\\lib\\site-packages\\sklearn\\pipeline.py:381: DataConversionWarning: Data with input dtype int32, int64 were all converted to float64 by StandardScaler.\n",
      "  Xt = transform.transform(Xt)\n",
      "C:\\Users\\xg16060\\Anaconda3\\envs\\cat_embedding\\lib\\site-packages\\sklearn\\preprocessing\\data.py:645: DataConversionWarning: Data with input dtype int32, int64 were all converted to float64 by StandardScaler.\n",
      "  return self.partial_fit(X, y)\n",
      "C:\\Users\\xg16060\\Anaconda3\\envs\\cat_embedding\\lib\\site-packages\\sklearn\\base.py:467: DataConversionWarning: Data with input dtype int32, int64 were all converted to float64 by StandardScaler.\n",
      "  return self.fit(X, y, **fit_params).transform(X)\n",
      "C:\\Users\\xg16060\\Anaconda3\\envs\\cat_embedding\\lib\\site-packages\\sklearn\\preprocessing\\data.py:645: DataConversionWarning: Data with input dtype int32, int64 were all converted to float64 by StandardScaler.\n",
      "  return self.partial_fit(X, y)\n",
      "C:\\Users\\xg16060\\Anaconda3\\envs\\cat_embedding\\lib\\site-packages\\sklearn\\base.py:467: DataConversionWarning: Data with input dtype int32, int64 were all converted to float64 by StandardScaler.\n",
      "  return self.fit(X, y, **fit_params).transform(X)\n",
      "C:\\Users\\xg16060\\Anaconda3\\envs\\cat_embedding\\lib\\site-packages\\sklearn\\pipeline.py:381: DataConversionWarning: Data with input dtype int32, int64 were all converted to float64 by StandardScaler.\n",
      "  Xt = transform.transform(Xt)\n",
      "C:\\Users\\xg16060\\Anaconda3\\envs\\cat_embedding\\lib\\site-packages\\sklearn\\pipeline.py:381: DataConversionWarning: Data with input dtype int32, int64 were all converted to float64 by StandardScaler.\n",
      "  Xt = transform.transform(Xt)\n",
      "C:\\Users\\xg16060\\Anaconda3\\envs\\cat_embedding\\lib\\site-packages\\sklearn\\preprocessing\\data.py:645: DataConversionWarning: Data with input dtype int32, int64 were all converted to float64 by StandardScaler.\n",
      "  return self.partial_fit(X, y)\n",
      "C:\\Users\\xg16060\\Anaconda3\\envs\\cat_embedding\\lib\\site-packages\\sklearn\\base.py:467: DataConversionWarning: Data with input dtype int32, int64 were all converted to float64 by StandardScaler.\n",
      "  return self.fit(X, y, **fit_params).transform(X)\n",
      "C:\\Users\\xg16060\\Anaconda3\\envs\\cat_embedding\\lib\\site-packages\\sklearn\\preprocessing\\data.py:645: DataConversionWarning: Data with input dtype int32, int64 were all converted to float64 by StandardScaler.\n",
      "  return self.partial_fit(X, y)\n",
      "C:\\Users\\xg16060\\Anaconda3\\envs\\cat_embedding\\lib\\site-packages\\sklearn\\base.py:467: DataConversionWarning: Data with input dtype int32, int64 were all converted to float64 by StandardScaler.\n",
      "  return self.fit(X, y, **fit_params).transform(X)\n",
      "C:\\Users\\xg16060\\Anaconda3\\envs\\cat_embedding\\lib\\site-packages\\sklearn\\pipeline.py:381: DataConversionWarning: Data with input dtype int32, int64 were all converted to float64 by StandardScaler.\n",
      "  Xt = transform.transform(Xt)\n",
      "C:\\Users\\xg16060\\Anaconda3\\envs\\cat_embedding\\lib\\site-packages\\sklearn\\pipeline.py:381: DataConversionWarning: Data with input dtype int32, int64 were all converted to float64 by StandardScaler.\n",
      "  Xt = transform.transform(Xt)\n",
      "C:\\Users\\xg16060\\Anaconda3\\envs\\cat_embedding\\lib\\site-packages\\sklearn\\preprocessing\\data.py:645: DataConversionWarning: Data with input dtype int32, int64 were all converted to float64 by StandardScaler.\n",
      "  return self.partial_fit(X, y)\n",
      "C:\\Users\\xg16060\\Anaconda3\\envs\\cat_embedding\\lib\\site-packages\\sklearn\\base.py:467: DataConversionWarning: Data with input dtype int32, int64 were all converted to float64 by StandardScaler.\n",
      "  return self.fit(X, y, **fit_params).transform(X)\n",
      "C:\\Users\\xg16060\\Anaconda3\\envs\\cat_embedding\\lib\\site-packages\\sklearn\\preprocessing\\data.py:645: DataConversionWarning: Data with input dtype int32, int64 were all converted to float64 by StandardScaler.\n",
      "  return self.partial_fit(X, y)\n",
      "C:\\Users\\xg16060\\Anaconda3\\envs\\cat_embedding\\lib\\site-packages\\sklearn\\base.py:467: DataConversionWarning: Data with input dtype int32, int64 were all converted to float64 by StandardScaler.\n",
      "  return self.fit(X, y, **fit_params).transform(X)\n",
      "C:\\Users\\xg16060\\Anaconda3\\envs\\cat_embedding\\lib\\site-packages\\sklearn\\pipeline.py:381: DataConversionWarning: Data with input dtype int32, int64 were all converted to float64 by StandardScaler.\n",
      "  Xt = transform.transform(Xt)\n",
      "C:\\Users\\xg16060\\Anaconda3\\envs\\cat_embedding\\lib\\site-packages\\sklearn\\pipeline.py:381: DataConversionWarning: Data with input dtype int32, int64 were all converted to float64 by StandardScaler.\n",
      "  Xt = transform.transform(Xt)\n",
      "C:\\Users\\xg16060\\Anaconda3\\envs\\cat_embedding\\lib\\site-packages\\sklearn\\preprocessing\\data.py:645: DataConversionWarning: Data with input dtype int32, int64 were all converted to float64 by StandardScaler.\n",
      "  return self.partial_fit(X, y)\n",
      "C:\\Users\\xg16060\\Anaconda3\\envs\\cat_embedding\\lib\\site-packages\\sklearn\\base.py:467: DataConversionWarning: Data with input dtype int32, int64 were all converted to float64 by StandardScaler.\n",
      "  return self.fit(X, y, **fit_params).transform(X)\n",
      "C:\\Users\\xg16060\\Anaconda3\\envs\\cat_embedding\\lib\\site-packages\\sklearn\\preprocessing\\data.py:645: DataConversionWarning: Data with input dtype int32, int64 were all converted to float64 by StandardScaler.\n",
      "  return self.partial_fit(X, y)\n",
      "C:\\Users\\xg16060\\Anaconda3\\envs\\cat_embedding\\lib\\site-packages\\sklearn\\base.py:467: DataConversionWarning: Data with input dtype int32, int64 were all converted to float64 by StandardScaler.\n",
      "  return self.fit(X, y, **fit_params).transform(X)\n",
      "C:\\Users\\xg16060\\Anaconda3\\envs\\cat_embedding\\lib\\site-packages\\sklearn\\pipeline.py:381: DataConversionWarning: Data with input dtype int32, int64 were all converted to float64 by StandardScaler.\n",
      "  Xt = transform.transform(Xt)\n",
      "C:\\Users\\xg16060\\Anaconda3\\envs\\cat_embedding\\lib\\site-packages\\sklearn\\pipeline.py:381: DataConversionWarning: Data with input dtype int32, int64 were all converted to float64 by StandardScaler.\n",
      "  Xt = transform.transform(Xt)\n",
      "C:\\Users\\xg16060\\Anaconda3\\envs\\cat_embedding\\lib\\site-packages\\sklearn\\preprocessing\\data.py:645: DataConversionWarning: Data with input dtype int32, int64 were all converted to float64 by StandardScaler.\n",
      "  return self.partial_fit(X, y)\n",
      "C:\\Users\\xg16060\\Anaconda3\\envs\\cat_embedding\\lib\\site-packages\\sklearn\\base.py:467: DataConversionWarning: Data with input dtype int32, int64 were all converted to float64 by StandardScaler.\n",
      "  return self.fit(X, y, **fit_params).transform(X)\n",
      "C:\\Users\\xg16060\\Anaconda3\\envs\\cat_embedding\\lib\\site-packages\\sklearn\\preprocessing\\data.py:645: DataConversionWarning: Data with input dtype int32, int64 were all converted to float64 by StandardScaler.\n",
      "  return self.partial_fit(X, y)\n",
      "C:\\Users\\xg16060\\Anaconda3\\envs\\cat_embedding\\lib\\site-packages\\sklearn\\base.py:467: DataConversionWarning: Data with input dtype int32, int64 were all converted to float64 by StandardScaler.\n",
      "  return self.fit(X, y, **fit_params).transform(X)\n",
      "C:\\Users\\xg16060\\Anaconda3\\envs\\cat_embedding\\lib\\site-packages\\sklearn\\pipeline.py:381: DataConversionWarning: Data with input dtype int32, int64 were all converted to float64 by StandardScaler.\n",
      "  Xt = transform.transform(Xt)\n"
     ]
    },
    {
     "name": "stderr",
     "output_type": "stream",
     "text": [
      "C:\\Users\\xg16060\\Anaconda3\\envs\\cat_embedding\\lib\\site-packages\\sklearn\\pipeline.py:381: DataConversionWarning: Data with input dtype int32, int64 were all converted to float64 by StandardScaler.\n",
      "  Xt = transform.transform(Xt)\n",
      "C:\\Users\\xg16060\\Anaconda3\\envs\\cat_embedding\\lib\\site-packages\\sklearn\\preprocessing\\data.py:645: DataConversionWarning: Data with input dtype int32, int64 were all converted to float64 by StandardScaler.\n",
      "  return self.partial_fit(X, y)\n",
      "C:\\Users\\xg16060\\Anaconda3\\envs\\cat_embedding\\lib\\site-packages\\sklearn\\base.py:467: DataConversionWarning: Data with input dtype int32, int64 were all converted to float64 by StandardScaler.\n",
      "  return self.fit(X, y, **fit_params).transform(X)\n",
      "C:\\Users\\xg16060\\Anaconda3\\envs\\cat_embedding\\lib\\site-packages\\sklearn\\preprocessing\\data.py:645: DataConversionWarning: Data with input dtype int32, int64 were all converted to float64 by StandardScaler.\n",
      "  return self.partial_fit(X, y)\n",
      "C:\\Users\\xg16060\\Anaconda3\\envs\\cat_embedding\\lib\\site-packages\\sklearn\\base.py:467: DataConversionWarning: Data with input dtype int32, int64 were all converted to float64 by StandardScaler.\n",
      "  return self.fit(X, y, **fit_params).transform(X)\n",
      "C:\\Users\\xg16060\\Anaconda3\\envs\\cat_embedding\\lib\\site-packages\\sklearn\\pipeline.py:381: DataConversionWarning: Data with input dtype int32, int64 were all converted to float64 by StandardScaler.\n",
      "  Xt = transform.transform(Xt)\n",
      "C:\\Users\\xg16060\\Anaconda3\\envs\\cat_embedding\\lib\\site-packages\\sklearn\\pipeline.py:381: DataConversionWarning: Data with input dtype int32, int64 were all converted to float64 by StandardScaler.\n",
      "  Xt = transform.transform(Xt)\n",
      "C:\\Users\\xg16060\\Anaconda3\\envs\\cat_embedding\\lib\\site-packages\\sklearn\\preprocessing\\data.py:645: DataConversionWarning: Data with input dtype int32, int64 were all converted to float64 by StandardScaler.\n",
      "  return self.partial_fit(X, y)\n",
      "C:\\Users\\xg16060\\Anaconda3\\envs\\cat_embedding\\lib\\site-packages\\sklearn\\base.py:467: DataConversionWarning: Data with input dtype int32, int64 were all converted to float64 by StandardScaler.\n",
      "  return self.fit(X, y, **fit_params).transform(X)\n",
      "C:\\Users\\xg16060\\Anaconda3\\envs\\cat_embedding\\lib\\site-packages\\sklearn\\preprocessing\\data.py:645: DataConversionWarning: Data with input dtype int32, int64 were all converted to float64 by StandardScaler.\n",
      "  return self.partial_fit(X, y)\n",
      "C:\\Users\\xg16060\\Anaconda3\\envs\\cat_embedding\\lib\\site-packages\\sklearn\\base.py:467: DataConversionWarning: Data with input dtype int32, int64 were all converted to float64 by StandardScaler.\n",
      "  return self.fit(X, y, **fit_params).transform(X)\n",
      "C:\\Users\\xg16060\\Anaconda3\\envs\\cat_embedding\\lib\\site-packages\\sklearn\\pipeline.py:381: DataConversionWarning: Data with input dtype int32, int64 were all converted to float64 by StandardScaler.\n",
      "  Xt = transform.transform(Xt)\n",
      "C:\\Users\\xg16060\\Anaconda3\\envs\\cat_embedding\\lib\\site-packages\\sklearn\\pipeline.py:381: DataConversionWarning: Data with input dtype int32, int64 were all converted to float64 by StandardScaler.\n",
      "  Xt = transform.transform(Xt)\n",
      "C:\\Users\\xg16060\\Anaconda3\\envs\\cat_embedding\\lib\\site-packages\\sklearn\\preprocessing\\data.py:645: DataConversionWarning: Data with input dtype int32, int64 were all converted to float64 by StandardScaler.\n",
      "  return self.partial_fit(X, y)\n",
      "C:\\Users\\xg16060\\Anaconda3\\envs\\cat_embedding\\lib\\site-packages\\sklearn\\base.py:467: DataConversionWarning: Data with input dtype int32, int64 were all converted to float64 by StandardScaler.\n",
      "  return self.fit(X, y, **fit_params).transform(X)\n",
      "C:\\Users\\xg16060\\Anaconda3\\envs\\cat_embedding\\lib\\site-packages\\sklearn\\preprocessing\\data.py:645: DataConversionWarning: Data with input dtype int32, int64 were all converted to float64 by StandardScaler.\n",
      "  return self.partial_fit(X, y)\n",
      "C:\\Users\\xg16060\\Anaconda3\\envs\\cat_embedding\\lib\\site-packages\\sklearn\\base.py:467: DataConversionWarning: Data with input dtype int32, int64 were all converted to float64 by StandardScaler.\n",
      "  return self.fit(X, y, **fit_params).transform(X)\n",
      "C:\\Users\\xg16060\\Anaconda3\\envs\\cat_embedding\\lib\\site-packages\\sklearn\\pipeline.py:381: DataConversionWarning: Data with input dtype int32, int64 were all converted to float64 by StandardScaler.\n",
      "  Xt = transform.transform(Xt)\n",
      "C:\\Users\\xg16060\\Anaconda3\\envs\\cat_embedding\\lib\\site-packages\\sklearn\\pipeline.py:381: DataConversionWarning: Data with input dtype int32, int64 were all converted to float64 by StandardScaler.\n",
      "  Xt = transform.transform(Xt)\n",
      "C:\\Users\\xg16060\\Anaconda3\\envs\\cat_embedding\\lib\\site-packages\\sklearn\\preprocessing\\data.py:645: DataConversionWarning: Data with input dtype int32, int64 were all converted to float64 by StandardScaler.\n",
      "  return self.partial_fit(X, y)\n",
      "C:\\Users\\xg16060\\Anaconda3\\envs\\cat_embedding\\lib\\site-packages\\sklearn\\base.py:467: DataConversionWarning: Data with input dtype int32, int64 were all converted to float64 by StandardScaler.\n",
      "  return self.fit(X, y, **fit_params).transform(X)\n",
      "C:\\Users\\xg16060\\Anaconda3\\envs\\cat_embedding\\lib\\site-packages\\sklearn\\preprocessing\\data.py:645: DataConversionWarning: Data with input dtype int32, int64 were all converted to float64 by StandardScaler.\n",
      "  return self.partial_fit(X, y)\n",
      "C:\\Users\\xg16060\\Anaconda3\\envs\\cat_embedding\\lib\\site-packages\\sklearn\\base.py:467: DataConversionWarning: Data with input dtype int32, int64 were all converted to float64 by StandardScaler.\n",
      "  return self.fit(X, y, **fit_params).transform(X)\n",
      "C:\\Users\\xg16060\\Anaconda3\\envs\\cat_embedding\\lib\\site-packages\\sklearn\\pipeline.py:381: DataConversionWarning: Data with input dtype int32, int64 were all converted to float64 by StandardScaler.\n",
      "  Xt = transform.transform(Xt)\n",
      "C:\\Users\\xg16060\\Anaconda3\\envs\\cat_embedding\\lib\\site-packages\\sklearn\\pipeline.py:381: DataConversionWarning: Data with input dtype int32, int64 were all converted to float64 by StandardScaler.\n",
      "  Xt = transform.transform(Xt)\n"
     ]
    },
    {
     "name": "stdout",
     "output_type": "stream",
     "text": [
      "P-value: 0.045, t-Statistic: 2.649\n"
     ]
    }
   ],
   "source": [
    "from sklearn.model_selection import cross_val_score\n",
    "from numpy import mean, std\n",
    "from mlxtend.evaluate import paired_ttest_5x2cv\n",
    "\n",
    "#cv=RepeatedStratifiedKFold(n_splits=10, n_repeats=3, random_state=1)\n",
    "#scores1 = cross_val_score(pipe_erf, X_train, y_train, scoring = 'accuracy', cv = cv1, n_jobs = -1)\n",
    "\n",
    "# check if difference between algorithms is real\n",
    "t, p = paired_ttest_5x2cv(estimator1=pipe_rf, estimator2=pipe_erf,X=X_train,y=y_train, scoring='roc_auc', random_seed=1)\n",
    "#t, p = paired_ttest_5x2cv(estimator1=pipe_rf, estimator2=pipek,X=X_train,y=y_train, scoring='accuracy', random_seed=1)#0.001 t-statistic 7.651\n",
    "\n",
    "# summarize\n",
    "print('P-value: %.3f, t-Statistic: %.3f' % (p, t))"
   ]
  },
  {
   "cell_type": "code",
   "execution_count": 34,
   "metadata": {},
   "outputs": [
    {
     "name": "stderr",
     "output_type": "stream",
     "text": [
      "C:\\Users\\xg16060\\Anaconda3\\envs\\cat_embedding\\lib\\site-packages\\sklearn\\preprocessing\\data.py:645: DataConversionWarning: Data with input dtype int32, int64 were all converted to float64 by StandardScaler.\n",
      "  return self.partial_fit(X, y)\n",
      "C:\\Users\\xg16060\\Anaconda3\\envs\\cat_embedding\\lib\\site-packages\\sklearn\\base.py:467: DataConversionWarning: Data with input dtype int32, int64 were all converted to float64 by StandardScaler.\n",
      "  return self.fit(X, y, **fit_params).transform(X)\n",
      "C:\\Users\\xg16060\\Anaconda3\\envs\\cat_embedding\\lib\\site-packages\\sklearn\\preprocessing\\data.py:645: DataConversionWarning: Data with input dtype int32, int64 were all converted to float64 by StandardScaler.\n",
      "  return self.partial_fit(X, y)\n",
      "C:\\Users\\xg16060\\Anaconda3\\envs\\cat_embedding\\lib\\site-packages\\sklearn\\base.py:467: DataConversionWarning: Data with input dtype int32, int64 were all converted to float64 by StandardScaler.\n",
      "  return self.fit(X, y, **fit_params).transform(X)\n",
      "C:\\Users\\xg16060\\Anaconda3\\envs\\cat_embedding\\lib\\site-packages\\sklearn\\pipeline.py:331: DataConversionWarning: Data with input dtype int32, int64 were all converted to float64 by StandardScaler.\n",
      "  Xt = transform.transform(Xt)\n",
      "C:\\Users\\xg16060\\Anaconda3\\envs\\cat_embedding\\lib\\site-packages\\sklearn\\pipeline.py:331: DataConversionWarning: Data with input dtype int32, int64 were all converted to float64 by StandardScaler.\n",
      "  Xt = transform.transform(Xt)\n",
      "C:\\Users\\xg16060\\Anaconda3\\envs\\cat_embedding\\lib\\site-packages\\sklearn\\preprocessing\\data.py:645: DataConversionWarning: Data with input dtype int32, int64 were all converted to float64 by StandardScaler.\n",
      "  return self.partial_fit(X, y)\n",
      "C:\\Users\\xg16060\\Anaconda3\\envs\\cat_embedding\\lib\\site-packages\\sklearn\\base.py:467: DataConversionWarning: Data with input dtype int32, int64 were all converted to float64 by StandardScaler.\n",
      "  return self.fit(X, y, **fit_params).transform(X)\n",
      "C:\\Users\\xg16060\\Anaconda3\\envs\\cat_embedding\\lib\\site-packages\\sklearn\\preprocessing\\data.py:645: DataConversionWarning: Data with input dtype int32, int64 were all converted to float64 by StandardScaler.\n",
      "  return self.partial_fit(X, y)\n",
      "C:\\Users\\xg16060\\Anaconda3\\envs\\cat_embedding\\lib\\site-packages\\sklearn\\base.py:467: DataConversionWarning: Data with input dtype int32, int64 were all converted to float64 by StandardScaler.\n",
      "  return self.fit(X, y, **fit_params).transform(X)\n",
      "C:\\Users\\xg16060\\Anaconda3\\envs\\cat_embedding\\lib\\site-packages\\sklearn\\pipeline.py:331: DataConversionWarning: Data with input dtype int32, int64 were all converted to float64 by StandardScaler.\n",
      "  Xt = transform.transform(Xt)\n",
      "C:\\Users\\xg16060\\Anaconda3\\envs\\cat_embedding\\lib\\site-packages\\sklearn\\pipeline.py:331: DataConversionWarning: Data with input dtype int32, int64 were all converted to float64 by StandardScaler.\n",
      "  Xt = transform.transform(Xt)\n",
      "C:\\Users\\xg16060\\Anaconda3\\envs\\cat_embedding\\lib\\site-packages\\sklearn\\preprocessing\\data.py:645: DataConversionWarning: Data with input dtype int32, int64 were all converted to float64 by StandardScaler.\n",
      "  return self.partial_fit(X, y)\n",
      "C:\\Users\\xg16060\\Anaconda3\\envs\\cat_embedding\\lib\\site-packages\\sklearn\\base.py:467: DataConversionWarning: Data with input dtype int32, int64 were all converted to float64 by StandardScaler.\n",
      "  return self.fit(X, y, **fit_params).transform(X)\n",
      "C:\\Users\\xg16060\\Anaconda3\\envs\\cat_embedding\\lib\\site-packages\\sklearn\\preprocessing\\data.py:645: DataConversionWarning: Data with input dtype int32, int64 were all converted to float64 by StandardScaler.\n",
      "  return self.partial_fit(X, y)\n",
      "C:\\Users\\xg16060\\Anaconda3\\envs\\cat_embedding\\lib\\site-packages\\sklearn\\base.py:467: DataConversionWarning: Data with input dtype int32, int64 were all converted to float64 by StandardScaler.\n",
      "  return self.fit(X, y, **fit_params).transform(X)\n",
      "C:\\Users\\xg16060\\Anaconda3\\envs\\cat_embedding\\lib\\site-packages\\sklearn\\pipeline.py:331: DataConversionWarning: Data with input dtype int32, int64 were all converted to float64 by StandardScaler.\n",
      "  Xt = transform.transform(Xt)\n",
      "C:\\Users\\xg16060\\Anaconda3\\envs\\cat_embedding\\lib\\site-packages\\sklearn\\pipeline.py:331: DataConversionWarning: Data with input dtype int32, int64 were all converted to float64 by StandardScaler.\n",
      "  Xt = transform.transform(Xt)\n",
      "C:\\Users\\xg16060\\Anaconda3\\envs\\cat_embedding\\lib\\site-packages\\sklearn\\preprocessing\\data.py:645: DataConversionWarning: Data with input dtype int32, int64 were all converted to float64 by StandardScaler.\n",
      "  return self.partial_fit(X, y)\n",
      "C:\\Users\\xg16060\\Anaconda3\\envs\\cat_embedding\\lib\\site-packages\\sklearn\\base.py:467: DataConversionWarning: Data with input dtype int32, int64 were all converted to float64 by StandardScaler.\n",
      "  return self.fit(X, y, **fit_params).transform(X)\n",
      "C:\\Users\\xg16060\\Anaconda3\\envs\\cat_embedding\\lib\\site-packages\\sklearn\\preprocessing\\data.py:645: DataConversionWarning: Data with input dtype int32, int64 were all converted to float64 by StandardScaler.\n",
      "  return self.partial_fit(X, y)\n",
      "C:\\Users\\xg16060\\Anaconda3\\envs\\cat_embedding\\lib\\site-packages\\sklearn\\base.py:467: DataConversionWarning: Data with input dtype int32, int64 were all converted to float64 by StandardScaler.\n",
      "  return self.fit(X, y, **fit_params).transform(X)\n",
      "C:\\Users\\xg16060\\Anaconda3\\envs\\cat_embedding\\lib\\site-packages\\sklearn\\pipeline.py:331: DataConversionWarning: Data with input dtype int32, int64 were all converted to float64 by StandardScaler.\n",
      "  Xt = transform.transform(Xt)\n",
      "C:\\Users\\xg16060\\Anaconda3\\envs\\cat_embedding\\lib\\site-packages\\sklearn\\pipeline.py:331: DataConversionWarning: Data with input dtype int32, int64 were all converted to float64 by StandardScaler.\n",
      "  Xt = transform.transform(Xt)\n",
      "C:\\Users\\xg16060\\Anaconda3\\envs\\cat_embedding\\lib\\site-packages\\sklearn\\preprocessing\\data.py:645: DataConversionWarning: Data with input dtype int32, int64 were all converted to float64 by StandardScaler.\n",
      "  return self.partial_fit(X, y)\n",
      "C:\\Users\\xg16060\\Anaconda3\\envs\\cat_embedding\\lib\\site-packages\\sklearn\\base.py:467: DataConversionWarning: Data with input dtype int32, int64 were all converted to float64 by StandardScaler.\n",
      "  return self.fit(X, y, **fit_params).transform(X)\n",
      "C:\\Users\\xg16060\\Anaconda3\\envs\\cat_embedding\\lib\\site-packages\\sklearn\\preprocessing\\data.py:645: DataConversionWarning: Data with input dtype int32, int64 were all converted to float64 by StandardScaler.\n",
      "  return self.partial_fit(X, y)\n",
      "C:\\Users\\xg16060\\Anaconda3\\envs\\cat_embedding\\lib\\site-packages\\sklearn\\base.py:467: DataConversionWarning: Data with input dtype int32, int64 were all converted to float64 by StandardScaler.\n",
      "  return self.fit(X, y, **fit_params).transform(X)\n",
      "C:\\Users\\xg16060\\Anaconda3\\envs\\cat_embedding\\lib\\site-packages\\sklearn\\pipeline.py:331: DataConversionWarning: Data with input dtype int32, int64 were all converted to float64 by StandardScaler.\n",
      "  Xt = transform.transform(Xt)\n",
      "C:\\Users\\xg16060\\Anaconda3\\envs\\cat_embedding\\lib\\site-packages\\sklearn\\pipeline.py:331: DataConversionWarning: Data with input dtype int32, int64 were all converted to float64 by StandardScaler.\n",
      "  Xt = transform.transform(Xt)\n",
      "C:\\Users\\xg16060\\Anaconda3\\envs\\cat_embedding\\lib\\site-packages\\sklearn\\preprocessing\\data.py:645: DataConversionWarning: Data with input dtype int32, int64 were all converted to float64 by StandardScaler.\n",
      "  return self.partial_fit(X, y)\n",
      "C:\\Users\\xg16060\\Anaconda3\\envs\\cat_embedding\\lib\\site-packages\\sklearn\\base.py:467: DataConversionWarning: Data with input dtype int32, int64 were all converted to float64 by StandardScaler.\n",
      "  return self.fit(X, y, **fit_params).transform(X)\n",
      "C:\\Users\\xg16060\\Anaconda3\\envs\\cat_embedding\\lib\\site-packages\\sklearn\\preprocessing\\data.py:645: DataConversionWarning: Data with input dtype int32, int64 were all converted to float64 by StandardScaler.\n",
      "  return self.partial_fit(X, y)\n",
      "C:\\Users\\xg16060\\Anaconda3\\envs\\cat_embedding\\lib\\site-packages\\sklearn\\base.py:467: DataConversionWarning: Data with input dtype int32, int64 were all converted to float64 by StandardScaler.\n",
      "  return self.fit(X, y, **fit_params).transform(X)\n",
      "C:\\Users\\xg16060\\Anaconda3\\envs\\cat_embedding\\lib\\site-packages\\sklearn\\pipeline.py:331: DataConversionWarning: Data with input dtype int32, int64 were all converted to float64 by StandardScaler.\n",
      "  Xt = transform.transform(Xt)\n"
     ]
    },
    {
     "name": "stderr",
     "output_type": "stream",
     "text": [
      "C:\\Users\\xg16060\\Anaconda3\\envs\\cat_embedding\\lib\\site-packages\\sklearn\\pipeline.py:331: DataConversionWarning: Data with input dtype int32, int64 were all converted to float64 by StandardScaler.\n",
      "  Xt = transform.transform(Xt)\n",
      "C:\\Users\\xg16060\\Anaconda3\\envs\\cat_embedding\\lib\\site-packages\\sklearn\\preprocessing\\data.py:645: DataConversionWarning: Data with input dtype int32, int64 were all converted to float64 by StandardScaler.\n",
      "  return self.partial_fit(X, y)\n",
      "C:\\Users\\xg16060\\Anaconda3\\envs\\cat_embedding\\lib\\site-packages\\sklearn\\base.py:467: DataConversionWarning: Data with input dtype int32, int64 were all converted to float64 by StandardScaler.\n",
      "  return self.fit(X, y, **fit_params).transform(X)\n",
      "C:\\Users\\xg16060\\Anaconda3\\envs\\cat_embedding\\lib\\site-packages\\sklearn\\preprocessing\\data.py:645: DataConversionWarning: Data with input dtype int32, int64 were all converted to float64 by StandardScaler.\n",
      "  return self.partial_fit(X, y)\n",
      "C:\\Users\\xg16060\\Anaconda3\\envs\\cat_embedding\\lib\\site-packages\\sklearn\\base.py:467: DataConversionWarning: Data with input dtype int32, int64 were all converted to float64 by StandardScaler.\n",
      "  return self.fit(X, y, **fit_params).transform(X)\n",
      "C:\\Users\\xg16060\\Anaconda3\\envs\\cat_embedding\\lib\\site-packages\\sklearn\\pipeline.py:331: DataConversionWarning: Data with input dtype int32, int64 were all converted to float64 by StandardScaler.\n",
      "  Xt = transform.transform(Xt)\n",
      "C:\\Users\\xg16060\\Anaconda3\\envs\\cat_embedding\\lib\\site-packages\\sklearn\\pipeline.py:331: DataConversionWarning: Data with input dtype int32, int64 were all converted to float64 by StandardScaler.\n",
      "  Xt = transform.transform(Xt)\n",
      "C:\\Users\\xg16060\\Anaconda3\\envs\\cat_embedding\\lib\\site-packages\\sklearn\\preprocessing\\data.py:645: DataConversionWarning: Data with input dtype int32, int64 were all converted to float64 by StandardScaler.\n",
      "  return self.partial_fit(X, y)\n",
      "C:\\Users\\xg16060\\Anaconda3\\envs\\cat_embedding\\lib\\site-packages\\sklearn\\base.py:467: DataConversionWarning: Data with input dtype int32, int64 were all converted to float64 by StandardScaler.\n",
      "  return self.fit(X, y, **fit_params).transform(X)\n",
      "C:\\Users\\xg16060\\Anaconda3\\envs\\cat_embedding\\lib\\site-packages\\sklearn\\preprocessing\\data.py:645: DataConversionWarning: Data with input dtype int32, int64 were all converted to float64 by StandardScaler.\n",
      "  return self.partial_fit(X, y)\n",
      "C:\\Users\\xg16060\\Anaconda3\\envs\\cat_embedding\\lib\\site-packages\\sklearn\\base.py:467: DataConversionWarning: Data with input dtype int32, int64 were all converted to float64 by StandardScaler.\n",
      "  return self.fit(X, y, **fit_params).transform(X)\n",
      "C:\\Users\\xg16060\\Anaconda3\\envs\\cat_embedding\\lib\\site-packages\\sklearn\\pipeline.py:331: DataConversionWarning: Data with input dtype int32, int64 were all converted to float64 by StandardScaler.\n",
      "  Xt = transform.transform(Xt)\n",
      "C:\\Users\\xg16060\\Anaconda3\\envs\\cat_embedding\\lib\\site-packages\\sklearn\\pipeline.py:331: DataConversionWarning: Data with input dtype int32, int64 were all converted to float64 by StandardScaler.\n",
      "  Xt = transform.transform(Xt)\n",
      "C:\\Users\\xg16060\\Anaconda3\\envs\\cat_embedding\\lib\\site-packages\\sklearn\\preprocessing\\data.py:645: DataConversionWarning: Data with input dtype int32, int64 were all converted to float64 by StandardScaler.\n",
      "  return self.partial_fit(X, y)\n",
      "C:\\Users\\xg16060\\Anaconda3\\envs\\cat_embedding\\lib\\site-packages\\sklearn\\base.py:467: DataConversionWarning: Data with input dtype int32, int64 were all converted to float64 by StandardScaler.\n",
      "  return self.fit(X, y, **fit_params).transform(X)\n",
      "C:\\Users\\xg16060\\Anaconda3\\envs\\cat_embedding\\lib\\site-packages\\sklearn\\preprocessing\\data.py:645: DataConversionWarning: Data with input dtype int32, int64 were all converted to float64 by StandardScaler.\n",
      "  return self.partial_fit(X, y)\n",
      "C:\\Users\\xg16060\\Anaconda3\\envs\\cat_embedding\\lib\\site-packages\\sklearn\\base.py:467: DataConversionWarning: Data with input dtype int32, int64 were all converted to float64 by StandardScaler.\n",
      "  return self.fit(X, y, **fit_params).transform(X)\n",
      "C:\\Users\\xg16060\\Anaconda3\\envs\\cat_embedding\\lib\\site-packages\\sklearn\\pipeline.py:331: DataConversionWarning: Data with input dtype int32, int64 were all converted to float64 by StandardScaler.\n",
      "  Xt = transform.transform(Xt)\n",
      "C:\\Users\\xg16060\\Anaconda3\\envs\\cat_embedding\\lib\\site-packages\\sklearn\\pipeline.py:331: DataConversionWarning: Data with input dtype int32, int64 were all converted to float64 by StandardScaler.\n",
      "  Xt = transform.transform(Xt)\n",
      "C:\\Users\\xg16060\\Anaconda3\\envs\\cat_embedding\\lib\\site-packages\\sklearn\\preprocessing\\data.py:645: DataConversionWarning: Data with input dtype int32, int64 were all converted to float64 by StandardScaler.\n",
      "  return self.partial_fit(X, y)\n",
      "C:\\Users\\xg16060\\Anaconda3\\envs\\cat_embedding\\lib\\site-packages\\sklearn\\base.py:467: DataConversionWarning: Data with input dtype int32, int64 were all converted to float64 by StandardScaler.\n",
      "  return self.fit(X, y, **fit_params).transform(X)\n",
      "C:\\Users\\xg16060\\Anaconda3\\envs\\cat_embedding\\lib\\site-packages\\sklearn\\preprocessing\\data.py:645: DataConversionWarning: Data with input dtype int32, int64 were all converted to float64 by StandardScaler.\n",
      "  return self.partial_fit(X, y)\n",
      "C:\\Users\\xg16060\\Anaconda3\\envs\\cat_embedding\\lib\\site-packages\\sklearn\\base.py:467: DataConversionWarning: Data with input dtype int32, int64 were all converted to float64 by StandardScaler.\n",
      "  return self.fit(X, y, **fit_params).transform(X)\n",
      "C:\\Users\\xg16060\\Anaconda3\\envs\\cat_embedding\\lib\\site-packages\\sklearn\\pipeline.py:331: DataConversionWarning: Data with input dtype int32, int64 were all converted to float64 by StandardScaler.\n",
      "  Xt = transform.transform(Xt)\n",
      "C:\\Users\\xg16060\\Anaconda3\\envs\\cat_embedding\\lib\\site-packages\\sklearn\\pipeline.py:331: DataConversionWarning: Data with input dtype int32, int64 were all converted to float64 by StandardScaler.\n",
      "  Xt = transform.transform(Xt)\n"
     ]
    },
    {
     "name": "stdout",
     "output_type": "stream",
     "text": [
      "P-value: 0.182, t-Statistic: 1.551\n"
     ]
    }
   ],
   "source": [
    "from sklearn.model_selection import cross_val_score\n",
    "from numpy import mean, std\n",
    "from mlxtend.evaluate import paired_ttest_5x2cv\n",
    "\n",
    "#cv=RepeatedStratifiedKFold(n_splits=10, n_repeats=3, random_state=1)\n",
    "#scores1 = cross_val_score(pipe_erf, X_train, y_train, scoring = 'accuracy', cv = cv1, n_jobs = -1)\n",
    "\n",
    "# check if difference between algorithms is real\n",
    "#t, p = paired_ttest_5x2cv(estimator1=pipe_rf, estimator2=pipe_erf,X=X_train,y=y_train, scoring='roc_auc', random_seed=1)\n",
    "t, p = paired_ttest_5x2cv(estimator1=pipe_rf, estimator2=pipe_erf,X=X_test,y=y_test, scoring='accuracy', random_seed=1)#0.001 t-statistic 7.651\n",
    "\n",
    "# summarize\n",
    "print('P-value: %.3f, t-Statistic: %.3f' % (p, t))"
   ]
  },
  {
   "cell_type": "code",
   "execution_count": 24,
   "metadata": {},
   "outputs": [
    {
     "data": {
      "application/vnd.jupyter.widget-view+json": {
       "model_id": "16da6d21f3524b768e8357588c66ce79",
       "version_major": 2,
       "version_minor": 0
      },
      "text/plain": [
       "HBox(children=(IntProgress(value=1, bar_style='info', max=1), HTML(value='')))"
      ]
     },
     "metadata": {},
     "output_type": "display_data"
    },
    {
     "name": "stdout",
     "output_type": "stream",
     "text": [
      "\n"
     ]
    },
    {
     "ename": "NameError",
     "evalue": "name 'model' is not defined",
     "output_type": "error",
     "traceback": [
      "\u001b[1;31m---------------------------------------------------------------------------\u001b[0m",
      "\u001b[1;31mNameError\u001b[0m                                 Traceback (most recent call last)",
      "\u001b[1;32m<ipython-input-24-7d773b53b1e2>\u001b[0m in \u001b[0;36m<module>\u001b[1;34m\u001b[0m\n\u001b[0;32m      1\u001b[0m \u001b[0mpredict_w_val\u001b[0m\u001b[1;33m=\u001b[0m \u001b[0mpipe\u001b[0m\u001b[1;33m.\u001b[0m\u001b[0mpredict_proba\u001b[0m\u001b[1;33m(\u001b[0m\u001b[0mX_val\u001b[0m\u001b[1;33m)\u001b[0m \u001b[1;31m#[np.argmax(i) for i in pipe.predict_proba(X_test)]\u001b[0m\u001b[1;33m\u001b[0m\u001b[1;33m\u001b[0m\u001b[0m\n\u001b[0;32m      2\u001b[0m \u001b[0mprediction_rf_val\u001b[0m\u001b[1;33m=\u001b[0m \u001b[0mpipe_rf\u001b[0m\u001b[1;33m.\u001b[0m\u001b[0mpredict_proba\u001b[0m\u001b[1;33m(\u001b[0m\u001b[0mX_val\u001b[0m\u001b[1;33m)\u001b[0m \u001b[1;31m#[np.argmax(i) for i in pipe.predict_proba(X_test)]\u001b[0m\u001b[1;33m\u001b[0m\u001b[1;33m\u001b[0m\u001b[0m\n\u001b[1;32m----> 3\u001b[1;33m \u001b[0mpred_n_val\u001b[0m \u001b[1;33m=\u001b[0m \u001b[0mmodel\u001b[0m\u001b[1;33m.\u001b[0m\u001b[0mpredict\u001b[0m\u001b[1;33m(\u001b[0m\u001b[1;33m[\u001b[0m\u001b[0mX_val_transformed\u001b[0m\u001b[1;33m]\u001b[0m\u001b[1;33m)\u001b[0m\u001b[1;33m\u001b[0m\u001b[1;33m\u001b[0m\u001b[0m\n\u001b[0m",
      "\u001b[1;31mNameError\u001b[0m: name 'model' is not defined"
     ]
    }
   ],
   "source": [
    "predict_w_val= pipe.predict_proba(X_val) #[np.argmax(i) for i in pipe.predict_proba(X_test)]\n",
    "prediction_rf_val= pipe_rf.predict_proba(X_val) #[np.argmax(i) for i in pipe.predict_proba(X_test)]\n",
    "pred_n_val = model.predict([X_val_transformed])\n"
   ]
  },
  {
   "cell_type": "code",
   "execution_count": 313,
   "metadata": {},
   "outputs": [],
   "source": [
    "# Validation"
   ]
  },
  {
   "cell_type": "code",
   "execution_count": 64,
   "metadata": {},
   "outputs": [
    {
     "name": "stdout",
     "output_type": "stream",
     "text": [
      "0.5429551195855352 0.5570828214968483 0.5737954888261708\n"
     ]
    }
   ],
   "source": [
    "from scipy.stats import ks_2samp\n",
    "from sklearn.metrics import precision_recall_curve, auc,f1_score\n",
    "\n",
    "\n",
    "prec_n,rec_n,thressholds_n= precision_recall_curve(y_val,pred_n_val[:,1])\n",
    "prec_w,rec_w,thressholds_w= precision_recall_curve(y_val,predict_w_val[:,1])\n",
    "prec_rf,rec_rf,thressholds_rf= precision_recall_curve(y_val,prediction_rf_val[:,1])\n",
    "\n",
    "auc_n = auc(rec_n, prec_n)\n",
    "auc_w = auc(rec_w, prec_w)\n",
    "auc_rf = auc(rec_rf, prec_rf)\n",
    "\n",
    "print(auc_n,auc_w,auc_rf)\n",
    "\n",
    "auc_n = auc(rec_n, prec_n)\n",
    "auc_w = auc(rec_w, prec_w)\n",
    "auc_rf = auc(rec_rf, prec_rf)\n"
   ]
  },
  {
   "cell_type": "code",
   "execution_count": 56,
   "metadata": {
    "scrolled": true
   },
   "outputs": [
    {
     "data": {
      "image/png": "[encoded data removed]",
      "text/plain": [
       "<Figure size 576x576 with 1 Axes>"
      ]
     },
     "metadata": {
      "needs_background": "light"
     },
     "output_type": "display_data"
    },
    {
     "data": {
      "image/png": "[encoded data removed]",
      "text/plain": [
       "<Figure size 576x576 with 1 Axes>"
      ]
     },
     "metadata": {
      "needs_background": "light"
     },
     "output_type": "display_data"
    },
    {
     "data": {
      "image/png": "[encoded data removed]",
      "text/plain": [
       "<Figure size 576x576 with 1 Axes>"
      ]
     },
     "metadata": {
      "needs_background": "light"
     },
     "output_type": "display_data"
    }
   ],
   "source": [
    "import matplotlib.pyplot as plt\n",
    "\n",
    "def plot_precision_recall_vs_threshold(precisions, recalls, thresholds):\n",
    "    \"\"\"\n",
    "    Modified from:\n",
    "    Hands-On Machine learning with Scikit-Learn\n",
    "    and TensorFlow; p.89\n",
    "    \"\"\"\n",
    "    plt.figure(figsize=(8, 8))\n",
    "    plt.title(\"Precision and Recall Scores as a function of the decision threshold\")\n",
    "    plt.plot(thresholds, precisions[:-1], \"b--\", label=\"Precision\")\n",
    "    plt.plot(thresholds, recalls[:-1], \"g-\", label=\"Recall\")\n",
    "    plt.ylabel(\"Score\")\n",
    "    plt.xlabel(\"Decision Threshold\")\n",
    "    plt.legend(loc='best')\n",
    "\n",
    "plot_precision_recall_vs_threshold(prec_rf,rec_rf,thressholds_rf)\n",
    "plot_precision_recall_vs_threshold(prec_w,rec_w,thressholds_w)\n",
    "plot_precision_recall_vs_threshold(prec_n,rec_n,thressholds_n)\n"
   ]
  },
  {
   "cell_type": "code",
   "execution_count": 57,
   "metadata": {},
   "outputs": [
    {
     "data": {
      "application/vnd.jupyter.widget-view+json": {
       "model_id": "7127ff36115b4ab99a1b380ef0083124",
       "version_major": 2,
       "version_minor": 0
      },
      "text/plain": [
       "HBox(children=(IntProgress(value=1, bar_style='info', max=1), HTML(value='')))"
      ]
     },
     "metadata": {},
     "output_type": "display_data"
    },
    {
     "name": "stdout",
     "output_type": "stream",
     "text": [
      "\n"
     ]
    }
   ],
   "source": [
    "pred_n = model.predict([X_test_transformed])\n",
    "pred_w = pipe.predict_proba(X_test)\n",
    "prediction_rf = pipe_rf.predict_proba(X_test)"
   ]
  },
  {
   "cell_type": "code",
   "execution_count": 58,
   "metadata": {},
   "outputs": [
    {
     "name": "stdout",
     "output_type": "stream",
     "text": [
      "Ks_2sampResult(statistic=0.17991429361349187, pvalue=8.195620083628961e-204)\n",
      "Ks_2sampResult(statistic=0.2858031517832458, pvalue=0.0)\n"
     ]
    },
    {
     "data": {
      "image/png": "[encoded data removed]",
      "text/plain": [
       "<Figure size 432x288 with 1 Axes>"
      ]
     },
     "metadata": {
      "needs_background": "light"
     },
     "output_type": "display_data"
    }
   ],
   "source": [
    "plt.hist(pred_n[:,1])\n",
    "plt.hist(pred_w[:,1])\n",
    "plt.hist(prediction_rf[:,1])\n",
    "\n",
    "#different distributions\n",
    "print(ks_2samp(pred_n[:,1],pred_w[:,1]))\n",
    "print(ks_2samp(pred_n[:,1],prediction_rf[:,1]))\n"
   ]
  },
  {
   "cell_type": "code",
   "execution_count": 67,
   "metadata": {},
   "outputs": [
    {
     "name": "stdout",
     "output_type": "stream",
     "text": [
      "0.5632723458532698 0.5671018987801557 0.5851355676897843\n"
     ]
    }
   ],
   "source": [
    "from scipy.stats import ks_2samp\n",
    "from sklearn.metrics import precision_recall_curve, auc,f1_score\n",
    "\n",
    "\n",
    "prec_n_t,rec_n_t,thressholds_n= precision_recall_curve(y_test,pred_n[:,1])\n",
    "prec_w_t,rec_w_t,thressholds_w= precision_recall_curve(y_test,pred_w[:,1])\n",
    "prec_rf_t,rec_rf_t,thressholds_rf= precision_recall_curve(y_test,prediction_rf[:,1])\n",
    "\n",
    "auc_n_t = auc(rec_n_t, prec_n_t)\n",
    "auc_w_t = auc(rec_w_t, prec_w_t)\n",
    "auc_rf_t = auc(rec_rf_t, prec_rf_t)\n",
    "\n",
    "\n",
    "auc_n_t = auc(rec_n_t, prec_n_t)\n",
    "auc_w_t = auc(rec_w_t, prec_w_t)\n",
    "auc_rf_t = auc(rec_rf_t, prec_rf_t)\n",
    "print(auc_n_t,auc_w_t,auc_rf_t)\n",
    "\n",
    "\n"
   ]
  },
  {
   "cell_type": "code",
   "execution_count": 59,
   "metadata": {},
   "outputs": [],
   "source": [
    "prd = (prediction_rf[:,1]>0.4)\n",
    "prd2 = (pred_w[:,1]>0.4)\n",
    "prd3 = (pred_n[:,1]>0.57)"
   ]
  },
  {
   "cell_type": "code",
   "execution_count": 52,
   "metadata": {},
   "outputs": [
    {
     "name": "stdout",
     "output_type": "stream",
     "text": [
      "0.41188304357581307\n",
      "0.5304889510222498\n",
      "0.5571804642677307\n"
     ]
    }
   ],
   "source": [
    "print(np.quantile(prediction_rf[:,1],0.95))\n",
    "print(np.quantile(pred_w[:,1],0.95))\n",
    "print(np.quantile(pred_n[:,1],0.95))"
   ]
  },
  {
   "cell_type": "code",
   "execution_count": null,
   "metadata": {},
   "outputs": [],
   "source": [
    "from sklearn.metrics import confusion_matrix, classification_report, precision_recall_curve\n",
    "\n",
    "print(confusion_matrix(y_test,prd))\n",
    "print(confusion_matrix(y_test,prd2))\n",
    "print(confusion_matrix(y_test,prd3))\n",
    "\n",
    "print(classification_report(y_test,prd))\n",
    "\n",
    "print(classification_report(y_test,prd2))\n",
    "print(classification_report(y_test,prd3))\n",
    "\n",
    "\n"
   ]
  },
  {
   "cell_type": "code",
   "execution_count": 61,
   "metadata": {},
   "outputs": [
    {
     "name": "stdout",
     "output_type": "stream",
     "text": [
      "[[12789   207]\n",
      " [  259  1213]]\n",
      "statistic=207.000, p-value=0.018\n",
      "Different proportions of errors (reject H0)\n"
     ]
    }
   ],
   "source": [
    "# Example of calculating the mcnemar test\n",
    "import numpy as np\n",
    "from mlxtend.evaluate import mcnemar_table\n",
    "\n",
    "\n",
    "\n",
    "# The correct target (class) labels\n",
    "y_target = np.array(y_test)\n",
    "\n",
    "# Class labels predicted by model 1\n",
    "y_model1 = np.array(prd)\n",
    "\n",
    "# Class labels predicted by model 2\n",
    "y_model2 = np.array(prd2)\n",
    "\n",
    "tb = mcnemar_table(y_target=y_target, \n",
    "                   y_model1=y_model1, \n",
    "                   y_model2=y_model2)\n",
    "\n",
    "print(tb)\n",
    "\n",
    "\n",
    "from statsmodels.stats.contingency_tables import mcnemar\n",
    "# define contingency table\n",
    "table = tb\n",
    "# calculate mcnemar test\n",
    "result = mcnemar(table, exact=True)\n",
    "# summarize the finding\n",
    "print('statistic=%.3f, p-value=%.3f' % (result.statistic, result.pvalue))\n",
    "# interpret the p-value\n",
    "alpha = 0.05\n",
    "if result.pvalue > alpha:\n",
    "\tprint('Same proportions of errors (fail to reject H0)')\n",
    "else:\n",
    "\tprint('Different proportions of errors (reject H0)')\n",
    "\n",
    "\n",
    "\n"
   ]
  },
  {
   "cell_type": "code",
   "execution_count": 8,
   "metadata": {},
   "outputs": [
    {
     "name": "stderr",
     "output_type": "stream",
     "text": [
      "C:\\Users\\Stefano\\.conda\\envs\\base2\\lib\\site-packages\\sklearn\\base.py:213: FutureWarning: From version 0.24, get_params will raise an AttributeError if a parameter cannot be retrieved as an instance attribute. Previously it would return None.\n",
      "  FutureWarning)\n"
     ]
    },
    {
     "data": {
      "application/vnd.jupyter.widget-view+json": {
       "model_id": "119c008236574487b77cd927f645d05a",
       "version_major": 2,
       "version_minor": 0
      },
      "text/plain": [
       "HBox(children=(IntProgress(value=0, max=200), HTML(value='')))"
      ]
     },
     "metadata": {},
     "output_type": "display_data"
    },
    {
     "name": "stdout",
     "output_type": "stream",
     "text": [
      "\n"
     ]
    },
    {
     "data": {
      "application/vnd.jupyter.widget-view+json": {
       "model_id": "1bf3cfa773a74668af56069b7bb8ba2e",
       "version_major": 2,
       "version_minor": 0
      },
      "text/plain": [
       "HBox(children=(IntProgress(value=0, max=200), HTML(value='')))"
      ]
     },
     "metadata": {},
     "output_type": "display_data"
    },
    {
     "name": "stderr",
     "output_type": "stream",
     "text": [
      "Computing transition probabilities: 100%|██████████████████████████████████████████████| 55/55 [00:00<00:00, 88.66it/s]\n",
      "Generating walks (CPU: 1): 100%|███████████████████████████████████████████████████████| 50/50 [00:00<00:00, 60.47it/s]\n",
      "Computing transition probabilities: 100%|██████████████████████████████████████████████| 61/61 [00:01<00:00, 47.30it/s]\n",
      "Generating walks (CPU: 1): 100%|███████████████████████████████████████████████████████| 50/50 [00:00<00:00, 61.82it/s]\n",
      "Computing transition probabilities: 100%|█████████████████████████████████████████████| 48/48 [00:00<00:00, 113.78it/s]\n",
      "Generating walks (CPU: 1): 100%|███████████████████████████████████████████████████████| 50/50 [00:00<00:00, 81.12it/s]\n",
      "Computing transition probabilities: 100%|██████████████████████████████████████████████| 56/56 [00:00<00:00, 94.50it/s]\n",
      "Generating walks (CPU: 1): 100%|███████████████████████████████████████████████████████| 50/50 [00:00<00:00, 70.51it/s]\n",
      "Computing transition probabilities: 100%|█████████████████████████████████████████████| 48/48 [00:00<00:00, 112.71it/s]\n",
      "Generating walks (CPU: 1): 100%|███████████████████████████████████████████████████████| 50/50 [00:00<00:00, 81.52it/s]\n",
      "Computing transition probabilities: 100%|██████████████████████████████████████████████| 50/50 [00:00<00:00, 92.50it/s]\n",
      "Generating walks (CPU: 1): 100%|███████████████████████████████████████████████████████| 50/50 [00:00<00:00, 62.59it/s]\n",
      "Computing transition probabilities: 100%|██████████████████████████████████████████████| 57/57 [00:00<00:00, 79.05it/s]\n",
      "Generating walks (CPU: 1): 100%|███████████████████████████████████████████████████████| 50/50 [00:00<00:00, 62.82it/s]\n",
      "Computing transition probabilities: 100%|█████████████████████████████████████████████| 49/49 [00:00<00:00, 111.16it/s]\n",
      "Generating walks (CPU: 1): 100%|███████████████████████████████████████████████████████| 50/50 [00:00<00:00, 79.20it/s]\n",
      "Computing transition probabilities: 100%|██████████████████████████████████████████████| 60/60 [00:00<00:00, 73.64it/s]\n",
      "Generating walks (CPU: 1): 100%|███████████████████████████████████████████████████████| 50/50 [00:00<00:00, 67.20it/s]\n",
      "Computing transition probabilities: 100%|█████████████████████████████████████████████| 54/54 [00:00<00:00, 101.02it/s]\n",
      "Generating walks (CPU: 1): 100%|███████████████████████████████████████████████████████| 50/50 [00:00<00:00, 60.92it/s]\n",
      "Computing transition probabilities: 100%|██████████████████████████████████████████████| 48/48 [00:00<00:00, 94.37it/s]\n",
      "Generating walks (CPU: 1): 100%|███████████████████████████████████████████████████████| 50/50 [00:00<00:00, 77.73it/s]\n",
      "Computing transition probabilities: 100%|██████████████████████████████████████████████| 52/52 [00:00<00:00, 81.09it/s]\n",
      "Generating walks (CPU: 1): 100%|███████████████████████████████████████████████████████| 50/50 [00:00<00:00, 64.77it/s]\n",
      "Computing transition probabilities: 100%|██████████████████████████████████████████████| 60/60 [00:00<00:00, 73.55it/s]\n",
      "Generating walks (CPU: 1): 100%|███████████████████████████████████████████████████████| 50/50 [00:00<00:00, 61.51it/s]\n",
      "Computing transition probabilities: 100%|█████████████████████████████████████████████| 48/48 [00:00<00:00, 119.72it/s]\n",
      "Generating walks (CPU: 1): 100%|███████████████████████████████████████████████████████| 50/50 [00:00<00:00, 70.41it/s]\n",
      "Computing transition probabilities: 100%|█████████████████████████████████████████████| 46/46 [00:00<00:00, 118.26it/s]\n",
      "Generating walks (CPU: 1): 100%|███████████████████████████████████████████████████████| 50/50 [00:00<00:00, 87.34it/s]\n",
      "Computing transition probabilities: 100%|██████████████████████████████████████████████| 51/51 [00:00<00:00, 85.23it/s]\n",
      "Generating walks (CPU: 1): 100%|███████████████████████████████████████████████████████| 50/50 [00:00<00:00, 71.01it/s]\n",
      "Computing transition probabilities: 100%|██████████████████████████████████████████████| 55/55 [00:00<00:00, 67.25it/s]\n",
      "Generating walks (CPU: 1): 100%|███████████████████████████████████████████████████████| 50/50 [00:00<00:00, 60.11it/s]\n",
      "Computing transition probabilities: 100%|█████████████████████████████████████████████| 50/50 [00:00<00:00, 107.81it/s]\n",
      "Generating walks (CPU: 1): 100%|███████████████████████████████████████████████████████| 50/50 [00:00<00:00, 58.23it/s]\n",
      "Computing transition probabilities: 100%|██████████████████████████████████████████████| 63/63 [00:01<00:00, 59.48it/s]\n",
      "Generating walks (CPU: 1): 100%|███████████████████████████████████████████████████████| 50/50 [00:00<00:00, 61.67it/s]\n",
      "Computing transition probabilities: 100%|█████████████████████████████████████████████| 44/44 [00:00<00:00, 125.33it/s]\n",
      "Generating walks (CPU: 1): 100%|███████████████████████████████████████████████████████| 50/50 [00:00<00:00, 89.68it/s]\n",
      "Computing transition probabilities: 100%|██████████████████████████████████████████████| 52/52 [00:00<00:00, 83.56it/s]\n",
      "Generating walks (CPU: 1): 100%|███████████████████████████████████████████████████████| 50/50 [00:00<00:00, 70.65it/s]\n",
      "Computing transition probabilities: 100%|█████████████████████████████████████████████| 51/51 [00:00<00:00, 103.31it/s]\n",
      "Generating walks (CPU: 1): 100%|███████████████████████████████████████████████████████| 50/50 [00:00<00:00, 56.58it/s]\n",
      "Computing transition probabilities: 100%|██████████████████████████████████████████████| 61/61 [00:01<00:00, 37.85it/s]\n",
      "Generating walks (CPU: 1): 100%|███████████████████████████████████████████████████████| 50/50 [00:00<00:00, 54.97it/s]\n",
      "Computing transition probabilities: 100%|█████████████████████████████████████████████| 45/45 [00:00<00:00, 121.29it/s]\n",
      "Generating walks (CPU: 1): 100%|███████████████████████████████████████████████████████| 50/50 [00:00<00:00, 88.89it/s]\n",
      "Computing transition probabilities: 100%|██████████████████████████████████████████████| 55/55 [00:00<00:00, 90.85it/s]\n",
      "Generating walks (CPU: 1): 100%|███████████████████████████████████████████████████████| 50/50 [00:00<00:00, 72.97it/s]\n",
      "Computing transition probabilities: 100%|█████████████████████████████████████████████| 53/53 [00:00<00:00, 114.04it/s]\n",
      "Generating walks (CPU: 1): 100%|███████████████████████████████████████████████████████| 50/50 [00:00<00:00, 60.47it/s]\n",
      "Computing transition probabilities: 100%|██████████████████████████████████████████████| 50/50 [00:00<00:00, 85.55it/s]\n",
      "Generating walks (CPU: 1): 100%|███████████████████████████████████████████████████████| 50/50 [00:00<00:00, 67.75it/s]\n",
      "Computing transition probabilities: 100%|██████████████████████████████████████████████| 59/59 [00:01<00:00, 56.61it/s]\n",
      "Generating walks (CPU: 1): 100%|███████████████████████████████████████████████████████| 50/50 [00:00<00:00, 58.84it/s]\n",
      "Computing transition probabilities: 100%|██████████████████████████████████████████████| 50/50 [00:00<00:00, 91.15it/s]\n",
      "Generating walks (CPU: 1): 100%|███████████████████████████████████████████████████████| 50/50 [00:00<00:00, 66.58it/s]\n",
      "Computing transition probabilities: 100%|██████████████████████████████████████████████| 59/59 [00:01<00:00, 58.57it/s]\n",
      "Generating walks (CPU: 1): 100%|███████████████████████████████████████████████████████| 50/50 [00:00<00:00, 56.39it/s]\n",
      "Computing transition probabilities: 100%|██████████████████████████████████████████████| 58/58 [00:00<00:00, 77.85it/s]\n",
      "Generating walks (CPU: 1): 100%|███████████████████████████████████████████████████████| 50/50 [00:00<00:00, 68.49it/s]\n",
      "Computing transition probabilities: 100%|██████████████████████████████████████████████| 59/59 [00:00<00:00, 65.51it/s]\n",
      "Generating walks (CPU: 1): 100%|███████████████████████████████████████████████████████| 50/50 [00:00<00:00, 60.92it/s]\n",
      "Computing transition probabilities: 100%|█████████████████████████████████████████████| 42/42 [00:00<00:00, 150.92it/s]\n",
      "Generating walks (CPU: 1): 100%|██████████████████████████████████████████████████████| 50/50 [00:00<00:00, 104.66it/s]\n",
      "Computing transition probabilities: 100%|██████████████████████████████████████████████| 54/54 [00:00<00:00, 68.97it/s]\n",
      "Generating walks (CPU: 1): 100%|███████████████████████████████████████████████████████| 50/50 [00:00<00:00, 71.21it/s]\n",
      "Computing transition probabilities: 100%|██████████████████████████████████████████████| 55/55 [00:00<00:00, 84.07it/s]\n",
      "Generating walks (CPU: 1): 100%|███████████████████████████████████████████████████████| 50/50 [00:00<00:00, 62.98it/s]\n",
      "Computing transition probabilities: 100%|██████████████████████████████████████████████| 52/52 [00:00<00:00, 97.27it/s]\n",
      "Generating walks (CPU: 1): 100%|███████████████████████████████████████████████████████| 50/50 [00:00<00:00, 73.96it/s]\n",
      "Computing transition probabilities: 100%|██████████████████████████████████████████████| 46/46 [00:00<00:00, 87.85it/s]\n",
      "Generating walks (CPU: 1): 100%|███████████████████████████████████████████████████████| 50/50 [00:00<00:00, 87.34it/s]\n",
      "Computing transition probabilities: 100%|█████████████████████████████████████████████| 48/48 [00:00<00:00, 116.25it/s]\n",
      "Generating walks (CPU: 1): 100%|███████████████████████████████████████████████████████| 50/50 [00:00<00:00, 58.50it/s]\n",
      "Computing transition probabilities: 100%|█████████████████████████████████████████████| 52/52 [00:00<00:00, 104.91it/s]\n",
      "Generating walks (CPU: 1): 100%|███████████████████████████████████████████████████████| 50/50 [00:00<00:00, 80.47it/s]\n",
      "Computing transition probabilities: 100%|██████████████████████████████████████████████| 53/53 [00:00<00:00, 86.98it/s]\n",
      "Generating walks (CPU: 1): 100%|███████████████████████████████████████████████████████| 50/50 [00:00<00:00, 71.01it/s]\n",
      "Computing transition probabilities: 100%|██████████████████████████████████████████████| 62/62 [00:00<00:00, 71.37it/s]\n",
      "Generating walks (CPU: 1): 100%|███████████████████████████████████████████████████████| 50/50 [00:00<00:00, 66.93it/s]\n",
      "Computing transition probabilities: 100%|██████████████████████████████████████████████| 58/58 [00:00<00:00, 70.15it/s]\n",
      "Generating walks (CPU: 1): 100%|███████████████████████████████████████████████████████| 50/50 [00:00<00:00, 52.39it/s]\n",
      "Computing transition probabilities: 100%|██████████████████████████████████████████████| 58/58 [00:00<00:00, 60.64it/s]\n",
      "Generating walks (CPU: 1): 100%|███████████████████████████████████████████████████████| 50/50 [00:00<00:00, 61.67it/s]\n",
      "Computing transition probabilities: 100%|█████████████████████████████████████████████| 51/51 [00:00<00:00, 103.31it/s]\n",
      "Generating walks (CPU: 1): 100%|███████████████████████████████████████████████████████| 50/50 [00:00<00:00, 79.08it/s]\n",
      "Computing transition probabilities: 100%|█████████████████████████████████████████████| 53/53 [00:00<00:00, 108.23it/s]\n",
      "Generating walks (CPU: 1): 100%|███████████████████████████████████████████████████████| 50/50 [00:00<00:00, 81.12it/s]\n",
      "Computing transition probabilities: 100%|█████████████████████████████████████████████| 52/52 [00:00<00:00, 104.70it/s]\n",
      "Generating walks (CPU: 1): 100%|███████████████████████████████████████████████████████| 50/50 [00:00<00:00, 57.89it/s]\n",
      "Computing transition probabilities: 100%|██████████████████████████████████████████████| 53/53 [00:00<00:00, 88.28it/s]\n",
      "Generating walks (CPU: 1): 100%|███████████████████████████████████████████████████████| 50/50 [00:00<00:00, 67.47it/s]\n",
      "Computing transition probabilities: 100%|██████████████████████████████████████████████| 60/60 [00:00<00:00, 60.28it/s]\n",
      "Generating walks (CPU: 1): 100%|███████████████████████████████████████████████████████| 50/50 [00:00<00:00, 63.62it/s]\n",
      "Computing transition probabilities: 100%|█████████████████████████████████████████████| 45/45 [00:00<00:00, 131.55it/s]\n",
      "Generating walks (CPU: 1): 100%|███████████████████████████████████████████████████████| 50/50 [00:00<00:00, 96.00it/s]\n",
      "Computing transition probabilities: 100%|██████████████████████████████████████████████| 50/50 [00:00<00:00, 98.11it/s]\n",
      "Generating walks (CPU: 1): 100%|███████████████████████████████████████████████████████| 50/50 [00:00<00:00, 57.56it/s]\n",
      "Computing transition probabilities: 100%|█████████████████████████████████████████████| 53/53 [00:00<00:00, 104.40it/s]\n",
      "Generating walks (CPU: 1): 100%|███████████████████████████████████████████████████████| 50/50 [00:00<00:00, 69.34it/s]\n",
      "Computing transition probabilities: 100%|██████████████████████████████████████████████| 52/52 [00:00<00:00, 94.80it/s]\n",
      "Generating walks (CPU: 1): 100%|███████████████████████████████████████████████████████| 50/50 [00:00<00:00, 75.05it/s]\n",
      "Computing transition probabilities: 100%|█████████████████████████████████████████████| 45/45 [00:00<00:00, 127.82it/s]\n",
      "Generating walks (CPU: 1): 100%|███████████████████████████████████████████████████████| 50/50 [00:00<00:00, 85.55it/s]\n",
      "Computing transition probabilities: 100%|██████████████████████████████████████████████| 52/52 [00:00<00:00, 87.34it/s]\n",
      "Generating walks (CPU: 1): 100%|███████████████████████████████████████████████████████| 50/50 [00:00<00:00, 69.63it/s]\n",
      "Computing transition probabilities: 100%|██████████████████████████████████████████████| 52/52 [00:00<00:00, 68.97it/s]\n",
      "Generating walks (CPU: 1): 100%|███████████████████████████████████████████████████████| 50/50 [00:00<00:00, 78.21it/s]\n",
      "Computing transition probabilities: 100%|██████████████████████████████████████████████| 58/58 [00:00<00:00, 80.88it/s]\n",
      "Generating walks (CPU: 1): 100%|███████████████████████████████████████████████████████| 50/50 [00:00<00:00, 67.02it/s]\n",
      "Computing transition probabilities: 100%|█████████████████████████████████████████████| 50/50 [00:00<00:00, 128.55it/s]\n",
      "Generating walks (CPU: 1): 100%|███████████████████████████████████████████████████████| 50/50 [00:00<00:00, 85.26it/s]\n",
      "Computing transition probabilities: 100%|██████████████████████████████████████████████| 59/59 [00:00<00:00, 73.30it/s]\n",
      "Generating walks (CPU: 1): 100%|███████████████████████████████████████████████████████| 50/50 [00:00<00:00, 54.08it/s]\n",
      "Computing transition probabilities: 100%|██████████████████████████████████████████████| 54/54 [00:00<00:00, 60.91it/s]\n",
      "Generating walks (CPU: 1): 100%|███████████████████████████████████████████████████████| 50/50 [00:00<00:00, 61.82it/s]\n",
      "Computing transition probabilities: 100%|██████████████████████████████████████████████| 56/56 [00:00<00:00, 85.08it/s]\n",
      "Generating walks (CPU: 1): 100%|███████████████████████████████████████████████████████| 50/50 [00:00<00:00, 67.75it/s]\n",
      "Computing transition probabilities: 100%|██████████████████████████████████████████████| 52/52 [00:00<00:00, 95.32it/s]\n",
      "Generating walks (CPU: 1): 100%|███████████████████████████████████████████████████████| 50/50 [00:00<00:00, 76.42it/s]\n",
      "Computing transition probabilities: 100%|██████████████████████████████████████████████| 54/54 [00:00<00:00, 88.33it/s]\n",
      "Generating walks (CPU: 1): 100%|███████████████████████████████████████████████████████| 50/50 [00:00<00:00, 75.50it/s]\n",
      "Computing transition probabilities: 100%|██████████████████████████████████████████████| 62/62 [00:01<00:00, 49.03it/s]\n",
      "Generating walks (CPU: 1): 100%|███████████████████████████████████████████████████████| 50/50 [00:00<00:00, 53.50it/s]\n",
      "Computing transition probabilities: 100%|█████████████████████████████████████████████| 49/49 [00:00<00:00, 116.70it/s]\n",
      "Generating walks (CPU: 1): 100%|███████████████████████████████████████████████████████| 50/50 [00:00<00:00, 85.26it/s]\n",
      "Computing transition probabilities: 100%|██████████████████████████████████████████████| 59/59 [00:00<00:00, 68.71it/s]\n",
      "Generating walks (CPU: 1): 100%|███████████████████████████████████████████████████████| 50/50 [00:01<00:00, 47.39it/s]\n",
      "Computing transition probabilities: 100%|██████████████████████████████████████████████| 46/46 [00:00<00:00, 74.88it/s]\n",
      "Generating walks (CPU: 1): 100%|███████████████████████████████████████████████████████| 50/50 [00:00<00:00, 54.79it/s]\n",
      "Computing transition probabilities: 100%|██████████████████████████████████████████████| 45/45 [00:00<00:00, 89.17it/s]\n",
      "Generating walks (CPU: 1): 100%|███████████████████████████████████████████████████████| 50/50 [00:00<00:00, 63.46it/s]\n",
      "Computing transition probabilities: 100%|██████████████████████████████████████████████| 52/52 [00:00<00:00, 88.37it/s]\n",
      "Generating walks (CPU: 1): 100%|███████████████████████████████████████████████████████| 50/50 [00:00<00:00, 72.24it/s]\n"
     ]
    },
    {
     "name": "stderr",
     "output_type": "stream",
     "text": [
      "Computing transition probabilities: 100%|██████████████████████████████████████████████| 58/58 [00:00<00:00, 86.92it/s]\n",
      "Generating walks (CPU: 1): 100%|███████████████████████████████████████████████████████| 50/50 [00:00<00:00, 66.14it/s]\n",
      "Computing transition probabilities: 100%|██████████████████████████████████████████████| 57/57 [00:00<00:00, 82.00it/s]\n",
      "Generating walks (CPU: 1): 100%|███████████████████████████████████████████████████████| 50/50 [00:01<00:00, 48.72it/s]\n",
      "Computing transition probabilities: 100%|██████████████████████████████████████████████| 58/58 [00:00<00:00, 67.15it/s]\n",
      "Generating walks (CPU: 1): 100%|███████████████████████████████████████████████████████| 50/50 [00:00<00:00, 50.59it/s]\n",
      "Computing transition probabilities: 100%|██████████████████████████████████████████████| 53/53 [00:00<00:00, 74.74it/s]\n",
      "Generating walks (CPU: 1): 100%|███████████████████████████████████████████████████████| 50/50 [00:00<00:00, 71.42it/s]\n",
      "Computing transition probabilities: 100%|██████████████████████████████████████████████| 61/61 [00:00<00:00, 65.07it/s]\n",
      "Generating walks (CPU: 1): 100%|███████████████████████████████████████████████████████| 50/50 [00:00<00:00, 52.77it/s]\n",
      "Computing transition probabilities: 100%|██████████████████████████████████████████████| 54/54 [00:00<00:00, 73.07it/s]\n",
      "Generating walks (CPU: 1): 100%|███████████████████████████████████████████████████████| 50/50 [00:00<00:00, 59.78it/s]\n",
      "Computing transition probabilities: 100%|██████████████████████████████████████████████| 56/56 [00:00<00:00, 75.78it/s]\n",
      "Generating walks (CPU: 1): 100%|███████████████████████████████████████████████████████| 50/50 [00:00<00:00, 68.30it/s]\n",
      "Computing transition probabilities: 100%|██████████████████████████████████████████████| 54/54 [00:00<00:00, 69.06it/s]\n",
      "Generating walks (CPU: 1): 100%|███████████████████████████████████████████████████████| 50/50 [00:00<00:00, 63.22it/s]\n",
      "Computing transition probabilities: 100%|██████████████████████████████████████████████| 51/51 [00:00<00:00, 56.63it/s]\n",
      "Generating walks (CPU: 1): 100%|███████████████████████████████████████████████████████| 50/50 [00:00<00:00, 76.42it/s]\n",
      "Computing transition probabilities: 100%|██████████████████████████████████████████████| 62/62 [00:01<00:00, 56.72it/s]\n",
      "Generating walks (CPU: 1): 100%|███████████████████████████████████████████████████████| 50/50 [00:00<00:00, 58.16it/s]\n",
      "Computing transition probabilities: 100%|█████████████████████████████████████████████| 48/48 [00:00<00:00, 105.55it/s]\n",
      "Generating walks (CPU: 1): 100%|███████████████████████████████████████████████████████| 50/50 [00:00<00:00, 87.80it/s]\n",
      "Computing transition probabilities: 100%|██████████████████████████████████████████████| 61/61 [00:00<00:00, 82.54it/s]\n",
      "Generating walks (CPU: 1): 100%|███████████████████████████████████████████████████████| 50/50 [00:00<00:00, 55.83it/s]\n",
      "Computing transition probabilities: 100%|██████████████████████████████████████████████| 57/57 [00:00<00:00, 64.51it/s]\n",
      "Generating walks (CPU: 1): 100%|███████████████████████████████████████████████████████| 50/50 [00:00<00:00, 54.02it/s]\n",
      "Computing transition probabilities: 100%|██████████████████████████████████████████████| 54/54 [00:00<00:00, 98.27it/s]\n",
      "Generating walks (CPU: 1): 100%|███████████████████████████████████████████████████████| 50/50 [00:00<00:00, 83.00it/s]\n",
      "Computing transition probabilities: 100%|██████████████████████████████████████████████| 56/56 [00:00<00:00, 89.13it/s]\n",
      "Generating walks (CPU: 1): 100%|███████████████████████████████████████████████████████| 50/50 [00:00<00:00, 67.66it/s]\n",
      "Computing transition probabilities: 100%|█████████████████████████████████████████████| 45/45 [00:00<00:00, 106.67it/s]\n",
      "Generating walks (CPU: 1): 100%|███████████████████████████████████████████████████████| 50/50 [00:00<00:00, 87.18it/s]\n",
      "Computing transition probabilities: 100%|██████████████████████████████████████████████| 53/53 [00:00<00:00, 71.62it/s]\n",
      "Generating walks (CPU: 1): 100%|███████████████████████████████████████████████████████| 50/50 [00:00<00:00, 68.30it/s]\n",
      "Computing transition probabilities: 100%|██████████████████████████████████████████████| 51/51 [00:00<00:00, 92.30it/s]\n",
      "Generating walks (CPU: 1): 100%|███████████████████████████████████████████████████████| 50/50 [00:00<00:00, 63.95it/s]\n",
      "Computing transition probabilities: 100%|██████████████████████████████████████████████| 54/54 [00:00<00:00, 84.21it/s]\n",
      "Generating walks (CPU: 1): 100%|███████████████████████████████████████████████████████| 50/50 [00:00<00:00, 70.02it/s]\n",
      "Computing transition probabilities: 100%|█████████████████████████████████████████████| 48/48 [00:00<00:00, 125.00it/s]\n",
      "Generating walks (CPU: 1): 100%|███████████████████████████████████████████████████████| 50/50 [00:00<00:00, 91.49it/s]\n",
      "Computing transition probabilities: 100%|██████████████████████████████████████████████| 56/56 [00:00<00:00, 64.39it/s]\n",
      "Generating walks (CPU: 1): 100%|███████████████████████████████████████████████████████| 50/50 [00:00<00:00, 71.52it/s]\n",
      "Computing transition probabilities: 100%|██████████████████████████████████████████████| 57/57 [00:00<00:00, 86.73it/s]\n",
      "Generating walks (CPU: 1): 100%|███████████████████████████████████████████████████████| 50/50 [00:00<00:00, 62.12it/s]\n",
      "Computing transition probabilities: 100%|██████████████████████████████████████████████| 51/51 [00:00<00:00, 98.72it/s]\n",
      "Generating walks (CPU: 1): 100%|███████████████████████████████████████████████████████| 50/50 [00:00<00:00, 65.71it/s]\n",
      "Computing transition probabilities: 100%|██████████████████████████████████████████████| 61/61 [00:01<00:00, 59.27it/s]\n",
      "Generating walks (CPU: 1): 100%|███████████████████████████████████████████████████████| 50/50 [00:00<00:00, 50.23it/s]\n",
      "Computing transition probabilities: 100%|██████████████████████████████████████████████| 57/57 [00:00<00:00, 74.91it/s]\n",
      "Generating walks (CPU: 1): 100%|███████████████████████████████████████████████████████| 50/50 [00:00<00:00, 68.40it/s]\n",
      "Computing transition probabilities: 100%|██████████████████████████████████████████████| 55/55 [00:00<00:00, 83.30it/s]\n",
      "Generating walks (CPU: 1): 100%|███████████████████████████████████████████████████████| 50/50 [00:00<00:00, 68.58it/s]\n",
      "Computing transition probabilities: 100%|█████████████████████████████████████████████| 51/51 [00:00<00:00, 128.48it/s]\n",
      "Generating walks (CPU: 1): 100%|███████████████████████████████████████████████████████| 50/50 [00:00<00:00, 77.01it/s]\n",
      "Computing transition probabilities: 100%|██████████████████████████████████████████████| 60/60 [00:00<00:00, 74.18it/s]\n",
      "Generating walks (CPU: 1): 100%|███████████████████████████████████████████████████████| 50/50 [00:01<00:00, 49.25it/s]\n",
      "Computing transition probabilities: 100%|██████████████████████████████████████████████| 56/56 [00:00<00:00, 93.42it/s]\n",
      "Generating walks (CPU: 1): 100%|███████████████████████████████████████████████████████| 50/50 [00:00<00:00, 69.06it/s]\n",
      "Computing transition probabilities: 100%|█████████████████████████████████████████████| 49/49 [00:00<00:00, 107.51it/s]\n",
      "Generating walks (CPU: 1): 100%|███████████████████████████████████████████████████████| 50/50 [00:00<00:00, 79.95it/s]\n",
      "Computing transition probabilities: 100%|█████████████████████████████████████████████| 47/47 [00:00<00:00, 101.34it/s]\n",
      "Generating walks (CPU: 1): 100%|███████████████████████████████████████████████████████| 50/50 [00:00<00:00, 84.54it/s]\n",
      "Computing transition probabilities: 100%|██████████████████████████████████████████████| 55/55 [00:00<00:00, 80.04it/s]\n",
      "Generating walks (CPU: 1): 100%|███████████████████████████████████████████████████████| 50/50 [00:00<00:00, 71.31it/s]\n",
      "Computing transition probabilities: 100%|██████████████████████████████████████████████| 58/58 [00:01<00:00, 54.00it/s]\n",
      "Generating walks (CPU: 1): 100%|███████████████████████████████████████████████████████| 50/50 [00:00<00:00, 54.43it/s]\n",
      "Computing transition probabilities: 100%|██████████████████████████████████████████████| 59/59 [00:00<00:00, 66.10it/s]\n",
      "Generating walks (CPU: 1): 100%|███████████████████████████████████████████████████████| 50/50 [00:00<00:00, 70.02it/s]\n",
      "Computing transition probabilities: 100%|█████████████████████████████████████████████| 41/41 [00:00<00:00, 135.23it/s]\n",
      "Generating walks (CPU: 1): 100%|███████████████████████████████████████████████████████| 50/50 [00:00<00:00, 90.99it/s]\n",
      "Computing transition probabilities: 100%|██████████████████████████████████████████████| 56/56 [00:00<00:00, 77.88it/s]\n",
      "Generating walks (CPU: 1): 100%|███████████████████████████████████████████████████████| 50/50 [00:00<00:00, 66.58it/s]\n",
      "Computing transition probabilities: 100%|██████████████████████████████████████████████| 53/53 [00:00<00:00, 91.78it/s]\n",
      "Generating walks (CPU: 1): 100%|███████████████████████████████████████████████████████| 50/50 [00:00<00:00, 69.03it/s]\n",
      "Computing transition probabilities: 100%|█████████████████████████████████████████████| 48/48 [00:00<00:00, 113.78it/s]\n",
      "Generating walks (CPU: 1): 100%|███████████████████████████████████████████████████████| 50/50 [00:00<00:00, 60.62it/s]\n",
      "Computing transition probabilities: 100%|██████████████████████████████████████████████| 55/55 [00:00<00:00, 57.39it/s]\n",
      "Generating walks (CPU: 1): 100%|███████████████████████████████████████████████████████| 50/50 [00:00<00:00, 55.46it/s]\n",
      "Computing transition probabilities: 100%|██████████████████████████████████████████████| 52/52 [00:00<00:00, 91.31it/s]\n",
      "Generating walks (CPU: 1): 100%|███████████████████████████████████████████████████████| 50/50 [00:00<00:00, 59.61it/s]\n",
      "Computing transition probabilities: 100%|██████████████████████████████████████████████| 59/59 [00:00<00:00, 77.73it/s]\n",
      "Generating walks (CPU: 1): 100%|███████████████████████████████████████████████████████| 50/50 [00:01<00:00, 49.44it/s]\n",
      "Computing transition probabilities: 100%|██████████████████████████████████████████████| 58/58 [00:00<00:00, 79.44it/s]\n",
      "Generating walks (CPU: 1): 100%|███████████████████████████████████████████████████████| 50/50 [00:00<00:00, 66.40it/s]\n",
      "Computing transition probabilities: 100%|██████████████████████████████████████████████| 52/52 [00:00<00:00, 90.36it/s]\n",
      "Generating walks (CPU: 1): 100%|███████████████████████████████████████████████████████| 50/50 [00:00<00:00, 63.70it/s]\n",
      "Computing transition probabilities: 100%|█████████████████████████████████████████████| 43/43 [00:00<00:00, 102.41it/s]\n",
      "Generating walks (CPU: 1): 100%|███████████████████████████████████████████████████████| 50/50 [00:00<00:00, 79.83it/s]\n",
      "Computing transition probabilities: 100%|█████████████████████████████████████████████| 49/49 [00:00<00:00, 103.65it/s]\n",
      "Generating walks (CPU: 1): 100%|███████████████████████████████████████████████████████| 50/50 [00:00<00:00, 78.95it/s]\n",
      "Computing transition probabilities: 100%|██████████████████████████████████████████████| 55/55 [00:00<00:00, 84.58it/s]\n",
      "Generating walks (CPU: 1): 100%|███████████████████████████████████████████████████████| 50/50 [00:00<00:00, 71.83it/s]\n",
      "Computing transition probabilities: 100%|█████████████████████████████████████████████| 48/48 [00:00<00:00, 116.25it/s]\n",
      "Generating walks (CPU: 1): 100%|███████████████████████████████████████████████████████| 50/50 [00:00<00:00, 63.54it/s]\n",
      "Computing transition probabilities: 100%|██████████████████████████████████████████████| 55/55 [00:00<00:00, 86.44it/s]\n",
      "Generating walks (CPU: 1): 100%|███████████████████████████████████████████████████████| 50/50 [00:00<00:00, 57.17it/s]\n",
      "Computing transition probabilities: 100%|██████████████████████████████████████████████| 53/53 [00:00<00:00, 71.33it/s]\n",
      "Generating walks (CPU: 1): 100%|███████████████████████████████████████████████████████| 50/50 [00:00<00:00, 73.83it/s]\n",
      "Computing transition probabilities: 100%|██████████████████████████████████████████████| 60/60 [00:00<00:00, 72.13it/s]\n",
      "Generating walks (CPU: 1): 100%|███████████████████████████████████████████████████████| 50/50 [00:00<00:00, 66.84it/s]\n",
      "Computing transition probabilities: 100%|██████████████████████████████████████████████| 53/53 [00:00<00:00, 97.51it/s]\n",
      "Generating walks (CPU: 1): 100%|███████████████████████████████████████████████████████| 50/50 [00:00<00:00, 78.21it/s]\n",
      "Computing transition probabilities: 100%|██████████████████████████████████████████████| 58/58 [00:00<00:00, 73.15it/s]\n",
      "Generating walks (CPU: 1): 100%|███████████████████████████████████████████████████████| 50/50 [00:01<00:00, 47.52it/s]\n",
      "Computing transition probabilities: 100%|██████████████████████████████████████████████| 50/50 [00:00<00:00, 90.49it/s]\n",
      "Generating walks (CPU: 1): 100%|███████████████████████████████████████████████████████| 50/50 [00:00<00:00, 56.97it/s]\n",
      "Computing transition probabilities: 100%|██████████████████████████████████████████████| 57/57 [00:01<00:00, 49.87it/s]\n",
      "Generating walks (CPU: 1): 100%|███████████████████████████████████████████████████████| 50/50 [00:01<00:00, 45.29it/s]\n",
      "Computing transition probabilities: 100%|██████████████████████████████████████████████| 49/49 [00:00<00:00, 88.37it/s]\n",
      "Generating walks (CPU: 1): 100%|███████████████████████████████████████████████████████| 50/50 [00:00<00:00, 57.96it/s]\n",
      "Computing transition probabilities: 100%|██████████████████████████████████████████████| 54/54 [00:00<00:00, 80.21it/s]\n",
      "Generating walks (CPU: 1): 100%|███████████████████████████████████████████████████████| 50/50 [00:00<00:00, 60.18it/s]\n",
      "Computing transition probabilities: 100%|██████████████████████████████████████████████| 51/51 [00:00<00:00, 93.31it/s]\n",
      "Generating walks (CPU: 1): 100%|███████████████████████████████████████████████████████| 50/50 [00:00<00:00, 73.51it/s]\n",
      "Computing transition probabilities: 100%|██████████████████████████████████████████████| 52/52 [00:00<00:00, 98.37it/s]\n",
      "Generating walks (CPU: 1): 100%|███████████████████████████████████████████████████████| 50/50 [00:00<00:00, 62.75it/s]\n",
      "Computing transition probabilities: 100%|██████████████████████████████████████████████| 48/48 [00:00<00:00, 79.55it/s]\n",
      "Generating walks (CPU: 1): 100%|███████████████████████████████████████████████████████| 50/50 [00:00<00:00, 59.97it/s]\n",
      "Computing transition probabilities: 100%|██████████████████████████████████████████████| 53/53 [00:00<00:00, 60.46it/s]\n",
      "Generating walks (CPU: 1): 100%|███████████████████████████████████████████████████████| 50/50 [00:00<00:00, 74.49it/s]\n",
      "Computing transition probabilities: 100%|█████████████████████████████████████████████| 46/46 [00:00<00:00, 143.22it/s]\n",
      "Generating walks (CPU: 1): 100%|███████████████████████████████████████████████████████| 50/50 [00:00<00:00, 87.50it/s]\n",
      "Computing transition probabilities: 100%|██████████████████████████████████████████████| 52/52 [00:00<00:00, 95.84it/s]\n",
      "Generating walks (CPU: 1): 100%|███████████████████████████████████████████████████████| 50/50 [00:00<00:00, 76.42it/s]\n",
      "Computing transition probabilities: 100%|█████████████████████████████████████████████| 52/52 [00:00<00:00, 102.43it/s]\n",
      "Generating walks (CPU: 1): 100%|███████████████████████████████████████████████████████| 50/50 [00:00<00:00, 67.75it/s]\n",
      "Computing transition probabilities: 100%|██████████████████████████████████████████████| 53/53 [00:00<00:00, 66.26it/s]\n",
      "Generating walks (CPU: 1): 100%|███████████████████████████████████████████████████████| 50/50 [00:00<00:00, 61.74it/s]\n",
      "Computing transition probabilities: 100%|██████████████████████████████████████████████| 55/55 [00:00<00:00, 77.24it/s]\n",
      "Generating walks (CPU: 1): 100%|███████████████████████████████████████████████████████| 50/50 [00:00<00:00, 68.30it/s]\n",
      "Computing transition probabilities: 100%|█████████████████████████████████████████████| 45/45 [00:00<00:00, 138.41it/s]\n",
      "Generating walks (CPU: 1): 100%|███████████████████████████████████████████████████████| 50/50 [00:00<00:00, 98.68it/s]\n",
      "Computing transition probabilities: 100%|██████████████████████████████████████████████| 55/55 [00:00<00:00, 95.25it/s]\n",
      "Generating walks (CPU: 1): 100%|███████████████████████████████████████████████████████| 50/50 [00:00<00:00, 69.15it/s]\n",
      "Computing transition probabilities: 100%|██████████████████████████████████████████████| 49/49 [00:00<00:00, 95.40it/s]\n",
      "Generating walks (CPU: 1): 100%|███████████████████████████████████████████████████████| 50/50 [00:00<00:00, 59.90it/s]\n"
     ]
    },
    {
     "name": "stderr",
     "output_type": "stream",
     "text": [
      "Computing transition probabilities: 100%|█████████████████████████████████████████████| 52/52 [00:00<00:00, 105.12it/s]\n",
      "Generating walks (CPU: 1): 100%|███████████████████████████████████████████████████████| 50/50 [00:00<00:00, 76.19it/s]\n",
      "Computing transition probabilities: 100%|██████████████████████████████████████████████| 62/62 [00:01<00:00, 60.65it/s]\n",
      "Generating walks (CPU: 1): 100%|███████████████████████████████████████████████████████| 50/50 [00:00<00:00, 58.23it/s]\n",
      "Computing transition probabilities: 100%|██████████████████████████████████████████████| 55/55 [00:00<00:00, 84.45it/s]\n",
      "Generating walks (CPU: 1): 100%|███████████████████████████████████████████████████████| 50/50 [00:00<00:00, 73.30it/s]\n",
      "Computing transition probabilities: 100%|██████████████████████████████████████████████| 56/56 [00:00<00:00, 72.45it/s]\n",
      "Generating walks (CPU: 1): 100%|███████████████████████████████████████████████████████| 50/50 [00:00<00:00, 58.91it/s]\n",
      "Computing transition probabilities: 100%|█████████████████████████████████████████████| 46/46 [00:00<00:00, 137.27it/s]\n",
      "Generating walks (CPU: 1): 100%|███████████████████████████████████████████████████████| 50/50 [00:00<00:00, 78.21it/s]\n",
      "Computing transition probabilities: 100%|█████████████████████████████████████████████| 52/52 [00:00<00:00, 101.44it/s]\n",
      "Generating walks (CPU: 1): 100%|███████████████████████████████████████████████████████| 50/50 [00:00<00:00, 73.62it/s]\n",
      "Computing transition probabilities: 100%|██████████████████████████████████████████████| 48/48 [00:00<00:00, 84.58it/s]\n",
      "Generating walks (CPU: 1): 100%|███████████████████████████████████████████████████████| 50/50 [00:00<00:00, 78.58it/s]\n",
      "Computing transition probabilities: 100%|██████████████████████████████████████████████| 54/54 [00:00<00:00, 82.66it/s]\n",
      "Generating walks (CPU: 1): 100%|███████████████████████████████████████████████████████| 50/50 [00:00<00:00, 50.59it/s]\n",
      "Computing transition probabilities: 100%|█████████████████████████████████████████████| 50/50 [00:00<00:00, 111.41it/s]\n",
      "Generating walks (CPU: 1): 100%|███████████████████████████████████████████████████████| 50/50 [00:00<00:00, 72.55it/s]\n",
      "Computing transition probabilities: 100%|██████████████████████████████████████████████| 53/53 [00:00<00:00, 84.22it/s]\n",
      "Generating walks (CPU: 1): 100%|███████████████████████████████████████████████████████| 50/50 [00:00<00:00, 67.84it/s]\n",
      "Computing transition probabilities: 100%|██████████████████████████████████████████████| 58/58 [00:00<00:00, 59.52it/s]\n",
      "Generating walks (CPU: 1): 100%|███████████████████████████████████████████████████████| 50/50 [00:00<00:00, 52.50it/s]\n",
      "Computing transition probabilities: 100%|██████████████████████████████████████████████| 59/59 [00:01<00:00, 45.02it/s]\n",
      "Generating walks (CPU: 1): 100%|███████████████████████████████████████████████████████| 50/50 [00:01<00:00, 41.33it/s]\n",
      "Computing transition probabilities: 100%|██████████████████████████████████████████████| 63/63 [00:01<00:00, 47.64it/s]\n",
      "Generating walks (CPU: 1): 100%|███████████████████████████████████████████████████████| 50/50 [00:00<00:00, 56.02it/s]\n",
      "Computing transition probabilities: 100%|█████████████████████████████████████████████| 45/45 [00:00<00:00, 128.55it/s]\n",
      "Generating walks (CPU: 1): 100%|███████████████████████████████████████████████████████| 50/50 [00:00<00:00, 76.19it/s]\n",
      "Computing transition probabilities: 100%|██████████████████████████████████████████████| 57/57 [00:01<00:00, 47.27it/s]\n",
      "Generating walks (CPU: 1): 100%|███████████████████████████████████████████████████████| 50/50 [00:00<00:00, 63.62it/s]\n",
      "Computing transition probabilities: 100%|█████████████████████████████████████████████| 43/43 [00:00<00:00, 166.47it/s]\n",
      "Generating walks (CPU: 1): 100%|███████████████████████████████████████████████████████| 50/50 [00:00<00:00, 87.80it/s]\n",
      "Computing transition probabilities: 100%|██████████████████████████████████████████████| 54/54 [00:00<00:00, 99.90it/s]\n",
      "Generating walks (CPU: 1): 100%|███████████████████████████████████████████████████████| 50/50 [00:00<00:00, 70.71it/s]\n",
      "Computing transition probabilities: 100%|██████████████████████████████████████████████| 58/58 [00:00<00:00, 80.66it/s]\n",
      "Generating walks (CPU: 1): 100%|███████████████████████████████████████████████████████| 50/50 [00:00<00:00, 66.58it/s]\n",
      "Computing transition probabilities: 100%|█████████████████████████████████████████████| 49/49 [00:00<00:00, 103.00it/s]\n",
      "Generating walks (CPU: 1): 100%|███████████████████████████████████████████████████████| 50/50 [00:00<00:00, 60.99it/s]\n",
      "Computing transition probabilities: 100%|██████████████████████████████████████████████| 54/54 [00:00<00:00, 64.61it/s]\n",
      "Generating walks (CPU: 1): 100%|███████████████████████████████████████████████████████| 50/50 [00:00<00:00, 64.61it/s]\n",
      "Computing transition probabilities: 100%|██████████████████████████████████████████████| 58/58 [00:00<00:00, 76.32it/s]\n",
      "Generating walks (CPU: 1): 100%|███████████████████████████████████████████████████████| 50/50 [00:00<00:00, 62.90it/s]\n",
      "Computing transition probabilities: 100%|█████████████████████████████████████████████| 49/49 [00:00<00:00, 124.07it/s]\n",
      "Generating walks (CPU: 1): 100%|███████████████████████████████████████████████████████| 50/50 [00:00<00:00, 79.70it/s]\n",
      "Computing transition probabilities: 100%|█████████████████████████████████████████████| 43/43 [00:00<00:00, 168.42it/s]\n",
      "Generating walks (CPU: 1): 100%|███████████████████████████████████████████████████████| 50/50 [00:00<00:00, 81.92it/s]\n",
      "Computing transition probabilities: 100%|██████████████████████████████████████████████| 53/53 [00:00<00:00, 86.69it/s]\n",
      "Generating walks (CPU: 1): 100%|███████████████████████████████████████████████████████| 50/50 [00:00<00:00, 80.47it/s]\n",
      "Computing transition probabilities: 100%|██████████████████████████████████████████████| 59/59 [00:00<00:00, 66.47it/s]\n",
      "Generating walks (CPU: 1): 100%|███████████████████████████████████████████████████████| 50/50 [00:00<00:00, 56.08it/s]\n",
      "Computing transition probabilities: 100%|██████████████████████████████████████████████| 51/51 [00:00<00:00, 85.08it/s]\n",
      "Generating walks (CPU: 1): 100%|███████████████████████████████████████████████████████| 50/50 [00:00<00:00, 75.73it/s]\n",
      "Computing transition probabilities: 100%|██████████████████████████████████████████████| 50/50 [00:00<00:00, 95.13it/s]\n",
      "Generating walks (CPU: 1): 100%|███████████████████████████████████████████████████████| 50/50 [00:00<00:00, 53.79it/s]\n",
      "Computing transition probabilities: 100%|██████████████████████████████████████████████| 61/61 [00:00<00:00, 67.06it/s]\n",
      "Generating walks (CPU: 1): 100%|███████████████████████████████████████████████████████| 50/50 [00:00<00:00, 63.46it/s]\n",
      "Computing transition probabilities: 100%|██████████████████████████████████████████████| 59/59 [00:00<00:00, 61.49it/s]\n",
      "Generating walks (CPU: 1): 100%|███████████████████████████████████████████████████████| 50/50 [00:00<00:00, 58.57it/s]\n",
      "Computing transition probabilities: 100%|██████████████████████████████████████████████| 50/50 [00:00<00:00, 76.07it/s]\n",
      "Generating walks (CPU: 1): 100%|███████████████████████████████████████████████████████| 50/50 [00:00<00:00, 69.83it/s]\n",
      "Computing transition probabilities: 100%|██████████████████████████████████████████████| 52/52 [00:00<00:00, 64.28it/s]\n",
      "Generating walks (CPU: 1): 100%|███████████████████████████████████████████████████████| 50/50 [00:00<00:00, 64.69it/s]\n",
      "Computing transition probabilities: 100%|██████████████████████████████████████████████| 54/54 [00:00<00:00, 67.34it/s]\n",
      "Generating walks (CPU: 1): 100%|███████████████████████████████████████████████████████| 50/50 [00:00<00:00, 60.55it/s]\n",
      "Computing transition probabilities: 100%|██████████████████████████████████████████████| 49/49 [00:00<00:00, 85.30it/s]\n",
      "Generating walks (CPU: 1): 100%|███████████████████████████████████████████████████████| 50/50 [00:00<00:00, 70.71it/s]\n",
      "Computing transition probabilities: 100%|██████████████████████████████████████████████| 54/54 [00:00<00:00, 72.77it/s]\n",
      "Generating walks (CPU: 1): 100%|███████████████████████████████████████████████████████| 50/50 [00:00<00:00, 51.16it/s]\n",
      "Computing transition probabilities: 100%|██████████████████████████████████████████████| 55/55 [00:00<00:00, 72.13it/s]\n",
      "Generating walks (CPU: 1): 100%|███████████████████████████████████████████████████████| 50/50 [00:00<00:00, 71.62it/s]\n",
      "Computing transition probabilities: 100%|██████████████████████████████████████████████| 61/61 [00:00<00:00, 81.66it/s]\n",
      "Generating walks (CPU: 1): 100%|███████████████████████████████████████████████████████| 50/50 [00:00<00:00, 51.63it/s]\n",
      "Computing transition probabilities: 100%|██████████████████████████████████████████████| 53/53 [00:00<00:00, 94.39it/s]\n",
      "Generating walks (CPU: 1): 100%|███████████████████████████████████████████████████████| 50/50 [00:00<00:00, 83.42it/s]\n",
      "Computing transition probabilities: 100%|██████████████████████████████████████████████| 60/60 [00:00<00:00, 71.28it/s]\n",
      "Generating walks (CPU: 1): 100%|███████████████████████████████████████████████████████| 50/50 [00:00<00:00, 57.23it/s]\n",
      "Computing transition probabilities: 100%|██████████████████████████████████████████████| 58/58 [00:00<00:00, 64.26it/s]\n",
      "Generating walks (CPU: 1): 100%|███████████████████████████████████████████████████████| 50/50 [00:00<00:00, 60.18it/s]\n",
      "Computing transition probabilities: 100%|██████████████████████████████████████████████| 58/58 [00:00<00:00, 72.88it/s]\n",
      "Generating walks (CPU: 1): 100%|███████████████████████████████████████████████████████| 50/50 [00:00<00:00, 65.53it/s]\n",
      "Computing transition probabilities: 100%|█████████████████████████████████████████████| 47/47 [00:00<00:00, 122.64it/s]\n",
      "Generating walks (CPU: 1): 100%|███████████████████████████████████████████████████████| 50/50 [00:00<00:00, 80.09it/s]\n",
      "Computing transition probabilities: 100%|██████████████████████████████████████████████| 58/58 [00:00<00:00, 59.89it/s]\n",
      "Generating walks (CPU: 1): 100%|███████████████████████████████████████████████████████| 50/50 [00:00<00:00, 70.91it/s]\n",
      "Computing transition probabilities: 100%|█████████████████████████████████████████████| 50/50 [00:00<00:00, 130.56it/s]\n",
      "Generating walks (CPU: 1): 100%|███████████████████████████████████████████████████████| 50/50 [00:00<00:00, 72.03it/s]\n",
      "Computing transition probabilities: 100%|██████████████████████████████████████████████| 62/62 [00:01<00:00, 57.51it/s]\n",
      "Generating walks (CPU: 1): 100%|███████████████████████████████████████████████████████| 50/50 [00:00<00:00, 66.40it/s]\n",
      "Computing transition probabilities: 100%|█████████████████████████████████████████████| 55/55 [00:00<00:00, 106.26it/s]\n",
      "Generating walks (CPU: 1): 100%|███████████████████████████████████████████████████████| 50/50 [00:00<00:00, 59.26it/s]\n",
      "Computing transition probabilities: 100%|██████████████████████████████████████████████| 53/53 [00:00<00:00, 80.52it/s]\n",
      "Generating walks (CPU: 1): 100%|███████████████████████████████████████████████████████| 50/50 [00:00<00:00, 78.95it/s]\n",
      "Computing transition probabilities: 100%|██████████████████████████████████████████████| 56/56 [00:00<00:00, 85.20it/s]\n",
      "Generating walks (CPU: 1): 100%|███████████████████████████████████████████████████████| 50/50 [00:00<00:00, 61.59it/s]\n",
      "Computing transition probabilities: 100%|██████████████████████████████████████████████| 56/56 [00:00<00:00, 74.57it/s]\n",
      "Generating walks (CPU: 1): 100%|███████████████████████████████████████████████████████| 50/50 [00:00<00:00, 59.68it/s]\n",
      "Computing transition probabilities: 100%|██████████████████████████████████████████████| 50/50 [00:00<00:00, 87.95it/s]\n",
      "Generating walks (CPU: 1): 100%|███████████████████████████████████████████████████████| 50/50 [00:00<00:00, 58.57it/s]\n",
      "Computing transition probabilities: 100%|██████████████████████████████████████████████| 56/56 [00:00<00:00, 83.06it/s]\n",
      "Generating walks (CPU: 1): 100%|███████████████████████████████████████████████████████| 50/50 [00:00<00:00, 68.58it/s]\n",
      "Computing transition probabilities: 100%|██████████████████████████████████████████████| 51/51 [00:00<00:00, 94.87it/s]\n",
      "Generating walks (CPU: 1): 100%|███████████████████████████████████████████████████████| 50/50 [00:00<00:00, 87.96it/s]\n",
      "Computing transition probabilities: 100%|██████████████████████████████████████████████| 60/60 [00:00<00:00, 83.69it/s]\n",
      "Generating walks (CPU: 1): 100%|███████████████████████████████████████████████████████| 50/50 [00:00<00:00, 62.05it/s]\n",
      "Computing transition probabilities: 100%|██████████████████████████████████████████████| 59/59 [00:01<00:00, 45.06it/s]\n",
      "Generating walks (CPU: 1): 100%|███████████████████████████████████████████████████████| 50/50 [00:01<00:00, 41.85it/s]\n",
      "Computing transition probabilities: 100%|██████████████████████████████████████████████| 49/49 [00:00<00:00, 84.13it/s]\n",
      "Generating walks (CPU: 1): 100%|███████████████████████████████████████████████████████| 50/50 [00:00<00:00, 74.05it/s]\n",
      "Computing transition probabilities: 100%|██████████████████████████████████████████████| 55/55 [00:00<00:00, 89.23it/s]\n",
      "Generating walks (CPU: 1): 100%|███████████████████████████████████████████████████████| 50/50 [00:00<00:00, 64.86it/s]\n",
      "Computing transition probabilities: 100%|██████████████████████████████████████████████| 52/52 [00:00<00:00, 87.19it/s]\n",
      "Generating walks (CPU: 1): 100%|███████████████████████████████████████████████████████| 50/50 [00:00<00:00, 81.39it/s]\n",
      "Computing transition probabilities: 100%|██████████████████████████████████████████████| 57/57 [00:00<00:00, 85.18it/s]\n",
      "Generating walks (CPU: 1): 100%|███████████████████████████████████████████████████████| 50/50 [00:00<00:00, 57.49it/s]\n",
      "Computing transition probabilities: 100%|██████████████████████████████████████████████| 52/52 [00:00<00:00, 90.83it/s]\n",
      "Generating walks (CPU: 1): 100%|███████████████████████████████████████████████████████| 50/50 [00:00<00:00, 75.05it/s]\n",
      "Computing transition probabilities: 100%|██████████████████████████████████████████████| 55/55 [00:00<00:00, 84.45it/s]\n",
      "Generating walks (CPU: 1): 100%|███████████████████████████████████████████████████████| 50/50 [00:00<00:00, 77.13it/s]\n",
      "Computing transition probabilities: 100%|█████████████████████████████████████████████| 50/50 [00:00<00:00, 107.35it/s]\n",
      "Generating walks (CPU: 1): 100%|███████████████████████████████████████████████████████| 50/50 [00:00<00:00, 82.05it/s]\n",
      "Computing transition probabilities: 100%|██████████████████████████████████████████████| 55/55 [00:00<00:00, 88.80it/s]\n",
      "Generating walks (CPU: 1): 100%|███████████████████████████████████████████████████████| 50/50 [00:00<00:00, 54.55it/s]\n",
      "Computing transition probabilities: 100%|██████████████████████████████████████████████| 52/52 [00:00<00:00, 92.45it/s]\n",
      "Generating walks (CPU: 1): 100%|███████████████████████████████████████████████████████| 50/50 [00:00<00:00, 68.77it/s]\n",
      "Computing transition probabilities: 100%|██████████████████████████████████████████████| 61/61 [00:00<00:00, 63.58it/s]\n",
      "Generating walks (CPU: 1): 100%|███████████████████████████████████████████████████████| 50/50 [00:00<00:00, 55.34it/s]\n",
      "Computing transition probabilities: 100%|█████████████████████████████████████████████| 53/53 [00:00<00:00, 102.98it/s]\n",
      "Generating walks (CPU: 1): 100%|███████████████████████████████████████████████████████| 50/50 [00:00<00:00, 74.38it/s]\n"
     ]
    },
    {
     "name": "stdout",
     "output_type": "stream",
     "text": [
      "\n"
     ]
    },
    {
     "data": {
      "application/vnd.jupyter.widget-view+json": {
       "model_id": "c0e49a6ced794b5fba615dee41422cb5",
       "version_major": 2,
       "version_minor": 0
      },
      "text/plain": [
       "HBox(children=(IntProgress(value=1, bar_style='info', max=1), HTML(value='')))"
      ]
     },
     "metadata": {},
     "output_type": "display_data"
    },
    {
     "name": "stdout",
     "output_type": "stream",
     "text": [
      "\n"
     ]
    },
    {
     "name": "stderr",
     "output_type": "stream",
     "text": [
      "C:\\Users\\Stefano\\.conda\\envs\\base2\\lib\\site-packages\\sklearn\\linear_model\\_logistic.py:764: ConvergenceWarning: lbfgs failed to converge (status=1):\n",
      "STOP: TOTAL NO. of ITERATIONS REACHED LIMIT.\n",
      "\n",
      "Increase the number of iterations (max_iter) or scale the data as shown in:\n",
      "    https://scikit-learn.org/stable/modules/preprocessing.html\n",
      "Please also refer to the documentation for alternative solver options:\n",
      "    https://scikit-learn.org/stable/modules/linear_model.html#logistic-regression\n",
      "  extra_warning_msg=_LOGISTIC_SOLVER_CONVERGENCE_MSG)\n",
      "C:\\Users\\Stefano\\.conda\\envs\\base2\\lib\\site-packages\\sklearn\\base.py:213: FutureWarning: From version 0.24, get_params will raise an AttributeError if a parameter cannot be retrieved as an instance attribute. Previously it would return None.\n",
      "  FutureWarning)\n",
      "C:\\Users\\Stefano\\.conda\\envs\\base2\\lib\\site-packages\\sklearn\\base.py:213: FutureWarning: From version 0.24, get_params will raise an AttributeError if a parameter cannot be retrieved as an instance attribute. Previously it would return None.\n",
      "  FutureWarning)\n"
     ]
    },
    {
     "data": {
      "application/vnd.jupyter.widget-view+json": {
       "model_id": "29e7ef9b84b4461f9bd89808a73d47c3",
       "version_major": 2,
       "version_minor": 0
      },
      "text/plain": [
       "HBox(children=(IntProgress(value=0, max=200), HTML(value='')))"
      ]
     },
     "metadata": {},
     "output_type": "display_data"
    },
    {
     "name": "stdout",
     "output_type": "stream",
     "text": [
      "\n"
     ]
    },
    {
     "data": {
      "application/vnd.jupyter.widget-view+json": {
       "model_id": "532069ed14f449ee8f3dc79c99ee2391",
       "version_major": 2,
       "version_minor": 0
      },
      "text/plain": [
       "HBox(children=(IntProgress(value=0, max=200), HTML(value='')))"
      ]
     },
     "metadata": {},
     "output_type": "display_data"
    },
    {
     "name": "stderr",
     "output_type": "stream",
     "text": [
      "Computing transition probabilities: 100%|██████████████████████████████████████████████| 54/54 [00:00<00:00, 78.58it/s]\n",
      "Generating walks (CPU: 1): 100%|███████████████████████████████████████████████████████| 50/50 [00:00<00:00, 68.49it/s]\n",
      "Computing transition probabilities: 100%|██████████████████████████████████████████████| 49/49 [00:00<00:00, 94.30it/s]\n",
      "Generating walks (CPU: 1): 100%|███████████████████████████████████████████████████████| 50/50 [00:00<00:00, 72.24it/s]\n",
      "Computing transition probabilities: 100%|██████████████████████████████████████████████| 58/58 [00:00<00:00, 60.39it/s]\n",
      "Generating walks (CPU: 1): 100%|███████████████████████████████████████████████████████| 50/50 [00:00<00:00, 66.84it/s]\n",
      "Computing transition probabilities: 100%|██████████████████████████████████████████████| 54/54 [00:00<00:00, 79.62it/s]\n",
      "Generating walks (CPU: 1): 100%|███████████████████████████████████████████████████████| 50/50 [00:00<00:00, 72.13it/s]\n",
      "Computing transition probabilities: 100%|██████████████████████████████████████████████| 63/63 [00:01<00:00, 54.55it/s]\n",
      "Generating walks (CPU: 1): 100%|███████████████████████████████████████████████████████| 50/50 [00:00<00:00, 51.26it/s]\n",
      "Computing transition probabilities: 100%|█████████████████████████████████████████████| 44/44 [00:00<00:00, 113.12it/s]\n",
      "Generating walks (CPU: 1): 100%|███████████████████████████████████████████████████████| 50/50 [00:00<00:00, 77.13it/s]\n",
      "Computing transition probabilities: 100%|██████████████████████████████████████████████| 53/53 [00:00<00:00, 86.15it/s]\n",
      "Generating walks (CPU: 1): 100%|███████████████████████████████████████████████████████| 50/50 [00:00<00:00, 72.97it/s]\n",
      "Computing transition probabilities: 100%|█████████████████████████████████████████████| 46/46 [00:00<00:00, 126.02it/s]\n",
      "Generating walks (CPU: 1): 100%|███████████████████████████████████████████████████████| 50/50 [00:00<00:00, 91.48it/s]\n",
      "Computing transition probabilities: 100%|██████████████████████████████████████████████| 61/61 [00:00<00:00, 73.60it/s]\n",
      "Generating walks (CPU: 1): 100%|███████████████████████████████████████████████████████| 50/50 [00:00<00:00, 63.95it/s]\n",
      "Computing transition probabilities: 100%|██████████████████████████████████████████████| 50/50 [00:00<00:00, 83.42it/s]\n",
      "Generating walks (CPU: 1): 100%|███████████████████████████████████████████████████████| 50/50 [00:00<00:00, 77.73it/s]\n",
      "Computing transition probabilities: 100%|██████████████████████████████████████████████| 52/52 [00:00<00:00, 69.43it/s]\n",
      "Generating walks (CPU: 1): 100%|███████████████████████████████████████████████████████| 50/50 [00:00<00:00, 73.40it/s]\n",
      "Computing transition probabilities: 100%|██████████████████████████████████████████████| 56/56 [00:00<00:00, 82.33it/s]\n",
      "Generating walks (CPU: 1): 100%|███████████████████████████████████████████████████████| 50/50 [00:00<00:00, 74.49it/s]\n",
      "Computing transition probabilities: 100%|██████████████████████████████████████████████| 53/53 [00:00<00:00, 74.85it/s]\n",
      "Generating walks (CPU: 1): 100%|███████████████████████████████████████████████████████| 50/50 [00:00<00:00, 62.20it/s]\n",
      "Computing transition probabilities: 100%|██████████████████████████████████████████████| 53/53 [00:00<00:00, 98.41it/s]\n",
      "Generating walks (CPU: 1): 100%|███████████████████████████████████████████████████████| 50/50 [00:00<00:00, 68.96it/s]\n",
      "Computing transition probabilities: 100%|█████████████████████████████████████████████| 45/45 [00:00<00:00, 103.01it/s]\n",
      "Generating walks (CPU: 1): 100%|███████████████████████████████████████████████████████| 50/50 [00:00<00:00, 88.73it/s]\n",
      "Computing transition probabilities: 100%|██████████████████████████████████████████████| 61/61 [00:00<00:00, 63.84it/s]\n",
      "Generating walks (CPU: 1): 100%|███████████████████████████████████████████████████████| 50/50 [00:01<00:00, 48.44it/s]\n",
      "Computing transition probabilities: 100%|██████████████████████████████████████████████| 51/51 [00:00<00:00, 88.93it/s]\n",
      "Generating walks (CPU: 1): 100%|███████████████████████████████████████████████████████| 50/50 [00:00<00:00, 71.01it/s]\n",
      "Computing transition probabilities: 100%|██████████████████████████████████████████████| 51/51 [00:00<00:00, 81.11it/s]\n",
      "Generating walks (CPU: 1): 100%|███████████████████████████████████████████████████████| 50/50 [00:00<00:00, 71.82it/s]\n",
      "Computing transition probabilities: 100%|██████████████████████████████████████████████| 51/51 [00:00<00:00, 93.31it/s]\n",
      "Generating walks (CPU: 1): 100%|███████████████████████████████████████████████████████| 50/50 [00:00<00:00, 78.09it/s]\n",
      "Computing transition probabilities: 100%|█████████████████████████████████████████████| 50/50 [00:00<00:00, 116.32it/s]\n",
      "Generating walks (CPU: 1): 100%|███████████████████████████████████████████████████████| 50/50 [00:00<00:00, 70.91it/s]\n",
      "Computing transition probabilities: 100%|██████████████████████████████████████████████| 59/59 [00:00<00:00, 66.10it/s]\n",
      "Generating walks (CPU: 1): 100%|███████████████████████████████████████████████████████| 50/50 [00:00<00:00, 67.75it/s]\n",
      "Computing transition probabilities: 100%|██████████████████████████████████████████████| 60/60 [00:00<00:00, 67.07it/s]\n",
      "Generating walks (CPU: 1): 100%|███████████████████████████████████████████████████████| 50/50 [00:00<00:00, 56.84it/s]\n",
      "Computing transition probabilities: 100%|██████████████████████████████████████████████| 60/60 [00:00<00:00, 69.15it/s]\n",
      "Generating walks (CPU: 1): 100%|███████████████████████████████████████████████████████| 50/50 [00:00<00:00, 63.46it/s]\n",
      "Computing transition probabilities: 100%|██████████████████████████████████████████████| 55/55 [00:00<00:00, 78.56it/s]\n",
      "Generating walks (CPU: 1): 100%|███████████████████████████████████████████████████████| 50/50 [00:00<00:00, 73.10it/s]\n",
      "Computing transition probabilities: 100%|██████████████████████████████████████████████| 56/56 [00:00<00:00, 65.52it/s]\n",
      "Generating walks (CPU: 1): 100%|███████████████████████████████████████████████████████| 50/50 [00:00<00:00, 56.20it/s]\n",
      "Computing transition probabilities: 100%|██████████████████████████████████████████████| 51/51 [00:00<00:00, 67.11it/s]\n",
      "Generating walks (CPU: 1): 100%|███████████████████████████████████████████████████████| 50/50 [00:00<00:00, 70.81it/s]\n",
      "Computing transition probabilities: 100%|██████████████████████████████████████████████| 60/60 [00:01<00:00, 58.92it/s]\n",
      "Generating walks (CPU: 1): 100%|███████████████████████████████████████████████████████| 50/50 [00:00<00:00, 57.96it/s]\n",
      "Computing transition probabilities: 100%|█████████████████████████████████████████████| 46/46 [00:00<00:00, 122.02it/s]\n",
      "Generating walks (CPU: 1): 100%|███████████████████████████████████████████████████████| 50/50 [00:00<00:00, 81.52it/s]\n",
      "Computing transition probabilities: 100%|██████████████████████████████████████████████| 54/54 [00:00<00:00, 85.54it/s]\n",
      "Generating walks (CPU: 1): 100%|███████████████████████████████████████████████████████| 50/50 [00:00<00:00, 69.15it/s]\n",
      "Computing transition probabilities: 100%|██████████████████████████████████████████████| 48/48 [00:00<00:00, 79.68it/s]\n",
      "Generating walks (CPU: 1): 100%|███████████████████████████████████████████████████████| 50/50 [00:00<00:00, 71.93it/s]\n",
      "Computing transition probabilities: 100%|██████████████████████████████████████████████| 53/53 [00:00<00:00, 83.82it/s]\n",
      "Generating walks (CPU: 1): 100%|███████████████████████████████████████████████████████| 50/50 [00:00<00:00, 74.27it/s]\n",
      "Computing transition probabilities: 100%|██████████████████████████████████████████████| 52/52 [00:00<00:00, 71.33it/s]\n",
      "Generating walks (CPU: 1): 100%|███████████████████████████████████████████████████████| 50/50 [00:00<00:00, 67.84it/s]\n",
      "Computing transition probabilities: 100%|██████████████████████████████████████████████| 54/54 [00:00<00:00, 72.10it/s]\n",
      "Generating walks (CPU: 1): 100%|███████████████████████████████████████████████████████| 50/50 [00:00<00:00, 61.29it/s]\n",
      "Computing transition probabilities: 100%|██████████████████████████████████████████████| 47/47 [00:00<00:00, 75.04it/s]\n",
      "Generating walks (CPU: 1): 100%|███████████████████████████████████████████████████████| 50/50 [00:00<00:00, 67.75it/s]\n",
      "Computing transition probabilities: 100%|██████████████████████████████████████████████| 50/50 [00:00<00:00, 85.18it/s]\n",
      "Generating walks (CPU: 1): 100%|███████████████████████████████████████████████████████| 50/50 [00:00<00:00, 69.15it/s]\n",
      "Computing transition probabilities: 100%|██████████████████████████████████████████████| 46/46 [00:00<00:00, 99.40it/s]\n",
      "Generating walks (CPU: 1): 100%|███████████████████████████████████████████████████████| 50/50 [00:00<00:00, 82.19it/s]\n",
      "Computing transition probabilities: 100%|█████████████████████████████████████████████| 49/49 [00:00<00:00, 106.57it/s]\n",
      "Generating walks (CPU: 1): 100%|███████████████████████████████████████████████████████| 50/50 [00:00<00:00, 85.70it/s]\n",
      "Computing transition probabilities: 100%|██████████████████████████████████████████████| 56/56 [00:00<00:00, 75.47it/s]\n",
      "Generating walks (CPU: 1): 100%|███████████████████████████████████████████████████████| 50/50 [00:00<00:00, 64.36it/s]\n",
      "Computing transition probabilities: 100%|██████████████████████████████████████████████| 59/59 [00:00<00:00, 62.27it/s]\n",
      "Generating walks (CPU: 1): 100%|███████████████████████████████████████████████████████| 50/50 [00:00<00:00, 58.23it/s]\n",
      "Computing transition probabilities: 100%|██████████████████████████████████████████████| 54/54 [00:00<00:00, 74.79it/s]\n",
      "Generating walks (CPU: 1): 100%|███████████████████████████████████████████████████████| 50/50 [00:00<00:00, 58.84it/s]\n",
      "Computing transition probabilities: 100%|██████████████████████████████████████████████| 52/52 [00:00<00:00, 66.59it/s]\n",
      "Generating walks (CPU: 1): 100%|███████████████████████████████████████████████████████| 50/50 [00:00<00:00, 66.85it/s]\n",
      "Computing transition probabilities: 100%|██████████████████████████████████████████████| 60/60 [00:00<00:00, 60.71it/s]\n",
      "Generating walks (CPU: 1): 100%|███████████████████████████████████████████████████████| 50/50 [00:00<00:00, 60.47it/s]\n",
      "Computing transition probabilities: 100%|██████████████████████████████████████████████| 48/48 [00:00<00:00, 98.22it/s]\n",
      "Generating walks (CPU: 1): 100%|███████████████████████████████████████████████████████| 50/50 [00:00<00:00, 78.70it/s]\n",
      "Computing transition probabilities: 100%|██████████████████████████████████████████████| 58/58 [00:00<00:00, 69.23it/s]\n",
      "Generating walks (CPU: 1): 100%|███████████████████████████████████████████████████████| 50/50 [00:00<00:00, 52.28it/s]\n",
      "Computing transition probabilities: 100%|██████████████████████████████████████████████| 49/49 [00:00<00:00, 81.21it/s]\n",
      "Generating walks (CPU: 1): 100%|███████████████████████████████████████████████████████| 50/50 [00:00<00:00, 61.89it/s]\n",
      "Computing transition probabilities: 100%|██████████████████████████████████████████████| 50/50 [00:00<00:00, 97.16it/s]\n",
      "Generating walks (CPU: 1): 100%|███████████████████████████████████████████████████████| 50/50 [00:00<00:00, 77.25it/s]\n",
      "Computing transition probabilities: 100%|██████████████████████████████████████████████| 54/54 [00:00<00:00, 78.93it/s]\n",
      "Generating walks (CPU: 1): 100%|███████████████████████████████████████████████████████| 50/50 [00:00<00:00, 72.85it/s]\n",
      "Computing transition probabilities: 100%|██████████████████████████████████████████████| 55/55 [00:00<00:00, 83.30it/s]\n",
      "Generating walks (CPU: 1): 100%|███████████████████████████████████████████████████████| 50/50 [00:00<00:00, 67.47it/s]\n",
      "Computing transition probabilities: 100%|█████████████████████████████████████████████| 45/45 [00:00<00:00, 143.95it/s]\n",
      "Generating walks (CPU: 1): 100%|███████████████████████████████████████████████████████| 50/50 [00:00<00:00, 77.13it/s]\n",
      "Computing transition probabilities: 100%|██████████████████████████████████████████████| 52/52 [00:00<00:00, 72.62it/s]\n",
      "Generating walks (CPU: 1): 100%|███████████████████████████████████████████████████████| 50/50 [00:00<00:00, 74.16it/s]\n",
      "Computing transition probabilities: 100%|██████████████████████████████████████████████| 57/57 [00:00<00:00, 73.18it/s]\n",
      "Generating walks (CPU: 1): 100%|███████████████████████████████████████████████████████| 50/50 [00:00<00:00, 71.01it/s]\n",
      "Computing transition probabilities: 100%|██████████████████████████████████████████████| 61/61 [00:00<00:00, 67.43it/s]\n",
      "Generating walks (CPU: 1): 100%|███████████████████████████████████████████████████████| 50/50 [00:00<00:00, 61.82it/s]\n",
      "Computing transition probabilities: 100%|█████████████████████████████████████████████| 50/50 [00:00<00:00, 100.67it/s]\n",
      "Generating walks (CPU: 1): 100%|███████████████████████████████████████████████████████| 50/50 [00:00<00:00, 61.59it/s]\n",
      "Computing transition probabilities: 100%|██████████████████████████████████████████████| 56/56 [00:00<00:00, 69.84it/s]\n",
      "Generating walks (CPU: 1): 100%|███████████████████████████████████████████████████████| 50/50 [00:00<00:00, 59.43it/s]\n",
      "Computing transition probabilities: 100%|██████████████████████████████████████████████| 61/61 [00:01<00:00, 52.55it/s]\n",
      "Generating walks (CPU: 1): 100%|███████████████████████████████████████████████████████| 50/50 [00:01<00:00, 46.21it/s]\n",
      "Computing transition probabilities: 100%|██████████████████████████████████████████████| 58/58 [00:00<00:00, 63.28it/s]\n",
      "Generating walks (CPU: 1): 100%|███████████████████████████████████████████████████████| 50/50 [00:00<00:00, 52.33it/s]\n",
      "Computing transition probabilities: 100%|██████████████████████████████████████████████| 60/60 [00:01<00:00, 47.41it/s]\n",
      "Generating walks (CPU: 1): 100%|███████████████████████████████████████████████████████| 50/50 [00:00<00:00, 53.96it/s]\n",
      "Computing transition probabilities: 100%|██████████████████████████████████████████████| 56/56 [00:00<00:00, 63.81it/s]\n",
      "Generating walks (CPU: 1): 100%|███████████████████████████████████████████████████████| 50/50 [00:01<00:00, 45.91it/s]\n",
      "Computing transition probabilities: 100%|██████████████████████████████████████████████| 56/56 [00:01<00:00, 52.23it/s]\n",
      "Generating walks (CPU: 1): 100%|███████████████████████████████████████████████████████| 50/50 [00:01<00:00, 42.70it/s]\n",
      "Computing transition probabilities: 100%|██████████████████████████████████████████████| 55/55 [00:00<00:00, 67.75it/s]\n",
      "Generating walks (CPU: 1): 100%|███████████████████████████████████████████████████████| 50/50 [00:00<00:00, 62.43it/s]\n",
      "Computing transition probabilities: 100%|██████████████████████████████████████████████| 53/53 [00:00<00:00, 61.94it/s]\n",
      "Generating walks (CPU: 1): 100%|███████████████████████████████████████████████████████| 50/50 [00:00<00:00, 57.76it/s]\n",
      "Computing transition probabilities: 100%|██████████████████████████████████████████████| 59/59 [00:01<00:00, 52.25it/s]\n",
      "Generating walks (CPU: 1): 100%|███████████████████████████████████████████████████████| 50/50 [00:01<00:00, 39.66it/s]\n",
      "Computing transition probabilities: 100%|██████████████████████████████████████████████| 49/49 [00:00<00:00, 78.11it/s]\n",
      "Generating walks (CPU: 1): 100%|███████████████████████████████████████████████████████| 50/50 [00:00<00:00, 67.47it/s]\n",
      "Computing transition probabilities: 100%|██████████████████████████████████████████████| 49/49 [00:00<00:00, 83.70it/s]\n",
      "Generating walks (CPU: 1): 100%|███████████████████████████████████████████████████████| 50/50 [00:00<00:00, 70.51it/s]\n",
      "Computing transition probabilities: 100%|██████████████████████████████████████████████| 60/60 [00:00<00:00, 65.53it/s]\n",
      "Generating walks (CPU: 1): 100%|███████████████████████████████████████████████████████| 50/50 [00:00<00:00, 56.84it/s]\n",
      "Computing transition probabilities: 100%|██████████████████████████████████████████████| 51/51 [00:00<00:00, 57.39it/s]\n",
      "Generating walks (CPU: 1): 100%|███████████████████████████████████████████████████████| 50/50 [00:00<00:00, 64.61it/s]\n",
      "Computing transition probabilities: 100%|██████████████████████████████████████████████| 57/57 [00:00<00:00, 62.74it/s]\n",
      "Generating walks (CPU: 1): 100%|███████████████████████████████████████████████████████| 50/50 [00:00<00:00, 51.90it/s]\n",
      "Computing transition probabilities: 100%|██████████████████████████████████████████████| 45/45 [00:00<00:00, 86.94it/s]\n",
      "Generating walks (CPU: 1): 100%|███████████████████████████████████████████████████████| 50/50 [00:00<00:00, 80.79it/s]\n"
     ]
    },
    {
     "name": "stderr",
     "output_type": "stream",
     "text": [
      "Computing transition probabilities: 100%|██████████████████████████████████████████████| 52/52 [00:00<00:00, 72.82it/s]\n",
      "Generating walks (CPU: 1): 100%|███████████████████████████████████████████████████████| 50/50 [00:00<00:00, 59.47it/s]\n",
      "Computing transition probabilities: 100%|██████████████████████████████████████████████| 48/48 [00:00<00:00, 93.45it/s]\n",
      "Generating walks (CPU: 1): 100%|███████████████████████████████████████████████████████| 50/50 [00:00<00:00, 66.58it/s]\n",
      "Computing transition probabilities: 100%|██████████████████████████████████████████████| 54/54 [00:00<00:00, 70.78it/s]\n",
      "Generating walks (CPU: 1): 100%|███████████████████████████████████████████████████████| 50/50 [00:00<00:00, 52.77it/s]\n",
      "Computing transition probabilities: 100%|██████████████████████████████████████████████| 51/51 [00:00<00:00, 63.60it/s]\n",
      "Generating walks (CPU: 1): 100%|███████████████████████████████████████████████████████| 50/50 [00:00<00:00, 68.21it/s]\n",
      "Computing transition probabilities: 100%|██████████████████████████████████████████████| 50/50 [00:00<00:00, 81.39it/s]\n",
      "Generating walks (CPU: 1): 100%|███████████████████████████████████████████████████████| 50/50 [00:00<00:00, 70.41it/s]\n",
      "Computing transition probabilities: 100%|██████████████████████████████████████████████| 51/51 [00:00<00:00, 80.53it/s]\n",
      "Generating walks (CPU: 1): 100%|███████████████████████████████████████████████████████| 50/50 [00:00<00:00, 62.36it/s]\n",
      "Computing transition probabilities: 100%|██████████████████████████████████████████████| 63/63 [00:01<00:00, 56.00it/s]\n",
      "Generating walks (CPU: 1): 100%|███████████████████████████████████████████████████████| 50/50 [00:00<00:00, 52.11it/s]\n",
      "Computing transition probabilities: 100%|██████████████████████████████████████████████| 54/54 [00:00<00:00, 65.08it/s]\n",
      "Generating walks (CPU: 1): 100%|███████████████████████████████████████████████████████| 50/50 [00:00<00:00, 53.33it/s]\n",
      "Computing transition probabilities: 100%|██████████████████████████████████████████████| 58/58 [00:00<00:00, 66.24it/s]\n",
      "Generating walks (CPU: 1): 100%|███████████████████████████████████████████████████████| 50/50 [00:00<00:00, 60.04it/s]\n",
      "Computing transition probabilities: 100%|█████████████████████████████████████████████| 45/45 [00:00<00:00, 112.52it/s]\n",
      "Generating walks (CPU: 1): 100%|███████████████████████████████████████████████████████| 50/50 [00:00<00:00, 69.73it/s]\n",
      "Computing transition probabilities: 100%|██████████████████████████████████████████████| 51/51 [00:00<00:00, 83.83it/s]\n",
      "Generating walks (CPU: 1): 100%|███████████████████████████████████████████████████████| 50/50 [00:00<00:00, 75.84it/s]\n",
      "Computing transition probabilities: 100%|██████████████████████████████████████████████| 61/61 [00:01<00:00, 56.58it/s]\n",
      "Generating walks (CPU: 1): 100%|███████████████████████████████████████████████████████| 50/50 [00:01<00:00, 45.91it/s]\n",
      "Computing transition probabilities: 100%|██████████████████████████████████████████████| 53/53 [00:00<00:00, 68.66it/s]\n",
      "Generating walks (CPU: 1): 100%|███████████████████████████████████████████████████████| 50/50 [00:00<00:00, 62.51it/s]\n",
      "Computing transition probabilities: 100%|██████████████████████████████████████████████| 47/47 [00:00<00:00, 94.82it/s]\n",
      "Generating walks (CPU: 1): 100%|███████████████████████████████████████████████████████| 50/50 [00:00<00:00, 70.61it/s]\n",
      "Computing transition probabilities: 100%|██████████████████████████████████████████████| 47/47 [00:00<00:00, 91.15it/s]\n",
      "Generating walks (CPU: 1): 100%|███████████████████████████████████████████████████████| 50/50 [00:00<00:00, 64.69it/s]\n",
      "Computing transition probabilities: 100%|██████████████████████████████████████████████| 50/50 [00:00<00:00, 72.55it/s]\n",
      "Generating walks (CPU: 1): 100%|███████████████████████████████████████████████████████| 50/50 [00:00<00:00, 77.25it/s]\n",
      "Computing transition probabilities: 100%|██████████████████████████████████████████████| 51/51 [00:00<00:00, 73.58it/s]\n",
      "Generating walks (CPU: 1): 100%|███████████████████████████████████████████████████████| 50/50 [00:00<00:00, 58.50it/s]\n",
      "Computing transition probabilities: 100%|██████████████████████████████████████████████| 52/52 [00:00<00:00, 68.42it/s]\n",
      "Generating walks (CPU: 1): 100%|███████████████████████████████████████████████████████| 50/50 [00:00<00:00, 63.70it/s]\n",
      "Computing transition probabilities: 100%|██████████████████████████████████████████████| 48/48 [00:00<00:00, 88.80it/s]\n",
      "Generating walks (CPU: 1): 100%|███████████████████████████████████████████████████████| 50/50 [00:00<00:00, 76.77it/s]\n",
      "Computing transition probabilities: 100%|██████████████████████████████████████████████| 55/55 [00:00<00:00, 77.02it/s]\n",
      "Generating walks (CPU: 1): 100%|███████████████████████████████████████████████████████| 50/50 [00:00<00:00, 71.42it/s]\n",
      "Computing transition probabilities: 100%|█████████████████████████████████████████████| 46/46 [00:00<00:00, 115.88it/s]\n",
      "Generating walks (CPU: 1): 100%|███████████████████████████████████████████████████████| 50/50 [00:00<00:00, 89.36it/s]\n",
      "Computing transition probabilities: 100%|██████████████████████████████████████████████| 53/53 [00:00<00:00, 82.14it/s]\n",
      "Generating walks (CPU: 1): 100%|███████████████████████████████████████████████████████| 50/50 [00:00<00:00, 65.53it/s]\n",
      "Computing transition probabilities: 100%|██████████████████████████████████████████████| 58/58 [00:00<00:00, 65.71it/s]\n",
      "Generating walks (CPU: 1): 100%|███████████████████████████████████████████████████████| 50/50 [00:00<00:00, 59.19it/s]\n",
      "Computing transition probabilities: 100%|██████████████████████████████████████████████| 58/58 [00:00<00:00, 63.70it/s]\n",
      "Generating walks (CPU: 1): 100%|███████████████████████████████████████████████████████| 50/50 [00:00<00:00, 66.58it/s]\n",
      "Computing transition probabilities: 100%|██████████████████████████████████████████████| 51/51 [00:00<00:00, 94.70it/s]\n",
      "Generating walks (CPU: 1): 100%|███████████████████████████████████████████████████████| 50/50 [00:00<00:00, 57.43it/s]\n",
      "Computing transition probabilities: 100%|██████████████████████████████████████████████| 48/48 [00:00<00:00, 83.85it/s]\n",
      "Generating walks (CPU: 1): 100%|███████████████████████████████████████████████████████| 50/50 [00:00<00:00, 71.52it/s]\n",
      "Computing transition probabilities: 100%|██████████████████████████████████████████████| 56/56 [00:00<00:00, 74.17it/s]\n",
      "Generating walks (CPU: 1): 100%|███████████████████████████████████████████████████████| 50/50 [00:00<00:00, 56.58it/s]\n",
      "Computing transition probabilities: 100%|█████████████████████████████████████████████| 48/48 [00:00<00:00, 111.41it/s]\n",
      "Generating walks (CPU: 1): 100%|███████████████████████████████████████████████████████| 50/50 [00:00<00:00, 77.61it/s]\n",
      "Computing transition probabilities: 100%|██████████████████████████████████████████████| 56/56 [00:00<00:00, 62.95it/s]\n",
      "Generating walks (CPU: 1): 100%|███████████████████████████████████████████████████████| 50/50 [00:00<00:00, 52.22it/s]\n",
      "Computing transition probabilities: 100%|█████████████████████████████████████████████| 46/46 [00:00<00:00, 117.36it/s]\n",
      "Generating walks (CPU: 1): 100%|███████████████████████████████████████████████████████| 50/50 [00:00<00:00, 81.39it/s]\n",
      "Computing transition probabilities: 100%|█████████████████████████████████████████████| 47/47 [00:00<00:00, 101.78it/s]\n",
      "Generating walks (CPU: 1): 100%|███████████████████████████████████████████████████████| 50/50 [00:00<00:00, 71.62it/s]\n",
      "Computing transition probabilities: 100%|██████████████████████████████████████████████| 55/55 [00:00<00:00, 70.43it/s]\n",
      "Generating walks (CPU: 1): 100%|███████████████████████████████████████████████████████| 50/50 [00:00<00:00, 62.90it/s]\n",
      "Computing transition probabilities: 100%|██████████████████████████████████████████████| 53/53 [00:00<00:00, 74.65it/s]\n",
      "Generating walks (CPU: 1): 100%|███████████████████████████████████████████████████████| 50/50 [00:00<00:00, 63.14it/s]\n",
      "Computing transition probabilities: 100%|██████████████████████████████████████████████| 54/54 [00:00<00:00, 72.00it/s]\n",
      "Generating walks (CPU: 1): 100%|███████████████████████████████████████████████████████| 50/50 [00:00<00:00, 64.61it/s]\n",
      "Computing transition probabilities: 100%|██████████████████████████████████████████████| 55/55 [00:00<00:00, 63.68it/s]\n",
      "Generating walks (CPU: 1): 100%|███████████████████████████████████████████████████████| 50/50 [00:01<00:00, 44.13it/s]\n",
      "Computing transition probabilities: 100%|█████████████████████████████████████████████| 46/46 [00:00<00:00, 100.49it/s]\n",
      "Generating walks (CPU: 1): 100%|███████████████████████████████████████████████████████| 50/50 [00:00<00:00, 81.78it/s]\n",
      "Computing transition probabilities: 100%|██████████████████████████████████████████████| 56/56 [00:00<00:00, 61.30it/s]\n",
      "Generating walks (CPU: 1): 100%|███████████████████████████████████████████████████████| 50/50 [00:00<00:00, 63.30it/s]\n",
      "Computing transition probabilities: 100%|██████████████████████████████████████████████| 50/50 [00:00<00:00, 72.87it/s]\n",
      "Generating walks (CPU: 1): 100%|███████████████████████████████████████████████████████| 50/50 [00:00<00:00, 60.04it/s]\n",
      "Computing transition probabilities: 100%|██████████████████████████████████████████████| 51/51 [00:00<00:00, 63.84it/s]\n",
      "Generating walks (CPU: 1): 100%|███████████████████████████████████████████████████████| 50/50 [00:00<00:00, 65.97it/s]\n",
      "Computing transition probabilities: 100%|██████████████████████████████████████████████| 52/52 [00:00<00:00, 73.23it/s]\n",
      "Generating walks (CPU: 1): 100%|███████████████████████████████████████████████████████| 50/50 [00:00<00:00, 66.14it/s]\n",
      "Computing transition probabilities: 100%|██████████████████████████████████████████████| 48/48 [00:00<00:00, 99.44it/s]\n",
      "Generating walks (CPU: 1): 100%|███████████████████████████████████████████████████████| 50/50 [00:00<00:00, 78.21it/s]\n",
      "Computing transition probabilities: 100%|██████████████████████████████████████████████| 49/49 [00:00<00:00, 94.68it/s]\n",
      "Generating walks (CPU: 1): 100%|███████████████████████████████████████████████████████| 50/50 [00:00<00:00, 81.92it/s]\n",
      "Computing transition probabilities: 100%|██████████████████████████████████████████████| 58/58 [00:00<00:00, 62.67it/s]\n",
      "Generating walks (CPU: 1): 100%|███████████████████████████████████████████████████████| 50/50 [00:00<00:00, 58.64it/s]\n",
      "Computing transition probabilities: 100%|██████████████████████████████████████████████| 52/52 [00:00<00:00, 71.33it/s]\n",
      "Generating walks (CPU: 1): 100%|███████████████████████████████████████████████████████| 50/50 [00:01<00:00, 42.74it/s]\n",
      "Computing transition probabilities: 100%|██████████████████████████████████████████████| 55/55 [00:01<00:00, 54.49it/s]\n",
      "Generating walks (CPU: 1): 100%|███████████████████████████████████████████████████████| 50/50 [00:01<00:00, 49.39it/s]\n",
      "Computing transition probabilities: 100%|██████████████████████████████████████████████| 51/51 [00:01<00:00, 46.07it/s]\n",
      "Generating walks (CPU: 1): 100%|███████████████████████████████████████████████████████| 50/50 [00:00<00:00, 52.94it/s]\n",
      "Computing transition probabilities: 100%|██████████████████████████████████████████████| 49/49 [00:00<00:00, 73.55it/s]\n",
      "Generating walks (CPU: 1): 100%|███████████████████████████████████████████████████████| 50/50 [00:00<00:00, 55.40it/s]\n",
      "Computing transition probabilities: 100%|██████████████████████████████████████████████| 55/55 [00:00<00:00, 78.00it/s]\n",
      "Generating walks (CPU: 1): 100%|███████████████████████████████████████████████████████| 50/50 [00:00<00:00, 64.69it/s]\n",
      "Computing transition probabilities: 100%|█████████████████████████████████████████████| 49/49 [00:00<00:00, 101.72it/s]\n",
      "Generating walks (CPU: 1): 100%|███████████████████████████████████████████████████████| 50/50 [00:00<00:00, 83.56it/s]\n",
      "Computing transition probabilities: 100%|██████████████████████████████████████████████| 50/50 [00:00<00:00, 88.26it/s]\n",
      "Generating walks (CPU: 1): 100%|███████████████████████████████████████████████████████| 50/50 [00:00<00:00, 82.59it/s]\n",
      "Computing transition probabilities: 100%|█████████████████████████████████████████████| 51/51 [00:00<00:00, 116.22it/s]\n",
      "Generating walks (CPU: 1): 100%|███████████████████████████████████████████████████████| 50/50 [00:00<00:00, 82.73it/s]\n",
      "Computing transition probabilities: 100%|██████████████████████████████████████████████| 50/50 [00:00<00:00, 87.96it/s]\n",
      "Generating walks (CPU: 1): 100%|███████████████████████████████████████████████████████| 50/50 [00:00<00:00, 74.94it/s]\n",
      "Computing transition probabilities: 100%|██████████████████████████████████████████████| 55/55 [00:00<00:00, 85.10it/s]\n",
      "Generating walks (CPU: 1): 100%|███████████████████████████████████████████████████████| 50/50 [00:00<00:00, 69.92it/s]\n",
      "Computing transition probabilities: 100%|██████████████████████████████████████████████| 50/50 [00:00<00:00, 96.78it/s]\n",
      "Generating walks (CPU: 1): 100%|███████████████████████████████████████████████████████| 50/50 [00:00<00:00, 62.59it/s]\n",
      "Computing transition probabilities: 100%|██████████████████████████████████████████████| 61/61 [00:00<00:00, 70.63it/s]\n",
      "Generating walks (CPU: 1): 100%|███████████████████████████████████████████████████████| 50/50 [00:00<00:00, 59.19it/s]\n",
      "Computing transition probabilities: 100%|██████████████████████████████████████████████| 52/52 [00:00<00:00, 70.75it/s]\n",
      "Generating walks (CPU: 1): 100%|███████████████████████████████████████████████████████| 50/50 [00:00<00:00, 64.52it/s]\n",
      "Computing transition probabilities: 100%|█████████████████████████████████████████████| 43/43 [00:00<00:00, 144.20it/s]\n",
      "Generating walks (CPU: 1): 100%|███████████████████████████████████████████████████████| 50/50 [00:00<00:00, 98.49it/s]\n",
      "Computing transition probabilities: 100%|██████████████████████████████████████████████| 60/60 [00:00<00:00, 79.16it/s]\n",
      "Generating walks (CPU: 1): 100%|███████████████████████████████████████████████████████| 50/50 [00:00<00:00, 57.89it/s]\n",
      "Computing transition probabilities: 100%|█████████████████████████████████████████████| 46/46 [00:00<00:00, 125.33it/s]\n",
      "Generating walks (CPU: 1): 100%|███████████████████████████████████████████████████████| 50/50 [00:00<00:00, 98.30it/s]\n",
      "Computing transition probabilities: 100%|██████████████████████████████████████████████| 60/60 [00:00<00:00, 68.91it/s]\n",
      "Generating walks (CPU: 1): 100%|███████████████████████████████████████████████████████| 50/50 [00:00<00:00, 52.01it/s]\n",
      "Computing transition probabilities: 100%|██████████████████████████████████████████████| 58/58 [00:00<00:00, 67.39it/s]\n",
      "Generating walks (CPU: 1): 100%|███████████████████████████████████████████████████████| 50/50 [00:00<00:00, 59.83it/s]\n",
      "Computing transition probabilities: 100%|██████████████████████████████████████████████| 56/56 [00:00<00:00, 59.61it/s]\n",
      "Generating walks (CPU: 1): 100%|███████████████████████████████████████████████████████| 50/50 [00:00<00:00, 66.76it/s]\n",
      "Computing transition probabilities: 100%|██████████████████████████████████████████████| 53/53 [00:00<00:00, 83.56it/s]\n",
      "Generating walks (CPU: 1): 100%|███████████████████████████████████████████████████████| 50/50 [00:00<00:00, 68.02it/s]\n",
      "Computing transition probabilities: 100%|██████████████████████████████████████████████| 51/51 [00:00<00:00, 94.00it/s]\n",
      "Generating walks (CPU: 1): 100%|███████████████████████████████████████████████████████| 50/50 [00:00<00:00, 74.94it/s]\n",
      "Computing transition probabilities: 100%|██████████████████████████████████████████████| 51/51 [00:00<00:00, 94.52it/s]\n",
      "Generating walks (CPU: 1): 100%|███████████████████████████████████████████████████████| 50/50 [00:00<00:00, 79.45it/s]\n",
      "Computing transition probabilities: 100%|██████████████████████████████████████████████| 56/56 [00:00<00:00, 65.14it/s]\n",
      "Generating walks (CPU: 1): 100%|███████████████████████████████████████████████████████| 50/50 [00:00<00:00, 68.21it/s]\n",
      "Computing transition probabilities: 100%|██████████████████████████████████████████████| 56/56 [00:00<00:00, 79.08it/s]\n",
      "Generating walks (CPU: 1): 100%|███████████████████████████████████████████████████████| 50/50 [00:00<00:00, 64.86it/s]\n",
      "Computing transition probabilities: 100%|██████████████████████████████████████████████| 60/60 [00:01<00:00, 58.18it/s]\n",
      "Generating walks (CPU: 1): 100%|███████████████████████████████████████████████████████| 50/50 [00:00<00:00, 63.54it/s]\n"
     ]
    },
    {
     "name": "stderr",
     "output_type": "stream",
     "text": [
      "Computing transition probabilities: 100%|██████████████████████████████████████████████| 56/56 [00:00<00:00, 78.20it/s]\n",
      "Generating walks (CPU: 1): 100%|███████████████████████████████████████████████████████| 50/50 [00:00<00:00, 60.55it/s]\n",
      "Computing transition probabilities: 100%|█████████████████████████████████████████████| 46/46 [00:00<00:00, 129.20it/s]\n",
      "Generating walks (CPU: 1): 100%|███████████████████████████████████████████████████████| 50/50 [00:00<00:00, 73.08it/s]\n",
      "Computing transition probabilities: 100%|█████████████████████████████████████████████| 40/40 [00:00<00:00, 108.10it/s]\n",
      "Generating walks (CPU: 1): 100%|███████████████████████████████████████████████████████| 50/50 [00:00<00:00, 83.98it/s]\n",
      "Computing transition probabilities: 100%|██████████████████████████████████████████████| 57/57 [00:00<00:00, 67.24it/s]\n",
      "Generating walks (CPU: 1): 100%|███████████████████████████████████████████████████████| 50/50 [00:00<00:00, 76.42it/s]\n",
      "Computing transition probabilities: 100%|██████████████████████████████████████████████| 61/61 [00:00<00:00, 74.05it/s]\n",
      "Generating walks (CPU: 1): 100%|███████████████████████████████████████████████████████| 50/50 [00:00<00:00, 62.36it/s]\n",
      "Computing transition probabilities: 100%|█████████████████████████████████████████████| 47/47 [00:00<00:00, 110.88it/s]\n",
      "Generating walks (CPU: 1): 100%|███████████████████████████████████████████████████████| 50/50 [00:00<00:00, 87.19it/s]\n",
      "Computing transition probabilities: 100%|█████████████████████████████████████████████| 43/43 [00:00<00:00, 129.47it/s]\n",
      "Generating walks (CPU: 1): 100%|███████████████████████████████████████████████████████| 50/50 [00:00<00:00, 97.92it/s]\n",
      "Computing transition probabilities: 100%|██████████████████████████████████████████████| 60/60 [00:01<00:00, 59.04it/s]\n",
      "Generating walks (CPU: 1): 100%|███████████████████████████████████████████████████████| 50/50 [00:00<00:00, 54.70it/s]\n",
      "Computing transition probabilities: 100%|██████████████████████████████████████████████| 61/61 [00:01<00:00, 57.16it/s]\n",
      "Generating walks (CPU: 1): 100%|███████████████████████████████████████████████████████| 50/50 [00:00<00:00, 51.68it/s]\n",
      "Computing transition probabilities: 100%|█████████████████████████████████████████████| 48/48 [00:00<00:00, 107.91it/s]\n",
      "Generating walks (CPU: 1): 100%|███████████████████████████████████████████████████████| 50/50 [00:00<00:00, 81.52it/s]\n",
      "Computing transition probabilities: 100%|██████████████████████████████████████████████| 56/56 [00:00<00:00, 84.56it/s]\n",
      "Generating walks (CPU: 1): 100%|███████████████████████████████████████████████████████| 50/50 [00:00<00:00, 65.11it/s]\n",
      "Computing transition probabilities: 100%|██████████████████████████████████████████████| 51/51 [00:00<00:00, 98.72it/s]\n",
      "Generating walks (CPU: 1): 100%|███████████████████████████████████████████████████████| 50/50 [00:00<00:00, 83.84it/s]\n",
      "Computing transition probabilities: 100%|██████████████████████████████████████████████| 53/53 [00:00<00:00, 84.35it/s]\n",
      "Generating walks (CPU: 1): 100%|███████████████████████████████████████████████████████| 50/50 [00:00<00:00, 55.09it/s]\n",
      "Computing transition probabilities: 100%|██████████████████████████████████████████████| 56/56 [00:00<00:00, 78.31it/s]\n",
      "Generating walks (CPU: 1): 100%|███████████████████████████████████████████████████████| 50/50 [00:00<00:00, 72.87it/s]\n",
      "Computing transition probabilities: 100%|██████████████████████████████████████████████| 60/60 [00:00<00:00, 64.83it/s]\n",
      "Generating walks (CPU: 1): 100%|███████████████████████████████████████████████████████| 50/50 [00:00<00:00, 58.30it/s]\n",
      "Computing transition probabilities: 100%|██████████████████████████████████████████████| 54/54 [00:00<00:00, 78.13it/s]\n",
      "Generating walks (CPU: 1): 100%|███████████████████████████████████████████████████████| 50/50 [00:00<00:00, 70.61it/s]\n",
      "Computing transition probabilities: 100%|█████████████████████████████████████████████| 48/48 [00:00<00:00, 102.06it/s]\n",
      "Generating walks (CPU: 1): 100%|███████████████████████████████████████████████████████| 50/50 [00:00<00:00, 60.04it/s]\n",
      "Computing transition probabilities: 100%|██████████████████████████████████████████████| 54/54 [00:00<00:00, 63.55it/s]\n",
      "Generating walks (CPU: 1): 100%|███████████████████████████████████████████████████████| 50/50 [00:00<00:00, 57.69it/s]\n",
      "Computing transition probabilities: 100%|██████████████████████████████████████████████| 54/54 [00:00<00:00, 68.45it/s]\n",
      "Generating walks (CPU: 1): 100%|███████████████████████████████████████████████████████| 50/50 [00:00<00:00, 63.86it/s]\n",
      "Computing transition probabilities: 100%|█████████████████████████████████████████████| 49/49 [00:00<00:00, 107.74it/s]\n",
      "Generating walks (CPU: 1): 100%|███████████████████████████████████████████████████████| 50/50 [00:00<00:00, 91.01it/s]\n",
      "Computing transition probabilities: 100%|██████████████████████████████████████████████| 52/52 [00:00<00:00, 86.90it/s]\n",
      "Generating walks (CPU: 1): 100%|███████████████████████████████████████████████████████| 50/50 [00:00<00:00, 69.05it/s]\n",
      "Computing transition probabilities: 100%|██████████████████████████████████████████████| 52/52 [00:00<00:00, 98.75it/s]\n",
      "Generating walks (CPU: 1): 100%|███████████████████████████████████████████████████████| 50/50 [00:00<00:00, 75.05it/s]\n",
      "Computing transition probabilities: 100%|██████████████████████████████████████████████| 53/53 [00:00<00:00, 67.35it/s]\n",
      "Generating walks (CPU: 1): 100%|███████████████████████████████████████████████████████| 50/50 [00:00<00:00, 55.83it/s]\n",
      "Computing transition probabilities: 100%|██████████████████████████████████████████████| 55/55 [00:00<00:00, 66.20it/s]\n",
      "Generating walks (CPU: 1): 100%|███████████████████████████████████████████████████████| 50/50 [00:00<00:00, 62.67it/s]\n",
      "Computing transition probabilities: 100%|██████████████████████████████████████████████| 45/45 [00:00<00:00, 86.11it/s]\n",
      "Generating walks (CPU: 1): 100%|███████████████████████████████████████████████████████| 50/50 [00:00<00:00, 74.05it/s]\n",
      "Computing transition probabilities: 100%|█████████████████████████████████████████████| 46/46 [00:00<00:00, 102.04it/s]\n",
      "Generating walks (CPU: 1): 100%|███████████████████████████████████████████████████████| 50/50 [00:00<00:00, 80.73it/s]\n",
      "Computing transition probabilities: 100%|██████████████████████████████████████████████| 57/57 [00:00<00:00, 76.30it/s]\n",
      "Generating walks (CPU: 1): 100%|███████████████████████████████████████████████████████| 50/50 [00:00<00:00, 66.49it/s]\n",
      "Computing transition probabilities: 100%|██████████████████████████████████████████████| 52/52 [00:00<00:00, 85.06it/s]\n",
      "Generating walks (CPU: 1): 100%|███████████████████████████████████████████████████████| 50/50 [00:00<00:00, 82.59it/s]\n",
      "Computing transition probabilities: 100%|██████████████████████████████████████████████| 58/58 [00:00<00:00, 69.65it/s]\n",
      "Generating walks (CPU: 1): 100%|███████████████████████████████████████████████████████| 50/50 [00:00<00:00, 62.12it/s]\n",
      "Computing transition probabilities: 100%|██████████████████████████████████████████████| 54/54 [00:00<00:00, 85.00it/s]\n",
      "Generating walks (CPU: 1): 100%|███████████████████████████████████████████████████████| 50/50 [00:00<00:00, 69.53it/s]\n",
      "Computing transition probabilities: 100%|█████████████████████████████████████████████| 40/40 [00:00<00:00, 129.38it/s]\n",
      "Generating walks (CPU: 1): 100%|██████████████████████████████████████████████████████| 50/50 [00:00<00:00, 106.67it/s]\n",
      "Computing transition probabilities: 100%|█████████████████████████████████████████████| 44/44 [00:00<00:00, 116.41it/s]\n",
      "Generating walks (CPU: 1): 100%|███████████████████████████████████████████████████████| 50/50 [00:00<00:00, 88.11it/s]\n",
      "Computing transition probabilities: 100%|█████████████████████████████████████████████| 39/39 [00:00<00:00, 194.55it/s]\n",
      "Generating walks (CPU: 1): 100%|███████████████████████████████████████████████████████| 50/50 [00:00<00:00, 97.92it/s]\n",
      "Computing transition probabilities: 100%|█████████████████████████████████████████████| 46/46 [00:00<00:00, 101.59it/s]\n",
      "Generating walks (CPU: 1): 100%|███████████████████████████████████████████████████████| 50/50 [00:00<00:00, 65.11it/s]\n",
      "Computing transition probabilities: 100%|██████████████████████████████████████████████| 50/50 [00:00<00:00, 97.35it/s]\n",
      "Generating walks (CPU: 1): 100%|███████████████████████████████████████████████████████| 50/50 [00:00<00:00, 88.26it/s]\n",
      "Computing transition probabilities: 100%|█████████████████████████████████████████████| 50/50 [00:00<00:00, 108.99it/s]\n",
      "Generating walks (CPU: 1): 100%|███████████████████████████████████████████████████████| 50/50 [00:00<00:00, 72.45it/s]\n",
      "Computing transition probabilities: 100%|█████████████████████████████████████████████| 50/50 [00:00<00:00, 100.67it/s]\n",
      "Generating walks (CPU: 1): 100%|███████████████████████████████████████████████████████| 50/50 [00:00<00:00, 83.42it/s]\n",
      "Computing transition probabilities: 100%|██████████████████████████████████████████████| 50/50 [00:00<00:00, 94.41it/s]\n",
      "Generating walks (CPU: 1): 100%|███████████████████████████████████████████████████████| 50/50 [00:00<00:00, 74.16it/s]\n",
      "Computing transition probabilities: 100%|██████████████████████████████████████████████| 50/50 [00:00<00:00, 87.65it/s]\n",
      "Generating walks (CPU: 1): 100%|███████████████████████████████████████████████████████| 50/50 [00:00<00:00, 62.43it/s]\n",
      "Computing transition probabilities: 100%|██████████████████████████████████████████████| 53/53 [00:00<00:00, 82.39it/s]\n",
      "Generating walks (CPU: 1): 100%|███████████████████████████████████████████████████████| 50/50 [00:00<00:00, 66.23it/s]\n",
      "Computing transition probabilities: 100%|██████████████████████████████████████████████| 59/59 [00:00<00:00, 70.59it/s]\n",
      "Generating walks (CPU: 1): 100%|███████████████████████████████████████████████████████| 50/50 [00:00<00:00, 62.36it/s]\n",
      "Computing transition probabilities: 100%|██████████████████████████████████████████████| 58/58 [00:00<00:00, 73.43it/s]\n",
      "Generating walks (CPU: 1): 100%|███████████████████████████████████████████████████████| 50/50 [00:00<00:00, 67.57it/s]\n",
      "Computing transition probabilities: 100%|██████████████████████████████████████████████| 51/51 [00:00<00:00, 87.86it/s]\n",
      "Generating walks (CPU: 1): 100%|███████████████████████████████████████████████████████| 50/50 [00:00<00:00, 72.97it/s]\n",
      "Computing transition probabilities: 100%|█████████████████████████████████████████████| 49/49 [00:00<00:00, 109.42it/s]\n",
      "Generating walks (CPU: 1): 100%|███████████████████████████████████████████████████████| 50/50 [00:00<00:00, 75.16it/s]\n",
      "Computing transition probabilities: 100%|██████████████████████████████████████████████| 51/51 [00:00<00:00, 88.17it/s]\n",
      "Generating walks (CPU: 1): 100%|███████████████████████████████████████████████████████| 50/50 [00:00<00:00, 68.49it/s]\n",
      "Computing transition probabilities: 100%|██████████████████████████████████████████████| 53/53 [00:00<00:00, 76.46it/s]\n",
      "Generating walks (CPU: 1): 100%|███████████████████████████████████████████████████████| 50/50 [00:00<00:00, 73.08it/s]\n",
      "Computing transition probabilities: 100%|██████████████████████████████████████████████| 54/54 [00:00<00:00, 73.17it/s]\n",
      "Generating walks (CPU: 1): 100%|███████████████████████████████████████████████████████| 50/50 [00:00<00:00, 69.34it/s]\n",
      "Computing transition probabilities: 100%|██████████████████████████████████████████████| 60/60 [00:00<00:00, 68.60it/s]\n",
      "Generating walks (CPU: 1): 100%|███████████████████████████████████████████████████████| 50/50 [00:01<00:00, 49.79it/s]\n",
      "Computing transition probabilities: 100%|██████████████████████████████████████████████| 52/52 [00:00<00:00, 81.47it/s]\n",
      "Generating walks (CPU: 1): 100%|███████████████████████████████████████████████████████| 50/50 [00:00<00:00, 62.98it/s]\n",
      "Computing transition probabilities: 100%|██████████████████████████████████████████████| 58/58 [00:00<00:00, 65.94it/s]\n",
      "Generating walks (CPU: 1): 100%|███████████████████████████████████████████████████████| 50/50 [00:00<00:00, 62.20it/s]\n",
      "Computing transition probabilities: 100%|██████████████████████████████████████████████| 54/54 [00:00<00:00, 87.61it/s]\n",
      "Generating walks (CPU: 1): 100%|███████████████████████████████████████████████████████| 50/50 [00:00<00:00, 78.33it/s]\n",
      "Computing transition probabilities: 100%|██████████████████████████████████████████████| 56/56 [00:00<00:00, 77.66it/s]\n",
      "Generating walks (CPU: 1): 100%|███████████████████████████████████████████████████████| 50/50 [00:00<00:00, 76.89it/s]\n",
      "Computing transition probabilities: 100%|██████████████████████████████████████████████| 55/55 [00:00<00:00, 90.26it/s]\n",
      "Generating walks (CPU: 1): 100%|███████████████████████████████████████████████████████| 50/50 [00:00<00:00, 64.27it/s]\n",
      "Computing transition probabilities: 100%|██████████████████████████████████████████████| 53/53 [00:00<00:00, 88.72it/s]\n",
      "Generating walks (CPU: 1): 100%|███████████████████████████████████████████████████████| 50/50 [00:00<00:00, 55.27it/s]\n",
      "Computing transition probabilities: 100%|██████████████████████████████████████████████| 51/51 [00:00<00:00, 86.67it/s]\n",
      "Generating walks (CPU: 1): 100%|███████████████████████████████████████████████████████| 50/50 [00:00<00:00, 79.58it/s]\n",
      "Computing transition probabilities: 100%|██████████████████████████████████████████████| 55/55 [00:00<00:00, 79.81it/s]\n",
      "Generating walks (CPU: 1): 100%|███████████████████████████████████████████████████████| 50/50 [00:00<00:00, 67.11it/s]\n",
      "Computing transition probabilities: 100%|██████████████████████████████████████████████| 62/62 [00:01<00:00, 61.92it/s]\n",
      "Generating walks (CPU: 1): 100%|███████████████████████████████████████████████████████| 50/50 [00:00<00:00, 68.68it/s]\n",
      "Computing transition probabilities: 100%|██████████████████████████████████████████████| 54/54 [00:00<00:00, 97.38it/s]\n",
      "Generating walks (CPU: 1): 100%|███████████████████████████████████████████████████████| 50/50 [00:00<00:00, 61.67it/s]\n",
      "Computing transition probabilities: 100%|██████████████████████████████████████████████| 60/60 [00:00<00:00, 73.64it/s]\n",
      "Generating walks (CPU: 1): 100%|███████████████████████████████████████████████████████| 50/50 [00:00<00:00, 57.96it/s]\n",
      "Computing transition probabilities: 100%|██████████████████████████████████████████████| 52/52 [00:00<00:00, 82.50it/s]\n",
      "Generating walks (CPU: 1): 100%|███████████████████████████████████████████████████████| 50/50 [00:00<00:00, 60.92it/s]\n",
      "Computing transition probabilities: 100%|██████████████████████████████████████████████| 53/53 [00:00<00:00, 86.69it/s]\n",
      "Generating walks (CPU: 1): 100%|███████████████████████████████████████████████████████| 50/50 [00:00<00:00, 55.40it/s]\n",
      "Computing transition probabilities: 100%|██████████████████████████████████████████████| 62/62 [00:01<00:00, 35.20it/s]\n",
      "Generating walks (CPU: 1): 100%|███████████████████████████████████████████████████████| 50/50 [00:01<00:00, 41.23it/s]\n",
      "Computing transition probabilities: 100%|██████████████████████████████████████████████| 58/58 [00:01<00:00, 51.28it/s]\n",
      "Generating walks (CPU: 1): 100%|███████████████████████████████████████████████████████| 50/50 [00:00<00:00, 64.94it/s]\n",
      "Computing transition probabilities: 100%|██████████████████████████████████████████████| 61/61 [00:00<00:00, 72.47it/s]\n",
      "Generating walks (CPU: 1): 100%|███████████████████████████████████████████████████████| 50/50 [00:00<00:00, 60.99it/s]\n"
     ]
    },
    {
     "name": "stdout",
     "output_type": "stream",
     "text": [
      "\n"
     ]
    },
    {
     "data": {
      "application/vnd.jupyter.widget-view+json": {
       "model_id": "2287c87fb30242bb97887ce12bc391ed",
       "version_major": 2,
       "version_minor": 0
      },
      "text/plain": [
       "HBox(children=(IntProgress(value=1, bar_style='info', max=1), HTML(value='')))"
      ]
     },
     "metadata": {},
     "output_type": "display_data"
    },
    {
     "name": "stdout",
     "output_type": "stream",
     "text": [
      "\n"
     ]
    },
    {
     "name": "stderr",
     "output_type": "stream",
     "text": [
      "C:\\Users\\Stefano\\.conda\\envs\\base2\\lib\\site-packages\\sklearn\\linear_model\\_logistic.py:764: ConvergenceWarning: lbfgs failed to converge (status=1):\n",
      "STOP: TOTAL NO. of ITERATIONS REACHED LIMIT.\n",
      "\n",
      "Increase the number of iterations (max_iter) or scale the data as shown in:\n",
      "    https://scikit-learn.org/stable/modules/preprocessing.html\n",
      "Please also refer to the documentation for alternative solver options:\n",
      "    https://scikit-learn.org/stable/modules/linear_model.html#logistic-regression\n",
      "  extra_warning_msg=_LOGISTIC_SOLVER_CONVERGENCE_MSG)\n"
     ]
    },
    {
     "data": {
      "application/vnd.jupyter.widget-view+json": {
       "model_id": "e26bf4bb4c5f4bc5a5764e60af4fb2ec",
       "version_major": 2,
       "version_minor": 0
      },
      "text/plain": [
       "HBox(children=(IntProgress(value=1, bar_style='info', max=1), HTML(value='')))"
      ]
     },
     "metadata": {},
     "output_type": "display_data"
    },
    {
     "name": "stdout",
     "output_type": "stream",
     "text": [
      "\n"
     ]
    },
    {
     "name": "stderr",
     "output_type": "stream",
     "text": [
      "C:\\Users\\Stefano\\.conda\\envs\\base2\\lib\\site-packages\\sklearn\\base.py:213: FutureWarning: From version 0.24, get_params will raise an AttributeError if a parameter cannot be retrieved as an instance attribute. Previously it would return None.\n",
      "  FutureWarning)\n"
     ]
    },
    {
     "data": {
      "application/vnd.jupyter.widget-view+json": {
       "model_id": "3d55f918a78a4c92b18f751d1c7e8dff",
       "version_major": 2,
       "version_minor": 0
      },
      "text/plain": [
       "HBox(children=(IntProgress(value=0, max=200), HTML(value='')))"
      ]
     },
     "metadata": {},
     "output_type": "display_data"
    },
    {
     "name": "stdout",
     "output_type": "stream",
     "text": [
      "\n"
     ]
    },
    {
     "data": {
      "application/vnd.jupyter.widget-view+json": {
       "model_id": "112a9bfafc544654913d17e0591e801d",
       "version_major": 2,
       "version_minor": 0
      },
      "text/plain": [
       "HBox(children=(IntProgress(value=0, max=200), HTML(value='')))"
      ]
     },
     "metadata": {},
     "output_type": "display_data"
    },
    {
     "name": "stderr",
     "output_type": "stream",
     "text": [
      "Computing transition probabilities: 100%|██████████████████████████████████████████████| 57/57 [00:00<00:00, 72.07it/s]\n",
      "Generating walks (CPU: 1): 100%|███████████████████████████████████████████████████████| 50/50 [00:00<00:00, 52.06it/s]\n",
      "Computing transition probabilities: 100%|██████████████████████████████████████████████| 51/51 [00:00<00:00, 77.71it/s]\n",
      "Generating walks (CPU: 1): 100%|███████████████████████████████████████████████████████| 50/50 [00:00<00:00, 87.04it/s]\n",
      "Computing transition probabilities: 100%|█████████████████████████████████████████████| 49/49 [00:00<00:00, 107.98it/s]\n",
      "Generating walks (CPU: 1): 100%|███████████████████████████████████████████████████████| 50/50 [00:00<00:00, 82.87it/s]\n",
      "Computing transition probabilities: 100%|█████████████████████████████████████████████| 44/44 [00:00<00:00, 124.27it/s]\n",
      "Generating walks (CPU: 1): 100%|███████████████████████████████████████████████████████| 50/50 [00:00<00:00, 96.97it/s]\n",
      "Computing transition probabilities: 100%|█████████████████████████████████████████████| 45/45 [00:00<00:00, 147.45it/s]\n",
      "Generating walks (CPU: 1): 100%|██████████████████████████████████████████████████████| 50/50 [00:00<00:00, 100.07it/s]\n",
      "Computing transition probabilities: 100%|█████████████████████████████████████████████| 49/49 [00:00<00:00, 112.17it/s]\n",
      "Generating walks (CPU: 1): 100%|███████████████████████████████████████████████████████| 50/50 [00:00<00:00, 79.33it/s]\n",
      "Computing transition probabilities: 100%|██████████████████████████████████████████████| 57/57 [00:00<00:00, 62.32it/s]\n",
      "Generating walks (CPU: 1): 100%|███████████████████████████████████████████████████████| 50/50 [00:00<00:00, 52.11it/s]\n",
      "Computing transition probabilities: 100%|██████████████████████████████████████████████| 53/53 [00:00<00:00, 59.84it/s]\n",
      "Generating walks (CPU: 1): 100%|███████████████████████████████████████████████████████| 50/50 [00:00<00:00, 64.77it/s]\n",
      "Computing transition probabilities: 100%|██████████████████████████████████████████████| 55/55 [00:00<00:00, 69.90it/s]\n",
      "Generating walks (CPU: 1): 100%|███████████████████████████████████████████████████████| 50/50 [00:00<00:00, 66.58it/s]\n",
      "Computing transition probabilities: 100%|██████████████████████████████████████████████| 53/53 [00:00<00:00, 81.26it/s]\n",
      "Generating walks (CPU: 1): 100%|███████████████████████████████████████████████████████| 50/50 [00:00<00:00, 63.30it/s]\n",
      "Computing transition probabilities: 100%|█████████████████████████████████████████████| 45/45 [00:00<00:00, 130.41it/s]\n",
      "Generating walks (CPU: 1): 100%|███████████████████████████████████████████████████████| 50/50 [00:00<00:00, 98.88it/s]\n",
      "Computing transition probabilities: 100%|█████████████████████████████████████████████| 48/48 [00:00<00:00, 128.34it/s]\n",
      "Generating walks (CPU: 1): 100%|███████████████████████████████████████████████████████| 50/50 [00:00<00:00, 78.46it/s]\n",
      "Computing transition probabilities: 100%|██████████████████████████████████████████████| 57/57 [00:00<00:00, 74.81it/s]\n",
      "Generating walks (CPU: 1): 100%|███████████████████████████████████████████████████████| 50/50 [00:00<00:00, 67.84it/s]\n",
      "Computing transition probabilities: 100%|█████████████████████████████████████████████| 50/50 [00:00<00:00, 116.59it/s]\n",
      "Generating walks (CPU: 1): 100%|███████████████████████████████████████████████████████| 50/50 [00:00<00:00, 81.12it/s]\n",
      "Computing transition probabilities: 100%|█████████████████████████████████████████████| 41/41 [00:00<00:00, 119.50it/s]\n",
      "Generating walks (CPU: 1): 100%|███████████████████████████████████████████████████████| 50/50 [00:00<00:00, 82.05it/s]\n",
      "Computing transition probabilities: 100%|█████████████████████████████████████████████| 49/49 [00:00<00:00, 108.70it/s]\n",
      "Generating walks (CPU: 1): 100%|███████████████████████████████████████████████████████| 50/50 [00:00<00:00, 79.58it/s]\n",
      "Computing transition probabilities: 100%|██████████████████████████████████████████████| 61/61 [00:00<00:00, 68.72it/s]\n",
      "Generating walks (CPU: 1): 100%|███████████████████████████████████████████████████████| 50/50 [00:00<00:00, 59.90it/s]\n",
      "Computing transition probabilities: 100%|██████████████████████████████████████████████| 56/56 [00:00<00:00, 68.06it/s]\n",
      "Generating walks (CPU: 1): 100%|███████████████████████████████████████████████████████| 50/50 [00:00<00:00, 68.21it/s]\n",
      "Computing transition probabilities: 100%|█████████████████████████████████████████████| 45/45 [00:00<00:00, 112.80it/s]\n",
      "Generating walks (CPU: 1): 100%|███████████████████████████████████████████████████████| 50/50 [00:00<00:00, 77.49it/s]\n",
      "Computing transition probabilities: 100%|██████████████████████████████████████████████| 58/58 [00:00<00:00, 79.34it/s]\n",
      "Generating walks (CPU: 1): 100%|███████████████████████████████████████████████████████| 50/50 [00:00<00:00, 65.72it/s]\n",
      "Computing transition probabilities: 100%|█████████████████████████████████████████████| 48/48 [00:00<00:00, 106.24it/s]\n",
      "Generating walks (CPU: 1): 100%|███████████████████████████████████████████████████████| 50/50 [00:00<00:00, 84.83it/s]\n",
      "Computing transition probabilities: 100%|██████████████████████████████████████████████| 53/53 [00:00<00:00, 77.47it/s]\n",
      "Generating walks (CPU: 1): 100%|███████████████████████████████████████████████████████| 50/50 [00:00<00:00, 74.05it/s]\n",
      "Computing transition probabilities: 100%|██████████████████████████████████████████████| 53/53 [00:00<00:00, 97.51it/s]\n",
      "Generating walks (CPU: 1): 100%|███████████████████████████████████████████████████████| 50/50 [00:00<00:00, 52.33it/s]\n",
      "Computing transition probabilities: 100%|█████████████████████████████████████████████| 44/44 [00:00<00:00, 111.40it/s]\n",
      "Generating walks (CPU: 1): 100%|███████████████████████████████████████████████████████| 50/50 [00:00<00:00, 81.25it/s]\n",
      "Computing transition probabilities: 100%|██████████████████████████████████████████████| 53/53 [00:00<00:00, 83.16it/s]\n",
      "Generating walks (CPU: 1): 100%|███████████████████████████████████████████████████████| 50/50 [00:00<00:00, 70.91it/s]\n",
      "Computing transition probabilities: 100%|█████████████████████████████████████████████| 45/45 [00:00<00:00, 109.25it/s]\n",
      "Generating walks (CPU: 1): 100%|███████████████████████████████████████████████████████| 50/50 [00:00<00:00, 82.32it/s]\n",
      "Computing transition probabilities: 100%|█████████████████████████████████████████████| 51/51 [00:00<00:00, 103.31it/s]\n",
      "Generating walks (CPU: 1): 100%|███████████████████████████████████████████████████████| 50/50 [00:00<00:00, 73.19it/s]\n",
      "Computing transition probabilities: 100%|██████████████████████████████████████████████| 55/55 [00:00<00:00, 58.79it/s]\n",
      "Generating walks (CPU: 1): 100%|███████████████████████████████████████████████████████| 50/50 [00:00<00:00, 59.47it/s]\n",
      "Computing transition probabilities: 100%|██████████████████████████████████████████████| 59/59 [00:00<00:00, 77.63it/s]\n",
      "Generating walks (CPU: 1): 100%|███████████████████████████████████████████████████████| 50/50 [00:00<00:00, 53.97it/s]\n",
      "Computing transition probabilities: 100%|██████████████████████████████████████████████| 51/51 [00:00<00:00, 78.31it/s]\n",
      "Generating walks (CPU: 1): 100%|███████████████████████████████████████████████████████| 50/50 [00:00<00:00, 73.19it/s]\n",
      "Computing transition probabilities: 100%|██████████████████████████████████████████████| 50/50 [00:00<00:00, 92.33it/s]\n",
      "Generating walks (CPU: 1): 100%|███████████████████████████████████████████████████████| 50/50 [00:00<00:00, 65.45it/s]\n",
      "Computing transition probabilities: 100%|██████████████████████████████████████████████| 61/61 [00:01<00:00, 38.06it/s]\n",
      "Generating walks (CPU: 1): 100%|███████████████████████████████████████████████████████| 50/50 [00:01<00:00, 45.91it/s]\n",
      "Computing transition probabilities: 100%|██████████████████████████████████████████████| 53/53 [00:00<00:00, 63.19it/s]\n",
      "Generating walks (CPU: 1): 100%|███████████████████████████████████████████████████████| 50/50 [00:00<00:00, 68.86it/s]\n",
      "Computing transition probabilities: 100%|█████████████████████████████████████████████| 42/42 [00:00<00:00, 138.53it/s]\n",
      "Generating walks (CPU: 1): 100%|██████████████████████████████████████████████████████| 50/50 [00:00<00:00, 104.23it/s]\n",
      "Computing transition probabilities: 100%|██████████████████████████████████████████████| 51/51 [00:00<00:00, 89.56it/s]\n",
      "Generating walks (CPU: 1): 100%|███████████████████████████████████████████████████████| 50/50 [00:00<00:00, 64.11it/s]\n",
      "Computing transition probabilities: 100%|██████████████████████████████████████████████| 57/57 [00:00<00:00, 84.67it/s]\n",
      "Generating walks (CPU: 1): 100%|███████████████████████████████████████████████████████| 50/50 [00:00<00:00, 50.18it/s]\n",
      "Computing transition probabilities: 100%|█████████████████████████████████████████████| 47/47 [00:00<00:00, 112.74it/s]\n",
      "Generating walks (CPU: 1): 100%|███████████████████████████████████████████████████████| 50/50 [00:00<00:00, 83.00it/s]\n",
      "Computing transition probabilities: 100%|██████████████████████████████████████████████| 57/57 [00:00<00:00, 70.38it/s]\n",
      "Generating walks (CPU: 1): 100%|███████████████████████████████████████████████████████| 50/50 [00:00<00:00, 59.47it/s]\n",
      "Computing transition probabilities: 100%|██████████████████████████████████████████████| 49/49 [00:00<00:00, 77.37it/s]\n",
      "Generating walks (CPU: 1): 100%|███████████████████████████████████████████████████████| 50/50 [00:00<00:00, 70.91it/s]\n",
      "Computing transition probabilities: 100%|██████████████████████████████████████████████| 53/53 [00:00<00:00, 78.03it/s]\n",
      "Generating walks (CPU: 1): 100%|███████████████████████████████████████████████████████| 50/50 [00:00<00:00, 68.49it/s]\n",
      "Computing transition probabilities: 100%|██████████████████████████████████████████████| 54/54 [00:00<00:00, 85.40it/s]\n",
      "Generating walks (CPU: 1): 100%|███████████████████████████████████████████████████████| 50/50 [00:00<00:00, 68.46it/s]\n",
      "Computing transition probabilities: 100%|█████████████████████████████████████████████| 46/46 [00:00<00:00, 133.69it/s]\n",
      "Generating walks (CPU: 1): 100%|███████████████████████████████████████████████████████| 50/50 [00:00<00:00, 81.92it/s]\n",
      "Computing transition probabilities: 100%|██████████████████████████████████████████████| 51/51 [00:00<00:00, 60.37it/s]\n",
      "Generating walks (CPU: 1): 100%|███████████████████████████████████████████████████████| 50/50 [00:01<00:00, 45.08it/s]\n",
      "Computing transition probabilities: 100%|██████████████████████████████████████████████| 53/53 [00:00<00:00, 99.14it/s]\n",
      "Generating walks (CPU: 1): 100%|███████████████████████████████████████████████████████| 50/50 [00:00<00:00, 76.42it/s]\n",
      "Computing transition probabilities: 100%|█████████████████████████████████████████████| 40/40 [00:00<00:00, 162.38it/s]\n",
      "Generating walks (CPU: 1): 100%|███████████████████████████████████████████████████████| 50/50 [00:00<00:00, 98.30it/s]\n",
      "Computing transition probabilities: 100%|██████████████████████████████████████████████| 56/56 [00:00<00:00, 75.88it/s]\n",
      "Generating walks (CPU: 1): 100%|███████████████████████████████████████████████████████| 50/50 [00:00<00:00, 52.66it/s]\n",
      "Computing transition probabilities: 100%|██████████████████████████████████████████████| 48/48 [00:00<00:00, 90.98it/s]\n",
      "Generating walks (CPU: 1): 100%|███████████████████████████████████████████████████████| 50/50 [00:00<00:00, 75.39it/s]\n",
      "Computing transition probabilities: 100%|██████████████████████████████████████████████| 57/57 [00:01<00:00, 55.38it/s]\n",
      "Generating walks (CPU: 1): 100%|███████████████████████████████████████████████████████| 50/50 [00:00<00:00, 59.05it/s]\n",
      "Computing transition probabilities: 100%|██████████████████████████████████████████████| 46/46 [00:00<00:00, 94.32it/s]\n",
      "Generating walks (CPU: 1): 100%|███████████████████████████████████████████████████████| 50/50 [00:00<00:00, 80.34it/s]\n",
      "Computing transition probabilities: 100%|██████████████████████████████████████████████| 50/50 [00:00<00:00, 97.54it/s]\n",
      "Generating walks (CPU: 1): 100%|███████████████████████████████████████████████████████| 50/50 [00:00<00:00, 70.12it/s]\n",
      "Computing transition probabilities: 100%|██████████████████████████████████████████████| 46/46 [00:00<00:00, 61.42it/s]\n",
      "Generating walks (CPU: 1): 100%|███████████████████████████████████████████████████████| 50/50 [00:01<00:00, 38.89it/s]\n",
      "Computing transition probabilities: 100%|██████████████████████████████████████████████| 47/47 [00:00<00:00, 59.88it/s]\n",
      "Generating walks (CPU: 1): 100%|███████████████████████████████████████████████████████| 50/50 [00:01<00:00, 49.10it/s]\n",
      "Computing transition probabilities: 100%|██████████████████████████████████████████████| 61/61 [00:01<00:00, 43.32it/s]\n",
      "Generating walks (CPU: 1): 100%|███████████████████████████████████████████████████████| 50/50 [00:01<00:00, 42.74it/s]\n",
      "Computing transition probabilities: 100%|██████████████████████████████████████████████| 54/54 [00:00<00:00, 66.93it/s]\n",
      "Generating walks (CPU: 1): 100%|███████████████████████████████████████████████████████| 50/50 [00:00<00:00, 60.33it/s]\n",
      "Computing transition probabilities: 100%|██████████████████████████████████████████████| 52/52 [00:00<00:00, 89.90it/s]\n",
      "Generating walks (CPU: 1): 100%|███████████████████████████████████████████████████████| 50/50 [00:00<00:00, 70.12it/s]\n",
      "Computing transition probabilities: 100%|██████████████████████████████████████████████| 51/51 [00:00<00:00, 68.73it/s]\n",
      "Generating walks (CPU: 1): 100%|███████████████████████████████████████████████████████| 50/50 [00:00<00:00, 53.39it/s]\n",
      "Computing transition probabilities: 100%|██████████████████████████████████████████████| 59/59 [00:01<00:00, 49.80it/s]\n",
      "Generating walks (CPU: 1): 100%|███████████████████████████████████████████████████████| 50/50 [00:00<00:00, 64.11it/s]\n",
      "Computing transition probabilities: 100%|██████████████████████████████████████████████| 61/61 [00:00<00:00, 62.16it/s]\n",
      "Generating walks (CPU: 1): 100%|███████████████████████████████████████████████████████| 50/50 [00:00<00:00, 56.78it/s]\n",
      "Computing transition probabilities: 100%|██████████████████████████████████████████████| 59/59 [00:00<00:00, 66.84it/s]\n",
      "Generating walks (CPU: 1): 100%|███████████████████████████████████████████████████████| 50/50 [00:00<00:00, 61.51it/s]\n",
      "Computing transition probabilities: 100%|█████████████████████████████████████████████| 43/43 [00:00<00:00, 125.70it/s]\n",
      "Generating walks (CPU: 1): 100%|███████████████████████████████████████████████████████| 50/50 [00:00<00:00, 67.38it/s]\n",
      "Computing transition probabilities: 100%|██████████████████████████████████████████████| 54/54 [00:00<00:00, 54.47it/s]\n",
      "Generating walks (CPU: 1): 100%|███████████████████████████████████████████████████████| 50/50 [00:01<00:00, 44.10it/s]\n",
      "Computing transition probabilities: 100%|██████████████████████████████████████████████| 62/62 [00:01<00:00, 50.05it/s]\n",
      "Generating walks (CPU: 1): 100%|███████████████████████████████████████████████████████| 50/50 [00:00<00:00, 54.26it/s]\n",
      "Computing transition probabilities: 100%|██████████████████████████████████████████████| 56/56 [00:00<00:00, 67.98it/s]\n",
      "Generating walks (CPU: 1): 100%|███████████████████████████████████████████████████████| 50/50 [00:00<00:00, 60.62it/s]\n",
      "Computing transition probabilities: 100%|██████████████████████████████████████████████| 56/56 [00:00<00:00, 62.04it/s]\n",
      "Generating walks (CPU: 1): 100%|███████████████████████████████████████████████████████| 50/50 [00:00<00:00, 61.74it/s]\n",
      "Computing transition probabilities: 100%|██████████████████████████████████████████████| 51/51 [00:00<00:00, 80.15it/s]\n",
      "Generating walks (CPU: 1): 100%|███████████████████████████████████████████████████████| 50/50 [00:00<00:00, 53.00it/s]\n",
      "Computing transition probabilities: 100%|██████████████████████████████████████████████| 47/47 [00:00<00:00, 76.75it/s]\n",
      "Generating walks (CPU: 1): 100%|███████████████████████████████████████████████████████| 50/50 [00:00<00:00, 72.87it/s]\n",
      "Computing transition probabilities: 100%|██████████████████████████████████████████████| 58/58 [00:00<00:00, 61.48it/s]\n",
      "Generating walks (CPU: 1): 100%|███████████████████████████████████████████████████████| 50/50 [00:00<00:00, 52.01it/s]\n",
      "Computing transition probabilities: 100%|██████████████████████████████████████████████| 58/58 [00:01<00:00, 55.54it/s]\n",
      "Generating walks (CPU: 1): 100%|███████████████████████████████████████████████████████| 50/50 [00:01<00:00, 44.09it/s]\n"
     ]
    },
    {
     "name": "stderr",
     "output_type": "stream",
     "text": [
      "Computing transition probabilities: 100%|██████████████████████████████████████████████| 49/49 [00:00<00:00, 63.97it/s]\n",
      "Generating walks (CPU: 1): 100%|███████████████████████████████████████████████████████| 50/50 [00:00<00:00, 53.50it/s]\n",
      "Computing transition probabilities: 100%|██████████████████████████████████████████████| 51/51 [00:00<00:00, 84.94it/s]\n",
      "Generating walks (CPU: 1): 100%|███████████████████████████████████████████████████████| 50/50 [00:00<00:00, 63.46it/s]\n",
      "Computing transition probabilities: 100%|██████████████████████████████████████████████| 60/60 [00:01<00:00, 49.11it/s]\n",
      "Generating walks (CPU: 1): 100%|███████████████████████████████████████████████████████| 50/50 [00:00<00:00, 50.54it/s]\n",
      "Computing transition probabilities: 100%|██████████████████████████████████████████████| 57/57 [00:00<00:00, 58.14it/s]\n",
      "Generating walks (CPU: 1): 100%|███████████████████████████████████████████████████████| 50/50 [00:00<00:00, 59.26it/s]\n",
      "Computing transition probabilities: 100%|█████████████████████████████████████████████| 48/48 [00:00<00:00, 101.54it/s]\n",
      "Generating walks (CPU: 1): 100%|███████████████████████████████████████████████████████| 50/50 [00:00<00:00, 70.31it/s]\n",
      "Computing transition probabilities: 100%|██████████████████████████████████████████████| 57/57 [00:01<00:00, 48.48it/s]\n",
      "Generating walks (CPU: 1): 100%|███████████████████████████████████████████████████████| 50/50 [00:01<00:00, 48.44it/s]\n",
      "Computing transition probabilities: 100%|██████████████████████████████████████████████| 47/47 [00:00<00:00, 75.89it/s]\n",
      "Generating walks (CPU: 1): 100%|███████████████████████████████████████████████████████| 50/50 [00:00<00:00, 70.12it/s]\n",
      "Computing transition probabilities: 100%|██████████████████████████████████████████████| 56/56 [00:00<00:00, 69.32it/s]\n",
      "Generating walks (CPU: 1): 100%|███████████████████████████████████████████████████████| 50/50 [00:00<00:00, 58.43it/s]\n",
      "Computing transition probabilities: 100%|██████████████████████████████████████████████| 57/57 [00:00<00:00, 67.24it/s]\n",
      "Generating walks (CPU: 1): 100%|███████████████████████████████████████████████████████| 50/50 [00:00<00:00, 53.79it/s]\n",
      "Computing transition probabilities: 100%|██████████████████████████████████████████████| 48/48 [00:00<00:00, 88.63it/s]\n",
      "Generating walks (CPU: 1): 100%|███████████████████████████████████████████████████████| 50/50 [00:00<00:00, 77.01it/s]\n",
      "Computing transition probabilities: 100%|██████████████████████████████████████████████| 49/49 [00:00<00:00, 88.37it/s]\n",
      "Generating walks (CPU: 1): 100%|███████████████████████████████████████████████████████| 50/50 [00:00<00:00, 89.84it/s]\n",
      "Computing transition probabilities: 100%|██████████████████████████████████████████████| 51/51 [00:00<00:00, 96.12it/s]\n",
      "Generating walks (CPU: 1): 100%|███████████████████████████████████████████████████████| 50/50 [00:00<00:00, 82.59it/s]\n",
      "Computing transition probabilities: 100%|█████████████████████████████████████████████| 51/51 [00:00<00:00, 106.75it/s]\n",
      "Generating walks (CPU: 1): 100%|███████████████████████████████████████████████████████| 50/50 [00:00<00:00, 79.83it/s]\n",
      "Computing transition probabilities: 100%|██████████████████████████████████████████████| 50/50 [00:00<00:00, 69.82it/s]\n",
      "Generating walks (CPU: 1): 100%|███████████████████████████████████████████████████████| 50/50 [00:00<00:00, 79.20it/s]\n",
      "Computing transition probabilities: 100%|██████████████████████████████████████████████| 51/51 [00:00<00:00, 85.51it/s]\n",
      "Generating walks (CPU: 1): 100%|███████████████████████████████████████████████████████| 50/50 [00:00<00:00, 66.76it/s]\n",
      "Computing transition probabilities: 100%|██████████████████████████████████████████████| 56/56 [00:00<00:00, 70.63it/s]\n",
      "Generating walks (CPU: 1): 100%|███████████████████████████████████████████████████████| 50/50 [00:00<00:00, 54.37it/s]\n",
      "Computing transition probabilities: 100%|██████████████████████████████████████████████| 50/50 [00:00<00:00, 93.53it/s]\n",
      "Generating walks (CPU: 1): 100%|███████████████████████████████████████████████████████| 50/50 [00:00<00:00, 59.68it/s]\n",
      "Computing transition probabilities: 100%|██████████████████████████████████████████████| 53/53 [00:00<00:00, 65.77it/s]\n",
      "Generating walks (CPU: 1): 100%|███████████████████████████████████████████████████████| 50/50 [00:00<00:00, 69.15it/s]\n",
      "Computing transition probabilities: 100%|██████████████████████████████████████████████| 52/52 [00:00<00:00, 94.80it/s]\n",
      "Generating walks (CPU: 1): 100%|███████████████████████████████████████████████████████| 50/50 [00:00<00:00, 51.10it/s]\n",
      "Computing transition probabilities: 100%|██████████████████████████████████████████████| 51/51 [00:00<00:00, 66.76it/s]\n",
      "Generating walks (CPU: 1): 100%|███████████████████████████████████████████████████████| 50/50 [00:00<00:00, 71.62it/s]\n",
      "Computing transition probabilities: 100%|██████████████████████████████████████████████| 59/59 [00:00<00:00, 64.58it/s]\n",
      "Generating walks (CPU: 1): 100%|███████████████████████████████████████████████████████| 50/50 [00:00<00:00, 57.69it/s]\n",
      "Computing transition probabilities: 100%|██████████████████████████████████████████████| 51/51 [00:00<00:00, 91.81it/s]\n",
      "Generating walks (CPU: 1): 100%|███████████████████████████████████████████████████████| 50/50 [00:00<00:00, 76.33it/s]\n",
      "Computing transition probabilities: 100%|██████████████████████████████████████████████| 58/58 [00:00<00:00, 74.56it/s]\n",
      "Generating walks (CPU: 1): 100%|███████████████████████████████████████████████████████| 50/50 [00:00<00:00, 65.02it/s]\n",
      "Computing transition probabilities: 100%|██████████████████████████████████████████████| 55/55 [00:00<00:00, 78.67it/s]\n",
      "Generating walks (CPU: 1): 100%|███████████████████████████████████████████████████████| 50/50 [00:00<00:00, 69.92it/s]\n",
      "Computing transition probabilities: 100%|██████████████████████████████████████████████| 49/49 [00:00<00:00, 80.68it/s]\n",
      "Generating walks (CPU: 1): 100%|███████████████████████████████████████████████████████| 50/50 [00:00<00:00, 60.18it/s]\n",
      "Computing transition probabilities: 100%|██████████████████████████████████████████████| 57/57 [00:00<00:00, 90.57it/s]\n",
      "Generating walks (CPU: 1): 100%|███████████████████████████████████████████████████████| 50/50 [00:00<00:00, 79.83it/s]\n",
      "Computing transition probabilities: 100%|█████████████████████████████████████████████| 45/45 [00:00<00:00, 122.94it/s]\n",
      "Generating walks (CPU: 1): 100%|███████████████████████████████████████████████████████| 50/50 [00:00<00:00, 87.04it/s]\n",
      "Computing transition probabilities: 100%|██████████████████████████████████████████████| 54/54 [00:00<00:00, 82.54it/s]\n",
      "Generating walks (CPU: 1): 100%|███████████████████████████████████████████████████████| 50/50 [00:00<00:00, 64.03it/s]\n",
      "Computing transition probabilities: 100%|██████████████████████████████████████████████| 51/51 [00:00<00:00, 97.78it/s]\n",
      "Generating walks (CPU: 1): 100%|███████████████████████████████████████████████████████| 50/50 [00:00<00:00, 54.55it/s]\n",
      "Computing transition probabilities: 100%|██████████████████████████████████████████████| 58/58 [00:00<00:00, 65.56it/s]\n",
      "Generating walks (CPU: 1): 100%|███████████████████████████████████████████████████████| 50/50 [00:00<00:00, 55.95it/s]\n",
      "Computing transition probabilities: 100%|██████████████████████████████████████████████| 50/50 [00:00<00:00, 69.44it/s]\n",
      "Generating walks (CPU: 1): 100%|███████████████████████████████████████████████████████| 50/50 [00:00<00:00, 71.72it/s]\n",
      "Computing transition probabilities: 100%|██████████████████████████████████████████████| 51/51 [00:00<00:00, 92.64it/s]\n",
      "Generating walks (CPU: 1): 100%|███████████████████████████████████████████████████████| 50/50 [00:00<00:00, 84.25it/s]\n",
      "Computing transition probabilities: 100%|██████████████████████████████████████████████| 61/61 [00:01<00:00, 48.35it/s]\n",
      "Generating walks (CPU: 1): 100%|███████████████████████████████████████████████████████| 50/50 [00:00<00:00, 54.55it/s]\n",
      "Computing transition probabilities: 100%|██████████████████████████████████████████████| 56/56 [00:00<00:00, 72.36it/s]\n",
      "Generating walks (CPU: 1): 100%|███████████████████████████████████████████████████████| 50/50 [00:00<00:00, 71.42it/s]\n",
      "Computing transition probabilities: 100%|██████████████████████████████████████████████| 53/53 [00:00<00:00, 76.79it/s]\n",
      "Generating walks (CPU: 1): 100%|███████████████████████████████████████████████████████| 50/50 [00:00<00:00, 69.82it/s]\n",
      "Computing transition probabilities: 100%|█████████████████████████████████████████████| 45/45 [00:00<00:00, 100.94it/s]\n",
      "Generating walks (CPU: 1): 100%|███████████████████████████████████████████████████████| 50/50 [00:00<00:00, 79.58it/s]\n",
      "Computing transition probabilities: 100%|██████████████████████████████████████████████| 60/60 [00:01<00:00, 47.45it/s]\n",
      "Generating walks (CPU: 1): 100%|███████████████████████████████████████████████████████| 50/50 [00:01<00:00, 49.15it/s]\n",
      "Computing transition probabilities: 100%|██████████████████████████████████████████████| 54/54 [00:00<00:00, 72.77it/s]\n",
      "Generating walks (CPU: 1): 100%|███████████████████████████████████████████████████████| 50/50 [00:00<00:00, 67.47it/s]\n",
      "Computing transition probabilities: 100%|██████████████████████████████████████████████| 48/48 [00:00<00:00, 76.39it/s]\n",
      "Generating walks (CPU: 1): 100%|███████████████████████████████████████████████████████| 50/50 [00:00<00:00, 60.40it/s]\n",
      "Computing transition probabilities: 100%|██████████████████████████████████████████████| 60/60 [00:01<00:00, 46.10it/s]\n",
      "Generating walks (CPU: 1): 100%|███████████████████████████████████████████████████████| 50/50 [00:00<00:00, 68.40it/s]\n",
      "Computing transition probabilities: 100%|██████████████████████████████████████████████| 57/57 [00:00<00:00, 76.82it/s]\n",
      "Generating walks (CPU: 1): 100%|███████████████████████████████████████████████████████| 50/50 [00:00<00:00, 58.91it/s]\n",
      "Computing transition probabilities: 100%|█████████████████████████████████████████████| 47/47 [00:00<00:00, 114.38it/s]\n",
      "Generating walks (CPU: 1): 100%|███████████████████████████████████████████████████████| 50/50 [00:00<00:00, 63.86it/s]\n",
      "Computing transition probabilities: 100%|██████████████████████████████████████████████| 51/51 [00:00<00:00, 94.35it/s]\n",
      "Generating walks (CPU: 1): 100%|███████████████████████████████████████████████████████| 50/50 [00:00<00:00, 54.85it/s]\n",
      "Computing transition probabilities: 100%|██████████████████████████████████████████████| 51/51 [00:00<00:00, 56.57it/s]\n",
      "Generating walks (CPU: 1): 100%|███████████████████████████████████████████████████████| 50/50 [00:00<00:00, 57.96it/s]\n",
      "Computing transition probabilities: 100%|██████████████████████████████████████████████| 46/46 [00:00<00:00, 86.53it/s]\n",
      "Generating walks (CPU: 1): 100%|███████████████████████████████████████████████████████| 50/50 [00:00<00:00, 78.46it/s]\n",
      "Computing transition probabilities: 100%|██████████████████████████████████████████████| 53/53 [00:00<00:00, 67.61it/s]\n",
      "Generating walks (CPU: 1): 100%|███████████████████████████████████████████████████████| 50/50 [00:00<00:00, 70.02it/s]\n",
      "Computing transition probabilities: 100%|██████████████████████████████████████████████| 62/62 [00:01<00:00, 50.30it/s]\n",
      "Generating walks (CPU: 1): 100%|███████████████████████████████████████████████████████| 50/50 [00:01<00:00, 47.97it/s]\n",
      "Computing transition probabilities: 100%|██████████████████████████████████████████████| 52/52 [00:00<00:00, 66.68it/s]\n",
      "Generating walks (CPU: 1): 100%|███████████████████████████████████████████████████████| 50/50 [00:00<00:00, 60.26it/s]\n",
      "Computing transition probabilities: 100%|█████████████████████████████████████████████| 44/44 [00:00<00:00, 111.13it/s]\n",
      "Generating walks (CPU: 1): 100%|███████████████████████████████████████████████████████| 50/50 [00:00<00:00, 91.99it/s]\n",
      "Computing transition probabilities: 100%|█████████████████████████████████████████████| 49/49 [00:00<00:00, 109.42it/s]\n",
      "Generating walks (CPU: 1): 100%|███████████████████████████████████████████████████████| 50/50 [00:00<00:00, 85.41it/s]\n",
      "Computing transition probabilities: 100%|█████████████████████████████████████████████| 49/49 [00:00<00:00, 112.69it/s]\n",
      "Generating walks (CPU: 1): 100%|███████████████████████████████████████████████████████| 50/50 [00:00<00:00, 63.87it/s]\n",
      "Computing transition probabilities: 100%|█████████████████████████████████████████████| 47/47 [00:00<00:00, 125.67it/s]\n",
      "Generating walks (CPU: 1): 100%|███████████████████████████████████████████████████████| 50/50 [00:00<00:00, 79.58it/s]\n",
      "Computing transition probabilities: 100%|██████████████████████████████████████████████| 48/48 [00:00<00:00, 99.23it/s]\n",
      "Generating walks (CPU: 1): 100%|███████████████████████████████████████████████████████| 50/50 [00:00<00:00, 75.62it/s]\n",
      "Computing transition probabilities: 100%|██████████████████████████████████████████████| 62/62 [00:01<00:00, 59.04it/s]\n",
      "Generating walks (CPU: 1): 100%|███████████████████████████████████████████████████████| 50/50 [00:01<00:00, 49.25it/s]\n",
      "Computing transition probabilities: 100%|██████████████████████████████████████████████| 47/47 [00:00<00:00, 82.97it/s]\n",
      "Generating walks (CPU: 1): 100%|███████████████████████████████████████████████████████| 50/50 [00:00<00:00, 50.79it/s]\n",
      "Computing transition probabilities: 100%|██████████████████████████████████████████████| 48/48 [00:00<00:00, 95.87it/s]\n",
      "Generating walks (CPU: 1): 100%|███████████████████████████████████████████████████████| 50/50 [00:00<00:00, 81.65it/s]\n",
      "Computing transition probabilities: 100%|█████████████████████████████████████████████| 46/46 [00:00<00:00, 115.60it/s]\n",
      "Generating walks (CPU: 1): 100%|███████████████████████████████████████████████████████| 50/50 [00:00<00:00, 72.97it/s]\n",
      "Computing transition probabilities: 100%|██████████████████████████████████████████████| 53/53 [00:00<00:00, 92.42it/s]\n",
      "Generating walks (CPU: 1): 100%|███████████████████████████████████████████████████████| 50/50 [00:00<00:00, 72.76it/s]\n",
      "Computing transition probabilities: 100%|██████████████████████████████████████████████| 54/54 [00:00<00:00, 83.43it/s]\n",
      "Generating walks (CPU: 1): 100%|███████████████████████████████████████████████████████| 50/50 [00:00<00:00, 60.40it/s]\n",
      "Computing transition probabilities: 100%|██████████████████████████████████████████████| 59/59 [00:01<00:00, 39.84it/s]\n",
      "Generating walks (CPU: 1): 100%|███████████████████████████████████████████████████████| 50/50 [00:01<00:00, 47.12it/s]\n",
      "Computing transition probabilities: 100%|██████████████████████████████████████████████| 48/48 [00:00<00:00, 74.27it/s]\n",
      "Generating walks (CPU: 1): 100%|███████████████████████████████████████████████████████| 50/50 [00:00<00:00, 71.62it/s]\n",
      "Computing transition probabilities: 100%|██████████████████████████████████████████████| 58/58 [00:00<00:00, 61.28it/s]\n",
      "Generating walks (CPU: 1): 100%|███████████████████████████████████████████████████████| 50/50 [00:00<00:00, 53.73it/s]\n",
      "Computing transition probabilities: 100%|██████████████████████████████████████████████| 60/60 [00:01<00:00, 47.70it/s]\n",
      "Generating walks (CPU: 1): 100%|███████████████████████████████████████████████████████| 50/50 [00:01<00:00, 45.33it/s]\n",
      "Computing transition probabilities: 100%|██████████████████████████████████████████████| 55/55 [00:00<00:00, 74.02it/s]\n",
      "Generating walks (CPU: 1): 100%|███████████████████████████████████████████████████████| 50/50 [00:00<00:00, 74.71it/s]\n",
      "Computing transition probabilities: 100%|██████████████████████████████████████████████| 48/48 [00:00<00:00, 78.64it/s]\n",
      "Generating walks (CPU: 1): 100%|███████████████████████████████████████████████████████| 50/50 [00:00<00:00, 76.54it/s]\n",
      "Computing transition probabilities: 100%|██████████████████████████████████████████████| 56/56 [00:00<00:00, 79.31it/s]\n",
      "Generating walks (CPU: 1): 100%|███████████████████████████████████████████████████████| 50/50 [00:00<00:00, 55.34it/s]\n",
      "Computing transition probabilities: 100%|██████████████████████████████████████████████| 52/52 [00:00<00:00, 93.11it/s]\n",
      "Generating walks (CPU: 1): 100%|███████████████████████████████████████████████████████| 50/50 [00:00<00:00, 78.33it/s]\n",
      "Computing transition probabilities: 100%|██████████████████████████████████████████████| 56/56 [00:00<00:00, 68.31it/s]\n",
      "Generating walks (CPU: 1): 100%|███████████████████████████████████████████████████████| 50/50 [00:00<00:00, 61.74it/s]\n"
     ]
    },
    {
     "name": "stderr",
     "output_type": "stream",
     "text": [
      "Computing transition probabilities: 100%|██████████████████████████████████████████████| 48/48 [00:00<00:00, 90.64it/s]\n",
      "Generating walks (CPU: 1): 100%|███████████████████████████████████████████████████████| 50/50 [00:00<00:00, 80.99it/s]\n",
      "Computing transition probabilities: 100%|██████████████████████████████████████████████| 57/57 [00:00<00:00, 69.11it/s]\n",
      "Generating walks (CPU: 1): 100%|███████████████████████████████████████████████████████| 50/50 [00:00<00:00, 54.91it/s]\n",
      "Computing transition probabilities: 100%|█████████████████████████████████████████████| 43/43 [00:00<00:00, 139.53it/s]\n",
      "Generating walks (CPU: 1): 100%|██████████████████████████████████████████████████████| 50/50 [00:00<00:00, 102.00it/s]\n",
      "Computing transition probabilities: 100%|██████████████████████████████████████████████| 57/57 [00:00<00:00, 70.47it/s]\n",
      "Generating walks (CPU: 1): 100%|███████████████████████████████████████████████████████| 50/50 [00:00<00:00, 57.56it/s]\n",
      "Computing transition probabilities: 100%|██████████████████████████████████████████████| 53/53 [00:00<00:00, 65.53it/s]\n",
      "Generating walks (CPU: 1): 100%|███████████████████████████████████████████████████████| 50/50 [00:00<00:00, 54.79it/s]\n",
      "Computing transition probabilities: 100%|██████████████████████████████████████████████| 56/56 [00:00<00:00, 68.14it/s]\n",
      "Generating walks (CPU: 1): 100%|███████████████████████████████████████████████████████| 50/50 [00:00<00:00, 63.86it/s]\n",
      "Computing transition probabilities: 100%|██████████████████████████████████████████████| 51/51 [00:00<00:00, 94.17it/s]\n",
      "Generating walks (CPU: 1): 100%|███████████████████████████████████████████████████████| 50/50 [00:00<00:00, 75.50it/s]\n",
      "Computing transition probabilities: 100%|██████████████████████████████████████████████| 61/61 [00:00<00:00, 69.82it/s]\n",
      "Generating walks (CPU: 1): 100%|███████████████████████████████████████████████████████| 50/50 [00:00<00:00, 63.95it/s]\n",
      "Computing transition probabilities: 100%|██████████████████████████████████████████████| 52/52 [00:00<00:00, 82.37it/s]\n",
      "Generating walks (CPU: 1): 100%|███████████████████████████████████████████████████████| 50/50 [00:00<00:00, 69.82it/s]\n",
      "Computing transition probabilities: 100%|██████████████████████████████████████████████| 57/57 [00:00<00:00, 59.66it/s]\n",
      "Generating walks (CPU: 1): 100%|███████████████████████████████████████████████████████| 50/50 [00:00<00:00, 71.01it/s]\n",
      "Computing transition probabilities: 100%|██████████████████████████████████████████████| 57/57 [00:00<00:00, 74.81it/s]\n",
      "Generating walks (CPU: 1): 100%|███████████████████████████████████████████████████████| 50/50 [00:00<00:00, 70.26it/s]\n",
      "Computing transition probabilities: 100%|██████████████████████████████████████████████| 54/54 [00:00<00:00, 96.00it/s]\n",
      "Generating walks (CPU: 1): 100%|███████████████████████████████████████████████████████| 50/50 [00:00<00:00, 77.61it/s]\n",
      "Computing transition probabilities: 100%|██████████████████████████████████████████████| 57/57 [00:00<00:00, 61.72it/s]\n",
      "Generating walks (CPU: 1): 100%|███████████████████████████████████████████████████████| 50/50 [00:00<00:00, 54.02it/s]\n",
      "Computing transition probabilities: 100%|██████████████████████████████████████████████| 57/57 [00:01<00:00, 55.70it/s]\n",
      "Generating walks (CPU: 1): 100%|███████████████████████████████████████████████████████| 50/50 [00:01<00:00, 48.82it/s]\n",
      "Computing transition probabilities: 100%|██████████████████████████████████████████████| 54/54 [00:00<00:00, 65.39it/s]\n",
      "Generating walks (CPU: 1): 100%|███████████████████████████████████████████████████████| 50/50 [00:00<00:00, 58.70it/s]\n",
      "Computing transition probabilities: 100%|██████████████████████████████████████████████| 56/56 [00:00<00:00, 58.43it/s]\n",
      "Generating walks (CPU: 1): 100%|███████████████████████████████████████████████████████| 50/50 [00:00<00:00, 57.17it/s]\n",
      "Computing transition probabilities: 100%|█████████████████████████████████████████████| 44/44 [00:00<00:00, 119.56it/s]\n",
      "Generating walks (CPU: 1): 100%|███████████████████████████████████████████████████████| 50/50 [00:00<00:00, 85.26it/s]\n",
      "Computing transition probabilities: 100%|██████████████████████████████████████████████| 57/57 [00:00<00:00, 81.88it/s]\n",
      "Generating walks (CPU: 1): 100%|███████████████████████████████████████████████████████| 50/50 [00:00<00:00, 66.14it/s]\n",
      "Computing transition probabilities: 100%|██████████████████████████████████████████████| 57/57 [00:00<00:00, 58.98it/s]\n",
      "Generating walks (CPU: 1): 100%|███████████████████████████████████████████████████████| 50/50 [00:00<00:00, 54.21it/s]\n",
      "Computing transition probabilities: 100%|██████████████████████████████████████████████| 46/46 [00:00<00:00, 94.51it/s]\n",
      "Generating walks (CPU: 1): 100%|███████████████████████████████████████████████████████| 50/50 [00:00<00:00, 56.46it/s]\n",
      "Computing transition probabilities: 100%|██████████████████████████████████████████████| 60/60 [00:01<00:00, 45.17it/s]\n",
      "Generating walks (CPU: 1): 100%|███████████████████████████████████████████████████████| 50/50 [00:00<00:00, 59.97it/s]\n",
      "Computing transition probabilities: 100%|██████████████████████████████████████████████| 45/45 [00:00<00:00, 94.79it/s]\n",
      "Generating walks (CPU: 1): 100%|███████████████████████████████████████████████████████| 50/50 [00:00<00:00, 70.61it/s]\n",
      "Computing transition probabilities: 100%|██████████████████████████████████████████████| 56/56 [00:01<00:00, 52.87it/s]\n",
      "Generating walks (CPU: 1): 100%|███████████████████████████████████████████████████████| 50/50 [00:01<00:00, 39.05it/s]\n",
      "Computing transition probabilities: 100%|██████████████████████████████████████████████| 56/56 [00:00<00:00, 72.65it/s]\n",
      "Generating walks (CPU: 1): 100%|███████████████████████████████████████████████████████| 50/50 [00:00<00:00, 73.62it/s]\n",
      "Computing transition probabilities: 100%|█████████████████████████████████████████████| 40/40 [00:00<00:00, 149.65it/s]\n",
      "Generating walks (CPU: 1): 100%|██████████████████████████████████████████████████████| 50/50 [00:00<00:00, 105.54it/s]\n",
      "Computing transition probabilities: 100%|██████████████████████████████████████████████| 59/59 [00:00<00:00, 81.04it/s]\n",
      "Generating walks (CPU: 1): 100%|███████████████████████████████████████████████████████| 50/50 [00:00<00:00, 69.25it/s]\n",
      "Computing transition probabilities: 100%|██████████████████████████████████████████████| 53/53 [00:00<00:00, 86.97it/s]\n",
      "Generating walks (CPU: 1): 100%|███████████████████████████████████████████████████████| 50/50 [00:00<00:00, 69.15it/s]\n",
      "Computing transition probabilities: 100%|██████████████████████████████████████████████| 47/47 [00:00<00:00, 77.77it/s]\n",
      "Generating walks (CPU: 1): 100%|███████████████████████████████████████████████████████| 50/50 [00:00<00:00, 74.83it/s]\n",
      "Computing transition probabilities: 100%|██████████████████████████████████████████████| 50/50 [00:00<00:00, 85.26it/s]\n",
      "Generating walks (CPU: 1): 100%|███████████████████████████████████████████████████████| 50/50 [00:00<00:00, 76.42it/s]\n",
      "Computing transition probabilities: 100%|██████████████████████████████████████████████| 58/58 [00:00<00:00, 67.94it/s]\n",
      "Generating walks (CPU: 1): 100%|███████████████████████████████████████████████████████| 50/50 [00:00<00:00, 57.96it/s]\n",
      "Computing transition probabilities: 100%|██████████████████████████████████████████████| 55/55 [00:00<00:00, 61.21it/s]\n",
      "Generating walks (CPU: 1): 100%|███████████████████████████████████████████████████████| 50/50 [00:01<00:00, 41.73it/s]\n",
      "Computing transition probabilities: 100%|██████████████████████████████████████████████| 59/59 [00:00<00:00, 73.41it/s]\n",
      "Generating walks (CPU: 1): 100%|███████████████████████████████████████████████████████| 50/50 [00:00<00:00, 59.97it/s]\n",
      "Computing transition probabilities: 100%|█████████████████████████████████████████████| 46/46 [00:00<00:00, 118.26it/s]\n",
      "Generating walks (CPU: 1): 100%|███████████████████████████████████████████████████████| 50/50 [00:00<00:00, 98.49it/s]\n",
      "Computing transition probabilities: 100%|█████████████████████████████████████████████| 47/47 [00:00<00:00, 109.34it/s]\n",
      "Generating walks (CPU: 1): 100%|███████████████████████████████████████████████████████| 50/50 [00:00<00:00, 77.37it/s]\n",
      "Computing transition probabilities: 100%|██████████████████████████████████████████████| 54/54 [00:00<00:00, 81.30it/s]\n",
      "Generating walks (CPU: 1): 100%|███████████████████████████████████████████████████████| 50/50 [00:00<00:00, 66.58it/s]\n",
      "Computing transition probabilities: 100%|██████████████████████████████████████████████| 47/47 [00:00<00:00, 94.82it/s]\n",
      "Generating walks (CPU: 1): 100%|███████████████████████████████████████████████████████| 50/50 [00:00<00:00, 88.73it/s]\n",
      "Computing transition probabilities: 100%|█████████████████████████████████████████████| 49/49 [00:00<00:00, 103.21it/s]\n",
      "Generating walks (CPU: 1): 100%|███████████████████████████████████████████████████████| 50/50 [00:00<00:00, 79.45it/s]\n",
      "Computing transition probabilities: 100%|██████████████████████████████████████████████| 59/59 [00:00<00:00, 63.07it/s]\n",
      "Generating walks (CPU: 1): 100%|███████████████████████████████████████████████████████| 50/50 [00:00<00:00, 56.20it/s]\n",
      "Computing transition probabilities: 100%|██████████████████████████████████████████████| 59/59 [00:00<00:00, 71.27it/s]\n",
      "Generating walks (CPU: 1): 100%|███████████████████████████████████████████████████████| 50/50 [00:00<00:00, 64.36it/s]\n",
      "Computing transition probabilities: 100%|██████████████████████████████████████████████| 57/57 [00:00<00:00, 75.20it/s]\n",
      "Generating walks (CPU: 1): 100%|███████████████████████████████████████████████████████| 50/50 [00:00<00:00, 72.30it/s]\n",
      "Computing transition probabilities: 100%|█████████████████████████████████████████████| 53/53 [00:00<00:00, 100.27it/s]\n",
      "Generating walks (CPU: 1): 100%|███████████████████████████████████████████████████████| 50/50 [00:00<00:00, 77.25it/s]\n",
      "Computing transition probabilities: 100%|██████████████████████████████████████████████| 52/52 [00:00<00:00, 88.97it/s]\n",
      "Generating walks (CPU: 1): 100%|███████████████████████████████████████████████████████| 50/50 [00:00<00:00, 68.30it/s]\n",
      "Computing transition probabilities: 100%|█████████████████████████████████████████████| 45/45 [00:00<00:00, 109.52it/s]\n",
      "Generating walks (CPU: 1): 100%|███████████████████████████████████████████████████████| 50/50 [00:00<00:00, 81.92it/s]\n",
      "Computing transition probabilities: 100%|██████████████████████████████████████████████| 53/53 [00:00<00:00, 65.61it/s]\n",
      "Generating walks (CPU: 1): 100%|███████████████████████████████████████████████████████| 50/50 [00:00<00:00, 74.16it/s]\n",
      "Computing transition probabilities: 100%|██████████████████████████████████████████████| 51/51 [00:00<00:00, 92.64it/s]\n",
      "Generating walks (CPU: 1): 100%|███████████████████████████████████████████████████████| 50/50 [00:00<00:00, 74.05it/s]\n",
      "Computing transition probabilities: 100%|██████████████████████████████████████████████| 55/55 [00:00<00:00, 81.10it/s]\n",
      "Generating walks (CPU: 1): 100%|███████████████████████████████████████████████████████| 50/50 [00:00<00:00, 74.71it/s]\n",
      "Computing transition probabilities: 100%|█████████████████████████████████████████████| 46/46 [00:00<00:00, 119.18it/s]\n",
      "Generating walks (CPU: 1): 100%|███████████████████████████████████████████████████████| 50/50 [00:00<00:00, 96.78it/s]\n",
      "Computing transition probabilities: 100%|█████████████████████████████████████████████| 42/42 [00:00<00:00, 144.72it/s]\n",
      "Generating walks (CPU: 1): 100%|███████████████████████████████████████████████████████| 50/50 [00:00<00:00, 80.34it/s]\n",
      "Computing transition probabilities: 100%|██████████████████████████████████████████████| 49/49 [00:00<00:00, 85.74it/s]\n",
      "Generating walks (CPU: 1): 100%|███████████████████████████████████████████████████████| 50/50 [00:00<00:00, 90.33it/s]\n",
      "Computing transition probabilities: 100%|██████████████████████████████████████████████| 55/55 [00:00<00:00, 80.74it/s]\n",
      "Generating walks (CPU: 1): 100%|███████████████████████████████████████████████████████| 50/50 [00:00<00:00, 75.96it/s]\n",
      "Computing transition probabilities: 100%|██████████████████████████████████████████████| 58/58 [00:00<00:00, 76.62it/s]\n",
      "Generating walks (CPU: 1): 100%|███████████████████████████████████████████████████████| 50/50 [00:00<00:00, 64.86it/s]\n",
      "Computing transition probabilities: 100%|█████████████████████████████████████████████| 51/51 [00:00<00:00, 101.26it/s]\n",
      "Generating walks (CPU: 1): 100%|███████████████████████████████████████████████████████| 50/50 [00:00<00:00, 77.97it/s]\n",
      "Computing transition probabilities: 100%|██████████████████████████████████████████████| 52/52 [00:00<00:00, 71.92it/s]\n",
      "Generating walks (CPU: 1): 100%|███████████████████████████████████████████████████████| 50/50 [00:00<00:00, 68.68it/s]\n",
      "Computing transition probabilities: 100%|██████████████████████████████████████████████| 53/53 [00:00<00:00, 76.13it/s]\n",
      "Generating walks (CPU: 1): 100%|███████████████████████████████████████████████████████| 50/50 [00:00<00:00, 64.48it/s]\n",
      "Computing transition probabilities: 100%|██████████████████████████████████████████████| 57/57 [00:00<00:00, 83.43it/s]\n",
      "Generating walks (CPU: 1): 100%|███████████████████████████████████████████████████████| 50/50 [00:00<00:00, 64.61it/s]\n",
      "Computing transition probabilities: 100%|█████████████████████████████████████████████| 49/49 [00:00<00:00, 107.04it/s]\n",
      "Generating walks (CPU: 1): 100%|███████████████████████████████████████████████████████| 50/50 [00:00<00:00, 80.99it/s]\n",
      "Computing transition probabilities: 100%|██████████████████████████████████████████████| 54/54 [00:00<00:00, 85.67it/s]\n",
      "Generating walks (CPU: 1): 100%|███████████████████████████████████████████████████████| 50/50 [00:00<00:00, 78.21it/s]\n",
      "Computing transition probabilities: 100%|█████████████████████████████████████████████| 47/47 [00:00<00:00, 123.37it/s]\n",
      "Generating walks (CPU: 1): 100%|███████████████████████████████████████████████████████| 50/50 [00:00<00:00, 80.86it/s]\n",
      "Computing transition probabilities: 100%|█████████████████████████████████████████████| 47/47 [00:00<00:00, 107.84it/s]\n",
      "Generating walks (CPU: 1): 100%|███████████████████████████████████████████████████████| 50/50 [00:00<00:00, 79.96it/s]\n",
      "Computing transition probabilities: 100%|██████████████████████████████████████████████| 54/54 [00:00<00:00, 74.07it/s]\n",
      "Generating walks (CPU: 1): 100%|███████████████████████████████████████████████████████| 50/50 [00:00<00:00, 64.19it/s]\n",
      "Computing transition probabilities: 100%|██████████████████████████████████████████████| 53/53 [00:00<00:00, 82.01it/s]\n",
      "Generating walks (CPU: 1): 100%|███████████████████████████████████████████████████████| 50/50 [00:00<00:00, 56.39it/s]\n",
      "Computing transition probabilities: 100%|██████████████████████████████████████████████| 57/57 [00:00<00:00, 66.69it/s]\n",
      "Generating walks (CPU: 1): 100%|███████████████████████████████████████████████████████| 50/50 [00:00<00:00, 61.06it/s]\n",
      "Computing transition probabilities: 100%|█████████████████████████████████████████████| 51/51 [00:00<00:00, 104.15it/s]\n",
      "Generating walks (CPU: 1): 100%|███████████████████████████████████████████████████████| 50/50 [00:00<00:00, 77.85it/s]\n",
      "Computing transition probabilities: 100%|██████████████████████████████████████████████| 53/53 [00:00<00:00, 73.40it/s]\n",
      "Generating walks (CPU: 1): 100%|███████████████████████████████████████████████████████| 50/50 [00:00<00:00, 71.72it/s]\n"
     ]
    },
    {
     "name": "stdout",
     "output_type": "stream",
     "text": [
      "\n"
     ]
    },
    {
     "data": {
      "application/vnd.jupyter.widget-view+json": {
       "model_id": "4ca31f1c21d74cf8bdf6619ddd10a1b3",
       "version_major": 2,
       "version_minor": 0
      },
      "text/plain": [
       "HBox(children=(IntProgress(value=1, bar_style='info', max=1), HTML(value='')))"
      ]
     },
     "metadata": {},
     "output_type": "display_data"
    },
    {
     "name": "stdout",
     "output_type": "stream",
     "text": [
      "\n"
     ]
    },
    {
     "name": "stderr",
     "output_type": "stream",
     "text": [
      "C:\\Users\\Stefano\\.conda\\envs\\base2\\lib\\site-packages\\sklearn\\linear_model\\_logistic.py:764: ConvergenceWarning: lbfgs failed to converge (status=1):\n",
      "STOP: TOTAL NO. of ITERATIONS REACHED LIMIT.\n",
      "\n",
      "Increase the number of iterations (max_iter) or scale the data as shown in:\n",
      "    https://scikit-learn.org/stable/modules/preprocessing.html\n",
      "Please also refer to the documentation for alternative solver options:\n",
      "    https://scikit-learn.org/stable/modules/linear_model.html#logistic-regression\n",
      "  extra_warning_msg=_LOGISTIC_SOLVER_CONVERGENCE_MSG)\n"
     ]
    },
    {
     "data": {
      "application/vnd.jupyter.widget-view+json": {
       "model_id": "6e0ca1e9aabe40ce9442e72d53247f3c",
       "version_major": 2,
       "version_minor": 0
      },
      "text/plain": [
       "HBox(children=(IntProgress(value=1, bar_style='info', max=1), HTML(value='')))"
      ]
     },
     "metadata": {},
     "output_type": "display_data"
    },
    {
     "name": "stdout",
     "output_type": "stream",
     "text": [
      "\n"
     ]
    },
    {
     "name": "stderr",
     "output_type": "stream",
     "text": [
      "C:\\Users\\Stefano\\.conda\\envs\\base2\\lib\\site-packages\\sklearn\\base.py:213: FutureWarning: From version 0.24, get_params will raise an AttributeError if a parameter cannot be retrieved as an instance attribute. Previously it would return None.\n",
      "  FutureWarning)\n"
     ]
    },
    {
     "data": {
      "application/vnd.jupyter.widget-view+json": {
       "model_id": "8f861d5a4deb45d3bf9ccb85f7ef19ca",
       "version_major": 2,
       "version_minor": 0
      },
      "text/plain": [
       "HBox(children=(IntProgress(value=0, max=200), HTML(value='')))"
      ]
     },
     "metadata": {},
     "output_type": "display_data"
    },
    {
     "name": "stdout",
     "output_type": "stream",
     "text": [
      "\n"
     ]
    },
    {
     "data": {
      "application/vnd.jupyter.widget-view+json": {
       "model_id": "de7fd6c12cd141cda9479d5eecd32bd0",
       "version_major": 2,
       "version_minor": 0
      },
      "text/plain": [
       "HBox(children=(IntProgress(value=0, max=200), HTML(value='')))"
      ]
     },
     "metadata": {},
     "output_type": "display_data"
    },
    {
     "name": "stderr",
     "output_type": "stream",
     "text": [
      "Computing transition probabilities: 100%|██████████████████████████████████████████████| 58/58 [00:00<00:00, 63.56it/s]\n",
      "Generating walks (CPU: 1): 100%|███████████████████████████████████████████████████████| 50/50 [00:00<00:00, 70.91it/s]\n",
      "Computing transition probabilities: 100%|██████████████████████████████████████████████| 52/52 [00:00<00:00, 90.68it/s]\n",
      "Generating walks (CPU: 1): 100%|███████████████████████████████████████████████████████| 50/50 [00:00<00:00, 66.93it/s]\n",
      "Computing transition probabilities: 100%|██████████████████████████████████████████████| 56/56 [00:00<00:00, 77.55it/s]\n",
      "Generating walks (CPU: 1): 100%|███████████████████████████████████████████████████████| 50/50 [00:00<00:00, 55.15it/s]\n",
      "Computing transition probabilities: 100%|██████████████████████████████████████████████| 57/57 [00:00<00:00, 80.05it/s]\n",
      "Generating walks (CPU: 1): 100%|███████████████████████████████████████████████████████| 50/50 [00:00<00:00, 57.96it/s]\n",
      "Computing transition probabilities: 100%|█████████████████████████████████████████████| 40/40 [00:00<00:00, 154.85it/s]\n",
      "Generating walks (CPU: 1): 100%|██████████████████████████████████████████████████████| 50/50 [00:00<00:00, 103.37it/s]\n",
      "Computing transition probabilities: 100%|██████████████████████████████████████████████| 58/58 [00:00<00:00, 66.92it/s]\n",
      "Generating walks (CPU: 1): 100%|███████████████████████████████████████████████████████| 50/50 [00:00<00:00, 61.44it/s]\n",
      "Computing transition probabilities: 100%|██████████████████████████████████████████████| 52/52 [00:00<00:00, 82.11it/s]\n",
      "Generating walks (CPU: 1): 100%|███████████████████████████████████████████████████████| 50/50 [00:00<00:00, 67.47it/s]\n",
      "Computing transition probabilities: 100%|█████████████████████████████████████████████| 43/43 [00:00<00:00, 123.19it/s]\n",
      "Generating walks (CPU: 1): 100%|███████████████████████████████████████████████████████| 50/50 [00:00<00:00, 89.52it/s]\n",
      "Computing transition probabilities: 100%|██████████████████████████████████████████████| 56/56 [00:00<00:00, 62.60it/s]\n",
      "Generating walks (CPU: 1): 100%|███████████████████████████████████████████████████████| 50/50 [00:00<00:00, 71.01it/s]\n",
      "Computing transition probabilities: 100%|██████████████████████████████████████████████| 53/53 [00:00<00:00, 83.42it/s]\n",
      "Generating walks (CPU: 1): 100%|███████████████████████████████████████████████████████| 50/50 [00:00<00:00, 76.66it/s]\n",
      "Computing transition probabilities: 100%|█████████████████████████████████████████████| 50/50 [00:00<00:00, 107.81it/s]\n",
      "Generating walks (CPU: 1): 100%|███████████████████████████████████████████████████████| 50/50 [00:00<00:00, 82.18it/s]\n",
      "Computing transition probabilities: 100%|█████████████████████████████████████████████| 48/48 [00:00<00:00, 116.25it/s]\n",
      "Generating walks (CPU: 1): 100%|███████████████████████████████████████████████████████| 50/50 [00:00<00:00, 80.60it/s]\n",
      "Computing transition probabilities: 100%|██████████████████████████████████████████████| 57/57 [00:00<00:00, 60.74it/s]\n",
      "Generating walks (CPU: 1): 100%|███████████████████████████████████████████████████████| 50/50 [00:00<00:00, 60.62it/s]\n",
      "Computing transition probabilities: 100%|██████████████████████████████████████████████| 61/61 [00:00<00:00, 65.77it/s]\n",
      "Generating walks (CPU: 1): 100%|███████████████████████████████████████████████████████| 50/50 [00:00<00:00, 60.69it/s]\n",
      "Computing transition probabilities: 100%|██████████████████████████████████████████████| 59/59 [00:00<00:00, 83.67it/s]\n",
      "Generating walks (CPU: 1): 100%|███████████████████████████████████████████████████████| 50/50 [00:00<00:00, 61.74it/s]\n",
      "Computing transition probabilities: 100%|██████████████████████████████████████████████| 52/52 [00:00<00:00, 90.21it/s]\n",
      "Generating walks (CPU: 1): 100%|███████████████████████████████████████████████████████| 50/50 [00:00<00:00, 65.62it/s]\n",
      "Computing transition probabilities: 100%|██████████████████████████████████████████████| 63/63 [00:01<00:00, 54.79it/s]\n",
      "Generating walks (CPU: 1): 100%|███████████████████████████████████████████████████████| 50/50 [00:00<00:00, 53.16it/s]\n",
      "Computing transition probabilities: 100%|██████████████████████████████████████████████| 50/50 [00:00<00:00, 87.80it/s]\n",
      "Generating walks (CPU: 1): 100%|███████████████████████████████████████████████████████| 50/50 [00:00<00:00, 75.62it/s]\n",
      "Computing transition probabilities: 100%|██████████████████████████████████████████████| 59/59 [00:00<00:00, 73.03it/s]\n",
      "Generating walks (CPU: 1): 100%|███████████████████████████████████████████████████████| 50/50 [00:00<00:00, 66.93it/s]\n",
      "Computing transition probabilities: 100%|██████████████████████████████████████████████| 54/54 [00:00<00:00, 64.77it/s]\n",
      "Generating walks (CPU: 1): 100%|███████████████████████████████████████████████████████| 50/50 [00:00<00:00, 75.39it/s]\n",
      "Computing transition probabilities: 100%|██████████████████████████████████████████████| 54/54 [00:00<00:00, 83.30it/s]\n",
      "Generating walks (CPU: 1): 100%|███████████████████████████████████████████████████████| 50/50 [00:00<00:00, 60.48it/s]\n",
      "Computing transition probabilities: 100%|██████████████████████████████████████████████| 55/55 [00:00<00:00, 75.13it/s]\n",
      "Generating walks (CPU: 1): 100%|███████████████████████████████████████████████████████| 50/50 [00:00<00:00, 72.03it/s]\n",
      "Computing transition probabilities: 100%|██████████████████████████████████████████████| 55/55 [00:00<00:00, 91.61it/s]\n",
      "Generating walks (CPU: 1): 100%|███████████████████████████████████████████████████████| 50/50 [00:00<00:00, 70.31it/s]\n",
      "Computing transition probabilities: 100%|██████████████████████████████████████████████| 61/61 [00:01<00:00, 54.61it/s]\n",
      "Generating walks (CPU: 1): 100%|███████████████████████████████████████████████████████| 50/50 [00:00<00:00, 53.56it/s]\n",
      "Computing transition probabilities: 100%|██████████████████████████████████████████████| 53/53 [00:00<00:00, 85.99it/s]\n",
      "Generating walks (CPU: 1): 100%|███████████████████████████████████████████████████████| 50/50 [00:00<00:00, 71.01it/s]\n",
      "Computing transition probabilities: 100%|██████████████████████████████████████████████| 59/59 [00:01<00:00, 55.70it/s]\n",
      "Generating walks (CPU: 1): 100%|███████████████████████████████████████████████████████| 50/50 [00:00<00:00, 55.57it/s]\n",
      "Computing transition probabilities: 100%|██████████████████████████████████████████████| 47/47 [00:00<00:00, 78.94it/s]\n",
      "Generating walks (CPU: 1): 100%|███████████████████████████████████████████████████████| 50/50 [00:00<00:00, 76.66it/s]\n",
      "Computing transition probabilities: 100%|██████████████████████████████████████████████| 55/55 [00:00<00:00, 82.43it/s]\n",
      "Generating walks (CPU: 1): 100%|███████████████████████████████████████████████████████| 50/50 [00:00<00:00, 61.51it/s]\n",
      "Computing transition probabilities: 100%|██████████████████████████████████████████████| 57/57 [00:00<00:00, 79.71it/s]\n",
      "Generating walks (CPU: 1): 100%|███████████████████████████████████████████████████████| 50/50 [00:00<00:00, 72.03it/s]\n",
      "Computing transition probabilities: 100%|█████████████████████████████████████████████| 47/47 [00:00<00:00, 129.47it/s]\n",
      "Generating walks (CPU: 1): 100%|███████████████████████████████████████████████████████| 50/50 [00:00<00:00, 88.42it/s]\n",
      "Computing transition probabilities: 100%|██████████████████████████████████████████████| 57/57 [00:00<00:00, 65.69it/s]\n",
      "Generating walks (CPU: 1): 100%|███████████████████████████████████████████████████████| 50/50 [00:00<00:00, 58.09it/s]\n",
      "Computing transition probabilities: 100%|██████████████████████████████████████████████| 51/51 [00:00<00:00, 78.07it/s]\n",
      "Generating walks (CPU: 1): 100%|███████████████████████████████████████████████████████| 50/50 [00:00<00:00, 70.31it/s]\n",
      "Computing transition probabilities: 100%|██████████████████████████████████████████████| 57/57 [00:00<00:00, 69.19it/s]\n",
      "Generating walks (CPU: 1): 100%|███████████████████████████████████████████████████████| 50/50 [00:00<00:00, 63.86it/s]\n",
      "Computing transition probabilities: 100%|██████████████████████████████████████████████| 53/53 [00:00<00:00, 72.11it/s]\n",
      "Generating walks (CPU: 1): 100%|███████████████████████████████████████████████████████| 50/50 [00:00<00:00, 63.54it/s]\n",
      "Computing transition probabilities: 100%|██████████████████████████████████████████████| 51/51 [00:00<00:00, 68.18it/s]\n",
      "Generating walks (CPU: 1): 100%|███████████████████████████████████████████████████████| 50/50 [00:00<00:00, 55.46it/s]\n",
      "Computing transition probabilities: 100%|██████████████████████████████████████████████| 53/53 [00:00<00:00, 59.24it/s]\n",
      "Generating walks (CPU: 1): 100%|███████████████████████████████████████████████████████| 50/50 [00:00<00:00, 56.08it/s]\n",
      "Computing transition probabilities: 100%|██████████████████████████████████████████████| 52/52 [00:00<00:00, 70.55it/s]\n",
      "Generating walks (CPU: 1): 100%|███████████████████████████████████████████████████████| 50/50 [00:00<00:00, 67.93it/s]\n",
      "Computing transition probabilities: 100%|██████████████████████████████████████████████| 60/60 [00:01<00:00, 55.60it/s]\n",
      "Generating walks (CPU: 1): 100%|███████████████████████████████████████████████████████| 50/50 [00:00<00:00, 65.36it/s]\n",
      "Computing transition probabilities: 100%|██████████████████████████████████████████████| 52/52 [00:00<00:00, 99.50it/s]\n",
      "Generating walks (CPU: 1): 100%|███████████████████████████████████████████████████████| 50/50 [00:00<00:00, 70.41it/s]\n",
      "Computing transition probabilities: 100%|██████████████████████████████████████████████| 50/50 [00:00<00:00, 96.41it/s]\n",
      "Generating walks (CPU: 1): 100%|███████████████████████████████████████████████████████| 50/50 [00:00<00:00, 75.16it/s]\n",
      "Computing transition probabilities: 100%|██████████████████████████████████████████████| 58/58 [00:00<00:00, 60.90it/s]\n",
      "Generating walks (CPU: 1): 100%|███████████████████████████████████████████████████████| 50/50 [00:00<00:00, 58.77it/s]\n",
      "Computing transition probabilities: 100%|██████████████████████████████████████████████| 58/58 [00:00<00:00, 63.01it/s]\n",
      "Generating walks (CPU: 1): 100%|███████████████████████████████████████████████████████| 50/50 [00:00<00:00, 67.02it/s]\n",
      "Computing transition probabilities: 100%|█████████████████████████████████████████████| 41/41 [00:00<00:00, 114.19it/s]\n",
      "Generating walks (CPU: 1): 100%|███████████████████████████████████████████████████████| 50/50 [00:00<00:00, 96.60it/s]\n",
      "Computing transition probabilities: 100%|█████████████████████████████████████████████| 43/43 [00:00<00:00, 135.16it/s]\n",
      "Generating walks (CPU: 1): 100%|███████████████████████████████████████████████████████| 50/50 [00:00<00:00, 92.84it/s]\n",
      "Computing transition probabilities: 100%|██████████████████████████████████████████████| 53/53 [00:00<00:00, 86.13it/s]\n",
      "Generating walks (CPU: 1): 100%|███████████████████████████████████████████████████████| 50/50 [00:00<00:00, 74.49it/s]\n",
      "Computing transition probabilities: 100%|██████████████████████████████████████████████| 58/58 [00:00<00:00, 73.43it/s]\n",
      "Generating walks (CPU: 1): 100%|███████████████████████████████████████████████████████| 50/50 [00:00<00:00, 57.03it/s]\n",
      "Computing transition probabilities: 100%|██████████████████████████████████████████████| 62/62 [00:00<00:00, 73.92it/s]\n",
      "Generating walks (CPU: 1): 100%|███████████████████████████████████████████████████████| 50/50 [00:00<00:00, 66.40it/s]\n",
      "Computing transition probabilities: 100%|█████████████████████████████████████████████| 43/43 [00:00<00:00, 132.24it/s]\n",
      "Generating walks (CPU: 1): 100%|██████████████████████████████████████████████████████| 50/50 [00:00<00:00, 103.31it/s]\n",
      "Computing transition probabilities: 100%|█████████████████████████████████████████████| 51/51 [00:00<00:00, 101.06it/s]\n",
      "Generating walks (CPU: 1): 100%|███████████████████████████████████████████████████████| 50/50 [00:00<00:00, 87.34it/s]\n",
      "Computing transition probabilities: 100%|██████████████████████████████████████████████| 55/55 [00:00<00:00, 83.30it/s]\n",
      "Generating walks (CPU: 1): 100%|███████████████████████████████████████████████████████| 50/50 [00:00<00:00, 55.46it/s]\n",
      "Computing transition probabilities: 100%|██████████████████████████████████████████████| 51/51 [00:00<00:00, 69.29it/s]\n",
      "Generating walks (CPU: 1): 100%|███████████████████████████████████████████████████████| 50/50 [00:00<00:00, 67.38it/s]\n",
      "Computing transition probabilities: 100%|█████████████████████████████████████████████| 48/48 [00:00<00:00, 104.17it/s]\n",
      "Generating walks (CPU: 1): 100%|███████████████████████████████████████████████████████| 50/50 [00:00<00:00, 57.30it/s]\n",
      "Computing transition probabilities: 100%|██████████████████████████████████████████████| 48/48 [00:00<00:00, 58.27it/s]\n",
      "Generating walks (CPU: 1): 100%|███████████████████████████████████████████████████████| 50/50 [00:00<00:00, 50.13it/s]\n",
      "Computing transition probabilities: 100%|██████████████████████████████████████████████| 55/55 [00:00<00:00, 67.42it/s]\n",
      "Generating walks (CPU: 1): 100%|███████████████████████████████████████████████████████| 50/50 [00:01<00:00, 47.97it/s]\n",
      "Computing transition probabilities: 100%|██████████████████████████████████████████████| 49/49 [00:00<00:00, 49.58it/s]\n",
      "Generating walks (CPU: 1): 100%|███████████████████████████████████████████████████████| 50/50 [00:00<00:00, 54.08it/s]\n",
      "Computing transition probabilities: 100%|██████████████████████████████████████████████| 49/49 [00:00<00:00, 65.68it/s]\n",
      "Generating walks (CPU: 1): 100%|███████████████████████████████████████████████████████| 50/50 [00:00<00:00, 62.59it/s]\n",
      "Computing transition probabilities: 100%|██████████████████████████████████████████████| 49/49 [00:00<00:00, 72.36it/s]\n",
      "Generating walks (CPU: 1): 100%|███████████████████████████████████████████████████████| 50/50 [00:00<00:00, 56.71it/s]\n",
      "Computing transition probabilities: 100%|██████████████████████████████████████████████| 59/59 [00:01<00:00, 42.65it/s]\n",
      "Generating walks (CPU: 1): 100%|███████████████████████████████████████████████████████| 50/50 [00:01<00:00, 33.09it/s]\n",
      "Computing transition probabilities: 100%|██████████████████████████████████████████████| 52/52 [00:00<00:00, 79.48it/s]\n",
      "Generating walks (CPU: 1): 100%|███████████████████████████████████████████████████████| 50/50 [00:00<00:00, 76.19it/s]\n",
      "Computing transition probabilities: 100%|██████████████████████████████████████████████| 43/43 [00:00<00:00, 76.45it/s]\n",
      "Generating walks (CPU: 1): 100%|███████████████████████████████████████████████████████| 50/50 [00:01<00:00, 35.81it/s]\n",
      "Computing transition probabilities: 100%|██████████████████████████████████████████████| 42/42 [00:00<00:00, 71.29it/s]\n",
      "Generating walks (CPU: 1): 100%|███████████████████████████████████████████████████████| 50/50 [00:00<00:00, 60.26it/s]\n",
      "Computing transition probabilities: 100%|██████████████████████████████████████████████| 54/54 [00:01<00:00, 47.89it/s]\n",
      "Generating walks (CPU: 1): 100%|███████████████████████████████████████████████████████| 50/50 [00:01<00:00, 39.57it/s]\n",
      "Computing transition probabilities: 100%|██████████████████████████████████████████████| 50/50 [00:01<00:00, 40.09it/s]\n",
      "Generating walks (CPU: 1): 100%|███████████████████████████████████████████████████████| 50/50 [00:01<00:00, 28.10it/s]\n",
      "Computing transition probabilities: 100%|██████████████████████████████████████████████| 56/56 [00:01<00:00, 35.50it/s]\n",
      "Generating walks (CPU: 1): 100%|███████████████████████████████████████████████████████| 50/50 [00:01<00:00, 39.73it/s]\n",
      "Computing transition probabilities: 100%|██████████████████████████████████████████████| 54/54 [00:01<00:00, 34.62it/s]\n",
      "Generating walks (CPU: 1): 100%|███████████████████████████████████████████████████████| 50/50 [00:01<00:00, 38.12it/s]\n",
      "Computing transition probabilities: 100%|██████████████████████████████████████████████| 59/59 [00:01<00:00, 39.16it/s]\n",
      "Generating walks (CPU: 1): 100%|███████████████████████████████████████████████████████| 50/50 [00:01<00:00, 49.15it/s]\n",
      "Computing transition probabilities: 100%|██████████████████████████████████████████████| 49/49 [00:00<00:00, 79.37it/s]\n",
      "Generating walks (CPU: 1): 100%|███████████████████████████████████████████████████████| 50/50 [00:00<00:00, 56.02it/s]\n",
      "Computing transition probabilities: 100%|██████████████████████████████████████████████| 52/52 [00:00<00:00, 63.90it/s]\n",
      "Generating walks (CPU: 1): 100%|███████████████████████████████████████████████████████| 50/50 [00:00<00:00, 69.88it/s]\n"
     ]
    },
    {
     "name": "stderr",
     "output_type": "stream",
     "text": [
      "Computing transition probabilities: 100%|██████████████████████████████████████████████| 57/57 [00:01<00:00, 51.73it/s]\n",
      "Generating walks (CPU: 1): 100%|███████████████████████████████████████████████████████| 50/50 [00:00<00:00, 56.03it/s]\n",
      "Computing transition probabilities: 100%|██████████████████████████████████████████████| 48/48 [00:00<00:00, 71.20it/s]\n",
      "Generating walks (CPU: 1): 100%|███████████████████████████████████████████████████████| 50/50 [00:00<00:00, 56.67it/s]\n",
      "Computing transition probabilities: 100%|██████████████████████████████████████████████| 51/51 [00:00<00:00, 64.07it/s]\n",
      "Generating walks (CPU: 1): 100%|███████████████████████████████████████████████████████| 50/50 [00:01<00:00, 49.26it/s]\n",
      "Computing transition probabilities: 100%|██████████████████████████████████████████████| 47/47 [00:00<00:00, 72.82it/s]\n",
      "Generating walks (CPU: 1): 100%|███████████████████████████████████████████████████████| 50/50 [00:01<00:00, 42.42it/s]\n",
      "Computing transition probabilities: 100%|██████████████████████████████████████████████| 44/44 [00:00<00:00, 99.84it/s]\n",
      "Generating walks (CPU: 1): 100%|███████████████████████████████████████████████████████| 50/50 [00:00<00:00, 72.68it/s]\n",
      "Computing transition probabilities: 100%|██████████████████████████████████████████████| 53/53 [00:00<00:00, 76.74it/s]\n",
      "Generating walks (CPU: 1): 100%|███████████████████████████████████████████████████████| 50/50 [00:00<00:00, 62.08it/s]\n",
      "Computing transition probabilities: 100%|██████████████████████████████████████████████| 50/50 [00:00<00:00, 73.56it/s]\n",
      "Generating walks (CPU: 1): 100%|███████████████████████████████████████████████████████| 50/50 [00:00<00:00, 62.06it/s]\n",
      "Computing transition probabilities: 100%|██████████████████████████████████████████████| 47/47 [00:00<00:00, 52.97it/s]\n",
      "Generating walks (CPU: 1): 100%|███████████████████████████████████████████████████████| 50/50 [00:00<00:00, 73.62it/s]\n",
      "Computing transition probabilities: 100%|██████████████████████████████████████████████| 50/50 [00:00<00:00, 73.40it/s]\n",
      "Generating walks (CPU: 1): 100%|███████████████████████████████████████████████████████| 50/50 [00:00<00:00, 67.02it/s]\n",
      "Computing transition probabilities: 100%|█████████████████████████████████████████████| 45/45 [00:00<00:00, 108.72it/s]\n",
      "Generating walks (CPU: 1): 100%|███████████████████████████████████████████████████████| 50/50 [00:00<00:00, 74.94it/s]\n",
      "Computing transition probabilities: 100%|██████████████████████████████████████████████| 53/53 [00:00<00:00, 79.79it/s]\n",
      "Generating walks (CPU: 1): 100%|███████████████████████████████████████████████████████| 50/50 [00:00<00:00, 68.59it/s]\n",
      "Computing transition probabilities: 100%|██████████████████████████████████████████████| 56/56 [00:01<00:00, 40.15it/s]\n",
      "Generating walks (CPU: 1): 100%|███████████████████████████████████████████████████████| 50/50 [00:01<00:00, 48.09it/s]\n",
      "Computing transition probabilities: 100%|██████████████████████████████████████████████| 50/50 [00:00<00:00, 73.19it/s]\n",
      "Generating walks (CPU: 1): 100%|███████████████████████████████████████████████████████| 50/50 [00:00<00:00, 74.49it/s]\n",
      "Computing transition probabilities: 100%|██████████████████████████████████████████████| 52/52 [00:00<00:00, 88.22it/s]\n",
      "Generating walks (CPU: 1): 100%|███████████████████████████████████████████████████████| 50/50 [00:00<00:00, 82.59it/s]\n",
      "Computing transition probabilities: 100%|██████████████████████████████████████████████| 54/54 [00:00<00:00, 88.47it/s]\n",
      "Generating walks (CPU: 1): 100%|███████████████████████████████████████████████████████| 50/50 [00:00<00:00, 68.87it/s]\n",
      "Computing transition probabilities: 100%|██████████████████████████████████████████████| 52/52 [00:00<00:00, 63.74it/s]\n",
      "Generating walks (CPU: 1): 100%|███████████████████████████████████████████████████████| 50/50 [00:00<00:00, 62.82it/s]\n",
      "Computing transition probabilities: 100%|██████████████████████████████████████████████| 57/57 [00:01<00:00, 46.77it/s]\n",
      "Generating walks (CPU: 1): 100%|███████████████████████████████████████████████████████| 50/50 [00:01<00:00, 35.40it/s]\n",
      "Computing transition probabilities: 100%|██████████████████████████████████████████████| 55/55 [00:01<00:00, 40.22it/s]\n",
      "Generating walks (CPU: 1): 100%|███████████████████████████████████████████████████████| 50/50 [00:01<00:00, 32.94it/s]\n",
      "Computing transition probabilities: 100%|██████████████████████████████████████████████| 50/50 [00:00<00:00, 68.96it/s]\n",
      "Generating walks (CPU: 1): 100%|███████████████████████████████████████████████████████| 50/50 [00:00<00:00, 66.76it/s]\n",
      "Computing transition probabilities: 100%|██████████████████████████████████████████████| 51/51 [00:00<00:00, 77.60it/s]\n",
      "Generating walks (CPU: 1): 100%|███████████████████████████████████████████████████████| 50/50 [00:00<00:00, 53.00it/s]\n",
      "Computing transition probabilities: 100%|██████████████████████████████████████████████| 48/48 [00:00<00:00, 70.47it/s]\n",
      "Generating walks (CPU: 1): 100%|███████████████████████████████████████████████████████| 50/50 [00:01<00:00, 34.72it/s]\n",
      "Computing transition probabilities: 100%|██████████████████████████████████████████████| 60/60 [00:01<00:00, 35.85it/s]\n",
      "Generating walks (CPU: 1): 100%|███████████████████████████████████████████████████████| 50/50 [00:00<00:00, 53.00it/s]\n",
      "Computing transition probabilities: 100%|██████████████████████████████████████████████| 45/45 [00:00<00:00, 98.73it/s]\n",
      "Generating walks (CPU: 1): 100%|███████████████████████████████████████████████████████| 50/50 [00:00<00:00, 77.37it/s]\n",
      "Computing transition probabilities: 100%|█████████████████████████████████████████████| 46/46 [00:00<00:00, 104.83it/s]\n",
      "Generating walks (CPU: 1): 100%|███████████████████████████████████████████████████████| 50/50 [00:00<00:00, 68.21it/s]\n",
      "Computing transition probabilities: 100%|██████████████████████████████████████████████| 57/57 [00:01<00:00, 35.45it/s]\n",
      "Generating walks (CPU: 1): 100%|███████████████████████████████████████████████████████| 50/50 [00:00<00:00, 57.10it/s]\n",
      "Computing transition probabilities: 100%|██████████████████████████████████████████████| 59/59 [00:01<00:00, 55.85it/s]\n",
      "Generating walks (CPU: 1): 100%|███████████████████████████████████████████████████████| 50/50 [00:01<00:00, 40.36it/s]\n",
      "Computing transition probabilities: 100%|██████████████████████████████████████████████| 61/61 [00:01<00:00, 34.59it/s]\n",
      "Generating walks (CPU: 1): 100%|███████████████████████████████████████████████████████| 50/50 [00:01<00:00, 34.30it/s]\n",
      "Computing transition probabilities: 100%|██████████████████████████████████████████████| 54/54 [00:01<00:00, 42.91it/s]\n",
      "Generating walks (CPU: 1): 100%|███████████████████████████████████████████████████████| 50/50 [00:01<00:00, 40.58it/s]\n",
      "Computing transition probabilities: 100%|██████████████████████████████████████████████| 56/56 [00:01<00:00, 36.69it/s]\n",
      "Generating walks (CPU: 1): 100%|███████████████████████████████████████████████████████| 50/50 [00:01<00:00, 42.11it/s]\n",
      "Computing transition probabilities: 100%|█████████████████████████████████████████████| 37/37 [00:00<00:00, 131.71it/s]\n",
      "Generating walks (CPU: 1): 100%|███████████████████████████████████████████████████████| 50/50 [00:00<00:00, 51.39it/s]\n",
      "Computing transition probabilities: 100%|██████████████████████████████████████████████| 51/51 [00:01<00:00, 48.39it/s]\n",
      "Generating walks (CPU: 1): 100%|███████████████████████████████████████████████████████| 50/50 [00:00<00:00, 54.18it/s]\n",
      "Computing transition probabilities: 100%|██████████████████████████████████████████████| 46/46 [00:00<00:00, 71.30it/s]\n",
      "Generating walks (CPU: 1): 100%|███████████████████████████████████████████████████████| 50/50 [00:00<00:00, 63.15it/s]\n",
      "Computing transition probabilities: 100%|██████████████████████████████████████████████| 52/52 [00:00<00:00, 83.56it/s]\n",
      "Generating walks (CPU: 1): 100%|███████████████████████████████████████████████████████| 50/50 [00:00<00:00, 67.16it/s]\n",
      "Computing transition probabilities: 100%|██████████████████████████████████████████████| 54/54 [00:00<00:00, 66.27it/s]\n",
      "Generating walks (CPU: 1): 100%|███████████████████████████████████████████████████████| 50/50 [00:00<00:00, 50.27it/s]\n",
      "Computing transition probabilities: 100%|██████████████████████████████████████████████| 61/61 [00:01<00:00, 53.11it/s]\n",
      "Generating walks (CPU: 1): 100%|███████████████████████████████████████████████████████| 50/50 [00:00<00:00, 59.87it/s]\n",
      "Computing transition probabilities: 100%|██████████████████████████████████████████████| 56/56 [00:00<00:00, 64.55it/s]\n",
      "Generating walks (CPU: 1): 100%|███████████████████████████████████████████████████████| 50/50 [00:00<00:00, 56.83it/s]\n",
      "Computing transition probabilities: 100%|██████████████████████████████████████████████| 50/50 [00:00<00:00, 78.54it/s]\n",
      "Generating walks (CPU: 1): 100%|███████████████████████████████████████████████████████| 50/50 [00:01<00:00, 36.80it/s]\n",
      "Computing transition probabilities: 100%|██████████████████████████████████████████████| 51/51 [00:00<00:00, 62.12it/s]\n",
      "Generating walks (CPU: 1): 100%|███████████████████████████████████████████████████████| 50/50 [00:01<00:00, 39.67it/s]\n",
      "Computing transition probabilities: 100%|██████████████████████████████████████████████| 53/53 [00:01<00:00, 51.67it/s]\n",
      "Generating walks (CPU: 1): 100%|███████████████████████████████████████████████████████| 50/50 [00:00<00:00, 51.64it/s]\n",
      "Computing transition probabilities: 100%|██████████████████████████████████████████████| 51/51 [00:01<00:00, 42.60it/s]\n",
      "Generating walks (CPU: 1): 100%|███████████████████████████████████████████████████████| 50/50 [00:01<00:00, 41.40it/s]\n",
      "Computing transition probabilities: 100%|██████████████████████████████████████████████| 60/60 [00:01<00:00, 42.05it/s]\n",
      "Generating walks (CPU: 1): 100%|███████████████████████████████████████████████████████| 50/50 [00:01<00:00, 38.62it/s]\n",
      "Computing transition probabilities: 100%|██████████████████████████████████████████████| 47/47 [00:00<00:00, 88.02it/s]\n",
      "Generating walks (CPU: 1): 100%|███████████████████████████████████████████████████████| 50/50 [00:01<00:00, 48.86it/s]\n",
      "Computing transition probabilities: 100%|██████████████████████████████████████████████| 56/56 [00:01<00:00, 35.71it/s]\n",
      "Generating walks (CPU: 1): 100%|███████████████████████████████████████████████████████| 50/50 [00:01<00:00, 49.97it/s]\n",
      "Computing transition probabilities: 100%|██████████████████████████████████████████████| 59/59 [00:01<00:00, 55.49it/s]\n",
      "Generating walks (CPU: 1): 100%|███████████████████████████████████████████████████████| 50/50 [00:00<00:00, 55.17it/s]\n",
      "Computing transition probabilities: 100%|██████████████████████████████████████████████| 47/47 [00:00<00:00, 79.79it/s]\n",
      "Generating walks (CPU: 1): 100%|███████████████████████████████████████████████████████| 50/50 [00:00<00:00, 67.72it/s]\n",
      "Computing transition probabilities: 100%|██████████████████████████████████████████████| 44/44 [00:00<00:00, 47.18it/s]\n",
      "Generating walks (CPU: 1): 100%|███████████████████████████████████████████████████████| 50/50 [00:00<00:00, 66.58it/s]\n",
      "Computing transition probabilities: 100%|██████████████████████████████████████████████| 55/55 [00:00<00:00, 71.43it/s]\n",
      "Generating walks (CPU: 1): 100%|███████████████████████████████████████████████████████| 50/50 [00:00<00:00, 64.27it/s]\n",
      "Computing transition probabilities: 100%|██████████████████████████████████████████████| 53/53 [00:00<00:00, 62.59it/s]\n",
      "Generating walks (CPU: 1): 100%|███████████████████████████████████████████████████████| 50/50 [00:00<00:00, 70.02it/s]\n",
      "Computing transition probabilities: 100%|█████████████████████████████████████████████| 45/45 [00:00<00:00, 111.41it/s]\n",
      "Generating walks (CPU: 1): 100%|███████████████████████████████████████████████████████| 50/50 [00:00<00:00, 87.65it/s]\n",
      "Computing transition probabilities: 100%|██████████████████████████████████████████████| 53/53 [00:00<00:00, 72.60it/s]\n",
      "Generating walks (CPU: 1): 100%|███████████████████████████████████████████████████████| 50/50 [00:00<00:00, 61.74it/s]\n",
      "Computing transition probabilities: 100%|██████████████████████████████████████████████| 56/56 [00:00<00:00, 63.37it/s]\n",
      "Generating walks (CPU: 1): 100%|███████████████████████████████████████████████████████| 50/50 [00:00<00:00, 58.16it/s]\n",
      "Computing transition probabilities: 100%|██████████████████████████████████████████████| 60/60 [00:00<00:00, 60.46it/s]\n",
      "Generating walks (CPU: 1): 100%|███████████████████████████████████████████████████████| 50/50 [00:00<00:00, 54.49it/s]\n",
      "Computing transition probabilities: 100%|██████████████████████████████████████████████| 44/44 [00:00<00:00, 71.74it/s]\n",
      "Generating walks (CPU: 1): 100%|███████████████████████████████████████████████████████| 50/50 [00:01<00:00, 42.36it/s]\n",
      "Computing transition probabilities: 100%|██████████████████████████████████████████████| 53/53 [00:00<00:00, 58.53it/s]\n",
      "Generating walks (CPU: 1): 100%|███████████████████████████████████████████████████████| 50/50 [00:01<00:00, 45.26it/s]\n",
      "Computing transition probabilities: 100%|██████████████████████████████████████████████| 54/54 [00:00<00:00, 55.73it/s]\n",
      "Generating walks (CPU: 1): 100%|███████████████████████████████████████████████████████| 50/50 [00:00<00:00, 60.58it/s]\n",
      "Computing transition probabilities: 100%|██████████████████████████████████████████████| 40/40 [00:00<00:00, 99.63it/s]\n",
      "Generating walks (CPU: 1): 100%|███████████████████████████████████████████████████████| 50/50 [00:00<00:00, 56.17it/s]\n",
      "Computing transition probabilities: 100%|██████████████████████████████████████████████| 41/41 [00:00<00:00, 87.69it/s]\n",
      "Generating walks (CPU: 1): 100%|███████████████████████████████████████████████████████| 50/50 [00:00<00:00, 78.57it/s]\n",
      "Computing transition probabilities: 100%|██████████████████████████████████████████████| 56/56 [00:00<00:00, 73.02it/s]\n",
      "Generating walks (CPU: 1): 100%|███████████████████████████████████████████████████████| 50/50 [00:00<00:00, 67.57it/s]\n",
      "Computing transition probabilities: 100%|██████████████████████████████████████████████| 43/43 [00:00<00:00, 88.17it/s]\n",
      "Generating walks (CPU: 1): 100%|███████████████████████████████████████████████████████| 50/50 [00:00<00:00, 65.02it/s]\n",
      "Computing transition probabilities: 100%|██████████████████████████████████████████████| 47/47 [00:00<00:00, 73.86it/s]\n",
      "Generating walks (CPU: 1): 100%|███████████████████████████████████████████████████████| 50/50 [00:00<00:00, 68.16it/s]\n",
      "Computing transition probabilities: 100%|██████████████████████████████████████████████| 47/47 [00:00<00:00, 69.71it/s]\n",
      "Generating walks (CPU: 1): 100%|███████████████████████████████████████████████████████| 50/50 [00:00<00:00, 58.69it/s]\n",
      "Computing transition probabilities: 100%|██████████████████████████████████████████████| 56/56 [00:01<00:00, 48.33it/s]\n",
      "Generating walks (CPU: 1): 100%|███████████████████████████████████████████████████████| 50/50 [00:01<00:00, 48.29it/s]\n",
      "Computing transition probabilities: 100%|██████████████████████████████████████████████| 50/50 [00:00<00:00, 66.62it/s]\n",
      "Generating walks (CPU: 1): 100%|███████████████████████████████████████████████████████| 50/50 [00:00<00:00, 63.37it/s]\n",
      "Computing transition probabilities: 100%|██████████████████████████████████████████████| 59/59 [00:01<00:00, 37.28it/s]\n",
      "Generating walks (CPU: 1): 100%|███████████████████████████████████████████████████████| 50/50 [00:00<00:00, 57.83it/s]\n",
      "Computing transition probabilities: 100%|██████████████████████████████████████████████| 56/56 [00:01<00:00, 53.10it/s]\n",
      "Generating walks (CPU: 1): 100%|███████████████████████████████████████████████████████| 50/50 [00:01<00:00, 43.39it/s]\n",
      "Computing transition probabilities: 100%|██████████████████████████████████████████████| 53/53 [00:01<00:00, 42.37it/s]\n",
      "Generating walks (CPU: 1): 100%|███████████████████████████████████████████████████████| 50/50 [00:01<00:00, 41.22it/s]\n",
      "Computing transition probabilities: 100%|██████████████████████████████████████████████| 44/44 [00:00<00:00, 82.93it/s]\n",
      "Generating walks (CPU: 1): 100%|███████████████████████████████████████████████████████| 50/50 [00:00<00:00, 74.48it/s]\n",
      "Computing transition probabilities: 100%|██████████████████████████████████████████████| 58/58 [00:01<00:00, 51.86it/s]\n",
      "Generating walks (CPU: 1): 100%|███████████████████████████████████████████████████████| 50/50 [00:00<00:00, 51.22it/s]\n"
     ]
    },
    {
     "name": "stderr",
     "output_type": "stream",
     "text": [
      "Computing transition probabilities: 100%|██████████████████████████████████████████████| 49/49 [00:00<00:00, 85.78it/s]\n",
      "Generating walks (CPU: 1): 100%|███████████████████████████████████████████████████████| 50/50 [00:00<00:00, 58.23it/s]\n",
      "Computing transition probabilities: 100%|██████████████████████████████████████████████| 57/57 [00:01<00:00, 31.52it/s]\n",
      "Generating walks (CPU: 1): 100%|███████████████████████████████████████████████████████| 50/50 [00:01<00:00, 41.42it/s]\n",
      "Computing transition probabilities: 100%|██████████████████████████████████████████████| 55/55 [00:00<00:00, 60.94it/s]\n",
      "Generating walks (CPU: 1): 100%|███████████████████████████████████████████████████████| 50/50 [00:01<00:00, 48.77it/s]\n",
      "Computing transition probabilities: 100%|██████████████████████████████████████████████| 51/51 [00:01<00:00, 46.61it/s]\n",
      "Generating walks (CPU: 1): 100%|███████████████████████████████████████████████████████| 50/50 [00:01<00:00, 39.14it/s]\n",
      "Computing transition probabilities: 100%|██████████████████████████████████████████████| 54/54 [00:01<00:00, 50.04it/s]\n",
      "Generating walks (CPU: 1): 100%|███████████████████████████████████████████████████████| 50/50 [00:01<00:00, 42.82it/s]\n",
      "Computing transition probabilities: 100%|██████████████████████████████████████████████| 45/45 [00:00<00:00, 75.04it/s]\n",
      "Generating walks (CPU: 1): 100%|███████████████████████████████████████████████████████| 50/50 [00:00<00:00, 59.00it/s]\n",
      "Computing transition probabilities: 100%|██████████████████████████████████████████████| 51/51 [00:00<00:00, 61.67it/s]\n",
      "Generating walks (CPU: 1): 100%|███████████████████████████████████████████████████████| 50/50 [00:01<00:00, 40.09it/s]\n",
      "Computing transition probabilities: 100%|██████████████████████████████████████████████| 51/51 [00:00<00:00, 65.26it/s]\n",
      "Generating walks (CPU: 1): 100%|███████████████████████████████████████████████████████| 50/50 [00:00<00:00, 51.78it/s]\n",
      "Computing transition probabilities: 100%|██████████████████████████████████████████████| 54/54 [00:01<00:00, 48.75it/s]\n",
      "Generating walks (CPU: 1): 100%|███████████████████████████████████████████████████████| 50/50 [00:01<00:00, 43.20it/s]\n",
      "Computing transition probabilities: 100%|██████████████████████████████████████████████| 49/49 [00:01<00:00, 42.85it/s]\n",
      "Generating walks (CPU: 1): 100%|███████████████████████████████████████████████████████| 50/50 [00:01<00:00, 39.34it/s]\n",
      "Computing transition probabilities: 100%|██████████████████████████████████████████████| 50/50 [00:00<00:00, 55.14it/s]\n",
      "Generating walks (CPU: 1): 100%|███████████████████████████████████████████████████████| 50/50 [00:00<00:00, 53.73it/s]\n",
      "Computing transition probabilities: 100%|██████████████████████████████████████████████| 42/42 [00:00<00:00, 71.34it/s]\n",
      "Generating walks (CPU: 1): 100%|███████████████████████████████████████████████████████| 50/50 [00:01<00:00, 49.38it/s]\n",
      "Computing transition probabilities: 100%|██████████████████████████████████████████████| 48/48 [00:00<00:00, 76.28it/s]\n",
      "Generating walks (CPU: 1): 100%|███████████████████████████████████████████████████████| 50/50 [00:01<00:00, 28.54it/s]\n",
      "Computing transition probabilities: 100%|██████████████████████████████████████████████| 59/59 [00:01<00:00, 37.70it/s]\n",
      "Generating walks (CPU: 1): 100%|███████████████████████████████████████████████████████| 50/50 [00:01<00:00, 37.95it/s]\n",
      "Computing transition probabilities: 100%|██████████████████████████████████████████████| 58/58 [00:01<00:00, 35.35it/s]\n",
      "Generating walks (CPU: 1): 100%|███████████████████████████████████████████████████████| 50/50 [00:01<00:00, 33.06it/s]\n",
      "Computing transition probabilities: 100%|██████████████████████████████████████████████| 51/51 [00:00<00:00, 82.08it/s]\n",
      "Generating walks (CPU: 1): 100%|███████████████████████████████████████████████████████| 50/50 [00:01<00:00, 38.95it/s]\n",
      "Computing transition probabilities: 100%|██████████████████████████████████████████████| 48/48 [00:00<00:00, 50.74it/s]\n",
      "Generating walks (CPU: 1): 100%|███████████████████████████████████████████████████████| 50/50 [00:01<00:00, 36.62it/s]\n",
      "Computing transition probabilities: 100%|██████████████████████████████████████████████| 44/44 [00:01<00:00, 43.44it/s]\n",
      "Generating walks (CPU: 1): 100%|███████████████████████████████████████████████████████| 50/50 [00:01<00:00, 36.93it/s]\n",
      "Computing transition probabilities: 100%|██████████████████████████████████████████████| 59/59 [00:01<00:00, 30.62it/s]\n",
      "Generating walks (CPU: 1): 100%|███████████████████████████████████████████████████████| 50/50 [00:01<00:00, 31.50it/s]\n",
      "Computing transition probabilities: 100%|██████████████████████████████████████████████| 52/52 [00:01<00:00, 38.48it/s]\n",
      "Generating walks (CPU: 1): 100%|███████████████████████████████████████████████████████| 50/50 [00:01<00:00, 39.09it/s]\n",
      "Computing transition probabilities: 100%|██████████████████████████████████████████████| 52/52 [00:01<00:00, 38.70it/s]\n",
      "Generating walks (CPU: 1): 100%|███████████████████████████████████████████████████████| 50/50 [00:01<00:00, 34.55it/s]\n",
      "Computing transition probabilities: 100%|██████████████████████████████████████████████| 57/57 [00:01<00:00, 48.74it/s]\n",
      "Generating walks (CPU: 1): 100%|███████████████████████████████████████████████████████| 50/50 [00:01<00:00, 39.09it/s]\n",
      "Computing transition probabilities: 100%|██████████████████████████████████████████████| 57/57 [00:02<00:00, 28.11it/s]\n",
      "Generating walks (CPU: 1): 100%|███████████████████████████████████████████████████████| 50/50 [00:01<00:00, 33.66it/s]\n",
      "Computing transition probabilities: 100%|██████████████████████████████████████████████| 50/50 [00:01<00:00, 49.32it/s]\n",
      "Generating walks (CPU: 1): 100%|███████████████████████████████████████████████████████| 50/50 [00:01<00:00, 36.86it/s]\n",
      "Computing transition probabilities: 100%|██████████████████████████████████████████████| 55/55 [00:01<00:00, 41.64it/s]\n",
      "Generating walks (CPU: 1): 100%|███████████████████████████████████████████████████████| 50/50 [00:00<00:00, 51.21it/s]\n",
      "Computing transition probabilities: 100%|██████████████████████████████████████████████| 51/51 [00:00<00:00, 76.90it/s]\n",
      "Generating walks (CPU: 1): 100%|███████████████████████████████████████████████████████| 50/50 [00:00<00:00, 64.53it/s]\n",
      "Computing transition probabilities: 100%|██████████████████████████████████████████████| 56/56 [00:01<00:00, 54.89it/s]\n",
      "Generating walks (CPU: 1): 100%|███████████████████████████████████████████████████████| 50/50 [00:01<00:00, 43.77it/s]\n",
      "Computing transition probabilities: 100%|██████████████████████████████████████████████| 63/63 [00:02<00:00, 29.08it/s]\n",
      "Generating walks (CPU: 1): 100%|███████████████████████████████████████████████████████| 50/50 [00:01<00:00, 41.79it/s]\n",
      "Computing transition probabilities: 100%|██████████████████████████████████████████████| 57/57 [00:01<00:00, 56.36it/s]\n",
      "Generating walks (CPU: 1): 100%|███████████████████████████████████████████████████████| 50/50 [00:00<00:00, 57.66it/s]\n",
      "Computing transition probabilities: 100%|██████████████████████████████████████████████| 55/55 [00:00<00:00, 67.06it/s]\n",
      "Generating walks (CPU: 1): 100%|███████████████████████████████████████████████████████| 50/50 [00:00<00:00, 61.85it/s]\n",
      "Computing transition probabilities: 100%|██████████████████████████████████████████████| 45/45 [00:00<00:00, 59.52it/s]\n",
      "Generating walks (CPU: 1): 100%|███████████████████████████████████████████████████████| 50/50 [00:00<00:00, 66.67it/s]\n",
      "Computing transition probabilities: 100%|██████████████████████████████████████████████| 49/49 [00:00<00:00, 82.85it/s]\n",
      "Generating walks (CPU: 1): 100%|███████████████████████████████████████████████████████| 50/50 [00:00<00:00, 76.25it/s]\n",
      "Computing transition probabilities: 100%|█████████████████████████████████████████████| 50/50 [00:00<00:00, 103.30it/s]\n",
      "Generating walks (CPU: 1): 100%|███████████████████████████████████████████████████████| 50/50 [00:00<00:00, 84.85it/s]\n",
      "Computing transition probabilities: 100%|██████████████████████████████████████████████| 60/60 [00:00<00:00, 67.51it/s]\n",
      "Generating walks (CPU: 1): 100%|███████████████████████████████████████████████████████| 50/50 [00:00<00:00, 58.81it/s]\n",
      "Computing transition probabilities: 100%|██████████████████████████████████████████████| 51/51 [00:00<00:00, 75.15it/s]\n",
      "Generating walks (CPU: 1): 100%|███████████████████████████████████████████████████████| 50/50 [00:00<00:00, 80.67it/s]\n",
      "Computing transition probabilities: 100%|██████████████████████████████████████████████| 48/48 [00:00<00:00, 98.57it/s]\n",
      "Generating walks (CPU: 1): 100%|███████████████████████████████████████████████████████| 50/50 [00:00<00:00, 78.97it/s]\n",
      "Computing transition probabilities: 100%|██████████████████████████████████████████████| 47/47 [00:00<00:00, 91.93it/s]\n",
      "Generating walks (CPU: 1): 100%|███████████████████████████████████████████████████████| 50/50 [00:00<00:00, 75.25it/s]\n",
      "Computing transition probabilities: 100%|██████████████████████████████████████████████| 49/49 [00:00<00:00, 69.59it/s]\n",
      "Generating walks (CPU: 1): 100%|███████████████████████████████████████████████████████| 50/50 [00:00<00:00, 64.47it/s]\n",
      "Computing transition probabilities: 100%|██████████████████████████████████████████████| 52/52 [00:00<00:00, 59.68it/s]\n",
      "Generating walks (CPU: 1): 100%|███████████████████████████████████████████████████████| 50/50 [00:01<00:00, 49.58it/s]\n",
      "Computing transition probabilities: 100%|██████████████████████████████████████████████| 55/55 [00:01<00:00, 36.00it/s]\n",
      "Generating walks (CPU: 1): 100%|███████████████████████████████████████████████████████| 50/50 [00:01<00:00, 30.87it/s]\n",
      "Computing transition probabilities: 100%|██████████████████████████████████████████████| 55/55 [00:01<00:00, 33.22it/s]\n",
      "Generating walks (CPU: 1): 100%|███████████████████████████████████████████████████████| 50/50 [00:01<00:00, 44.02it/s]\n",
      "Computing transition probabilities: 100%|██████████████████████████████████████████████| 56/56 [00:01<00:00, 37.26it/s]\n",
      "Generating walks (CPU: 1): 100%|███████████████████████████████████████████████████████| 50/50 [00:01<00:00, 36.41it/s]\n",
      "Computing transition probabilities: 100%|██████████████████████████████████████████████| 58/58 [00:01<00:00, 38.39it/s]\n",
      "Generating walks (CPU: 1): 100%|███████████████████████████████████████████████████████| 50/50 [00:01<00:00, 40.66it/s]\n",
      "Computing transition probabilities: 100%|██████████████████████████████████████████████| 61/61 [00:01<00:00, 35.21it/s]\n",
      "Generating walks (CPU: 1): 100%|███████████████████████████████████████████████████████| 50/50 [00:01<00:00, 39.73it/s]\n",
      "Computing transition probabilities: 100%|██████████████████████████████████████████████| 43/43 [00:00<00:00, 55.28it/s]\n",
      "Generating walks (CPU: 1): 100%|███████████████████████████████████████████████████████| 50/50 [00:00<00:00, 52.72it/s]\n",
      "Computing transition probabilities: 100%|██████████████████████████████████████████████| 50/50 [00:01<00:00, 49.14it/s]\n",
      "Generating walks (CPU: 1): 100%|███████████████████████████████████████████████████████| 50/50 [00:01<00:00, 47.81it/s]\n",
      "Computing transition probabilities: 100%|██████████████████████████████████████████████| 57/57 [00:01<00:00, 42.81it/s]\n",
      "Generating walks (CPU: 1): 100%|███████████████████████████████████████████████████████| 50/50 [00:00<00:00, 52.61it/s]\n",
      "Computing transition probabilities: 100%|██████████████████████████████████████████████| 60/60 [00:01<00:00, 37.14it/s]\n",
      "Generating walks (CPU: 1): 100%|███████████████████████████████████████████████████████| 50/50 [00:01<00:00, 45.04it/s]\n",
      "Computing transition probabilities: 100%|██████████████████████████████████████████████| 43/43 [00:00<00:00, 67.90it/s]\n",
      "Generating walks (CPU: 1): 100%|███████████████████████████████████████████████████████| 50/50 [00:00<00:00, 63.30it/s]\n",
      "Computing transition probabilities: 100%|██████████████████████████████████████████████| 57/57 [00:01<00:00, 45.76it/s]\n",
      "Generating walks (CPU: 1): 100%|███████████████████████████████████████████████████████| 50/50 [00:01<00:00, 46.08it/s]\n",
      "Computing transition probabilities: 100%|██████████████████████████████████████████████| 60/60 [00:01<00:00, 39.19it/s]\n",
      "Generating walks (CPU: 1): 100%|███████████████████████████████████████████████████████| 50/50 [00:01<00:00, 41.43it/s]\n",
      "Computing transition probabilities: 100%|██████████████████████████████████████████████| 54/54 [00:01<00:00, 42.20it/s]\n",
      "Generating walks (CPU: 1): 100%|███████████████████████████████████████████████████████| 50/50 [00:01<00:00, 47.43it/s]\n",
      "Computing transition probabilities: 100%|██████████████████████████████████████████████| 55/55 [00:01<00:00, 45.02it/s]\n",
      "Generating walks (CPU: 1): 100%|███████████████████████████████████████████████████████| 50/50 [00:01<00:00, 43.26it/s]\n",
      "Computing transition probabilities: 100%|██████████████████████████████████████████████| 47/47 [00:00<00:00, 80.01it/s]\n",
      "Generating walks (CPU: 1): 100%|███████████████████████████████████████████████████████| 50/50 [00:01<00:00, 39.32it/s]\n",
      "Computing transition probabilities: 100%|██████████████████████████████████████████████| 56/56 [00:01<00:00, 39.48it/s]\n",
      "Generating walks (CPU: 1): 100%|███████████████████████████████████████████████████████| 50/50 [00:01<00:00, 47.66it/s]\n",
      "Computing transition probabilities: 100%|██████████████████████████████████████████████| 47/47 [00:00<00:00, 82.10it/s]\n",
      "Generating walks (CPU: 1): 100%|███████████████████████████████████████████████████████| 50/50 [00:00<00:00, 67.84it/s]\n",
      "Computing transition probabilities: 100%|█████████████████████████████████████████████| 41/41 [00:00<00:00, 133.91it/s]\n",
      "Generating walks (CPU: 1): 100%|███████████████████████████████████████████████████████| 50/50 [00:00<00:00, 76.19it/s]\n",
      "Computing transition probabilities: 100%|██████████████████████████████████████████████| 47/47 [00:00<00:00, 73.86it/s]\n",
      "Generating walks (CPU: 1): 100%|███████████████████████████████████████████████████████| 50/50 [00:00<00:00, 64.36it/s]\n",
      "Computing transition probabilities: 100%|██████████████████████████████████████████████| 52/52 [00:00<00:00, 76.79it/s]\n",
      "Generating walks (CPU: 1): 100%|███████████████████████████████████████████████████████| 50/50 [00:00<00:00, 55.21it/s]\n",
      "Computing transition probabilities: 100%|██████████████████████████████████████████████| 52/52 [00:00<00:00, 73.75it/s]\n",
      "Generating walks (CPU: 1): 100%|███████████████████████████████████████████████████████| 50/50 [00:01<00:00, 49.88it/s]\n",
      "Computing transition probabilities: 100%|██████████████████████████████████████████████| 50/50 [00:00<00:00, 54.49it/s]\n",
      "Generating walks (CPU: 1): 100%|███████████████████████████████████████████████████████| 50/50 [00:01<00:00, 43.11it/s]\n",
      "Computing transition probabilities: 100%|██████████████████████████████████████████████| 57/57 [00:01<00:00, 52.77it/s]\n",
      "Generating walks (CPU: 1): 100%|███████████████████████████████████████████████████████| 50/50 [00:00<00:00, 54.79it/s]\n",
      "Computing transition probabilities: 100%|██████████████████████████████████████████████| 53/53 [00:00<00:00, 75.92it/s]\n",
      "Generating walks (CPU: 1): 100%|███████████████████████████████████████████████████████| 50/50 [00:00<00:00, 78.33it/s]\n",
      "Computing transition probabilities: 100%|█████████████████████████████████████████████| 45/45 [00:00<00:00, 109.78it/s]\n",
      "Generating walks (CPU: 1): 100%|███████████████████████████████████████████████████████| 50/50 [00:00<00:00, 77.13it/s]\n"
     ]
    },
    {
     "name": "stdout",
     "output_type": "stream",
     "text": [
      "\n"
     ]
    },
    {
     "data": {
      "application/vnd.jupyter.widget-view+json": {
       "model_id": "b19be53c9b524f66bc169ef4a43a3f24",
       "version_major": 2,
       "version_minor": 0
      },
      "text/plain": [
       "HBox(children=(IntProgress(value=1, bar_style='info', max=1), HTML(value='')))"
      ]
     },
     "metadata": {},
     "output_type": "display_data"
    },
    {
     "name": "stdout",
     "output_type": "stream",
     "text": [
      "\n"
     ]
    },
    {
     "name": "stderr",
     "output_type": "stream",
     "text": [
      "C:\\Users\\Stefano\\.conda\\envs\\base2\\lib\\site-packages\\sklearn\\linear_model\\_logistic.py:764: ConvergenceWarning: lbfgs failed to converge (status=1):\n",
      "STOP: TOTAL NO. of ITERATIONS REACHED LIMIT.\n",
      "\n",
      "Increase the number of iterations (max_iter) or scale the data as shown in:\n",
      "    https://scikit-learn.org/stable/modules/preprocessing.html\n",
      "Please also refer to the documentation for alternative solver options:\n",
      "    https://scikit-learn.org/stable/modules/linear_model.html#logistic-regression\n",
      "  extra_warning_msg=_LOGISTIC_SOLVER_CONVERGENCE_MSG)\n"
     ]
    },
    {
     "data": {
      "application/vnd.jupyter.widget-view+json": {
       "model_id": "151a4b2db0044c0a97555190932edbf3",
       "version_major": 2,
       "version_minor": 0
      },
      "text/plain": [
       "HBox(children=(IntProgress(value=1, bar_style='info', max=1), HTML(value='')))"
      ]
     },
     "metadata": {},
     "output_type": "display_data"
    },
    {
     "name": "stdout",
     "output_type": "stream",
     "text": [
      "\n"
     ]
    },
    {
     "name": "stderr",
     "output_type": "stream",
     "text": [
      "C:\\Users\\Stefano\\.conda\\envs\\base2\\lib\\site-packages\\sklearn\\base.py:213: FutureWarning: From version 0.24, get_params will raise an AttributeError if a parameter cannot be retrieved as an instance attribute. Previously it would return None.\n",
      "  FutureWarning)\n"
     ]
    },
    {
     "data": {
      "application/vnd.jupyter.widget-view+json": {
       "model_id": "3cce229269574b68a2423989ff3a9f9b",
       "version_major": 2,
       "version_minor": 0
      },
      "text/plain": [
       "HBox(children=(IntProgress(value=0, max=200), HTML(value='')))"
      ]
     },
     "metadata": {},
     "output_type": "display_data"
    },
    {
     "name": "stdout",
     "output_type": "stream",
     "text": [
      "\n"
     ]
    },
    {
     "data": {
      "application/vnd.jupyter.widget-view+json": {
       "model_id": "54910d4226ec4e8f97026699daefc2a0",
       "version_major": 2,
       "version_minor": 0
      },
      "text/plain": [
       "HBox(children=(IntProgress(value=0, max=200), HTML(value='')))"
      ]
     },
     "metadata": {},
     "output_type": "display_data"
    },
    {
     "name": "stderr",
     "output_type": "stream",
     "text": [
      "Computing transition probabilities: 100%|██████████████████████████████████████████████| 52/52 [00:00<00:00, 76.90it/s]\n",
      "Generating walks (CPU: 1): 100%|███████████████████████████████████████████████████████| 50/50 [00:00<00:00, 59.54it/s]\n",
      "Computing transition probabilities: 100%|██████████████████████████████████████████████| 52/52 [00:00<00:00, 90.05it/s]\n",
      "Generating walks (CPU: 1): 100%|███████████████████████████████████████████████████████| 50/50 [00:00<00:00, 73.62it/s]\n",
      "Computing transition probabilities: 100%|██████████████████████████████████████████████| 58/58 [00:00<00:00, 71.89it/s]\n",
      "Generating walks (CPU: 1): 100%|███████████████████████████████████████████████████████| 50/50 [00:00<00:00, 66.93it/s]\n",
      "Computing transition probabilities: 100%|██████████████████████████████████████████████| 51/51 [00:00<00:00, 83.97it/s]\n",
      "Generating walks (CPU: 1): 100%|███████████████████████████████████████████████████████| 50/50 [00:00<00:00, 85.69it/s]\n",
      "Computing transition probabilities: 100%|█████████████████████████████████████████████| 43/43 [00:00<00:00, 140.45it/s]\n",
      "Generating walks (CPU: 1): 100%|██████████████████████████████████████████████████████| 50/50 [00:00<00:00, 102.10it/s]\n",
      "Computing transition probabilities: 100%|██████████████████████████████████████████████| 49/49 [00:00<00:00, 90.98it/s]\n",
      "Generating walks (CPU: 1): 100%|███████████████████████████████████████████████████████| 50/50 [00:00<00:00, 55.52it/s]\n",
      "Computing transition probabilities: 100%|██████████████████████████████████████████████| 47/47 [00:00<00:00, 89.25it/s]\n",
      "Generating walks (CPU: 1): 100%|███████████████████████████████████████████████████████| 50/50 [00:00<00:00, 99.08it/s]\n",
      "Computing transition probabilities: 100%|█████████████████████████████████████████████| 53/53 [00:00<00:00, 108.67it/s]\n",
      "Generating walks (CPU: 1): 100%|███████████████████████████████████████████████████████| 50/50 [00:00<00:00, 77.73it/s]\n",
      "Computing transition probabilities: 100%|██████████████████████████████████████████████| 59/59 [00:00<00:00, 73.95it/s]\n",
      "Generating walks (CPU: 1): 100%|███████████████████████████████████████████████████████| 50/50 [00:00<00:00, 68.12it/s]\n",
      "Computing transition probabilities: 100%|█████████████████████████████████████████████| 51/51 [00:00<00:00, 108.57it/s]\n",
      "Generating walks (CPU: 1): 100%|███████████████████████████████████████████████████████| 50/50 [00:00<00:00, 62.05it/s]\n",
      "Computing transition probabilities: 100%|██████████████████████████████████████████████| 55/55 [00:00<00:00, 69.28it/s]\n",
      "Generating walks (CPU: 1): 100%|███████████████████████████████████████████████████████| 50/50 [00:00<00:00, 66.85it/s]\n",
      "Computing transition probabilities: 100%|██████████████████████████████████████████████| 53/53 [00:00<00:00, 73.40it/s]\n",
      "Generating walks (CPU: 1): 100%|███████████████████████████████████████████████████████| 50/50 [00:00<00:00, 70.22it/s]\n",
      "Computing transition probabilities: 100%|██████████████████████████████████████████████| 56/56 [00:00<00:00, 93.43it/s]\n",
      "Generating walks (CPU: 1): 100%|███████████████████████████████████████████████████████| 50/50 [00:00<00:00, 83.28it/s]\n",
      "Computing transition probabilities: 100%|██████████████████████████████████████████████| 59/59 [00:00<00:00, 79.73it/s]\n",
      "Generating walks (CPU: 1): 100%|███████████████████████████████████████████████████████| 50/50 [00:00<00:00, 54.55it/s]\n",
      "Computing transition probabilities: 100%|█████████████████████████████████████████████| 49/49 [00:00<00:00, 105.89it/s]\n",
      "Generating walks (CPU: 1): 100%|███████████████████████████████████████████████████████| 50/50 [00:00<00:00, 88.26it/s]\n",
      "Computing transition probabilities: 100%|██████████████████████████████████████████████| 58/58 [00:00<00:00, 83.32it/s]\n",
      "Generating walks (CPU: 1): 100%|███████████████████████████████████████████████████████| 50/50 [00:00<00:00, 52.33it/s]\n",
      "Computing transition probabilities: 100%|██████████████████████████████████████████████| 52/52 [00:00<00:00, 64.77it/s]\n",
      "Generating walks (CPU: 1): 100%|███████████████████████████████████████████████████████| 50/50 [00:00<00:00, 67.47it/s]\n",
      "Computing transition probabilities: 100%|██████████████████████████████████████████████| 52/52 [00:00<00:00, 57.55it/s]\n",
      "Generating walks (CPU: 1): 100%|███████████████████████████████████████████████████████| 50/50 [00:00<00:00, 64.36it/s]\n",
      "Computing transition probabilities: 100%|██████████████████████████████████████████████| 53/53 [00:00<00:00, 87.26it/s]\n",
      "Generating walks (CPU: 1): 100%|███████████████████████████████████████████████████████| 50/50 [00:00<00:00, 78.70it/s]\n",
      "Computing transition probabilities: 100%|█████████████████████████████████████████████| 50/50 [00:00<00:00, 114.46it/s]\n",
      "Generating walks (CPU: 1): 100%|███████████████████████████████████████████████████████| 50/50 [00:00<00:00, 85.70it/s]\n",
      "Computing transition probabilities: 100%|██████████████████████████████████████████████| 54/54 [00:00<00:00, 80.57it/s]\n",
      "Generating walks (CPU: 1): 100%|███████████████████████████████████████████████████████| 50/50 [00:00<00:00, 72.66it/s]\n",
      "Computing transition probabilities: 100%|██████████████████████████████████████████████| 58/58 [00:00<00:00, 75.23it/s]\n",
      "Generating walks (CPU: 1): 100%|███████████████████████████████████████████████████████| 50/50 [00:00<00:00, 59.12it/s]\n",
      "Computing transition probabilities: 100%|██████████████████████████████████████████████| 57/57 [00:00<00:00, 80.95it/s]\n",
      "Generating walks (CPU: 1): 100%|███████████████████████████████████████████████████████| 50/50 [00:00<00:00, 74.71it/s]\n",
      "Computing transition probabilities: 100%|██████████████████████████████████████████████| 55/55 [00:00<00:00, 79.12it/s]\n",
      "Generating walks (CPU: 1): 100%|███████████████████████████████████████████████████████| 50/50 [00:00<00:00, 78.83it/s]\n",
      "Computing transition probabilities: 100%|██████████████████████████████████████████████| 54/54 [00:00<00:00, 87.19it/s]\n",
      "Generating walks (CPU: 1): 100%|███████████████████████████████████████████████████████| 50/50 [00:00<00:00, 85.70it/s]\n",
      "Computing transition probabilities: 100%|██████████████████████████████████████████████| 52/52 [00:00<00:00, 76.90it/s]\n",
      "Generating walks (CPU: 1): 100%|███████████████████████████████████████████████████████| 50/50 [00:00<00:00, 56.08it/s]\n",
      "Computing transition probabilities: 100%|██████████████████████████████████████████████| 56/56 [00:01<00:00, 53.48it/s]\n",
      "Generating walks (CPU: 1): 100%|███████████████████████████████████████████████████████| 50/50 [00:00<00:00, 59.79it/s]\n",
      "Computing transition probabilities: 100%|█████████████████████████████████████████████| 45/45 [00:00<00:00, 133.49it/s]\n",
      "Generating walks (CPU: 1): 100%|███████████████████████████████████████████████████████| 50/50 [00:00<00:00, 76.31it/s]\n",
      "Computing transition probabilities: 100%|█████████████████████████████████████████████| 40/40 [00:00<00:00, 155.44it/s]\n",
      "Generating walks (CPU: 1): 100%|██████████████████████████████████████████████████████| 50/50 [00:00<00:00, 101.49it/s]\n",
      "Computing transition probabilities: 100%|█████████████████████████████████████████████| 44/44 [00:00<00:00, 100.27it/s]\n",
      "Generating walks (CPU: 1): 100%|███████████████████████████████████████████████████████| 50/50 [00:00<00:00, 97.35it/s]\n",
      "Computing transition probabilities: 100%|██████████████████████████████████████████████| 57/57 [00:00<00:00, 67.80it/s]\n",
      "Generating walks (CPU: 1): 100%|███████████████████████████████████████████████████████| 50/50 [00:00<00:00, 77.73it/s]\n",
      "Computing transition probabilities: 100%|██████████████████████████████████████████████| 55/55 [00:00<00:00, 85.37it/s]\n",
      "Generating walks (CPU: 1): 100%|███████████████████████████████████████████████████████| 50/50 [00:00<00:00, 78.21it/s]\n",
      "Computing transition probabilities: 100%|██████████████████████████████████████████████| 52/52 [00:00<00:00, 91.47it/s]\n",
      "Generating walks (CPU: 1): 100%|███████████████████████████████████████████████████████| 50/50 [00:00<00:00, 78.21it/s]\n",
      "Computing transition probabilities: 100%|█████████████████████████████████████████████| 50/50 [00:00<00:00, 100.07it/s]\n",
      "Generating walks (CPU: 1): 100%|███████████████████████████████████████████████████████| 50/50 [00:00<00:00, 78.95it/s]\n",
      "Computing transition probabilities: 100%|██████████████████████████████████████████████| 58/58 [00:00<00:00, 62.80it/s]\n",
      "Generating walks (CPU: 1): 100%|███████████████████████████████████████████████████████| 50/50 [00:00<00:00, 67.38it/s]\n",
      "Computing transition probabilities: 100%|██████████████████████████████████████████████| 59/59 [00:00<00:00, 74.41it/s]\n",
      "Generating walks (CPU: 1): 100%|███████████████████████████████████████████████████████| 50/50 [00:00<00:00, 68.30it/s]\n",
      "Computing transition probabilities: 100%|██████████████████████████████████████████████| 54/54 [00:00<00:00, 89.35it/s]\n",
      "Generating walks (CPU: 1): 100%|███████████████████████████████████████████████████████| 50/50 [00:00<00:00, 74.71it/s]\n",
      "Computing transition probabilities: 100%|█████████████████████████████████████████████| 41/41 [00:00<00:00, 180.31it/s]\n",
      "Generating walks (CPU: 1): 100%|███████████████████████████████████████████████████████| 50/50 [00:00<00:00, 82.73it/s]\n",
      "Computing transition probabilities: 100%|██████████████████████████████████████████████| 52/52 [00:00<00:00, 91.96it/s]\n",
      "Generating walks (CPU: 1): 100%|███████████████████████████████████████████████████████| 50/50 [00:00<00:00, 64.86it/s]\n",
      "Computing transition probabilities: 100%|█████████████████████████████████████████████| 53/53 [00:00<00:00, 115.78it/s]\n",
      "Generating walks (CPU: 1): 100%|███████████████████████████████████████████████████████| 50/50 [00:00<00:00, 81.12it/s]\n",
      "Computing transition probabilities: 100%|██████████████████████████████████████████████| 53/53 [00:00<00:00, 98.96it/s]\n",
      "Generating walks (CPU: 1): 100%|███████████████████████████████████████████████████████| 50/50 [00:00<00:00, 77.85it/s]\n",
      "Computing transition probabilities: 100%|██████████████████████████████████████████████| 59/59 [00:00<00:00, 76.43it/s]\n",
      "Generating walks (CPU: 1): 100%|███████████████████████████████████████████████████████| 50/50 [00:00<00:00, 72.87it/s]\n",
      "Computing transition probabilities: 100%|█████████████████████████████████████████████| 44/44 [00:00<00:00, 141.86it/s]\n",
      "Generating walks (CPU: 1): 100%|███████████████████████████████████████████████████████| 50/50 [00:00<00:00, 89.68it/s]\n",
      "Computing transition probabilities: 100%|██████████████████████████████████████████████| 51/51 [00:00<00:00, 63.52it/s]\n",
      "Generating walks (CPU: 1): 100%|███████████████████████████████████████████████████████| 50/50 [00:00<00:00, 73.62it/s]\n",
      "Computing transition probabilities: 100%|██████████████████████████████████████████████| 58/58 [00:00<00:00, 70.41it/s]\n",
      "Generating walks (CPU: 1): 100%|███████████████████████████████████████████████████████| 50/50 [00:00<00:00, 70.02it/s]\n",
      "Computing transition probabilities: 100%|█████████████████████████████████████████████| 52/52 [00:00<00:00, 103.25it/s]\n",
      "Generating walks (CPU: 1): 100%|███████████████████████████████████████████████████████| 50/50 [00:00<00:00, 76.54it/s]\n",
      "Computing transition probabilities: 100%|██████████████████████████████████████████████| 57/57 [00:00<00:00, 96.05it/s]\n",
      "Generating walks (CPU: 1): 100%|███████████████████████████████████████████████████████| 50/50 [00:00<00:00, 73.62it/s]\n",
      "Computing transition probabilities: 100%|█████████████████████████████████████████████| 47/47 [00:00<00:00, 110.37it/s]\n",
      "Generating walks (CPU: 1): 100%|███████████████████████████████████████████████████████| 50/50 [00:00<00:00, 82.46it/s]\n",
      "Computing transition probabilities: 100%|█████████████████████████████████████████████| 48/48 [00:00<00:00, 107.19it/s]\n",
      "Generating walks (CPU: 1): 100%|███████████████████████████████████████████████████████| 50/50 [00:00<00:00, 83.14it/s]\n",
      "Computing transition probabilities: 100%|██████████████████████████████████████████████| 54/54 [00:00<00:00, 81.79it/s]\n",
      "Generating walks (CPU: 1): 100%|███████████████████████████████████████████████████████| 50/50 [00:00<00:00, 83.42it/s]\n",
      "Computing transition probabilities: 100%|█████████████████████████████████████████████| 51/51 [00:00<00:00, 108.57it/s]\n",
      "Generating walks (CPU: 1): 100%|███████████████████████████████████████████████████████| 50/50 [00:00<00:00, 81.52it/s]\n",
      "Computing transition probabilities: 100%|██████████████████████████████████████████████| 56/56 [00:00<00:00, 84.82it/s]\n",
      "Generating walks (CPU: 1): 100%|███████████████████████████████████████████████████████| 50/50 [00:00<00:00, 55.09it/s]\n",
      "Computing transition probabilities: 100%|██████████████████████████████████████████████| 49/49 [00:00<00:00, 81.61it/s]\n",
      "Generating walks (CPU: 1): 100%|███████████████████████████████████████████████████████| 50/50 [00:00<00:00, 84.26it/s]\n",
      "Computing transition probabilities: 100%|██████████████████████████████████████████████| 54/54 [00:00<00:00, 72.87it/s]\n",
      "Generating walks (CPU: 1): 100%|███████████████████████████████████████████████████████| 50/50 [00:00<00:00, 67.38it/s]\n",
      "Computing transition probabilities: 100%|██████████████████████████████████████████████| 53/53 [00:00<00:00, 67.35it/s]\n",
      "Generating walks (CPU: 1): 100%|███████████████████████████████████████████████████████| 50/50 [00:00<00:00, 70.91it/s]\n",
      "Computing transition probabilities: 100%|█████████████████████████████████████████████| 48/48 [00:00<00:00, 116.25it/s]\n",
      "Generating walks (CPU: 1): 100%|███████████████████████████████████████████████████████| 50/50 [00:00<00:00, 91.81it/s]\n",
      "Computing transition probabilities: 100%|██████████████████████████████████████████████| 49/49 [00:00<00:00, 82.99it/s]\n",
      "Generating walks (CPU: 1): 100%|███████████████████████████████████████████████████████| 50/50 [00:00<00:00, 82.59it/s]\n",
      "Computing transition probabilities: 100%|██████████████████████████████████████████████| 58/58 [00:00<00:00, 81.68it/s]\n",
      "Generating walks (CPU: 1): 100%|███████████████████████████████████████████████████████| 50/50 [00:00<00:00, 72.66it/s]\n",
      "Computing transition probabilities: 100%|██████████████████████████████████████████████| 60/60 [00:00<00:00, 68.83it/s]\n",
      "Generating walks (CPU: 1): 100%|███████████████████████████████████████████████████████| 50/50 [00:00<00:00, 63.14it/s]\n",
      "Computing transition probabilities: 100%|█████████████████████████████████████████████| 46/46 [00:00<00:00, 103.41it/s]\n",
      "Generating walks (CPU: 1): 100%|███████████████████████████████████████████████████████| 50/50 [00:00<00:00, 60.84it/s]\n",
      "Computing transition probabilities: 100%|██████████████████████████████████████████████| 58/58 [00:01<00:00, 55.92it/s]\n",
      "Generating walks (CPU: 1): 100%|███████████████████████████████████████████████████████| 50/50 [00:00<00:00, 67.93it/s]\n",
      "Computing transition probabilities: 100%|██████████████████████████████████████████████| 59/59 [00:01<00:00, 54.37it/s]\n",
      "Generating walks (CPU: 1): 100%|███████████████████████████████████████████████████████| 50/50 [00:01<00:00, 49.44it/s]\n",
      "Computing transition probabilities: 100%|██████████████████████████████████████████████| 56/56 [00:00<00:00, 76.60it/s]\n",
      "Generating walks (CPU: 1): 100%|███████████████████████████████████████████████████████| 50/50 [00:00<00:00, 74.22it/s]\n",
      "Computing transition probabilities: 100%|██████████████████████████████████████████████| 52/52 [00:00<00:00, 57.62it/s]\n",
      "Generating walks (CPU: 1): 100%|███████████████████████████████████████████████████████| 50/50 [00:00<00:00, 77.13it/s]\n",
      "Computing transition probabilities: 100%|█████████████████████████████████████████████| 42/42 [00:00<00:00, 156.55it/s]\n",
      "Generating walks (CPU: 1): 100%|██████████████████████████████████████████████████████| 50/50 [00:00<00:00, 101.90it/s]\n",
      "Computing transition probabilities: 100%|██████████████████████████████████████████████| 61/61 [00:00<00:00, 72.55it/s]\n",
      "Generating walks (CPU: 1): 100%|███████████████████████████████████████████████████████| 50/50 [00:00<00:00, 71.52it/s]\n",
      "Computing transition probabilities: 100%|█████████████████████████████████████████████| 45/45 [00:00<00:00, 122.61it/s]\n",
      "Generating walks (CPU: 1): 100%|███████████████████████████████████████████████████████| 50/50 [00:00<00:00, 99.87it/s]\n",
      "Computing transition probabilities: 100%|██████████████████████████████████████████████| 60/60 [00:01<00:00, 56.70it/s]\n",
      "Generating walks (CPU: 1): 100%|███████████████████████████████████████████████████████| 50/50 [00:01<00:00, 47.70it/s]\n"
     ]
    },
    {
     "name": "stderr",
     "output_type": "stream",
     "text": [
      "Computing transition probabilities: 100%|██████████████████████████████████████████████| 49/49 [00:00<00:00, 83.27it/s]\n",
      "Generating walks (CPU: 1): 100%|███████████████████████████████████████████████████████| 50/50 [00:00<00:00, 59.68it/s]\n",
      "Computing transition probabilities: 100%|██████████████████████████████████████████████| 48/48 [00:00<00:00, 97.82it/s]\n",
      "Generating walks (CPU: 1): 100%|███████████████████████████████████████████████████████| 50/50 [00:00<00:00, 80.09it/s]\n",
      "Computing transition probabilities: 100%|██████████████████████████████████████████████| 49/49 [00:00<00:00, 96.52it/s]\n",
      "Generating walks (CPU: 1): 100%|███████████████████████████████████████████████████████| 50/50 [00:00<00:00, 81.12it/s]\n",
      "Computing transition probabilities: 100%|█████████████████████████████████████████████| 46/46 [00:00<00:00, 129.20it/s]\n",
      "Generating walks (CPU: 1): 100%|███████████████████████████████████████████████████████| 50/50 [00:00<00:00, 85.70it/s]\n",
      "Computing transition probabilities: 100%|██████████████████████████████████████████████| 58/58 [00:00<00:00, 66.77it/s]\n",
      "Generating walks (CPU: 1): 100%|███████████████████████████████████████████████████████| 50/50 [00:00<00:00, 61.82it/s]\n",
      "Computing transition probabilities: 100%|█████████████████████████████████████████████| 45/45 [00:00<00:00, 121.62it/s]\n",
      "Generating walks (CPU: 1): 100%|███████████████████████████████████████████████████████| 50/50 [00:00<00:00, 85.84it/s]\n",
      "Computing transition probabilities: 100%|██████████████████████████████████████████████| 51/51 [00:00<00:00, 90.67it/s]\n",
      "Generating walks (CPU: 1): 100%|███████████████████████████████████████████████████████| 50/50 [00:00<00:00, 78.95it/s]\n",
      "Computing transition probabilities: 100%|██████████████████████████████████████████████| 49/49 [00:00<00:00, 94.85it/s]\n",
      "Generating walks (CPU: 1): 100%|███████████████████████████████████████████████████████| 50/50 [00:00<00:00, 69.92it/s]\n",
      "Computing transition probabilities: 100%|██████████████████████████████████████████████| 50/50 [00:00<00:00, 98.69it/s]\n",
      "Generating walks (CPU: 1): 100%|███████████████████████████████████████████████████████| 50/50 [00:00<00:00, 60.92it/s]\n",
      "Computing transition probabilities: 100%|██████████████████████████████████████████████| 59/59 [00:00<00:00, 60.06it/s]\n",
      "Generating walks (CPU: 1): 100%|███████████████████████████████████████████████████████| 50/50 [00:00<00:00, 53.11it/s]\n",
      "Computing transition probabilities: 100%|██████████████████████████████████████████████| 53/53 [00:00<00:00, 86.55it/s]\n",
      "Generating walks (CPU: 1): 100%|███████████████████████████████████████████████████████| 50/50 [00:00<00:00, 66.76it/s]\n",
      "Computing transition probabilities: 100%|██████████████████████████████████████████████| 52/52 [00:00<00:00, 87.19it/s]\n",
      "Generating walks (CPU: 1): 100%|███████████████████████████████████████████████████████| 50/50 [00:00<00:00, 71.21it/s]\n",
      "Computing transition probabilities: 100%|██████████████████████████████████████████████| 46/46 [00:00<00:00, 77.26it/s]\n",
      "Generating walks (CPU: 1): 100%|███████████████████████████████████████████████████████| 50/50 [00:00<00:00, 91.99it/s]\n",
      "Computing transition probabilities: 100%|██████████████████████████████████████████████| 62/62 [00:00<00:00, 70.97it/s]\n",
      "Generating walks (CPU: 1): 100%|███████████████████████████████████████████████████████| 50/50 [00:00<00:00, 68.30it/s]\n",
      "Computing transition probabilities: 100%|██████████████████████████████████████████████| 56/56 [00:00<00:00, 80.91it/s]\n",
      "Generating walks (CPU: 1): 100%|███████████████████████████████████████████████████████| 50/50 [00:00<00:00, 72.87it/s]\n",
      "Computing transition probabilities: 100%|█████████████████████████████████████████████| 48/48 [00:00<00:00, 134.06it/s]\n",
      "Generating walks (CPU: 1): 100%|███████████████████████████████████████████████████████| 50/50 [00:00<00:00, 90.33it/s]\n",
      "Computing transition probabilities: 100%|██████████████████████████████████████████████| 52/52 [00:00<00:00, 81.59it/s]\n",
      "Generating walks (CPU: 1): 100%|███████████████████████████████████████████████████████| 50/50 [00:00<00:00, 62.12it/s]\n",
      "Computing transition probabilities: 100%|██████████████████████████████████████████████| 58/58 [00:00<00:00, 63.84it/s]\n",
      "Generating walks (CPU: 1): 100%|███████████████████████████████████████████████████████| 50/50 [00:00<00:00, 77.01it/s]\n",
      "Computing transition probabilities: 100%|██████████████████████████████████████████████| 55/55 [00:00<00:00, 87.40it/s]\n",
      "Generating walks (CPU: 1): 100%|███████████████████████████████████████████████████████| 50/50 [00:00<00:00, 77.25it/s]\n",
      "Computing transition probabilities: 100%|██████████████████████████████████████████████| 55/55 [00:00<00:00, 91.30it/s]\n",
      "Generating walks (CPU: 1): 100%|███████████████████████████████████████████████████████| 50/50 [00:00<00:00, 77.73it/s]\n",
      "Computing transition probabilities: 100%|█████████████████████████████████████████████| 46/46 [00:00<00:00, 122.02it/s]\n",
      "Generating walks (CPU: 1): 100%|███████████████████████████████████████████████████████| 50/50 [00:00<00:00, 74.49it/s]\n",
      "Computing transition probabilities: 100%|██████████████████████████████████████████████| 56/56 [00:00<00:00, 85.99it/s]\n",
      "Generating walks (CPU: 1): 100%|███████████████████████████████████████████████████████| 50/50 [00:00<00:00, 72.03it/s]\n",
      "Computing transition probabilities: 100%|██████████████████████████████████████████████| 54/54 [00:00<00:00, 81.18it/s]\n",
      "Generating walks (CPU: 1): 100%|███████████████████████████████████████████████████████| 50/50 [00:00<00:00, 75.73it/s]\n",
      "Computing transition probabilities: 100%|██████████████████████████████████████████████| 55/55 [00:00<00:00, 90.11it/s]\n",
      "Generating walks (CPU: 1): 100%|███████████████████████████████████████████████████████| 50/50 [00:00<00:00, 79.45it/s]\n",
      "Computing transition probabilities: 100%|█████████████████████████████████████████████| 38/38 [00:00<00:00, 238.14it/s]\n",
      "Generating walks (CPU: 1): 100%|███████████████████████████████████████████████████████| 50/50 [00:00<00:00, 99.47it/s]\n",
      "Computing transition probabilities: 100%|██████████████████████████████████████████████| 55/55 [00:00<00:00, 67.92it/s]\n",
      "Generating walks (CPU: 1): 100%|███████████████████████████████████████████████████████| 50/50 [00:00<00:00, 75.73it/s]\n",
      "Computing transition probabilities: 100%|██████████████████████████████████████████████| 59/59 [00:00<00:00, 75.46it/s]\n",
      "Generating walks (CPU: 1): 100%|███████████████████████████████████████████████████████| 50/50 [00:00<00:00, 73.40it/s]\n",
      "Computing transition probabilities: 100%|█████████████████████████████████████████████| 46/46 [00:00<00:00, 103.88it/s]\n",
      "Generating walks (CPU: 1): 100%|███████████████████████████████████████████████████████| 50/50 [00:00<00:00, 85.85it/s]\n",
      "Computing transition probabilities: 100%|█████████████████████████████████████████████| 50/50 [00:00<00:00, 100.87it/s]\n",
      "Generating walks (CPU: 1): 100%|███████████████████████████████████████████████████████| 50/50 [00:00<00:00, 74.94it/s]\n",
      "Computing transition probabilities: 100%|█████████████████████████████████████████████| 47/47 [00:00<00:00, 101.56it/s]\n",
      "Generating walks (CPU: 1): 100%|███████████████████████████████████████████████████████| 50/50 [00:00<00:00, 80.47it/s]\n",
      "Computing transition probabilities: 100%|██████████████████████████████████████████████| 50/50 [00:00<00:00, 96.23it/s]\n",
      "Generating walks (CPU: 1): 100%|███████████████████████████████████████████████████████| 50/50 [00:00<00:00, 72.76it/s]\n",
      "Computing transition probabilities: 100%|██████████████████████████████████████████████| 48/48 [00:00<00:00, 93.27it/s]\n",
      "Generating walks (CPU: 1): 100%|███████████████████████████████████████████████████████| 50/50 [00:00<00:00, 79.33it/s]\n",
      "Computing transition probabilities: 100%|██████████████████████████████████████████████| 50/50 [00:00<00:00, 91.82it/s]\n",
      "Generating walks (CPU: 1): 100%|███████████████████████████████████████████████████████| 50/50 [00:00<00:00, 65.11it/s]\n",
      "Computing transition probabilities: 100%|██████████████████████████████████████████████| 48/48 [00:00<00:00, 91.15it/s]\n",
      "Generating walks (CPU: 1): 100%|███████████████████████████████████████████████████████| 50/50 [00:00<00:00, 76.54it/s]\n",
      "Computing transition probabilities: 100%|██████████████████████████████████████████████| 53/53 [00:01<00:00, 44.25it/s]\n",
      "Generating walks (CPU: 1): 100%|███████████████████████████████████████████████████████| 50/50 [00:00<00:00, 66.05it/s]\n",
      "Computing transition probabilities: 100%|██████████████████████████████████████████████| 55/55 [00:00<00:00, 86.57it/s]\n",
      "Generating walks (CPU: 1): 100%|███████████████████████████████████████████████████████| 50/50 [00:00<00:00, 72.03it/s]\n",
      "Computing transition probabilities: 100%|█████████████████████████████████████████████| 45/45 [00:00<00:00, 101.62it/s]\n",
      "Generating walks (CPU: 1): 100%|███████████████████████████████████████████████████████| 50/50 [00:00<00:00, 70.81it/s]\n",
      "Computing transition probabilities: 100%|██████████████████████████████████████████████| 56/56 [00:00<00:00, 77.88it/s]\n",
      "Generating walks (CPU: 1): 100%|███████████████████████████████████████████████████████| 50/50 [00:00<00:00, 53.62it/s]\n",
      "Computing transition probabilities: 100%|██████████████████████████████████████████████| 52/52 [00:01<00:00, 45.42it/s]\n",
      "Generating walks (CPU: 1): 100%|███████████████████████████████████████████████████████| 50/50 [00:00<00:00, 51.84it/s]\n",
      "Computing transition probabilities: 100%|██████████████████████████████████████████████| 51/51 [00:00<00:00, 67.46it/s]\n",
      "Generating walks (CPU: 1): 100%|███████████████████████████████████████████████████████| 50/50 [00:01<00:00, 48.25it/s]\n",
      "Computing transition probabilities: 100%|██████████████████████████████████████████████| 58/58 [00:01<00:00, 57.87it/s]\n",
      "Generating walks (CPU: 1): 100%|███████████████████████████████████████████████████████| 50/50 [00:01<00:00, 44.25it/s]\n",
      "Computing transition probabilities: 100%|██████████████████████████████████████████████| 56/56 [00:01<00:00, 41.81it/s]\n",
      "Generating walks (CPU: 1): 100%|███████████████████████████████████████████████████████| 50/50 [00:00<00:00, 59.26it/s]\n",
      "Computing transition probabilities: 100%|██████████████████████████████████████████████| 54/54 [00:00<00:00, 71.91it/s]\n",
      "Generating walks (CPU: 1): 100%|███████████████████████████████████████████████████████| 50/50 [00:00<00:00, 75.05it/s]\n",
      "Computing transition probabilities: 100%|██████████████████████████████████████████████| 55/55 [00:00<00:00, 66.36it/s]\n",
      "Generating walks (CPU: 1): 100%|███████████████████████████████████████████████████████| 50/50 [00:00<00:00, 63.06it/s]\n",
      "Computing transition probabilities: 100%|██████████████████████████████████████████████| 53/53 [00:00<00:00, 77.69it/s]\n",
      "Generating walks (CPU: 1): 100%|███████████████████████████████████████████████████████| 50/50 [00:00<00:00, 64.52it/s]\n",
      "Computing transition probabilities: 100%|██████████████████████████████████████████████| 57/57 [00:00<00:00, 73.84it/s]\n",
      "Generating walks (CPU: 1): 100%|███████████████████████████████████████████████████████| 50/50 [00:00<00:00, 68.68it/s]\n",
      "Computing transition probabilities: 100%|██████████████████████████████████████████████| 48/48 [00:00<00:00, 96.45it/s]\n",
      "Generating walks (CPU: 1): 100%|███████████████████████████████████████████████████████| 50/50 [00:00<00:00, 54.61it/s]\n",
      "Computing transition probabilities: 100%|██████████████████████████████████████████████| 53/53 [00:00<00:00, 69.83it/s]\n",
      "Generating walks (CPU: 1): 100%|███████████████████████████████████████████████████████| 50/50 [00:00<00:00, 61.21it/s]\n",
      "Computing transition probabilities: 100%|██████████████████████████████████████████████| 48/48 [00:00<00:00, 66.66it/s]\n",
      "Generating walks (CPU: 1): 100%|███████████████████████████████████████████████████████| 50/50 [00:00<00:00, 65.19it/s]\n",
      "Computing transition probabilities: 100%|██████████████████████████████████████████████| 48/48 [00:00<00:00, 87.67it/s]\n",
      "Generating walks (CPU: 1): 100%|███████████████████████████████████████████████████████| 50/50 [00:00<00:00, 53.33it/s]\n",
      "Computing transition probabilities: 100%|██████████████████████████████████████████████| 53/53 [00:00<00:00, 90.69it/s]\n",
      "Generating walks (CPU: 1): 100%|███████████████████████████████████████████████████████| 50/50 [00:00<00:00, 60.11it/s]\n",
      "Computing transition probabilities: 100%|██████████████████████████████████████████████| 50/50 [00:00<00:00, 71.52it/s]\n",
      "Generating walks (CPU: 1): 100%|███████████████████████████████████████████████████████| 50/50 [00:00<00:00, 54.61it/s]\n",
      "Computing transition probabilities: 100%|██████████████████████████████████████████████| 56/56 [00:01<00:00, 37.36it/s]\n",
      "Generating walks (CPU: 1): 100%|███████████████████████████████████████████████████████| 50/50 [00:01<00:00, 48.30it/s]\n",
      "Computing transition probabilities: 100%|██████████████████████████████████████████████| 50/50 [00:00<00:00, 64.44it/s]\n",
      "Generating walks (CPU: 1): 100%|███████████████████████████████████████████████████████| 50/50 [00:00<00:00, 58.23it/s]\n",
      "Computing transition probabilities: 100%|██████████████████████████████████████████████| 56/56 [00:01<00:00, 45.58it/s]\n",
      "Generating walks (CPU: 1): 100%|███████████████████████████████████████████████████████| 50/50 [00:01<00:00, 39.76it/s]\n",
      "Computing transition probabilities: 100%|██████████████████████████████████████████████| 60/60 [00:01<00:00, 43.09it/s]\n",
      "Generating walks (CPU: 1): 100%|███████████████████████████████████████████████████████| 50/50 [00:01<00:00, 45.74it/s]\n",
      "Computing transition probabilities: 100%|██████████████████████████████████████████████| 54/54 [00:00<00:00, 64.23it/s]\n",
      "Generating walks (CPU: 1): 100%|███████████████████████████████████████████████████████| 50/50 [00:00<00:00, 54.38it/s]\n",
      "Computing transition probabilities: 100%|██████████████████████████████████████████████| 53/53 [00:00<00:00, 73.20it/s]\n",
      "Generating walks (CPU: 1): 100%|███████████████████████████████████████████████████████| 50/50 [00:00<00:00, 73.94it/s]\n",
      "Computing transition probabilities: 100%|██████████████████████████████████████████████| 54/54 [00:00<00:00, 83.17it/s]\n",
      "Generating walks (CPU: 1): 100%|███████████████████████████████████████████████████████| 50/50 [00:00<00:00, 72.76it/s]\n",
      "Computing transition probabilities: 100%|██████████████████████████████████████████████| 50/50 [00:00<00:00, 99.47it/s]\n",
      "Generating walks (CPU: 1): 100%|███████████████████████████████████████████████████████| 50/50 [00:00<00:00, 70.22it/s]\n",
      "Computing transition probabilities: 100%|██████████████████████████████████████████████| 54/54 [00:00<00:00, 83.17it/s]\n",
      "Generating walks (CPU: 1): 100%|███████████████████████████████████████████████████████| 50/50 [00:00<00:00, 79.58it/s]\n",
      "Computing transition probabilities: 100%|██████████████████████████████████████████████| 55/55 [00:00<00:00, 84.19it/s]\n",
      "Generating walks (CPU: 1): 100%|███████████████████████████████████████████████████████| 50/50 [00:00<00:00, 60.92it/s]\n",
      "Computing transition probabilities: 100%|██████████████████████████████████████████████| 54/54 [00:00<00:00, 79.51it/s]\n",
      "Generating walks (CPU: 1): 100%|███████████████████████████████████████████████████████| 50/50 [00:00<00:00, 70.81it/s]\n",
      "Computing transition probabilities: 100%|█████████████████████████████████████████████| 48/48 [00:00<00:00, 120.32it/s]\n",
      "Generating walks (CPU: 1): 100%|███████████████████████████████████████████████████████| 50/50 [00:00<00:00, 81.39it/s]\n",
      "Computing transition probabilities: 100%|█████████████████████████████████████████████| 43/43 [00:00<00:00, 168.42it/s]\n",
      "Generating walks (CPU: 1): 100%|███████████████████████████████████████████████████████| 50/50 [00:00<00:00, 80.47it/s]\n",
      "Computing transition probabilities: 100%|██████████████████████████████████████████████| 55/55 [00:00<00:00, 69.81it/s]\n",
      "Generating walks (CPU: 1): 100%|███████████████████████████████████████████████████████| 50/50 [00:00<00:00, 63.22it/s]\n",
      "Computing transition probabilities: 100%|██████████████████████████████████████████████| 58/58 [00:00<00:00, 71.09it/s]\n",
      "Generating walks (CPU: 1): 100%|███████████████████████████████████████████████████████| 50/50 [00:00<00:00, 69.73it/s]\n",
      "Computing transition probabilities: 100%|█████████████████████████████████████████████| 42/42 [00:00<00:00, 161.35it/s]\n",
      "Generating walks (CPU: 1): 100%|███████████████████████████████████████████████████████| 50/50 [00:00<00:00, 95.13it/s]\n"
     ]
    },
    {
     "name": "stderr",
     "output_type": "stream",
     "text": [
      "Computing transition probabilities: 100%|██████████████████████████████████████████████| 51/51 [00:00<00:00, 95.58it/s]\n",
      "Generating walks (CPU: 1): 100%|███████████████████████████████████████████████████████| 50/50 [00:00<00:00, 86.29it/s]\n",
      "Computing transition probabilities: 100%|██████████████████████████████████████████████| 54/54 [00:00<00:00, 93.68it/s]\n",
      "Generating walks (CPU: 1): 100%|███████████████████████████████████████████████████████| 50/50 [00:00<00:00, 70.31it/s]\n",
      "Computing transition probabilities: 100%|██████████████████████████████████████████████| 49/49 [00:00<00:00, 80.41it/s]\n",
      "Generating walks (CPU: 1): 100%|███████████████████████████████████████████████████████| 50/50 [00:00<00:00, 56.20it/s]\n",
      "Computing transition probabilities: 100%|██████████████████████████████████████████████| 54/54 [00:00<00:00, 70.32it/s]\n",
      "Generating walks (CPU: 1): 100%|███████████████████████████████████████████████████████| 50/50 [00:00<00:00, 67.66it/s]\n",
      "Computing transition probabilities: 100%|██████████████████████████████████████████████| 55/55 [00:00<00:00, 62.88it/s]\n",
      "Generating walks (CPU: 1): 100%|███████████████████████████████████████████████████████| 50/50 [00:00<00:00, 58.09it/s]\n",
      "Computing transition probabilities: 100%|██████████████████████████████████████████████| 58/58 [00:01<00:00, 52.02it/s]\n",
      "Generating walks (CPU: 1): 100%|███████████████████████████████████████████████████████| 50/50 [00:00<00:00, 51.42it/s]\n",
      "Computing transition probabilities: 100%|██████████████████████████████████████████████| 47/47 [00:00<00:00, 76.75it/s]\n",
      "Generating walks (CPU: 1): 100%|███████████████████████████████████████████████████████| 50/50 [00:00<00:00, 59.75it/s]\n",
      "Computing transition probabilities: 100%|██████████████████████████████████████████████| 52/52 [00:00<00:00, 56.43it/s]\n",
      "Generating walks (CPU: 1): 100%|███████████████████████████████████████████████████████| 50/50 [00:01<00:00, 42.85it/s]\n",
      "Computing transition probabilities: 100%|██████████████████████████████████████████████| 58/58 [00:01<00:00, 32.63it/s]\n",
      "Generating walks (CPU: 1): 100%|███████████████████████████████████████████████████████| 50/50 [00:01<00:00, 33.16it/s]\n",
      "Computing transition probabilities: 100%|██████████████████████████████████████████████| 44/44 [00:00<00:00, 72.56it/s]\n",
      "Generating walks (CPU: 1): 100%|███████████████████████████████████████████████████████| 50/50 [00:00<00:00, 57.04it/s]\n",
      "Computing transition probabilities: 100%|██████████████████████████████████████████████| 54/54 [00:01<00:00, 52.06it/s]\n",
      "Generating walks (CPU: 1): 100%|███████████████████████████████████████████████████████| 50/50 [00:01<00:00, 45.37it/s]\n",
      "Computing transition probabilities: 100%|██████████████████████████████████████████████| 54/54 [00:01<00:00, 48.96it/s]\n",
      "Generating walks (CPU: 1): 100%|███████████████████████████████████████████████████████| 50/50 [00:00<00:00, 56.02it/s]\n",
      "Computing transition probabilities: 100%|██████████████████████████████████████████████| 60/60 [00:01<00:00, 51.77it/s]\n",
      "Generating walks (CPU: 1): 100%|███████████████████████████████████████████████████████| 50/50 [00:01<00:00, 48.39it/s]\n",
      "Computing transition probabilities: 100%|██████████████████████████████████████████████| 49/49 [00:00<00:00, 66.94it/s]\n",
      "Generating walks (CPU: 1): 100%|███████████████████████████████████████████████████████| 50/50 [00:00<00:00, 52.50it/s]\n",
      "Computing transition probabilities: 100%|██████████████████████████████████████████████| 55/55 [00:01<00:00, 40.43it/s]\n",
      "Generating walks (CPU: 1): 100%|███████████████████████████████████████████████████████| 50/50 [00:00<00:00, 53.00it/s]\n",
      "Computing transition probabilities: 100%|██████████████████████████████████████████████| 52/52 [00:00<00:00, 76.34it/s]\n",
      "Generating walks (CPU: 1): 100%|███████████████████████████████████████████████████████| 50/50 [00:00<00:00, 71.93it/s]\n",
      "Computing transition probabilities: 100%|██████████████████████████████████████████████| 57/57 [00:00<00:00, 69.11it/s]\n",
      "Generating walks (CPU: 1): 100%|███████████████████████████████████████████████████████| 50/50 [00:00<00:00, 61.21it/s]\n",
      "Computing transition probabilities: 100%|██████████████████████████████████████████████| 57/57 [00:00<00:00, 67.88it/s]\n",
      "Generating walks (CPU: 1): 100%|███████████████████████████████████████████████████████| 50/50 [00:00<00:00, 57.17it/s]\n",
      "Computing transition probabilities: 100%|██████████████████████████████████████████████| 59/59 [00:01<00:00, 56.72it/s]\n",
      "Generating walks (CPU: 1): 100%|███████████████████████████████████████████████████████| 50/50 [00:00<00:00, 59.26it/s]\n",
      "Computing transition probabilities: 100%|██████████████████████████████████████████████| 60/60 [00:00<00:00, 71.96it/s]\n",
      "Generating walks (CPU: 1): 100%|███████████████████████████████████████████████████████| 50/50 [00:00<00:00, 64.44it/s]\n",
      "Computing transition probabilities: 100%|█████████████████████████████████████████████| 49/49 [00:00<00:00, 114.26it/s]\n",
      "Generating walks (CPU: 1): 100%|███████████████████████████████████████████████████████| 50/50 [00:00<00:00, 60.47it/s]\n",
      "Computing transition probabilities: 100%|██████████████████████████████████████████████| 56/56 [00:00<00:00, 65.75it/s]\n",
      "Generating walks (CPU: 1): 100%|███████████████████████████████████████████████████████| 50/50 [00:00<00:00, 62.28it/s]\n",
      "Computing transition probabilities: 100%|██████████████████████████████████████████████| 48/48 [00:00<00:00, 86.56it/s]\n",
      "Generating walks (CPU: 1): 100%|███████████████████████████████████████████████████████| 50/50 [00:00<00:00, 81.92it/s]\n",
      "Computing transition probabilities: 100%|██████████████████████████████████████████████| 44/44 [00:00<00:00, 96.54it/s]\n",
      "Generating walks (CPU: 1): 100%|███████████████████████████████████████████████████████| 50/50 [00:00<00:00, 78.58it/s]\n",
      "Computing transition probabilities: 100%|██████████████████████████████████████████████| 55/55 [00:00<00:00, 73.53it/s]\n",
      "Generating walks (CPU: 1): 100%|███████████████████████████████████████████████████████| 50/50 [00:00<00:00, 66.49it/s]\n",
      "Computing transition probabilities: 100%|██████████████████████████████████████████████| 59/59 [00:01<00:00, 56.34it/s]\n",
      "Generating walks (CPU: 1): 100%|███████████████████████████████████████████████████████| 50/50 [00:00<00:00, 55.64it/s]\n",
      "Computing transition probabilities: 100%|█████████████████████████████████████████████| 48/48 [00:00<00:00, 105.08it/s]\n",
      "Generating walks (CPU: 1): 100%|███████████████████████████████████████████████████████| 50/50 [00:00<00:00, 67.48it/s]\n",
      "Computing transition probabilities: 100%|██████████████████████████████████████████████| 43/43 [00:00<00:00, 80.59it/s]\n",
      "Generating walks (CPU: 1): 100%|███████████████████████████████████████████████████████| 50/50 [00:00<00:00, 79.45it/s]\n",
      "Computing transition probabilities: 100%|██████████████████████████████████████████████| 58/58 [00:00<00:00, 59.65it/s]\n",
      "Generating walks (CPU: 1): 100%|███████████████████████████████████████████████████████| 50/50 [00:00<00:00, 59.05it/s]\n",
      "Computing transition probabilities: 100%|██████████████████████████████████████████████| 60/60 [00:00<00:00, 70.94it/s]\n",
      "Generating walks (CPU: 1): 100%|███████████████████████████████████████████████████████| 50/50 [00:00<00:00, 69.53it/s]\n",
      "Computing transition probabilities: 100%|██████████████████████████████████████████████| 54/54 [00:00<00:00, 91.00it/s]\n",
      "Generating walks (CPU: 1): 100%|███████████████████████████████████████████████████████| 50/50 [00:00<00:00, 78.83it/s]\n",
      "Computing transition probabilities: 100%|█████████████████████████████████████████████| 45/45 [00:00<00:00, 114.81it/s]\n",
      "Generating walks (CPU: 1): 100%|███████████████████████████████████████████████████████| 50/50 [00:00<00:00, 89.68it/s]\n",
      "Computing transition probabilities: 100%|██████████████████████████████████████████████| 54/54 [00:00<00:00, 87.05it/s]\n",
      "Generating walks (CPU: 1): 100%|███████████████████████████████████████████████████████| 50/50 [00:00<00:00, 59.05it/s]\n",
      "Computing transition probabilities: 100%|██████████████████████████████████████████████| 59/59 [00:00<00:00, 59.94it/s]\n",
      "Generating walks (CPU: 1): 100%|███████████████████████████████████████████████████████| 50/50 [00:01<00:00, 46.25it/s]\n",
      "Computing transition probabilities: 100%|██████████████████████████████████████████████| 53/53 [00:00<00:00, 68.66it/s]\n",
      "Generating walks (CPU: 1): 100%|███████████████████████████████████████████████████████| 50/50 [00:00<00:00, 62.12it/s]\n",
      "Computing transition probabilities: 100%|██████████████████████████████████████████████| 61/61 [00:01<00:00, 58.36it/s]\n",
      "Generating walks (CPU: 1): 100%|███████████████████████████████████████████████████████| 50/50 [00:01<00:00, 32.75it/s]\n",
      "Computing transition probabilities: 100%|██████████████████████████████████████████████| 59/59 [00:01<00:00, 35.03it/s]\n",
      "Generating walks (CPU: 1): 100%|███████████████████████████████████████████████████████| 50/50 [00:01<00:00, 36.67it/s]\n",
      "Computing transition probabilities: 100%|██████████████████████████████████████████████| 57/57 [00:00<00:00, 57.56it/s]\n",
      "Generating walks (CPU: 1): 100%|███████████████████████████████████████████████████████| 50/50 [00:01<00:00, 39.41it/s]\n",
      "Computing transition probabilities: 100%|██████████████████████████████████████████████| 56/56 [00:00<00:00, 67.57it/s]\n",
      "Generating walks (CPU: 1): 100%|███████████████████████████████████████████████████████| 50/50 [00:00<00:00, 60.04it/s]\n",
      "Computing transition probabilities: 100%|██████████████████████████████████████████████| 49/49 [00:00<00:00, 88.52it/s]\n",
      "Generating walks (CPU: 1): 100%|███████████████████████████████████████████████████████| 50/50 [00:00<00:00, 55.15it/s]\n",
      "Computing transition probabilities: 100%|██████████████████████████████████████████████| 49/49 [00:00<00:00, 60.51it/s]\n",
      "Generating walks (CPU: 1): 100%|███████████████████████████████████████████████████████| 50/50 [00:00<00:00, 58.43it/s]\n",
      "Computing transition probabilities: 100%|██████████████████████████████████████████████| 49/49 [00:00<00:00, 58.56it/s]\n",
      "Generating walks (CPU: 1): 100%|███████████████████████████████████████████████████████| 50/50 [00:00<00:00, 56.39it/s]\n",
      "Computing transition probabilities: 100%|██████████████████████████████████████████████| 51/51 [00:01<00:00, 50.42it/s]\n",
      "Generating walks (CPU: 1): 100%|███████████████████████████████████████████████████████| 50/50 [00:01<00:00, 37.81it/s]\n",
      "Computing transition probabilities: 100%|██████████████████████████████████████████████| 49/49 [00:00<00:00, 59.43it/s]\n",
      "Generating walks (CPU: 1): 100%|███████████████████████████████████████████████████████| 50/50 [00:00<00:00, 51.92it/s]\n",
      "Computing transition probabilities: 100%|██████████████████████████████████████████████| 58/58 [00:01<00:00, 46.08it/s]\n",
      "Generating walks (CPU: 1): 100%|███████████████████████████████████████████████████████| 50/50 [00:01<00:00, 48.34it/s]\n",
      "Computing transition probabilities: 100%|██████████████████████████████████████████████| 58/58 [00:01<00:00, 55.65it/s]\n",
      "Generating walks (CPU: 1): 100%|███████████████████████████████████████████████████████| 50/50 [00:01<00:00, 38.59it/s]\n",
      "Computing transition probabilities: 100%|██████████████████████████████████████████████| 55/55 [00:00<00:00, 61.89it/s]\n",
      "Generating walks (CPU: 1): 100%|███████████████████████████████████████████████████████| 50/50 [00:01<00:00, 31.83it/s]\n",
      "Computing transition probabilities: 100%|██████████████████████████████████████████████| 55/55 [00:01<00:00, 34.49it/s]\n",
      "Generating walks (CPU: 1): 100%|███████████████████████████████████████████████████████| 50/50 [00:01<00:00, 38.42it/s]\n",
      "Computing transition probabilities: 100%|██████████████████████████████████████████████| 49/49 [00:00<00:00, 68.62it/s]\n",
      "Generating walks (CPU: 1): 100%|███████████████████████████████████████████████████████| 50/50 [00:00<00:00, 71.16it/s]\n",
      "Computing transition probabilities: 100%|██████████████████████████████████████████████| 51/51 [00:00<00:00, 73.47it/s]\n",
      "Generating walks (CPU: 1): 100%|███████████████████████████████████████████████████████| 50/50 [00:00<00:00, 69.01it/s]\n",
      "Computing transition probabilities: 100%|██████████████████████████████████████████████| 55/55 [00:00<00:00, 78.84it/s]\n",
      "Generating walks (CPU: 1): 100%|███████████████████████████████████████████████████████| 50/50 [00:00<00:00, 66.93it/s]\n",
      "Computing transition probabilities: 100%|█████████████████████████████████████████████| 47/47 [00:00<00:00, 100.48it/s]\n",
      "Generating walks (CPU: 1): 100%|███████████████████████████████████████████████████████| 50/50 [00:00<00:00, 67.66it/s]\n",
      "Computing transition probabilities: 100%|██████████████████████████████████████████████| 54/54 [00:00<00:00, 69.25it/s]\n",
      "Generating walks (CPU: 1): 100%|███████████████████████████████████████████████████████| 50/50 [00:00<00:00, 54.34it/s]\n",
      "Computing transition probabilities: 100%|██████████████████████████████████████████████| 62/62 [00:01<00:00, 44.53it/s]\n",
      "Generating walks (CPU: 1): 100%|███████████████████████████████████████████████████████| 50/50 [00:01<00:00, 43.02it/s]\n",
      "Computing transition probabilities: 100%|██████████████████████████████████████████████| 53/53 [00:00<00:00, 53.78it/s]\n",
      "Generating walks (CPU: 1): 100%|███████████████████████████████████████████████████████| 50/50 [00:01<00:00, 38.37it/s]\n",
      "Computing transition probabilities: 100%|██████████████████████████████████████████████| 51/51 [00:00<00:00, 51.93it/s]\n",
      "Generating walks (CPU: 1): 100%|███████████████████████████████████████████████████████| 50/50 [00:01<00:00, 49.26it/s]\n",
      "Computing transition probabilities: 100%|██████████████████████████████████████████████| 55/55 [00:01<00:00, 53.38it/s]\n",
      "Generating walks (CPU: 1): 100%|███████████████████████████████████████████████████████| 50/50 [00:01<00:00, 47.35it/s]\n",
      "Computing transition probabilities: 100%|██████████████████████████████████████████████| 53/53 [00:00<00:00, 53.71it/s]\n",
      "Generating walks (CPU: 1): 100%|███████████████████████████████████████████████████████| 50/50 [00:00<00:00, 64.07it/s]\n",
      "Computing transition probabilities: 100%|██████████████████████████████████████████████| 53/53 [00:00<00:00, 73.20it/s]\n",
      "Generating walks (CPU: 1): 100%|███████████████████████████████████████████████████████| 50/50 [00:00<00:00, 62.90it/s]\n",
      "Computing transition probabilities: 100%|██████████████████████████████████████████████| 57/57 [00:00<00:00, 67.24it/s]\n",
      "Generating walks (CPU: 1): 100%|███████████████████████████████████████████████████████| 50/50 [00:00<00:00, 55.34it/s]\n",
      "Computing transition probabilities: 100%|██████████████████████████████████████████████| 54/54 [00:00<00:00, 59.90it/s]\n",
      "Generating walks (CPU: 1): 100%|███████████████████████████████████████████████████████| 50/50 [00:00<00:00, 53.85it/s]\n",
      "Computing transition probabilities: 100%|██████████████████████████████████████████████| 57/57 [00:00<00:00, 58.68it/s]\n",
      "Generating walks (CPU: 1): 100%|███████████████████████████████████████████████████████| 50/50 [00:01<00:00, 47.25it/s]\n",
      "Computing transition probabilities: 100%|██████████████████████████████████████████████| 53/53 [00:01<00:00, 48.09it/s]\n",
      "Generating walks (CPU: 1): 100%|███████████████████████████████████████████████████████| 50/50 [00:00<00:00, 56.20it/s]\n",
      "Computing transition probabilities: 100%|██████████████████████████████████████████████| 52/52 [00:00<00:00, 55.35it/s]\n",
      "Generating walks (CPU: 1): 100%|███████████████████████████████████████████████████████| 50/50 [00:00<00:00, 56.52it/s]\n"
     ]
    },
    {
     "name": "stdout",
     "output_type": "stream",
     "text": [
      "\n"
     ]
    },
    {
     "data": {
      "application/vnd.jupyter.widget-view+json": {
       "model_id": "a198cc9ba45a491f8cf4249866d0ad3b",
       "version_major": 2,
       "version_minor": 0
      },
      "text/plain": [
       "HBox(children=(IntProgress(value=1, bar_style='info', max=1), HTML(value='')))"
      ]
     },
     "metadata": {},
     "output_type": "display_data"
    },
    {
     "name": "stdout",
     "output_type": "stream",
     "text": [
      "\n"
     ]
    },
    {
     "name": "stderr",
     "output_type": "stream",
     "text": [
      "C:\\Users\\Stefano\\.conda\\envs\\base2\\lib\\site-packages\\sklearn\\linear_model\\_logistic.py:764: ConvergenceWarning: lbfgs failed to converge (status=1):\n",
      "STOP: TOTAL NO. of ITERATIONS REACHED LIMIT.\n",
      "\n",
      "Increase the number of iterations (max_iter) or scale the data as shown in:\n",
      "    https://scikit-learn.org/stable/modules/preprocessing.html\n",
      "Please also refer to the documentation for alternative solver options:\n",
      "    https://scikit-learn.org/stable/modules/linear_model.html#logistic-regression\n",
      "  extra_warning_msg=_LOGISTIC_SOLVER_CONVERGENCE_MSG)\n"
     ]
    },
    {
     "data": {
      "application/vnd.jupyter.widget-view+json": {
       "model_id": "b64c6c179dd44d92927e57a3475bc3e0",
       "version_major": 2,
       "version_minor": 0
      },
      "text/plain": [
       "HBox(children=(IntProgress(value=1, bar_style='info', max=1), HTML(value='')))"
      ]
     },
     "metadata": {},
     "output_type": "display_data"
    },
    {
     "name": "stdout",
     "output_type": "stream",
     "text": [
      "\n"
     ]
    },
    {
     "name": "stderr",
     "output_type": "stream",
     "text": [
      "C:\\Users\\Stefano\\.conda\\envs\\base2\\lib\\site-packages\\sklearn\\base.py:213: FutureWarning: From version 0.24, get_params will raise an AttributeError if a parameter cannot be retrieved as an instance attribute. Previously it would return None.\n",
      "  FutureWarning)\n"
     ]
    },
    {
     "data": {
      "application/vnd.jupyter.widget-view+json": {
       "model_id": "69a96ea75f2647b68dfdbdfe96dd724e",
       "version_major": 2,
       "version_minor": 0
      },
      "text/plain": [
       "HBox(children=(IntProgress(value=0, max=200), HTML(value='')))"
      ]
     },
     "metadata": {},
     "output_type": "display_data"
    },
    {
     "name": "stdout",
     "output_type": "stream",
     "text": [
      "\n"
     ]
    },
    {
     "data": {
      "application/vnd.jupyter.widget-view+json": {
       "model_id": "f13077a2cf7140359190e8899f434a56",
       "version_major": 2,
       "version_minor": 0
      },
      "text/plain": [
       "HBox(children=(IntProgress(value=0, max=200), HTML(value='')))"
      ]
     },
     "metadata": {},
     "output_type": "display_data"
    },
    {
     "name": "stderr",
     "output_type": "stream",
     "text": [
      "Computing transition probabilities: 100%|██████████████████████████████████████████████| 49/49 [00:00<00:00, 86.04it/s]\n",
      "Generating walks (CPU: 1): 100%|███████████████████████████████████████████████████████| 50/50 [00:00<00:00, 74.16it/s]\n",
      "Computing transition probabilities: 100%|██████████████████████████████████████████████| 57/57 [00:00<00:00, 59.66it/s]\n",
      "Generating walks (CPU: 1): 100%|███████████████████████████████████████████████████████| 50/50 [00:01<00:00, 48.21it/s]\n",
      "Computing transition probabilities: 100%|██████████████████████████████████████████████| 47/47 [00:00<00:00, 90.80it/s]\n",
      "Generating walks (CPU: 1): 100%|███████████████████████████████████████████████████████| 50/50 [00:00<00:00, 83.42it/s]\n",
      "Computing transition probabilities: 100%|██████████████████████████████████████████████| 58/58 [00:00<00:00, 60.39it/s]\n",
      "Generating walks (CPU: 1): 100%|███████████████████████████████████████████████████████| 50/50 [00:00<00:00, 66.31it/s]\n",
      "Computing transition probabilities: 100%|██████████████████████████████████████████████| 52/52 [00:00<00:00, 79.85it/s]\n",
      "Generating walks (CPU: 1): 100%|███████████████████████████████████████████████████████| 50/50 [00:00<00:00, 70.12it/s]\n",
      "Computing transition probabilities: 100%|██████████████████████████████████████████████| 55/55 [00:00<00:00, 68.32it/s]\n",
      "Generating walks (CPU: 1): 100%|███████████████████████████████████████████████████████| 50/50 [00:00<00:00, 59.26it/s]\n",
      "Computing transition probabilities: 100%|██████████████████████████████████████████████| 57/57 [00:00<00:00, 77.03it/s]\n",
      "Generating walks (CPU: 1): 100%|███████████████████████████████████████████████████████| 50/50 [00:00<00:00, 60.40it/s]\n",
      "Computing transition probabilities: 100%|██████████████████████████████████████████████| 57/57 [00:00<00:00, 77.97it/s]\n",
      "Generating walks (CPU: 1): 100%|███████████████████████████████████████████████████████| 50/50 [00:00<00:00, 52.06it/s]\n",
      "Computing transition probabilities: 100%|██████████████████████████████████████████████| 54/54 [00:00<00:00, 85.40it/s]\n",
      "Generating walks (CPU: 1): 100%|███████████████████████████████████████████████████████| 50/50 [00:00<00:00, 56.02it/s]\n",
      "Computing transition probabilities: 100%|█████████████████████████████████████████████| 38/38 [00:00<00:00, 130.93it/s]\n",
      "Generating walks (CPU: 1): 100%|███████████████████████████████████████████████████████| 50/50 [00:00<00:00, 80.47it/s]\n",
      "Computing transition probabilities: 100%|█████████████████████████████████████████████| 45/45 [00:00<00:00, 107.94it/s]\n",
      "Generating walks (CPU: 1): 100%|███████████████████████████████████████████████████████| 50/50 [00:00<00:00, 52.55it/s]\n",
      "Computing transition probabilities: 100%|██████████████████████████████████████████████| 51/51 [00:00<00:00, 63.52it/s]\n",
      "Generating walks (CPU: 1): 100%|███████████████████████████████████████████████████████| 50/50 [00:00<00:00, 55.40it/s]\n",
      "Computing transition probabilities: 100%|██████████████████████████████████████████████| 58/58 [00:01<00:00, 52.68it/s]\n",
      "Generating walks (CPU: 1): 100%|███████████████████████████████████████████████████████| 50/50 [00:01<00:00, 42.92it/s]\n",
      "Computing transition probabilities: 100%|█████████████████████████████████████████████| 45/45 [00:00<00:00, 107.18it/s]\n",
      "Generating walks (CPU: 1): 100%|███████████████████████████████████████████████████████| 50/50 [00:00<00:00, 67.66it/s]\n",
      "Computing transition probabilities: 100%|██████████████████████████████████████████████| 56/56 [00:00<00:00, 56.83it/s]\n",
      "Generating walks (CPU: 1): 100%|███████████████████████████████████████████████████████| 50/50 [00:00<00:00, 53.45it/s]\n",
      "Computing transition probabilities: 100%|██████████████████████████████████████████████| 58/58 [00:00<00:00, 67.08it/s]\n",
      "Generating walks (CPU: 1): 100%|███████████████████████████████████████████████████████| 50/50 [00:00<00:00, 60.11it/s]\n",
      "Computing transition probabilities: 100%|██████████████████████████████████████████████| 48/48 [00:00<00:00, 64.69it/s]\n",
      "Generating walks (CPU: 1): 100%|███████████████████████████████████████████████████████| 50/50 [00:00<00:00, 63.14it/s]\n",
      "Computing transition probabilities: 100%|██████████████████████████████████████████████| 54/54 [00:01<00:00, 50.32it/s]\n",
      "Generating walks (CPU: 1): 100%|███████████████████████████████████████████████████████| 50/50 [00:01<00:00, 42.85it/s]\n",
      "Computing transition probabilities: 100%|██████████████████████████████████████████████| 51/51 [00:00<00:00, 68.46it/s]\n",
      "Generating walks (CPU: 1): 100%|███████████████████████████████████████████████████████| 50/50 [00:00<00:00, 59.26it/s]\n",
      "Computing transition probabilities: 100%|██████████████████████████████████████████████| 51/51 [00:01<00:00, 45.13it/s]\n",
      "Generating walks (CPU: 1): 100%|███████████████████████████████████████████████████████| 50/50 [00:00<00:00, 58.23it/s]\n",
      "Computing transition probabilities: 100%|█████████████████████████████████████████████| 44/44 [00:00<00:00, 130.53it/s]\n",
      "Generating walks (CPU: 1): 100%|███████████████████████████████████████████████████████| 50/50 [00:00<00:00, 80.09it/s]\n",
      "Computing transition probabilities: 100%|██████████████████████████████████████████████| 50/50 [00:00<00:00, 52.88it/s]\n",
      "Generating walks (CPU: 1): 100%|███████████████████████████████████████████████████████| 50/50 [00:00<00:00, 57.16it/s]\n",
      "Computing transition probabilities: 100%|█████████████████████████████████████████████| 47/47 [00:00<00:00, 124.01it/s]\n",
      "Generating walks (CPU: 1): 100%|███████████████████████████████████████████████████████| 50/50 [00:00<00:00, 68.59it/s]\n",
      "Computing transition probabilities: 100%|██████████████████████████████████████████████| 58/58 [00:01<00:00, 41.04it/s]\n",
      "Generating walks (CPU: 1): 100%|███████████████████████████████████████████████████████| 50/50 [00:00<00:00, 53.64it/s]\n",
      "Computing transition probabilities: 100%|██████████████████████████████████████████████| 55/55 [00:00<00:00, 74.12it/s]\n",
      "Generating walks (CPU: 1): 100%|███████████████████████████████████████████████████████| 50/50 [00:00<00:00, 66.31it/s]\n",
      "Computing transition probabilities: 100%|██████████████████████████████████████████████| 60/60 [00:00<00:00, 68.75it/s]\n",
      "Generating walks (CPU: 1): 100%|███████████████████████████████████████████████████████| 50/50 [00:01<00:00, 43.59it/s]\n",
      "Computing transition probabilities: 100%|█████████████████████████████████████████████| 46/46 [00:00<00:00, 103.65it/s]\n",
      "Generating walks (CPU: 1): 100%|███████████████████████████████████████████████████████| 50/50 [00:00<00:00, 89.52it/s]\n",
      "Computing transition probabilities: 100%|██████████████████████████████████████████████| 56/56 [00:00<00:00, 65.90it/s]\n",
      "Generating walks (CPU: 1): 100%|███████████████████████████████████████████████████████| 50/50 [00:00<00:00, 56.20it/s]\n",
      "Computing transition probabilities: 100%|██████████████████████████████████████████████| 58/58 [00:01<00:00, 53.90it/s]\n",
      "Generating walks (CPU: 1): 100%|███████████████████████████████████████████████████████| 50/50 [00:00<00:00, 63.30it/s]\n",
      "Computing transition probabilities: 100%|█████████████████████████████████████████████| 50/50 [00:00<00:00, 103.79it/s]\n",
      "Generating walks (CPU: 1): 100%|███████████████████████████████████████████████████████| 50/50 [00:00<00:00, 63.22it/s]\n",
      "Computing transition probabilities: 100%|██████████████████████████████████████████████| 55/55 [00:00<00:00, 79.01it/s]\n",
      "Generating walks (CPU: 1): 100%|███████████████████████████████████████████████████████| 50/50 [00:00<00:00, 71.82it/s]\n",
      "Computing transition probabilities: 100%|█████████████████████████████████████████████| 39/39 [00:00<00:00, 149.82it/s]\n",
      "Generating walks (CPU: 1): 100%|██████████████████████████████████████████████████████| 50/50 [00:00<00:00, 109.70it/s]\n",
      "Computing transition probabilities: 100%|██████████████████████████████████████████████| 50/50 [00:00<00:00, 96.97it/s]\n",
      "Generating walks (CPU: 1): 100%|███████████████████████████████████████████████████████| 50/50 [00:00<00:00, 69.53it/s]\n",
      "Computing transition probabilities: 100%|██████████████████████████████████████████████| 56/56 [00:00<00:00, 75.78it/s]\n",
      "Generating walks (CPU: 1): 100%|███████████████████████████████████████████████████████| 50/50 [00:00<00:00, 50.23it/s]\n",
      "Computing transition probabilities: 100%|██████████████████████████████████████████████| 52/52 [00:00<00:00, 66.76it/s]\n",
      "Generating walks (CPU: 1): 100%|███████████████████████████████████████████████████████| 50/50 [00:00<00:00, 79.08it/s]\n",
      "Computing transition probabilities: 100%|██████████████████████████████████████████████| 55/55 [00:00<00:00, 82.93it/s]\n",
      "Generating walks (CPU: 1): 100%|███████████████████████████████████████████████████████| 50/50 [00:00<00:00, 59.19it/s]\n",
      "Computing transition probabilities: 100%|██████████████████████████████████████████████| 58/58 [00:01<00:00, 55.49it/s]\n",
      "Generating walks (CPU: 1): 100%|███████████████████████████████████████████████████████| 50/50 [00:00<00:00, 54.73it/s]\n",
      "Computing transition probabilities: 100%|██████████████████████████████████████████████| 54/54 [00:01<00:00, 49.24it/s]\n",
      "Generating walks (CPU: 1): 100%|███████████████████████████████████████████████████████| 50/50 [00:00<00:00, 55.89it/s]\n",
      "Computing transition probabilities: 100%|██████████████████████████████████████████████| 57/57 [00:00<00:00, 58.26it/s]\n",
      "Generating walks (CPU: 1): 100%|███████████████████████████████████████████████████████| 50/50 [00:00<00:00, 58.03it/s]\n",
      "Computing transition probabilities: 100%|██████████████████████████████████████████████| 48/48 [00:00<00:00, 76.15it/s]\n",
      "Generating walks (CPU: 1): 100%|███████████████████████████████████████████████████████| 50/50 [00:00<00:00, 65.36it/s]\n",
      "Computing transition probabilities: 100%|█████████████████████████████████████████████| 45/45 [00:00<00:00, 118.12it/s]\n",
      "Generating walks (CPU: 1): 100%|███████████████████████████████████████████████████████| 50/50 [00:01<00:00, 48.35it/s]\n",
      "Computing transition probabilities: 100%|██████████████████████████████████████████████| 54/54 [00:00<00:00, 77.91it/s]\n",
      "Generating walks (CPU: 1): 100%|███████████████████████████████████████████████████████| 50/50 [00:00<00:00, 71.01it/s]\n",
      "Computing transition probabilities: 100%|█████████████████████████████████████████████| 45/45 [00:00<00:00, 135.50it/s]\n",
      "Generating walks (CPU: 1): 100%|███████████████████████████████████████████████████████| 50/50 [00:00<00:00, 82.05it/s]\n",
      "Computing transition probabilities: 100%|██████████████████████████████████████████████| 50/50 [00:00<00:00, 83.56it/s]\n",
      "Generating walks (CPU: 1): 100%|███████████████████████████████████████████████████████| 50/50 [00:00<00:00, 72.55it/s]\n",
      "Computing transition probabilities: 100%|█████████████████████████████████████████████| 46/46 [00:00<00:00, 123.00it/s]\n",
      "Generating walks (CPU: 1): 100%|███████████████████████████████████████████████████████| 50/50 [00:00<00:00, 85.99it/s]\n",
      "Computing transition probabilities: 100%|██████████████████████████████████████████████| 58/58 [00:01<00:00, 52.49it/s]\n",
      "Generating walks (CPU: 1): 100%|███████████████████████████████████████████████████████| 50/50 [00:00<00:00, 57.49it/s]\n",
      "Computing transition probabilities: 100%|█████████████████████████████████████████████| 39/39 [00:00<00:00, 167.83it/s]\n",
      "Generating walks (CPU: 1): 100%|███████████████████████████████████████████████████████| 50/50 [00:00<00:00, 96.23it/s]\n",
      "Computing transition probabilities: 100%|██████████████████████████████████████████████| 52/52 [00:00<00:00, 93.11it/s]\n",
      "Generating walks (CPU: 1): 100%|███████████████████████████████████████████████████████| 50/50 [00:00<00:00, 67.75it/s]\n",
      "Computing transition probabilities: 100%|██████████████████████████████████████████████| 53/53 [00:00<00:00, 76.46it/s]\n",
      "Generating walks (CPU: 1): 100%|███████████████████████████████████████████████████████| 50/50 [00:00<00:00, 72.34it/s]\n",
      "Computing transition probabilities: 100%|██████████████████████████████████████████████| 58/58 [00:00<00:00, 63.91it/s]\n",
      "Generating walks (CPU: 1): 100%|███████████████████████████████████████████████████████| 50/50 [00:00<00:00, 62.12it/s]\n",
      "Computing transition probabilities: 100%|██████████████████████████████████████████████| 53/53 [00:00<00:00, 86.83it/s]\n",
      "Generating walks (CPU: 1): 100%|███████████████████████████████████████████████████████| 50/50 [00:00<00:00, 63.14it/s]\n",
      "Computing transition probabilities: 100%|██████████████████████████████████████████████| 64/64 [00:01<00:00, 51.71it/s]\n",
      "Generating walks (CPU: 1): 100%|███████████████████████████████████████████████████████| 50/50 [00:00<00:00, 54.79it/s]\n",
      "Computing transition probabilities: 100%|██████████████████████████████████████████████| 59/59 [00:01<00:00, 47.21it/s]\n",
      "Generating walks (CPU: 1): 100%|███████████████████████████████████████████████████████| 50/50 [00:01<00:00, 47.07it/s]\n",
      "Computing transition probabilities: 100%|██████████████████████████████████████████████| 48/48 [00:00<00:00, 87.03it/s]\n",
      "Generating walks (CPU: 1): 100%|███████████████████████████████████████████████████████| 50/50 [00:00<00:00, 55.46it/s]\n",
      "Computing transition probabilities: 100%|██████████████████████████████████████████████| 57/57 [00:00<00:00, 67.72it/s]\n",
      "Generating walks (CPU: 1): 100%|███████████████████████████████████████████████████████| 50/50 [00:01<00:00, 48.96it/s]\n",
      "Computing transition probabilities: 100%|██████████████████████████████████████████████| 46/46 [00:00<00:00, 88.36it/s]\n",
      "Generating walks (CPU: 1): 100%|███████████████████████████████████████████████████████| 50/50 [00:00<00:00, 54.02it/s]\n",
      "Computing transition probabilities: 100%|██████████████████████████████████████████████| 55/55 [00:01<00:00, 46.42it/s]\n",
      "Generating walks (CPU: 1): 100%|███████████████████████████████████████████████████████| 50/50 [00:00<00:00, 65.71it/s]\n",
      "Computing transition probabilities: 100%|█████████████████████████████████████████████| 43/43 [00:00<00:00, 121.45it/s]\n",
      "Generating walks (CPU: 1): 100%|███████████████████████████████████████████████████████| 50/50 [00:00<00:00, 98.30it/s]\n",
      "Computing transition probabilities: 100%|██████████████████████████████████████████████| 54/54 [00:00<00:00, 79.62it/s]\n",
      "Generating walks (CPU: 1): 100%|███████████████████████████████████████████████████████| 50/50 [00:00<00:00, 62.05it/s]\n",
      "Computing transition probabilities: 100%|██████████████████████████████████████████████| 55/55 [00:00<00:00, 78.00it/s]\n",
      "Generating walks (CPU: 1): 100%|███████████████████████████████████████████████████████| 50/50 [00:00<00:00, 57.81it/s]\n",
      "Computing transition probabilities: 100%|██████████████████████████████████████████████| 58/58 [00:01<00:00, 50.44it/s]\n",
      "Generating walks (CPU: 1): 100%|███████████████████████████████████████████████████████| 50/50 [00:01<00:00, 46.33it/s]\n",
      "Computing transition probabilities: 100%|██████████████████████████████████████████████| 56/56 [00:01<00:00, 53.02it/s]\n",
      "Generating walks (CPU: 1): 100%|███████████████████████████████████████████████████████| 50/50 [00:00<00:00, 55.77it/s]\n",
      "Computing transition probabilities: 100%|██████████████████████████████████████████████| 48/48 [00:00<00:00, 90.98it/s]\n",
      "Generating walks (CPU: 1): 100%|███████████████████████████████████████████████████████| 50/50 [00:00<00:00, 81.65it/s]\n",
      "Computing transition probabilities: 100%|██████████████████████████████████████████████| 51/51 [00:00<00:00, 66.24it/s]\n",
      "Generating walks (CPU: 1): 100%|███████████████████████████████████████████████████████| 50/50 [00:00<00:00, 77.37it/s]\n",
      "Computing transition probabilities: 100%|██████████████████████████████████████████████| 58/58 [00:00<00:00, 76.02it/s]\n",
      "Generating walks (CPU: 1): 100%|███████████████████████████████████████████████████████| 50/50 [00:00<00:00, 65.88it/s]\n",
      "Computing transition probabilities: 100%|██████████████████████████████████████████████| 52/52 [00:00<00:00, 76.79it/s]\n",
      "Generating walks (CPU: 1): 100%|███████████████████████████████████████████████████████| 50/50 [00:00<00:00, 60.04it/s]\n",
      "Computing transition probabilities: 100%|██████████████████████████████████████████████| 58/58 [00:01<00:00, 52.68it/s]\n",
      "Generating walks (CPU: 1): 100%|███████████████████████████████████████████████████████| 50/50 [00:01<00:00, 35.03it/s]\n",
      "Computing transition probabilities: 100%|██████████████████████████████████████████████| 48/48 [00:00<00:00, 73.14it/s]\n",
      "Generating walks (CPU: 1): 100%|███████████████████████████████████████████████████████| 50/50 [00:00<00:00, 55.21it/s]\n"
     ]
    },
    {
     "name": "stderr",
     "output_type": "stream",
     "text": [
      "Computing transition probabilities: 100%|██████████████████████████████████████████████| 51/51 [00:00<00:00, 98.72it/s]\n",
      "Generating walks (CPU: 1): 100%|███████████████████████████████████████████████████████| 50/50 [00:00<00:00, 80.73it/s]\n",
      "Computing transition probabilities: 100%|██████████████████████████████████████████████| 52/52 [00:00<00:00, 69.06it/s]\n",
      "Generating walks (CPU: 1): 100%|███████████████████████████████████████████████████████| 50/50 [00:00<00:00, 73.51it/s]\n",
      "Computing transition probabilities: 100%|██████████████████████████████████████████████| 53/53 [00:01<00:00, 41.20it/s]\n",
      "Generating walks (CPU: 1): 100%|███████████████████████████████████████████████████████| 50/50 [00:00<00:00, 64.69it/s]\n",
      "Computing transition probabilities: 100%|█████████████████████████████████████████████| 42/42 [00:00<00:00, 152.03it/s]\n",
      "Generating walks (CPU: 1): 100%|██████████████████████████████████████████████████████| 50/50 [00:00<00:00, 113.68it/s]\n",
      "Computing transition probabilities: 100%|██████████████████████████████████████████████| 53/53 [00:00<00:00, 89.61it/s]\n",
      "Generating walks (CPU: 1): 100%|███████████████████████████████████████████████████████| 50/50 [00:00<00:00, 77.61it/s]\n",
      "Computing transition probabilities: 100%|██████████████████████████████████████████████| 56/56 [00:00<00:00, 81.61it/s]\n",
      "Generating walks (CPU: 1): 100%|███████████████████████████████████████████████████████| 50/50 [00:00<00:00, 64.69it/s]\n",
      "Computing transition probabilities: 100%|██████████████████████████████████████████████| 53/53 [00:00<00:00, 93.23it/s]\n",
      "Generating walks (CPU: 1): 100%|███████████████████████████████████████████████████████| 50/50 [00:00<00:00, 58.57it/s]\n",
      "Computing transition probabilities: 100%|██████████████████████████████████████████████| 54/54 [00:00<00:00, 67.51it/s]\n",
      "Generating walks (CPU: 1): 100%|███████████████████████████████████████████████████████| 50/50 [00:00<00:00, 59.33it/s]\n",
      "Computing transition probabilities: 100%|██████████████████████████████████████████████| 62/62 [00:01<00:00, 47.82it/s]\n",
      "Generating walks (CPU: 1): 100%|███████████████████████████████████████████████████████| 50/50 [00:01<00:00, 39.57it/s]\n",
      "Computing transition probabilities: 100%|██████████████████████████████████████████████| 60/60 [00:01<00:00, 44.60it/s]\n",
      "Generating walks (CPU: 1): 100%|███████████████████████████████████████████████████████| 50/50 [00:00<00:00, 61.97it/s]\n",
      "Computing transition probabilities: 100%|█████████████████████████████████████████████| 46/46 [00:00<00:00, 108.78it/s]\n",
      "Generating walks (CPU: 1): 100%|███████████████████████████████████████████████████████| 50/50 [00:00<00:00, 81.25it/s]\n",
      "Computing transition probabilities: 100%|██████████████████████████████████████████████| 49/49 [00:00<00:00, 96.15it/s]\n",
      "Generating walks (CPU: 1): 100%|███████████████████████████████████████████████████████| 50/50 [00:00<00:00, 68.96it/s]\n",
      "Computing transition probabilities: 100%|██████████████████████████████████████████████| 57/57 [00:00<00:00, 62.53it/s]\n",
      "Generating walks (CPU: 1): 100%|███████████████████████████████████████████████████████| 50/50 [00:01<00:00, 38.04it/s]\n",
      "Computing transition probabilities: 100%|██████████████████████████████████████████████| 53/53 [00:00<00:00, 77.81it/s]\n",
      "Generating walks (CPU: 1): 100%|███████████████████████████████████████████████████████| 50/50 [00:00<00:00, 58.84it/s]\n",
      "Computing transition probabilities: 100%|██████████████████████████████████████████████| 54/54 [00:00<00:00, 59.05it/s]\n",
      "Generating walks (CPU: 1): 100%|███████████████████████████████████████████████████████| 50/50 [00:01<00:00, 46.99it/s]\n",
      "Computing transition probabilities: 100%|██████████████████████████████████████████████| 52/52 [00:00<00:00, 87.78it/s]\n",
      "Generating walks (CPU: 1): 100%|███████████████████████████████████████████████████████| 50/50 [00:00<00:00, 59.12it/s]\n",
      "Computing transition probabilities: 100%|██████████████████████████████████████████████| 49/49 [00:01<00:00, 42.61it/s]\n",
      "Generating walks (CPU: 1): 100%|███████████████████████████████████████████████████████| 50/50 [00:00<00:00, 65.19it/s]\n",
      "Computing transition probabilities: 100%|██████████████████████████████████████████████| 54/54 [00:00<00:00, 75.62it/s]\n",
      "Generating walks (CPU: 1): 100%|███████████████████████████████████████████████████████| 50/50 [00:00<00:00, 69.53it/s]\n",
      "Computing transition probabilities: 100%|█████████████████████████████████████████████| 44/44 [00:00<00:00, 102.60it/s]\n",
      "Generating walks (CPU: 1): 100%|███████████████████████████████████████████████████████| 50/50 [00:00<00:00, 82.73it/s]\n",
      "Computing transition probabilities: 100%|██████████████████████████████████████████████| 48/48 [00:00<00:00, 86.56it/s]\n",
      "Generating walks (CPU: 1): 100%|███████████████████████████████████████████████████████| 50/50 [00:00<00:00, 88.73it/s]\n",
      "Computing transition probabilities: 100%|██████████████████████████████████████████████| 54/54 [00:00<00:00, 91.46it/s]\n",
      "Generating walks (CPU: 1): 100%|███████████████████████████████████████████████████████| 50/50 [00:01<00:00, 42.89it/s]\n",
      "Computing transition probabilities: 100%|██████████████████████████████████████████████| 58/58 [00:01<00:00, 53.80it/s]\n",
      "Generating walks (CPU: 1): 100%|███████████████████████████████████████████████████████| 50/50 [00:00<00:00, 59.97it/s]\n",
      "Computing transition probabilities: 100%|██████████████████████████████████████████████| 50/50 [00:00<00:00, 87.04it/s]\n",
      "Generating walks (CPU: 1): 100%|███████████████████████████████████████████████████████| 50/50 [00:00<00:00, 72.24it/s]\n",
      "Computing transition probabilities: 100%|██████████████████████████████████████████████| 58/58 [00:00<00:00, 68.50it/s]\n",
      "Generating walks (CPU: 1): 100%|███████████████████████████████████████████████████████| 50/50 [00:00<00:00, 55.40it/s]\n",
      "Computing transition probabilities: 100%|██████████████████████████████████████████████| 58/58 [00:00<00:00, 66.92it/s]\n",
      "Generating walks (CPU: 1): 100%|███████████████████████████████████████████████████████| 50/50 [00:00<00:00, 59.68it/s]\n",
      "Computing transition probabilities: 100%|██████████████████████████████████████████████| 57/57 [00:00<00:00, 67.88it/s]\n",
      "Generating walks (CPU: 1): 100%|███████████████████████████████████████████████████████| 50/50 [00:00<00:00, 59.47it/s]\n",
      "Computing transition probabilities: 100%|██████████████████████████████████████████████| 56/56 [00:00<00:00, 78.09it/s]\n",
      "Generating walks (CPU: 1): 100%|███████████████████████████████████████████████████████| 50/50 [00:00<00:00, 69.15it/s]\n",
      "Computing transition probabilities: 100%|██████████████████████████████████████████████| 51/51 [00:00<00:00, 75.20it/s]\n",
      "Generating walks (CPU: 1): 100%|███████████████████████████████████████████████████████| 50/50 [00:00<00:00, 72.24it/s]\n",
      "Computing transition probabilities: 100%|██████████████████████████████████████████████| 54/54 [00:00<00:00, 81.05it/s]\n",
      "Generating walks (CPU: 1): 100%|███████████████████████████████████████████████████████| 50/50 [00:01<00:00, 44.09it/s]\n",
      "Computing transition probabilities: 100%|██████████████████████████████████████████████| 46/46 [00:00<00:00, 59.98it/s]\n",
      "Generating walks (CPU: 1): 100%|███████████████████████████████████████████████████████| 50/50 [00:00<00:00, 60.33it/s]\n",
      "Computing transition probabilities: 100%|██████████████████████████████████████████████| 45/45 [00:00<00:00, 80.00it/s]\n",
      "Generating walks (CPU: 1): 100%|███████████████████████████████████████████████████████| 50/50 [00:01<00:00, 41.43it/s]\n",
      "Computing transition probabilities: 100%|██████████████████████████████████████████████| 59/59 [00:01<00:00, 32.88it/s]\n",
      "Generating walks (CPU: 1): 100%|███████████████████████████████████████████████████████| 50/50 [00:01<00:00, 35.78it/s]\n",
      "Computing transition probabilities: 100%|██████████████████████████████████████████████| 56/56 [00:01<00:00, 47.15it/s]\n",
      "Generating walks (CPU: 1): 100%|███████████████████████████████████████████████████████| 50/50 [00:01<00:00, 28.73it/s]\n",
      "Computing transition probabilities: 100%|██████████████████████████████████████████████| 48/48 [00:01<00:00, 35.84it/s]\n",
      "Generating walks (CPU: 1): 100%|███████████████████████████████████████████████████████| 50/50 [00:01<00:00, 44.60it/s]\n",
      "Computing transition probabilities: 100%|██████████████████████████████████████████████| 55/55 [00:01<00:00, 44.44it/s]\n",
      "Generating walks (CPU: 1): 100%|███████████████████████████████████████████████████████| 50/50 [00:01<00:00, 36.76it/s]\n",
      "Computing transition probabilities: 100%|██████████████████████████████████████████████| 48/48 [00:01<00:00, 46.01it/s]\n",
      "Generating walks (CPU: 1): 100%|███████████████████████████████████████████████████████| 50/50 [00:01<00:00, 40.50it/s]\n",
      "Computing transition probabilities: 100%|██████████████████████████████████████████████| 48/48 [00:00<00:00, 64.43it/s]\n",
      "Generating walks (CPU: 1): 100%|███████████████████████████████████████████████████████| 50/50 [00:01<00:00, 47.93it/s]\n",
      "Computing transition probabilities: 100%|██████████████████████████████████████████████| 57/57 [00:01<00:00, 34.60it/s]\n",
      "Generating walks (CPU: 1): 100%|███████████████████████████████████████████████████████| 50/50 [00:02<00:00, 24.88it/s]\n",
      "Computing transition probabilities: 100%|██████████████████████████████████████████████| 55/55 [00:01<00:00, 45.29it/s]\n",
      "Generating walks (CPU: 1): 100%|███████████████████████████████████████████████████████| 50/50 [00:01<00:00, 35.09it/s]\n",
      "Computing transition probabilities: 100%|██████████████████████████████████████████████| 45/45 [00:00<00:00, 78.88it/s]\n",
      "Generating walks (CPU: 1): 100%|███████████████████████████████████████████████████████| 50/50 [00:00<00:00, 67.10it/s]\n",
      "Computing transition probabilities: 100%|██████████████████████████████████████████████| 58/58 [00:01<00:00, 44.36it/s]\n",
      "Generating walks (CPU: 1): 100%|███████████████████████████████████████████████████████| 50/50 [00:01<00:00, 40.95it/s]\n",
      "Computing transition probabilities: 100%|██████████████████████████████████████████████| 59/59 [00:01<00:00, 51.06it/s]\n",
      "Generating walks (CPU: 1): 100%|███████████████████████████████████████████████████████| 50/50 [00:00<00:00, 59.26it/s]\n",
      "Computing transition probabilities: 100%|██████████████████████████████████████████████| 44/44 [00:00<00:00, 95.49it/s]\n",
      "Generating walks (CPU: 1): 100%|███████████████████████████████████████████████████████| 50/50 [00:00<00:00, 80.60it/s]\n",
      "Computing transition probabilities: 100%|██████████████████████████████████████████████| 53/53 [00:01<00:00, 48.40it/s]\n",
      "Generating walks (CPU: 1): 100%|███████████████████████████████████████████████████████| 50/50 [00:01<00:00, 48.86it/s]\n",
      "Computing transition probabilities: 100%|█████████████████████████████████████████████| 44/44 [00:00<00:00, 107.08it/s]\n",
      "Generating walks (CPU: 1): 100%|███████████████████████████████████████████████████████| 50/50 [00:00<00:00, 65.53it/s]\n",
      "Computing transition probabilities: 100%|██████████████████████████████████████████████| 53/53 [00:00<00:00, 57.26it/s]\n",
      "Generating walks (CPU: 1): 100%|███████████████████████████████████████████████████████| 50/50 [00:00<00:00, 73.29it/s]\n",
      "Computing transition probabilities: 100%|██████████████████████████████████████████████| 64/64 [00:01<00:00, 48.65it/s]\n",
      "Generating walks (CPU: 1): 100%|███████████████████████████████████████████████████████| 50/50 [00:01<00:00, 47.61it/s]\n",
      "Computing transition probabilities: 100%|██████████████████████████████████████████████| 52/52 [00:00<00:00, 88.67it/s]\n",
      "Generating walks (CPU: 1): 100%|███████████████████████████████████████████████████████| 50/50 [00:00<00:00, 71.42it/s]\n",
      "Computing transition probabilities: 100%|██████████████████████████████████████████████| 59/59 [00:01<00:00, 57.05it/s]\n",
      "Generating walks (CPU: 1): 100%|███████████████████████████████████████████████████████| 50/50 [00:00<00:00, 55.21it/s]\n",
      "Computing transition probabilities: 100%|██████████████████████████████████████████████| 56/56 [00:00<00:00, 65.37it/s]\n",
      "Generating walks (CPU: 1): 100%|███████████████████████████████████████████████████████| 50/50 [00:00<00:00, 53.85it/s]\n",
      "Computing transition probabilities: 100%|█████████████████████████████████████████████| 44/44 [00:00<00:00, 110.57it/s]\n",
      "Generating walks (CPU: 1): 100%|███████████████████████████████████████████████████████| 50/50 [00:00<00:00, 72.34it/s]\n",
      "Computing transition probabilities: 100%|██████████████████████████████████████████████| 52/52 [00:00<00:00, 89.59it/s]\n",
      "Generating walks (CPU: 1): 100%|███████████████████████████████████████████████████████| 50/50 [00:00<00:00, 82.19it/s]\n",
      "Computing transition probabilities: 100%|██████████████████████████████████████████████| 56/56 [00:00<00:00, 69.58it/s]\n",
      "Generating walks (CPU: 1): 100%|███████████████████████████████████████████████████████| 50/50 [00:00<00:00, 72.34it/s]\n",
      "Computing transition probabilities: 100%|██████████████████████████████████████████████| 50/50 [00:00<00:00, 96.78it/s]\n",
      "Generating walks (CPU: 1): 100%|███████████████████████████████████████████████████████| 50/50 [00:00<00:00, 64.52it/s]\n",
      "Computing transition probabilities: 100%|██████████████████████████████████████████████| 48/48 [00:00<00:00, 77.50it/s]\n",
      "Generating walks (CPU: 1): 100%|███████████████████████████████████████████████████████| 50/50 [00:00<00:00, 61.06it/s]\n",
      "Computing transition probabilities: 100%|██████████████████████████████████████████████| 55/55 [00:00<00:00, 91.91it/s]\n",
      "Generating walks (CPU: 1): 100%|███████████████████████████████████████████████████████| 50/50 [00:00<00:00, 67.16it/s]\n",
      "Computing transition probabilities: 100%|██████████████████████████████████████████████| 51/51 [00:00<00:00, 61.09it/s]\n",
      "Generating walks (CPU: 1): 100%|███████████████████████████████████████████████████████| 50/50 [00:00<00:00, 50.85it/s]\n",
      "Computing transition probabilities: 100%|██████████████████████████████████████████████| 55/55 [00:01<00:00, 52.07it/s]\n",
      "Generating walks (CPU: 1): 100%|███████████████████████████████████████████████████████| 50/50 [00:01<00:00, 39.66it/s]\n",
      "Computing transition probabilities: 100%|██████████████████████████████████████████████| 49/49 [00:00<00:00, 60.36it/s]\n",
      "Generating walks (CPU: 1): 100%|███████████████████████████████████████████████████████| 50/50 [00:00<00:00, 64.36it/s]\n",
      "Computing transition probabilities: 100%|██████████████████████████████████████████████| 49/49 [00:00<00:00, 84.42it/s]\n",
      "Generating walks (CPU: 1): 100%|███████████████████████████████████████████████████████| 50/50 [00:00<00:00, 66.23it/s]\n",
      "Computing transition probabilities: 100%|█████████████████████████████████████████████| 47/47 [00:00<00:00, 109.85it/s]\n",
      "Generating walks (CPU: 1): 100%|███████████████████████████████████████████████████████| 50/50 [00:00<00:00, 80.09it/s]\n",
      "Computing transition probabilities: 100%|█████████████████████████████████████████████| 45/45 [00:00<00:00, 111.68it/s]\n",
      "Generating walks (CPU: 1): 100%|███████████████████████████████████████████████████████| 50/50 [00:00<00:00, 82.59it/s]\n",
      "Computing transition probabilities: 100%|██████████████████████████████████████████████| 49/49 [00:00<00:00, 64.82it/s]\n",
      "Generating walks (CPU: 1): 100%|███████████████████████████████████████████████████████| 50/50 [00:00<00:00, 68.58it/s]\n",
      "Computing transition probabilities: 100%|██████████████████████████████████████████████| 57/57 [00:00<00:00, 65.77it/s]\n",
      "Generating walks (CPU: 1): 100%|███████████████████████████████████████████████████████| 50/50 [00:00<00:00, 50.95it/s]\n",
      "Computing transition probabilities: 100%|██████████████████████████████████████████████| 54/54 [00:00<00:00, 54.14it/s]\n",
      "Generating walks (CPU: 1): 100%|███████████████████████████████████████████████████████| 50/50 [00:00<00:00, 54.55it/s]\n",
      "Computing transition probabilities: 100%|██████████████████████████████████████████████| 46/46 [00:00<00:00, 93.18it/s]\n",
      "Generating walks (CPU: 1): 100%|███████████████████████████████████████████████████████| 50/50 [00:00<00:00, 56.78it/s]\n",
      "Computing transition probabilities: 100%|██████████████████████████████████████████████| 56/56 [00:00<00:00, 63.45it/s]\n",
      "Generating walks (CPU: 1): 100%|███████████████████████████████████████████████████████| 50/50 [00:00<00:00, 59.54it/s]\n",
      "Computing transition probabilities: 100%|█████████████████████████████████████████████| 42/42 [00:00<00:00, 135.85it/s]\n",
      "Generating walks (CPU: 1): 100%|███████████████████████████████████████████████████████| 50/50 [00:00<00:00, 76.08it/s]\n"
     ]
    },
    {
     "name": "stderr",
     "output_type": "stream",
     "text": [
      "Computing transition probabilities: 100%|██████████████████████████████████████████████| 52/52 [00:00<00:00, 77.24it/s]\n",
      "Generating walks (CPU: 1): 100%|███████████████████████████████████████████████████████| 50/50 [00:01<00:00, 44.48it/s]\n",
      "Computing transition probabilities: 100%|██████████████████████████████████████████████| 44/44 [00:00<00:00, 64.41it/s]\n",
      "Generating walks (CPU: 1): 100%|███████████████████████████████████████████████████████| 50/50 [00:00<00:00, 52.55it/s]\n",
      "Computing transition probabilities: 100%|██████████████████████████████████████████████| 55/55 [00:00<00:00, 67.92it/s]\n",
      "Generating walks (CPU: 1): 100%|███████████████████████████████████████████████████████| 50/50 [00:00<00:00, 66.40it/s]\n",
      "Computing transition probabilities: 100%|█████████████████████████████████████████████| 44/44 [00:00<00:00, 133.29it/s]\n",
      "Generating walks (CPU: 1): 100%|███████████████████████████████████████████████████████| 50/50 [00:00<00:00, 73.19it/s]\n",
      "Computing transition probabilities: 100%|█████████████████████████████████████████████| 48/48 [00:00<00:00, 105.54it/s]\n",
      "Generating walks (CPU: 1): 100%|███████████████████████████████████████████████████████| 50/50 [00:00<00:00, 82.19it/s]\n",
      "Computing transition probabilities: 100%|██████████████████████████████████████████████| 55/55 [00:00<00:00, 73.24it/s]\n",
      "Generating walks (CPU: 1): 100%|███████████████████████████████████████████████████████| 50/50 [00:01<00:00, 47.43it/s]\n",
      "Computing transition probabilities: 100%|██████████████████████████████████████████████| 54/54 [00:00<00:00, 65.79it/s]\n",
      "Generating walks (CPU: 1): 100%|███████████████████████████████████████████████████████| 50/50 [00:00<00:00, 68.02it/s]\n",
      "Computing transition probabilities: 100%|██████████████████████████████████████████████| 56/56 [00:00<00:00, 83.43it/s]\n",
      "Generating walks (CPU: 1): 100%|███████████████████████████████████████████████████████| 50/50 [00:00<00:00, 70.41it/s]\n",
      "Computing transition probabilities: 100%|██████████████████████████████████████████████| 57/57 [00:00<00:00, 79.05it/s]\n",
      "Generating walks (CPU: 1): 100%|███████████████████████████████████████████████████████| 50/50 [00:00<00:00, 69.53it/s]\n",
      "Computing transition probabilities: 100%|██████████████████████████████████████████████| 55/55 [00:00<00:00, 69.81it/s]\n",
      "Generating walks (CPU: 1): 100%|███████████████████████████████████████████████████████| 50/50 [00:00<00:00, 63.78it/s]\n",
      "Computing transition probabilities: 100%|██████████████████████████████████████████████| 52/52 [00:00<00:00, 63.35it/s]\n",
      "Generating walks (CPU: 1): 100%|███████████████████████████████████████████████████████| 50/50 [00:00<00:00, 72.34it/s]\n",
      "Computing transition probabilities: 100%|██████████████████████████████████████████████| 60/60 [00:00<00:00, 72.40it/s]\n",
      "Generating walks (CPU: 1): 100%|███████████████████████████████████████████████████████| 50/50 [00:00<00:00, 71.72it/s]\n",
      "Computing transition probabilities: 100%|██████████████████████████████████████████████| 53/53 [00:00<00:00, 67.01it/s]\n",
      "Generating walks (CPU: 1): 100%|███████████████████████████████████████████████████████| 50/50 [00:01<00:00, 32.75it/s]\n",
      "Computing transition probabilities: 100%|██████████████████████████████████████████████| 53/53 [00:00<00:00, 60.80it/s]\n",
      "Generating walks (CPU: 1): 100%|███████████████████████████████████████████████████████| 50/50 [00:00<00:00, 55.34it/s]\n",
      "Computing transition probabilities: 100%|██████████████████████████████████████████████| 55/55 [00:00<00:00, 71.90it/s]\n",
      "Generating walks (CPU: 1): 100%|███████████████████████████████████████████████████████| 50/50 [00:00<00:00, 58.64it/s]\n",
      "Computing transition probabilities: 100%|██████████████████████████████████████████████| 47/47 [00:00<00:00, 91.33it/s]\n",
      "Generating walks (CPU: 1): 100%|███████████████████████████████████████████████████████| 50/50 [00:00<00:00, 70.12it/s]\n",
      "Computing transition probabilities: 100%|██████████████████████████████████████████████| 51/51 [00:00<00:00, 63.29it/s]\n",
      "Generating walks (CPU: 1): 100%|███████████████████████████████████████████████████████| 50/50 [00:00<00:00, 61.89it/s]\n",
      "Computing transition probabilities: 100%|██████████████████████████████████████████████| 51/51 [00:00<00:00, 76.55it/s]\n",
      "Generating walks (CPU: 1): 100%|███████████████████████████████████████████████████████| 50/50 [00:00<00:00, 66.14it/s]\n",
      "Computing transition probabilities: 100%|█████████████████████████████████████████████| 47/47 [00:00<00:00, 111.41it/s]\n",
      "Generating walks (CPU: 1): 100%|███████████████████████████████████████████████████████| 50/50 [00:00<00:00, 68.68it/s]\n",
      "Computing transition probabilities: 100%|██████████████████████████████████████████████| 43/43 [00:00<00:00, 97.55it/s]\n",
      "Generating walks (CPU: 1): 100%|███████████████████████████████████████████████████████| 50/50 [00:00<00:00, 66.49it/s]\n",
      "Computing transition probabilities: 100%|██████████████████████████████████████████████| 53/53 [00:01<00:00, 46.57it/s]\n",
      "Generating walks (CPU: 1): 100%|███████████████████████████████████████████████████████| 50/50 [00:00<00:00, 56.71it/s]\n",
      "Computing transition probabilities: 100%|██████████████████████████████████████████████| 60/60 [00:01<00:00, 57.51it/s]\n",
      "Generating walks (CPU: 1): 100%|███████████████████████████████████████████████████████| 50/50 [00:00<00:00, 56.39it/s]\n",
      "Computing transition probabilities: 100%|██████████████████████████████████████████████| 51/51 [00:00<00:00, 75.20it/s]\n",
      "Generating walks (CPU: 1): 100%|███████████████████████████████████████████████████████| 50/50 [00:00<00:00, 64.52it/s]\n",
      "Computing transition probabilities: 100%|█████████████████████████████████████████████| 47/47 [00:00<00:00, 101.35it/s]\n",
      "Generating walks (CPU: 1): 100%|███████████████████████████████████████████████████████| 50/50 [00:01<00:00, 45.17it/s]\n",
      "Computing transition probabilities: 100%|██████████████████████████████████████████████| 51/51 [00:00<00:00, 74.43it/s]\n",
      "Generating walks (CPU: 1): 100%|███████████████████████████████████████████████████████| 50/50 [00:00<00:00, 67.75it/s]\n",
      "Computing transition probabilities: 100%|██████████████████████████████████████████████| 58/58 [00:00<00:00, 64.33it/s]\n",
      "Generating walks (CPU: 1): 100%|███████████████████████████████████████████████████████| 50/50 [00:00<00:00, 69.73it/s]\n",
      "Computing transition probabilities: 100%|██████████████████████████████████████████████| 63/63 [00:01<00:00, 52.95it/s]\n",
      "Generating walks (CPU: 1): 100%|███████████████████████████████████████████████████████| 50/50 [00:01<00:00, 28.78it/s]\n",
      "Computing transition probabilities: 100%|██████████████████████████████████████████████| 61/61 [00:01<00:00, 31.53it/s]\n",
      "Generating walks (CPU: 1): 100%|███████████████████████████████████████████████████████| 50/50 [00:01<00:00, 34.69it/s]\n",
      "Computing transition probabilities: 100%|██████████████████████████████████████████████| 48/48 [00:00<00:00, 70.99it/s]\n",
      "Generating walks (CPU: 1): 100%|███████████████████████████████████████████████████████| 50/50 [00:00<00:00, 69.82it/s]\n",
      "Computing transition probabilities: 100%|█████████████████████████████████████████████| 47/47 [00:00<00:00, 116.36it/s]\n",
      "Generating walks (CPU: 1): 100%|███████████████████████████████████████████████████████| 50/50 [00:00<00:00, 86.29it/s]\n",
      "Computing transition probabilities: 100%|██████████████████████████████████████████████| 57/57 [00:01<00:00, 52.68it/s]\n",
      "Generating walks (CPU: 1): 100%|███████████████████████████████████████████████████████| 50/50 [00:00<00:00, 65.19it/s]\n",
      "Computing transition probabilities: 100%|██████████████████████████████████████████████| 51/51 [00:00<00:00, 94.35it/s]\n",
      "Generating walks (CPU: 1): 100%|███████████████████████████████████████████████████████| 50/50 [00:00<00:00, 76.31it/s]\n",
      "Computing transition probabilities: 100%|██████████████████████████████████████████████| 54/54 [00:00<00:00, 78.58it/s]\n",
      "Generating walks (CPU: 1): 100%|███████████████████████████████████████████████████████| 50/50 [00:00<00:00, 72.39it/s]\n",
      "Computing transition probabilities: 100%|██████████████████████████████████████████████| 57/57 [00:00<00:00, 79.93it/s]\n",
      "Generating walks (CPU: 1): 100%|███████████████████████████████████████████████████████| 50/50 [00:00<00:00, 67.66it/s]\n",
      "Computing transition probabilities: 100%|██████████████████████████████████████████████| 56/56 [00:00<00:00, 70.01it/s]\n",
      "Generating walks (CPU: 1): 100%|███████████████████████████████████████████████████████| 50/50 [00:00<00:00, 75.05it/s]\n",
      "Computing transition probabilities: 100%|█████████████████████████████████████████████| 52/52 [00:00<00:00, 105.47it/s]\n",
      "Generating walks (CPU: 1): 100%|███████████████████████████████████████████████████████| 50/50 [00:00<00:00, 81.78it/s]\n",
      "Computing transition probabilities: 100%|██████████████████████████████████████████████| 60/60 [00:00<00:00, 67.67it/s]\n",
      "Generating walks (CPU: 1): 100%|███████████████████████████████████████████████████████| 50/50 [00:00<00:00, 54.49it/s]\n",
      "Computing transition probabilities: 100%|██████████████████████████████████████████████| 55/55 [00:01<00:00, 53.70it/s]\n",
      "Generating walks (CPU: 1): 100%|███████████████████████████████████████████████████████| 50/50 [00:01<00:00, 40.19it/s]\n",
      "Computing transition probabilities: 100%|██████████████████████████████████████████████| 60/60 [00:01<00:00, 48.52it/s]\n",
      "Generating walks (CPU: 1): 100%|███████████████████████████████████████████████████████| 50/50 [00:01<00:00, 48.53it/s]\n",
      "Computing transition probabilities: 100%|█████████████████████████████████████████████| 43/43 [00:00<00:00, 127.56it/s]\n",
      "Generating walks (CPU: 1): 100%|███████████████████████████████████████████████████████| 50/50 [00:00<00:00, 95.68it/s]\n",
      "Computing transition probabilities: 100%|██████████████████████████████████████████████| 55/55 [00:00<00:00, 82.43it/s]\n",
      "Generating walks (CPU: 1): 100%|███████████████████████████████████████████████████████| 50/50 [00:00<00:00, 67.11it/s]\n",
      "Computing transition probabilities: 100%|██████████████████████████████████████████████| 54/54 [00:00<00:00, 57.17it/s]\n",
      "Generating walks (CPU: 1): 100%|███████████████████████████████████████████████████████| 50/50 [00:00<00:00, 57.36it/s]\n",
      "Computing transition probabilities: 100%|█████████████████████████████████████████████| 46/46 [00:00<00:00, 104.12it/s]\n",
      "Generating walks (CPU: 1): 100%|███████████████████████████████████████████████████████| 50/50 [00:00<00:00, 92.67it/s]\n",
      "Computing transition probabilities: 100%|█████████████████████████████████████████████| 48/48 [00:00<00:00, 111.15it/s]\n",
      "Generating walks (CPU: 1): 100%|███████████████████████████████████████████████████████| 50/50 [00:00<00:00, 76.89it/s]\n",
      "Computing transition probabilities: 100%|██████████████████████████████████████████████| 57/57 [00:00<00:00, 73.18it/s]\n",
      "Generating walks (CPU: 1): 100%|███████████████████████████████████████████████████████| 50/50 [00:01<00:00, 30.89it/s]\n",
      "Computing transition probabilities: 100%|██████████████████████████████████████████████| 48/48 [00:00<00:00, 76.64it/s]\n",
      "Generating walks (CPU: 1): 100%|███████████████████████████████████████████████████████| 50/50 [00:00<00:00, 72.45it/s]\n",
      "Computing transition probabilities: 100%|██████████████████████████████████████████████| 47/47 [00:00<00:00, 66.00it/s]\n",
      "Generating walks (CPU: 1): 100%|███████████████████████████████████████████████████████| 50/50 [00:00<00:00, 68.49it/s]\n",
      "Computing transition probabilities: 100%|██████████████████████████████████████████████| 56/56 [00:00<00:00, 69.66it/s]\n",
      "Generating walks (CPU: 1): 100%|███████████████████████████████████████████████████████| 50/50 [00:00<00:00, 67.57it/s]\n",
      "Computing transition probabilities: 100%|██████████████████████████████████████████████| 53/53 [00:00<00:00, 66.34it/s]\n",
      "Generating walks (CPU: 1): 100%|███████████████████████████████████████████████████████| 50/50 [00:01<00:00, 45.17it/s]\n",
      "Computing transition probabilities: 100%|██████████████████████████████████████████████| 61/61 [00:00<00:00, 65.77it/s]\n",
      "Generating walks (CPU: 1): 100%|███████████████████████████████████████████████████████| 50/50 [00:00<00:00, 69.92it/s]\n",
      "Computing transition probabilities: 100%|██████████████████████████████████████████████| 59/59 [00:00<00:00, 77.13it/s]\n",
      "Generating walks (CPU: 1): 100%|███████████████████████████████████████████████████████| 50/50 [00:00<00:00, 60.62it/s]\n",
      "Computing transition probabilities: 100%|██████████████████████████████████████████████| 55/55 [00:00<00:00, 69.11it/s]\n",
      "Generating walks (CPU: 1): 100%|███████████████████████████████████████████████████████| 50/50 [00:00<00:00, 55.89it/s]\n",
      "Computing transition probabilities: 100%|██████████████████████████████████████████████| 56/56 [00:01<00:00, 45.61it/s]\n",
      "Generating walks (CPU: 1): 100%|███████████████████████████████████████████████████████| 50/50 [00:00<00:00, 54.79it/s]\n",
      "Computing transition probabilities: 100%|██████████████████████████████████████████████| 56/56 [00:00<00:00, 80.10it/s]\n",
      "Generating walks (CPU: 1): 100%|███████████████████████████████████████████████████████| 50/50 [00:00<00:00, 71.82it/s]\n",
      "Computing transition probabilities: 100%|██████████████████████████████████████████████| 58/58 [00:00<00:00, 82.72it/s]\n",
      "Generating walks (CPU: 1): 100%|███████████████████████████████████████████████████████| 50/50 [00:01<00:00, 44.80it/s]\n",
      "Computing transition probabilities: 100%|██████████████████████████████████████████████| 50/50 [00:01<00:00, 49.05it/s]\n",
      "Generating walks (CPU: 1): 100%|███████████████████████████████████████████████████████| 50/50 [00:00<00:00, 66.58it/s]\n",
      "Computing transition probabilities: 100%|██████████████████████████████████████████████| 53/53 [00:00<00:00, 80.15it/s]\n",
      "Generating walks (CPU: 1): 100%|███████████████████████████████████████████████████████| 50/50 [00:00<00:00, 75.23it/s]\n",
      "Computing transition probabilities: 100%|█████████████████████████████████████████████| 47/47 [00:00<00:00, 110.62it/s]\n",
      "Generating walks (CPU: 1): 100%|███████████████████████████████████████████████████████| 50/50 [00:00<00:00, 71.52it/s]\n",
      "Computing transition probabilities: 100%|██████████████████████████████████████████████| 57/57 [00:00<00:00, 78.72it/s]\n",
      "Generating walks (CPU: 1): 100%|███████████████████████████████████████████████████████| 50/50 [00:01<00:00, 38.21it/s]\n",
      "Computing transition probabilities: 100%|██████████████████████████████████████████████| 54/54 [00:00<00:00, 63.85it/s]\n",
      "Generating walks (CPU: 1): 100%|███████████████████████████████████████████████████████| 50/50 [00:00<00:00, 63.70it/s]\n",
      "Computing transition probabilities: 100%|██████████████████████████████████████████████| 51/51 [00:00<00:00, 66.93it/s]\n",
      "Generating walks (CPU: 1): 100%|███████████████████████████████████████████████████████| 50/50 [00:00<00:00, 75.28it/s]\n",
      "Computing transition probabilities: 100%|██████████████████████████████████████████████| 60/60 [00:01<00:00, 46.35it/s]\n",
      "Generating walks (CPU: 1): 100%|███████████████████████████████████████████████████████| 50/50 [00:00<00:00, 55.52it/s]\n",
      "Computing transition probabilities: 100%|██████████████████████████████████████████████| 59/59 [00:01<00:00, 47.14it/s]\n",
      "Generating walks (CPU: 1): 100%|███████████████████████████████████████████████████████| 50/50 [00:00<00:00, 54.67it/s]\n",
      "Computing transition probabilities: 100%|██████████████████████████████████████████████| 60/60 [00:01<00:00, 52.87it/s]\n",
      "Generating walks (CPU: 1): 100%|███████████████████████████████████████████████████████| 50/50 [00:00<00:00, 56.33it/s]\n"
     ]
    },
    {
     "name": "stdout",
     "output_type": "stream",
     "text": [
      "\n"
     ]
    },
    {
     "data": {
      "application/vnd.jupyter.widget-view+json": {
       "model_id": "bf730a26c2c94d4b8bf0bc9b45fd3669",
       "version_major": 2,
       "version_minor": 0
      },
      "text/plain": [
       "HBox(children=(IntProgress(value=1, bar_style='info', max=1), HTML(value='')))"
      ]
     },
     "metadata": {},
     "output_type": "display_data"
    },
    {
     "name": "stdout",
     "output_type": "stream",
     "text": [
      "\n"
     ]
    },
    {
     "name": "stderr",
     "output_type": "stream",
     "text": [
      "C:\\Users\\Stefano\\.conda\\envs\\base2\\lib\\site-packages\\sklearn\\linear_model\\_logistic.py:764: ConvergenceWarning: lbfgs failed to converge (status=1):\n",
      "STOP: TOTAL NO. of ITERATIONS REACHED LIMIT.\n",
      "\n",
      "Increase the number of iterations (max_iter) or scale the data as shown in:\n",
      "    https://scikit-learn.org/stable/modules/preprocessing.html\n",
      "Please also refer to the documentation for alternative solver options:\n",
      "    https://scikit-learn.org/stable/modules/linear_model.html#logistic-regression\n",
      "  extra_warning_msg=_LOGISTIC_SOLVER_CONVERGENCE_MSG)\n"
     ]
    },
    {
     "data": {
      "application/vnd.jupyter.widget-view+json": {
       "model_id": "f7cf116f82504126890aee2695df1388",
       "version_major": 2,
       "version_minor": 0
      },
      "text/plain": [
       "HBox(children=(IntProgress(value=1, bar_style='info', max=1), HTML(value='')))"
      ]
     },
     "metadata": {},
     "output_type": "display_data"
    },
    {
     "name": "stdout",
     "output_type": "stream",
     "text": [
      "\n"
     ]
    },
    {
     "data": {
      "application/vnd.jupyter.widget-view+json": {
       "model_id": "25b24c7c24c341d3b97b0c90d43700c1",
       "version_major": 2,
       "version_minor": 0
      },
      "text/plain": [
       "HBox(children=(IntProgress(value=1, bar_style='info', max=1), HTML(value='')))"
      ]
     },
     "metadata": {},
     "output_type": "display_data"
    },
    {
     "name": "stdout",
     "output_type": "stream",
     "text": [
      "\n",
      "0.9170832435130872\n"
     ]
    }
   ],
   "source": [
    "from sklearn.ensemble import StackingClassifier\n",
    "from NodeTransformer import NodeTransformer\n",
    "\n",
    "estimators = [('scale', StandardScaler()), ('rfne', NodeTransformer(n_estimators=200,max_depth=6,dimension=10)), ('logreg',LogisticRegression())]\n",
    "pipe = Pipeline(estimators)\n",
    "\n",
    "ests = [('rf', RandomForestClassifier(n_estimators=200, max_depth=6, random_state=0)),\n",
    "  ('rf2', pipe)]\n",
    "\n",
    "clf = StackingClassifier(estimators=ests, final_estimator=LogisticRegression())\n",
    "\n",
    "clf.fit(X_train,y_train)   \n",
    "\n",
    "print(roc_auc_score(y_test, clf.predict_proba(X_test)[:,1]))"
   ]
  },
  {
   "cell_type": "code",
   "execution_count": 15,
   "metadata": {},
   "outputs": [
    {
     "name": "stdout",
     "output_type": "stream",
     "text": [
      "Feature ranking:\n",
      "1. feature 3 (0.407734)\n",
      "2. feature 40 (0.195840)\n",
      "3. feature 5 (0.052937)\n",
      "4. feature 24 (0.047776)\n",
      "5. feature 0 (0.040549)\n",
      "6. feature 41 (0.032069)\n",
      "7. feature 27 (0.030850)\n",
      "8. feature 34 (0.029743)\n",
      "9. feature 6 (0.027470)\n",
      "10. feature 38 (0.020344)\n",
      "11. feature 37 (0.016580)\n",
      "12. feature 1 (0.013039)\n",
      "13. feature 2 (0.011730)\n",
      "14. feature 35 (0.011391)\n",
      "15. feature 4 (0.006508)\n",
      "16. feature 33 (0.006252)\n",
      "17. feature 25 (0.004801)\n",
      "18. feature 14 (0.004457)\n",
      "19. feature 18 (0.004182)\n",
      "20. feature 28 (0.003650)\n",
      "21. feature 32 (0.003467)\n",
      "22. feature 29 (0.003304)\n",
      "23. feature 19 (0.003260)\n",
      "24. feature 7 (0.003104)\n",
      "25. feature 11 (0.002539)\n",
      "26. feature 21 (0.001991)\n",
      "27. feature 36 (0.001978)\n",
      "28. feature 39 (0.001820)\n",
      "29. feature 20 (0.001301)\n",
      "30. feature 10 (0.001085)\n",
      "31. feature 30 (0.001082)\n",
      "32. feature 22 (0.001012)\n",
      "33. feature 15 (0.000951)\n",
      "34. feature 26 (0.000948)\n",
      "35. feature 16 (0.000842)\n",
      "36. feature 13 (0.000737)\n",
      "37. feature 31 (0.000704)\n",
      "38. feature 12 (0.000557)\n",
      "39. feature 8 (0.000523)\n",
      "40. feature 9 (0.000519)\n",
      "41. feature 17 (0.000259)\n",
      "42. feature 23 (0.000117)\n"
     ]
    }
   ],
   "source": [
    "est0 = clf.estimators_[0]\n",
    "est1 = clf.estimators_[1]\n",
    "\n",
    "est0.feature_importances_\n",
    "\n",
    "importances = est0.feature_importances_\n",
    "std = np.std([tree.feature_importances_ for tree in est0.estimators_],\n",
    "             axis=0)\n",
    "indices = np.argsort(importances)[::-1]\n",
    "\n",
    "# Print the feature ranking\n",
    "print(\"Feature ranking:\")\n",
    "\n",
    "for f in range(X.shape[1]):\n",
    "    print(\"%d. feature %d (%f)\" % (f + 1, indices[f], importances[indices[f]]))\n",
    "\n",
    "\n",
    "\n",
    "#print(roc_auc_score(y_test, est1.predict_proba(X_test)[:,1]))"
   ]
  },
  {
   "cell_type": "code",
   "execution_count": 23,
   "metadata": {},
   "outputs": [
    {
     "name": "stdout",
     "output_type": "stream",
     "text": [
      "Feature: 0, Score: -0.15754\n",
      "Feature: 1, Score: 0.28134\n",
      "Feature: 2, Score: -0.18956\n",
      "Feature: 3, Score: 0.39139\n",
      "Feature: 4, Score: 0.71407\n",
      "Feature: 5, Score: 0.40136\n",
      "Feature: 6, Score: -0.32701\n",
      "Feature: 7, Score: 0.14720\n",
      "Feature: 8, Score: 0.48775\n",
      "Feature: 9, Score: -0.27087\n",
      "Feature: 10, Score: -0.36481\n",
      "Feature: 11, Score: 0.06097\n",
      "Feature: 12, Score: -0.53173\n",
      "Feature: 13, Score: -0.00765\n",
      "Feature: 14, Score: -0.60395\n",
      "Feature: 15, Score: 0.05479\n",
      "Feature: 16, Score: 0.00957\n",
      "Feature: 17, Score: -0.10476\n",
      "Feature: 18, Score: -0.11898\n",
      "Feature: 19, Score: -0.31841\n",
      "Feature: 20, Score: 0.54234\n",
      "Feature: 21, Score: 0.52077\n",
      "Feature: 22, Score: -0.44968\n",
      "Feature: 23, Score: 0.07379\n",
      "Feature: 24, Score: -0.04465\n",
      "Feature: 25, Score: 0.10182\n",
      "Feature: 26, Score: 0.61248\n",
      "Feature: 27, Score: -0.29055\n",
      "Feature: 28, Score: 0.47508\n",
      "Feature: 29, Score: -0.11496\n",
      "Feature: 30, Score: 0.99954\n",
      "Feature: 31, Score: -0.41253\n",
      "Feature: 32, Score: 0.21990\n",
      "Feature: 33, Score: 0.05971\n",
      "Feature: 34, Score: -0.19968\n",
      "Feature: 35, Score: -0.55114\n",
      "Feature: 36, Score: 0.58378\n",
      "Feature: 37, Score: -0.31896\n",
      "Feature: 38, Score: 1.26067\n",
      "Feature: 39, Score: 0.69595\n",
      "Feature: 40, Score: 0.16365\n",
      "Feature: 41, Score: -0.10117\n",
      "Feature: 42, Score: -0.37129\n",
      "Feature: 43, Score: 0.26919\n",
      "Feature: 44, Score: -0.29308\n",
      "Feature: 45, Score: -0.50084\n",
      "Feature: 46, Score: 0.38240\n",
      "Feature: 47, Score: -0.02128\n",
      "Feature: 48, Score: 0.15695\n",
      "Feature: 49, Score: -0.06693\n",
      "Feature: 50, Score: 0.25006\n",
      "Feature: 51, Score: -0.24013\n",
      "Feature: 52, Score: 0.30362\n",
      "Feature: 53, Score: 0.29117\n",
      "Feature: 54, Score: 0.47444\n",
      "Feature: 55, Score: 0.21936\n",
      "Feature: 56, Score: -0.11026\n",
      "Feature: 57, Score: -0.15520\n",
      "Feature: 58, Score: -0.06907\n",
      "Feature: 59, Score: -0.12623\n",
      "Feature: 60, Score: -0.81402\n",
      "Feature: 61, Score: -0.50417\n",
      "Feature: 62, Score: -0.50564\n",
      "Feature: 63, Score: -0.57826\n",
      "Feature: 64, Score: -0.05974\n",
      "Feature: 65, Score: -0.20099\n",
      "Feature: 66, Score: 0.15166\n",
      "Feature: 67, Score: -0.09506\n",
      "Feature: 68, Score: 0.06733\n",
      "Feature: 69, Score: 0.18946\n",
      "Feature: 70, Score: 0.21548\n",
      "Feature: 71, Score: -0.34469\n",
      "Feature: 72, Score: -0.22189\n",
      "Feature: 73, Score: 0.08396\n",
      "Feature: 74, Score: 0.20534\n",
      "Feature: 75, Score: 0.05725\n",
      "Feature: 76, Score: -0.06201\n",
      "Feature: 77, Score: -0.11382\n",
      "Feature: 78, Score: -0.17319\n",
      "Feature: 79, Score: -0.27941\n",
      "Feature: 80, Score: 0.33674\n",
      "Feature: 81, Score: -0.45942\n",
      "Feature: 82, Score: 0.06968\n",
      "Feature: 83, Score: -0.13988\n",
      "Feature: 84, Score: 0.15211\n",
      "Feature: 85, Score: 0.09248\n",
      "Feature: 86, Score: 0.07455\n",
      "Feature: 87, Score: -0.13860\n",
      "Feature: 88, Score: 0.15778\n",
      "Feature: 89, Score: -0.04587\n",
      "Feature: 90, Score: -0.10155\n",
      "Feature: 91, Score: 0.34793\n",
      "Feature: 92, Score: 0.01525\n",
      "Feature: 93, Score: -0.35325\n",
      "Feature: 94, Score: -0.03064\n",
      "Feature: 95, Score: 0.17359\n",
      "Feature: 96, Score: -0.08724\n",
      "Feature: 97, Score: 0.58006\n",
      "Feature: 98, Score: -0.30491\n",
      "Feature: 99, Score: -0.50024\n",
      "Feature: 100, Score: 0.02619\n",
      "Feature: 101, Score: -0.05406\n",
      "Feature: 102, Score: 0.00827\n",
      "Feature: 103, Score: -0.56402\n",
      "Feature: 104, Score: -0.09949\n",
      "Feature: 105, Score: -0.34441\n",
      "Feature: 106, Score: -0.19202\n",
      "Feature: 107, Score: 0.49022\n",
      "Feature: 108, Score: -0.12939\n",
      "Feature: 109, Score: -0.03435\n",
      "Feature: 110, Score: -0.13459\n",
      "Feature: 111, Score: -0.24651\n",
      "Feature: 112, Score: -0.12633\n",
      "Feature: 113, Score: -0.10489\n",
      "Feature: 114, Score: 0.35493\n",
      "Feature: 115, Score: 0.49404\n",
      "Feature: 116, Score: -0.14205\n",
      "Feature: 117, Score: 0.17446\n",
      "Feature: 118, Score: -0.34438\n",
      "Feature: 119, Score: -0.04828\n",
      "Feature: 120, Score: -0.15346\n",
      "Feature: 121, Score: -0.36821\n",
      "Feature: 122, Score: -0.17241\n",
      "Feature: 123, Score: -0.68420\n",
      "Feature: 124, Score: 0.72879\n",
      "Feature: 125, Score: -0.72748\n",
      "Feature: 126, Score: 0.28554\n",
      "Feature: 127, Score: 0.28288\n",
      "Feature: 128, Score: -0.00692\n",
      "Feature: 129, Score: -0.48949\n",
      "Feature: 130, Score: -0.14649\n",
      "Feature: 131, Score: -0.21435\n",
      "Feature: 132, Score: -0.40617\n",
      "Feature: 133, Score: -0.38749\n",
      "Feature: 134, Score: 0.69798\n",
      "Feature: 135, Score: 0.54182\n",
      "Feature: 136, Score: 0.04287\n",
      "Feature: 137, Score: 0.70935\n",
      "Feature: 138, Score: 0.17619\n",
      "Feature: 139, Score: 0.21631\n",
      "Feature: 140, Score: -0.07119\n",
      "Feature: 141, Score: -0.07098\n",
      "Feature: 142, Score: 0.32442\n",
      "Feature: 143, Score: 0.19227\n",
      "Feature: 144, Score: -0.06600\n",
      "Feature: 145, Score: 0.23721\n",
      "Feature: 146, Score: 0.08045\n",
      "Feature: 147, Score: 0.00927\n",
      "Feature: 148, Score: 0.09222\n",
      "Feature: 149, Score: -0.01130\n",
      "Feature: 150, Score: 0.26999\n",
      "Feature: 151, Score: -0.10247\n",
      "Feature: 152, Score: 0.17345\n",
      "Feature: 153, Score: -0.04164\n",
      "Feature: 154, Score: 0.01335\n",
      "Feature: 155, Score: 0.59017\n",
      "Feature: 156, Score: -0.16566\n",
      "Feature: 157, Score: -0.62809\n",
      "Feature: 158, Score: 0.13332\n",
      "Feature: 159, Score: 0.17854\n",
      "Feature: 160, Score: -0.61449\n",
      "Feature: 161, Score: -0.57258\n",
      "Feature: 162, Score: -0.00827\n",
      "Feature: 163, Score: 0.18107\n",
      "Feature: 164, Score: -0.09714\n",
      "Feature: 165, Score: -0.31416\n",
      "Feature: 166, Score: 0.12668\n",
      "Feature: 167, Score: 0.39314\n",
      "Feature: 168, Score: 0.44812\n",
      "Feature: 169, Score: -0.21545\n",
      "Feature: 170, Score: 0.43340\n",
      "Feature: 171, Score: 0.54227\n",
      "Feature: 172, Score: 0.78813\n",
      "Feature: 173, Score: 0.43474\n",
      "Feature: 174, Score: 0.06241\n",
      "Feature: 175, Score: -0.09713\n",
      "Feature: 176, Score: -0.14344\n",
      "Feature: 177, Score: 0.43046\n",
      "Feature: 178, Score: 0.46590\n",
      "Feature: 179, Score: 0.94514\n",
      "Feature: 180, Score: 0.13182\n",
      "Feature: 181, Score: 0.09870\n",
      "Feature: 182, Score: -0.11134\n",
      "Feature: 183, Score: -0.50795\n",
      "Feature: 184, Score: -0.20705\n",
      "Feature: 185, Score: -0.24329\n",
      "Feature: 186, Score: 0.09888\n",
      "Feature: 187, Score: 0.61832\n",
      "Feature: 188, Score: -0.22811\n",
      "Feature: 189, Score: 0.41506\n",
      "Feature: 190, Score: -0.36232\n",
      "Feature: 191, Score: 0.29540\n",
      "Feature: 192, Score: 0.34621\n",
      "Feature: 193, Score: -0.10466\n",
      "Feature: 194, Score: -0.73748\n",
      "Feature: 195, Score: -0.35526\n",
      "Feature: 196, Score: 0.13018\n",
      "Feature: 197, Score: -0.03126\n",
      "Feature: 198, Score: 0.18996\n",
      "Feature: 199, Score: 0.44669\n",
      "Feature: 200, Score: 0.19726\n",
      "Feature: 201, Score: 0.03851\n",
      "Feature: 202, Score: -0.12330\n",
      "Feature: 203, Score: -0.45903\n",
      "Feature: 204, Score: -0.08918\n",
      "Feature: 205, Score: -0.02836\n",
      "Feature: 206, Score: 0.19894\n",
      "Feature: 207, Score: -0.12813\n",
      "Feature: 208, Score: -0.16156\n",
      "Feature: 209, Score: 0.37100\n",
      "Feature: 210, Score: 0.10833\n",
      "Feature: 211, Score: -0.13421\n",
      "Feature: 212, Score: -0.60226\n",
      "Feature: 213, Score: -0.42125\n",
      "Feature: 214, Score: -0.11437\n",
      "Feature: 215, Score: -0.16935\n",
      "Feature: 216, Score: -0.05318\n",
      "Feature: 217, Score: -0.44684\n",
      "Feature: 218, Score: 0.30368\n",
      "Feature: 219, Score: -0.13689\n",
      "Feature: 220, Score: -0.38413\n",
      "Feature: 221, Score: 0.09204\n",
      "Feature: 222, Score: -0.36078\n",
      "Feature: 223, Score: -0.03369\n",
      "Feature: 224, Score: -0.14499\n",
      "Feature: 225, Score: 0.32039\n",
      "Feature: 226, Score: -0.06794\n",
      "Feature: 227, Score: 0.36772\n",
      "Feature: 228, Score: -0.11867\n",
      "Feature: 229, Score: 0.19071\n",
      "Feature: 230, Score: -0.46875\n",
      "Feature: 231, Score: -0.12141\n",
      "Feature: 232, Score: 0.48790\n",
      "Feature: 233, Score: -0.02105\n",
      "Feature: 234, Score: 0.07887\n",
      "Feature: 235, Score: 0.87572\n",
      "Feature: 236, Score: -0.36385\n",
      "Feature: 237, Score: -0.16195\n",
      "Feature: 238, Score: 0.22733\n",
      "Feature: 239, Score: 0.28230\n",
      "Feature: 240, Score: -0.14689\n",
      "Feature: 241, Score: -0.12077\n",
      "Feature: 242, Score: -0.36070\n",
      "Feature: 243, Score: -0.42307\n",
      "Feature: 244, Score: -0.02824\n",
      "Feature: 245, Score: -0.33672\n",
      "Feature: 246, Score: -0.03636\n",
      "Feature: 247, Score: 0.02088\n",
      "Feature: 248, Score: 0.12924\n",
      "Feature: 249, Score: 0.44909\n",
      "Feature: 250, Score: -0.24599\n",
      "Feature: 251, Score: -0.02592\n",
      "Feature: 252, Score: -0.23805\n",
      "Feature: 253, Score: -0.32996\n",
      "Feature: 254, Score: -0.31902\n",
      "Feature: 255, Score: 0.50544\n",
      "Feature: 256, Score: -0.24589\n",
      "Feature: 257, Score: 0.26900\n",
      "Feature: 258, Score: 0.04060\n",
      "Feature: 259, Score: 0.54156\n",
      "Feature: 260, Score: 0.22881\n",
      "Feature: 261, Score: 0.30728\n",
      "Feature: 262, Score: -0.23542\n",
      "Feature: 263, Score: -0.19652\n",
      "Feature: 264, Score: 0.01003\n",
      "Feature: 265, Score: 0.11544\n",
      "Feature: 266, Score: -0.05147\n",
      "Feature: 267, Score: 0.44315\n",
      "Feature: 268, Score: 0.25700\n",
      "Feature: 269, Score: -0.07019\n",
      "Feature: 270, Score: 0.01498\n",
      "Feature: 271, Score: -0.28362\n",
      "Feature: 272, Score: -0.18842\n",
      "Feature: 273, Score: 0.14281\n",
      "Feature: 274, Score: 0.10059\n",
      "Feature: 275, Score: 0.18238\n",
      "Feature: 276, Score: 0.07246\n",
      "Feature: 277, Score: -0.06534\n",
      "Feature: 278, Score: -0.41433\n",
      "Feature: 279, Score: -0.11202\n",
      "Feature: 280, Score: 0.13122\n",
      "Feature: 281, Score: 0.05424\n",
      "Feature: 282, Score: 0.05328\n",
      "Feature: 283, Score: 0.23179\n",
      "Feature: 284, Score: 0.23592\n",
      "Feature: 285, Score: -0.14586\n",
      "Feature: 286, Score: -0.16265\n",
      "Feature: 287, Score: 0.11183\n",
      "Feature: 288, Score: -0.33919\n",
      "Feature: 289, Score: 0.48816\n",
      "Feature: 290, Score: -0.60285\n",
      "Feature: 291, Score: -0.71679\n",
      "Feature: 292, Score: 0.17228\n",
      "Feature: 293, Score: -0.44381\n",
      "Feature: 294, Score: -0.09439\n",
      "Feature: 295, Score: 0.03658\n",
      "Feature: 296, Score: 0.11801\n",
      "Feature: 297, Score: -0.56537\n",
      "Feature: 298, Score: 0.17757\n",
      "Feature: 299, Score: -0.06931\n",
      "Feature: 300, Score: 0.02039\n",
      "Feature: 301, Score: -0.04870\n",
      "Feature: 302, Score: -0.01379\n",
      "Feature: 303, Score: -0.16348\n",
      "Feature: 304, Score: -0.24214\n",
      "Feature: 305, Score: -0.32818\n",
      "Feature: 306, Score: 0.09849\n",
      "Feature: 307, Score: -0.16958\n",
      "Feature: 308, Score: 0.41739\n",
      "Feature: 309, Score: -0.09034\n",
      "Feature: 310, Score: -0.37079\n",
      "Feature: 311, Score: -0.40688\n",
      "Feature: 312, Score: 0.12348\n",
      "Feature: 313, Score: -0.10413\n",
      "Feature: 314, Score: -0.00601\n",
      "Feature: 315, Score: 0.18482\n",
      "Feature: 316, Score: 0.01872\n",
      "Feature: 317, Score: -0.47218\n",
      "Feature: 318, Score: 0.56767\n",
      "Feature: 319, Score: 1.08379\n",
      "Feature: 320, Score: -0.21407\n",
      "Feature: 321, Score: -0.38592\n",
      "Feature: 322, Score: 0.45333\n",
      "Feature: 323, Score: -0.36428\n",
      "Feature: 324, Score: 0.34390\n",
      "Feature: 325, Score: 0.23926\n",
      "Feature: 326, Score: -0.64643\n",
      "Feature: 327, Score: 0.12771\n",
      "Feature: 328, Score: -0.44510\n",
      "Feature: 329, Score: 0.13313\n",
      "Feature: 330, Score: -0.28452\n",
      "Feature: 331, Score: -0.20593\n",
      "Feature: 332, Score: -0.05222\n",
      "Feature: 333, Score: -0.29048\n",
      "Feature: 334, Score: -0.38242\n",
      "Feature: 335, Score: 0.03942\n",
      "Feature: 336, Score: -0.10465\n",
      "Feature: 337, Score: 0.11801\n",
      "Feature: 338, Score: 0.46477\n",
      "Feature: 339, Score: -0.17736\n",
      "Feature: 340, Score: -0.18603\n",
      "Feature: 341, Score: -0.21144\n",
      "Feature: 342, Score: 0.23922\n",
      "Feature: 343, Score: 0.21614\n",
      "Feature: 344, Score: -0.17988\n",
      "Feature: 345, Score: 0.14626\n",
      "Feature: 346, Score: 0.09572\n",
      "Feature: 347, Score: 0.14675\n",
      "Feature: 348, Score: 0.21163\n",
      "Feature: 349, Score: 0.26797\n",
      "Feature: 350, Score: 0.25553\n",
      "Feature: 351, Score: -0.40836\n",
      "Feature: 352, Score: -0.14615\n",
      "Feature: 353, Score: 0.11838\n",
      "Feature: 354, Score: -0.10548\n",
      "Feature: 355, Score: 0.09679\n",
      "Feature: 356, Score: -0.34377\n",
      "Feature: 357, Score: -0.01165\n",
      "Feature: 358, Score: -0.09980\n",
      "Feature: 359, Score: 0.42621\n",
      "Feature: 360, Score: -0.53447\n",
      "Feature: 361, Score: 0.00167\n",
      "Feature: 362, Score: 0.17149\n",
      "Feature: 363, Score: -0.34975\n",
      "Feature: 364, Score: -0.03201\n",
      "Feature: 365, Score: 0.49660\n",
      "Feature: 366, Score: -0.40924\n",
      "Feature: 367, Score: 0.41127\n",
      "Feature: 368, Score: -0.47410\n",
      "Feature: 369, Score: -0.56967\n",
      "Feature: 370, Score: -0.04392\n",
      "Feature: 371, Score: -0.27053\n",
      "Feature: 372, Score: 0.08970\n",
      "Feature: 373, Score: -0.27744\n",
      "Feature: 374, Score: 0.11164\n",
      "Feature: 375, Score: -0.19150\n",
      "Feature: 376, Score: 0.09376\n",
      "Feature: 377, Score: -0.59972\n",
      "Feature: 378, Score: 0.35495\n",
      "Feature: 379, Score: 0.63637\n",
      "Feature: 380, Score: 0.01547\n",
      "Feature: 381, Score: -0.02156\n",
      "Feature: 382, Score: 0.05514\n",
      "Feature: 383, Score: 0.27959\n",
      "Feature: 384, Score: 0.06050\n",
      "Feature: 385, Score: -0.29414\n",
      "Feature: 386, Score: 0.09955\n",
      "Feature: 387, Score: -0.05169\n",
      "Feature: 388, Score: 0.09606\n",
      "Feature: 389, Score: -0.15938\n",
      "Feature: 390, Score: -0.12870\n",
      "Feature: 391, Score: 0.18138\n",
      "Feature: 392, Score: 0.13135\n",
      "Feature: 393, Score: -0.67056\n",
      "Feature: 394, Score: 0.00797\n",
      "Feature: 395, Score: 0.57761\n",
      "Feature: 396, Score: -0.61762\n",
      "Feature: 397, Score: 0.30379\n",
      "Feature: 398, Score: 0.19339\n",
      "Feature: 399, Score: 0.19566\n",
      "Feature: 400, Score: -0.05816\n",
      "Feature: 401, Score: -0.04108\n",
      "Feature: 402, Score: 0.34763\n",
      "Feature: 403, Score: 0.01872\n",
      "Feature: 404, Score: 0.09406\n",
      "Feature: 405, Score: 0.10196\n",
      "Feature: 406, Score: 0.57509\n",
      "Feature: 407, Score: -0.13952\n",
      "Feature: 408, Score: 0.41148\n",
      "Feature: 409, Score: 0.47135\n",
      "Feature: 410, Score: -0.49430\n",
      "Feature: 411, Score: -0.15185\n",
      "Feature: 412, Score: 0.11551\n",
      "Feature: 413, Score: -0.20069\n",
      "Feature: 414, Score: 0.02905\n",
      "Feature: 415, Score: -0.00884\n",
      "Feature: 416, Score: 0.13678\n",
      "Feature: 417, Score: 0.50957\n",
      "Feature: 418, Score: 0.42689\n",
      "Feature: 419, Score: 0.02160\n",
      "Feature: 420, Score: 0.49334\n",
      "Feature: 421, Score: 0.08642\n",
      "Feature: 422, Score: 0.01169\n",
      "Feature: 423, Score: -0.05373\n",
      "Feature: 424, Score: 0.10933\n",
      "Feature: 425, Score: -0.37669\n",
      "Feature: 426, Score: -0.04949\n",
      "Feature: 427, Score: 0.35347\n",
      "Feature: 428, Score: -0.36368\n",
      "Feature: 429, Score: -0.30340\n",
      "Feature: 430, Score: 0.41273\n",
      "Feature: 431, Score: 0.19503\n",
      "Feature: 432, Score: 0.26124\n",
      "Feature: 433, Score: 0.11110\n",
      "Feature: 434, Score: -0.08527\n",
      "Feature: 435, Score: 0.01922\n",
      "Feature: 436, Score: -0.17143\n",
      "Feature: 437, Score: -0.08080\n",
      "Feature: 438, Score: 0.14034\n",
      "Feature: 439, Score: 0.06484\n",
      "Feature: 440, Score: -0.04222\n",
      "Feature: 441, Score: -0.25382\n",
      "Feature: 442, Score: 0.53619\n",
      "Feature: 443, Score: 0.09787\n",
      "Feature: 444, Score: 0.16663\n",
      "Feature: 445, Score: -0.30702\n",
      "Feature: 446, Score: 0.35546\n",
      "Feature: 447, Score: 0.00592\n",
      "Feature: 448, Score: 0.31994\n",
      "Feature: 449, Score: 0.28704\n",
      "Feature: 450, Score: 0.06677\n",
      "Feature: 451, Score: -0.05453\n",
      "Feature: 452, Score: -0.35807\n",
      "Feature: 453, Score: 0.08225\n",
      "Feature: 454, Score: 0.01773\n",
      "Feature: 455, Score: 0.17819\n",
      "Feature: 456, Score: -0.35267\n",
      "Feature: 457, Score: -0.10382\n",
      "Feature: 458, Score: -0.03978\n",
      "Feature: 459, Score: 0.37197\n",
      "Feature: 460, Score: 0.21487\n",
      "Feature: 461, Score: -0.12541\n",
      "Feature: 462, Score: 0.71731\n",
      "Feature: 463, Score: -0.37030\n",
      "Feature: 464, Score: 0.27595\n",
      "Feature: 465, Score: 0.39947\n",
      "Feature: 466, Score: -0.43022\n",
      "Feature: 467, Score: -0.70997\n",
      "Feature: 468, Score: 0.24581\n",
      "Feature: 469, Score: 0.41100\n",
      "Feature: 470, Score: -0.04340\n",
      "Feature: 471, Score: -0.30281\n",
      "Feature: 472, Score: 0.08851\n",
      "Feature: 473, Score: 0.07666\n",
      "Feature: 474, Score: 0.06272\n",
      "Feature: 475, Score: -0.64976\n",
      "Feature: 476, Score: -0.08193\n",
      "Feature: 477, Score: -0.04363\n",
      "Feature: 478, Score: 0.09514\n",
      "Feature: 479, Score: 0.02552\n",
      "Feature: 480, Score: 0.37241\n",
      "Feature: 481, Score: 0.01634\n",
      "Feature: 482, Score: -0.23631\n",
      "Feature: 483, Score: -0.05701\n",
      "Feature: 484, Score: 0.32928\n",
      "Feature: 485, Score: 0.25761\n",
      "Feature: 486, Score: -0.03221\n",
      "Feature: 487, Score: 0.31549\n",
      "Feature: 488, Score: 0.28422\n",
      "Feature: 489, Score: -0.34177\n",
      "Feature: 490, Score: 0.24344\n",
      "Feature: 491, Score: -0.23420\n",
      "Feature: 492, Score: 0.12155\n",
      "Feature: 493, Score: 0.41075\n",
      "Feature: 494, Score: 0.15530\n",
      "Feature: 495, Score: 0.63338\n",
      "Feature: 496, Score: -0.11094\n",
      "Feature: 497, Score: -0.01216\n",
      "Feature: 498, Score: 0.30643\n",
      "Feature: 499, Score: -0.11557\n",
      "Feature: 500, Score: 0.07405\n",
      "Feature: 501, Score: -0.01682\n",
      "Feature: 502, Score: -0.54307\n",
      "Feature: 503, Score: -0.12887\n",
      "Feature: 504, Score: 0.47132\n",
      "Feature: 505, Score: -0.03713\n",
      "Feature: 506, Score: 0.15896\n",
      "Feature: 507, Score: 0.21386\n",
      "Feature: 508, Score: 0.11350\n",
      "Feature: 509, Score: -0.58283\n",
      "Feature: 510, Score: -0.21689\n",
      "Feature: 511, Score: 0.03049\n",
      "Feature: 512, Score: -0.43941\n",
      "Feature: 513, Score: -0.34076\n",
      "Feature: 514, Score: -0.59480\n",
      "Feature: 515, Score: -0.70466\n",
      "Feature: 516, Score: -0.04132\n",
      "Feature: 517, Score: 0.12825\n",
      "Feature: 518, Score: 0.23558\n",
      "Feature: 519, Score: 0.13630\n",
      "Feature: 520, Score: 0.51182\n",
      "Feature: 521, Score: -0.09271\n",
      "Feature: 522, Score: 0.24846\n",
      "Feature: 523, Score: 0.28231\n",
      "Feature: 524, Score: -0.06479\n",
      "Feature: 525, Score: 0.18958\n",
      "Feature: 526, Score: -0.13056\n",
      "Feature: 527, Score: -0.19222\n",
      "Feature: 528, Score: 0.27332\n",
      "Feature: 529, Score: 0.40888\n",
      "Feature: 530, Score: 0.16903\n",
      "Feature: 531, Score: -0.33986\n",
      "Feature: 532, Score: 0.25093\n",
      "Feature: 533, Score: 0.33608\n",
      "Feature: 534, Score: 0.28109\n",
      "Feature: 535, Score: 0.32296\n",
      "Feature: 536, Score: -0.49096\n",
      "Feature: 537, Score: -0.06669\n",
      "Feature: 538, Score: 0.05737\n",
      "Feature: 539, Score: 0.18191\n",
      "Feature: 540, Score: 0.15248\n",
      "Feature: 541, Score: -0.17968\n",
      "Feature: 542, Score: 0.05252\n",
      "Feature: 543, Score: -0.06087\n",
      "Feature: 544, Score: -0.40064\n",
      "Feature: 545, Score: -0.10352\n",
      "Feature: 546, Score: 0.85454\n",
      "Feature: 547, Score: -0.10552\n",
      "Feature: 548, Score: 0.33661\n",
      "Feature: 549, Score: 0.01066\n",
      "Feature: 550, Score: 0.16632\n",
      "Feature: 551, Score: -0.49706\n",
      "Feature: 552, Score: 0.25974\n",
      "Feature: 553, Score: 0.01819\n",
      "Feature: 554, Score: 0.25992\n",
      "Feature: 555, Score: 0.46429\n",
      "Feature: 556, Score: -0.29283\n",
      "Feature: 557, Score: 0.24885\n",
      "Feature: 558, Score: -0.23449\n",
      "Feature: 559, Score: 0.57189\n",
      "Feature: 560, Score: -0.23980\n",
      "Feature: 561, Score: -0.11231\n",
      "Feature: 562, Score: -0.11864\n",
      "Feature: 563, Score: -0.20879\n",
      "Feature: 564, Score: 0.28118\n",
      "Feature: 565, Score: -0.13073\n",
      "Feature: 566, Score: -0.08184\n",
      "Feature: 567, Score: 0.59037\n",
      "Feature: 568, Score: 0.21384\n",
      "Feature: 569, Score: -0.01578\n",
      "Feature: 570, Score: 0.23088\n",
      "Feature: 571, Score: 0.49164\n",
      "Feature: 572, Score: -0.09914\n",
      "Feature: 573, Score: 0.58548\n",
      "Feature: 574, Score: -0.48977\n",
      "Feature: 575, Score: -0.40170\n",
      "Feature: 576, Score: 0.31588\n",
      "Feature: 577, Score: 0.60009\n",
      "Feature: 578, Score: 0.10128\n",
      "Feature: 579, Score: 0.13784\n",
      "Feature: 580, Score: 0.03021\n",
      "Feature: 581, Score: 0.13811\n",
      "Feature: 582, Score: -0.69779\n",
      "Feature: 583, Score: 0.07851\n",
      "Feature: 584, Score: 0.05548\n",
      "Feature: 585, Score: -0.13788\n",
      "Feature: 586, Score: -0.02017\n",
      "Feature: 587, Score: -0.45046\n",
      "Feature: 588, Score: 0.18413\n",
      "Feature: 589, Score: 0.22864\n",
      "Feature: 590, Score: -0.22002\n",
      "Feature: 591, Score: 0.14511\n",
      "Feature: 592, Score: -0.07674\n",
      "Feature: 593, Score: -0.20249\n",
      "Feature: 594, Score: -0.10001\n",
      "Feature: 595, Score: -0.08267\n",
      "Feature: 596, Score: -0.47784\n",
      "Feature: 597, Score: 0.55607\n",
      "Feature: 598, Score: -0.05677\n",
      "Feature: 599, Score: 0.18461\n",
      "Feature: 600, Score: 0.18856\n",
      "Feature: 601, Score: 0.08404\n",
      "Feature: 602, Score: 0.49726\n",
      "Feature: 603, Score: 0.07404\n",
      "Feature: 604, Score: 0.22493\n",
      "Feature: 605, Score: -0.00662\n",
      "Feature: 606, Score: 0.65194\n",
      "Feature: 607, Score: -0.38333\n",
      "Feature: 608, Score: 0.21280\n",
      "Feature: 609, Score: -0.39291\n",
      "Feature: 610, Score: -0.24035\n",
      "Feature: 611, Score: -0.01593\n",
      "Feature: 612, Score: -0.06699\n",
      "Feature: 613, Score: 0.08629\n",
      "Feature: 614, Score: 0.31090\n",
      "Feature: 615, Score: -0.30481\n",
      "Feature: 616, Score: -0.02927\n",
      "Feature: 617, Score: -0.45838\n",
      "Feature: 618, Score: 0.50593\n",
      "Feature: 619, Score: 0.20266\n",
      "Feature: 620, Score: -0.47600\n",
      "Feature: 621, Score: -0.26950\n",
      "Feature: 622, Score: 0.11710\n",
      "Feature: 623, Score: -0.46188\n",
      "Feature: 624, Score: 0.12196\n",
      "Feature: 625, Score: -0.33942\n",
      "Feature: 626, Score: -0.04366\n",
      "Feature: 627, Score: -0.01922\n",
      "Feature: 628, Score: 0.20309\n",
      "Feature: 629, Score: 0.28368\n",
      "Feature: 630, Score: 0.45660\n",
      "Feature: 631, Score: 0.37769\n",
      "Feature: 632, Score: -0.03209\n",
      "Feature: 633, Score: 0.24002\n",
      "Feature: 634, Score: 0.55287\n",
      "Feature: 635, Score: -0.04184\n",
      "Feature: 636, Score: 0.06175\n",
      "Feature: 637, Score: 0.14583\n",
      "Feature: 638, Score: -0.39617\n",
      "Feature: 639, Score: -0.16230\n",
      "Feature: 640, Score: -0.31966\n",
      "Feature: 641, Score: -0.66328\n",
      "Feature: 642, Score: -0.24184\n",
      "Feature: 643, Score: -0.29442\n",
      "Feature: 644, Score: 0.04432\n",
      "Feature: 645, Score: 0.10059\n",
      "Feature: 646, Score: 0.00300\n",
      "Feature: 647, Score: -0.00420\n",
      "Feature: 648, Score: -0.16678\n",
      "Feature: 649, Score: 0.35464\n",
      "Feature: 650, Score: -0.26068\n",
      "Feature: 651, Score: -0.98214\n",
      "Feature: 652, Score: -0.50505\n",
      "Feature: 653, Score: 0.12936\n",
      "Feature: 654, Score: -0.47880\n",
      "Feature: 655, Score: -0.47640\n",
      "Feature: 656, Score: 0.45543\n",
      "Feature: 657, Score: 0.21726\n",
      "Feature: 658, Score: -0.07776\n",
      "Feature: 659, Score: 0.02746\n",
      "Feature: 660, Score: 0.24417\n",
      "Feature: 661, Score: -0.11853\n",
      "Feature: 662, Score: -0.12276\n",
      "Feature: 663, Score: 0.19256\n",
      "Feature: 664, Score: 0.48733\n",
      "Feature: 665, Score: 0.32955\n",
      "Feature: 666, Score: -0.18569\n",
      "Feature: 667, Score: -0.60059\n",
      "Feature: 668, Score: -0.65912\n",
      "Feature: 669, Score: 0.77630\n",
      "Feature: 670, Score: 0.38788\n",
      "Feature: 671, Score: 0.51133\n",
      "Feature: 672, Score: 0.08606\n",
      "Feature: 673, Score: -0.09303\n",
      "Feature: 674, Score: -0.23763\n",
      "Feature: 675, Score: -0.14300\n",
      "Feature: 676, Score: 0.11838\n",
      "Feature: 677, Score: 0.22633\n",
      "Feature: 678, Score: -0.18785\n",
      "Feature: 679, Score: 0.36698\n",
      "Feature: 680, Score: -0.46321\n",
      "Feature: 681, Score: -0.40356\n",
      "Feature: 682, Score: -0.21531\n",
      "Feature: 683, Score: 0.07657\n",
      "Feature: 684, Score: -0.10997\n",
      "Feature: 685, Score: -0.28022\n",
      "Feature: 686, Score: 0.01857\n",
      "Feature: 687, Score: 0.11837\n",
      "Feature: 688, Score: 0.04634\n",
      "Feature: 689, Score: -0.20158\n",
      "Feature: 690, Score: 0.32021\n",
      "Feature: 691, Score: -0.59148\n",
      "Feature: 692, Score: 0.08344\n",
      "Feature: 693, Score: 0.70819\n",
      "Feature: 694, Score: 0.37369\n",
      "Feature: 695, Score: 0.52967\n",
      "Feature: 696, Score: -0.31501\n",
      "Feature: 697, Score: 0.18573\n",
      "Feature: 698, Score: -0.05336\n",
      "Feature: 699, Score: -0.03761\n",
      "Feature: 700, Score: 0.18146\n",
      "Feature: 701, Score: 0.38818\n",
      "Feature: 702, Score: 0.51907\n",
      "Feature: 703, Score: 0.27002\n",
      "Feature: 704, Score: 0.41706\n",
      "Feature: 705, Score: -0.11646\n",
      "Feature: 706, Score: -0.06420\n",
      "Feature: 707, Score: -0.12967\n",
      "Feature: 708, Score: 0.14597\n",
      "Feature: 709, Score: 0.28817\n",
      "Feature: 710, Score: -0.12978\n",
      "Feature: 711, Score: 0.14861\n",
      "Feature: 712, Score: 0.13005\n",
      "Feature: 713, Score: -0.44417\n",
      "Feature: 714, Score: -0.03870\n",
      "Feature: 715, Score: 0.25091\n",
      "Feature: 716, Score: -0.33654\n",
      "Feature: 717, Score: 0.31892\n",
      "Feature: 718, Score: -0.04730\n",
      "Feature: 719, Score: 0.24459\n",
      "Feature: 720, Score: 0.25365\n",
      "Feature: 721, Score: 0.03155\n",
      "Feature: 722, Score: 0.19230\n",
      "Feature: 723, Score: 0.79977\n",
      "Feature: 724, Score: -0.26949\n",
      "Feature: 725, Score: -0.40571\n",
      "Feature: 726, Score: -0.38890\n",
      "Feature: 727, Score: -0.05692\n",
      "Feature: 728, Score: 0.43237\n",
      "Feature: 729, Score: 0.57875\n",
      "Feature: 730, Score: -0.11232\n",
      "Feature: 731, Score: -0.35018\n",
      "Feature: 732, Score: -0.25126\n",
      "Feature: 733, Score: -0.14254\n",
      "Feature: 734, Score: -0.10816\n",
      "Feature: 735, Score: -0.13372\n",
      "Feature: 736, Score: -0.04142\n",
      "Feature: 737, Score: -0.25104\n",
      "Feature: 738, Score: 0.48980\n",
      "Feature: 739, Score: -0.54853\n",
      "Feature: 740, Score: -0.20164\n",
      "Feature: 741, Score: 0.03584\n",
      "Feature: 742, Score: 0.40409\n",
      "Feature: 743, Score: -0.05788\n",
      "Feature: 744, Score: 0.57714\n",
      "Feature: 745, Score: 0.30210\n",
      "Feature: 746, Score: -0.74191\n",
      "Feature: 747, Score: 0.55551\n",
      "Feature: 748, Score: 0.17328\n",
      "Feature: 749, Score: 0.17911\n",
      "Feature: 750, Score: 0.28195\n",
      "Feature: 751, Score: -0.54053\n",
      "Feature: 752, Score: -0.18952\n",
      "Feature: 753, Score: 0.17782\n",
      "Feature: 754, Score: 0.21474\n",
      "Feature: 755, Score: -0.30144\n",
      "Feature: 756, Score: 0.02842\n",
      "Feature: 757, Score: 0.24456\n",
      "Feature: 758, Score: 0.28371\n",
      "Feature: 759, Score: -0.08932\n",
      "Feature: 760, Score: 0.51057\n",
      "Feature: 761, Score: 0.15226\n",
      "Feature: 762, Score: -0.25094\n",
      "Feature: 763, Score: 0.11667\n",
      "Feature: 764, Score: -0.31565\n",
      "Feature: 765, Score: -0.13689\n",
      "Feature: 766, Score: 0.65100\n",
      "Feature: 767, Score: -0.45695\n",
      "Feature: 768, Score: 0.11225\n",
      "Feature: 769, Score: 0.36868\n",
      "Feature: 770, Score: 0.36396\n",
      "Feature: 771, Score: -0.58253\n",
      "Feature: 772, Score: -0.52428\n",
      "Feature: 773, Score: 0.58459\n",
      "Feature: 774, Score: -0.24136\n",
      "Feature: 775, Score: -0.11572\n",
      "Feature: 776, Score: 0.37154\n",
      "Feature: 777, Score: -0.25731\n",
      "Feature: 778, Score: 0.44739\n",
      "Feature: 779, Score: -0.40769\n",
      "Feature: 780, Score: -0.72425\n",
      "Feature: 781, Score: -0.70955\n",
      "Feature: 782, Score: -0.46489\n",
      "Feature: 783, Score: -0.09071\n",
      "Feature: 784, Score: 0.42199\n",
      "Feature: 785, Score: -0.59183\n",
      "Feature: 786, Score: -0.12927\n",
      "Feature: 787, Score: -0.02383\n",
      "Feature: 788, Score: -0.26998\n",
      "Feature: 789, Score: -0.03978\n",
      "Feature: 790, Score: 0.00463\n",
      "Feature: 791, Score: -0.37576\n",
      "Feature: 792, Score: -0.28755\n",
      "Feature: 793, Score: -0.45826\n",
      "Feature: 794, Score: 0.13986\n",
      "Feature: 795, Score: -0.02806\n",
      "Feature: 796, Score: 0.33877\n",
      "Feature: 797, Score: 0.21837\n",
      "Feature: 798, Score: -0.57758\n",
      "Feature: 799, Score: 0.13433\n",
      "Feature: 800, Score: -0.46340\n",
      "Feature: 801, Score: -0.72932\n",
      "Feature: 802, Score: -0.61823\n",
      "Feature: 803, Score: -0.03688\n",
      "Feature: 804, Score: -0.21643\n",
      "Feature: 805, Score: -0.09288\n",
      "Feature: 806, Score: 0.29705\n",
      "Feature: 807, Score: -0.73213\n",
      "Feature: 808, Score: 0.17175\n",
      "Feature: 809, Score: -0.33349\n",
      "Feature: 810, Score: 0.07410\n",
      "Feature: 811, Score: -0.12203\n",
      "Feature: 812, Score: -0.32931\n",
      "Feature: 813, Score: -0.14980\n",
      "Feature: 814, Score: -0.01766\n",
      "Feature: 815, Score: 0.08687\n",
      "Feature: 816, Score: 0.09684\n",
      "Feature: 817, Score: 0.37945\n",
      "Feature: 818, Score: -0.21126\n",
      "Feature: 819, Score: -0.13138\n",
      "Feature: 820, Score: -0.16361\n",
      "Feature: 821, Score: 0.34632\n",
      "Feature: 822, Score: -0.15336\n",
      "Feature: 823, Score: -0.72339\n",
      "Feature: 824, Score: -0.18803\n",
      "Feature: 825, Score: -0.33108\n",
      "Feature: 826, Score: 0.66354\n",
      "Feature: 827, Score: 0.17226\n",
      "Feature: 828, Score: 0.01238\n",
      "Feature: 829, Score: 0.71040\n",
      "Feature: 830, Score: 0.13708\n",
      "Feature: 831, Score: -0.43534\n",
      "Feature: 832, Score: 0.37036\n",
      "Feature: 833, Score: -0.24616\n",
      "Feature: 834, Score: 0.47474\n",
      "Feature: 835, Score: 0.05198\n",
      "Feature: 836, Score: -0.30801\n",
      "Feature: 837, Score: 0.12157\n",
      "Feature: 838, Score: -0.35757\n",
      "Feature: 839, Score: -0.40354\n",
      "Feature: 840, Score: 0.08733\n",
      "Feature: 841, Score: -0.50262\n",
      "Feature: 842, Score: -0.87085\n",
      "Feature: 843, Score: -0.05909\n",
      "Feature: 844, Score: -0.33568\n",
      "Feature: 845, Score: -0.08258\n",
      "Feature: 846, Score: -0.21249\n",
      "Feature: 847, Score: 0.18553\n",
      "Feature: 848, Score: -0.33984\n",
      "Feature: 849, Score: 0.65284\n",
      "Feature: 850, Score: -0.66413\n",
      "Feature: 851, Score: -0.10411\n",
      "Feature: 852, Score: -0.06652\n",
      "Feature: 853, Score: -0.16826\n",
      "Feature: 854, Score: -0.07718\n",
      "Feature: 855, Score: -0.58778\n",
      "Feature: 856, Score: 0.19934\n",
      "Feature: 857, Score: 0.26549\n",
      "Feature: 858, Score: -0.06155\n",
      "Feature: 859, Score: -0.44941\n",
      "Feature: 860, Score: -0.08265\n",
      "Feature: 861, Score: -0.05750\n",
      "Feature: 862, Score: 0.00580\n",
      "Feature: 863, Score: -0.00855\n",
      "Feature: 864, Score: -0.42119\n",
      "Feature: 865, Score: -0.10780\n",
      "Feature: 866, Score: -0.13344\n",
      "Feature: 867, Score: -0.30253\n",
      "Feature: 868, Score: 0.63709\n",
      "Feature: 869, Score: 0.09382\n",
      "Feature: 870, Score: 0.35314\n",
      "Feature: 871, Score: -0.25469\n",
      "Feature: 872, Score: 0.19087\n",
      "Feature: 873, Score: 0.15786\n",
      "Feature: 874, Score: 0.61080\n",
      "Feature: 875, Score: 0.21912\n",
      "Feature: 876, Score: -0.02699\n",
      "Feature: 877, Score: -0.05296\n",
      "Feature: 878, Score: -0.12466\n",
      "Feature: 879, Score: 0.22933\n",
      "Feature: 880, Score: -0.28842\n",
      "Feature: 881, Score: -0.03505\n",
      "Feature: 882, Score: 0.22020\n",
      "Feature: 883, Score: 0.14994\n",
      "Feature: 884, Score: 0.15338\n",
      "Feature: 885, Score: 0.33268\n",
      "Feature: 886, Score: 0.28512\n",
      "Feature: 887, Score: 0.24732\n",
      "Feature: 888, Score: -0.26554\n",
      "Feature: 889, Score: -0.93349\n",
      "Feature: 890, Score: 0.43452\n",
      "Feature: 891, Score: -0.16241\n",
      "Feature: 892, Score: -0.08384\n",
      "Feature: 893, Score: 0.10017\n",
      "Feature: 894, Score: -0.30458\n",
      "Feature: 895, Score: 0.59478\n",
      "Feature: 896, Score: -0.13696\n",
      "Feature: 897, Score: -0.29455\n",
      "Feature: 898, Score: 0.00210\n",
      "Feature: 899, Score: -0.16864\n",
      "Feature: 900, Score: -0.40045\n",
      "Feature: 901, Score: -0.14101\n",
      "Feature: 902, Score: -0.70290\n",
      "Feature: 903, Score: -0.30273\n",
      "Feature: 904, Score: -0.49875\n",
      "Feature: 905, Score: -0.33602\n",
      "Feature: 906, Score: 0.13396\n",
      "Feature: 907, Score: -0.43830\n",
      "Feature: 908, Score: 0.01445\n",
      "Feature: 909, Score: -0.32840\n",
      "Feature: 910, Score: 0.02284\n",
      "Feature: 911, Score: -0.09639\n",
      "Feature: 912, Score: 0.19583\n",
      "Feature: 913, Score: 0.17193\n",
      "Feature: 914, Score: 0.06249\n",
      "Feature: 915, Score: -0.05186\n",
      "Feature: 916, Score: 0.44610\n",
      "Feature: 917, Score: 0.22367\n",
      "Feature: 918, Score: 0.22024\n",
      "Feature: 919, Score: -0.12790\n",
      "Feature: 920, Score: -0.03781\n",
      "Feature: 921, Score: -0.05634\n",
      "Feature: 922, Score: -0.82847\n",
      "Feature: 923, Score: -0.44979\n",
      "Feature: 924, Score: 0.04840\n",
      "Feature: 925, Score: 0.50084\n",
      "Feature: 926, Score: -0.06853\n",
      "Feature: 927, Score: -0.25796\n",
      "Feature: 928, Score: 0.04511\n",
      "Feature: 929, Score: -0.03583\n",
      "Feature: 930, Score: -0.19329\n",
      "Feature: 931, Score: -0.39648\n",
      "Feature: 932, Score: -0.07566\n",
      "Feature: 933, Score: -0.03569\n",
      "Feature: 934, Score: -0.07651\n",
      "Feature: 935, Score: -0.52711\n",
      "Feature: 936, Score: 0.34403\n",
      "Feature: 937, Score: 0.53809\n",
      "Feature: 938, Score: 0.04502\n",
      "Feature: 939, Score: -0.63210\n",
      "Feature: 940, Score: 0.08865\n",
      "Feature: 941, Score: 0.03963\n",
      "Feature: 942, Score: -0.29077\n",
      "Feature: 943, Score: -0.21517\n",
      "Feature: 944, Score: 0.24701\n",
      "Feature: 945, Score: 0.17750\n",
      "Feature: 946, Score: -0.11579\n",
      "Feature: 947, Score: 0.23122\n",
      "Feature: 948, Score: -0.57052\n",
      "Feature: 949, Score: 0.23274\n",
      "Feature: 950, Score: 0.22316\n",
      "Feature: 951, Score: -0.25399\n",
      "Feature: 952, Score: 0.49131\n",
      "Feature: 953, Score: 0.36742\n",
      "Feature: 954, Score: 0.23777\n",
      "Feature: 955, Score: -0.10910\n",
      "Feature: 956, Score: -0.04738\n",
      "Feature: 957, Score: 0.29505\n",
      "Feature: 958, Score: 0.11660\n",
      "Feature: 959, Score: -0.03786\n",
      "Feature: 960, Score: 0.38488\n",
      "Feature: 961, Score: -0.05960\n",
      "Feature: 962, Score: -0.26939\n",
      "Feature: 963, Score: -0.23498\n",
      "Feature: 964, Score: -0.04983\n",
      "Feature: 965, Score: 0.08978\n",
      "Feature: 966, Score: 0.18993\n",
      "Feature: 967, Score: 0.23561\n",
      "Feature: 968, Score: -0.08243\n",
      "Feature: 969, Score: -0.01380\n",
      "Feature: 970, Score: -0.24233\n",
      "Feature: 971, Score: -0.01060\n",
      "Feature: 972, Score: -0.14072\n",
      "Feature: 973, Score: -0.47321\n",
      "Feature: 974, Score: 0.22578\n",
      "Feature: 975, Score: 0.07461\n",
      "Feature: 976, Score: -0.17208\n",
      "Feature: 977, Score: 0.82683\n",
      "Feature: 978, Score: -0.13000\n",
      "Feature: 979, Score: -0.69876\n",
      "Feature: 980, Score: -0.03144\n",
      "Feature: 981, Score: -0.46786\n",
      "Feature: 982, Score: -0.09561\n",
      "Feature: 983, Score: 0.02774\n",
      "Feature: 984, Score: -0.40322\n",
      "Feature: 985, Score: 0.27174\n",
      "Feature: 986, Score: 0.39182\n",
      "Feature: 987, Score: 1.04803\n",
      "Feature: 988, Score: -0.17438\n",
      "Feature: 989, Score: -0.02576\n",
      "Feature: 990, Score: -0.21009\n",
      "Feature: 991, Score: 0.14791\n",
      "Feature: 992, Score: 0.28671\n",
      "Feature: 993, Score: -0.54779\n",
      "Feature: 994, Score: 0.19546\n",
      "Feature: 995, Score: 0.43994\n",
      "Feature: 996, Score: -0.07370\n",
      "Feature: 997, Score: 0.38090\n",
      "Feature: 998, Score: 0.14183\n",
      "Feature: 999, Score: -0.02908\n",
      "Feature: 1000, Score: 0.27315\n",
      "Feature: 1001, Score: 0.08462\n",
      "Feature: 1002, Score: 0.51016\n",
      "Feature: 1003, Score: 0.05926\n",
      "Feature: 1004, Score: 0.18935\n",
      "Feature: 1005, Score: 0.50695\n",
      "Feature: 1006, Score: 0.16478\n",
      "Feature: 1007, Score: 0.20426\n",
      "Feature: 1008, Score: -0.36655\n",
      "Feature: 1009, Score: -0.12665\n",
      "Feature: 1010, Score: -0.13542\n",
      "Feature: 1011, Score: -0.23472\n",
      "Feature: 1012, Score: -0.08381\n",
      "Feature: 1013, Score: 0.05747\n",
      "Feature: 1014, Score: 0.43998\n",
      "Feature: 1015, Score: 0.08212\n",
      "Feature: 1016, Score: -0.28486\n",
      "Feature: 1017, Score: 0.98607\n",
      "Feature: 1018, Score: -0.04672\n",
      "Feature: 1019, Score: 0.35827\n",
      "Feature: 1020, Score: 0.20225\n",
      "Feature: 1021, Score: 0.46999\n",
      "Feature: 1022, Score: -0.29698\n",
      "Feature: 1023, Score: 0.32514\n",
      "Feature: 1024, Score: 0.44770\n",
      "Feature: 1025, Score: 0.95707\n",
      "Feature: 1026, Score: 0.26204\n",
      "Feature: 1027, Score: 0.01602\n",
      "Feature: 1028, Score: 0.09103\n",
      "Feature: 1029, Score: -0.27175\n",
      "Feature: 1030, Score: -0.00877\n",
      "Feature: 1031, Score: -0.08609\n",
      "Feature: 1032, Score: 0.16458\n",
      "Feature: 1033, Score: -0.35123\n",
      "Feature: 1034, Score: -0.53054\n",
      "Feature: 1035, Score: 0.12569\n",
      "Feature: 1036, Score: -0.16695\n",
      "Feature: 1037, Score: -0.02104\n",
      "Feature: 1038, Score: -0.10213\n",
      "Feature: 1039, Score: 0.46023\n",
      "Feature: 1040, Score: -0.21621\n",
      "Feature: 1041, Score: 0.01625\n",
      "Feature: 1042, Score: 0.99631\n",
      "Feature: 1043, Score: -0.63338\n",
      "Feature: 1044, Score: 0.26370\n",
      "Feature: 1045, Score: 0.36272\n",
      "Feature: 1046, Score: -0.54947\n",
      "Feature: 1047, Score: 0.15589\n",
      "Feature: 1048, Score: 0.02281\n",
      "Feature: 1049, Score: 0.99165\n",
      "Feature: 1050, Score: -0.16780\n",
      "Feature: 1051, Score: 0.17465\n",
      "Feature: 1052, Score: -0.03833\n",
      "Feature: 1053, Score: -0.10530\n",
      "Feature: 1054, Score: -0.24620\n",
      "Feature: 1055, Score: 0.09804\n",
      "Feature: 1056, Score: -0.36041\n",
      "Feature: 1057, Score: -0.00395\n",
      "Feature: 1058, Score: 0.40324\n",
      "Feature: 1059, Score: -0.14278\n",
      "Feature: 1060, Score: 0.11980\n",
      "Feature: 1061, Score: -0.16037\n",
      "Feature: 1062, Score: 0.16758\n",
      "Feature: 1063, Score: 0.22821\n",
      "Feature: 1064, Score: 0.07718\n",
      "Feature: 1065, Score: 0.41324\n",
      "Feature: 1066, Score: -0.06257\n",
      "Feature: 1067, Score: 0.50256\n",
      "Feature: 1068, Score: 0.21317\n",
      "Feature: 1069, Score: -0.11603\n",
      "Feature: 1070, Score: -0.00967\n",
      "Feature: 1071, Score: 0.32043\n",
      "Feature: 1072, Score: -0.56678\n",
      "Feature: 1073, Score: -0.33727\n",
      "Feature: 1074, Score: -0.11356\n",
      "Feature: 1075, Score: 0.49749\n",
      "Feature: 1076, Score: -0.07522\n",
      "Feature: 1077, Score: -0.05939\n",
      "Feature: 1078, Score: 0.14023\n",
      "Feature: 1079, Score: 0.21745\n",
      "Feature: 1080, Score: -0.02175\n",
      "Feature: 1081, Score: -0.19994\n",
      "Feature: 1082, Score: 0.09536\n",
      "Feature: 1083, Score: -0.21382\n",
      "Feature: 1084, Score: -0.21333\n",
      "Feature: 1085, Score: 0.04273\n",
      "Feature: 1086, Score: -0.27192\n",
      "Feature: 1087, Score: -0.20604\n",
      "Feature: 1088, Score: -0.25026\n",
      "Feature: 1089, Score: 0.43558\n",
      "Feature: 1090, Score: -0.33041\n",
      "Feature: 1091, Score: -0.03113\n",
      "Feature: 1092, Score: -0.14688\n",
      "Feature: 1093, Score: -0.43679\n",
      "Feature: 1094, Score: -0.20795\n",
      "Feature: 1095, Score: -0.07504\n",
      "Feature: 1096, Score: 0.25958\n",
      "Feature: 1097, Score: 0.27943\n",
      "Feature: 1098, Score: -0.10330\n",
      "Feature: 1099, Score: -0.06805\n",
      "Feature: 1100, Score: -0.18809\n",
      "Feature: 1101, Score: -0.58303\n",
      "Feature: 1102, Score: 0.23406\n",
      "Feature: 1103, Score: -0.26871\n",
      "Feature: 1104, Score: 0.05027\n",
      "Feature: 1105, Score: 0.12500\n",
      "Feature: 1106, Score: 0.29769\n",
      "Feature: 1107, Score: -0.31227\n",
      "Feature: 1108, Score: 0.34167\n",
      "Feature: 1109, Score: 0.18889\n",
      "Feature: 1110, Score: -0.07740\n",
      "Feature: 1111, Score: 0.02066\n",
      "Feature: 1112, Score: -0.27803\n",
      "Feature: 1113, Score: -0.21254\n",
      "Feature: 1114, Score: -0.51824\n",
      "Feature: 1115, Score: 0.30107\n",
      "Feature: 1116, Score: 0.37755\n",
      "Feature: 1117, Score: -0.23280\n",
      "Feature: 1118, Score: -0.00066\n",
      "Feature: 1119, Score: -0.12257\n",
      "Feature: 1120, Score: 0.56140\n",
      "Feature: 1121, Score: 0.36047\n",
      "Feature: 1122, Score: 0.60011\n",
      "Feature: 1123, Score: 0.25863\n",
      "Feature: 1124, Score: 0.15074\n",
      "Feature: 1125, Score: 0.04666\n",
      "Feature: 1126, Score: 0.14721\n",
      "Feature: 1127, Score: -0.31180\n",
      "Feature: 1128, Score: 0.05329\n",
      "Feature: 1129, Score: 0.43504\n",
      "Feature: 1130, Score: -0.30679\n",
      "Feature: 1131, Score: 0.02839\n",
      "Feature: 1132, Score: 0.21694\n",
      "Feature: 1133, Score: -0.15345\n",
      "Feature: 1134, Score: 0.31251\n",
      "Feature: 1135, Score: 0.63735\n",
      "Feature: 1136, Score: -0.19448\n",
      "Feature: 1137, Score: 0.31446\n",
      "Feature: 1138, Score: -0.08654\n",
      "Feature: 1139, Score: -0.34690\n",
      "Feature: 1140, Score: 0.06298\n",
      "Feature: 1141, Score: 0.09536\n",
      "Feature: 1142, Score: 0.36853\n",
      "Feature: 1143, Score: 0.23257\n",
      "Feature: 1144, Score: 0.09848\n",
      "Feature: 1145, Score: 0.16066\n",
      "Feature: 1146, Score: -0.04573\n",
      "Feature: 1147, Score: 0.22197\n",
      "Feature: 1148, Score: 0.18729\n",
      "Feature: 1149, Score: -0.01750\n",
      "Feature: 1150, Score: -0.18851\n",
      "Feature: 1151, Score: 0.03199\n",
      "Feature: 1152, Score: -0.30910\n",
      "Feature: 1153, Score: 0.38368\n",
      "Feature: 1154, Score: -0.07752\n",
      "Feature: 1155, Score: 0.10497\n",
      "Feature: 1156, Score: 0.11107\n",
      "Feature: 1157, Score: -0.34646\n",
      "Feature: 1158, Score: 0.63019\n",
      "Feature: 1159, Score: -0.13864\n",
      "Feature: 1160, Score: 0.07979\n",
      "Feature: 1161, Score: 0.51475\n",
      "Feature: 1162, Score: 0.71551\n",
      "Feature: 1163, Score: -0.17597\n",
      "Feature: 1164, Score: 0.01213\n",
      "Feature: 1165, Score: 0.51437\n",
      "Feature: 1166, Score: -0.21001\n",
      "Feature: 1167, Score: 0.44640\n",
      "Feature: 1168, Score: 0.31734\n",
      "Feature: 1169, Score: -0.13805\n",
      "Feature: 1170, Score: 0.14304\n",
      "Feature: 1171, Score: -0.47548\n",
      "Feature: 1172, Score: -0.50935\n",
      "Feature: 1173, Score: 0.85494\n",
      "Feature: 1174, Score: -0.08498\n",
      "Feature: 1175, Score: -0.40085\n",
      "Feature: 1176, Score: -0.02304\n",
      "Feature: 1177, Score: -0.69018\n",
      "Feature: 1178, Score: -0.35138\n",
      "Feature: 1179, Score: 0.49487\n",
      "Feature: 1180, Score: -0.05733\n",
      "Feature: 1181, Score: -0.32184\n",
      "Feature: 1182, Score: 0.28924\n",
      "Feature: 1183, Score: -0.76777\n",
      "Feature: 1184, Score: 0.16386\n",
      "Feature: 1185, Score: 0.02542\n",
      "Feature: 1186, Score: 0.37536\n",
      "Feature: 1187, Score: -0.35897\n",
      "Feature: 1188, Score: 0.06020\n",
      "Feature: 1189, Score: 0.75588\n",
      "Feature: 1190, Score: 0.26296\n",
      "Feature: 1191, Score: -0.31742\n",
      "Feature: 1192, Score: 0.13145\n",
      "Feature: 1193, Score: -0.07990\n",
      "Feature: 1194, Score: 0.19234\n",
      "Feature: 1195, Score: 0.13830\n",
      "Feature: 1196, Score: 0.11346\n",
      "Feature: 1197, Score: 0.03142\n",
      "Feature: 1198, Score: 0.09368\n",
      "Feature: 1199, Score: -0.26398\n",
      "Feature: 1200, Score: -0.26368\n",
      "Feature: 1201, Score: -1.15560\n",
      "Feature: 1202, Score: -0.33787\n",
      "Feature: 1203, Score: -0.12279\n",
      "Feature: 1204, Score: 0.08980\n",
      "Feature: 1205, Score: -0.84286\n",
      "Feature: 1206, Score: -0.07692\n",
      "Feature: 1207, Score: -0.20603\n",
      "Feature: 1208, Score: -0.25188\n",
      "Feature: 1209, Score: -0.02184\n",
      "Feature: 1210, Score: -0.04537\n",
      "Feature: 1211, Score: -0.26246\n",
      "Feature: 1212, Score: 0.29761\n",
      "Feature: 1213, Score: 0.00949\n",
      "Feature: 1214, Score: 0.63969\n",
      "Feature: 1215, Score: -0.15254\n",
      "Feature: 1216, Score: 0.22808\n",
      "Feature: 1217, Score: 0.01989\n",
      "Feature: 1218, Score: -0.28364\n",
      "Feature: 1219, Score: -0.15438\n",
      "Feature: 1220, Score: -0.74204\n",
      "Feature: 1221, Score: 0.03367\n",
      "Feature: 1222, Score: -0.44711\n",
      "Feature: 1223, Score: 0.63431\n",
      "Feature: 1224, Score: -0.22596\n",
      "Feature: 1225, Score: -0.04332\n",
      "Feature: 1226, Score: -0.07811\n",
      "Feature: 1227, Score: -0.51523\n",
      "Feature: 1228, Score: -0.69749\n",
      "Feature: 1229, Score: 0.56950\n",
      "Feature: 1230, Score: -0.31531\n",
      "Feature: 1231, Score: 0.07713\n",
      "Feature: 1232, Score: 0.12958\n",
      "Feature: 1233, Score: 0.10730\n",
      "Feature: 1234, Score: -0.27571\n",
      "Feature: 1235, Score: -0.68759\n",
      "Feature: 1236, Score: 0.76817\n",
      "Feature: 1237, Score: 0.49078\n",
      "Feature: 1238, Score: 0.58286\n",
      "Feature: 1239, Score: 0.03930\n",
      "Feature: 1240, Score: 0.14090\n",
      "Feature: 1241, Score: -0.06365\n",
      "Feature: 1242, Score: 0.00193\n",
      "Feature: 1243, Score: 0.01676\n",
      "Feature: 1244, Score: -0.07554\n",
      "Feature: 1245, Score: -0.22289\n",
      "Feature: 1246, Score: 0.12018\n",
      "Feature: 1247, Score: -0.32745\n",
      "Feature: 1248, Score: -0.00770\n",
      "Feature: 1249, Score: 0.33389\n",
      "Feature: 1250, Score: -0.11150\n",
      "Feature: 1251, Score: -0.10288\n",
      "Feature: 1252, Score: -0.31086\n",
      "Feature: 1253, Score: -0.53427\n",
      "Feature: 1254, Score: 0.26214\n",
      "Feature: 1255, Score: -0.54010\n",
      "Feature: 1256, Score: 0.15819\n",
      "Feature: 1257, Score: 0.03380\n",
      "Feature: 1258, Score: -0.06466\n",
      "Feature: 1259, Score: 0.38286\n",
      "Feature: 1260, Score: 0.05049\n",
      "Feature: 1261, Score: 0.04382\n",
      "Feature: 1262, Score: -0.13389\n",
      "Feature: 1263, Score: -0.11393\n",
      "Feature: 1264, Score: -0.10668\n",
      "Feature: 1265, Score: 0.41806\n",
      "Feature: 1266, Score: 0.17729\n",
      "Feature: 1267, Score: -0.43333\n",
      "Feature: 1268, Score: 0.27403\n",
      "Feature: 1269, Score: -0.00938\n",
      "Feature: 1270, Score: -0.27972\n",
      "Feature: 1271, Score: -0.52120\n",
      "Feature: 1272, Score: -0.57215\n",
      "Feature: 1273, Score: -0.77109\n",
      "Feature: 1274, Score: -0.14964\n",
      "Feature: 1275, Score: -0.40729\n",
      "Feature: 1276, Score: 0.50081\n",
      "Feature: 1277, Score: 0.55349\n",
      "Feature: 1278, Score: 0.06617\n",
      "Feature: 1279, Score: -0.53587\n",
      "Feature: 1280, Score: -0.18489\n",
      "Feature: 1281, Score: 0.26834\n",
      "Feature: 1282, Score: -0.36225\n",
      "Feature: 1283, Score: -0.36598\n",
      "Feature: 1284, Score: -0.25366\n",
      "Feature: 1285, Score: -0.49532\n",
      "Feature: 1286, Score: 0.12983\n",
      "Feature: 1287, Score: -0.25381\n",
      "Feature: 1288, Score: 0.39706\n",
      "Feature: 1289, Score: 0.44972\n",
      "Feature: 1290, Score: -0.22103\n",
      "Feature: 1291, Score: -0.48856\n",
      "Feature: 1292, Score: -0.32377\n",
      "Feature: 1293, Score: -0.07798\n",
      "Feature: 1294, Score: -0.32422\n",
      "Feature: 1295, Score: 0.39085\n",
      "Feature: 1296, Score: 0.02091\n",
      "Feature: 1297, Score: -1.08662\n",
      "Feature: 1298, Score: -0.04569\n",
      "Feature: 1299, Score: 0.06702\n",
      "Feature: 1300, Score: -0.29037\n",
      "Feature: 1301, Score: -0.23111\n",
      "Feature: 1302, Score: 0.17107\n",
      "Feature: 1303, Score: -0.38513\n",
      "Feature: 1304, Score: -0.03587\n",
      "Feature: 1305, Score: 0.39899\n",
      "Feature: 1306, Score: -0.24008\n",
      "Feature: 1307, Score: 0.37680\n",
      "Feature: 1308, Score: 0.16192\n",
      "Feature: 1309, Score: -0.26027\n",
      "Feature: 1310, Score: 0.16081\n",
      "Feature: 1311, Score: -0.03287\n",
      "Feature: 1312, Score: 0.32846\n",
      "Feature: 1313, Score: 0.01557\n",
      "Feature: 1314, Score: 0.28943\n",
      "Feature: 1315, Score: -0.49690\n",
      "Feature: 1316, Score: 0.44112\n",
      "Feature: 1317, Score: -0.18870\n",
      "Feature: 1318, Score: 0.26216\n",
      "Feature: 1319, Score: -0.47481\n",
      "Feature: 1320, Score: -0.29268\n",
      "Feature: 1321, Score: 0.55103\n",
      "Feature: 1322, Score: 0.22914\n",
      "Feature: 1323, Score: 0.42125\n",
      "Feature: 1324, Score: 0.30154\n",
      "Feature: 1325, Score: 0.04893\n",
      "Feature: 1326, Score: 0.17979\n",
      "Feature: 1327, Score: -0.12583\n",
      "Feature: 1328, Score: -0.15975\n",
      "Feature: 1329, Score: 0.41510\n",
      "Feature: 1330, Score: -0.06893\n",
      "Feature: 1331, Score: -0.17159\n",
      "Feature: 1332, Score: -0.26290\n",
      "Feature: 1333, Score: 1.23668\n",
      "Feature: 1334, Score: -0.06341\n",
      "Feature: 1335, Score: 0.19538\n",
      "Feature: 1336, Score: 0.12546\n",
      "Feature: 1337, Score: -0.19310\n",
      "Feature: 1338, Score: 0.24816\n",
      "Feature: 1339, Score: 0.21265\n",
      "Feature: 1340, Score: 0.15297\n",
      "Feature: 1341, Score: -0.14592\n",
      "Feature: 1342, Score: 0.28087\n",
      "Feature: 1343, Score: -0.07097\n",
      "Feature: 1344, Score: -0.09076\n",
      "Feature: 1345, Score: -0.11585\n",
      "Feature: 1346, Score: -0.28003\n",
      "Feature: 1347, Score: -0.09486\n",
      "Feature: 1348, Score: 0.21564\n",
      "Feature: 1349, Score: 0.43733\n",
      "Feature: 1350, Score: 0.48251\n",
      "Feature: 1351, Score: -0.06268\n",
      "Feature: 1352, Score: -0.64849\n",
      "Feature: 1353, Score: -0.27250\n",
      "Feature: 1354, Score: 0.39137\n",
      "Feature: 1355, Score: 0.27519\n",
      "Feature: 1356, Score: -0.39661\n",
      "Feature: 1357, Score: 0.98910\n",
      "Feature: 1358, Score: 0.09216\n",
      "Feature: 1359, Score: -0.56922\n",
      "Feature: 1360, Score: -0.72275\n",
      "Feature: 1361, Score: 0.77612\n",
      "Feature: 1362, Score: 0.18947\n",
      "Feature: 1363, Score: -0.18893\n",
      "Feature: 1364, Score: 0.34214\n",
      "Feature: 1365, Score: 0.24515\n",
      "Feature: 1366, Score: -0.36965\n",
      "Feature: 1367, Score: 0.02630\n",
      "Feature: 1368, Score: 0.62702\n",
      "Feature: 1369, Score: 0.45902\n",
      "Feature: 1370, Score: 0.11559\n",
      "Feature: 1371, Score: 0.53980\n",
      "Feature: 1372, Score: -0.83193\n",
      "Feature: 1373, Score: -0.73302\n",
      "Feature: 1374, Score: -0.10403\n",
      "Feature: 1375, Score: 0.03842\n",
      "Feature: 1376, Score: -0.43423\n",
      "Feature: 1377, Score: 0.20804\n",
      "Feature: 1378, Score: -0.06190\n",
      "Feature: 1379, Score: -0.36427\n",
      "Feature: 1380, Score: -0.32830\n",
      "Feature: 1381, Score: 0.14968\n",
      "Feature: 1382, Score: 0.01724\n",
      "Feature: 1383, Score: -0.34679\n",
      "Feature: 1384, Score: 0.73776\n",
      "Feature: 1385, Score: 0.04623\n",
      "Feature: 1386, Score: -0.01239\n",
      "Feature: 1387, Score: 0.33493\n",
      "Feature: 1388, Score: 0.05101\n",
      "Feature: 1389, Score: 0.24607\n",
      "Feature: 1390, Score: -0.06087\n",
      "Feature: 1391, Score: 0.11005\n",
      "Feature: 1392, Score: 0.10538\n",
      "Feature: 1393, Score: -0.23644\n",
      "Feature: 1394, Score: -0.46234\n",
      "Feature: 1395, Score: -0.06359\n",
      "Feature: 1396, Score: -0.06273\n",
      "Feature: 1397, Score: 0.12607\n",
      "Feature: 1398, Score: -0.01863\n",
      "Feature: 1399, Score: 1.07877\n",
      "Feature: 1400, Score: -0.23321\n",
      "Feature: 1401, Score: -0.41868\n",
      "Feature: 1402, Score: -0.14671\n",
      "Feature: 1403, Score: 0.01397\n",
      "Feature: 1404, Score: 0.43483\n",
      "Feature: 1405, Score: -0.30571\n",
      "Feature: 1406, Score: -0.03629\n",
      "Feature: 1407, Score: 0.25469\n",
      "Feature: 1408, Score: -0.27578\n",
      "Feature: 1409, Score: 0.33865\n",
      "Feature: 1410, Score: 0.04196\n",
      "Feature: 1411, Score: 0.11647\n",
      "Feature: 1412, Score: -0.20272\n",
      "Feature: 1413, Score: -0.24243\n",
      "Feature: 1414, Score: 0.15437\n",
      "Feature: 1415, Score: -0.14422\n",
      "Feature: 1416, Score: 0.10748\n",
      "Feature: 1417, Score: 0.26805\n",
      "Feature: 1418, Score: 0.13601\n",
      "Feature: 1419, Score: -0.37776\n",
      "Feature: 1420, Score: 0.63829\n",
      "Feature: 1421, Score: -0.17247\n",
      "Feature: 1422, Score: -0.10834\n",
      "Feature: 1423, Score: 0.33841\n",
      "Feature: 1424, Score: -0.36176\n",
      "Feature: 1425, Score: 0.26144\n",
      "Feature: 1426, Score: 0.58177\n",
      "Feature: 1427, Score: -0.19747\n",
      "Feature: 1428, Score: -0.18877\n",
      "Feature: 1429, Score: 0.19733\n",
      "Feature: 1430, Score: 0.08548\n",
      "Feature: 1431, Score: -0.40423\n",
      "Feature: 1432, Score: 0.00133\n",
      "Feature: 1433, Score: 0.15337\n",
      "Feature: 1434, Score: -0.15302\n",
      "Feature: 1435, Score: -0.23182\n",
      "Feature: 1436, Score: 0.13814\n",
      "Feature: 1437, Score: -0.34710\n",
      "Feature: 1438, Score: 0.40917\n",
      "Feature: 1439, Score: 0.29523\n",
      "Feature: 1440, Score: 0.18486\n",
      "Feature: 1441, Score: -0.21582\n",
      "Feature: 1442, Score: 0.47546\n",
      "Feature: 1443, Score: -0.96379\n",
      "Feature: 1444, Score: 0.08998\n",
      "Feature: 1445, Score: -0.87384\n",
      "Feature: 1446, Score: 0.22396\n",
      "Feature: 1447, Score: 0.28205\n",
      "Feature: 1448, Score: -0.49759\n",
      "Feature: 1449, Score: -0.56817\n",
      "Feature: 1450, Score: -0.08024\n",
      "Feature: 1451, Score: -0.42614\n",
      "Feature: 1452, Score: 0.48353\n",
      "Feature: 1453, Score: 0.20289\n",
      "Feature: 1454, Score: 0.47048\n",
      "Feature: 1455, Score: -0.44960\n",
      "Feature: 1456, Score: 0.88292\n",
      "Feature: 1457, Score: 0.33231\n",
      "Feature: 1458, Score: 0.46117\n",
      "Feature: 1459, Score: -0.12286\n",
      "Feature: 1460, Score: 0.23205\n",
      "Feature: 1461, Score: -0.56092\n",
      "Feature: 1462, Score: 0.40777\n",
      "Feature: 1463, Score: 0.36132\n",
      "Feature: 1464, Score: -0.17424\n",
      "Feature: 1465, Score: 0.05633\n",
      "Feature: 1466, Score: -0.11186\n",
      "Feature: 1467, Score: 0.38076\n",
      "Feature: 1468, Score: 0.05626\n",
      "Feature: 1469, Score: -0.15990\n",
      "Feature: 1470, Score: -0.20056\n",
      "Feature: 1471, Score: -0.07532\n",
      "Feature: 1472, Score: 0.22568\n",
      "Feature: 1473, Score: -0.17311\n",
      "Feature: 1474, Score: 0.09691\n",
      "Feature: 1475, Score: 0.04720\n",
      "Feature: 1476, Score: 0.17601\n",
      "Feature: 1477, Score: -0.54756\n",
      "Feature: 1478, Score: -0.23626\n",
      "Feature: 1479, Score: -0.61776\n",
      "Feature: 1480, Score: -0.03229\n",
      "Feature: 1481, Score: -0.75224\n",
      "Feature: 1482, Score: -0.51818\n",
      "Feature: 1483, Score: -0.16907\n",
      "Feature: 1484, Score: 0.17439\n",
      "Feature: 1485, Score: -0.08334\n",
      "Feature: 1486, Score: 0.44211\n",
      "Feature: 1487, Score: 0.81149\n",
      "Feature: 1488, Score: -0.56748\n",
      "Feature: 1489, Score: -0.19236\n",
      "Feature: 1490, Score: -0.07363\n",
      "Feature: 1491, Score: -0.25353\n",
      "Feature: 1492, Score: -0.28129\n",
      "Feature: 1493, Score: -0.17672\n",
      "Feature: 1494, Score: 0.05441\n",
      "Feature: 1495, Score: -0.59606\n",
      "Feature: 1496, Score: 0.19851\n",
      "Feature: 1497, Score: -0.28711\n",
      "Feature: 1498, Score: 0.21005\n",
      "Feature: 1499, Score: 0.11800\n",
      "Feature: 1500, Score: 0.34983\n",
      "Feature: 1501, Score: -0.12330\n",
      "Feature: 1502, Score: -0.78403\n",
      "Feature: 1503, Score: -0.10016\n",
      "Feature: 1504, Score: -0.24457\n",
      "Feature: 1505, Score: 0.19756\n",
      "Feature: 1506, Score: -0.67120\n",
      "Feature: 1507, Score: 0.11361\n",
      "Feature: 1508, Score: -0.21379\n",
      "Feature: 1509, Score: 0.53201\n",
      "Feature: 1510, Score: -0.01131\n",
      "Feature: 1511, Score: -0.13725\n",
      "Feature: 1512, Score: 0.18300\n",
      "Feature: 1513, Score: -0.01081\n",
      "Feature: 1514, Score: -0.03790\n",
      "Feature: 1515, Score: 0.14662\n",
      "Feature: 1516, Score: 0.15323\n",
      "Feature: 1517, Score: 0.23214\n",
      "Feature: 1518, Score: 0.27457\n",
      "Feature: 1519, Score: 0.32414\n",
      "Feature: 1520, Score: 0.43248\n",
      "Feature: 1521, Score: -0.08772\n",
      "Feature: 1522, Score: 0.10699\n",
      "Feature: 1523, Score: 0.44460\n",
      "Feature: 1524, Score: 0.24713\n",
      "Feature: 1525, Score: 0.05102\n",
      "Feature: 1526, Score: 0.15825\n",
      "Feature: 1527, Score: -0.32527\n",
      "Feature: 1528, Score: -0.32138\n",
      "Feature: 1529, Score: -0.12697\n",
      "Feature: 1530, Score: 0.45586\n",
      "Feature: 1531, Score: -0.29928\n",
      "Feature: 1532, Score: -0.06465\n",
      "Feature: 1533, Score: 0.09074\n",
      "Feature: 1534, Score: -0.32610\n",
      "Feature: 1535, Score: 0.04444\n",
      "Feature: 1536, Score: -0.04758\n",
      "Feature: 1537, Score: 0.09090\n",
      "Feature: 1538, Score: 0.07408\n",
      "Feature: 1539, Score: 0.48797\n",
      "Feature: 1540, Score: 0.19653\n",
      "Feature: 1541, Score: -0.29098\n",
      "Feature: 1542, Score: -0.00840\n",
      "Feature: 1543, Score: -0.31891\n",
      "Feature: 1544, Score: -0.34663\n",
      "Feature: 1545, Score: 0.26026\n",
      "Feature: 1546, Score: -0.39668\n",
      "Feature: 1547, Score: -0.56181\n",
      "Feature: 1548, Score: 0.22127\n",
      "Feature: 1549, Score: -0.41548\n",
      "Feature: 1550, Score: 0.10899\n",
      "Feature: 1551, Score: 0.18533\n",
      "Feature: 1552, Score: -0.38062\n",
      "Feature: 1553, Score: 0.50815\n",
      "Feature: 1554, Score: -0.13646\n",
      "Feature: 1555, Score: -0.12812\n",
      "Feature: 1556, Score: -0.00062\n",
      "Feature: 1557, Score: 0.13580\n",
      "Feature: 1558, Score: -0.24458\n",
      "Feature: 1559, Score: 0.07112\n",
      "Feature: 1560, Score: 0.01464\n",
      "Feature: 1561, Score: -0.89934\n",
      "Feature: 1562, Score: -0.52151\n",
      "Feature: 1563, Score: 0.39581\n",
      "Feature: 1564, Score: -0.15019\n",
      "Feature: 1565, Score: 0.54827\n",
      "Feature: 1566, Score: -0.03352\n",
      "Feature: 1567, Score: 0.35185\n",
      "Feature: 1568, Score: -0.02526\n",
      "Feature: 1569, Score: -0.38671\n",
      "Feature: 1570, Score: -0.13368\n",
      "Feature: 1571, Score: 0.07896\n",
      "Feature: 1572, Score: -0.45501\n",
      "Feature: 1573, Score: 0.00362\n",
      "Feature: 1574, Score: -0.15537\n",
      "Feature: 1575, Score: 0.03154\n",
      "Feature: 1576, Score: -0.07241\n",
      "Feature: 1577, Score: -0.21716\n",
      "Feature: 1578, Score: 0.05883\n",
      "Feature: 1579, Score: -0.13966\n",
      "Feature: 1580, Score: -0.00442\n",
      "Feature: 1581, Score: -0.18751\n",
      "Feature: 1582, Score: -0.17098\n",
      "Feature: 1583, Score: -0.03045\n",
      "Feature: 1584, Score: 0.21187\n",
      "Feature: 1585, Score: 0.80082\n",
      "Feature: 1586, Score: -0.25487\n",
      "Feature: 1587, Score: 0.33883\n",
      "Feature: 1588, Score: -0.31300\n",
      "Feature: 1589, Score: 0.02566\n",
      "Feature: 1590, Score: 0.39410\n",
      "Feature: 1591, Score: -0.26776\n",
      "Feature: 1592, Score: 0.28963\n",
      "Feature: 1593, Score: -0.12925\n",
      "Feature: 1594, Score: -0.07467\n",
      "Feature: 1595, Score: 0.11885\n",
      "Feature: 1596, Score: 0.46235\n",
      "Feature: 1597, Score: -0.39086\n",
      "Feature: 1598, Score: 0.07707\n",
      "Feature: 1599, Score: 0.52601\n",
      "Feature: 1600, Score: 0.28160\n",
      "Feature: 1601, Score: -0.42768\n",
      "Feature: 1602, Score: 0.68716\n",
      "Feature: 1603, Score: -0.36233\n",
      "Feature: 1604, Score: 0.34538\n",
      "Feature: 1605, Score: 0.19814\n",
      "Feature: 1606, Score: 0.28851\n",
      "Feature: 1607, Score: 0.03341\n",
      "Feature: 1608, Score: -0.12947\n",
      "Feature: 1609, Score: 0.16141\n",
      "Feature: 1610, Score: -0.13904\n",
      "Feature: 1611, Score: -0.09916\n",
      "Feature: 1612, Score: -0.21542\n",
      "Feature: 1613, Score: 0.16474\n",
      "Feature: 1614, Score: 0.12948\n",
      "Feature: 1615, Score: 0.05454\n",
      "Feature: 1616, Score: 0.25694\n",
      "Feature: 1617, Score: -0.09098\n",
      "Feature: 1618, Score: -0.12026\n",
      "Feature: 1619, Score: -0.08950\n",
      "Feature: 1620, Score: -0.14694\n",
      "Feature: 1621, Score: -0.00059\n",
      "Feature: 1622, Score: 0.31072\n",
      "Feature: 1623, Score: 0.01359\n",
      "Feature: 1624, Score: 0.06667\n",
      "Feature: 1625, Score: 0.19613\n",
      "Feature: 1626, Score: -0.65592\n",
      "Feature: 1627, Score: -0.39810\n",
      "Feature: 1628, Score: -0.15876\n",
      "Feature: 1629, Score: -0.05269\n",
      "Feature: 1630, Score: 0.47567\n",
      "Feature: 1631, Score: -0.24221\n",
      "Feature: 1632, Score: 0.33130\n",
      "Feature: 1633, Score: 0.56946\n",
      "Feature: 1634, Score: 0.21732\n",
      "Feature: 1635, Score: -0.27063\n",
      "Feature: 1636, Score: 0.22997\n",
      "Feature: 1637, Score: 0.40036\n",
      "Feature: 1638, Score: 0.02740\n",
      "Feature: 1639, Score: -0.00690\n",
      "Feature: 1640, Score: 0.25617\n",
      "Feature: 1641, Score: 0.85308\n",
      "Feature: 1642, Score: -0.60461\n",
      "Feature: 1643, Score: -0.09962\n",
      "Feature: 1644, Score: 0.00591\n",
      "Feature: 1645, Score: 0.37973\n",
      "Feature: 1646, Score: -0.19695\n",
      "Feature: 1647, Score: 0.01382\n",
      "Feature: 1648, Score: -0.37101\n",
      "Feature: 1649, Score: -0.13083\n",
      "Feature: 1650, Score: -0.53634\n",
      "Feature: 1651, Score: 0.08011\n",
      "Feature: 1652, Score: -0.16294\n",
      "Feature: 1653, Score: -0.54351\n",
      "Feature: 1654, Score: 0.00830\n",
      "Feature: 1655, Score: 0.36596\n",
      "Feature: 1656, Score: -0.12332\n",
      "Feature: 1657, Score: 0.15723\n",
      "Feature: 1658, Score: -0.23441\n",
      "Feature: 1659, Score: 0.07653\n",
      "Feature: 1660, Score: 0.34755\n",
      "Feature: 1661, Score: -0.18274\n",
      "Feature: 1662, Score: 0.01203\n",
      "Feature: 1663, Score: -0.04920\n",
      "Feature: 1664, Score: -0.26248\n",
      "Feature: 1665, Score: 0.04780\n",
      "Feature: 1666, Score: 0.76016\n",
      "Feature: 1667, Score: 0.00309\n",
      "Feature: 1668, Score: -0.14453\n",
      "Feature: 1669, Score: 0.13398\n",
      "Feature: 1670, Score: 0.04301\n",
      "Feature: 1671, Score: -0.57768\n",
      "Feature: 1672, Score: -0.17397\n",
      "Feature: 1673, Score: 0.41917\n",
      "Feature: 1674, Score: 0.07335\n",
      "Feature: 1675, Score: 0.16185\n",
      "Feature: 1676, Score: 0.28293\n",
      "Feature: 1677, Score: -0.38316\n",
      "Feature: 1678, Score: 0.02564\n",
      "Feature: 1679, Score: -0.01582\n",
      "Feature: 1680, Score: 0.11436\n",
      "Feature: 1681, Score: -0.46839\n",
      "Feature: 1682, Score: -0.25322\n",
      "Feature: 1683, Score: 0.46113\n",
      "Feature: 1684, Score: -0.51876\n",
      "Feature: 1685, Score: 0.69703\n",
      "Feature: 1686, Score: -0.29031\n",
      "Feature: 1687, Score: -0.62363\n",
      "Feature: 1688, Score: 0.71501\n",
      "Feature: 1689, Score: 0.31360\n",
      "Feature: 1690, Score: -0.41590\n",
      "Feature: 1691, Score: -0.71853\n",
      "Feature: 1692, Score: -0.64548\n",
      "Feature: 1693, Score: -0.22748\n",
      "Feature: 1694, Score: 0.15470\n",
      "Feature: 1695, Score: 0.37178\n",
      "Feature: 1696, Score: -0.31495\n",
      "Feature: 1697, Score: -0.07012\n",
      "Feature: 1698, Score: -0.15908\n",
      "Feature: 1699, Score: -0.05324\n",
      "Feature: 1700, Score: 0.12993\n",
      "Feature: 1701, Score: 0.58049\n",
      "Feature: 1702, Score: 0.29346\n",
      "Feature: 1703, Score: 0.20054\n",
      "Feature: 1704, Score: 0.21506\n",
      "Feature: 1705, Score: 0.18739\n",
      "Feature: 1706, Score: -0.56578\n",
      "Feature: 1707, Score: -0.11642\n",
      "Feature: 1708, Score: 0.43907\n",
      "Feature: 1709, Score: 0.41967\n",
      "Feature: 1710, Score: -0.42649\n",
      "Feature: 1711, Score: -0.44949\n",
      "Feature: 1712, Score: -0.49652\n",
      "Feature: 1713, Score: -0.65605\n",
      "Feature: 1714, Score: 0.28333\n",
      "Feature: 1715, Score: -0.16943\n",
      "Feature: 1716, Score: -0.12446\n",
      "Feature: 1717, Score: 0.81508\n",
      "Feature: 1718, Score: -0.07357\n",
      "Feature: 1719, Score: -0.63305\n",
      "Feature: 1720, Score: 0.65745\n",
      "Feature: 1721, Score: 0.16546\n",
      "Feature: 1722, Score: -0.09667\n",
      "Feature: 1723, Score: -0.33737\n",
      "Feature: 1724, Score: -0.10084\n",
      "Feature: 1725, Score: -0.08637\n",
      "Feature: 1726, Score: 0.13130\n",
      "Feature: 1727, Score: -0.07291\n",
      "Feature: 1728, Score: 0.11163\n",
      "Feature: 1729, Score: -0.04153\n",
      "Feature: 1730, Score: 0.15799\n",
      "Feature: 1731, Score: -0.33846\n",
      "Feature: 1732, Score: 0.93365\n",
      "Feature: 1733, Score: -0.35830\n",
      "Feature: 1734, Score: 0.06986\n",
      "Feature: 1735, Score: -0.03684\n",
      "Feature: 1736, Score: -0.48188\n",
      "Feature: 1737, Score: 0.63795\n",
      "Feature: 1738, Score: 0.38539\n",
      "Feature: 1739, Score: -0.77946\n",
      "Feature: 1740, Score: -0.45327\n",
      "Feature: 1741, Score: 0.13064\n",
      "Feature: 1742, Score: -0.31840\n",
      "Feature: 1743, Score: 0.30063\n",
      "Feature: 1744, Score: 0.33155\n",
      "Feature: 1745, Score: -0.52199\n",
      "Feature: 1746, Score: 0.53552\n",
      "Feature: 1747, Score: -0.51006\n",
      "Feature: 1748, Score: 0.30523\n",
      "Feature: 1749, Score: -0.06736\n",
      "Feature: 1750, Score: -0.01063\n",
      "Feature: 1751, Score: -0.21891\n",
      "Feature: 1752, Score: -0.23543\n",
      "Feature: 1753, Score: -0.73785\n",
      "Feature: 1754, Score: -0.29886\n",
      "Feature: 1755, Score: 0.11844\n",
      "Feature: 1756, Score: 0.65564\n",
      "Feature: 1757, Score: -0.88510\n",
      "Feature: 1758, Score: 0.15078\n",
      "Feature: 1759, Score: -0.27704\n",
      "Feature: 1760, Score: -0.03075\n",
      "Feature: 1761, Score: 0.26558\n",
      "Feature: 1762, Score: -0.14623\n",
      "Feature: 1763, Score: 0.19065\n",
      "Feature: 1764, Score: 0.26948\n",
      "Feature: 1765, Score: 0.17737\n",
      "Feature: 1766, Score: 0.24656\n",
      "Feature: 1767, Score: -0.45431\n",
      "Feature: 1768, Score: 0.07487\n",
      "Feature: 1769, Score: -0.58092\n",
      "Feature: 1770, Score: -0.52655\n",
      "Feature: 1771, Score: -0.01390\n",
      "Feature: 1772, Score: -0.69609\n",
      "Feature: 1773, Score: -0.20082\n",
      "Feature: 1774, Score: -0.44247\n",
      "Feature: 1775, Score: 0.14101\n",
      "Feature: 1776, Score: -0.68963\n",
      "Feature: 1777, Score: 0.27656\n",
      "Feature: 1778, Score: -0.01010\n",
      "Feature: 1779, Score: -0.23045\n",
      "Feature: 1780, Score: -0.49866\n",
      "Feature: 1781, Score: -0.23630\n",
      "Feature: 1782, Score: -0.60065\n",
      "Feature: 1783, Score: -0.80175\n",
      "Feature: 1784, Score: -0.12332\n",
      "Feature: 1785, Score: 0.08938\n",
      "Feature: 1786, Score: -0.48943\n",
      "Feature: 1787, Score: 0.08182\n",
      "Feature: 1788, Score: 0.24005\n",
      "Feature: 1789, Score: -0.05481\n",
      "Feature: 1790, Score: -0.26063\n",
      "Feature: 1791, Score: -0.35619\n",
      "Feature: 1792, Score: 0.41930\n",
      "Feature: 1793, Score: -0.29693\n",
      "Feature: 1794, Score: -0.18641\n",
      "Feature: 1795, Score: 0.35947\n",
      "Feature: 1796, Score: -0.17848\n",
      "Feature: 1797, Score: 0.76073\n",
      "Feature: 1798, Score: -0.11091\n",
      "Feature: 1799, Score: 0.55898\n",
      "Feature: 1800, Score: -0.57914\n",
      "Feature: 1801, Score: 0.14207\n",
      "Feature: 1802, Score: -0.31045\n",
      "Feature: 1803, Score: 0.16515\n",
      "Feature: 1804, Score: 0.40355\n",
      "Feature: 1805, Score: 0.42229\n",
      "Feature: 1806, Score: -0.23408\n",
      "Feature: 1807, Score: 0.44468\n",
      "Feature: 1808, Score: -0.65708\n",
      "Feature: 1809, Score: -0.85472\n",
      "Feature: 1810, Score: 0.20488\n",
      "Feature: 1811, Score: 0.01752\n",
      "Feature: 1812, Score: 0.08589\n",
      "Feature: 1813, Score: 0.37346\n",
      "Feature: 1814, Score: 0.63487\n",
      "Feature: 1815, Score: 0.44745\n",
      "Feature: 1816, Score: -0.29436\n",
      "Feature: 1817, Score: 0.65194\n",
      "Feature: 1818, Score: 0.03671\n",
      "Feature: 1819, Score: 0.14785\n",
      "Feature: 1820, Score: -0.11465\n",
      "Feature: 1821, Score: 0.57087\n",
      "Feature: 1822, Score: -0.42962\n",
      "Feature: 1823, Score: 0.06218\n",
      "Feature: 1824, Score: -0.25184\n",
      "Feature: 1825, Score: -0.43207\n",
      "Feature: 1826, Score: -0.10674\n",
      "Feature: 1827, Score: -0.08390\n",
      "Feature: 1828, Score: 0.24446\n",
      "Feature: 1829, Score: 0.01017\n"
     ]
    },
    {
     "name": "stdout",
     "output_type": "stream",
     "text": [
      "Feature: 1830, Score: -0.79583\n",
      "Feature: 1831, Score: 0.07383\n",
      "Feature: 1832, Score: -0.36620\n",
      "Feature: 1833, Score: -0.22772\n",
      "Feature: 1834, Score: 0.15019\n",
      "Feature: 1835, Score: -0.17918\n",
      "Feature: 1836, Score: -0.73625\n",
      "Feature: 1837, Score: -0.36572\n",
      "Feature: 1838, Score: 0.73540\n",
      "Feature: 1839, Score: -0.15285\n",
      "Feature: 1840, Score: -0.30518\n",
      "Feature: 1841, Score: -0.30138\n",
      "Feature: 1842, Score: 0.18129\n",
      "Feature: 1843, Score: -0.92305\n",
      "Feature: 1844, Score: 0.22028\n",
      "Feature: 1845, Score: 0.07748\n",
      "Feature: 1846, Score: -0.28012\n",
      "Feature: 1847, Score: 1.04131\n",
      "Feature: 1848, Score: 0.04332\n",
      "Feature: 1849, Score: -0.28889\n",
      "Feature: 1850, Score: -0.70974\n",
      "Feature: 1851, Score: -0.49637\n",
      "Feature: 1852, Score: -0.26933\n",
      "Feature: 1853, Score: -1.00655\n",
      "Feature: 1854, Score: 0.62960\n",
      "Feature: 1855, Score: -0.57297\n",
      "Feature: 1856, Score: -0.06008\n",
      "Feature: 1857, Score: 0.93913\n",
      "Feature: 1858, Score: -0.45340\n",
      "Feature: 1859, Score: -0.49031\n",
      "Feature: 1860, Score: -0.10225\n",
      "Feature: 1861, Score: -0.35138\n",
      "Feature: 1862, Score: -0.44914\n",
      "Feature: 1863, Score: -0.59156\n",
      "Feature: 1864, Score: 0.34249\n",
      "Feature: 1865, Score: -0.09635\n",
      "Feature: 1866, Score: 0.58915\n",
      "Feature: 1867, Score: 0.54289\n",
      "Feature: 1868, Score: -0.21884\n",
      "Feature: 1869, Score: -0.62106\n",
      "Feature: 1870, Score: -0.32139\n",
      "Feature: 1871, Score: -0.41009\n",
      "Feature: 1872, Score: -0.45919\n",
      "Feature: 1873, Score: -0.37650\n",
      "Feature: 1874, Score: 0.21608\n",
      "Feature: 1875, Score: 0.17866\n",
      "Feature: 1876, Score: -0.12545\n",
      "Feature: 1877, Score: 0.51357\n",
      "Feature: 1878, Score: 0.05009\n",
      "Feature: 1879, Score: 0.33850\n",
      "Feature: 1880, Score: -0.06210\n",
      "Feature: 1881, Score: 0.09366\n",
      "Feature: 1882, Score: 0.15516\n",
      "Feature: 1883, Score: 0.06082\n",
      "Feature: 1884, Score: -0.09462\n",
      "Feature: 1885, Score: -0.12489\n",
      "Feature: 1886, Score: 0.49694\n",
      "Feature: 1887, Score: -0.28919\n",
      "Feature: 1888, Score: 0.83841\n",
      "Feature: 1889, Score: -0.26828\n",
      "Feature: 1890, Score: -0.18242\n",
      "Feature: 1891, Score: 0.11222\n",
      "Feature: 1892, Score: -0.16407\n",
      "Feature: 1893, Score: -0.64125\n",
      "Feature: 1894, Score: -0.29915\n",
      "Feature: 1895, Score: -0.10550\n",
      "Feature: 1896, Score: 0.32019\n",
      "Feature: 1897, Score: -0.05959\n",
      "Feature: 1898, Score: -0.25259\n",
      "Feature: 1899, Score: -0.20039\n",
      "Feature: 1900, Score: 0.17365\n",
      "Feature: 1901, Score: -0.10401\n",
      "Feature: 1902, Score: 0.02209\n",
      "Feature: 1903, Score: -0.04975\n",
      "Feature: 1904, Score: 0.44309\n",
      "Feature: 1905, Score: 0.50446\n",
      "Feature: 1906, Score: -0.19634\n",
      "Feature: 1907, Score: -0.14465\n",
      "Feature: 1908, Score: -0.05395\n",
      "Feature: 1909, Score: -0.18779\n",
      "Feature: 1910, Score: 0.34464\n",
      "Feature: 1911, Score: -0.40492\n",
      "Feature: 1912, Score: 0.37566\n",
      "Feature: 1913, Score: 0.28757\n",
      "Feature: 1914, Score: 0.07189\n",
      "Feature: 1915, Score: 0.55189\n",
      "Feature: 1916, Score: -0.08194\n",
      "Feature: 1917, Score: 0.02737\n",
      "Feature: 1918, Score: -0.05186\n",
      "Feature: 1919, Score: -0.00074\n",
      "Feature: 1920, Score: -0.03721\n",
      "Feature: 1921, Score: -0.69804\n",
      "Feature: 1922, Score: 0.25769\n",
      "Feature: 1923, Score: 0.01433\n",
      "Feature: 1924, Score: -0.01032\n",
      "Feature: 1925, Score: 0.12059\n",
      "Feature: 1926, Score: -0.16453\n",
      "Feature: 1927, Score: 0.09303\n",
      "Feature: 1928, Score: -0.17635\n",
      "Feature: 1929, Score: -0.06280\n",
      "Feature: 1930, Score: -0.19321\n",
      "Feature: 1931, Score: -0.18045\n",
      "Feature: 1932, Score: 0.34686\n",
      "Feature: 1933, Score: -0.21179\n",
      "Feature: 1934, Score: 0.10824\n",
      "Feature: 1935, Score: 0.17298\n",
      "Feature: 1936, Score: 0.34343\n",
      "Feature: 1937, Score: -0.28798\n",
      "Feature: 1938, Score: 0.29107\n",
      "Feature: 1939, Score: 0.27618\n",
      "Feature: 1940, Score: 0.08375\n",
      "Feature: 1941, Score: -0.27905\n",
      "Feature: 1942, Score: -0.17945\n",
      "Feature: 1943, Score: 0.01329\n",
      "Feature: 1944, Score: 0.05166\n",
      "Feature: 1945, Score: 0.05409\n",
      "Feature: 1946, Score: 0.17955\n",
      "Feature: 1947, Score: -0.39623\n",
      "Feature: 1948, Score: 0.28356\n",
      "Feature: 1949, Score: 0.13952\n",
      "Feature: 1950, Score: -0.07245\n",
      "Feature: 1951, Score: -0.37858\n",
      "Feature: 1952, Score: -0.07974\n",
      "Feature: 1953, Score: 0.03250\n",
      "Feature: 1954, Score: 0.17737\n",
      "Feature: 1955, Score: -0.72599\n",
      "Feature: 1956, Score: 0.43085\n",
      "Feature: 1957, Score: 0.27189\n",
      "Feature: 1958, Score: 0.08532\n",
      "Feature: 1959, Score: -0.42380\n",
      "Feature: 1960, Score: -0.03544\n",
      "Feature: 1961, Score: 0.40116\n",
      "Feature: 1962, Score: 0.11370\n",
      "Feature: 1963, Score: 0.01156\n",
      "Feature: 1964, Score: -0.00413\n",
      "Feature: 1965, Score: 0.34346\n",
      "Feature: 1966, Score: 0.23739\n",
      "Feature: 1967, Score: 0.04797\n",
      "Feature: 1968, Score: -0.02768\n",
      "Feature: 1969, Score: 0.08211\n",
      "Feature: 1970, Score: 0.35412\n",
      "Feature: 1971, Score: -0.31973\n",
      "Feature: 1972, Score: 0.41914\n",
      "Feature: 1973, Score: 0.02559\n",
      "Feature: 1974, Score: 0.08026\n",
      "Feature: 1975, Score: 0.17356\n",
      "Feature: 1976, Score: 0.39345\n",
      "Feature: 1977, Score: -0.62541\n",
      "Feature: 1978, Score: 0.03597\n",
      "Feature: 1979, Score: -0.20349\n",
      "Feature: 1980, Score: 0.16012\n",
      "Feature: 1981, Score: -0.22536\n",
      "Feature: 1982, Score: 0.38679\n",
      "Feature: 1983, Score: -0.05992\n",
      "Feature: 1984, Score: 0.39036\n",
      "Feature: 1985, Score: 0.05649\n",
      "Feature: 1986, Score: 0.22210\n",
      "Feature: 1987, Score: 0.22734\n",
      "Feature: 1988, Score: -0.03216\n",
      "Feature: 1989, Score: -0.02779\n",
      "Feature: 1990, Score: -0.45796\n",
      "Feature: 1991, Score: -0.11055\n",
      "Feature: 1992, Score: 0.40263\n",
      "Feature: 1993, Score: -0.28753\n",
      "Feature: 1994, Score: 0.19300\n",
      "Feature: 1995, Score: -0.25868\n",
      "Feature: 1996, Score: 0.12072\n",
      "Feature: 1997, Score: -0.09372\n",
      "Feature: 1998, Score: 0.32707\n",
      "Feature: 1999, Score: -0.25683\n"
     ]
    },
    {
     "data": {
      "image/png": "[encoded data removed]",
      "text/plain": [
       "<Figure size 432x288 with 1 Axes>"
      ]
     },
     "metadata": {
      "needs_background": "light"
     },
     "output_type": "display_data"
    }
   ],
   "source": [
    "import matplotlib.pyplot as pyplot\n",
    "\n",
    "\n",
    "importance = est1.steps[2][1].coef_[0]\n",
    "# summarize feature importance\n",
    "for i,v in enumerate(importance):\n",
    "    print('Feature: %0d, Score: %.5f' % (i,v))\n",
    "# plot feature importance\n",
    "pyplot.bar([x for x in range(len(importance))], importance)\n",
    "pyplot.show()\n",
    "\n",
    "\n"
   ]
  },
  {
   "cell_type": "code",
   "execution_count": 125,
   "metadata": {},
   "outputs": [
    {
     "data": {
      "application/vnd.jupyter.widget-view+json": {
       "model_id": "ae33d5ad431648929faccee117a79b8b",
       "version_major": 2,
       "version_minor": 0
      },
      "text/plain": [
       "HBox(children=(IntProgress(value=0, max=200), HTML(value='')))"
      ]
     },
     "metadata": {},
     "output_type": "display_data"
    },
    {
     "name": "stdout",
     "output_type": "stream",
     "text": [
      "\n"
     ]
    },
    {
     "data": {
      "application/vnd.jupyter.widget-view+json": {
       "model_id": "22cdb083071344e78e967a39885ffd13",
       "version_major": 2,
       "version_minor": 0
      },
      "text/plain": [
       "HBox(children=(IntProgress(value=0, max=200), HTML(value='')))"
      ]
     },
     "metadata": {},
     "output_type": "display_data"
    },
    {
     "name": "stderr",
     "output_type": "stream",
     "text": [
      "Computing transition probabilities: 100%|██████████████████████████████████████████████| 93/93 [00:05<00:00, 17.06it/s]\n",
      "Generating walks (CPU: 1): 100%|███████████████████████████████████████████████████████| 50/50 [00:01<00:00, 29.06it/s]\n",
      "Computing transition probabilities: 100%|██████████████████████████████████████████████| 94/94 [00:04<00:00, 21.24it/s]\n",
      "Generating walks (CPU: 1): 100%|███████████████████████████████████████████████████████| 50/50 [00:01<00:00, 29.35it/s]\n",
      "Computing transition probabilities: 100%|██████████████████████████████████████████████| 62/62 [00:01<00:00, 54.58it/s]\n",
      "Generating walks (CPU: 1): 100%|███████████████████████████████████████████████████████| 50/50 [00:00<00:00, 53.00it/s]\n",
      "Computing transition probabilities: 100%|██████████████████████████████████████████████| 79/79 [00:01<00:00, 41.65it/s]\n",
      "Generating walks (CPU: 1): 100%|███████████████████████████████████████████████████████| 50/50 [00:01<00:00, 45.45it/s]\n",
      "Computing transition probabilities: 100%|██████████████████████████████████████████████| 81/81 [00:03<00:00, 25.49it/s]\n",
      "Generating walks (CPU: 1): 100%|███████████████████████████████████████████████████████| 50/50 [00:01<00:00, 45.49it/s]\n",
      "Computing transition probabilities: 100%|████████████████████████████████████████████| 102/102 [00:04<00:00, 22.33it/s]\n",
      "Generating walks (CPU: 1): 100%|███████████████████████████████████████████████████████| 50/50 [00:01<00:00, 33.40it/s]\n",
      "Computing transition probabilities: 100%|██████████████████████████████████████████████| 92/92 [00:03<00:00, 28.44it/s]\n",
      "Generating walks (CPU: 1): 100%|███████████████████████████████████████████████████████| 50/50 [00:01<00:00, 34.89it/s]\n",
      "Computing transition probabilities: 100%|████████████████████████████████████████████| 105/105 [00:05<00:00, 18.27it/s]\n",
      "Generating walks (CPU: 1): 100%|███████████████████████████████████████████████████████| 50/50 [00:01<00:00, 27.53it/s]\n",
      "Computing transition probabilities: 100%|████████████████████████████████████████████| 109/109 [00:05<00:00, 21.33it/s]\n",
      "Generating walks (CPU: 1): 100%|███████████████████████████████████████████████████████| 50/50 [00:01<00:00, 27.70it/s]\n",
      "Computing transition probabilities: 100%|████████████████████████████████████████████| 101/101 [00:03<00:00, 25.50it/s]\n",
      "Generating walks (CPU: 1): 100%|███████████████████████████████████████████████████████| 50/50 [00:01<00:00, 33.83it/s]\n",
      "Computing transition probabilities: 100%|██████████████████████████████████████████████| 73/73 [00:01<00:00, 41.61it/s]\n",
      "Generating walks (CPU: 1): 100%|███████████████████████████████████████████████████████| 50/50 [00:00<00:00, 50.08it/s]\n",
      "Computing transition probabilities: 100%|██████████████████████████████████████████████| 85/85 [00:02<00:00, 37.07it/s]\n",
      "Generating walks (CPU: 1): 100%|███████████████████████████████████████████████████████| 50/50 [00:01<00:00, 36.20it/s]\n",
      "Computing transition probabilities: 100%|██████████████████████████████████████████████| 77/77 [00:02<00:00, 33.09it/s]\n",
      "Generating walks (CPU: 1): 100%|███████████████████████████████████████████████████████| 50/50 [00:01<00:00, 43.75it/s]\n",
      "Computing transition probabilities: 100%|██████████████████████████████████████████████| 91/91 [00:03<00:00, 28.99it/s]\n",
      "Generating walks (CPU: 1): 100%|███████████████████████████████████████████████████████| 50/50 [00:01<00:00, 32.45it/s]\n",
      "Computing transition probabilities: 100%|████████████████████████████████████████████| 100/100 [00:04<00:00, 22.45it/s]\n",
      "Generating walks (CPU: 1): 100%|███████████████████████████████████████████████████████| 50/50 [00:01<00:00, 34.77it/s]\n",
      "Computing transition probabilities: 100%|████████████████████████████████████████████| 102/102 [00:04<00:00, 22.55it/s]\n",
      "Generating walks (CPU: 1): 100%|███████████████████████████████████████████████████████| 50/50 [00:01<00:00, 29.16it/s]\n",
      "Computing transition probabilities: 100%|██████████████████████████████████████████████| 64/64 [00:01<00:00, 59.64it/s]\n",
      "Generating walks (CPU: 1): 100%|███████████████████████████████████████████████████████| 50/50 [00:01<00:00, 44.68it/s]\n",
      "Computing transition probabilities: 100%|██████████████████████████████████████████████| 91/91 [00:03<00:00, 28.64it/s]\n",
      "Generating walks (CPU: 1): 100%|███████████████████████████████████████████████████████| 50/50 [00:01<00:00, 30.74it/s]\n",
      "Computing transition probabilities: 100%|██████████████████████████████████████████████| 92/92 [00:03<00:00, 26.71it/s]\n",
      "Generating walks (CPU: 1): 100%|███████████████████████████████████████████████████████| 50/50 [00:01<00:00, 38.18it/s]\n",
      "Computing transition probabilities: 100%|██████████████████████████████████████████████| 98/98 [00:04<00:00, 21.73it/s]\n",
      "Generating walks (CPU: 1): 100%|███████████████████████████████████████████████████████| 50/50 [00:01<00:00, 26.80it/s]\n",
      "Computing transition probabilities: 100%|████████████████████████████████████████████| 103/103 [00:05<00:00, 20.12it/s]\n",
      "Generating walks (CPU: 1): 100%|███████████████████████████████████████████████████████| 50/50 [00:01<00:00, 25.47it/s]\n",
      "Computing transition probabilities: 100%|██████████████████████████████████████████████| 91/91 [00:03<00:00, 29.33it/s]\n",
      "Generating walks (CPU: 1): 100%|███████████████████████████████████████████████████████| 50/50 [00:01<00:00, 35.38it/s]\n",
      "Computing transition probabilities: 100%|██████████████████████████████████████████████| 96/96 [00:03<00:00, 25.36it/s]\n",
      "Generating walks (CPU: 1): 100%|███████████████████████████████████████████████████████| 50/50 [00:01<00:00, 34.41it/s]\n",
      "Computing transition probabilities: 100%|██████████████████████████████████████████████| 90/90 [00:03<00:00, 27.43it/s]\n",
      "Generating walks (CPU: 1): 100%|███████████████████████████████████████████████████████| 50/50 [00:01<00:00, 35.28it/s]\n",
      "Computing transition probabilities: 100%|████████████████████████████████████████████| 105/105 [00:04<00:00, 21.02it/s]\n",
      "Generating walks (CPU: 1): 100%|███████████████████████████████████████████████████████| 50/50 [00:01<00:00, 28.71it/s]\n",
      "Computing transition probabilities: 100%|██████████████████████████████████████████████| 93/93 [00:03<00:00, 26.22it/s]\n",
      "Generating walks (CPU: 1): 100%|███████████████████████████████████████████████████████| 50/50 [00:01<00:00, 27.90it/s]\n",
      "Computing transition probabilities: 100%|██████████████████████████████████████████████| 96/96 [00:04<00:00, 19.66it/s]\n",
      "Generating walks (CPU: 1): 100%|███████████████████████████████████████████████████████| 50/50 [00:01<00:00, 28.73it/s]\n",
      "Computing transition probabilities: 100%|████████████████████████████████████████████| 110/110 [00:05<00:00, 18.38it/s]\n",
      "Generating walks (CPU: 1): 100%|███████████████████████████████████████████████████████| 50/50 [00:01<00:00, 28.17it/s]\n",
      "Computing transition probabilities: 100%|██████████████████████████████████████████████| 95/95 [00:04<00:00, 20.80it/s]\n",
      "Generating walks (CPU: 1): 100%|███████████████████████████████████████████████████████| 50/50 [00:01<00:00, 35.89it/s]\n",
      "Computing transition probabilities: 100%|████████████████████████████████████████████| 109/109 [00:07<00:00, 13.73it/s]\n",
      "Generating walks (CPU: 1): 100%|███████████████████████████████████████████████████████| 50/50 [00:02<00:00, 20.48it/s]\n",
      "Computing transition probabilities: 100%|████████████████████████████████████████████| 111/111 [00:06<00:00, 18.29it/s]\n",
      "Generating walks (CPU: 1): 100%|███████████████████████████████████████████████████████| 50/50 [00:01<00:00, 30.22it/s]\n",
      "Computing transition probabilities: 100%|██████████████████████████████████████████████| 96/96 [00:03<00:00, 25.40it/s]\n",
      "Generating walks (CPU: 1): 100%|███████████████████████████████████████████████████████| 50/50 [00:01<00:00, 35.78it/s]\n",
      "Computing transition probabilities: 100%|██████████████████████████████████████████████| 86/86 [00:02<00:00, 33.96it/s]\n",
      "Generating walks (CPU: 1): 100%|███████████████████████████████████████████████████████| 50/50 [00:01<00:00, 40.40it/s]\n",
      "Computing transition probabilities: 100%|████████████████████████████████████████████| 100/100 [00:05<00:00, 19.96it/s]\n",
      "Generating walks (CPU: 1): 100%|███████████████████████████████████████████████████████| 50/50 [00:01<00:00, 32.30it/s]\n",
      "Computing transition probabilities: 100%|██████████████████████████████████████████████| 99/99 [00:04<00:00, 21.65it/s]\n",
      "Generating walks (CPU: 1): 100%|███████████████████████████████████████████████████████| 50/50 [00:01<00:00, 32.30it/s]\n",
      "Computing transition probabilities: 100%|██████████████████████████████████████████████| 98/98 [00:04<00:00, 21.44it/s]\n",
      "Generating walks (CPU: 1): 100%|███████████████████████████████████████████████████████| 50/50 [00:01<00:00, 34.62it/s]\n",
      "Computing transition probabilities: 100%|██████████████████████████████████████████████| 87/87 [00:03<00:00, 26.80it/s]\n",
      "Generating walks (CPU: 1): 100%|███████████████████████████████████████████████████████| 50/50 [00:01<00:00, 32.68it/s]\n",
      "Computing transition probabilities: 100%|██████████████████████████████████████████████| 81/81 [00:02<00:00, 37.85it/s]\n",
      "Generating walks (CPU: 1): 100%|███████████████████████████████████████████████████████| 50/50 [00:01<00:00, 29.16it/s]\n",
      "Computing transition probabilities: 100%|████████████████████████████████████████████| 113/113 [00:06<00:00, 17.52it/s]\n",
      "Generating walks (CPU: 1): 100%|███████████████████████████████████████████████████████| 50/50 [00:01<00:00, 25.72it/s]\n",
      "Computing transition probabilities: 100%|██████████████████████████████████████████████| 95/95 [00:05<00:00, 18.19it/s]\n",
      "Generating walks (CPU: 1): 100%|███████████████████████████████████████████████████████| 50/50 [00:01<00:00, 32.43it/s]\n",
      "Computing transition probabilities: 100%|██████████████████████████████████████████████| 83/83 [00:02<00:00, 27.69it/s]\n",
      "Generating walks (CPU: 1): 100%|███████████████████████████████████████████████████████| 50/50 [00:01<00:00, 34.22it/s]\n",
      "Computing transition probabilities: 100%|██████████████████████████████████████████████| 88/88 [00:02<00:00, 30.05it/s]\n",
      "Generating walks (CPU: 1): 100%|███████████████████████████████████████████████████████| 50/50 [00:01<00:00, 41.50it/s]\n",
      "Computing transition probabilities: 100%|██████████████████████████████████████████████| 92/92 [00:03<00:00, 25.97it/s]\n",
      "Generating walks (CPU: 1): 100%|███████████████████████████████████████████████████████| 50/50 [00:01<00:00, 41.78it/s]\n",
      "Computing transition probabilities: 100%|██████████████████████████████████████████████| 98/98 [00:03<00:00, 28.02it/s]\n",
      "Generating walks (CPU: 1): 100%|███████████████████████████████████████████████████████| 50/50 [00:01<00:00, 28.65it/s]\n",
      "Computing transition probabilities: 100%|██████████████████████████████████████████████| 63/63 [00:00<00:00, 69.88it/s]\n",
      "Generating walks (CPU: 1): 100%|███████████████████████████████████████████████████████| 50/50 [00:00<00:00, 64.77it/s]\n",
      "Computing transition probabilities: 100%|██████████████████████████████████████████████| 91/91 [00:03<00:00, 25.78it/s]\n",
      "Generating walks (CPU: 1): 100%|███████████████████████████████████████████████████████| 50/50 [00:01<00:00, 31.00it/s]\n",
      "Computing transition probabilities: 100%|██████████████████████████████████████████████| 88/88 [00:03<00:00, 25.93it/s]\n",
      "Generating walks (CPU: 1): 100%|███████████████████████████████████████████████████████| 50/50 [00:01<00:00, 32.10it/s]\n",
      "Computing transition probabilities: 100%|██████████████████████████████████████████████| 93/93 [00:03<00:00, 26.44it/s]\n",
      "Generating walks (CPU: 1): 100%|███████████████████████████████████████████████████████| 50/50 [00:01<00:00, 34.50it/s]\n",
      "Computing transition probabilities: 100%|████████████████████████████████████████████| 105/105 [00:04<00:00, 21.95it/s]\n",
      "Generating walks (CPU: 1): 100%|███████████████████████████████████████████████████████| 50/50 [00:01<00:00, 31.13it/s]\n",
      "Computing transition probabilities: 100%|██████████████████████████████████████████████| 52/52 [00:00<00:00, 80.21it/s]\n",
      "Generating walks (CPU: 1): 100%|███████████████████████████████████████████████████████| 50/50 [00:00<00:00, 60.11it/s]\n",
      "Computing transition probabilities: 100%|██████████████████████████████████████████████| 81/81 [00:02<00:00, 28.92it/s]\n",
      "Generating walks (CPU: 1): 100%|███████████████████████████████████████████████████████| 50/50 [00:01<00:00, 37.47it/s]\n",
      "Computing transition probabilities: 100%|██████████████████████████████████████████████| 98/98 [00:03<00:00, 24.97it/s]\n",
      "Generating walks (CPU: 1): 100%|███████████████████████████████████████████████████████| 50/50 [00:01<00:00, 30.33it/s]\n",
      "Computing transition probabilities: 100%|████████████████████████████████████████████| 102/102 [00:05<00:00, 17.33it/s]\n",
      "Generating walks (CPU: 1): 100%|███████████████████████████████████████████████████████| 50/50 [00:01<00:00, 31.95it/s]\n",
      "Computing transition probabilities: 100%|██████████████████████████████████████████████| 69/69 [00:01<00:00, 38.03it/s]\n",
      "Generating walks (CPU: 1): 100%|███████████████████████████████████████████████████████| 50/50 [00:01<00:00, 45.00it/s]\n",
      "Computing transition probabilities: 100%|██████████████████████████████████████████████| 98/98 [00:03<00:00, 24.83it/s]\n",
      "Generating walks (CPU: 1): 100%|███████████████████████████████████████████████████████| 50/50 [00:01<00:00, 27.14it/s]\n",
      "Computing transition probabilities: 100%|██████████████████████████████████████████████| 94/94 [00:02<00:00, 32.08it/s]\n",
      "Generating walks (CPU: 1): 100%|███████████████████████████████████████████████████████| 50/50 [00:01<00:00, 36.30it/s]\n",
      "Computing transition probabilities: 100%|██████████████████████████████████████████████| 94/94 [00:03<00:00, 27.65it/s]\n",
      "Generating walks (CPU: 1): 100%|███████████████████████████████████████████████████████| 50/50 [00:01<00:00, 37.08it/s]\n",
      "Computing transition probabilities: 100%|██████████████████████████████████████████████| 90/90 [00:02<00:00, 30.88it/s]\n",
      "Generating walks (CPU: 1): 100%|███████████████████████████████████████████████████████| 50/50 [00:01<00:00, 39.44it/s]\n",
      "Computing transition probabilities: 100%|██████████████████████████████████████████████| 85/85 [00:02<00:00, 30.70it/s]\n",
      "Generating walks (CPU: 1): 100%|███████████████████████████████████████████████████████| 50/50 [00:01<00:00, 41.23it/s]\n",
      "Computing transition probabilities: 100%|██████████████████████████████████████████████| 99/99 [00:04<00:00, 21.75it/s]\n",
      "Generating walks (CPU: 1): 100%|███████████████████████████████████████████████████████| 50/50 [00:01<00:00, 33.99it/s]\n",
      "Computing transition probabilities: 100%|██████████████████████████████████████████████| 89/89 [00:03<00:00, 23.63it/s]\n",
      "Generating walks (CPU: 1): 100%|███████████████████████████████████████████████████████| 50/50 [00:01<00:00, 27.73it/s]\n",
      "Computing transition probabilities: 100%|██████████████████████████████████████████████| 43/43 [00:00<00:00, 89.82it/s]\n",
      "Generating walks (CPU: 1): 100%|███████████████████████████████████████████████████████| 50/50 [00:00<00:00, 61.74it/s]\n",
      "Computing transition probabilities: 100%|██████████████████████████████████████████████| 63/63 [00:01<00:00, 40.70it/s]\n",
      "Generating walks (CPU: 1): 100%|███████████████████████████████████████████████████████| 50/50 [00:01<00:00, 37.72it/s]\n",
      "Computing transition probabilities: 100%|████████████████████████████████████████████| 115/115 [00:09<00:00, 11.71it/s]\n",
      "Generating walks (CPU: 1): 100%|███████████████████████████████████████████████████████| 50/50 [00:02<00:00, 17.02it/s]\n",
      "Computing transition probabilities: 100%|██████████████████████████████████████████████| 96/96 [00:04<00:00, 19.94it/s]\n",
      "Generating walks (CPU: 1): 100%|███████████████████████████████████████████████████████| 50/50 [00:01<00:00, 29.40it/s]\n",
      "Computing transition probabilities: 100%|██████████████████████████████████████████████| 98/98 [00:03<00:00, 29.31it/s]\n",
      "Generating walks (CPU: 1): 100%|███████████████████████████████████████████████████████| 50/50 [00:01<00:00, 27.35it/s]\n",
      "Computing transition probabilities: 100%|██████████████████████████████████████████████| 88/88 [00:03<00:00, 26.33it/s]\n",
      "Generating walks (CPU: 1): 100%|███████████████████████████████████████████████████████| 50/50 [00:01<00:00, 35.61it/s]\n",
      "Computing transition probabilities: 100%|████████████████████████████████████████████| 104/104 [00:05<00:00, 19.79it/s]\n",
      "Generating walks (CPU: 1): 100%|███████████████████████████████████████████████████████| 50/50 [00:02<00:00, 16.94it/s]\n"
     ]
    },
    {
     "name": "stderr",
     "output_type": "stream",
     "text": [
      "Computing transition probabilities: 100%|██████████████████████████████████████████████| 57/57 [00:01<00:00, 46.13it/s]\n",
      "Generating walks (CPU: 1): 100%|███████████████████████████████████████████████████████| 50/50 [00:00<00:00, 64.44it/s]\n",
      "Computing transition probabilities: 100%|████████████████████████████████████████████| 115/115 [00:07<00:00, 16.38it/s]\n",
      "Generating walks (CPU: 1): 100%|███████████████████████████████████████████████████████| 50/50 [00:02<00:00, 18.76it/s]\n",
      "Computing transition probabilities: 100%|██████████████████████████████████████████████| 87/87 [00:03<00:00, 22.77it/s]\n",
      "Generating walks (CPU: 1): 100%|███████████████████████████████████████████████████████| 50/50 [00:01<00:00, 30.09it/s]\n",
      "Computing transition probabilities: 100%|██████████████████████████████████████████████| 61/61 [00:00<00:00, 78.82it/s]\n",
      "Generating walks (CPU: 1): 100%|███████████████████████████████████████████████████████| 50/50 [00:00<00:00, 69.73it/s]\n",
      "Computing transition probabilities: 100%|██████████████████████████████████████████████| 99/99 [00:04<00:00, 22.68it/s]\n",
      "Generating walks (CPU: 1): 100%|███████████████████████████████████████████████████████| 50/50 [00:01<00:00, 36.15it/s]\n",
      "Computing transition probabilities: 100%|██████████████████████████████████████████████| 70/70 [00:01<00:00, 58.78it/s]\n",
      "Generating walks (CPU: 1): 100%|███████████████████████████████████████████████████████| 50/50 [00:01<00:00, 43.37it/s]\n",
      "Computing transition probabilities: 100%|██████████████████████████████████████████████| 93/93 [00:03<00:00, 24.71it/s]\n",
      "Generating walks (CPU: 1): 100%|███████████████████████████████████████████████████████| 50/50 [00:01<00:00, 25.68it/s]\n",
      "Computing transition probabilities: 100%|████████████████████████████████████████████| 100/100 [00:06<00:00, 15.74it/s]\n",
      "Generating walks (CPU: 1): 100%|███████████████████████████████████████████████████████| 50/50 [00:01<00:00, 31.85it/s]\n",
      "Computing transition probabilities: 100%|██████████████████████████████████████████████| 84/84 [00:02<00:00, 28.41it/s]\n",
      "Generating walks (CPU: 1): 100%|███████████████████████████████████████████████████████| 50/50 [00:01<00:00, 42.49it/s]\n",
      "Computing transition probabilities: 100%|██████████████████████████████████████████████| 93/93 [00:03<00:00, 23.72it/s]\n",
      "Generating walks (CPU: 1): 100%|███████████████████████████████████████████████████████| 50/50 [00:01<00:00, 26.97it/s]\n",
      "Computing transition probabilities: 100%|██████████████████████████████████████████████| 86/86 [00:02<00:00, 29.49it/s]\n",
      "Generating walks (CPU: 1): 100%|███████████████████████████████████████████████████████| 50/50 [00:01<00:00, 40.07it/s]\n",
      "Computing transition probabilities: 100%|████████████████████████████████████████████| 103/103 [00:05<00:00, 17.25it/s]\n",
      "Generating walks (CPU: 1): 100%|███████████████████████████████████████████████████████| 50/50 [00:01<00:00, 29.30it/s]\n",
      "Computing transition probabilities: 100%|██████████████████████████████████████████████| 92/92 [00:03<00:00, 26.24it/s]\n",
      "Generating walks (CPU: 1): 100%|███████████████████████████████████████████████████████| 50/50 [00:01<00:00, 26.22it/s]\n",
      "Computing transition probabilities: 100%|██████████████████████████████████████████████| 82/82 [00:02<00:00, 29.28it/s]\n",
      "Generating walks (CPU: 1): 100%|███████████████████████████████████████████████████████| 50/50 [00:01<00:00, 33.90it/s]\n",
      "Computing transition probabilities: 100%|████████████████████████████████████████████| 109/109 [00:08<00:00, 12.41it/s]\n",
      "Generating walks (CPU: 1): 100%|███████████████████████████████████████████████████████| 50/50 [00:02<00:00, 23.25it/s]\n",
      "Computing transition probabilities: 100%|████████████████████████████████████████████| 100/100 [00:05<00:00, 18.87it/s]\n",
      "Generating walks (CPU: 1): 100%|███████████████████████████████████████████████████████| 50/50 [00:02<00:00, 23.75it/s]\n",
      "Computing transition probabilities: 100%|██████████████████████████████████████████████| 73/73 [00:02<00:00, 28.20it/s]\n",
      "Generating walks (CPU: 1): 100%|███████████████████████████████████████████████████████| 50/50 [00:01<00:00, 32.64it/s]\n",
      "Computing transition probabilities: 100%|██████████████████████████████████████████████| 91/91 [00:04<00:00, 21.84it/s]\n",
      "Generating walks (CPU: 1): 100%|███████████████████████████████████████████████████████| 50/50 [00:01<00:00, 33.65it/s]\n",
      "Computing transition probabilities: 100%|██████████████████████████████████████████████| 92/92 [00:03<00:00, 26.65it/s]\n",
      "Generating walks (CPU: 1): 100%|███████████████████████████████████████████████████████| 50/50 [00:02<00:00, 22.00it/s]\n",
      "Computing transition probabilities: 100%|██████████████████████████████████████████████| 76/76 [00:02<00:00, 30.43it/s]\n",
      "Generating walks (CPU: 1): 100%|███████████████████████████████████████████████████████| 50/50 [00:01<00:00, 33.36it/s]\n",
      "Computing transition probabilities: 100%|██████████████████████████████████████████████| 78/78 [00:02<00:00, 33.99it/s]\n",
      "Generating walks (CPU: 1): 100%|███████████████████████████████████████████████████████| 50/50 [00:00<00:00, 53.79it/s]\n",
      "Computing transition probabilities: 100%|██████████████████████████████████████████████| 89/89 [00:02<00:00, 30.49it/s]\n",
      "Generating walks (CPU: 1): 100%|███████████████████████████████████████████████████████| 50/50 [00:01<00:00, 33.65it/s]\n",
      "Computing transition probabilities: 100%|██████████████████████████████████████████████| 59/59 [00:00<00:00, 75.94it/s]\n",
      "Generating walks (CPU: 1): 100%|███████████████████████████████████████████████████████| 50/50 [00:00<00:00, 73.40it/s]\n",
      "Computing transition probabilities: 100%|██████████████████████████████████████████████| 77/77 [00:01<00:00, 38.70it/s]\n",
      "Generating walks (CPU: 1): 100%|███████████████████████████████████████████████████████| 50/50 [00:01<00:00, 42.95it/s]\n",
      "Computing transition probabilities: 100%|██████████████████████████████████████████████| 91/91 [00:03<00:00, 28.03it/s]\n",
      "Generating walks (CPU: 1): 100%|███████████████████████████████████████████████████████| 50/50 [00:01<00:00, 34.96it/s]\n",
      "Computing transition probabilities: 100%|██████████████████████████████████████████████| 95/95 [00:04<00:00, 23.53it/s]\n",
      "Generating walks (CPU: 1): 100%|███████████████████████████████████████████████████████| 50/50 [00:01<00:00, 28.58it/s]\n",
      "Computing transition probabilities: 100%|████████████████████████████████████████████| 100/100 [00:04<00:00, 20.73it/s]\n",
      "Generating walks (CPU: 1): 100%|███████████████████████████████████████████████████████| 50/50 [00:01<00:00, 32.26it/s]\n",
      "Computing transition probabilities: 100%|██████████████████████████████████████████████| 85/85 [00:02<00:00, 38.41it/s]\n",
      "Generating walks (CPU: 1): 100%|███████████████████████████████████████████████████████| 50/50 [00:01<00:00, 38.91it/s]\n",
      "Computing transition probabilities: 100%|██████████████████████████████████████████████| 76/76 [00:01<00:00, 41.12it/s]\n",
      "Generating walks (CPU: 1): 100%|███████████████████████████████████████████████████████| 50/50 [00:01<00:00, 36.04it/s]\n",
      "Computing transition probabilities: 100%|██████████████████████████████████████████████| 92/92 [00:03<00:00, 27.06it/s]\n",
      "Generating walks (CPU: 1): 100%|███████████████████████████████████████████████████████| 50/50 [00:01<00:00, 36.51it/s]\n",
      "Computing transition probabilities: 100%|████████████████████████████████████████████| 113/113 [00:06<00:00, 16.59it/s]\n",
      "Generating walks (CPU: 1): 100%|███████████████████████████████████████████████████████| 50/50 [00:01<00:00, 28.88it/s]\n",
      "Computing transition probabilities: 100%|████████████████████████████████████████████| 108/108 [00:05<00:00, 20.25it/s]\n",
      "Generating walks (CPU: 1): 100%|███████████████████████████████████████████████████████| 50/50 [00:01<00:00, 28.20it/s]\n",
      "Computing transition probabilities: 100%|██████████████████████████████████████████████| 94/94 [00:03<00:00, 25.09it/s]\n",
      "Generating walks (CPU: 1): 100%|███████████████████████████████████████████████████████| 50/50 [00:01<00:00, 40.14it/s]\n",
      "Computing transition probabilities: 100%|██████████████████████████████████████████████| 66/66 [00:01<00:00, 44.56it/s]\n",
      "Generating walks (CPU: 1): 100%|███████████████████████████████████████████████████████| 50/50 [00:01<00:00, 49.59it/s]\n",
      "Computing transition probabilities: 100%|████████████████████████████████████████████| 108/108 [00:05<00:00, 19.95it/s]\n",
      "Generating walks (CPU: 1): 100%|███████████████████████████████████████████████████████| 50/50 [00:01<00:00, 26.44it/s]\n",
      "Computing transition probabilities: 100%|██████████████████████████████████████████████| 82/82 [00:02<00:00, 29.62it/s]\n",
      "Generating walks (CPU: 1): 100%|███████████████████████████████████████████████████████| 50/50 [00:01<00:00, 26.65it/s]\n",
      "Computing transition probabilities: 100%|████████████████████████████████████████████| 115/115 [00:08<00:00, 13.18it/s]\n",
      "Generating walks (CPU: 1): 100%|███████████████████████████████████████████████████████| 50/50 [00:02<00:00, 17.81it/s]\n",
      "Computing transition probabilities: 100%|██████████████████████████████████████████████| 98/98 [00:04<00:00, 19.92it/s]\n",
      "Generating walks (CPU: 1): 100%|███████████████████████████████████████████████████████| 50/50 [00:02<00:00, 23.15it/s]\n",
      "Computing transition probabilities: 100%|██████████████████████████████████████████████| 89/89 [00:04<00:00, 18.83it/s]\n",
      "Generating walks (CPU: 1): 100%|███████████████████████████████████████████████████████| 50/50 [00:01<00:00, 29.93it/s]\n",
      "Computing transition probabilities: 100%|██████████████████████████████████████████████| 80/80 [00:03<00:00, 20.52it/s]\n",
      "Generating walks (CPU: 1): 100%|███████████████████████████████████████████████████████| 50/50 [00:01<00:00, 31.35it/s]\n",
      "Computing transition probabilities: 100%|████████████████████████████████████████████| 111/111 [00:08<00:00, 13.79it/s]\n",
      "Generating walks (CPU: 1): 100%|███████████████████████████████████████████████████████| 50/50 [00:01<00:00, 26.30it/s]\n",
      "Computing transition probabilities: 100%|████████████████████████████████████████████| 103/103 [00:04<00:00, 20.84it/s]\n",
      "Generating walks (CPU: 1): 100%|███████████████████████████████████████████████████████| 50/50 [00:01<00:00, 28.52it/s]\n",
      "Computing transition probabilities: 100%|██████████████████████████████████████████████| 83/83 [00:02<00:00, 29.15it/s]\n",
      "Generating walks (CPU: 1): 100%|███████████████████████████████████████████████████████| 50/50 [00:01<00:00, 32.98it/s]\n",
      "Computing transition probabilities: 100%|██████████████████████████████████████████████| 86/86 [00:03<00:00, 24.83it/s]\n",
      "Generating walks (CPU: 1): 100%|███████████████████████████████████████████████████████| 50/50 [00:01<00:00, 37.14it/s]\n",
      "Computing transition probabilities: 100%|██████████████████████████████████████████████| 71/71 [00:01<00:00, 44.72it/s]\n",
      "Generating walks (CPU: 1): 100%|███████████████████████████████████████████████████████| 50/50 [00:01<00:00, 45.92it/s]\n",
      "Computing transition probabilities: 100%|████████████████████████████████████████████| 107/107 [00:05<00:00, 18.63it/s]\n",
      "Generating walks (CPU: 1): 100%|███████████████████████████████████████████████████████| 50/50 [00:01<00:00, 25.79it/s]\n",
      "Computing transition probabilities: 100%|████████████████████████████████████████████| 112/112 [00:06<00:00, 17.57it/s]\n",
      "Generating walks (CPU: 1): 100%|███████████████████████████████████████████████████████| 50/50 [00:01<00:00, 29.63it/s]\n",
      "Computing transition probabilities: 100%|██████████████████████████████████████████████| 61/61 [00:01<00:00, 49.77it/s]\n",
      "Generating walks (CPU: 1): 100%|███████████████████████████████████████████████████████| 50/50 [00:01<00:00, 42.41it/s]\n",
      "Computing transition probabilities: 100%|██████████████████████████████████████████████| 98/98 [00:03<00:00, 27.28it/s]\n",
      "Generating walks (CPU: 1): 100%|███████████████████████████████████████████████████████| 50/50 [00:01<00:00, 29.27it/s]\n",
      "Computing transition probabilities: 100%|██████████████████████████████████████████████| 87/87 [00:03<00:00, 28.78it/s]\n",
      "Generating walks (CPU: 1): 100%|███████████████████████████████████████████████████████| 50/50 [00:01<00:00, 34.36it/s]\n",
      "Computing transition probabilities: 100%|██████████████████████████████████████████████| 77/77 [00:02<00:00, 26.18it/s]\n",
      "Generating walks (CPU: 1): 100%|███████████████████████████████████████████████████████| 50/50 [00:01<00:00, 40.63it/s]\n",
      "Computing transition probabilities: 100%|██████████████████████████████████████████████| 73/73 [00:02<00:00, 35.51it/s]\n",
      "Generating walks (CPU: 1): 100%|███████████████████████████████████████████████████████| 50/50 [00:01<00:00, 34.20it/s]\n",
      "Computing transition probabilities: 100%|██████████████████████████████████████████████| 94/94 [00:04<00:00, 22.48it/s]\n",
      "Generating walks (CPU: 1): 100%|███████████████████████████████████████████████████████| 50/50 [00:01<00:00, 30.51it/s]\n",
      "Computing transition probabilities: 100%|██████████████████████████████████████████████| 98/98 [00:05<00:00, 18.43it/s]\n",
      "Generating walks (CPU: 1): 100%|███████████████████████████████████████████████████████| 50/50 [00:01<00:00, 32.90it/s]\n",
      "Computing transition probabilities: 100%|██████████████████████████████████████████████| 98/98 [00:04<00:00, 22.53it/s]\n",
      "Generating walks (CPU: 1): 100%|███████████████████████████████████████████████████████| 50/50 [00:01<00:00, 37.67it/s]\n",
      "Computing transition probabilities: 100%|████████████████████████████████████████████| 100/100 [00:05<00:00, 19.66it/s]\n",
      "Generating walks (CPU: 1): 100%|███████████████████████████████████████████████████████| 50/50 [00:01<00:00, 27.23it/s]\n",
      "Computing transition probabilities: 100%|██████████████████████████████████████████████| 99/99 [00:05<00:00, 19.09it/s]\n",
      "Generating walks (CPU: 1): 100%|███████████████████████████████████████████████████████| 50/50 [00:02<00:00, 24.23it/s]\n",
      "Computing transition probabilities: 100%|██████████████████████████████████████████████| 98/98 [00:05<00:00, 19.44it/s]\n",
      "Generating walks (CPU: 1): 100%|███████████████████████████████████████████████████████| 50/50 [00:01<00:00, 27.06it/s]\n",
      "Computing transition probabilities: 100%|██████████████████████████████████████████████| 63/63 [00:01<00:00, 38.56it/s]\n",
      "Generating walks (CPU: 1): 100%|███████████████████████████████████████████████████████| 50/50 [00:01<00:00, 44.05it/s]\n",
      "Computing transition probabilities: 100%|██████████████████████████████████████████████| 94/94 [00:04<00:00, 18.85it/s]\n",
      "Generating walks (CPU: 1): 100%|███████████████████████████████████████████████████████| 50/50 [00:01<00:00, 28.62it/s]\n",
      "Computing transition probabilities: 100%|██████████████████████████████████████████████| 98/98 [00:07<00:00, 13.78it/s]\n",
      "Generating walks (CPU: 1): 100%|███████████████████████████████████████████████████████| 50/50 [00:03<00:00, 16.01it/s]\n",
      "Computing transition probabilities: 100%|████████████████████████████████████████████| 100/100 [00:08<00:00, 12.38it/s]\n",
      "Generating walks (CPU: 1): 100%|███████████████████████████████████████████████████████| 50/50 [00:02<00:00, 23.98it/s]\n",
      "Computing transition probabilities: 100%|████████████████████████████████████████████| 100/100 [00:07<00:00, 13.22it/s]\n",
      "Generating walks (CPU: 1): 100%|███████████████████████████████████████████████████████| 50/50 [00:02<00:00, 22.47it/s]\n",
      "Computing transition probabilities: 100%|██████████████████████████████████████████████| 89/89 [00:04<00:00, 20.40it/s]\n",
      "Generating walks (CPU: 1): 100%|███████████████████████████████████████████████████████| 50/50 [00:01<00:00, 30.79it/s]\n",
      "Computing transition probabilities: 100%|██████████████████████████████████████████████| 95/95 [00:05<00:00, 15.85it/s]\n",
      "Generating walks (CPU: 1): 100%|███████████████████████████████████████████████████████| 50/50 [00:01<00:00, 30.38it/s]\n",
      "Computing transition probabilities: 100%|██████████████████████████████████████████████| 75/75 [00:02<00:00, 25.84it/s]\n",
      "Generating walks (CPU: 1): 100%|███████████████████████████████████████████████████████| 50/50 [00:01<00:00, 41.71it/s]\n",
      "Computing transition probabilities: 100%|██████████████████████████████████████████████| 83/83 [00:02<00:00, 35.54it/s]\n",
      "Generating walks (CPU: 1): 100%|███████████████████████████████████████████████████████| 50/50 [00:01<00:00, 31.65it/s]\n",
      "Computing transition probabilities: 100%|██████████████████████████████████████████████| 88/88 [00:02<00:00, 31.67it/s]\n",
      "Generating walks (CPU: 1): 100%|███████████████████████████████████████████████████████| 50/50 [00:01<00:00, 36.30it/s]\n"
     ]
    },
    {
     "name": "stderr",
     "output_type": "stream",
     "text": [
      "Computing transition probabilities: 100%|█████████████████████████████████████████████| 43/43 [00:00<00:00, 147.65it/s]\n",
      "Generating walks (CPU: 1): 100%|███████████████████████████████████████████████████████| 50/50 [00:00<00:00, 96.78it/s]\n",
      "Computing transition probabilities: 100%|██████████████████████████████████████████████| 95/95 [00:03<00:00, 24.66it/s]\n",
      "Generating walks (CPU: 1): 100%|███████████████████████████████████████████████████████| 50/50 [00:01<00:00, 26.71it/s]\n",
      "Computing transition probabilities: 100%|██████████████████████████████████████████████| 94/94 [00:04<00:00, 23.29it/s]\n",
      "Generating walks (CPU: 1): 100%|███████████████████████████████████████████████████████| 50/50 [00:01<00:00, 38.42it/s]\n",
      "Computing transition probabilities: 100%|██████████████████████████████████████████████| 92/92 [00:03<00:00, 28.41it/s]\n",
      "Generating walks (CPU: 1): 100%|███████████████████████████████████████████████████████| 50/50 [00:01<00:00, 32.79it/s]\n",
      "Computing transition probabilities: 100%|████████████████████████████████████████████| 101/101 [00:06<00:00, 15.42it/s]\n",
      "Generating walks (CPU: 1): 100%|███████████████████████████████████████████████████████| 50/50 [00:02<00:00, 19.61it/s]\n",
      "Computing transition probabilities: 100%|██████████████████████████████████████████████| 90/90 [00:03<00:00, 24.46it/s]\n",
      "Generating walks (CPU: 1): 100%|███████████████████████████████████████████████████████| 50/50 [00:02<00:00, 18.82it/s]\n",
      "Computing transition probabilities: 100%|██████████████████████████████████████████████| 89/89 [00:04<00:00, 20.46it/s]\n",
      "Generating walks (CPU: 1): 100%|███████████████████████████████████████████████████████| 50/50 [00:01<00:00, 27.90it/s]\n",
      "Computing transition probabilities: 100%|████████████████████████████████████████████| 103/103 [00:05<00:00, 19.09it/s]\n",
      "Generating walks (CPU: 1): 100%|███████████████████████████████████████████████████████| 50/50 [00:01<00:00, 31.14it/s]\n",
      "Computing transition probabilities: 100%|████████████████████████████████████████████| 108/108 [00:06<00:00, 16.49it/s]\n",
      "Generating walks (CPU: 1): 100%|███████████████████████████████████████████████████████| 50/50 [00:02<00:00, 22.57it/s]\n",
      "Computing transition probabilities: 100%|██████████████████████████████████████████████| 99/99 [00:04<00:00, 22.51it/s]\n",
      "Generating walks (CPU: 1): 100%|███████████████████████████████████████████████████████| 50/50 [00:01<00:00, 30.33it/s]\n",
      "Computing transition probabilities: 100%|██████████████████████████████████████████████| 93/93 [00:03<00:00, 27.66it/s]\n",
      "Generating walks (CPU: 1): 100%|███████████████████████████████████████████████████████| 50/50 [00:01<00:00, 25.53it/s]\n",
      "Computing transition probabilities: 100%|█████████████████████████████████████████████| 47/47 [00:00<00:00, 103.35it/s]\n",
      "Generating walks (CPU: 1): 100%|███████████████████████████████████████████████████████| 50/50 [00:00<00:00, 64.52it/s]\n",
      "Computing transition probabilities: 100%|████████████████████████████████████████████| 109/109 [00:07<00:00, 15.05it/s]\n",
      "Generating walks (CPU: 1): 100%|███████████████████████████████████████████████████████| 50/50 [00:01<00:00, 31.65it/s]\n",
      "Computing transition probabilities: 100%|██████████████████████████████████████████████| 93/93 [00:03<00:00, 25.04it/s]\n",
      "Generating walks (CPU: 1): 100%|███████████████████████████████████████████████████████| 50/50 [00:01<00:00, 37.49it/s]\n",
      "Computing transition probabilities: 100%|██████████████████████████████████████████████| 90/90 [00:02<00:00, 32.24it/s]\n",
      "Generating walks (CPU: 1): 100%|███████████████████████████████████████████████████████| 50/50 [00:01<00:00, 33.94it/s]\n",
      "Computing transition probabilities: 100%|██████████████████████████████████████████████| 97/97 [00:03<00:00, 26.73it/s]\n",
      "Generating walks (CPU: 1): 100%|███████████████████████████████████████████████████████| 50/50 [00:01<00:00, 39.57it/s]\n",
      "Computing transition probabilities: 100%|█████████████████████████████████████████████| 51/51 [00:00<00:00, 100.86it/s]\n",
      "Generating walks (CPU: 1): 100%|███████████████████████████████████████████████████████| 50/50 [00:00<00:00, 72.76it/s]\n",
      "Computing transition probabilities: 100%|██████████████████████████████████████████████| 90/90 [00:03<00:00, 28.92it/s]\n",
      "Generating walks (CPU: 1): 100%|███████████████████████████████████████████████████████| 50/50 [00:01<00:00, 41.43it/s]\n",
      "Computing transition probabilities: 100%|████████████████████████████████████████████| 109/109 [00:05<00:00, 18.78it/s]\n",
      "Generating walks (CPU: 1): 100%|███████████████████████████████████████████████████████| 50/50 [00:01<00:00, 29.89it/s]\n",
      "Computing transition probabilities: 100%|██████████████████████████████████████████████| 87/87 [00:02<00:00, 31.61it/s]\n",
      "Generating walks (CPU: 1): 100%|███████████████████████████████████████████████████████| 50/50 [00:01<00:00, 37.95it/s]\n",
      "Computing transition probabilities: 100%|██████████████████████████████████████████████| 69/69 [00:01<00:00, 53.55it/s]\n",
      "Generating walks (CPU: 1): 100%|███████████████████████████████████████████████████████| 50/50 [00:00<00:00, 57.82it/s]\n",
      "Computing transition probabilities: 100%|████████████████████████████████████████████| 100/100 [00:04<00:00, 22.02it/s]\n",
      "Generating walks (CPU: 1): 100%|███████████████████████████████████████████████████████| 50/50 [00:01<00:00, 32.41it/s]\n",
      "Computing transition probabilities: 100%|██████████████████████████████████████████████| 97/97 [00:04<00:00, 23.39it/s]\n",
      "Generating walks (CPU: 1): 100%|███████████████████████████████████████████████████████| 50/50 [00:01<00:00, 27.79it/s]\n",
      "Computing transition probabilities: 100%|████████████████████████████████████████████| 101/101 [00:04<00:00, 22.72it/s]\n",
      "Generating walks (CPU: 1): 100%|███████████████████████████████████████████████████████| 50/50 [00:02<00:00, 22.39it/s]\n",
      "Computing transition probabilities: 100%|██████████████████████████████████████████████| 91/91 [00:03<00:00, 23.38it/s]\n",
      "Generating walks (CPU: 1): 100%|███████████████████████████████████████████████████████| 50/50 [00:01<00:00, 40.17it/s]\n",
      "Computing transition probabilities: 100%|██████████████████████████████████████████████| 90/90 [00:03<00:00, 27.88it/s]\n",
      "Generating walks (CPU: 1): 100%|███████████████████████████████████████████████████████| 50/50 [00:01<00:00, 40.69it/s]\n",
      "Computing transition probabilities: 100%|██████████████████████████████████████████████| 61/61 [00:00<00:00, 75.60it/s]\n",
      "Generating walks (CPU: 1): 100%|███████████████████████████████████████████████████████| 50/50 [00:00<00:00, 61.06it/s]\n",
      "Computing transition probabilities: 100%|████████████████████████████████████████████| 109/109 [00:05<00:00, 21.37it/s]\n",
      "Generating walks (CPU: 1): 100%|███████████████████████████████████████████████████████| 50/50 [00:01<00:00, 28.78it/s]\n",
      "Computing transition probabilities: 100%|████████████████████████████████████████████| 105/105 [00:04<00:00, 22.71it/s]\n",
      "Generating walks (CPU: 1): 100%|███████████████████████████████████████████████████████| 50/50 [00:01<00:00, 33.29it/s]\n",
      "Computing transition probabilities: 100%|██████████████████████████████████████████████| 84/84 [00:02<00:00, 38.04it/s]\n",
      "Generating walks (CPU: 1): 100%|███████████████████████████████████████████████████████| 50/50 [00:01<00:00, 37.87it/s]\n",
      "Computing transition probabilities: 100%|██████████████████████████████████████████████| 96/96 [00:03<00:00, 28.06it/s]\n",
      "Generating walks (CPU: 1): 100%|███████████████████████████████████████████████████████| 50/50 [00:01<00:00, 38.91it/s]\n",
      "Computing transition probabilities: 100%|████████████████████████████████████████████| 106/106 [00:04<00:00, 21.26it/s]\n",
      "Generating walks (CPU: 1): 100%|███████████████████████████████████████████████████████| 50/50 [00:01<00:00, 28.49it/s]\n",
      "Computing transition probabilities: 100%|██████████████████████████████████████████████| 94/94 [00:03<00:00, 27.64it/s]\n",
      "Generating walks (CPU: 1): 100%|███████████████████████████████████████████████████████| 50/50 [00:01<00:00, 38.27it/s]\n",
      "Computing transition probabilities: 100%|████████████████████████████████████████████| 106/106 [00:05<00:00, 20.67it/s]\n",
      "Generating walks (CPU: 1): 100%|███████████████████████████████████████████████████████| 50/50 [00:01<00:00, 29.66it/s]\n",
      "Computing transition probabilities: 100%|██████████████████████████████████████████████| 97/97 [00:04<00:00, 23.86it/s]\n",
      "Generating walks (CPU: 1): 100%|███████████████████████████████████████████████████████| 50/50 [00:01<00:00, 28.85it/s]\n",
      "Computing transition probabilities: 100%|██████████████████████████████████████████████| 89/89 [00:03<00:00, 27.16it/s]\n",
      "Generating walks (CPU: 1): 100%|███████████████████████████████████████████████████████| 50/50 [00:01<00:00, 32.77it/s]\n",
      "Computing transition probabilities: 100%|██████████████████████████████████████████████| 96/96 [00:03<00:00, 25.54it/s]\n",
      "Generating walks (CPU: 1): 100%|███████████████████████████████████████████████████████| 50/50 [00:01<00:00, 35.51it/s]\n",
      "Computing transition probabilities: 100%|██████████████████████████████████████████████| 79/79 [00:01<00:00, 46.13it/s]\n",
      "Generating walks (CPU: 1): 100%|███████████████████████████████████████████████████████| 50/50 [00:01<00:00, 40.79it/s]\n",
      "Computing transition probabilities: 100%|██████████████████████████████████████████████| 96/96 [00:03<00:00, 25.83it/s]\n",
      "Generating walks (CPU: 1): 100%|███████████████████████████████████████████████████████| 50/50 [00:01<00:00, 37.22it/s]\n",
      "Computing transition probabilities: 100%|██████████████████████████████████████████████| 89/89 [00:03<00:00, 27.71it/s]\n",
      "Generating walks (CPU: 1): 100%|███████████████████████████████████████████████████████| 50/50 [00:01<00:00, 40.73it/s]\n",
      "Computing transition probabilities: 100%|██████████████████████████████████████████████| 92/92 [00:03<00:00, 29.81it/s]\n",
      "Generating walks (CPU: 1): 100%|███████████████████████████████████████████████████████| 50/50 [00:01<00:00, 35.18it/s]\n",
      "Computing transition probabilities: 100%|██████████████████████████████████████████████| 72/72 [00:01<00:00, 49.51it/s]\n",
      "Generating walks (CPU: 1): 100%|███████████████████████████████████████████████████████| 50/50 [00:00<00:00, 51.05it/s]\n",
      "Computing transition probabilities: 100%|██████████████████████████████████████████████| 93/93 [00:02<00:00, 31.19it/s]\n",
      "Generating walks (CPU: 1): 100%|███████████████████████████████████████████████████████| 50/50 [00:01<00:00, 33.83it/s]\n",
      "Computing transition probabilities: 100%|██████████████████████████████████████████████| 49/49 [00:00<00:00, 75.59it/s]\n",
      "Generating walks (CPU: 1): 100%|███████████████████████████████████████████████████████| 50/50 [00:00<00:00, 79.08it/s]\n",
      "Computing transition probabilities: 100%|██████████████████████████████████████████████| 78/78 [00:01<00:00, 46.97it/s]\n",
      "Generating walks (CPU: 1): 100%|███████████████████████████████████████████████████████| 50/50 [00:01<00:00, 42.78it/s]\n",
      "Computing transition probabilities: 100%|████████████████████████████████████████████| 101/101 [00:04<00:00, 22.09it/s]\n",
      "Generating walks (CPU: 1): 100%|███████████████████████████████████████████████████████| 50/50 [00:01<00:00, 29.11it/s]\n",
      "Computing transition probabilities: 100%|██████████████████████████████████████████████| 85/85 [00:02<00:00, 34.70it/s]\n",
      "Generating walks (CPU: 1): 100%|███████████████████████████████████████████████████████| 50/50 [00:01<00:00, 40.17it/s]\n",
      "Computing transition probabilities: 100%|██████████████████████████████████████████████| 84/84 [00:02<00:00, 32.85it/s]\n",
      "Generating walks (CPU: 1): 100%|███████████████████████████████████████████████████████| 50/50 [00:01<00:00, 43.86it/s]\n",
      "Computing transition probabilities: 100%|████████████████████████████████████████████| 103/103 [00:04<00:00, 23.69it/s]\n",
      "Generating walks (CPU: 1): 100%|███████████████████████████████████████████████████████| 50/50 [00:01<00:00, 32.87it/s]\n",
      "Computing transition probabilities: 100%|██████████████████████████████████████████████| 88/88 [00:02<00:00, 31.61it/s]\n",
      "Generating walks (CPU: 1): 100%|███████████████████████████████████████████████████████| 50/50 [00:01<00:00, 29.86it/s]\n",
      "Computing transition probabilities: 100%|████████████████████████████████████████████| 111/111 [00:07<00:00, 15.76it/s]\n",
      "Generating walks (CPU: 1): 100%|███████████████████████████████████████████████████████| 50/50 [00:01<00:00, 27.55it/s]\n",
      "Computing transition probabilities: 100%|██████████████████████████████████████████████| 91/91 [00:02<00:00, 32.85it/s]\n",
      "Generating walks (CPU: 1): 100%|███████████████████████████████████████████████████████| 50/50 [00:01<00:00, 38.56it/s]\n",
      "Computing transition probabilities: 100%|████████████████████████████████████████████| 101/101 [00:04<00:00, 22.35it/s]\n",
      "Generating walks (CPU: 1): 100%|███████████████████████████████████████████████████████| 50/50 [00:01<00:00, 35.51it/s]\n",
      "Computing transition probabilities: 100%|██████████████████████████████████████████████| 65/65 [00:01<00:00, 56.67it/s]\n",
      "Generating walks (CPU: 1): 100%|███████████████████████████████████████████████████████| 50/50 [00:01<00:00, 46.38it/s]\n",
      "Computing transition probabilities: 100%|████████████████████████████████████████████| 102/102 [00:04<00:00, 25.05it/s]\n",
      "Generating walks (CPU: 1): 100%|███████████████████████████████████████████████████████| 50/50 [00:01<00:00, 29.60it/s]\n",
      "Computing transition probabilities: 100%|██████████████████████████████████████████████| 89/89 [00:02<00:00, 31.84it/s]\n",
      "Generating walks (CPU: 1): 100%|███████████████████████████████████████████████████████| 50/50 [00:01<00:00, 35.25it/s]\n",
      "Computing transition probabilities: 100%|██████████████████████████████████████████████| 84/84 [00:02<00:00, 38.55it/s]\n",
      "Generating walks (CPU: 1): 100%|███████████████████████████████████████████████████████| 50/50 [00:01<00:00, 38.71it/s]\n",
      "Computing transition probabilities: 100%|██████████████████████████████████████████████| 75/75 [00:02<00:00, 37.23it/s]\n",
      "Generating walks (CPU: 1): 100%|███████████████████████████████████████████████████████| 50/50 [00:01<00:00, 46.33it/s]\n",
      "Computing transition probabilities: 100%|██████████████████████████████████████████████| 97/97 [00:03<00:00, 25.96it/s]\n",
      "Generating walks (CPU: 1): 100%|███████████████████████████████████████████████████████| 50/50 [00:01<00:00, 33.05it/s]\n",
      "Computing transition probabilities: 100%|██████████████████████████████████████████████| 86/86 [00:02<00:00, 34.54it/s]\n",
      "Generating walks (CPU: 1): 100%|███████████████████████████████████████████████████████| 50/50 [00:01<00:00, 40.69it/s]\n",
      "Computing transition probabilities: 100%|██████████████████████████████████████████████| 62/62 [00:01<00:00, 48.57it/s]\n",
      "Generating walks (CPU: 1): 100%|███████████████████████████████████████████████████████| 50/50 [00:01<00:00, 44.29it/s]\n",
      "Computing transition probabilities: 100%|██████████████████████████████████████████████| 72/72 [00:01<00:00, 45.12it/s]\n",
      "Generating walks (CPU: 1): 100%|███████████████████████████████████████████████████████| 50/50 [00:00<00:00, 55.46it/s]\n",
      "Computing transition probabilities: 100%|██████████████████████████████████████████████| 93/93 [00:03<00:00, 30.45it/s]\n",
      "Generating walks (CPU: 1): 100%|███████████████████████████████████████████████████████| 50/50 [00:01<00:00, 34.53it/s]\n",
      "Computing transition probabilities: 100%|██████████████████████████████████████████████| 94/94 [00:03<00:00, 24.97it/s]\n",
      "Generating walks (CPU: 1): 100%|███████████████████████████████████████████████████████| 50/50 [00:01<00:00, 30.06it/s]\n"
     ]
    },
    {
     "name": "stdout",
     "output_type": "stream",
     "text": [
      "\n"
     ]
    },
    {
     "data": {
      "application/vnd.jupyter.widget-view+json": {
       "model_id": "ff9e866df54e403396eb6cfd442917e3",
       "version_major": 2,
       "version_minor": 0
      },
      "text/plain": [
       "HBox(children=(IntProgress(value=1, bar_style='info', max=1), HTML(value='')))"
      ]
     },
     "metadata": {},
     "output_type": "display_data"
    },
    {
     "name": "stdout",
     "output_type": "stream",
     "text": [
      "\n"
     ]
    },
    {
     "name": "stderr",
     "output_type": "stream",
     "text": [
      "C:\\Users\\Stefano\\.conda\\envs\\base2\\lib\\site-packages\\sklearn\\linear_model\\logistic.py:432: FutureWarning: Default solver will be changed to 'lbfgs' in 0.22. Specify a solver to silence this warning.\n",
      "  FutureWarning)\n"
     ]
    },
    {
     "data": {
      "application/vnd.jupyter.widget-view+json": {
       "model_id": "1b72316f4ef2427cab56706cda469fa0",
       "version_major": 2,
       "version_minor": 0
      },
      "text/plain": [
       "HBox(children=(IntProgress(value=1, bar_style='info', max=1), HTML(value='')))"
      ]
     },
     "metadata": {},
     "output_type": "display_data"
    },
    {
     "name": "stdout",
     "output_type": "stream",
     "text": [
      "\n",
      "0.9075927417677381\n"
     ]
    }
   ],
   "source": [
    "from NodeTransformerExtremeTrees import NodeTransformerExtremeTrees\n",
    "\n",
    "estimators = [('scale', StandardScaler()), ('rfne', NodeTransformerExtremeTrees(n_estimators=200,max_depth=7,dimension=10)), ('logreg',LogisticRegression())]\n",
    "pipee = Pipeline(estimators)\n",
    "\n",
    "pipee.fit(X_train,y_train)   \n",
    "\n",
    "print(roc_auc_score(y_test, pipee.predict_proba(X_test)[:,1]))"
   ]
  }
 ],
 "metadata": {
  "kernelspec": {
   "display_name": "Python 3 (ipykernel)",
   "language": "python",
   "name": "python3"
  },
  "language_info": {
   "codemirror_mode": {
    "name": "ipython",
    "version": 3
   },
   "file_extension": ".py",
   "mimetype": "text/x-python",
   "name": "python",
   "nbconvert_exporter": "python",
   "pygments_lexer": "ipython3",
   "version": "3.11.5"
  },
  "toc": {
   "base_numbering": 1,
   "nav_menu": {},
   "number_sections": false,
   "sideBar": false,
   "skip_h1_title": false,
   "title_cell": "Table of Contents",
   "title_sidebar": "Contents",
   "toc_cell": false,
   "toc_position": {},
   "toc_section_display": false,
   "toc_window_display": false
  }
 },
 "nbformat": 4,
 "nbformat_minor": 4
}
